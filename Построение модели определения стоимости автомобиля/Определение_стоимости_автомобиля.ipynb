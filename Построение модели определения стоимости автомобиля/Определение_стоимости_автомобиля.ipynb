{
  "cells": [
    {
      "cell_type": "markdown",
      "metadata": {
        "id": "YP3MvoKjos5h"
      },
      "source": [
        "# Определение стоимости автомобилей"
      ]
    },
    {
      "cell_type": "markdown",
      "metadata": {
        "id": "CMdH21fBos5h"
      },
      "source": [
        "Сервис по продаже автомобилей с пробегом «Не бит, не крашен» разрабатывает приложение для привлечения новых клиентов. В нём можно быстро узнать рыночную стоимость своего автомобиля. В вашем распоряжении исторические данные: технические характеристики, комплектации и цены автомобилей. Вам нужно построить модель для определения стоимости.\n",
        "\n",
        "Заказчику важны:\n",
        "\n",
        "- качество предсказания;\n",
        "- скорость предсказания;\n",
        "- время обучения."
      ]
    },
    {
      "cell_type": "markdown",
      "metadata": {
        "id": "_rM5TVyfos5i"
      },
      "source": [
        "## Подготовка данных"
      ]
    },
    {
      "cell_type": "code",
      "execution_count": null,
      "metadata": {
        "id": "SnH_1IrVos5i"
      },
      "outputs": [],
      "source": [
        "import pandas as pd\n",
        "import numpy as np\n",
        "import matplotlib.pyplot as plt\n",
        "\n",
        "from sklearn.linear_model import LinearRegression\n",
        "from sklearn.ensemble import RandomForestRegressor\n",
        "from lightgbm import LGBMRegressor\n",
        "from catboost import CatBoostRegressor\n",
        "\n",
        "from sklearn.metrics import mean_squared_error\n",
        "from sklearn.model_selection import GridSearchCV, train_test_split"
      ]
    },
    {
      "cell_type": "markdown",
      "metadata": {
        "id": "14pVW36Zos5k"
      },
      "source": [
        "Загрузим и изучим исходные данные:"
      ]
    },
    {
      "cell_type": "code",
      "execution_count": null,
      "metadata": {
        "id": "-zkV11TEos5k"
      },
      "outputs": [],
      "source": [
        "data = pd.read_csv('/datasets/autos.csv')"
      ]
    },
    {
      "cell_type": "code",
      "execution_count": null,
      "metadata": {
        "id": "YjdIiWn9os5k",
        "outputId": "d1ffca06-0344-4bee-967c-8c599dddcd49"
      },
      "outputs": [
        {
          "data": {
            "text/html": [
              "<div>\n",
              "<style scoped>\n",
              "    .dataframe tbody tr th:only-of-type {\n",
              "        vertical-align: middle;\n",
              "    }\n",
              "\n",
              "    .dataframe tbody tr th {\n",
              "        vertical-align: top;\n",
              "    }\n",
              "\n",
              "    .dataframe thead th {\n",
              "        text-align: right;\n",
              "    }\n",
              "</style>\n",
              "<table border=\"1\" class=\"dataframe\">\n",
              "  <thead>\n",
              "    <tr style=\"text-align: right;\">\n",
              "      <th></th>\n",
              "      <th>DateCrawled</th>\n",
              "      <th>Price</th>\n",
              "      <th>VehicleType</th>\n",
              "      <th>RegistrationYear</th>\n",
              "      <th>Gearbox</th>\n",
              "      <th>Power</th>\n",
              "      <th>Model</th>\n",
              "      <th>Kilometer</th>\n",
              "      <th>RegistrationMonth</th>\n",
              "      <th>FuelType</th>\n",
              "      <th>Brand</th>\n",
              "      <th>Repaired</th>\n",
              "      <th>DateCreated</th>\n",
              "      <th>NumberOfPictures</th>\n",
              "      <th>PostalCode</th>\n",
              "      <th>LastSeen</th>\n",
              "    </tr>\n",
              "  </thead>\n",
              "  <tbody>\n",
              "    <tr>\n",
              "      <th>0</th>\n",
              "      <td>2016-03-24 11:52:17</td>\n",
              "      <td>480</td>\n",
              "      <td>NaN</td>\n",
              "      <td>1993</td>\n",
              "      <td>manual</td>\n",
              "      <td>0</td>\n",
              "      <td>golf</td>\n",
              "      <td>150000</td>\n",
              "      <td>0</td>\n",
              "      <td>petrol</td>\n",
              "      <td>volkswagen</td>\n",
              "      <td>NaN</td>\n",
              "      <td>2016-03-24 00:00:00</td>\n",
              "      <td>0</td>\n",
              "      <td>70435</td>\n",
              "      <td>2016-04-07 03:16:57</td>\n",
              "    </tr>\n",
              "    <tr>\n",
              "      <th>1</th>\n",
              "      <td>2016-03-24 10:58:45</td>\n",
              "      <td>18300</td>\n",
              "      <td>coupe</td>\n",
              "      <td>2011</td>\n",
              "      <td>manual</td>\n",
              "      <td>190</td>\n",
              "      <td>NaN</td>\n",
              "      <td>125000</td>\n",
              "      <td>5</td>\n",
              "      <td>gasoline</td>\n",
              "      <td>audi</td>\n",
              "      <td>yes</td>\n",
              "      <td>2016-03-24 00:00:00</td>\n",
              "      <td>0</td>\n",
              "      <td>66954</td>\n",
              "      <td>2016-04-07 01:46:50</td>\n",
              "    </tr>\n",
              "    <tr>\n",
              "      <th>2</th>\n",
              "      <td>2016-03-14 12:52:21</td>\n",
              "      <td>9800</td>\n",
              "      <td>suv</td>\n",
              "      <td>2004</td>\n",
              "      <td>auto</td>\n",
              "      <td>163</td>\n",
              "      <td>grand</td>\n",
              "      <td>125000</td>\n",
              "      <td>8</td>\n",
              "      <td>gasoline</td>\n",
              "      <td>jeep</td>\n",
              "      <td>NaN</td>\n",
              "      <td>2016-03-14 00:00:00</td>\n",
              "      <td>0</td>\n",
              "      <td>90480</td>\n",
              "      <td>2016-04-05 12:47:46</td>\n",
              "    </tr>\n",
              "    <tr>\n",
              "      <th>3</th>\n",
              "      <td>2016-03-17 16:54:04</td>\n",
              "      <td>1500</td>\n",
              "      <td>small</td>\n",
              "      <td>2001</td>\n",
              "      <td>manual</td>\n",
              "      <td>75</td>\n",
              "      <td>golf</td>\n",
              "      <td>150000</td>\n",
              "      <td>6</td>\n",
              "      <td>petrol</td>\n",
              "      <td>volkswagen</td>\n",
              "      <td>no</td>\n",
              "      <td>2016-03-17 00:00:00</td>\n",
              "      <td>0</td>\n",
              "      <td>91074</td>\n",
              "      <td>2016-03-17 17:40:17</td>\n",
              "    </tr>\n",
              "    <tr>\n",
              "      <th>4</th>\n",
              "      <td>2016-03-31 17:25:20</td>\n",
              "      <td>3600</td>\n",
              "      <td>small</td>\n",
              "      <td>2008</td>\n",
              "      <td>manual</td>\n",
              "      <td>69</td>\n",
              "      <td>fabia</td>\n",
              "      <td>90000</td>\n",
              "      <td>7</td>\n",
              "      <td>gasoline</td>\n",
              "      <td>skoda</td>\n",
              "      <td>no</td>\n",
              "      <td>2016-03-31 00:00:00</td>\n",
              "      <td>0</td>\n",
              "      <td>60437</td>\n",
              "      <td>2016-04-06 10:17:21</td>\n",
              "    </tr>\n",
              "  </tbody>\n",
              "</table>\n",
              "</div>"
            ],
            "text/plain": [
              "           DateCrawled  Price VehicleType  RegistrationYear Gearbox  Power  \\\n",
              "0  2016-03-24 11:52:17    480         NaN              1993  manual      0   \n",
              "1  2016-03-24 10:58:45  18300       coupe              2011  manual    190   \n",
              "2  2016-03-14 12:52:21   9800         suv              2004    auto    163   \n",
              "3  2016-03-17 16:54:04   1500       small              2001  manual     75   \n",
              "4  2016-03-31 17:25:20   3600       small              2008  manual     69   \n",
              "\n",
              "   Model  Kilometer  RegistrationMonth  FuelType       Brand Repaired  \\\n",
              "0   golf     150000                  0    petrol  volkswagen      NaN   \n",
              "1    NaN     125000                  5  gasoline        audi      yes   \n",
              "2  grand     125000                  8  gasoline        jeep      NaN   \n",
              "3   golf     150000                  6    petrol  volkswagen       no   \n",
              "4  fabia      90000                  7  gasoline       skoda       no   \n",
              "\n",
              "           DateCreated  NumberOfPictures  PostalCode             LastSeen  \n",
              "0  2016-03-24 00:00:00                 0       70435  2016-04-07 03:16:57  \n",
              "1  2016-03-24 00:00:00                 0       66954  2016-04-07 01:46:50  \n",
              "2  2016-03-14 00:00:00                 0       90480  2016-04-05 12:47:46  \n",
              "3  2016-03-17 00:00:00                 0       91074  2016-03-17 17:40:17  \n",
              "4  2016-03-31 00:00:00                 0       60437  2016-04-06 10:17:21  "
            ]
          },
          "execution_count": 3,
          "metadata": {},
          "output_type": "execute_result"
        }
      ],
      "source": [
        "data.head()"
      ]
    },
    {
      "cell_type": "code",
      "execution_count": null,
      "metadata": {
        "id": "aIW6WtTios5l",
        "outputId": "220bb974-510f-4c4a-e953-e5e4c35dc5ac"
      },
      "outputs": [
        {
          "name": "stdout",
          "output_type": "stream",
          "text": [
            "<class 'pandas.core.frame.DataFrame'>\n",
            "RangeIndex: 354369 entries, 0 to 354368\n",
            "Data columns (total 16 columns):\n",
            " #   Column             Non-Null Count   Dtype \n",
            "---  ------             --------------   ----- \n",
            " 0   DateCrawled        354369 non-null  object\n",
            " 1   Price              354369 non-null  int64 \n",
            " 2   VehicleType        316879 non-null  object\n",
            " 3   RegistrationYear   354369 non-null  int64 \n",
            " 4   Gearbox            334536 non-null  object\n",
            " 5   Power              354369 non-null  int64 \n",
            " 6   Model              334664 non-null  object\n",
            " 7   Kilometer          354369 non-null  int64 \n",
            " 8   RegistrationMonth  354369 non-null  int64 \n",
            " 9   FuelType           321474 non-null  object\n",
            " 10  Brand              354369 non-null  object\n",
            " 11  Repaired           283215 non-null  object\n",
            " 12  DateCreated        354369 non-null  object\n",
            " 13  NumberOfPictures   354369 non-null  int64 \n",
            " 14  PostalCode         354369 non-null  int64 \n",
            " 15  LastSeen           354369 non-null  object\n",
            "dtypes: int64(7), object(9)\n",
            "memory usage: 43.3+ MB\n"
          ]
        }
      ],
      "source": [
        "data.info()"
      ]
    },
    {
      "cell_type": "markdown",
      "metadata": {
        "id": "1Ow3GNnwos5l"
      },
      "source": [
        "Можно заметить, что в данных присутствуют пропущенные значения и категориальные признаки, которые необходимо обработать."
      ]
    },
    {
      "cell_type": "markdown",
      "metadata": {
        "id": "YMqdXvjLos5m"
      },
      "source": [
        "Также удалим неинформативные для построения модели признаки:"
      ]
    },
    {
      "cell_type": "code",
      "execution_count": null,
      "metadata": {
        "id": "Y4PDkihKos5m"
      },
      "outputs": [],
      "source": [
        "data.drop(['DateCrawled', 'DateCreated', 'NumberOfPictures', 'PostalCode', 'LastSeen'], axis = 1, inplace=True)"
      ]
    },
    {
      "cell_type": "markdown",
      "metadata": {
        "id": "VED7qf_zos5m"
      },
      "source": [
        "Проверим датасет на наличие дубликатов и удалим найденные:"
      ]
    },
    {
      "cell_type": "code",
      "execution_count": null,
      "metadata": {
        "id": "xHJNQgsLos5m",
        "outputId": "b9a4b0cb-1350-4020-f33b-66511c3af8c8"
      },
      "outputs": [
        {
          "data": {
            "text/plain": [
              "27543"
            ]
          },
          "execution_count": 6,
          "metadata": {},
          "output_type": "execute_result"
        }
      ],
      "source": [
        "data.duplicated().sum()"
      ]
    },
    {
      "cell_type": "code",
      "execution_count": null,
      "metadata": {
        "id": "3Zyps40ios5m"
      },
      "outputs": [],
      "source": [
        "data = data.drop_duplicates().reset_index(drop=True)"
      ]
    },
    {
      "cell_type": "code",
      "execution_count": null,
      "metadata": {
        "id": "sbGAGl9ros5m",
        "outputId": "2485ba07-dbd5-4d26-f832-8b56375a14d0"
      },
      "outputs": [
        {
          "data": {
            "text/plain": [
              "0"
            ]
          },
          "execution_count": 8,
          "metadata": {},
          "output_type": "execute_result"
        }
      ],
      "source": [
        "data.duplicated().sum()"
      ]
    },
    {
      "cell_type": "markdown",
      "metadata": {
        "id": "_nyNYNUuos5n"
      },
      "source": [
        "Проверим количество пропусков в каждом из столбцов:"
      ]
    },
    {
      "cell_type": "code",
      "execution_count": null,
      "metadata": {
        "id": "UVaJ1yldos5n",
        "outputId": "74ae33f6-2502-4577-8a1d-8990fb81808a"
      },
      "outputs": [
        {
          "data": {
            "text/plain": [
              "Price                    0\n",
              "VehicleType          35249\n",
              "RegistrationYear         0\n",
              "Gearbox              17578\n",
              "Power                    0\n",
              "Model                18532\n",
              "Kilometer                0\n",
              "RegistrationMonth        0\n",
              "FuelType             31122\n",
              "Brand                    0\n",
              "Repaired             66427\n",
              "dtype: int64"
            ]
          },
          "execution_count": 9,
          "metadata": {},
          "output_type": "execute_result"
        }
      ],
      "source": [
        "data.isna().sum()"
      ]
    },
    {
      "cell_type": "markdown",
      "metadata": {
        "id": "YUfesur9os5n"
      },
      "source": [
        "Так как восстановить пропущенные значения не представляется возможным, заменим пропуски на значения \"unknown\":"
      ]
    },
    {
      "cell_type": "code",
      "execution_count": null,
      "metadata": {
        "id": "JfFCrtv8os5n"
      },
      "outputs": [],
      "source": [
        "def nan_fill(column):\n",
        "    column.fillna('unknown', inplace=True)\n",
        "    return column"
      ]
    },
    {
      "cell_type": "code",
      "execution_count": null,
      "metadata": {
        "id": "PmVNjuSzos5n",
        "outputId": "db9a861d-ab2f-4005-c8f3-28d17efd111d"
      },
      "outputs": [
        {
          "data": {
            "text/plain": [
              "0         unknown\n",
              "1             yes\n",
              "2         unknown\n",
              "3              no\n",
              "4              no\n",
              "           ...   \n",
              "326821        yes\n",
              "326822    unknown\n",
              "326823         no\n",
              "326824         no\n",
              "326825    unknown\n",
              "Name: Repaired, Length: 326826, dtype: object"
            ]
          },
          "execution_count": 11,
          "metadata": {},
          "output_type": "execute_result"
        }
      ],
      "source": [
        "nan_fill(data['VehicleType'])\n",
        "nan_fill(data['Gearbox'])\n",
        "nan_fill(data['Model'])\n",
        "nan_fill(data['FuelType'])\n",
        "nan_fill(data['Repaired'])"
      ]
    },
    {
      "cell_type": "code",
      "execution_count": null,
      "metadata": {
        "id": "imYLnPbfos5n",
        "outputId": "7473226c-a13c-4125-ff99-d3d1c32b609d"
      },
      "outputs": [
        {
          "data": {
            "text/plain": [
              "Price                0\n",
              "VehicleType          0\n",
              "RegistrationYear     0\n",
              "Gearbox              0\n",
              "Power                0\n",
              "Model                0\n",
              "Kilometer            0\n",
              "RegistrationMonth    0\n",
              "FuelType             0\n",
              "Brand                0\n",
              "Repaired             0\n",
              "dtype: int64"
            ]
          },
          "execution_count": 12,
          "metadata": {},
          "output_type": "execute_result"
        }
      ],
      "source": [
        "data.isna().sum()"
      ]
    },
    {
      "cell_type": "markdown",
      "metadata": {
        "id": "rGXTB-b1os5o"
      },
      "source": [
        "Изучим статистические характеристики числовых данных:"
      ]
    },
    {
      "cell_type": "code",
      "execution_count": null,
      "metadata": {
        "id": "eZI9lzy6os5o",
        "outputId": "bbaa27ca-0eda-4dc3-8d20-7b5e12cd2945"
      },
      "outputs": [
        {
          "data": {
            "text/html": [
              "<div>\n",
              "<style scoped>\n",
              "    .dataframe tbody tr th:only-of-type {\n",
              "        vertical-align: middle;\n",
              "    }\n",
              "\n",
              "    .dataframe tbody tr th {\n",
              "        vertical-align: top;\n",
              "    }\n",
              "\n",
              "    .dataframe thead th {\n",
              "        text-align: right;\n",
              "    }\n",
              "</style>\n",
              "<table border=\"1\" class=\"dataframe\">\n",
              "  <thead>\n",
              "    <tr style=\"text-align: right;\">\n",
              "      <th></th>\n",
              "      <th>Price</th>\n",
              "      <th>RegistrationYear</th>\n",
              "      <th>Power</th>\n",
              "      <th>Kilometer</th>\n",
              "      <th>RegistrationMonth</th>\n",
              "    </tr>\n",
              "  </thead>\n",
              "  <tbody>\n",
              "    <tr>\n",
              "      <th>count</th>\n",
              "      <td>326826.000000</td>\n",
              "      <td>326826.000000</td>\n",
              "      <td>326826.000000</td>\n",
              "      <td>326826.000000</td>\n",
              "      <td>326826.000000</td>\n",
              "    </tr>\n",
              "    <tr>\n",
              "      <th>mean</th>\n",
              "      <td>4403.747330</td>\n",
              "      <td>2004.230985</td>\n",
              "      <td>110.244705</td>\n",
              "      <td>128144.073605</td>\n",
              "      <td>5.696239</td>\n",
              "    </tr>\n",
              "    <tr>\n",
              "      <th>std</th>\n",
              "      <td>4518.209808</td>\n",
              "      <td>91.120018</td>\n",
              "      <td>195.886373</td>\n",
              "      <td>37947.663920</td>\n",
              "      <td>3.724122</td>\n",
              "    </tr>\n",
              "    <tr>\n",
              "      <th>min</th>\n",
              "      <td>0.000000</td>\n",
              "      <td>1000.000000</td>\n",
              "      <td>0.000000</td>\n",
              "      <td>5000.000000</td>\n",
              "      <td>0.000000</td>\n",
              "    </tr>\n",
              "    <tr>\n",
              "      <th>25%</th>\n",
              "      <td>1000.000000</td>\n",
              "      <td>1999.000000</td>\n",
              "      <td>69.000000</td>\n",
              "      <td>125000.000000</td>\n",
              "      <td>3.000000</td>\n",
              "    </tr>\n",
              "    <tr>\n",
              "      <th>50%</th>\n",
              "      <td>2700.000000</td>\n",
              "      <td>2003.000000</td>\n",
              "      <td>105.000000</td>\n",
              "      <td>150000.000000</td>\n",
              "      <td>6.000000</td>\n",
              "    </tr>\n",
              "    <tr>\n",
              "      <th>75%</th>\n",
              "      <td>6350.000000</td>\n",
              "      <td>2008.000000</td>\n",
              "      <td>141.000000</td>\n",
              "      <td>150000.000000</td>\n",
              "      <td>9.000000</td>\n",
              "    </tr>\n",
              "    <tr>\n",
              "      <th>max</th>\n",
              "      <td>20000.000000</td>\n",
              "      <td>9999.000000</td>\n",
              "      <td>20000.000000</td>\n",
              "      <td>150000.000000</td>\n",
              "      <td>12.000000</td>\n",
              "    </tr>\n",
              "  </tbody>\n",
              "</table>\n",
              "</div>"
            ],
            "text/plain": [
              "               Price  RegistrationYear          Power      Kilometer  \\\n",
              "count  326826.000000     326826.000000  326826.000000  326826.000000   \n",
              "mean     4403.747330       2004.230985     110.244705  128144.073605   \n",
              "std      4518.209808         91.120018     195.886373   37947.663920   \n",
              "min         0.000000       1000.000000       0.000000    5000.000000   \n",
              "25%      1000.000000       1999.000000      69.000000  125000.000000   \n",
              "50%      2700.000000       2003.000000     105.000000  150000.000000   \n",
              "75%      6350.000000       2008.000000     141.000000  150000.000000   \n",
              "max     20000.000000       9999.000000   20000.000000  150000.000000   \n",
              "\n",
              "       RegistrationMonth  \n",
              "count      326826.000000  \n",
              "mean            5.696239  \n",
              "std             3.724122  \n",
              "min             0.000000  \n",
              "25%             3.000000  \n",
              "50%             6.000000  \n",
              "75%             9.000000  \n",
              "max            12.000000  "
            ]
          },
          "execution_count": 13,
          "metadata": {},
          "output_type": "execute_result"
        }
      ],
      "source": [
        "data.describe()"
      ]
    },
    {
      "cell_type": "markdown",
      "metadata": {
        "id": "q3tAVO-_os5o"
      },
      "source": [
        "Можно заметить аномально низкие и аномально высокие значения в таких столбцах, как Price, RegistrationYear, Power и RegistrationMonth. Посмотрим на них подробнее:"
      ]
    },
    {
      "cell_type": "markdown",
      "metadata": {
        "id": "jc3TMrT5os5o"
      },
      "source": [
        "Изучим распределение признака Price с помощью диаграммы размаха (\"ящик с усами\"):"
      ]
    },
    {
      "cell_type": "code",
      "execution_count": null,
      "metadata": {
        "id": "Up-sfW0Gos5o",
        "outputId": "451ff07c-b1bb-473b-f411-80853adf3a61"
      },
      "outputs": [
        {
          "data": {
            "text/plain": [
              "<AxesSubplot:>"
            ]
          },
          "execution_count": 14,
          "metadata": {},
          "output_type": "execute_result"
        },
        {
          "data": {
            "image/png": "[encoded data removed]",
            "text/plain": [
              "<Figure size 504x720 with 1 Axes>"
            ]
          },
          "metadata": {
            "needs_background": "light"
          },
          "output_type": "display_data"
        }
      ],
      "source": [
        "data.boxplot(column='Price', figsize=(7, 10))"
      ]
    },
    {
      "cell_type": "markdown",
      "metadata": {
        "id": "Cz0MDQAMos5o"
      },
      "source": [
        "Судя по полученному графику, в данном признаке присутствует довольно большое количество аномальные объектов по цене выше ~ 14000 евро. Также, стоит установить нижнюю границу цены, например в 300 евро, предполагая, что за меньшую стоимость продажа автомобиля просто невозможна."
      ]
    },
    {
      "cell_type": "code",
      "execution_count": null,
      "metadata": {
        "id": "DtWWD7m6os5p"
      },
      "outputs": [],
      "source": [
        "data = data.loc[data['Price'] > 300]"
      ]
    },
    {
      "cell_type": "markdown",
      "metadata": {
        "id": "m37pj77Tos5p"
      },
      "source": [
        "Посмотрим на некоторые аномально высокие значения:"
      ]
    },
    {
      "cell_type": "code",
      "execution_count": null,
      "metadata": {
        "scrolled": true,
        "id": "YbT4c-6bos5p",
        "outputId": "e46ec686-a8fa-4eee-bb21-dae253ea88c1"
      },
      "outputs": [
        {
          "data": {
            "text/html": [
              "<div>\n",
              "<style scoped>\n",
              "    .dataframe tbody tr th:only-of-type {\n",
              "        vertical-align: middle;\n",
              "    }\n",
              "\n",
              "    .dataframe tbody tr th {\n",
              "        vertical-align: top;\n",
              "    }\n",
              "\n",
              "    .dataframe thead th {\n",
              "        text-align: right;\n",
              "    }\n",
              "</style>\n",
              "<table border=\"1\" class=\"dataframe\">\n",
              "  <thead>\n",
              "    <tr style=\"text-align: right;\">\n",
              "      <th></th>\n",
              "      <th>Price</th>\n",
              "      <th>VehicleType</th>\n",
              "      <th>RegistrationYear</th>\n",
              "      <th>Gearbox</th>\n",
              "      <th>Power</th>\n",
              "      <th>Model</th>\n",
              "      <th>Kilometer</th>\n",
              "      <th>RegistrationMonth</th>\n",
              "      <th>FuelType</th>\n",
              "      <th>Brand</th>\n",
              "      <th>Repaired</th>\n",
              "    </tr>\n",
              "  </thead>\n",
              "  <tbody>\n",
              "    <tr>\n",
              "      <th>172</th>\n",
              "      <td>19750</td>\n",
              "      <td>convertible</td>\n",
              "      <td>2006</td>\n",
              "      <td>manual</td>\n",
              "      <td>305</td>\n",
              "      <td>mustang</td>\n",
              "      <td>50000</td>\n",
              "      <td>7</td>\n",
              "      <td>petrol</td>\n",
              "      <td>ford</td>\n",
              "      <td>no</td>\n",
              "    </tr>\n",
              "    <tr>\n",
              "      <th>484</th>\n",
              "      <td>19900</td>\n",
              "      <td>bus</td>\n",
              "      <td>2009</td>\n",
              "      <td>manual</td>\n",
              "      <td>150</td>\n",
              "      <td>viano</td>\n",
              "      <td>90000</td>\n",
              "      <td>5</td>\n",
              "      <td>gasoline</td>\n",
              "      <td>mercedes_benz</td>\n",
              "      <td>no</td>\n",
              "    </tr>\n",
              "    <tr>\n",
              "      <th>1360</th>\n",
              "      <td>19850</td>\n",
              "      <td>sedan</td>\n",
              "      <td>2013</td>\n",
              "      <td>auto</td>\n",
              "      <td>150</td>\n",
              "      <td>golf</td>\n",
              "      <td>60000</td>\n",
              "      <td>6</td>\n",
              "      <td>gasoline</td>\n",
              "      <td>volkswagen</td>\n",
              "      <td>no</td>\n",
              "    </tr>\n",
              "    <tr>\n",
              "      <th>1514</th>\n",
              "      <td>20000</td>\n",
              "      <td>sedan</td>\n",
              "      <td>2010</td>\n",
              "      <td>auto</td>\n",
              "      <td>239</td>\n",
              "      <td>a6</td>\n",
              "      <td>150000</td>\n",
              "      <td>5</td>\n",
              "      <td>gasoline</td>\n",
              "      <td>audi</td>\n",
              "      <td>no</td>\n",
              "    </tr>\n",
              "    <tr>\n",
              "      <th>1585</th>\n",
              "      <td>20000</td>\n",
              "      <td>sedan</td>\n",
              "      <td>2014</td>\n",
              "      <td>auto</td>\n",
              "      <td>184</td>\n",
              "      <td>leon</td>\n",
              "      <td>40000</td>\n",
              "      <td>4</td>\n",
              "      <td>gasoline</td>\n",
              "      <td>seat</td>\n",
              "      <td>no</td>\n",
              "    </tr>\n",
              "    <tr>\n",
              "      <th>...</th>\n",
              "      <td>...</td>\n",
              "      <td>...</td>\n",
              "      <td>...</td>\n",
              "      <td>...</td>\n",
              "      <td>...</td>\n",
              "      <td>...</td>\n",
              "      <td>...</td>\n",
              "      <td>...</td>\n",
              "      <td>...</td>\n",
              "      <td>...</td>\n",
              "      <td>...</td>\n",
              "    </tr>\n",
              "    <tr>\n",
              "      <th>325812</th>\n",
              "      <td>19500</td>\n",
              "      <td>bus</td>\n",
              "      <td>1970</td>\n",
              "      <td>auto</td>\n",
              "      <td>69</td>\n",
              "      <td>transporter</td>\n",
              "      <td>30000</td>\n",
              "      <td>11</td>\n",
              "      <td>petrol</td>\n",
              "      <td>volkswagen</td>\n",
              "      <td>unknown</td>\n",
              "    </tr>\n",
              "    <tr>\n",
              "      <th>326160</th>\n",
              "      <td>19950</td>\n",
              "      <td>wagon</td>\n",
              "      <td>2009</td>\n",
              "      <td>manual</td>\n",
              "      <td>265</td>\n",
              "      <td>other</td>\n",
              "      <td>125000</td>\n",
              "      <td>1</td>\n",
              "      <td>petrol</td>\n",
              "      <td>audi</td>\n",
              "      <td>no</td>\n",
              "    </tr>\n",
              "    <tr>\n",
              "      <th>326550</th>\n",
              "      <td>20000</td>\n",
              "      <td>coupe</td>\n",
              "      <td>2006</td>\n",
              "      <td>auto</td>\n",
              "      <td>476</td>\n",
              "      <td>other</td>\n",
              "      <td>125000</td>\n",
              "      <td>7</td>\n",
              "      <td>petrol</td>\n",
              "      <td>mercedes_benz</td>\n",
              "      <td>no</td>\n",
              "    </tr>\n",
              "    <tr>\n",
              "      <th>326666</th>\n",
              "      <td>19990</td>\n",
              "      <td>small</td>\n",
              "      <td>2014</td>\n",
              "      <td>auto</td>\n",
              "      <td>185</td>\n",
              "      <td>a1</td>\n",
              "      <td>10000</td>\n",
              "      <td>2</td>\n",
              "      <td>petrol</td>\n",
              "      <td>audi</td>\n",
              "      <td>no</td>\n",
              "    </tr>\n",
              "    <tr>\n",
              "      <th>326784</th>\n",
              "      <td>19800</td>\n",
              "      <td>sedan</td>\n",
              "      <td>2011</td>\n",
              "      <td>manual</td>\n",
              "      <td>170</td>\n",
              "      <td>1er</td>\n",
              "      <td>80000</td>\n",
              "      <td>12</td>\n",
              "      <td>petrol</td>\n",
              "      <td>bmw</td>\n",
              "      <td>no</td>\n",
              "    </tr>\n",
              "  </tbody>\n",
              "</table>\n",
              "<p>2257 rows × 11 columns</p>\n",
              "</div>"
            ],
            "text/plain": [
              "        Price  VehicleType  RegistrationYear Gearbox  Power        Model  \\\n",
              "172     19750  convertible              2006  manual    305      mustang   \n",
              "484     19900          bus              2009  manual    150        viano   \n",
              "1360    19850        sedan              2013    auto    150         golf   \n",
              "1514    20000        sedan              2010    auto    239           a6   \n",
              "1585    20000        sedan              2014    auto    184         leon   \n",
              "...       ...          ...               ...     ...    ...          ...   \n",
              "325812  19500          bus              1970    auto     69  transporter   \n",
              "326160  19950        wagon              2009  manual    265        other   \n",
              "326550  20000        coupe              2006    auto    476        other   \n",
              "326666  19990        small              2014    auto    185           a1   \n",
              "326784  19800        sedan              2011  manual    170          1er   \n",
              "\n",
              "        Kilometer  RegistrationMonth  FuelType          Brand Repaired  \n",
              "172         50000                  7    petrol           ford       no  \n",
              "484         90000                  5  gasoline  mercedes_benz       no  \n",
              "1360        60000                  6  gasoline     volkswagen       no  \n",
              "1514       150000                  5  gasoline           audi       no  \n",
              "1585        40000                  4  gasoline           seat       no  \n",
              "...           ...                ...       ...            ...      ...  \n",
              "325812      30000                 11    petrol     volkswagen  unknown  \n",
              "326160     125000                  1    petrol           audi       no  \n",
              "326550     125000                  7    petrol  mercedes_benz       no  \n",
              "326666      10000                  2    petrol           audi       no  \n",
              "326784      80000                 12    petrol            bmw       no  \n",
              "\n",
              "[2257 rows x 11 columns]"
            ]
          },
          "execution_count": 16,
          "metadata": {},
          "output_type": "execute_result"
        }
      ],
      "source": [
        "data.loc[data['Price'] > 19000]"
      ]
    },
    {
      "cell_type": "code",
      "execution_count": null,
      "metadata": {
        "id": "rwF31dZmos5w",
        "outputId": "27b1bb09-92de-4f88-8f53-4299f1c9ebf3"
      },
      "outputs": [
        {
          "data": {
            "text/plain": [
              "count    303025.000000\n",
              "mean       4740.724349\n",
              "std        4522.974642\n",
              "min         301.000000\n",
              "25%        1350.000000\n",
              "50%        3000.000000\n",
              "75%        6800.000000\n",
              "max       20000.000000\n",
              "Name: Price, dtype: float64"
            ]
          },
          "execution_count": 18,
          "metadata": {},
          "output_type": "execute_result"
        }
      ],
      "source": [
        "data['Price'].describe()"
      ]
    },
    {
      "cell_type": "markdown",
      "metadata": {
        "id": "7he1hJhKos5x"
      },
      "source": [
        "В признаке RegistrationYear можно увидеть такие аномальные значения, как, например, год регистрации 1000 или 9999. Ограничим год выпуска автомобилей с 1950 по 2023 (текущий год):"
      ]
    },
    {
      "cell_type": "code",
      "execution_count": null,
      "metadata": {
        "id": "nZ-mF8Vhos5x"
      },
      "outputs": [],
      "source": [
        "data = data.loc[(data['RegistrationYear'] > 1950) & (data['RegistrationYear'] < 2023)]"
      ]
    },
    {
      "cell_type": "code",
      "execution_count": null,
      "metadata": {
        "id": "A2g78A64os5x",
        "outputId": "58279fe5-9f18-486d-b656-b2431b570ab9"
      },
      "outputs": [
        {
          "data": {
            "text/plain": [
              "count    302833.000000\n",
              "mean       2003.361883\n",
              "std           7.218085\n",
              "min        1951.000000\n",
              "25%        1999.000000\n",
              "50%        2003.000000\n",
              "75%        2008.000000\n",
              "max        2019.000000\n",
              "Name: RegistrationYear, dtype: float64"
            ]
          },
          "execution_count": 20,
          "metadata": {},
          "output_type": "execute_result"
        }
      ],
      "source": [
        "data['RegistrationYear'].describe()"
      ]
    },
    {
      "cell_type": "markdown",
      "metadata": {
        "id": "Ok4vaRY2os5x"
      },
      "source": [
        "Также мощность автомобиля не может быть меньше 5 и больше 2000 л. с."
      ]
    },
    {
      "cell_type": "code",
      "execution_count": null,
      "metadata": {
        "id": "wHI2pGJAos5x"
      },
      "outputs": [],
      "source": [
        "data = data.loc[(data['Power'] > 5) & (data['Power'] < 1000)]"
      ]
    },
    {
      "cell_type": "code",
      "execution_count": null,
      "metadata": {
        "id": "-VbCpCo8os5y",
        "outputId": "b4ad41d3-fc11-4e57-873a-33a4b60dce00"
      },
      "outputs": [
        {
          "data": {
            "text/plain": [
              "count    273513.000000\n",
              "mean        121.637034\n",
              "std          54.519528\n",
              "min           6.000000\n",
              "25%          80.000000\n",
              "50%         114.000000\n",
              "75%         150.000000\n",
              "max         999.000000\n",
              "Name: Power, dtype: float64"
            ]
          },
          "execution_count": 22,
          "metadata": {},
          "output_type": "execute_result"
        }
      ],
      "source": [
        "data['Power'].describe()"
      ]
    },
    {
      "cell_type": "code",
      "execution_count": null,
      "metadata": {
        "id": "a5iq-kuwos5z",
        "outputId": "8790130a-f986-48df-e761-bf463be369c9"
      },
      "outputs": [
        {
          "data": {
            "text/html": [
              "<div>\n",
              "<style scoped>\n",
              "    .dataframe tbody tr th:only-of-type {\n",
              "        vertical-align: middle;\n",
              "    }\n",
              "\n",
              "    .dataframe tbody tr th {\n",
              "        vertical-align: top;\n",
              "    }\n",
              "\n",
              "    .dataframe thead th {\n",
              "        text-align: right;\n",
              "    }\n",
              "</style>\n",
              "<table border=\"1\" class=\"dataframe\">\n",
              "  <thead>\n",
              "    <tr style=\"text-align: right;\">\n",
              "      <th></th>\n",
              "      <th>Price</th>\n",
              "      <th>RegistrationYear</th>\n",
              "      <th>Power</th>\n",
              "      <th>Kilometer</th>\n",
              "      <th>RegistrationMonth</th>\n",
              "    </tr>\n",
              "  </thead>\n",
              "  <tbody>\n",
              "    <tr>\n",
              "      <th>count</th>\n",
              "      <td>273513.000000</td>\n",
              "      <td>273513.000000</td>\n",
              "      <td>273513.000000</td>\n",
              "      <td>273513.000000</td>\n",
              "      <td>273513.000000</td>\n",
              "    </tr>\n",
              "    <tr>\n",
              "      <th>mean</th>\n",
              "      <td>4948.967658</td>\n",
              "      <td>2003.437142</td>\n",
              "      <td>121.637034</td>\n",
              "      <td>128166.138355</td>\n",
              "      <td>5.989086</td>\n",
              "    </tr>\n",
              "    <tr>\n",
              "      <th>std</th>\n",
              "      <td>4587.012442</td>\n",
              "      <td>6.910587</td>\n",
              "      <td>54.519528</td>\n",
              "      <td>36768.765270</td>\n",
              "      <td>3.584865</td>\n",
              "    </tr>\n",
              "    <tr>\n",
              "      <th>min</th>\n",
              "      <td>301.000000</td>\n",
              "      <td>1951.000000</td>\n",
              "      <td>6.000000</td>\n",
              "      <td>5000.000000</td>\n",
              "      <td>0.000000</td>\n",
              "    </tr>\n",
              "    <tr>\n",
              "      <th>25%</th>\n",
              "      <td>1450.000000</td>\n",
              "      <td>1999.000000</td>\n",
              "      <td>80.000000</td>\n",
              "      <td>125000.000000</td>\n",
              "      <td>3.000000</td>\n",
              "    </tr>\n",
              "    <tr>\n",
              "      <th>50%</th>\n",
              "      <td>3300.000000</td>\n",
              "      <td>2004.000000</td>\n",
              "      <td>114.000000</td>\n",
              "      <td>150000.000000</td>\n",
              "      <td>6.000000</td>\n",
              "    </tr>\n",
              "    <tr>\n",
              "      <th>75%</th>\n",
              "      <td>7000.000000</td>\n",
              "      <td>2008.000000</td>\n",
              "      <td>150.000000</td>\n",
              "      <td>150000.000000</td>\n",
              "      <td>9.000000</td>\n",
              "    </tr>\n",
              "    <tr>\n",
              "      <th>max</th>\n",
              "      <td>20000.000000</td>\n",
              "      <td>2019.000000</td>\n",
              "      <td>999.000000</td>\n",
              "      <td>150000.000000</td>\n",
              "      <td>12.000000</td>\n",
              "    </tr>\n",
              "  </tbody>\n",
              "</table>\n",
              "</div>"
            ],
            "text/plain": [
              "               Price  RegistrationYear          Power      Kilometer  \\\n",
              "count  273513.000000     273513.000000  273513.000000  273513.000000   \n",
              "mean     4948.967658       2003.437142     121.637034  128166.138355   \n",
              "std      4587.012442          6.910587      54.519528   36768.765270   \n",
              "min       301.000000       1951.000000       6.000000    5000.000000   \n",
              "25%      1450.000000       1999.000000      80.000000  125000.000000   \n",
              "50%      3300.000000       2004.000000     114.000000  150000.000000   \n",
              "75%      7000.000000       2008.000000     150.000000  150000.000000   \n",
              "max     20000.000000       2019.000000     999.000000  150000.000000   \n",
              "\n",
              "       RegistrationMonth  \n",
              "count      273513.000000  \n",
              "mean            5.989086  \n",
              "std             3.584865  \n",
              "min             0.000000  \n",
              "25%             3.000000  \n",
              "50%             6.000000  \n",
              "75%             9.000000  \n",
              "max            12.000000  "
            ]
          },
          "execution_count": 24,
          "metadata": {},
          "output_type": "execute_result"
        }
      ],
      "source": [
        "data.describe()"
      ]
    },
    {
      "cell_type": "markdown",
      "metadata": {
        "id": "vlsxS2WDos5z"
      },
      "source": [
        "## Обучение моделей"
      ]
    },
    {
      "cell_type": "markdown",
      "metadata": {
        "id": "kfdWuYCsos5z"
      },
      "source": [
        "Перейдем к обучению моделей.\n",
        "Для начала разделим выборку на обучающую, валидационную и тестовую:"
      ]
    },
    {
      "cell_type": "code",
      "execution_count": null,
      "metadata": {
        "id": "ZWhuG2Fjos5z"
      },
      "outputs": [],
      "source": [
        "random_state = 12345"
      ]
    },
    {
      "cell_type": "code",
      "execution_count": null,
      "metadata": {
        "id": "bUlGCS0uos5z",
        "outputId": "d252dc58-b0f3-4a12-8731-9a802c5d1f18"
      },
      "outputs": [
        {
          "name": "stdout",
          "output_type": "stream",
          "text": [
            "(273513, 10)\n",
            "(273513,)\n"
          ]
        }
      ],
      "source": [
        "features = data.drop('Price', axis=1)\n",
        "target = data['Price']\n",
        "\n",
        "print(features.shape)\n",
        "print(target.shape)"
      ]
    },
    {
      "cell_type": "code",
      "execution_count": null,
      "metadata": {
        "id": "7aWBhw5Ros5z",
        "outputId": "72c265b8-62e5-4d42-a6f5-8395e35dba01"
      },
      "outputs": [
        {
          "name": "stdout",
          "output_type": "stream",
          "text": [
            "(218810, 10)\n",
            "(218810,)\n",
            "(13676, 10)\n",
            "(13676,)\n",
            "(41027, 10)\n",
            "(41027,)\n"
          ]
        }
      ],
      "source": [
        "features_train, features_valid, target_train, target_valid = train_test_split(features, target,\n",
        "                                                                              test_size=0.2,\n",
        "                                                                              random_state=12345)\n",
        "features_test, features_valid, target_test, target_valid = train_test_split(features_valid,\n",
        "                                                                            target_valid,\n",
        "                                                                            test_size=0.25,\n",
        "                                                                            random_state=12345)\n",
        "\n",
        "print(features_train.shape)\n",
        "print(target_train.shape)\n",
        "\n",
        "print(features_valid.shape)\n",
        "print(target_valid.shape)\n",
        "\n",
        "print(features_test.shape)\n",
        "print(target_test.shape)"
      ]
    },
    {
      "cell_type": "markdown",
      "metadata": {
        "id": "n5IhcyCsos50"
      },
      "source": [
        "Закодируем категориальные признаки и также разделим их на три выборки:"
      ]
    },
    {
      "cell_type": "code",
      "execution_count": null,
      "metadata": {
        "id": "xJBwiGA8os50",
        "outputId": "807564db-e2fa-4083-e77e-469a09c6195c"
      },
      "outputs": [
        {
          "name": "stdout",
          "output_type": "stream",
          "text": [
            "(273513, 311)\n",
            "(273513,)\n"
          ]
        }
      ],
      "source": [
        "data_ohe = pd.get_dummies(data, drop_first=True)\n",
        "\n",
        "features_ohe = data_ohe.drop('Price', axis=1)\n",
        "target_ohe = data_ohe['Price']\n",
        "\n",
        "print(features_ohe.shape)\n",
        "print(target_ohe.shape)"
      ]
    },
    {
      "cell_type": "code",
      "execution_count": null,
      "metadata": {
        "id": "kHk7qIWcos51",
        "outputId": "59e8f8c8-fbd0-4c00-f177-f22eaf52e471"
      },
      "outputs": [
        {
          "name": "stdout",
          "output_type": "stream",
          "text": [
            "(218810, 311)\n",
            "(218810,)\n",
            "(13676, 311)\n",
            "(13676,)\n",
            "(41027, 311)\n",
            "(41027,)\n"
          ]
        }
      ],
      "source": [
        "features_train_ohe, features_valid_ohe, target_train_ohe, target_valid_ohe = train_test_split(features_ohe, target_ohe,\n",
        "                                                                                              test_size=0.2,\n",
        "                                                                                              random_state=12345)\n",
        "features_test_ohe, features_valid_ohe, target_test_ohe, target_valid_ohe = train_test_split(features_valid_ohe,\n",
        "                                                                                            target_valid_ohe,\n",
        "                                                                                            test_size=0.25,\n",
        "                                                                                            random_state=12345)\n",
        "\n",
        "print(features_train_ohe.shape)\n",
        "print(target_train_ohe.shape)\n",
        "\n",
        "print(features_valid_ohe.shape)\n",
        "print(target_valid_ohe.shape)\n",
        "\n",
        "print(features_test_ohe.shape)\n",
        "print(target_test_ohe.shape)"
      ]
    },
    {
      "cell_type": "markdown",
      "metadata": {
        "id": "Z41xEOKzos51"
      },
      "source": [
        "В данном проекте будет рассмотренно 3 модели: Случайный лес, CatBoost и LightGBM. Подберем лучшие гиперпараметры для каждой из моделей:"
      ]
    },
    {
      "cell_type": "code",
      "execution_count": null,
      "metadata": {
        "id": "M6BgFHG0os52",
        "outputId": "85efa65f-455d-45c5-9a0f-b3ba71ce64a5"
      },
      "outputs": [
        {
          "name": "stdout",
          "output_type": "stream",
          "text": [
            "RMSE лучшей модели: 3813.5266630194533\n",
            "Количество деревьев: 12\n",
            "Максимальная глубина: 1\n",
            "CPU times: user 44.1 s, sys: 1.5 s, total: 45.6 s\n",
            "Wall time: 45.6 s\n"
          ]
        }
      ],
      "source": [
        "%%time\n",
        "\n",
        "best_model = None\n",
        "best_result = 0\n",
        "best_est = 0\n",
        "best_depth = 0\n",
        "for est in range(10, 13, 1):\n",
        "    for depth in range (1, 5, 2):\n",
        "        model = RandomForestRegressor(random_state=random_state, n_estimators=est, max_depth=depth)\n",
        "        model.fit(features_train_ohe, target_train_ohe)\n",
        "        predictions_valid = model.predict(features_valid_ohe)\n",
        "        result = mean_squared_error(target_valid_ohe, predictions_valid) ** 0.5\n",
        "        if result > best_result:\n",
        "            best_model = model\n",
        "            best_result = result\n",
        "            best_est = est\n",
        "            best_depth = depth\n",
        "\n",
        "print('RMSE лучшей модели:', best_result)\n",
        "print('Количество деревьев:', best_est)\n",
        "print('Максимальная глубина:', best_depth)"
      ]
    },
    {
      "cell_type": "code",
      "execution_count": null,
      "metadata": {
        "id": "Hue32b59os52",
        "outputId": "1f6f6c45-68bd-493a-e15c-e71210633ad7"
      },
      "outputs": [
        {
          "name": "stdout",
          "output_type": "stream",
          "text": [
            "Fitting 5 folds for each of 4 candidates, totalling 20 fits\n",
            "0:\tlearn: 4253.8088696\ttotal: 181ms\tremaining: 17.9s\n",
            "10:\tlearn: 2555.8235279\ttotal: 1.29s\tremaining: 10.4s\n",
            "20:\tlearn: 2035.3429010\ttotal: 2.36s\tremaining: 8.86s\n",
            "30:\tlearn: 1866.5592567\ttotal: 3.41s\tremaining: 7.59s\n",
            "40:\tlearn: 1801.7657110\ttotal: 4.5s\tremaining: 6.48s\n",
            "50:\tlearn: 1760.9303881\ttotal: 5.55s\tremaining: 5.33s\n",
            "60:\tlearn: 1731.4983075\ttotal: 6.61s\tremaining: 4.22s\n",
            "70:\tlearn: 1711.9358681\ttotal: 7.72s\tremaining: 3.15s\n",
            "80:\tlearn: 1694.5457149\ttotal: 8.8s\tremaining: 2.06s\n",
            "90:\tlearn: 1678.1603089\ttotal: 9.87s\tremaining: 976ms\n",
            "99:\tlearn: 1663.0126751\ttotal: 10.9s\tremaining: 0us\n",
            "0:\tlearn: 4271.9082330\ttotal: 116ms\tremaining: 11.4s\n",
            "10:\tlearn: 2572.6270979\ttotal: 1.24s\tremaining: 9.99s\n",
            "20:\tlearn: 2045.2058065\ttotal: 2.31s\tremaining: 8.68s\n",
            "30:\tlearn: 1866.5491546\ttotal: 3.37s\tremaining: 7.5s\n",
            "40:\tlearn: 1797.7768321\ttotal: 4.45s\tremaining: 6.41s\n",
            "50:\tlearn: 1763.8171861\ttotal: 5.57s\tremaining: 5.35s\n",
            "60:\tlearn: 1730.4115293\ttotal: 6.66s\tremaining: 4.26s\n",
            "70:\tlearn: 1705.4760604\ttotal: 7.73s\tremaining: 3.16s\n",
            "80:\tlearn: 1682.8611268\ttotal: 8.8s\tremaining: 2.06s\n",
            "90:\tlearn: 1665.9054991\ttotal: 9.9s\tremaining: 979ms\n",
            "99:\tlearn: 1652.8477494\ttotal: 10.9s\tremaining: 0us\n",
            "0:\tlearn: 4266.8657313\ttotal: 124ms\tremaining: 12.3s\n",
            "10:\tlearn: 2576.9240881\ttotal: 1.22s\tremaining: 9.85s\n",
            "20:\tlearn: 2048.8749677\ttotal: 2.28s\tremaining: 8.59s\n",
            "30:\tlearn: 1866.8087501\ttotal: 3.39s\tremaining: 7.55s\n",
            "40:\tlearn: 1797.8740584\ttotal: 4.46s\tremaining: 6.42s\n",
            "50:\tlearn: 1760.2833385\ttotal: 5.55s\tremaining: 5.33s\n",
            "60:\tlearn: 1731.1211751\ttotal: 6.62s\tremaining: 4.24s\n",
            "70:\tlearn: 1712.7581713\ttotal: 7.72s\tremaining: 3.15s\n",
            "80:\tlearn: 1690.7075924\ttotal: 8.79s\tremaining: 2.06s\n",
            "90:\tlearn: 1676.6240647\ttotal: 9.87s\tremaining: 976ms\n",
            "99:\tlearn: 1665.5241098\ttotal: 10.8s\tremaining: 0us\n",
            "0:\tlearn: 4268.2029533\ttotal: 121ms\tremaining: 12s\n",
            "10:\tlearn: 2570.3398702\ttotal: 1.24s\tremaining: 10.1s\n",
            "20:\tlearn: 2045.2622656\ttotal: 2.3s\tremaining: 8.64s\n",
            "30:\tlearn: 1869.7622193\ttotal: 3.36s\tremaining: 7.49s\n",
            "40:\tlearn: 1804.4949661\ttotal: 4.42s\tremaining: 6.36s\n",
            "50:\tlearn: 1766.4184064\ttotal: 5.51s\tremaining: 5.3s\n",
            "60:\tlearn: 1737.1364668\ttotal: 6.58s\tremaining: 4.21s\n",
            "70:\tlearn: 1710.1360991\ttotal: 7.65s\tremaining: 3.13s\n",
            "80:\tlearn: 1686.4422383\ttotal: 8.74s\tremaining: 2.05s\n",
            "90:\tlearn: 1671.9851970\ttotal: 9.82s\tremaining: 972ms\n",
            "99:\tlearn: 1659.2045729\ttotal: 10.8s\tremaining: 0us\n",
            "0:\tlearn: 4261.4637946\ttotal: 144ms\tremaining: 14.2s\n",
            "10:\tlearn: 2576.5139257\ttotal: 1.24s\tremaining: 10s\n",
            "20:\tlearn: 2054.9959078\ttotal: 2.27s\tremaining: 8.53s\n",
            "30:\tlearn: 1871.6922677\ttotal: 3.35s\tremaining: 7.47s\n",
            "40:\tlearn: 1804.9535852\ttotal: 4.4s\tremaining: 6.34s\n",
            "50:\tlearn: 1758.5831672\ttotal: 5.48s\tremaining: 5.27s\n",
            "60:\tlearn: 1729.5352696\ttotal: 6.56s\tremaining: 4.19s\n",
            "70:\tlearn: 1705.0971164\ttotal: 7.65s\tremaining: 3.12s\n",
            "80:\tlearn: 1686.6424920\ttotal: 8.79s\tremaining: 2.06s\n",
            "90:\tlearn: 1672.0726899\ttotal: 9.85s\tremaining: 975ms\n",
            "99:\tlearn: 1657.4612316\ttotal: 10.8s\tremaining: 0us\n",
            "0:\tlearn: 4250.0385228\ttotal: 384ms\tremaining: 1m 16s\n",
            "10:\tlearn: 2507.8244946\ttotal: 4.31s\tremaining: 1m 14s\n",
            "20:\tlearn: 2000.0297693\ttotal: 8.02s\tremaining: 1m 8s\n",
            "30:\tlearn: 1837.0005875\ttotal: 11.5s\tremaining: 1m 2s\n",
            "40:\tlearn: 1773.9068406\ttotal: 14.8s\tremaining: 57.3s\n",
            "50:\tlearn: 1735.4178866\ttotal: 18.1s\tremaining: 52.8s\n",
            "60:\tlearn: 1712.0343433\ttotal: 21.7s\tremaining: 49.3s\n",
            "70:\tlearn: 1690.0129504\ttotal: 24.6s\tremaining: 44.8s\n",
            "80:\tlearn: 1671.8370672\ttotal: 28s\tremaining: 41.1s\n",
            "90:\tlearn: 1659.2044458\ttotal: 31.2s\tremaining: 37.4s\n",
            "100:\tlearn: 1645.0678871\ttotal: 34.8s\tremaining: 34.1s\n",
            "110:\tlearn: 1632.2958493\ttotal: 38.3s\tremaining: 30.7s\n",
            "120:\tlearn: 1620.9675791\ttotal: 41.6s\tremaining: 27.2s\n",
            "130:\tlearn: 1611.2640806\ttotal: 45s\tremaining: 23.7s\n",
            "140:\tlearn: 1602.0397407\ttotal: 48.6s\tremaining: 20.3s\n",
            "150:\tlearn: 1594.8663879\ttotal: 52.5s\tremaining: 17s\n",
            "160:\tlearn: 1587.6431820\ttotal: 56.1s\tremaining: 13.6s\n",
            "170:\tlearn: 1582.0792137\ttotal: 59.9s\tremaining: 10.2s\n",
            "180:\tlearn: 1575.7769123\ttotal: 1m 3s\tremaining: 6.68s\n",
            "190:\tlearn: 1570.0372890\ttotal: 1m 7s\tremaining: 3.16s\n",
            "199:\tlearn: 1563.4525021\ttotal: 1m 10s\tremaining: 0us\n",
            "0:\tlearn: 4267.2316032\ttotal: 395ms\tremaining: 1m 18s\n",
            "10:\tlearn: 2504.2391599\ttotal: 4.52s\tremaining: 1m 17s\n",
            "20:\tlearn: 2008.5167777\ttotal: 8.06s\tremaining: 1m 8s\n",
            "30:\tlearn: 1841.4215754\ttotal: 11.5s\tremaining: 1m 2s\n",
            "40:\tlearn: 1774.3864631\ttotal: 14.7s\tremaining: 56.9s\n",
            "50:\tlearn: 1735.6692988\ttotal: 17.9s\tremaining: 52.4s\n",
            "60:\tlearn: 1709.9854804\ttotal: 21.2s\tremaining: 48.2s\n",
            "70:\tlearn: 1688.7129156\ttotal: 24.5s\tremaining: 44.5s\n",
            "80:\tlearn: 1669.1842014\ttotal: 27.7s\tremaining: 40.6s\n",
            "90:\tlearn: 1653.1906457\ttotal: 31.1s\tremaining: 37.3s\n",
            "100:\tlearn: 1640.7779366\ttotal: 34.4s\tremaining: 33.7s\n",
            "110:\tlearn: 1629.1465522\ttotal: 37.7s\tremaining: 30.2s\n",
            "120:\tlearn: 1619.0493804\ttotal: 41.2s\tremaining: 26.9s\n",
            "130:\tlearn: 1609.8857262\ttotal: 44.7s\tremaining: 23.5s\n",
            "140:\tlearn: 1600.3918045\ttotal: 48.3s\tremaining: 20.2s\n",
            "150:\tlearn: 1593.3339439\ttotal: 51.6s\tremaining: 16.8s\n",
            "160:\tlearn: 1585.9418635\ttotal: 55.4s\tremaining: 13.4s\n",
            "170:\tlearn: 1579.4548386\ttotal: 58.7s\tremaining: 9.96s\n",
            "180:\tlearn: 1571.7474621\ttotal: 1m 2s\tremaining: 6.54s\n",
            "190:\tlearn: 1565.0389051\ttotal: 1m 5s\tremaining: 3.1s\n",
            "199:\tlearn: 1560.0489438\ttotal: 1m 8s\tremaining: 0us\n",
            "0:\tlearn: 4259.5362658\ttotal: 363ms\tremaining: 1m 12s\n",
            "10:\tlearn: 2507.9044658\ttotal: 4.08s\tremaining: 1m 10s\n",
            "20:\tlearn: 2001.0585256\ttotal: 7.56s\tremaining: 1m 4s\n",
            "30:\tlearn: 1840.6897249\ttotal: 11s\tremaining: 60s\n",
            "40:\tlearn: 1778.8329468\ttotal: 14.5s\tremaining: 56s\n",
            "50:\tlearn: 1736.7603788\ttotal: 17.9s\tremaining: 52.2s\n",
            "60:\tlearn: 1707.2410915\ttotal: 21s\tremaining: 47.8s\n",
            "70:\tlearn: 1690.5394737\ttotal: 24.2s\tremaining: 44s\n",
            "80:\tlearn: 1672.3446623\ttotal: 27.6s\tremaining: 40.6s\n",
            "90:\tlearn: 1657.5169696\ttotal: 30.9s\tremaining: 37s\n",
            "100:\tlearn: 1646.0592108\ttotal: 34.3s\tremaining: 33.6s\n",
            "110:\tlearn: 1634.9074802\ttotal: 37.4s\tremaining: 30s\n",
            "120:\tlearn: 1624.7147631\ttotal: 40.8s\tremaining: 26.6s\n",
            "130:\tlearn: 1615.5597923\ttotal: 44.1s\tremaining: 23.2s\n",
            "140:\tlearn: 1607.7195039\ttotal: 47.4s\tremaining: 19.9s\n",
            "150:\tlearn: 1598.9363860\ttotal: 50.8s\tremaining: 16.5s\n",
            "160:\tlearn: 1590.8142313\ttotal: 54.4s\tremaining: 13.2s\n",
            "170:\tlearn: 1583.9129779\ttotal: 57.7s\tremaining: 9.79s\n",
            "180:\tlearn: 1576.5995532\ttotal: 1m 1s\tremaining: 6.41s\n",
            "190:\tlearn: 1569.8635245\ttotal: 1m 4s\tremaining: 3.03s\n",
            "199:\tlearn: 1563.6650606\ttotal: 1m 7s\tremaining: 0us\n",
            "0:\tlearn: 4259.2679655\ttotal: 379ms\tremaining: 1m 15s\n",
            "10:\tlearn: 2516.3926314\ttotal: 4.22s\tremaining: 1m 12s\n",
            "20:\tlearn: 2012.3898192\ttotal: 8.26s\tremaining: 1m 10s\n",
            "30:\tlearn: 1839.6265551\ttotal: 11.5s\tremaining: 1m 2s\n",
            "40:\tlearn: 1773.8032921\ttotal: 14.6s\tremaining: 56.5s\n",
            "50:\tlearn: 1738.1957698\ttotal: 17.9s\tremaining: 52.3s\n",
            "60:\tlearn: 1712.6381770\ttotal: 21.2s\tremaining: 48.3s\n",
            "70:\tlearn: 1689.0731143\ttotal: 24.6s\tremaining: 44.6s\n",
            "80:\tlearn: 1672.1117481\ttotal: 28s\tremaining: 41.1s\n",
            "90:\tlearn: 1656.8245673\ttotal: 31.2s\tremaining: 37.4s\n",
            "100:\tlearn: 1644.5829379\ttotal: 34.4s\tremaining: 33.7s\n",
            "110:\tlearn: 1633.5780280\ttotal: 37.9s\tremaining: 30.4s\n",
            "120:\tlearn: 1623.2165603\ttotal: 41.2s\tremaining: 26.9s\n",
            "130:\tlearn: 1612.2328819\ttotal: 44.3s\tremaining: 23.3s\n",
            "140:\tlearn: 1604.8933270\ttotal: 47.9s\tremaining: 20.1s\n",
            "150:\tlearn: 1596.5057198\ttotal: 51.3s\tremaining: 16.7s\n",
            "160:\tlearn: 1588.0296344\ttotal: 54.9s\tremaining: 13.3s\n",
            "170:\tlearn: 1581.0574494\ttotal: 58.3s\tremaining: 9.89s\n",
            "180:\tlearn: 1574.7810086\ttotal: 1m 1s\tremaining: 6.49s\n",
            "190:\tlearn: 1569.0295673\ttotal: 1m 5s\tremaining: 3.07s\n",
            "199:\tlearn: 1563.9582363\ttotal: 1m 8s\tremaining: 0us\n",
            "0:\tlearn: 4262.5003982\ttotal: 378ms\tremaining: 1m 15s\n",
            "10:\tlearn: 2511.7047839\ttotal: 4.05s\tremaining: 1m 9s\n",
            "20:\tlearn: 2000.2576641\ttotal: 7.69s\tremaining: 1m 5s\n",
            "30:\tlearn: 1842.1360789\ttotal: 11.1s\tremaining: 1m\n",
            "40:\tlearn: 1779.4205028\ttotal: 14.5s\tremaining: 56.1s\n",
            "50:\tlearn: 1737.5827010\ttotal: 17.6s\tremaining: 51.3s\n",
            "60:\tlearn: 1710.8989772\ttotal: 20.7s\tremaining: 47.2s\n",
            "70:\tlearn: 1689.1783000\ttotal: 24.2s\tremaining: 44s\n",
            "80:\tlearn: 1671.8456400\ttotal: 27.4s\tremaining: 40.2s\n",
            "90:\tlearn: 1657.7487639\ttotal: 30.7s\tremaining: 36.8s\n",
            "100:\tlearn: 1644.5956794\ttotal: 33.8s\tremaining: 33.2s\n",
            "110:\tlearn: 1633.2136058\ttotal: 37.2s\tremaining: 29.9s\n",
            "120:\tlearn: 1623.1686755\ttotal: 40.6s\tremaining: 26.5s\n",
            "130:\tlearn: 1612.5964205\ttotal: 43.8s\tremaining: 23.1s\n",
            "140:\tlearn: 1604.5590925\ttotal: 47.2s\tremaining: 19.7s\n",
            "150:\tlearn: 1595.7177825\ttotal: 50.5s\tremaining: 16.4s\n",
            "160:\tlearn: 1589.3199856\ttotal: 53.9s\tremaining: 13s\n",
            "170:\tlearn: 1580.9282709\ttotal: 57.4s\tremaining: 9.74s\n",
            "180:\tlearn: 1574.8348978\ttotal: 1m 1s\tremaining: 6.42s\n",
            "190:\tlearn: 1568.0586375\ttotal: 1m 4s\tremaining: 3.04s\n",
            "199:\tlearn: 1562.7275505\ttotal: 1m 7s\tremaining: 0us\n",
            "0:\tlearn: 4246.8420337\ttotal: 150ms\tremaining: 14.8s\n",
            "10:\tlearn: 2511.2732547\ttotal: 1.58s\tremaining: 12.8s\n",
            "20:\tlearn: 1966.8297863\ttotal: 2.97s\tremaining: 11.2s\n",
            "30:\tlearn: 1787.5735570\ttotal: 4.35s\tremaining: 9.69s\n",
            "40:\tlearn: 1722.0566920\ttotal: 5.79s\tremaining: 8.34s\n",
            "50:\tlearn: 1685.4238994\ttotal: 7.24s\tremaining: 6.96s\n",
            "60:\tlearn: 1664.2391625\ttotal: 8.72s\tremaining: 5.57s\n",
            "70:\tlearn: 1642.8615267\ttotal: 10.2s\tremaining: 4.16s\n",
            "80:\tlearn: 1624.7971077\ttotal: 11.6s\tremaining: 2.73s\n",
            "90:\tlearn: 1607.6373411\ttotal: 13.1s\tremaining: 1.29s\n",
            "99:\tlearn: 1595.0667337\ttotal: 14.3s\tremaining: 0us\n",
            "0:\tlearn: 4262.6278379\ttotal: 154ms\tremaining: 15.2s\n",
            "10:\tlearn: 2514.6603190\ttotal: 1.61s\tremaining: 13s\n",
            "20:\tlearn: 1974.6462265\ttotal: 3.06s\tremaining: 11.5s\n",
            "30:\tlearn: 1793.0638522\ttotal: 4.46s\tremaining: 9.92s\n",
            "40:\tlearn: 1721.3082153\ttotal: 5.91s\tremaining: 8.51s\n",
            "50:\tlearn: 1683.7806288\ttotal: 7.33s\tremaining: 7.04s\n",
            "60:\tlearn: 1661.3563018\ttotal: 8.78s\tremaining: 5.62s\n",
            "70:\tlearn: 1640.5373870\ttotal: 10.3s\tremaining: 4.2s\n",
            "80:\tlearn: 1615.9358691\ttotal: 11.7s\tremaining: 2.75s\n",
            "90:\tlearn: 1596.3663159\ttotal: 13.2s\tremaining: 1.3s\n",
            "99:\tlearn: 1581.7806647\ttotal: 14.5s\tremaining: 0us\n",
            "0:\tlearn: 4250.8771621\ttotal: 151ms\tremaining: 14.9s\n",
            "10:\tlearn: 2515.5096435\ttotal: 1.54s\tremaining: 12.5s\n",
            "20:\tlearn: 1972.6272548\ttotal: 2.89s\tremaining: 10.9s\n",
            "30:\tlearn: 1796.2884865\ttotal: 4.35s\tremaining: 9.69s\n",
            "40:\tlearn: 1727.6612383\ttotal: 5.79s\tremaining: 8.32s\n",
            "50:\tlearn: 1690.8172587\ttotal: 7.22s\tremaining: 6.93s\n",
            "60:\tlearn: 1664.5891296\ttotal: 8.66s\tremaining: 5.54s\n",
            "70:\tlearn: 1643.1847289\ttotal: 10.1s\tremaining: 4.11s\n",
            "80:\tlearn: 1627.0492450\ttotal: 11.5s\tremaining: 2.69s\n",
            "90:\tlearn: 1611.0170141\ttotal: 12.9s\tremaining: 1.27s\n",
            "99:\tlearn: 1599.0111067\ttotal: 14.2s\tremaining: 0us\n",
            "0:\tlearn: 4252.4379687\ttotal: 163ms\tremaining: 16.1s\n",
            "10:\tlearn: 2507.7192849\ttotal: 1.69s\tremaining: 13.7s\n",
            "20:\tlearn: 1984.5616086\ttotal: 3.06s\tremaining: 11.5s\n",
            "30:\tlearn: 1801.9110010\ttotal: 4.44s\tremaining: 9.89s\n",
            "40:\tlearn: 1733.1220213\ttotal: 5.85s\tremaining: 8.42s\n",
            "50:\tlearn: 1692.2499390\ttotal: 7.26s\tremaining: 6.98s\n",
            "60:\tlearn: 1668.0955836\ttotal: 8.76s\tremaining: 5.6s\n",
            "70:\tlearn: 1649.0865421\ttotal: 10.2s\tremaining: 4.18s\n",
            "80:\tlearn: 1623.4280620\ttotal: 11.7s\tremaining: 2.74s\n",
            "90:\tlearn: 1605.7000724\ttotal: 13.1s\tremaining: 1.29s\n",
            "99:\tlearn: 1591.2867208\ttotal: 14.4s\tremaining: 0us\n",
            "0:\tlearn: 4254.3724838\ttotal: 159ms\tremaining: 15.7s\n",
            "10:\tlearn: 2499.7700953\ttotal: 1.6s\tremaining: 13s\n",
            "20:\tlearn: 1992.4464858\ttotal: 3.03s\tremaining: 11.4s\n",
            "30:\tlearn: 1808.1030072\ttotal: 4.47s\tremaining: 9.95s\n",
            "40:\tlearn: 1734.7296222\ttotal: 5.94s\tremaining: 8.54s\n",
            "50:\tlearn: 1696.9523206\ttotal: 7.43s\tremaining: 7.14s\n",
            "60:\tlearn: 1671.0492362\ttotal: 8.93s\tremaining: 5.71s\n",
            "70:\tlearn: 1652.2660199\ttotal: 10.4s\tremaining: 4.24s\n",
            "80:\tlearn: 1625.6086314\ttotal: 11.8s\tremaining: 2.78s\n",
            "90:\tlearn: 1605.3653357\ttotal: 13.3s\tremaining: 1.32s\n",
            "99:\tlearn: 1591.0299413\ttotal: 14.6s\tremaining: 0us\n",
            "0:\tlearn: 4239.7573638\ttotal: 515ms\tremaining: 1m 42s\n",
            "10:\tlearn: 2428.7128322\ttotal: 6s\tremaining: 1m 43s\n",
            "20:\tlearn: 1927.9091742\ttotal: 11.4s\tremaining: 1m 37s\n",
            "30:\tlearn: 1764.6300843\ttotal: 16.8s\tremaining: 1m 31s\n",
            "40:\tlearn: 1693.8986386\ttotal: 21.7s\tremaining: 1m 24s\n",
            "50:\tlearn: 1661.8105630\ttotal: 27.1s\tremaining: 1m 19s\n",
            "60:\tlearn: 1635.8004795\ttotal: 32s\tremaining: 1m 12s\n",
            "70:\tlearn: 1617.8044881\ttotal: 36.9s\tremaining: 1m 7s\n",
            "80:\tlearn: 1601.4782056\ttotal: 42.3s\tremaining: 1m 2s\n",
            "90:\tlearn: 1587.5293418\ttotal: 47.3s\tremaining: 56.6s\n",
            "100:\tlearn: 1573.8638971\ttotal: 52.5s\tremaining: 51.4s\n",
            "110:\tlearn: 1562.2249499\ttotal: 57.7s\tremaining: 46.2s\n",
            "120:\tlearn: 1547.9033907\ttotal: 1m 2s\tremaining: 41.1s\n",
            "130:\tlearn: 1536.2692269\ttotal: 1m 8s\tremaining: 35.9s\n",
            "140:\tlearn: 1527.4707724\ttotal: 1m 13s\tremaining: 30.7s\n",
            "150:\tlearn: 1519.4284972\ttotal: 1m 18s\tremaining: 25.6s\n",
            "160:\tlearn: 1511.8929343\ttotal: 1m 24s\tremaining: 20.4s\n",
            "170:\tlearn: 1503.8597306\ttotal: 1m 29s\tremaining: 15.2s\n",
            "180:\tlearn: 1496.0824822\ttotal: 1m 35s\tremaining: 10s\n",
            "190:\tlearn: 1488.6402292\ttotal: 1m 40s\tremaining: 4.75s\n",
            "199:\tlearn: 1482.4114864\ttotal: 1m 46s\tremaining: 0us\n",
            "0:\tlearn: 4257.8257456\ttotal: 533ms\tremaining: 1m 46s\n",
            "10:\tlearn: 2439.7512284\ttotal: 5.71s\tremaining: 1m 38s\n",
            "20:\tlearn: 1927.9575763\ttotal: 11s\tremaining: 1m 33s\n",
            "30:\tlearn: 1770.2564408\ttotal: 16.3s\tremaining: 1m 28s\n",
            "40:\tlearn: 1703.1427380\ttotal: 21.2s\tremaining: 1m 22s\n",
            "50:\tlearn: 1667.4681288\ttotal: 25.9s\tremaining: 1m 15s\n",
            "60:\tlearn: 1639.8225383\ttotal: 30.5s\tremaining: 1m 9s\n",
            "70:\tlearn: 1619.0218945\ttotal: 35.5s\tremaining: 1m 4s\n",
            "80:\tlearn: 1602.4332783\ttotal: 40.5s\tremaining: 59.6s\n",
            "90:\tlearn: 1587.0678706\ttotal: 45.6s\tremaining: 54.6s\n",
            "100:\tlearn: 1572.1483628\ttotal: 50.9s\tremaining: 49.9s\n",
            "110:\tlearn: 1559.1556699\ttotal: 55.8s\tremaining: 44.7s\n",
            "120:\tlearn: 1547.3374954\ttotal: 1m 1s\tremaining: 39.9s\n",
            "130:\tlearn: 1535.4553542\ttotal: 1m 6s\tremaining: 35.3s\n",
            "140:\tlearn: 1525.5731754\ttotal: 1m 12s\tremaining: 30.3s\n",
            "150:\tlearn: 1516.0616003\ttotal: 1m 18s\tremaining: 25.4s\n",
            "160:\tlearn: 1506.2127107\ttotal: 1m 23s\tremaining: 20.3s\n",
            "170:\tlearn: 1497.4409504\ttotal: 1m 29s\tremaining: 15.2s\n",
            "180:\tlearn: 1492.3428200\ttotal: 1m 35s\tremaining: 9.98s\n",
            "190:\tlearn: 1482.6553068\ttotal: 1m 40s\tremaining: 4.75s\n",
            "199:\tlearn: 1477.6002694\ttotal: 1m 45s\tremaining: 0us\n",
            "0:\tlearn: 4251.3026833\ttotal: 552ms\tremaining: 1m 49s\n",
            "10:\tlearn: 2441.8038253\ttotal: 5.8s\tremaining: 1m 39s\n",
            "20:\tlearn: 1933.5089418\ttotal: 10.9s\tremaining: 1m 33s\n",
            "30:\tlearn: 1768.4858274\ttotal: 15.9s\tremaining: 1m 26s\n",
            "40:\tlearn: 1706.6363602\ttotal: 21.2s\tremaining: 1m 22s\n",
            "50:\tlearn: 1666.5589773\ttotal: 26s\tremaining: 1m 16s\n",
            "60:\tlearn: 1638.8125603\ttotal: 30.9s\tremaining: 1m 10s\n",
            "70:\tlearn: 1618.3726039\ttotal: 36.6s\tremaining: 1m 6s\n",
            "80:\tlearn: 1602.5346108\ttotal: 41.7s\tremaining: 1m 1s\n",
            "90:\tlearn: 1589.6906959\ttotal: 46.6s\tremaining: 55.9s\n",
            "100:\tlearn: 1574.7813653\ttotal: 51.8s\tremaining: 50.8s\n",
            "110:\tlearn: 1562.3494286\ttotal: 56.7s\tremaining: 45.5s\n",
            "120:\tlearn: 1549.1849948\ttotal: 1m 1s\tremaining: 40.4s\n",
            "130:\tlearn: 1538.5083925\ttotal: 1m 7s\tremaining: 35.3s\n",
            "140:\tlearn: 1526.8610780\ttotal: 1m 12s\tremaining: 30.2s\n",
            "150:\tlearn: 1518.1082236\ttotal: 1m 17s\tremaining: 25.1s\n",
            "160:\tlearn: 1511.0427636\ttotal: 1m 22s\tremaining: 19.9s\n",
            "170:\tlearn: 1503.3158897\ttotal: 1m 27s\tremaining: 14.9s\n",
            "180:\tlearn: 1496.1629540\ttotal: 1m 32s\tremaining: 9.72s\n",
            "190:\tlearn: 1489.2213668\ttotal: 1m 37s\tremaining: 4.61s\n",
            "199:\tlearn: 1480.2699271\ttotal: 1m 42s\tremaining: 0us\n",
            "0:\tlearn: 4249.9197933\ttotal: 475ms\tremaining: 1m 34s\n",
            "10:\tlearn: 2432.6647428\ttotal: 5.44s\tremaining: 1m 33s\n",
            "20:\tlearn: 1935.3989783\ttotal: 10.7s\tremaining: 1m 31s\n",
            "30:\tlearn: 1775.1885346\ttotal: 15.5s\tremaining: 1m 24s\n",
            "40:\tlearn: 1708.1646636\ttotal: 20.6s\tremaining: 1m 19s\n",
            "50:\tlearn: 1667.5750284\ttotal: 25.3s\tremaining: 1m 13s\n",
            "60:\tlearn: 1642.2153346\ttotal: 30.5s\tremaining: 1m 9s\n",
            "70:\tlearn: 1619.8589880\ttotal: 35.5s\tremaining: 1m 4s\n",
            "80:\tlearn: 1602.8452835\ttotal: 40.5s\tremaining: 59.5s\n",
            "90:\tlearn: 1587.6694887\ttotal: 45.7s\tremaining: 54.7s\n",
            "100:\tlearn: 1571.9792471\ttotal: 50.9s\tremaining: 49.9s\n",
            "110:\tlearn: 1558.2853155\ttotal: 56.3s\tremaining: 45.2s\n",
            "120:\tlearn: 1546.1495067\ttotal: 1m 1s\tremaining: 40.1s\n",
            "130:\tlearn: 1536.6991742\ttotal: 1m 6s\tremaining: 35.2s\n",
            "140:\tlearn: 1527.1775235\ttotal: 1m 11s\tremaining: 30.1s\n",
            "150:\tlearn: 1516.6627656\ttotal: 1m 17s\tremaining: 25.2s\n",
            "160:\tlearn: 1507.7785576\ttotal: 1m 22s\tremaining: 20s\n",
            "170:\tlearn: 1500.2442660\ttotal: 1m 27s\tremaining: 14.9s\n",
            "180:\tlearn: 1492.3385532\ttotal: 1m 33s\tremaining: 9.84s\n",
            "190:\tlearn: 1486.3953555\ttotal: 1m 39s\tremaining: 4.67s\n",
            "199:\tlearn: 1479.3669287\ttotal: 1m 44s\tremaining: 0us\n",
            "0:\tlearn: 4242.8020897\ttotal: 481ms\tremaining: 1m 35s\n",
            "10:\tlearn: 2432.2267799\ttotal: 5.46s\tremaining: 1m 33s\n",
            "20:\tlearn: 1931.6513795\ttotal: 10.5s\tremaining: 1m 29s\n",
            "30:\tlearn: 1775.5885825\ttotal: 15.3s\tremaining: 1m 23s\n",
            "40:\tlearn: 1706.9326125\ttotal: 19.9s\tremaining: 1m 17s\n",
            "50:\tlearn: 1671.2143685\ttotal: 25s\tremaining: 1m 13s\n",
            "60:\tlearn: 1640.6475568\ttotal: 29.9s\tremaining: 1m 8s\n",
            "70:\tlearn: 1622.5819835\ttotal: 34.7s\tremaining: 1m 3s\n",
            "80:\tlearn: 1603.9736401\ttotal: 39.6s\tremaining: 58.2s\n",
            "90:\tlearn: 1590.1889868\ttotal: 44.4s\tremaining: 53.2s\n",
            "100:\tlearn: 1577.3002144\ttotal: 50s\tremaining: 49s\n",
            "110:\tlearn: 1561.8353558\ttotal: 55.3s\tremaining: 44.3s\n",
            "120:\tlearn: 1550.6277377\ttotal: 1m\tremaining: 39.5s\n",
            "130:\tlearn: 1540.0250465\ttotal: 1m 5s\tremaining: 34.7s\n",
            "140:\tlearn: 1528.8014720\ttotal: 1m 11s\tremaining: 29.9s\n",
            "150:\tlearn: 1517.6905916\ttotal: 1m 16s\tremaining: 24.8s\n",
            "160:\tlearn: 1509.0866498\ttotal: 1m 21s\tremaining: 19.8s\n",
            "170:\tlearn: 1500.7704501\ttotal: 1m 27s\tremaining: 14.8s\n",
            "180:\tlearn: 1491.9537219\ttotal: 1m 33s\tremaining: 9.77s\n",
            "190:\tlearn: 1483.9909487\ttotal: 1m 38s\tremaining: 4.63s\n",
            "199:\tlearn: 1476.5056554\ttotal: 1m 43s\tremaining: 0us\n",
            "CPU times: user 16min 28s, sys: 15.5 s, total: 16min 43s\n",
            "Wall time: 17min 3s\n"
          ]
        },
        {
          "data": {
            "text/plain": [
              "{'depth': 11, 'iterations': 200, 'learning_rate': 0.1}"
            ]
          },
          "execution_count": 32,
          "metadata": {},
          "output_type": "execute_result"
        }
      ],
      "source": [
        "%%time\n",
        "\n",
        "model = CatBoostRegressor(loss_function='RMSE', random_state=random_state)\n",
        "\n",
        "parameters = {\n",
        "    'depth':  range (9, 13, 2),\n",
        "    'learning_rate': [0.1],\n",
        "    'iterations': [100, 200]\n",
        "}\n",
        "cat_features = ['VehicleType', 'Gearbox', 'Model', 'FuelType', 'Brand', 'Repaired']\n",
        "\n",
        "grid_cb = GridSearchCV(model, parameters, verbose=True, refit=False)\n",
        "grid_cb.fit(features_train, target_train, cat_features=cat_features, verbose=10)\n",
        "\n",
        "grid_cb.best_params_"
      ]
    },
    {
      "cell_type": "code",
      "execution_count": null,
      "metadata": {
        "id": "4BNON8f0os53",
        "outputId": "ab01861d-cf25-4aa7-8153-6d3dea8ccebe"
      },
      "outputs": [
        {
          "name": "stderr",
          "output_type": "stream",
          "text": [
            "/opt/conda/lib/python3.9/site-packages/lightgbm/sklearn.py:736: UserWarning: 'verbose' argument is deprecated and will be removed in a future release of LightGBM. Pass 'log_evaluation()' callback via 'callbacks' argument instead.\n",
            "  _log_warning(\"'verbose' argument is deprecated and will be removed in a future release of LightGBM. \"\n",
            "/opt/conda/lib/python3.9/site-packages/lightgbm/sklearn.py:736: UserWarning: 'verbose' argument is deprecated and will be removed in a future release of LightGBM. Pass 'log_evaluation()' callback via 'callbacks' argument instead.\n",
            "  _log_warning(\"'verbose' argument is deprecated and will be removed in a future release of LightGBM. \"\n",
            "/opt/conda/lib/python3.9/site-packages/lightgbm/sklearn.py:736: UserWarning: 'verbose' argument is deprecated and will be removed in a future release of LightGBM. Pass 'log_evaluation()' callback via 'callbacks' argument instead.\n",
            "  _log_warning(\"'verbose' argument is deprecated and will be removed in a future release of LightGBM. \"\n",
            "/opt/conda/lib/python3.9/site-packages/lightgbm/sklearn.py:736: UserWarning: 'verbose' argument is deprecated and will be removed in a future release of LightGBM. Pass 'log_evaluation()' callback via 'callbacks' argument instead.\n",
            "  _log_warning(\"'verbose' argument is deprecated and will be removed in a future release of LightGBM. \"\n",
            "/opt/conda/lib/python3.9/site-packages/lightgbm/sklearn.py:736: UserWarning: 'verbose' argument is deprecated and will be removed in a future release of LightGBM. Pass 'log_evaluation()' callback via 'callbacks' argument instead.\n",
            "  _log_warning(\"'verbose' argument is deprecated and will be removed in a future release of LightGBM. \"\n",
            "/opt/conda/lib/python3.9/site-packages/lightgbm/sklearn.py:736: UserWarning: 'verbose' argument is deprecated and will be removed in a future release of LightGBM. Pass 'log_evaluation()' callback via 'callbacks' argument instead.\n",
            "  _log_warning(\"'verbose' argument is deprecated and will be removed in a future release of LightGBM. \"\n",
            "/opt/conda/lib/python3.9/site-packages/lightgbm/sklearn.py:736: UserWarning: 'verbose' argument is deprecated and will be removed in a future release of LightGBM. Pass 'log_evaluation()' callback via 'callbacks' argument instead.\n",
            "  _log_warning(\"'verbose' argument is deprecated and will be removed in a future release of LightGBM. \"\n",
            "/opt/conda/lib/python3.9/site-packages/lightgbm/sklearn.py:736: UserWarning: 'verbose' argument is deprecated and will be removed in a future release of LightGBM. Pass 'log_evaluation()' callback via 'callbacks' argument instead.\n",
            "  _log_warning(\"'verbose' argument is deprecated and will be removed in a future release of LightGBM. \"\n",
            "/opt/conda/lib/python3.9/site-packages/lightgbm/sklearn.py:736: UserWarning: 'verbose' argument is deprecated and will be removed in a future release of LightGBM. Pass 'log_evaluation()' callback via 'callbacks' argument instead.\n",
            "  _log_warning(\"'verbose' argument is deprecated and will be removed in a future release of LightGBM. \"\n",
            "/opt/conda/lib/python3.9/site-packages/lightgbm/sklearn.py:736: UserWarning: 'verbose' argument is deprecated and will be removed in a future release of LightGBM. Pass 'log_evaluation()' callback via 'callbacks' argument instead.\n",
            "  _log_warning(\"'verbose' argument is deprecated and will be removed in a future release of LightGBM. \"\n",
            "/opt/conda/lib/python3.9/site-packages/lightgbm/sklearn.py:736: UserWarning: 'verbose' argument is deprecated and will be removed in a future release of LightGBM. Pass 'log_evaluation()' callback via 'callbacks' argument instead.\n",
            "  _log_warning(\"'verbose' argument is deprecated and will be removed in a future release of LightGBM. \"\n",
            "/opt/conda/lib/python3.9/site-packages/lightgbm/sklearn.py:736: UserWarning: 'verbose' argument is deprecated and will be removed in a future release of LightGBM. Pass 'log_evaluation()' callback via 'callbacks' argument instead.\n",
            "  _log_warning(\"'verbose' argument is deprecated and will be removed in a future release of LightGBM. \"\n",
            "/opt/conda/lib/python3.9/site-packages/lightgbm/sklearn.py:736: UserWarning: 'verbose' argument is deprecated and will be removed in a future release of LightGBM. Pass 'log_evaluation()' callback via 'callbacks' argument instead.\n",
            "  _log_warning(\"'verbose' argument is deprecated and will be removed in a future release of LightGBM. \"\n",
            "/opt/conda/lib/python3.9/site-packages/lightgbm/sklearn.py:736: UserWarning: 'verbose' argument is deprecated and will be removed in a future release of LightGBM. Pass 'log_evaluation()' callback via 'callbacks' argument instead.\n",
            "  _log_warning(\"'verbose' argument is deprecated and will be removed in a future release of LightGBM. \"\n",
            "/opt/conda/lib/python3.9/site-packages/lightgbm/sklearn.py:736: UserWarning: 'verbose' argument is deprecated and will be removed in a future release of LightGBM. Pass 'log_evaluation()' callback via 'callbacks' argument instead.\n",
            "  _log_warning(\"'verbose' argument is deprecated and will be removed in a future release of LightGBM. \"\n",
            "/opt/conda/lib/python3.9/site-packages/lightgbm/sklearn.py:736: UserWarning: 'verbose' argument is deprecated and will be removed in a future release of LightGBM. Pass 'log_evaluation()' callback via 'callbacks' argument instead.\n",
            "  _log_warning(\"'verbose' argument is deprecated and will be removed in a future release of LightGBM. \"\n",
            "/opt/conda/lib/python3.9/site-packages/lightgbm/sklearn.py:736: UserWarning: 'verbose' argument is deprecated and will be removed in a future release of LightGBM. Pass 'log_evaluation()' callback via 'callbacks' argument instead.\n",
            "  _log_warning(\"'verbose' argument is deprecated and will be removed in a future release of LightGBM. \"\n",
            "/opt/conda/lib/python3.9/site-packages/lightgbm/sklearn.py:736: UserWarning: 'verbose' argument is deprecated and will be removed in a future release of LightGBM. Pass 'log_evaluation()' callback via 'callbacks' argument instead.\n",
            "  _log_warning(\"'verbose' argument is deprecated and will be removed in a future release of LightGBM. \"\n",
            "/opt/conda/lib/python3.9/site-packages/lightgbm/sklearn.py:736: UserWarning: 'verbose' argument is deprecated and will be removed in a future release of LightGBM. Pass 'log_evaluation()' callback via 'callbacks' argument instead.\n",
            "  _log_warning(\"'verbose' argument is deprecated and will be removed in a future release of LightGBM. \"\n",
            "/opt/conda/lib/python3.9/site-packages/lightgbm/sklearn.py:736: UserWarning: 'verbose' argument is deprecated and will be removed in a future release of LightGBM. Pass 'log_evaluation()' callback via 'callbacks' argument instead.\n",
            "  _log_warning(\"'verbose' argument is deprecated and will be removed in a future release of LightGBM. \"\n"
          ]
        },
        {
          "name": "stdout",
          "output_type": "stream",
          "text": [
            "CPU times: user 11min 48s, sys: 9.38 s, total: 11min 57s\n",
            "Wall time: 12min 2s\n"
          ]
        },
        {
          "data": {
            "text/plain": [
              "{'learning_rate': 0.1, 'n_estimators': 400, 'num_leaves': 150}"
            ]
          },
          "execution_count": 34,
          "metadata": {},
          "output_type": "execute_result"
        }
      ],
      "source": [
        "%%time\n",
        "\n",
        "model = LGBMRegressor(objective='regression', metric='rmse', random_state=random_state)\n",
        "\n",
        "parameters = {\n",
        "    'num_leaves': [150, 200],\n",
        "    'learning_rate': [0.1],\n",
        "    'n_estimators': [200, 400]\n",
        "}\n",
        "\n",
        "grid_lgb = GridSearchCV(model, parameters, n_jobs=-1, refit=False)\n",
        "grid_lgb.fit(features_train_ohe, target_train_ohe, verbose=10)\n",
        "\n",
        "grid_lgb.best_params_"
      ]
    },
    {
      "cell_type": "markdown",
      "metadata": {
        "id": "h1ZfBYoros53"
      },
      "source": [
        "## Анализ моделей"
      ]
    },
    {
      "cell_type": "markdown",
      "metadata": {
        "id": "nBZIgAgSos53"
      },
      "source": [
        "Проанализируйте время обучения, время предсказания и качество моделей."
      ]
    },
    {
      "cell_type": "markdown",
      "metadata": {
        "id": "mgF-N7MJos53"
      },
      "source": [
        "Случайный лес:"
      ]
    },
    {
      "cell_type": "code",
      "execution_count": null,
      "metadata": {
        "id": "B93mZ-6sos54",
        "outputId": "91c42d51-7083-4a9c-a43e-e0f2fd16bc94"
      },
      "outputs": [
        {
          "name": "stdout",
          "output_type": "stream",
          "text": [
            "CPU times: user 3.37 s, sys: 208 ms, total: 3.58 s\n",
            "Wall time: 3.58 s\n"
          ]
        },
        {
          "data": {
            "text/plain": [
              "RandomForestRegressor(max_depth=1, n_estimators=12, random_state=12345)"
            ]
          },
          "execution_count": 35,
          "metadata": {},
          "output_type": "execute_result"
        }
      ],
      "source": [
        "%%time\n",
        "\n",
        "model_rf = RandomForestRegressor(max_depth=best_depth, n_estimators=best_est, random_state=random_state)\n",
        "model_rf.fit(features_train_ohe, target_train_ohe)"
      ]
    },
    {
      "cell_type": "code",
      "execution_count": null,
      "metadata": {
        "id": "IX86GB2Cos54",
        "outputId": "2db604ad-16cb-4b80-c276-814229b1a418"
      },
      "outputs": [
        {
          "name": "stdout",
          "output_type": "stream",
          "text": [
            "CPU times: user 26.1 ms, sys: 7.41 ms, total: 33.5 ms\n",
            "Wall time: 31.3 ms\n"
          ]
        }
      ],
      "source": [
        "%%time\n",
        "\n",
        "pred_rf = model_rf.predict(features_valid_ohe)"
      ]
    },
    {
      "cell_type": "code",
      "execution_count": null,
      "metadata": {
        "id": "zwb7-YMAos54",
        "outputId": "4151ab00-16ed-4b4e-eabf-c66b31c1273e"
      },
      "outputs": [
        {
          "name": "stdout",
          "output_type": "stream",
          "text": [
            "3813.5266630194533\n"
          ]
        }
      ],
      "source": [
        "rmse_rf = mean_squared_error(target_valid_ohe, pred_rf) ** 0.5\n",
        "print(rmse_rf)"
      ]
    },
    {
      "cell_type": "markdown",
      "metadata": {
        "id": "MHfi67zLos54"
      },
      "source": [
        "CatBoost:"
      ]
    },
    {
      "cell_type": "code",
      "execution_count": null,
      "metadata": {
        "id": "skjSOM97os54",
        "outputId": "af0fb59b-8479-4c77-f6e6-a4ee48863d3e"
      },
      "outputs": [
        {
          "name": "stdout",
          "output_type": "stream",
          "text": [
            "0:\tlearn: 4244.0599153\ttotal: 736ms\tremaining: 2m 26s\n",
            "10:\tlearn: 2429.4385906\ttotal: 7.41s\tremaining: 2m 7s\n",
            "20:\tlearn: 1928.4788039\ttotal: 13.6s\tremaining: 1m 56s\n",
            "30:\tlearn: 1767.8484256\ttotal: 20.2s\tremaining: 1m 50s\n",
            "40:\tlearn: 1703.7142990\ttotal: 26.4s\tremaining: 1m 42s\n",
            "50:\tlearn: 1668.8691263\ttotal: 32.2s\tremaining: 1m 33s\n",
            "60:\tlearn: 1643.9107040\ttotal: 37.9s\tremaining: 1m 26s\n",
            "70:\tlearn: 1621.5562727\ttotal: 43.9s\tremaining: 1m 19s\n",
            "80:\tlearn: 1606.1447896\ttotal: 50s\tremaining: 1m 13s\n",
            "90:\tlearn: 1592.8139219\ttotal: 56.4s\tremaining: 1m 7s\n",
            "100:\tlearn: 1582.2562415\ttotal: 1m 3s\tremaining: 1m 1s\n",
            "110:\tlearn: 1570.2105949\ttotal: 1m 9s\tremaining: 55.9s\n",
            "120:\tlearn: 1558.8302477\ttotal: 1m 15s\tremaining: 49.6s\n",
            "130:\tlearn: 1550.3282643\ttotal: 1m 22s\tremaining: 43.3s\n",
            "140:\tlearn: 1539.4579458\ttotal: 1m 28s\tremaining: 37s\n",
            "150:\tlearn: 1531.4140837\ttotal: 1m 35s\tremaining: 30.9s\n",
            "160:\tlearn: 1522.4618037\ttotal: 1m 41s\tremaining: 24.6s\n",
            "170:\tlearn: 1513.3307605\ttotal: 1m 47s\tremaining: 18.3s\n",
            "180:\tlearn: 1505.9701394\ttotal: 1m 54s\tremaining: 12s\n",
            "190:\tlearn: 1499.3880116\ttotal: 2m 1s\tremaining: 5.72s\n",
            "199:\tlearn: 1494.2810667\ttotal: 2m 7s\tremaining: 0us\n",
            "CPU times: user 2min 7s, sys: 513 ms, total: 2min 8s\n",
            "Wall time: 2min 9s\n"
          ]
        },
        {
          "data": {
            "text/plain": [
              "<catboost.core.CatBoostRegressor at 0x7f61200f3c10>"
            ]
          },
          "execution_count": 38,
          "metadata": {},
          "output_type": "execute_result"
        }
      ],
      "source": [
        "%%time\n",
        "\n",
        "model_cb = CatBoostRegressor(random_state=random_state, loss_function='RMSE', **grid_cb.best_params_)\n",
        "model_cb.fit(features_train, target_train, cat_features=cat_features, verbose=10)"
      ]
    },
    {
      "cell_type": "code",
      "execution_count": null,
      "metadata": {
        "id": "Pe1OOkZEos55",
        "outputId": "afddf80d-9b81-421d-febf-8c7865304ab2"
      },
      "outputs": [
        {
          "name": "stdout",
          "output_type": "stream",
          "text": [
            "CPU times: user 63.8 ms, sys: 64 µs, total: 63.9 ms\n",
            "Wall time: 62 ms\n"
          ]
        }
      ],
      "source": [
        "%%time\n",
        "\n",
        "pred_cb = model_cb.predict(features_valid)"
      ]
    },
    {
      "cell_type": "code",
      "execution_count": null,
      "metadata": {
        "id": "2pBeRIDGos55",
        "outputId": "98d6e1cc-57d2-45e4-efa5-73178078ced0"
      },
      "outputs": [
        {
          "name": "stdout",
          "output_type": "stream",
          "text": [
            "1600.064118374487\n"
          ]
        }
      ],
      "source": [
        "rmse_cb = mean_squared_error(target_valid, pred_cb) ** 0.5\n",
        "print(rmse_cb)"
      ]
    },
    {
      "cell_type": "markdown",
      "metadata": {
        "id": "JQNKMABkos55"
      },
      "source": [
        "LightGBM:"
      ]
    },
    {
      "cell_type": "code",
      "execution_count": null,
      "metadata": {
        "id": "YnNDiulNos55",
        "outputId": "05e74129-8f0f-4bb1-cc7e-0e98dd91f867"
      },
      "outputs": [
        {
          "name": "stdout",
          "output_type": "stream",
          "text": [
            "CPU times: user 40.4 s, sys: 491 ms, total: 40.9 s\n",
            "Wall time: 41.1 s\n"
          ]
        },
        {
          "data": {
            "text/plain": [
              "LGBMRegressor(n_estimators=400, num_leaves=150, random_state=12345)"
            ]
          },
          "execution_count": 42,
          "metadata": {},
          "output_type": "execute_result"
        }
      ],
      "source": [
        "%%time\n",
        "\n",
        "model_lgbmr = LGBMRegressor(random_state=random_state, **grid_lgb.best_params_, n_jobs=-1)\n",
        "model_lgbmr.fit(features_train_ohe, target_train_ohe)"
      ]
    },
    {
      "cell_type": "code",
      "execution_count": null,
      "metadata": {
        "id": "nMPlLmvLos55",
        "outputId": "dba5ce46-46d0-4751-ae55-a352f79320cc"
      },
      "outputs": [
        {
          "name": "stdout",
          "output_type": "stream",
          "text": [
            "CPU times: user 1.08 s, sys: 16.7 ms, total: 1.1 s\n",
            "Wall time: 1.07 s\n"
          ]
        }
      ],
      "source": [
        "%%time\n",
        "\n",
        "pred_lgbmr = model_lgbmr.predict(features_valid_ohe)"
      ]
    },
    {
      "cell_type": "code",
      "execution_count": null,
      "metadata": {
        "id": "JFV1k7Y6os55",
        "outputId": "bffb24dd-79ec-4316-c4d1-10081576deeb"
      },
      "outputs": [
        {
          "name": "stdout",
          "output_type": "stream",
          "text": [
            "1560.1228002837054\n"
          ]
        }
      ],
      "source": [
        "rmse_lgbmr = mean_squared_error(target_valid_ohe, pred_lgbmr) ** 0.5\n",
        "print(rmse_lgbmr)"
      ]
    },
    {
      "cell_type": "markdown",
      "metadata": {
        "id": "ZDTElrFzos56"
      },
      "source": [
        "### Выбор лучшей модели"
      ]
    },
    {
      "cell_type": "markdown",
      "metadata": {
        "id": "SQPRjt5Nos56"
      },
      "source": [
        "Оценка полученных моделей была проведена на основе критериев, выбранных заказчиком изначально:\n",
        "- качество предсказания;\n",
        "- время обучения модели;\n",
        "- время предсказания модели.\n",
        "\n",
        "В результате проведенного исследования хорошее качество показала модель CatBoost с ошибкой прогноза RMSE равной 1600 и временем предсказания - 62 мс. Однако, время обучения данной модели оставляет желать лучшего (2 мин).\n",
        "\n",
        "Худший же результат качества показала модель Случайного леса (rmse = 3813.5), что не соответствует заданному пороговому значению в 2500. В то же время, данная модель показала одни из лучших результатов по времени обучения (3 сек) и прогноза (31 мс).\n",
        "\n",
        "Оценивая все факторы в совокупности, для дальнейшей работы была выбрана модель LightGBM с высоким качеством (rmse = 1560) и быстрым обучением (41 сек) и прогнозом (1 сек)."
      ]
    },
    {
      "cell_type": "markdown",
      "metadata": {
        "id": "739-H2tros56"
      },
      "source": [
        "В заключпение, проверим качество работы выбранной модели на тестовой выборке:"
      ]
    },
    {
      "cell_type": "code",
      "execution_count": null,
      "metadata": {
        "id": "nyfOfsfWos57",
        "outputId": "c4157e9f-e2d9-44ac-9c41-6982e8760f70"
      },
      "outputs": [
        {
          "name": "stdout",
          "output_type": "stream",
          "text": [
            "1550.7338354009116\n",
            "CPU times: user 3.18 s, sys: 42.8 ms, total: 3.22 s\n",
            "Wall time: 3.17 s\n"
          ]
        }
      ],
      "source": [
        "%%time\n",
        "\n",
        "pred_lgbmr = model_lgbmr.predict(features_test_ohe)\n",
        "rmse_lgbmr = mean_squared_error(target_test_ohe, pred_lgbmr) ** 0.5\n",
        "print(rmse_lgbmr)"
      ]
    },
    {
      "cell_type": "markdown",
      "metadata": {
        "id": "ZSsLuclZos57"
      },
      "source": [
        "Выбранная модель соответствует критериям при проверке на тестовой выборке."
      ]
    },
    {
      "cell_type": "code",
      "execution_count": null,
      "metadata": {
        "id": "J3G9FbgOos57"
      },
      "outputs": [],
      "source": []
    }
  ],
  "metadata": {
    "ExecuteTimeLog": [
      {
        "duration": 1484,
        "start_time": "2023-06-29T15:42:52.983Z"
      },
      {
        "duration": 960,
        "start_time": "2023-06-29T15:42:54.468Z"
      },
      {
        "duration": 16,
        "start_time": "2023-06-29T15:43:18.038Z"
      },
      {
        "duration": 12,
        "start_time": "2023-06-29T15:43:27.423Z"
      },
      {
        "duration": 106,
        "start_time": "2023-06-29T15:43:44.135Z"
      },
      {
        "duration": 107,
        "start_time": "2023-06-29T15:43:52.295Z"
      },
      {
        "duration": 23,
        "start_time": "2023-06-29T15:47:55.121Z"
      },
      {
        "duration": 117,
        "start_time": "2023-06-29T15:48:00.374Z"
      },
      {
        "duration": 12,
        "start_time": "2023-06-29T15:48:09.401Z"
      },
      {
        "duration": 16,
        "start_time": "2023-06-29T15:52:25.061Z"
      },
      {
        "duration": 11,
        "start_time": "2023-06-29T15:55:22.565Z"
      },
      {
        "duration": 14,
        "start_time": "2023-06-29T15:55:39.721Z"
      },
      {
        "duration": 12,
        "start_time": "2023-06-29T15:56:04.603Z"
      },
      {
        "duration": 3,
        "start_time": "2023-06-29T15:57:14.274Z"
      },
      {
        "duration": 773,
        "start_time": "2023-06-29T15:57:14.282Z"
      },
      {
        "duration": 13,
        "start_time": "2023-06-29T15:57:15.057Z"
      },
      {
        "duration": 121,
        "start_time": "2023-06-29T15:57:15.071Z"
      },
      {
        "duration": 82,
        "start_time": "2023-06-29T15:57:15.199Z"
      },
      {
        "duration": 29,
        "start_time": "2023-06-29T15:57:15.283Z"
      },
      {
        "duration": 78,
        "start_time": "2023-06-29T15:58:16.171Z"
      },
      {
        "duration": 167,
        "start_time": "2023-06-29T16:01:14.570Z"
      },
      {
        "duration": 151,
        "start_time": "2023-06-29T16:02:51.838Z"
      },
      {
        "duration": 196,
        "start_time": "2023-06-29T16:04:04.014Z"
      },
      {
        "duration": 137,
        "start_time": "2023-06-29T16:04:13.422Z"
      },
      {
        "duration": 3,
        "start_time": "2023-06-29T16:04:30.390Z"
      },
      {
        "duration": 683,
        "start_time": "2023-06-29T16:04:30.454Z"
      },
      {
        "duration": 11,
        "start_time": "2023-06-29T16:04:31.139Z"
      },
      {
        "duration": 134,
        "start_time": "2023-06-29T16:04:31.151Z"
      },
      {
        "duration": 84,
        "start_time": "2023-06-29T16:04:31.286Z"
      },
      {
        "duration": 27,
        "start_time": "2023-06-29T16:04:31.372Z"
      },
      {
        "duration": 166,
        "start_time": "2023-06-29T16:04:31.401Z"
      },
      {
        "duration": 179,
        "start_time": "2023-06-29T16:04:31.568Z"
      },
      {
        "duration": 134,
        "start_time": "2023-06-29T16:04:31.748Z"
      },
      {
        "duration": 65,
        "start_time": "2023-06-29T16:04:31.883Z"
      },
      {
        "duration": 2,
        "start_time": "2023-06-29T16:07:46.650Z"
      },
      {
        "duration": 2,
        "start_time": "2023-06-29T16:34:23.528Z"
      },
      {
        "duration": 6,
        "start_time": "2023-06-29T16:34:35.388Z"
      },
      {
        "duration": 2,
        "start_time": "2023-06-29T16:34:54.200Z"
      },
      {
        "duration": 20,
        "start_time": "2023-06-29T16:35:06.928Z"
      },
      {
        "duration": 59,
        "start_time": "2023-06-29T16:35:22.317Z"
      },
      {
        "duration": 1237,
        "start_time": "2023-06-29T16:40:50.843Z"
      },
      {
        "duration": 752,
        "start_time": "2023-06-29T16:40:52.082Z"
      },
      {
        "duration": 28,
        "start_time": "2023-06-29T16:40:52.836Z"
      },
      {
        "duration": 150,
        "start_time": "2023-06-29T16:40:52.866Z"
      },
      {
        "duration": 3,
        "start_time": "2023-06-29T16:40:53.019Z"
      },
      {
        "duration": 39,
        "start_time": "2023-06-29T16:40:53.023Z"
      },
      {
        "duration": 306,
        "start_time": "2023-06-29T16:40:53.064Z"
      },
      {
        "duration": 344,
        "start_time": "2023-06-29T16:40:53.372Z"
      },
      {
        "duration": 169,
        "start_time": "2023-06-29T16:40:53.718Z"
      },
      {
        "duration": 127,
        "start_time": "2023-06-29T16:40:53.888Z"
      },
      {
        "duration": 3,
        "start_time": "2023-06-29T16:40:54.019Z"
      },
      {
        "duration": 122,
        "start_time": "2023-06-29T16:40:54.024Z"
      },
      {
        "duration": 78,
        "start_time": "2023-06-29T16:40:54.148Z"
      },
      {
        "duration": 71,
        "start_time": "2023-06-29T16:45:37.493Z"
      },
      {
        "duration": 1832,
        "start_time": "2023-06-29T18:38:43.597Z"
      },
      {
        "duration": 5,
        "start_time": "2023-06-29T18:38:53.572Z"
      },
      {
        "duration": 1458,
        "start_time": "2023-06-29T18:38:53.580Z"
      },
      {
        "duration": 25,
        "start_time": "2023-06-29T18:38:55.040Z"
      },
      {
        "duration": 141,
        "start_time": "2023-06-29T18:38:55.068Z"
      },
      {
        "duration": 3,
        "start_time": "2023-06-29T18:38:55.213Z"
      },
      {
        "duration": 51,
        "start_time": "2023-06-29T18:38:55.219Z"
      },
      {
        "duration": 242,
        "start_time": "2023-06-29T18:38:55.273Z"
      },
      {
        "duration": 295,
        "start_time": "2023-06-29T18:38:55.517Z"
      },
      {
        "duration": 219,
        "start_time": "2023-06-29T18:38:55.815Z"
      },
      {
        "duration": 91,
        "start_time": "2023-06-29T18:38:56.037Z"
      },
      {
        "duration": 3,
        "start_time": "2023-06-29T18:38:56.130Z"
      },
      {
        "duration": 92,
        "start_time": "2023-06-29T18:38:56.135Z"
      },
      {
        "duration": 82,
        "start_time": "2023-06-29T18:38:56.229Z"
      },
      {
        "duration": 101,
        "start_time": "2023-06-29T18:38:56.314Z"
      },
      {
        "duration": 251,
        "start_time": "2023-06-29T18:55:01.429Z"
      },
      {
        "duration": 122,
        "start_time": "2023-06-29T18:55:52.908Z"
      },
      {
        "duration": 172,
        "start_time": "2023-06-29T18:56:18.420Z"
      },
      {
        "duration": 517,
        "start_time": "2023-06-29T19:00:30.086Z"
      },
      {
        "duration": 680,
        "start_time": "2023-06-29T19:02:08.046Z"
      },
      {
        "duration": 489,
        "start_time": "2023-06-29T19:03:19.615Z"
      },
      {
        "duration": 494,
        "start_time": "2023-06-29T19:03:30.624Z"
      },
      {
        "duration": 584,
        "start_time": "2023-06-29T19:03:42.457Z"
      },
      {
        "duration": 508,
        "start_time": "2023-06-29T19:04:05.616Z"
      },
      {
        "duration": 495,
        "start_time": "2023-06-29T19:07:41.347Z"
      },
      {
        "duration": 523,
        "start_time": "2023-06-29T19:08:06.496Z"
      },
      {
        "duration": 11,
        "start_time": "2023-06-29T19:12:51.868Z"
      },
      {
        "duration": 49,
        "start_time": "2023-06-29T19:13:35.359Z"
      },
      {
        "duration": 14,
        "start_time": "2023-06-29T19:17:24.496Z"
      },
      {
        "duration": 15,
        "start_time": "2023-06-29T19:18:05.970Z"
      },
      {
        "duration": 35,
        "start_time": "2023-06-29T19:18:15.826Z"
      },
      {
        "duration": 37,
        "start_time": "2023-06-29T19:22:30.462Z"
      },
      {
        "duration": 27,
        "start_time": "2023-06-29T19:22:50.035Z"
      },
      {
        "duration": 33,
        "start_time": "2023-06-29T19:23:54.463Z"
      },
      {
        "duration": 10,
        "start_time": "2023-06-29T19:23:56.603Z"
      },
      {
        "duration": 24,
        "start_time": "2023-06-29T19:23:58.056Z"
      },
      {
        "duration": 17,
        "start_time": "2023-06-29T19:23:59.014Z"
      },
      {
        "duration": 5,
        "start_time": "2023-06-29T19:24:49.247Z"
      },
      {
        "duration": 927,
        "start_time": "2023-06-29T19:24:49.255Z"
      },
      {
        "duration": 15,
        "start_time": "2023-06-29T19:24:50.184Z"
      },
      {
        "duration": 133,
        "start_time": "2023-06-29T19:24:50.201Z"
      },
      {
        "duration": 3,
        "start_time": "2023-06-29T19:24:50.337Z"
      },
      {
        "duration": 34,
        "start_time": "2023-06-29T19:24:50.352Z"
      },
      {
        "duration": 342,
        "start_time": "2023-06-29T19:24:50.389Z"
      },
      {
        "duration": 312,
        "start_time": "2023-06-29T19:24:50.733Z"
      },
      {
        "duration": 189,
        "start_time": "2023-06-29T19:24:51.047Z"
      },
      {
        "duration": 73,
        "start_time": "2023-06-29T19:24:51.238Z"
      },
      {
        "duration": 7,
        "start_time": "2023-06-29T19:24:51.314Z"
      },
      {
        "duration": 115,
        "start_time": "2023-06-29T19:24:51.323Z"
      },
      {
        "duration": 66,
        "start_time": "2023-06-29T19:24:51.440Z"
      },
      {
        "duration": 100,
        "start_time": "2023-06-29T19:24:51.508Z"
      },
      {
        "duration": 481,
        "start_time": "2023-06-29T19:24:51.610Z"
      },
      {
        "duration": 23,
        "start_time": "2023-06-29T19:24:52.093Z"
      },
      {
        "duration": 40,
        "start_time": "2023-06-29T19:24:52.118Z"
      },
      {
        "duration": 24,
        "start_time": "2023-06-29T19:24:52.160Z"
      },
      {
        "duration": 19,
        "start_time": "2023-06-29T19:24:52.185Z"
      },
      {
        "duration": 26,
        "start_time": "2023-06-29T19:28:04.299Z"
      },
      {
        "duration": 22,
        "start_time": "2023-06-29T19:28:18.354Z"
      },
      {
        "duration": 24,
        "start_time": "2023-06-29T19:35:46.806Z"
      },
      {
        "duration": 17,
        "start_time": "2023-06-29T19:38:36.044Z"
      },
      {
        "duration": 24,
        "start_time": "2023-06-29T19:40:31.316Z"
      },
      {
        "duration": 64,
        "start_time": "2023-06-29T19:40:43.576Z"
      },
      {
        "duration": 15,
        "start_time": "2023-06-29T20:14:19.034Z"
      },
      {
        "duration": 18,
        "start_time": "2023-06-29T20:15:25.707Z"
      },
      {
        "duration": 18,
        "start_time": "2023-06-29T20:15:43.218Z"
      },
      {
        "duration": 1547,
        "start_time": "2023-06-29T20:20:28.153Z"
      },
      {
        "duration": 925,
        "start_time": "2023-06-29T20:20:29.702Z"
      },
      {
        "duration": 24,
        "start_time": "2023-06-29T20:20:30.629Z"
      },
      {
        "duration": 141,
        "start_time": "2023-06-29T20:20:30.656Z"
      },
      {
        "duration": 3,
        "start_time": "2023-06-29T20:20:30.799Z"
      },
      {
        "duration": 57,
        "start_time": "2023-06-29T20:20:30.803Z"
      },
      {
        "duration": 242,
        "start_time": "2023-06-29T20:20:30.862Z"
      },
      {
        "duration": 294,
        "start_time": "2023-06-29T20:20:31.106Z"
      },
      {
        "duration": 193,
        "start_time": "2023-06-29T20:20:31.402Z"
      },
      {
        "duration": 80,
        "start_time": "2023-06-29T20:20:31.598Z"
      },
      {
        "duration": 4,
        "start_time": "2023-06-29T20:20:31.680Z"
      },
      {
        "duration": 84,
        "start_time": "2023-06-29T20:20:31.686Z"
      },
      {
        "duration": 68,
        "start_time": "2023-06-29T20:20:31.771Z"
      },
      {
        "duration": 79,
        "start_time": "2023-06-29T20:20:31.851Z"
      },
      {
        "duration": 502,
        "start_time": "2023-06-29T20:20:31.932Z"
      },
      {
        "duration": 41,
        "start_time": "2023-06-29T20:20:32.435Z"
      },
      {
        "duration": 22,
        "start_time": "2023-06-29T20:20:32.478Z"
      },
      {
        "duration": 33,
        "start_time": "2023-06-29T20:20:32.501Z"
      },
      {
        "duration": 17,
        "start_time": "2023-06-29T20:20:32.553Z"
      },
      {
        "duration": 24,
        "start_time": "2023-06-29T20:20:32.571Z"
      },
      {
        "duration": 17,
        "start_time": "2023-06-29T20:20:32.597Z"
      },
      {
        "duration": 50,
        "start_time": "2023-06-29T20:20:32.616Z"
      },
      {
        "duration": 16,
        "start_time": "2023-06-29T20:20:32.667Z"
      },
      {
        "duration": 21,
        "start_time": "2023-06-29T20:20:32.685Z"
      },
      {
        "duration": 86,
        "start_time": "2023-06-29T20:20:32.707Z"
      },
      {
        "duration": 15,
        "start_time": "2023-06-29T20:20:32.795Z"
      },
      {
        "duration": 615,
        "start_time": "2023-06-29T20:20:32.813Z"
      },
      {
        "duration": 723,
        "start_time": "2023-06-29T20:22:49.010Z"
      },
      {
        "duration": 709,
        "start_time": "2023-06-29T20:23:13.627Z"
      },
      {
        "duration": 322,
        "start_time": "2023-06-29T20:36:01.718Z"
      },
      {
        "duration": 175917,
        "start_time": "2023-06-29T20:55:57.868Z"
      },
      {
        "duration": 5,
        "start_time": "2023-06-29T20:59:02.396Z"
      },
      {
        "duration": 868,
        "start_time": "2023-06-29T20:59:02.403Z"
      },
      {
        "duration": 14,
        "start_time": "2023-06-29T20:59:03.273Z"
      },
      {
        "duration": 136,
        "start_time": "2023-06-29T20:59:03.289Z"
      },
      {
        "duration": 3,
        "start_time": "2023-06-29T20:59:03.427Z"
      },
      {
        "duration": 32,
        "start_time": "2023-06-29T20:59:03.432Z"
      },
      {
        "duration": 169,
        "start_time": "2023-06-29T20:59:03.465Z"
      },
      {
        "duration": 227,
        "start_time": "2023-06-29T20:59:03.636Z"
      },
      {
        "duration": 158,
        "start_time": "2023-06-29T20:59:03.865Z"
      },
      {
        "duration": 71,
        "start_time": "2023-06-29T20:59:04.025Z"
      },
      {
        "duration": 7,
        "start_time": "2023-06-29T20:59:04.098Z"
      },
      {
        "duration": 79,
        "start_time": "2023-06-29T20:59:04.106Z"
      },
      {
        "duration": 71,
        "start_time": "2023-06-29T20:59:04.186Z"
      },
      {
        "duration": 70,
        "start_time": "2023-06-29T20:59:04.260Z"
      },
      {
        "duration": 493,
        "start_time": "2023-06-29T20:59:04.331Z"
      },
      {
        "duration": 32,
        "start_time": "2023-06-29T20:59:04.826Z"
      },
      {
        "duration": 21,
        "start_time": "2023-06-29T20:59:04.860Z"
      },
      {
        "duration": 25,
        "start_time": "2023-06-29T20:59:04.883Z"
      },
      {
        "duration": 45,
        "start_time": "2023-06-29T20:59:04.910Z"
      },
      {
        "duration": 25,
        "start_time": "2023-06-29T20:59:04.957Z"
      },
      {
        "duration": 16,
        "start_time": "2023-06-29T20:59:04.984Z"
      },
      {
        "duration": 24,
        "start_time": "2023-06-29T20:59:05.002Z"
      },
      {
        "duration": 46,
        "start_time": "2023-06-29T20:59:05.028Z"
      },
      {
        "duration": 21,
        "start_time": "2023-06-29T20:59:05.076Z"
      },
      {
        "duration": 76,
        "start_time": "2023-06-29T20:59:05.098Z"
      },
      {
        "duration": 19,
        "start_time": "2023-06-29T20:59:05.175Z"
      },
      {
        "duration": 794,
        "start_time": "2023-06-29T20:59:05.196Z"
      },
      {
        "duration": 335,
        "start_time": "2023-06-29T20:59:05.992Z"
      },
      {
        "duration": 1120,
        "start_time": "2023-06-29T21:00:02.966Z"
      },
      {
        "duration": 4,
        "start_time": "2023-06-29T21:02:29.638Z"
      },
      {
        "duration": 173428,
        "start_time": "2023-06-29T21:04:36.997Z"
      },
      {
        "duration": 5,
        "start_time": "2023-06-29T21:07:35.316Z"
      },
      {
        "duration": 284,
        "start_time": "2023-06-29T21:22:22.374Z"
      },
      {
        "duration": 2850,
        "start_time": "2023-06-29T21:26:04.866Z"
      },
      {
        "duration": 295,
        "start_time": "2023-06-29T21:28:10.216Z"
      },
      {
        "duration": 2759,
        "start_time": "2023-06-29T21:28:15.418Z"
      },
      {
        "duration": 275,
        "start_time": "2023-06-29T21:28:45.715Z"
      },
      {
        "duration": 281,
        "start_time": "2023-06-29T21:29:56.627Z"
      },
      {
        "duration": 290,
        "start_time": "2023-06-29T21:31:40.158Z"
      },
      {
        "duration": 2905,
        "start_time": "2023-06-29T21:31:43.975Z"
      },
      {
        "duration": 86,
        "start_time": "2023-06-29T21:35:43.215Z"
      },
      {
        "duration": 2612,
        "start_time": "2023-06-29T21:35:57.514Z"
      },
      {
        "duration": 55,
        "start_time": "2023-06-29T21:36:58.074Z"
      },
      {
        "duration": 3671986,
        "start_time": "2023-06-29T21:39:52.577Z"
      },
      {
        "duration": 86,
        "start_time": "2023-06-30T11:40:38.444Z"
      },
      {
        "duration": 101,
        "start_time": "2023-06-30T11:50:50.390Z"
      },
      {
        "duration": 5616368,
        "start_time": "2023-06-30T11:56:44.709Z"
      },
      {
        "duration": 8,
        "start_time": "2023-06-30T13:30:54.738Z"
      },
      {
        "duration": 48,
        "start_time": "2023-07-01T16:08:26.468Z"
      },
      {
        "duration": 1724,
        "start_time": "2023-07-01T16:08:42.381Z"
      },
      {
        "duration": 1101,
        "start_time": "2023-07-01T16:08:44.107Z"
      },
      {
        "duration": 23,
        "start_time": "2023-07-01T16:08:45.211Z"
      },
      {
        "duration": 114,
        "start_time": "2023-07-01T16:08:45.235Z"
      },
      {
        "duration": 2,
        "start_time": "2023-07-01T16:08:45.351Z"
      },
      {
        "duration": 27,
        "start_time": "2023-07-01T16:08:45.354Z"
      },
      {
        "duration": 204,
        "start_time": "2023-07-01T16:08:45.383Z"
      },
      {
        "duration": 260,
        "start_time": "2023-07-01T16:08:45.589Z"
      },
      {
        "duration": 168,
        "start_time": "2023-07-01T16:08:45.851Z"
      },
      {
        "duration": 66,
        "start_time": "2023-07-01T16:08:46.021Z"
      },
      {
        "duration": 3,
        "start_time": "2023-07-01T16:08:46.102Z"
      },
      {
        "duration": 67,
        "start_time": "2023-07-01T16:08:46.107Z"
      },
      {
        "duration": 80,
        "start_time": "2023-07-01T16:08:46.176Z"
      },
      {
        "duration": 81,
        "start_time": "2023-07-01T16:08:46.259Z"
      },
      {
        "duration": 432,
        "start_time": "2023-07-01T16:08:46.342Z"
      },
      {
        "duration": 29,
        "start_time": "2023-07-01T16:08:46.776Z"
      },
      {
        "duration": 19,
        "start_time": "2023-07-01T16:08:46.807Z"
      },
      {
        "duration": 28,
        "start_time": "2023-07-01T16:08:46.828Z"
      },
      {
        "duration": 17,
        "start_time": "2023-07-01T16:08:46.857Z"
      },
      {
        "duration": 23,
        "start_time": "2023-07-01T16:08:46.901Z"
      },
      {
        "duration": 17,
        "start_time": "2023-07-01T16:08:46.926Z"
      },
      {
        "duration": 22,
        "start_time": "2023-07-01T16:08:46.944Z"
      },
      {
        "duration": 48,
        "start_time": "2023-07-01T16:08:46.968Z"
      },
      {
        "duration": 19,
        "start_time": "2023-07-01T16:08:47.018Z"
      },
      {
        "duration": 71,
        "start_time": "2023-07-01T16:08:47.038Z"
      },
      {
        "duration": 56,
        "start_time": "2023-07-01T16:08:47.111Z"
      },
      {
        "duration": 32,
        "start_time": "2023-07-01T16:08:47.178Z"
      },
      {
        "duration": 76,
        "start_time": "2023-07-01T16:08:47.212Z"
      },
      {
        "duration": 682,
        "start_time": "2023-07-01T16:08:47.302Z"
      },
      {
        "duration": 277,
        "start_time": "2023-07-01T16:08:47.986Z"
      },
      {
        "duration": 276519,
        "start_time": "2023-07-01T16:13:01.001Z"
      },
      {
        "duration": 2971879,
        "start_time": "2023-07-01T16:19:06.789Z"
      },
      {
        "duration": 4,
        "start_time": "2023-07-01T17:12:36.339Z"
      },
      {
        "duration": 882252,
        "start_time": "2023-07-01T17:36:39.976Z"
      },
      {
        "duration": 2511,
        "start_time": "2023-07-01T19:48:40.680Z"
      },
      {
        "duration": 2774,
        "start_time": "2023-07-01T19:54:01.787Z"
      },
      {
        "duration": 33,
        "start_time": "2023-07-01T19:54:27.539Z"
      },
      {
        "duration": 5,
        "start_time": "2023-07-01T19:57:08.248Z"
      },
      {
        "duration": 120395,
        "start_time": "2023-07-01T20:07:18.399Z"
      },
      {
        "duration": 93,
        "start_time": "2023-07-01T20:12:18.389Z"
      },
      {
        "duration": 60,
        "start_time": "2023-07-01T20:12:29.621Z"
      },
      {
        "duration": 5,
        "start_time": "2023-07-01T20:12:32.636Z"
      },
      {
        "duration": 1791996,
        "start_time": "2023-07-01T20:17:52.535Z"
      },
      {
        "duration": 434613,
        "start_time": "2023-07-01T20:48:12.410Z"
      },
      {
        "duration": 1774641,
        "start_time": "2023-07-01T20:55:48.576Z"
      },
      {
        "duration": 1110,
        "start_time": "2023-07-01T21:33:14.717Z"
      },
      {
        "duration": 4,
        "start_time": "2023-07-01T21:35:10.834Z"
      },
      {
        "duration": 144,
        "start_time": "2023-07-01T21:56:46.216Z"
      },
      {
        "duration": 151,
        "start_time": "2023-07-01T21:57:08.256Z"
      },
      {
        "duration": 5414,
        "start_time": "2023-07-02T17:10:11.802Z"
      },
      {
        "duration": 4539,
        "start_time": "2023-07-02T17:10:52.030Z"
      },
      {
        "duration": 23,
        "start_time": "2023-07-02T17:10:56.572Z"
      },
      {
        "duration": 321,
        "start_time": "2023-07-02T17:10:56.597Z"
      },
      {
        "duration": 18,
        "start_time": "2023-07-02T17:10:56.972Z"
      },
      {
        "duration": 464,
        "start_time": "2023-07-02T17:11:53.840Z"
      },
      {
        "duration": 501,
        "start_time": "2023-07-02T17:11:54.306Z"
      },
      {
        "duration": 401,
        "start_time": "2023-07-02T17:11:54.809Z"
      },
      {
        "duration": 167,
        "start_time": "2023-07-02T17:12:31.105Z"
      },
      {
        "duration": 3,
        "start_time": "2023-07-02T17:12:31.510Z"
      },
      {
        "duration": 147,
        "start_time": "2023-07-02T17:12:32.324Z"
      },
      {
        "duration": 162,
        "start_time": "2023-07-02T17:12:34.435Z"
      },
      {
        "duration": 140,
        "start_time": "2023-07-02T17:12:53.062Z"
      },
      {
        "duration": 1280,
        "start_time": "2023-07-02T17:12:56.621Z"
      },
      {
        "duration": 28,
        "start_time": "2023-07-02T17:13:01.195Z"
      },
      {
        "duration": 102,
        "start_time": "2023-07-02T17:21:15.368Z"
      },
      {
        "duration": 108,
        "start_time": "2023-07-02T17:21:19.068Z"
      },
      {
        "duration": 191,
        "start_time": "2023-07-02T17:21:20.683Z"
      },
      {
        "duration": 116,
        "start_time": "2023-07-02T17:22:29.454Z"
      },
      {
        "duration": 96,
        "start_time": "2023-07-02T17:25:51.071Z"
      },
      {
        "duration": 109,
        "start_time": "2023-07-02T17:25:52.869Z"
      },
      {
        "duration": 306,
        "start_time": "2023-07-02T17:26:51.970Z"
      },
      {
        "duration": 685,
        "start_time": "2023-07-02T17:30:01.905Z"
      },
      {
        "duration": 107,
        "start_time": "2023-07-02T17:30:07.669Z"
      },
      {
        "duration": 55,
        "start_time": "2023-07-02T17:30:10.038Z"
      },
      {
        "duration": 235,
        "start_time": "2023-07-02T17:30:10.370Z"
      },
      {
        "duration": 99,
        "start_time": "2023-07-02T17:30:19.574Z"
      },
      {
        "duration": 382,
        "start_time": "2023-07-02T17:30:31.593Z"
      },
      {
        "duration": 5042,
        "start_time": "2023-07-02T17:31:24.768Z"
      },
      {
        "duration": 1767,
        "start_time": "2023-07-03T16:52:30.186Z"
      },
      {
        "duration": 4,
        "start_time": "2023-07-03T16:53:05.615Z"
      },
      {
        "duration": 3,
        "start_time": "2023-07-03T16:53:15.817Z"
      },
      {
        "duration": 2958,
        "start_time": "2023-07-03T16:53:15.826Z"
      },
      {
        "duration": 16,
        "start_time": "2023-07-03T16:53:18.786Z"
      },
      {
        "duration": 114,
        "start_time": "2023-07-03T16:53:18.804Z"
      },
      {
        "duration": 46,
        "start_time": "2023-07-03T16:53:18.919Z"
      },
      {
        "duration": 11,
        "start_time": "2023-07-03T16:53:27.956Z"
      },
      {
        "duration": 796,
        "start_time": "2023-07-03T16:53:27.974Z"
      },
      {
        "duration": 14,
        "start_time": "2023-07-03T16:53:28.772Z"
      },
      {
        "duration": 118,
        "start_time": "2023-07-03T16:53:28.787Z"
      },
      {
        "duration": 25,
        "start_time": "2023-07-03T16:53:28.907Z"
      },
      {
        "duration": 201,
        "start_time": "2023-07-03T16:53:28.934Z"
      },
      {
        "duration": 243,
        "start_time": "2023-07-03T16:53:29.137Z"
      },
      {
        "duration": 153,
        "start_time": "2023-07-03T16:53:29.381Z"
      },
      {
        "duration": 5,
        "start_time": "2023-07-03T16:54:04.881Z"
      },
      {
        "duration": 812,
        "start_time": "2023-07-03T16:54:04.905Z"
      },
      {
        "duration": 14,
        "start_time": "2023-07-03T16:54:05.719Z"
      },
      {
        "duration": 137,
        "start_time": "2023-07-03T16:54:05.734Z"
      },
      {
        "duration": 28,
        "start_time": "2023-07-03T16:54:05.879Z"
      },
      {
        "duration": 215,
        "start_time": "2023-07-03T16:54:05.910Z"
      },
      {
        "duration": 259,
        "start_time": "2023-07-03T16:54:06.127Z"
      },
      {
        "duration": 158,
        "start_time": "2023-07-03T16:54:06.387Z"
      },
      {
        "duration": 73,
        "start_time": "2023-07-03T16:54:06.547Z"
      },
      {
        "duration": 5,
        "start_time": "2023-07-03T16:54:06.622Z"
      },
      {
        "duration": 78,
        "start_time": "2023-07-03T16:54:06.629Z"
      },
      {
        "duration": 77,
        "start_time": "2023-07-03T16:54:06.708Z"
      },
      {
        "duration": 4,
        "start_time": "2023-07-03T16:54:23.996Z"
      },
      {
        "duration": 895,
        "start_time": "2023-07-03T16:54:24.001Z"
      },
      {
        "duration": 14,
        "start_time": "2023-07-03T16:54:24.898Z"
      },
      {
        "duration": 127,
        "start_time": "2023-07-03T16:54:24.914Z"
      },
      {
        "duration": 24,
        "start_time": "2023-07-03T16:54:25.044Z"
      },
      {
        "duration": 204,
        "start_time": "2023-07-03T16:54:25.070Z"
      },
      {
        "duration": 209,
        "start_time": "2023-07-03T16:54:25.278Z"
      },
      {
        "duration": 163,
        "start_time": "2023-07-03T16:54:25.489Z"
      },
      {
        "duration": 72,
        "start_time": "2023-07-03T16:54:25.653Z"
      },
      {
        "duration": 3,
        "start_time": "2023-07-03T16:54:25.727Z"
      },
      {
        "duration": 97,
        "start_time": "2023-07-03T16:54:25.732Z"
      },
      {
        "duration": 70,
        "start_time": "2023-07-03T16:54:25.831Z"
      },
      {
        "duration": 80,
        "start_time": "2023-07-03T16:54:25.903Z"
      },
      {
        "duration": 405,
        "start_time": "2023-07-03T16:54:25.985Z"
      },
      {
        "duration": 21,
        "start_time": "2023-07-03T16:54:26.392Z"
      },
      {
        "duration": 5,
        "start_time": "2023-07-03T16:55:41.376Z"
      },
      {
        "duration": 751,
        "start_time": "2023-07-03T16:55:41.383Z"
      },
      {
        "duration": 37,
        "start_time": "2023-07-03T16:55:42.136Z"
      },
      {
        "duration": 132,
        "start_time": "2023-07-03T16:55:42.176Z"
      },
      {
        "duration": 18,
        "start_time": "2023-07-03T16:55:42.311Z"
      },
      {
        "duration": 190,
        "start_time": "2023-07-03T16:55:42.331Z"
      },
      {
        "duration": 197,
        "start_time": "2023-07-03T16:55:42.522Z"
      },
      {
        "duration": 158,
        "start_time": "2023-07-03T16:55:42.721Z"
      },
      {
        "duration": 61,
        "start_time": "2023-07-03T16:55:42.881Z"
      },
      {
        "duration": 27,
        "start_time": "2023-07-03T16:55:42.944Z"
      },
      {
        "duration": 62,
        "start_time": "2023-07-03T16:55:42.973Z"
      },
      {
        "duration": 71,
        "start_time": "2023-07-03T16:55:43.037Z"
      },
      {
        "duration": 78,
        "start_time": "2023-07-03T16:55:43.110Z"
      },
      {
        "duration": 443,
        "start_time": "2023-07-03T16:55:43.191Z"
      },
      {
        "duration": 40,
        "start_time": "2023-07-03T16:55:43.635Z"
      },
      {
        "duration": 27,
        "start_time": "2023-07-03T16:55:43.678Z"
      },
      {
        "duration": 2,
        "start_time": "2023-07-03T16:55:43.707Z"
      },
      {
        "duration": 4,
        "start_time": "2023-07-03T16:57:56.942Z"
      },
      {
        "duration": 921,
        "start_time": "2023-07-03T16:57:56.948Z"
      },
      {
        "duration": 14,
        "start_time": "2023-07-03T16:57:57.872Z"
      },
      {
        "duration": 159,
        "start_time": "2023-07-03T16:57:57.887Z"
      },
      {
        "duration": 23,
        "start_time": "2023-07-03T16:57:58.048Z"
      },
      {
        "duration": 178,
        "start_time": "2023-07-03T16:57:58.072Z"
      },
      {
        "duration": 226,
        "start_time": "2023-07-03T16:57:58.252Z"
      },
      {
        "duration": 156,
        "start_time": "2023-07-03T16:57:58.480Z"
      },
      {
        "duration": 73,
        "start_time": "2023-07-03T16:57:58.638Z"
      },
      {
        "duration": 17,
        "start_time": "2023-07-03T16:57:58.713Z"
      },
      {
        "duration": 78,
        "start_time": "2023-07-03T16:57:58.733Z"
      },
      {
        "duration": 74,
        "start_time": "2023-07-03T16:57:58.812Z"
      },
      {
        "duration": 91,
        "start_time": "2023-07-03T16:57:58.888Z"
      },
      {
        "duration": 437,
        "start_time": "2023-07-03T16:57:58.981Z"
      },
      {
        "duration": 20,
        "start_time": "2023-07-03T16:57:59.419Z"
      },
      {
        "duration": 45,
        "start_time": "2023-07-03T16:57:59.441Z"
      },
      {
        "duration": 3,
        "start_time": "2023-07-03T16:57:59.488Z"
      },
      {
        "duration": 26,
        "start_time": "2023-07-03T16:57:59.493Z"
      },
      {
        "duration": 8,
        "start_time": "2023-07-03T16:58:53.113Z"
      },
      {
        "duration": 31,
        "start_time": "2023-07-03T17:00:46.048Z"
      },
      {
        "duration": 23,
        "start_time": "2023-07-03T17:01:19.731Z"
      },
      {
        "duration": 33,
        "start_time": "2023-07-03T17:01:30.074Z"
      },
      {
        "duration": 32,
        "start_time": "2023-07-03T17:01:34.759Z"
      },
      {
        "duration": 191,
        "start_time": "2023-07-03T17:05:00.230Z"
      },
      {
        "duration": 35,
        "start_time": "2023-07-03T17:05:06.541Z"
      },
      {
        "duration": 24,
        "start_time": "2023-07-03T17:05:11.001Z"
      },
      {
        "duration": 17,
        "start_time": "2023-07-03T17:08:47.530Z"
      },
      {
        "duration": 13,
        "start_time": "2023-07-03T17:09:11.428Z"
      },
      {
        "duration": 14,
        "start_time": "2023-07-03T17:09:24.387Z"
      },
      {
        "duration": 23,
        "start_time": "2023-07-03T17:09:32.158Z"
      },
      {
        "duration": 4,
        "start_time": "2023-07-03T17:10:44.038Z"
      },
      {
        "duration": 853,
        "start_time": "2023-07-03T17:10:44.045Z"
      },
      {
        "duration": 13,
        "start_time": "2023-07-03T17:10:44.901Z"
      },
      {
        "duration": 137,
        "start_time": "2023-07-03T17:10:44.916Z"
      },
      {
        "duration": 120,
        "start_time": "2023-07-03T17:10:45.055Z"
      },
      {
        "duration": 212,
        "start_time": "2023-07-03T17:10:45.177Z"
      },
      {
        "duration": 239,
        "start_time": "2023-07-03T17:10:45.391Z"
      },
      {
        "duration": 164,
        "start_time": "2023-07-03T17:10:45.632Z"
      },
      {
        "duration": 72,
        "start_time": "2023-07-03T17:10:45.798Z"
      },
      {
        "duration": 4,
        "start_time": "2023-07-03T17:10:45.871Z"
      },
      {
        "duration": 104,
        "start_time": "2023-07-03T17:10:45.878Z"
      },
      {
        "duration": 60,
        "start_time": "2023-07-03T17:10:45.984Z"
      },
      {
        "duration": 81,
        "start_time": "2023-07-03T17:10:46.046Z"
      },
      {
        "duration": 419,
        "start_time": "2023-07-03T17:10:46.129Z"
      },
      {
        "duration": 28,
        "start_time": "2023-07-03T17:10:46.550Z"
      },
      {
        "duration": 20,
        "start_time": "2023-07-03T17:10:46.579Z"
      },
      {
        "duration": 2,
        "start_time": "2023-07-03T17:10:46.601Z"
      },
      {
        "duration": 20,
        "start_time": "2023-07-03T17:10:46.604Z"
      },
      {
        "duration": 47,
        "start_time": "2023-07-03T17:10:46.626Z"
      },
      {
        "duration": 17,
        "start_time": "2023-07-03T17:10:46.676Z"
      },
      {
        "duration": 20,
        "start_time": "2023-07-03T17:10:46.694Z"
      },
      {
        "duration": 4,
        "start_time": "2023-07-03T17:12:01.590Z"
      },
      {
        "duration": 885,
        "start_time": "2023-07-03T17:12:01.596Z"
      },
      {
        "duration": 18,
        "start_time": "2023-07-03T17:12:02.484Z"
      },
      {
        "duration": 152,
        "start_time": "2023-07-03T17:12:02.505Z"
      },
      {
        "duration": 20,
        "start_time": "2023-07-03T17:12:02.661Z"
      },
      {
        "duration": 192,
        "start_time": "2023-07-03T17:12:02.684Z"
      },
      {
        "duration": 215,
        "start_time": "2023-07-03T17:12:02.878Z"
      },
      {
        "duration": 163,
        "start_time": "2023-07-03T17:12:03.094Z"
      },
      {
        "duration": 72,
        "start_time": "2023-07-03T17:12:03.261Z"
      },
      {
        "duration": 23,
        "start_time": "2023-07-03T17:12:03.335Z"
      },
      {
        "duration": 78,
        "start_time": "2023-07-03T17:12:03.363Z"
      },
      {
        "duration": 83,
        "start_time": "2023-07-03T17:12:03.444Z"
      },
      {
        "duration": 79,
        "start_time": "2023-07-03T17:12:03.531Z"
      },
      {
        "duration": 430,
        "start_time": "2023-07-03T17:12:03.612Z"
      },
      {
        "duration": 32,
        "start_time": "2023-07-03T17:12:04.044Z"
      },
      {
        "duration": 22,
        "start_time": "2023-07-03T17:12:04.080Z"
      },
      {
        "duration": 2,
        "start_time": "2023-07-03T17:12:04.105Z"
      },
      {
        "duration": 28,
        "start_time": "2023-07-03T17:12:04.108Z"
      },
      {
        "duration": 46,
        "start_time": "2023-07-03T17:12:04.138Z"
      },
      {
        "duration": 18,
        "start_time": "2023-07-03T17:12:04.186Z"
      },
      {
        "duration": 26,
        "start_time": "2023-07-03T17:12:04.207Z"
      },
      {
        "duration": 34,
        "start_time": "2023-07-03T17:12:04.236Z"
      },
      {
        "duration": 7,
        "start_time": "2023-07-03T17:12:04.273Z"
      },
      {
        "duration": 65,
        "start_time": "2023-07-03T17:12:09.247Z"
      },
      {
        "duration": 1888,
        "start_time": "2023-07-05T13:06:38.290Z"
      },
      {
        "duration": 1349,
        "start_time": "2023-07-05T13:06:40.180Z"
      },
      {
        "duration": 20,
        "start_time": "2023-07-05T13:06:41.533Z"
      },
      {
        "duration": 141,
        "start_time": "2023-07-05T13:06:41.554Z"
      },
      {
        "duration": 31,
        "start_time": "2023-07-05T13:06:41.697Z"
      },
      {
        "duration": 228,
        "start_time": "2023-07-05T13:06:41.731Z"
      },
      {
        "duration": 309,
        "start_time": "2023-07-05T13:06:41.963Z"
      },
      {
        "duration": 205,
        "start_time": "2023-07-05T13:06:42.275Z"
      },
      {
        "duration": 81,
        "start_time": "2023-07-05T13:06:42.482Z"
      },
      {
        "duration": 8,
        "start_time": "2023-07-05T13:06:42.565Z"
      },
      {
        "duration": 84,
        "start_time": "2023-07-05T13:06:42.575Z"
      },
      {
        "duration": 68,
        "start_time": "2023-07-05T13:06:42.661Z"
      },
      {
        "duration": 108,
        "start_time": "2023-07-05T13:06:42.731Z"
      },
      {
        "duration": 513,
        "start_time": "2023-07-05T13:06:42.842Z"
      },
      {
        "duration": 33,
        "start_time": "2023-07-05T13:06:43.357Z"
      },
      {
        "duration": 35,
        "start_time": "2023-07-05T13:06:43.391Z"
      },
      {
        "duration": 3,
        "start_time": "2023-07-05T13:06:43.427Z"
      },
      {
        "duration": 27,
        "start_time": "2023-07-05T13:06:43.431Z"
      },
      {
        "duration": 55,
        "start_time": "2023-07-05T13:06:43.460Z"
      },
      {
        "duration": 18,
        "start_time": "2023-07-05T13:06:43.516Z"
      },
      {
        "duration": 38,
        "start_time": "2023-07-05T13:06:43.536Z"
      },
      {
        "duration": 20,
        "start_time": "2023-07-05T13:06:43.575Z"
      },
      {
        "duration": 15,
        "start_time": "2023-07-05T13:06:43.596Z"
      },
      {
        "duration": 84,
        "start_time": "2023-07-05T13:06:43.612Z"
      },
      {
        "duration": 2,
        "start_time": "2023-07-05T13:33:22.500Z"
      },
      {
        "duration": 17,
        "start_time": "2023-07-05T13:33:24.155Z"
      },
      {
        "duration": 96,
        "start_time": "2023-07-05T13:33:25.614Z"
      },
      {
        "duration": 2,
        "start_time": "2023-07-05T13:38:09.758Z"
      },
      {
        "duration": 27,
        "start_time": "2023-07-05T13:38:12.595Z"
      },
      {
        "duration": 88,
        "start_time": "2023-07-05T13:38:13.436Z"
      },
      {
        "duration": 1117,
        "start_time": "2023-07-05T13:38:16.556Z"
      },
      {
        "duration": 342,
        "start_time": "2023-07-05T13:38:23.136Z"
      },
      {
        "duration": 46094,
        "start_time": "2023-07-05T13:42:11.287Z"
      },
      {
        "duration": 46184,
        "start_time": "2023-07-05T13:49:08.698Z"
      },
      {
        "duration": 1131277,
        "start_time": "2023-07-05T14:06:19.309Z"
      },
      {
        "duration": 428957,
        "start_time": "2023-07-05T15:45:06.531Z"
      },
      {
        "duration": 3,
        "start_time": "2023-07-05T15:52:28.766Z"
      },
      {
        "duration": 1029461,
        "start_time": "2023-07-05T15:52:47.657Z"
      },
      {
        "duration": 147883,
        "start_time": "2023-07-05T16:10:01.232Z"
      },
      {
        "duration": 160967,
        "start_time": "2023-07-05T16:15:16.246Z"
      },
      {
        "duration": 1315735,
        "start_time": "2023-07-05T16:18:24.918Z"
      },
      {
        "duration": 1701,
        "start_time": "2023-07-05T16:40:55.063Z"
      },
      {
        "duration": 967,
        "start_time": "2023-07-05T16:40:56.766Z"
      },
      {
        "duration": 18,
        "start_time": "2023-07-05T16:40:57.735Z"
      },
      {
        "duration": 135,
        "start_time": "2023-07-05T16:40:57.755Z"
      },
      {
        "duration": 37,
        "start_time": "2023-07-05T16:40:57.893Z"
      },
      {
        "duration": 217,
        "start_time": "2023-07-05T16:40:57.932Z"
      },
      {
        "duration": 271,
        "start_time": "2023-07-05T16:40:58.151Z"
      },
      {
        "duration": 199,
        "start_time": "2023-07-05T16:40:58.424Z"
      },
      {
        "duration": 68,
        "start_time": "2023-07-05T16:40:58.625Z"
      },
      {
        "duration": 3,
        "start_time": "2023-07-05T16:40:58.710Z"
      },
      {
        "duration": 77,
        "start_time": "2023-07-05T16:40:58.715Z"
      },
      {
        "duration": 78,
        "start_time": "2023-07-05T16:40:58.794Z"
      },
      {
        "duration": 102,
        "start_time": "2023-07-05T16:40:58.875Z"
      },
      {
        "duration": 484,
        "start_time": "2023-07-05T16:40:58.980Z"
      },
      {
        "duration": 43,
        "start_time": "2023-07-05T16:40:59.466Z"
      },
      {
        "duration": 63,
        "start_time": "2023-07-05T16:40:59.511Z"
      },
      {
        "duration": 59,
        "start_time": "2023-07-05T16:40:59.575Z"
      },
      {
        "duration": 32,
        "start_time": "2023-07-05T16:40:59.636Z"
      },
      {
        "duration": 43,
        "start_time": "2023-07-05T16:40:59.670Z"
      },
      {
        "duration": 18,
        "start_time": "2023-07-05T16:40:59.715Z"
      },
      {
        "duration": 26,
        "start_time": "2023-07-05T16:40:59.735Z"
      },
      {
        "duration": 18,
        "start_time": "2023-07-05T16:40:59.763Z"
      },
      {
        "duration": 3,
        "start_time": "2023-07-05T16:40:59.783Z"
      },
      {
        "duration": 68,
        "start_time": "2023-07-05T16:40:59.810Z"
      },
      {
        "duration": 3,
        "start_time": "2023-07-05T16:40:59.880Z"
      },
      {
        "duration": 39,
        "start_time": "2023-07-05T16:40:59.884Z"
      },
      {
        "duration": 114,
        "start_time": "2023-07-05T16:40:59.925Z"
      },
      {
        "duration": 1230,
        "start_time": "2023-07-05T16:41:00.040Z"
      },
      {
        "duration": 10204,
        "start_time": "2023-07-05T16:41:01.272Z"
      },
      {
        "duration": 351,
        "start_time": "2023-07-05T16:41:11.478Z"
      },
      {
        "duration": 45647,
        "start_time": "2023-07-05T16:41:11.830Z"
      },
      {
        "duration": 1023271,
        "start_time": "2023-07-05T16:41:57.479Z"
      },
      {
        "duration": 3,
        "start_time": "2023-07-05T16:59:00.752Z"
      },
      {
        "duration": 722151,
        "start_time": "2023-07-05T17:00:59.975Z"
      },
      {
        "duration": 3582,
        "start_time": "2023-07-05T17:14:10.546Z"
      },
      {
        "duration": 35,
        "start_time": "2023-07-05T17:14:25.373Z"
      },
      {
        "duration": 4,
        "start_time": "2023-07-05T17:14:35.416Z"
      },
      {
        "duration": 129328,
        "start_time": "2023-07-05T17:15:25.636Z"
      },
      {
        "duration": 66,
        "start_time": "2023-07-05T17:20:31.786Z"
      },
      {
        "duration": 5,
        "start_time": "2023-07-05T17:20:36.435Z"
      },
      {
        "duration": 195,
        "start_time": "2023-07-05T17:23:39.480Z"
      },
      {
        "duration": 41140,
        "start_time": "2023-07-05T17:24:04.372Z"
      },
      {
        "duration": 1076,
        "start_time": "2023-07-05T17:26:36.836Z"
      },
      {
        "duration": 5,
        "start_time": "2023-07-05T17:26:43.004Z"
      },
      {
        "duration": 85,
        "start_time": "2023-07-05T17:30:55.019Z"
      },
      {
        "duration": 146,
        "start_time": "2023-07-05T17:31:31.146Z"
      },
      {
        "duration": 3177,
        "start_time": "2023-07-05T17:32:44.858Z"
      }
    ],
    "kernelspec": {
      "display_name": "Python 3 (ipykernel)",
      "language": "python",
      "name": "python3"
    },
    "language_info": {
      "codemirror_mode": {
        "name": "ipython",
        "version": 3
      },
      "file_extension": ".py",
      "mimetype": "text/x-python",
      "name": "python",
      "nbconvert_exporter": "python",
      "pygments_lexer": "ipython3",
      "version": "3.9.5"
    },
    "toc": {
      "base_numbering": 1,
      "nav_menu": {},
      "number_sections": true,
      "sideBar": true,
      "skip_h1_title": true,
      "title_cell": "Table of Contents",
      "title_sidebar": "Contents",
      "toc_cell": false,
      "toc_position": {},
      "toc_section_display": true,
      "toc_window_display": false
    },
    "colab": {
      "provenance": []
    }
  },
  "nbformat": 4,
  "nbformat_minor": 0
}