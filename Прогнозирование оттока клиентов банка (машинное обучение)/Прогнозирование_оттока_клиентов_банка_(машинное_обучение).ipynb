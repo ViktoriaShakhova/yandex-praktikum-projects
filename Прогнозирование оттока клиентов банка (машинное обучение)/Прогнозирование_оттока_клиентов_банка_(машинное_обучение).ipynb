{
  "cells": [
    {
      "cell_type": "markdown",
      "metadata": {
        "toc": true,
        "id": "LRz7ES1DbQEi"
      },
      "source": [
        "<h1>Содержание<span class=\"tocSkip\"></span></h1>\n",
        "<div class=\"toc\"><ul class=\"toc-item\"><li><span><a href=\"#Подготовка-данных\" data-toc-modified-id=\"Подготовка-данных-1\"><span class=\"toc-item-num\">1&nbsp;&nbsp;</span>Подготовка данных</a></span></li><li><span><a href=\"#Исследование-задачи\" data-toc-modified-id=\"Исследование-задачи-2\"><span class=\"toc-item-num\">2&nbsp;&nbsp;</span>Исследование задачи</a></span></li><li><span><a href=\"#Борьба-с-дисбалансом\" data-toc-modified-id=\"Борьба-с-дисбалансом-3\"><span class=\"toc-item-num\">3&nbsp;&nbsp;</span>Борьба с дисбалансом</a></span></li><li><span><a href=\"#Тестирование-модели\" data-toc-modified-id=\"Тестирование-модели-4\"><span class=\"toc-item-num\">4&nbsp;&nbsp;</span>Тестирование модели</a></span></li><li><span><a href=\"#Чек-лист-готовности-проекта\" data-toc-modified-id=\"Чек-лист-готовности-проекта-5\"><span class=\"toc-item-num\">5&nbsp;&nbsp;</span>Чек-лист готовности проекта</a></span></li></ul></div>"
      ]
    },
    {
      "cell_type": "markdown",
      "metadata": {
        "id": "6JlDvtrRbQEj"
      },
      "source": [
        "# Отток клиентов"
      ]
    },
    {
      "cell_type": "markdown",
      "metadata": {
        "id": "uOSLHHwsbQEj"
      },
      "source": [
        "Из «Бета-Банка» стали уходить клиенты. Каждый месяц. Немного, но заметно. Банковские маркетологи посчитали: сохранять текущих клиентов дешевле, чем привлекать новых.\n",
        "\n",
        "Нужно спрогнозировать, уйдёт клиент из банка в ближайшее время или нет. Вам предоставлены исторические данные о поведении клиентов и расторжении договоров с банком.\n",
        "\n",
        "Постройте модель с предельно большим значением *F1*-меры. Чтобы сдать проект успешно, нужно довести метрику до 0.59. Проверьте *F1*-меру на тестовой выборке самостоятельно.\n",
        "\n",
        "Дополнительно измеряйте *AUC-ROC*, сравнивайте её значение с *F1*-мерой.\n",
        "\n",
        "Источник данных: [https://www.kaggle.com/barelydedicated/bank-customer-churn-modeling](https://www.kaggle.com/barelydedicated/bank-customer-churn-modeling)"
      ]
    },
    {
      "cell_type": "markdown",
      "metadata": {
        "id": "Bbu-7ifEbQEk"
      },
      "source": [
        "## Подготовка данных"
      ]
    },
    {
      "cell_type": "markdown",
      "metadata": {
        "id": "5Z1Ch7LhbQEl"
      },
      "source": [
        "Для начала загрузими и изучим исходные данные:"
      ]
    },
    {
      "cell_type": "code",
      "execution_count": null,
      "metadata": {
        "id": "Dwe-IlxObQEm"
      },
      "outputs": [],
      "source": [
        "import pandas as pd\n",
        "from sklearn.model_selection import train_test_split\n",
        "from sklearn.utils import shuffle\n",
        "from sklearn.metrics import f1_score\n",
        "from sklearn.tree import DecisionTreeClassifier\n",
        "from sklearn.ensemble import RandomForestClassifier\n",
        "from sklearn.linear_model import LogisticRegression\n",
        "from sklearn.metrics import roc_auc_score\n",
        "from sklearn.preprocessing import StandardScaler"
      ]
    },
    {
      "cell_type": "code",
      "execution_count": null,
      "metadata": {
        "id": "vp7ihUeRbQEn",
        "outputId": "761b5ff3-124e-4ee4-b102-b5547abaf0a4"
      },
      "outputs": [
        {
          "data": {
            "text/html": [
              "<div>\n",
              "<style scoped>\n",
              "    .dataframe tbody tr th:only-of-type {\n",
              "        vertical-align: middle;\n",
              "    }\n",
              "\n",
              "    .dataframe tbody tr th {\n",
              "        vertical-align: top;\n",
              "    }\n",
              "\n",
              "    .dataframe thead th {\n",
              "        text-align: right;\n",
              "    }\n",
              "</style>\n",
              "<table border=\"1\" class=\"dataframe\">\n",
              "  <thead>\n",
              "    <tr style=\"text-align: right;\">\n",
              "      <th></th>\n",
              "      <th>RowNumber</th>\n",
              "      <th>CustomerId</th>\n",
              "      <th>Surname</th>\n",
              "      <th>CreditScore</th>\n",
              "      <th>Geography</th>\n",
              "      <th>Gender</th>\n",
              "      <th>Age</th>\n",
              "      <th>Tenure</th>\n",
              "      <th>Balance</th>\n",
              "      <th>NumOfProducts</th>\n",
              "      <th>HasCrCard</th>\n",
              "      <th>IsActiveMember</th>\n",
              "      <th>EstimatedSalary</th>\n",
              "      <th>Exited</th>\n",
              "    </tr>\n",
              "  </thead>\n",
              "  <tbody>\n",
              "    <tr>\n",
              "      <th>0</th>\n",
              "      <td>1</td>\n",
              "      <td>15634602</td>\n",
              "      <td>Hargrave</td>\n",
              "      <td>619</td>\n",
              "      <td>France</td>\n",
              "      <td>Female</td>\n",
              "      <td>42</td>\n",
              "      <td>2.0</td>\n",
              "      <td>0.00</td>\n",
              "      <td>1</td>\n",
              "      <td>1</td>\n",
              "      <td>1</td>\n",
              "      <td>101348.88</td>\n",
              "      <td>1</td>\n",
              "    </tr>\n",
              "    <tr>\n",
              "      <th>1</th>\n",
              "      <td>2</td>\n",
              "      <td>15647311</td>\n",
              "      <td>Hill</td>\n",
              "      <td>608</td>\n",
              "      <td>Spain</td>\n",
              "      <td>Female</td>\n",
              "      <td>41</td>\n",
              "      <td>1.0</td>\n",
              "      <td>83807.86</td>\n",
              "      <td>1</td>\n",
              "      <td>0</td>\n",
              "      <td>1</td>\n",
              "      <td>112542.58</td>\n",
              "      <td>0</td>\n",
              "    </tr>\n",
              "    <tr>\n",
              "      <th>2</th>\n",
              "      <td>3</td>\n",
              "      <td>15619304</td>\n",
              "      <td>Onio</td>\n",
              "      <td>502</td>\n",
              "      <td>France</td>\n",
              "      <td>Female</td>\n",
              "      <td>42</td>\n",
              "      <td>8.0</td>\n",
              "      <td>159660.80</td>\n",
              "      <td>3</td>\n",
              "      <td>1</td>\n",
              "      <td>0</td>\n",
              "      <td>113931.57</td>\n",
              "      <td>1</td>\n",
              "    </tr>\n",
              "    <tr>\n",
              "      <th>3</th>\n",
              "      <td>4</td>\n",
              "      <td>15701354</td>\n",
              "      <td>Boni</td>\n",
              "      <td>699</td>\n",
              "      <td>France</td>\n",
              "      <td>Female</td>\n",
              "      <td>39</td>\n",
              "      <td>1.0</td>\n",
              "      <td>0.00</td>\n",
              "      <td>2</td>\n",
              "      <td>0</td>\n",
              "      <td>0</td>\n",
              "      <td>93826.63</td>\n",
              "      <td>0</td>\n",
              "    </tr>\n",
              "    <tr>\n",
              "      <th>4</th>\n",
              "      <td>5</td>\n",
              "      <td>15737888</td>\n",
              "      <td>Mitchell</td>\n",
              "      <td>850</td>\n",
              "      <td>Spain</td>\n",
              "      <td>Female</td>\n",
              "      <td>43</td>\n",
              "      <td>2.0</td>\n",
              "      <td>125510.82</td>\n",
              "      <td>1</td>\n",
              "      <td>1</td>\n",
              "      <td>1</td>\n",
              "      <td>79084.10</td>\n",
              "      <td>0</td>\n",
              "    </tr>\n",
              "    <tr>\n",
              "      <th>5</th>\n",
              "      <td>6</td>\n",
              "      <td>15574012</td>\n",
              "      <td>Chu</td>\n",
              "      <td>645</td>\n",
              "      <td>Spain</td>\n",
              "      <td>Male</td>\n",
              "      <td>44</td>\n",
              "      <td>8.0</td>\n",
              "      <td>113755.78</td>\n",
              "      <td>2</td>\n",
              "      <td>1</td>\n",
              "      <td>0</td>\n",
              "      <td>149756.71</td>\n",
              "      <td>1</td>\n",
              "    </tr>\n",
              "    <tr>\n",
              "      <th>6</th>\n",
              "      <td>7</td>\n",
              "      <td>15592531</td>\n",
              "      <td>Bartlett</td>\n",
              "      <td>822</td>\n",
              "      <td>France</td>\n",
              "      <td>Male</td>\n",
              "      <td>50</td>\n",
              "      <td>7.0</td>\n",
              "      <td>0.00</td>\n",
              "      <td>2</td>\n",
              "      <td>1</td>\n",
              "      <td>1</td>\n",
              "      <td>10062.80</td>\n",
              "      <td>0</td>\n",
              "    </tr>\n",
              "    <tr>\n",
              "      <th>7</th>\n",
              "      <td>8</td>\n",
              "      <td>15656148</td>\n",
              "      <td>Obinna</td>\n",
              "      <td>376</td>\n",
              "      <td>Germany</td>\n",
              "      <td>Female</td>\n",
              "      <td>29</td>\n",
              "      <td>4.0</td>\n",
              "      <td>115046.74</td>\n",
              "      <td>4</td>\n",
              "      <td>1</td>\n",
              "      <td>0</td>\n",
              "      <td>119346.88</td>\n",
              "      <td>1</td>\n",
              "    </tr>\n",
              "    <tr>\n",
              "      <th>8</th>\n",
              "      <td>9</td>\n",
              "      <td>15792365</td>\n",
              "      <td>He</td>\n",
              "      <td>501</td>\n",
              "      <td>France</td>\n",
              "      <td>Male</td>\n",
              "      <td>44</td>\n",
              "      <td>4.0</td>\n",
              "      <td>142051.07</td>\n",
              "      <td>2</td>\n",
              "      <td>0</td>\n",
              "      <td>1</td>\n",
              "      <td>74940.50</td>\n",
              "      <td>0</td>\n",
              "    </tr>\n",
              "    <tr>\n",
              "      <th>9</th>\n",
              "      <td>10</td>\n",
              "      <td>15592389</td>\n",
              "      <td>H?</td>\n",
              "      <td>684</td>\n",
              "      <td>France</td>\n",
              "      <td>Male</td>\n",
              "      <td>27</td>\n",
              "      <td>2.0</td>\n",
              "      <td>134603.88</td>\n",
              "      <td>1</td>\n",
              "      <td>1</td>\n",
              "      <td>1</td>\n",
              "      <td>71725.73</td>\n",
              "      <td>0</td>\n",
              "    </tr>\n",
              "    <tr>\n",
              "      <th>10</th>\n",
              "      <td>11</td>\n",
              "      <td>15767821</td>\n",
              "      <td>Bearce</td>\n",
              "      <td>528</td>\n",
              "      <td>France</td>\n",
              "      <td>Male</td>\n",
              "      <td>31</td>\n",
              "      <td>6.0</td>\n",
              "      <td>102016.72</td>\n",
              "      <td>2</td>\n",
              "      <td>0</td>\n",
              "      <td>0</td>\n",
              "      <td>80181.12</td>\n",
              "      <td>0</td>\n",
              "    </tr>\n",
              "    <tr>\n",
              "      <th>11</th>\n",
              "      <td>12</td>\n",
              "      <td>15737173</td>\n",
              "      <td>Andrews</td>\n",
              "      <td>497</td>\n",
              "      <td>Spain</td>\n",
              "      <td>Male</td>\n",
              "      <td>24</td>\n",
              "      <td>3.0</td>\n",
              "      <td>0.00</td>\n",
              "      <td>2</td>\n",
              "      <td>1</td>\n",
              "      <td>0</td>\n",
              "      <td>76390.01</td>\n",
              "      <td>0</td>\n",
              "    </tr>\n",
              "    <tr>\n",
              "      <th>12</th>\n",
              "      <td>13</td>\n",
              "      <td>15632264</td>\n",
              "      <td>Kay</td>\n",
              "      <td>476</td>\n",
              "      <td>France</td>\n",
              "      <td>Female</td>\n",
              "      <td>34</td>\n",
              "      <td>10.0</td>\n",
              "      <td>0.00</td>\n",
              "      <td>2</td>\n",
              "      <td>1</td>\n",
              "      <td>0</td>\n",
              "      <td>26260.98</td>\n",
              "      <td>0</td>\n",
              "    </tr>\n",
              "    <tr>\n",
              "      <th>13</th>\n",
              "      <td>14</td>\n",
              "      <td>15691483</td>\n",
              "      <td>Chin</td>\n",
              "      <td>549</td>\n",
              "      <td>France</td>\n",
              "      <td>Female</td>\n",
              "      <td>25</td>\n",
              "      <td>5.0</td>\n",
              "      <td>0.00</td>\n",
              "      <td>2</td>\n",
              "      <td>0</td>\n",
              "      <td>0</td>\n",
              "      <td>190857.79</td>\n",
              "      <td>0</td>\n",
              "    </tr>\n",
              "    <tr>\n",
              "      <th>14</th>\n",
              "      <td>15</td>\n",
              "      <td>15600882</td>\n",
              "      <td>Scott</td>\n",
              "      <td>635</td>\n",
              "      <td>Spain</td>\n",
              "      <td>Female</td>\n",
              "      <td>35</td>\n",
              "      <td>7.0</td>\n",
              "      <td>0.00</td>\n",
              "      <td>2</td>\n",
              "      <td>1</td>\n",
              "      <td>1</td>\n",
              "      <td>65951.65</td>\n",
              "      <td>0</td>\n",
              "    </tr>\n",
              "  </tbody>\n",
              "</table>\n",
              "</div>"
            ],
            "text/plain": [
              "    RowNumber  CustomerId   Surname  CreditScore Geography  Gender  Age  \\\n",
              "0           1    15634602  Hargrave          619    France  Female   42   \n",
              "1           2    15647311      Hill          608     Spain  Female   41   \n",
              "2           3    15619304      Onio          502    France  Female   42   \n",
              "3           4    15701354      Boni          699    France  Female   39   \n",
              "4           5    15737888  Mitchell          850     Spain  Female   43   \n",
              "5           6    15574012       Chu          645     Spain    Male   44   \n",
              "6           7    15592531  Bartlett          822    France    Male   50   \n",
              "7           8    15656148    Obinna          376   Germany  Female   29   \n",
              "8           9    15792365        He          501    France    Male   44   \n",
              "9          10    15592389        H?          684    France    Male   27   \n",
              "10         11    15767821    Bearce          528    France    Male   31   \n",
              "11         12    15737173   Andrews          497     Spain    Male   24   \n",
              "12         13    15632264       Kay          476    France  Female   34   \n",
              "13         14    15691483      Chin          549    France  Female   25   \n",
              "14         15    15600882     Scott          635     Spain  Female   35   \n",
              "\n",
              "    Tenure    Balance  NumOfProducts  HasCrCard  IsActiveMember  \\\n",
              "0      2.0       0.00              1          1               1   \n",
              "1      1.0   83807.86              1          0               1   \n",
              "2      8.0  159660.80              3          1               0   \n",
              "3      1.0       0.00              2          0               0   \n",
              "4      2.0  125510.82              1          1               1   \n",
              "5      8.0  113755.78              2          1               0   \n",
              "6      7.0       0.00              2          1               1   \n",
              "7      4.0  115046.74              4          1               0   \n",
              "8      4.0  142051.07              2          0               1   \n",
              "9      2.0  134603.88              1          1               1   \n",
              "10     6.0  102016.72              2          0               0   \n",
              "11     3.0       0.00              2          1               0   \n",
              "12    10.0       0.00              2          1               0   \n",
              "13     5.0       0.00              2          0               0   \n",
              "14     7.0       0.00              2          1               1   \n",
              "\n",
              "    EstimatedSalary  Exited  \n",
              "0         101348.88       1  \n",
              "1         112542.58       0  \n",
              "2         113931.57       1  \n",
              "3          93826.63       0  \n",
              "4          79084.10       0  \n",
              "5         149756.71       1  \n",
              "6          10062.80       0  \n",
              "7         119346.88       1  \n",
              "8          74940.50       0  \n",
              "9          71725.73       0  \n",
              "10         80181.12       0  \n",
              "11         76390.01       0  \n",
              "12         26260.98       0  \n",
              "13        190857.79       0  \n",
              "14         65951.65       0  "
            ]
          },
          "execution_count": 45,
          "metadata": {},
          "output_type": "execute_result"
        }
      ],
      "source": [
        "data = pd.read_csv('/datasets/Churn.csv')\n",
        "data.head(15)"
      ]
    },
    {
      "cell_type": "code",
      "execution_count": null,
      "metadata": {
        "id": "2Xof5g9mbQEo",
        "outputId": "325e36aa-e342-4682-c146-e3de2aa7b85b"
      },
      "outputs": [
        {
          "name": "stdout",
          "output_type": "stream",
          "text": [
            "<class 'pandas.core.frame.DataFrame'>\n",
            "RangeIndex: 10000 entries, 0 to 9999\n",
            "Data columns (total 14 columns):\n",
            " #   Column           Non-Null Count  Dtype  \n",
            "---  ------           --------------  -----  \n",
            " 0   RowNumber        10000 non-null  int64  \n",
            " 1   CustomerId       10000 non-null  int64  \n",
            " 2   Surname          10000 non-null  object \n",
            " 3   CreditScore      10000 non-null  int64  \n",
            " 4   Geography        10000 non-null  object \n",
            " 5   Gender           10000 non-null  object \n",
            " 6   Age              10000 non-null  int64  \n",
            " 7   Tenure           9091 non-null   float64\n",
            " 8   Balance          10000 non-null  float64\n",
            " 9   NumOfProducts    10000 non-null  int64  \n",
            " 10  HasCrCard        10000 non-null  int64  \n",
            " 11  IsActiveMember   10000 non-null  int64  \n",
            " 12  EstimatedSalary  10000 non-null  float64\n",
            " 13  Exited           10000 non-null  int64  \n",
            "dtypes: float64(3), int64(8), object(3)\n",
            "memory usage: 1.1+ MB\n"
          ]
        }
      ],
      "source": [
        "data.info()"
      ]
    },
    {
      "cell_type": "markdown",
      "metadata": {
        "id": "tkaDOHEabQEo"
      },
      "source": [
        "Итак, в исходном датафрейме находятся 10000 сторок, каждая из которых соответствует опредленному клиенту \"Бета-банка\", и 14 столбцов. Три столбца имеют категориальный тип, также в одном из столбцов наблюдаются пропуски."
      ]
    },
    {
      "cell_type": "code",
      "execution_count": null,
      "metadata": {
        "id": "aC9oKM0fbQEo",
        "outputId": "abd0c5e3-ca8a-4c43-b291-508893f796d7"
      },
      "outputs": [
        {
          "data": {
            "text/plain": [
              "0"
            ]
          },
          "execution_count": 47,
          "metadata": {},
          "output_type": "execute_result"
        }
      ],
      "source": [
        "data.duplicated().sum()"
      ]
    },
    {
      "cell_type": "code",
      "execution_count": null,
      "metadata": {
        "id": "a6PHv8uNbQEo",
        "outputId": "4d0d3d4b-74ab-4b72-c6c5-023cdb54adb5"
      },
      "outputs": [
        {
          "data": {
            "text/plain": [
              "0"
            ]
          },
          "execution_count": 48,
          "metadata": {},
          "output_type": "execute_result"
        }
      ],
      "source": [
        "data['CustomerId'].duplicated().sum()"
      ]
    },
    {
      "cell_type": "markdown",
      "metadata": {
        "id": "l0yTeQeQbQEo"
      },
      "source": [
        "Явных дубликатов в датафрейме нет, также как и нет повторяющихся значений в столбце 'CustomerId', а значит, каждому клиенту банка соответствует только одна строка данных."
      ]
    },
    {
      "cell_type": "markdown",
      "metadata": {
        "id": "uclZ47PvbQEp"
      },
      "source": [
        "Попробуем избавится от пропусков в столбце 'Tenure'.\n",
        "\n",
        "Так как явной зависимости этих пропусков от других данных не наблюдается, а заменять их средним или медианным значением не представляется необходимым, было принято решение удалить строки с пропущенными значениями:"
      ]
    },
    {
      "cell_type": "code",
      "execution_count": null,
      "metadata": {
        "id": "PAPbGVagbQEp"
      },
      "outputs": [],
      "source": [
        "data = data.dropna().reset_index(drop=True)"
      ]
    },
    {
      "cell_type": "markdown",
      "metadata": {
        "id": "wXqVt7nIbQEp"
      },
      "source": [
        "<div class='alert alert-success'> ✔️Ок, еще бы рекомендовал явно вывести количество пропусков, чтобы показать, что остается данных достаточно.\n",
        "\n",
        "</div>"
      ]
    },
    {
      "cell_type": "code",
      "execution_count": null,
      "metadata": {
        "id": "bHPPUYv6bQEp",
        "outputId": "35203bff-1a86-417a-dcf8-99b31ab61b4c"
      },
      "outputs": [
        {
          "name": "stdout",
          "output_type": "stream",
          "text": [
            "<class 'pandas.core.frame.DataFrame'>\n",
            "RangeIndex: 9091 entries, 0 to 9090\n",
            "Data columns (total 14 columns):\n",
            " #   Column           Non-Null Count  Dtype  \n",
            "---  ------           --------------  -----  \n",
            " 0   RowNumber        9091 non-null   int64  \n",
            " 1   CustomerId       9091 non-null   int64  \n",
            " 2   Surname          9091 non-null   object \n",
            " 3   CreditScore      9091 non-null   int64  \n",
            " 4   Geography        9091 non-null   object \n",
            " 5   Gender           9091 non-null   object \n",
            " 6   Age              9091 non-null   int64  \n",
            " 7   Tenure           9091 non-null   float64\n",
            " 8   Balance          9091 non-null   float64\n",
            " 9   NumOfProducts    9091 non-null   int64  \n",
            " 10  HasCrCard        9091 non-null   int64  \n",
            " 11  IsActiveMember   9091 non-null   int64  \n",
            " 12  EstimatedSalary  9091 non-null   float64\n",
            " 13  Exited           9091 non-null   int64  \n",
            "dtypes: float64(3), int64(8), object(3)\n",
            "memory usage: 994.5+ KB\n"
          ]
        }
      ],
      "source": [
        "data.info()"
      ]
    },
    {
      "cell_type": "markdown",
      "metadata": {
        "id": "wqiK901ybQEp"
      },
      "source": [
        "Для дальнейшего исследования и обучения моделей удалим столбцы, которые не имеют влияния на наш результативный признак (Exited):"
      ]
    },
    {
      "cell_type": "code",
      "execution_count": null,
      "metadata": {
        "id": "8t4SlrWYbQEp"
      },
      "outputs": [],
      "source": [
        "data = data.drop(columns=['RowNumber', 'CustomerId', 'Surname'])"
      ]
    },
    {
      "cell_type": "markdown",
      "metadata": {
        "id": "0CWYHCAgbQEq"
      },
      "source": [
        "Преобразуем категориальные признаки в количественные с помощью метода прямого кодирования (One-Hot Encoding, OHE), избегая дамми-ловушки:"
      ]
    },
    {
      "cell_type": "code",
      "execution_count": null,
      "metadata": {
        "id": "S-4CAbQWbQEq"
      },
      "outputs": [],
      "source": [
        "data = pd.get_dummies(data, drop_first=True)"
      ]
    },
    {
      "cell_type": "code",
      "execution_count": null,
      "metadata": {
        "id": "ya39awA3bQEq",
        "outputId": "3addb7ce-b446-4c1d-941f-8525bcde2897"
      },
      "outputs": [
        {
          "name": "stdout",
          "output_type": "stream",
          "text": [
            "<class 'pandas.core.frame.DataFrame'>\n",
            "RangeIndex: 9091 entries, 0 to 9090\n",
            "Data columns (total 12 columns):\n",
            " #   Column             Non-Null Count  Dtype  \n",
            "---  ------             --------------  -----  \n",
            " 0   CreditScore        9091 non-null   int64  \n",
            " 1   Age                9091 non-null   int64  \n",
            " 2   Tenure             9091 non-null   float64\n",
            " 3   Balance            9091 non-null   float64\n",
            " 4   NumOfProducts      9091 non-null   int64  \n",
            " 5   HasCrCard          9091 non-null   int64  \n",
            " 6   IsActiveMember     9091 non-null   int64  \n",
            " 7   EstimatedSalary    9091 non-null   float64\n",
            " 8   Exited             9091 non-null   int64  \n",
            " 9   Geography_Germany  9091 non-null   uint8  \n",
            " 10  Geography_Spain    9091 non-null   uint8  \n",
            " 11  Gender_Male        9091 non-null   uint8  \n",
            "dtypes: float64(3), int64(6), uint8(3)\n",
            "memory usage: 666.0 KB\n"
          ]
        }
      ],
      "source": [
        "data.info()"
      ]
    },
    {
      "cell_type": "code",
      "execution_count": null,
      "metadata": {
        "id": "qlG2u1-HbQEq",
        "outputId": "fce81efa-f14a-4994-d352-7b2fded5920e"
      },
      "outputs": [
        {
          "data": {
            "text/html": [
              "<div>\n",
              "<style scoped>\n",
              "    .dataframe tbody tr th:only-of-type {\n",
              "        vertical-align: middle;\n",
              "    }\n",
              "\n",
              "    .dataframe tbody tr th {\n",
              "        vertical-align: top;\n",
              "    }\n",
              "\n",
              "    .dataframe thead th {\n",
              "        text-align: right;\n",
              "    }\n",
              "</style>\n",
              "<table border=\"1\" class=\"dataframe\">\n",
              "  <thead>\n",
              "    <tr style=\"text-align: right;\">\n",
              "      <th></th>\n",
              "      <th>CreditScore</th>\n",
              "      <th>Age</th>\n",
              "      <th>Tenure</th>\n",
              "      <th>Balance</th>\n",
              "      <th>NumOfProducts</th>\n",
              "      <th>HasCrCard</th>\n",
              "      <th>IsActiveMember</th>\n",
              "      <th>EstimatedSalary</th>\n",
              "      <th>Exited</th>\n",
              "      <th>Geography_Germany</th>\n",
              "      <th>Geography_Spain</th>\n",
              "      <th>Gender_Male</th>\n",
              "    </tr>\n",
              "  </thead>\n",
              "  <tbody>\n",
              "    <tr>\n",
              "      <th>0</th>\n",
              "      <td>619</td>\n",
              "      <td>42</td>\n",
              "      <td>2.0</td>\n",
              "      <td>0.00</td>\n",
              "      <td>1</td>\n",
              "      <td>1</td>\n",
              "      <td>1</td>\n",
              "      <td>101348.88</td>\n",
              "      <td>1</td>\n",
              "      <td>0</td>\n",
              "      <td>0</td>\n",
              "      <td>0</td>\n",
              "    </tr>\n",
              "    <tr>\n",
              "      <th>1</th>\n",
              "      <td>608</td>\n",
              "      <td>41</td>\n",
              "      <td>1.0</td>\n",
              "      <td>83807.86</td>\n",
              "      <td>1</td>\n",
              "      <td>0</td>\n",
              "      <td>1</td>\n",
              "      <td>112542.58</td>\n",
              "      <td>0</td>\n",
              "      <td>0</td>\n",
              "      <td>1</td>\n",
              "      <td>0</td>\n",
              "    </tr>\n",
              "    <tr>\n",
              "      <th>2</th>\n",
              "      <td>502</td>\n",
              "      <td>42</td>\n",
              "      <td>8.0</td>\n",
              "      <td>159660.80</td>\n",
              "      <td>3</td>\n",
              "      <td>1</td>\n",
              "      <td>0</td>\n",
              "      <td>113931.57</td>\n",
              "      <td>1</td>\n",
              "      <td>0</td>\n",
              "      <td>0</td>\n",
              "      <td>0</td>\n",
              "    </tr>\n",
              "    <tr>\n",
              "      <th>3</th>\n",
              "      <td>699</td>\n",
              "      <td>39</td>\n",
              "      <td>1.0</td>\n",
              "      <td>0.00</td>\n",
              "      <td>2</td>\n",
              "      <td>0</td>\n",
              "      <td>0</td>\n",
              "      <td>93826.63</td>\n",
              "      <td>0</td>\n",
              "      <td>0</td>\n",
              "      <td>0</td>\n",
              "      <td>0</td>\n",
              "    </tr>\n",
              "    <tr>\n",
              "      <th>4</th>\n",
              "      <td>850</td>\n",
              "      <td>43</td>\n",
              "      <td>2.0</td>\n",
              "      <td>125510.82</td>\n",
              "      <td>1</td>\n",
              "      <td>1</td>\n",
              "      <td>1</td>\n",
              "      <td>79084.10</td>\n",
              "      <td>0</td>\n",
              "      <td>0</td>\n",
              "      <td>1</td>\n",
              "      <td>0</td>\n",
              "    </tr>\n",
              "  </tbody>\n",
              "</table>\n",
              "</div>"
            ],
            "text/plain": [
              "   CreditScore  Age  Tenure    Balance  NumOfProducts  HasCrCard  \\\n",
              "0          619   42     2.0       0.00              1          1   \n",
              "1          608   41     1.0   83807.86              1          0   \n",
              "2          502   42     8.0  159660.80              3          1   \n",
              "3          699   39     1.0       0.00              2          0   \n",
              "4          850   43     2.0  125510.82              1          1   \n",
              "\n",
              "   IsActiveMember  EstimatedSalary  Exited  Geography_Germany  \\\n",
              "0               1        101348.88       1                  0   \n",
              "1               1        112542.58       0                  0   \n",
              "2               0        113931.57       1                  0   \n",
              "3               0         93826.63       0                  0   \n",
              "4               1         79084.10       0                  0   \n",
              "\n",
              "   Geography_Spain  Gender_Male  \n",
              "0                0            0  \n",
              "1                1            0  \n",
              "2                0            0  \n",
              "3                0            0  \n",
              "4                1            0  "
            ]
          },
          "execution_count": 54,
          "metadata": {},
          "output_type": "execute_result"
        }
      ],
      "source": [
        "data.head()"
      ]
    },
    {
      "cell_type": "markdown",
      "metadata": {
        "id": "BI0kdPq8bQEq"
      },
      "source": [
        "Поделим наши данные на обучающую, валидационную и тестовую выборки:"
      ]
    },
    {
      "cell_type": "code",
      "execution_count": null,
      "metadata": {
        "id": "whCvb12sbQEq"
      },
      "outputs": [],
      "source": [
        "features = data.drop('Exited', axis=1)\n",
        "target = data['Exited']"
      ]
    },
    {
      "cell_type": "code",
      "execution_count": null,
      "metadata": {
        "id": "sAPsMFd9bQEr"
      },
      "outputs": [],
      "source": [
        "features_train, features_test, target_train, target_test = train_test_split(features, target, test_size=0.2, random_state=12345)\n",
        "features_train, features_valid, target_train, target_valid = train_test_split(features_train, target_train, test_size=0.25, random_state=12345)\n"
      ]
    },
    {
      "cell_type": "markdown",
      "metadata": {
        "id": "2r1mTvk6bQEr"
      },
      "source": [
        "## Исследование задачи"
      ]
    },
    {
      "cell_type": "markdown",
      "metadata": {
        "id": "tJ0KfHbMbQEr"
      },
      "source": [
        "Для начала исследуем баланс классов:"
      ]
    },
    {
      "cell_type": "code",
      "execution_count": null,
      "metadata": {
        "id": "TPe67cfEbQEr",
        "outputId": "71e2b941-09c7-4c9f-9113-3eb90ef67f42"
      },
      "outputs": [
        {
          "data": {
            "text/plain": [
              "0    0.796062\n",
              "1    0.203938\n",
              "Name: Exited, dtype: float64"
            ]
          },
          "execution_count": 57,
          "metadata": {},
          "output_type": "execute_result"
        }
      ],
      "source": [
        "data['Exited'].value_counts(normalize=True)"
      ]
    },
    {
      "cell_type": "markdown",
      "metadata": {
        "id": "d77rs-48bQEr"
      },
      "source": [
        "Видим, что клиенты, ушедшие из банка, составляют около 20% от общего числа клиентов, соответственно, наблюдается дисбаланс классов.\n",
        "\n",
        "Попробуем обучить модель без учета дисбаланса и изучим полученные результаты:"
      ]
    },
    {
      "cell_type": "markdown",
      "metadata": {
        "id": "F5-gIDHDbQEr"
      },
      "source": [
        "Так как перед нами данные с категориальным целевым признаком (факт ухода клиента из банка (0 или 1)), то решаем задачу классификации (даже бинарной (двоичной) классификации). Нами было изучено 3 модели, подходящии для данной задачи - дерево решений, случайный лес и логистическая регрессия. Исследуем качество каждой из модели на валидационной выборке, меняя гиперпараметры:"
      ]
    },
    {
      "cell_type": "code",
      "execution_count": null,
      "metadata": {
        "id": "c0grZA7ZbQEr",
        "outputId": "615989eb-5f81-41e0-b66b-1311f19a1f4a"
      },
      "outputs": [
        {
          "name": "stdout",
          "output_type": "stream",
          "text": [
            "F1 лучшей модели: 0.562596599690881\n",
            "Глубина дерева: 9\n",
            "Минимальное количество примеров для разделения: 3\n",
            "Минимальное количество объектов в листе: 1\n",
            "Значение AUC-ROC: 0.8091721988890395\n"
          ]
        }
      ],
      "source": [
        "best_model = None\n",
        "best_result = 0\n",
        "best_depth = 0\n",
        "best_split = 0\n",
        "best_leaf = 0\n",
        "\n",
        "for depth in range(1, 10):\n",
        "    for split in range(2, 10):\n",
        "        for leaf in range(1, 10):\n",
        "            model = DecisionTreeClassifier(random_state=12345, max_depth=depth, min_samples_split=split, min_samples_leaf=leaf)\n",
        "            model.fit(features_train, target_train)\n",
        "            predictions_valid = model.predict(features_valid)\n",
        "            result = f1_score(target_valid, predictions_valid)\n",
        "            if result > best_result:\n",
        "                best_model = model\n",
        "                best_result = result\n",
        "                best_depth = depth\n",
        "                best_split = split\n",
        "                best_leaf = leaf\n",
        "\n",
        "\n",
        "print('F1 лучшей модели:', best_result)\n",
        "print('Глубина дерева:', best_depth)\n",
        "print('Минимальное количество примеров для разделения:', best_split)\n",
        "print('Минимальное количество объектов в листе:', best_leaf)\n",
        "\n",
        "probabilities_valid = best_model.predict_proba(features_valid)\n",
        "probabilities_one_valid = probabilities_valid[:, 1]\n",
        "auc_roc = roc_auc_score(target_valid, probabilities_one_valid)\n",
        "\n",
        "print('Значение AUC-ROC:', auc_roc)"
      ]
    },
    {
      "cell_type": "code",
      "execution_count": null,
      "metadata": {
        "id": "eEEuiB8BbQEs",
        "outputId": "47fb4283-6807-4de2-a838-cc3bb20a6cee"
      },
      "outputs": [
        {
          "name": "stdout",
          "output_type": "stream",
          "text": [
            "F1 лучшей модели: 0.5616438356164384\n",
            "Количество деревьев: 40\n",
            "Максимальная глубина: 20\n",
            "Значение AUC-ROC: 0.8203100302578693\n"
          ]
        }
      ],
      "source": [
        "best_model = None\n",
        "best_result = 0\n",
        "best_est = 0\n",
        "best_depth = 0\n",
        "for est in range(10, 71, 10):\n",
        "    for depth in range (1, 21):\n",
        "        model = RandomForestClassifier(random_state=12345, n_estimators=est, max_depth=depth)\n",
        "        model.fit(features_train, target_train)\n",
        "        predictions_valid = model.predict(features_valid)\n",
        "        result = f1_score(target_valid, predictions_valid)\n",
        "        if result > best_result:\n",
        "            best_model = model\n",
        "            best_result = result\n",
        "            best_est = est\n",
        "            best_depth = depth\n",
        "\n",
        "print('F1 лучшей модели:', best_result)\n",
        "print('Количество деревьев:', best_est)\n",
        "print('Максимальная глубина:', best_depth)\n",
        "\n",
        "probabilities_valid = best_model.predict_proba(features_valid)\n",
        "probabilities_one_valid = probabilities_valid[:, 1]\n",
        "auc_roc = roc_auc_score(target_valid, probabilities_one_valid)\n",
        "\n",
        "print('Значение AUC-ROC:', auc_roc)"
      ]
    },
    {
      "cell_type": "code",
      "execution_count": null,
      "metadata": {
        "id": "Zp-bXAGqbQEs",
        "outputId": "f8d7ed99-0ea4-4995-94f1-3013493964d8"
      },
      "outputs": [
        {
          "name": "stdout",
          "output_type": "stream",
          "text": [
            "F1 лучшей модели: 0.0681265206812652\n",
            "Максимальное количество итераций обучения: 100\n",
            "Значение AUC-ROC: 0.6734483433440214\n"
          ]
        }
      ],
      "source": [
        "best_model = None\n",
        "best_score = 0\n",
        "best_iter = 0\n",
        "\n",
        "for iter in range(100, 1500, 10):\n",
        "    model = LogisticRegression(random_state=12345, solver='lbfgs', max_iter=iter)\n",
        "    model.fit(features_train, target_train)\n",
        "    predictions_valid = model.predict(features_valid)\n",
        "    score = f1_score(target_valid, predictions_valid)\n",
        "    if score > best_score:\n",
        "        best_model = model\n",
        "        best_score = score\n",
        "        best_iter = iter\n",
        "\n",
        "print('F1 лучшей модели:', best_score)\n",
        "print('Максимальное количество итераций обучения:', best_iter)\n",
        "\n",
        "probabilities_valid = best_model.predict_proba(features_valid)\n",
        "probabilities_one_valid = probabilities_valid[:, 1]\n",
        "auc_roc = roc_auc_score(target_valid, probabilities_one_valid)\n",
        "\n",
        "print('Значение AUC-ROC:', auc_roc)"
      ]
    },
    {
      "cell_type": "markdown",
      "metadata": {
        "id": "LQRDrhqibQEt"
      },
      "source": [
        "Без учета дисбаланса классов ни одна из изученных моделей (дерево решений, случайный лес, логистическая регрессия) не проходит заданный порог для F1-меры в 0,59.\n",
        "\n",
        "Лучшее значение F1-меры у дерева решений - 0,563, у случайного леса - 0,562, а у логистической регрессия и вовсе 0,068."
      ]
    },
    {
      "cell_type": "markdown",
      "metadata": {
        "id": "e0Llcma4bQEt"
      },
      "source": [
        "## Борьба с дисбалансом"
      ]
    },
    {
      "cell_type": "markdown",
      "metadata": {
        "id": "DhZJ9WJDbQEu"
      },
      "source": [
        "Попробуем улучшить качество моделей, учитывая дисбаланс классов. Нами было изучено 3 способа борьбы с дисбалансом: взвешивание классов (class_weight='balanced'), увеличение выборки (upsampling) и уменьшение выборки (downsampling). Проверим значения F1-меры используя каждый из методов:"
      ]
    },
    {
      "cell_type": "markdown",
      "metadata": {
        "id": "H8oaGUgnbQEu"
      },
      "source": [
        "Взвешивание классов:"
      ]
    },
    {
      "cell_type": "code",
      "execution_count": null,
      "metadata": {
        "id": "MsTXWZwfbQEu",
        "outputId": "189a9f8d-a1dc-478c-bcb8-82079caa5013"
      },
      "outputs": [
        {
          "name": "stdout",
          "output_type": "stream",
          "text": [
            "F1 лучшей модели: 0.5654345654345655\n",
            "Глубина дерева: 7\n",
            "Минимальное количество примеров для разделения: 2\n",
            "Минимальное количество объектов в листе: 7\n",
            "Значение AUC-ROC: 0.831164664529046\n"
          ]
        }
      ],
      "source": [
        "best_model = None\n",
        "best_result = 0\n",
        "best_depth = 0\n",
        "best_split = 0\n",
        "best_leaf = 0\n",
        "\n",
        "for depth in range(1, 10):\n",
        "    for split in range(2, 10):\n",
        "        for leaf in range(1, 10):\n",
        "            model = DecisionTreeClassifier(random_state=12345, max_depth=depth, min_samples_split=split, min_samples_leaf=leaf, class_weight='balanced')\n",
        "            model.fit(features_train, target_train)\n",
        "            predictions_valid = model.predict(features_valid)\n",
        "            result = f1_score(target_valid, predictions_valid)\n",
        "            if result > best_result:\n",
        "                best_model = model\n",
        "                best_result = result\n",
        "                best_depth = depth\n",
        "                best_split = split\n",
        "                best_leaf = leaf\n",
        "\n",
        "print('F1 лучшей модели:', best_result)\n",
        "print('Глубина дерева:', best_depth)\n",
        "print('Минимальное количество примеров для разделения:', best_split)\n",
        "print('Минимальное количество объектов в листе:', best_leaf)\n",
        "\n",
        "probabilities_valid = best_model.predict_proba(features_valid)\n",
        "probabilities_one_valid = probabilities_valid[:, 1]\n",
        "auc_roc = roc_auc_score(target_valid, probabilities_one_valid)\n",
        "\n",
        "print('Значение AUC-ROC:', auc_roc)"
      ]
    },
    {
      "cell_type": "code",
      "execution_count": null,
      "metadata": {
        "id": "HkKkpIyybQEu",
        "outputId": "2169f309-6035-454f-93f7-b2a0bef41b28"
      },
      "outputs": [
        {
          "name": "stdout",
          "output_type": "stream",
          "text": [
            "F1 лучшей модели: 0.6112676056338029\n",
            "Количество деревьев: 90\n",
            "Максимальная глубина: 10\n",
            "Значение AUC-ROC: 0.8459972301253971\n"
          ]
        }
      ],
      "source": [
        "best_model = None\n",
        "best_result = 0\n",
        "best_est = 0\n",
        "best_depth = 0\n",
        "for est in range(10, 100, 10):\n",
        "    for depth in range (1, 21):\n",
        "        model = RandomForestClassifier(random_state=12345, n_estimators=est, max_depth=depth, class_weight='balanced')\n",
        "        model.fit(features_train, target_train)\n",
        "        predictions_valid = model.predict(features_valid)\n",
        "        result = f1_score(target_valid, predictions_valid)\n",
        "        if result > best_result:\n",
        "            best_model = model\n",
        "            best_result = result\n",
        "            best_est = est\n",
        "            best_depth = depth\n",
        "\n",
        "print('F1 лучшей модели:', best_result)\n",
        "print('Количество деревьев:', best_est)\n",
        "print('Максимальная глубина:', best_depth)\n",
        "\n",
        "probabilities_valid = best_model.predict_proba(features_valid)\n",
        "probabilities_one_valid = probabilities_valid[:, 1]\n",
        "auc_roc = roc_auc_score(target_valid, probabilities_one_valid)\n",
        "\n",
        "print('Значение AUC-ROC:', auc_roc)"
      ]
    },
    {
      "cell_type": "code",
      "execution_count": null,
      "metadata": {
        "scrolled": true,
        "id": "EdT9p7MubQEv",
        "outputId": "0635a124-73e3-4e7e-a746-e495a81e13eb"
      },
      "outputs": [
        {
          "name": "stdout",
          "output_type": "stream",
          "text": [
            "F1 лучшей модели: 0.34167893961708395\n",
            "Максимальное количество итераций обучения: 100\n",
            "Значение AUC-ROC: 0.570787984163543\n"
          ]
        }
      ],
      "source": [
        "best_model = None\n",
        "best_score = 0\n",
        "best_iter = 0\n",
        "\n",
        "for iter in range(100, 1500, 10):\n",
        "    model = LogisticRegression(random_state=12345, solver='lbfgs', max_iter=iter, class_weight='balanced')\n",
        "    model.fit(features_train, target_train)\n",
        "    predictions_valid = model.predict(features_valid)\n",
        "    score = f1_score(target_valid, predictions_valid)\n",
        "    if score > best_score:\n",
        "        best_model = model\n",
        "        best_score = score\n",
        "        best_iter = iter\n",
        "\n",
        "print('F1 лучшей модели:', best_score)\n",
        "print('Максимальное количество итераций обучения:', best_iter)\n",
        "\n",
        "probabilities_valid = best_model.predict_proba(features_valid)\n",
        "probabilities_one_valid = probabilities_valid[:, 1]\n",
        "auc_roc = roc_auc_score(target_valid, probabilities_one_valid)\n",
        "\n",
        "print('Значение AUC-ROC:', auc_roc)"
      ]
    },
    {
      "cell_type": "markdown",
      "metadata": {
        "id": "TEO_bS3DbQEv"
      },
      "source": [
        "Увеличение выборки (upsampling):"
      ]
    },
    {
      "cell_type": "code",
      "execution_count": null,
      "metadata": {
        "id": "i6BIupRpbQEv"
      },
      "outputs": [],
      "source": [
        "def upsample(features, target, repeat):\n",
        "    features_zeros = features[target == 0]\n",
        "    features_ones = features[target == 1]\n",
        "    target_zeros = target[target == 0]\n",
        "    target_ones = target[target == 1]\n",
        "\n",
        "    features_upsampled = pd.concat([features_zeros] + [features_ones] * repeat)\n",
        "    target_upsampled = pd.concat([target_zeros] + [target_ones] * repeat)\n",
        "\n",
        "    features_upsampled, target_upsampled = shuffle(\n",
        "        features_upsampled, target_upsampled, random_state=12345)\n",
        "\n",
        "    return features_upsampled, target_upsampled"
      ]
    },
    {
      "cell_type": "markdown",
      "metadata": {
        "id": "gfL0d-6bbQEw"
      },
      "source": [
        "<li>   <font color='steelblue'>\n",
        "    Найдем отношение количества клиентов, которые остались в банке, к тем, которые ушли (0 к 1). Это число будет количеством повторений при увеличении выборки.\n",
        "</font>"
      ]
    },
    {
      "cell_type": "code",
      "execution_count": null,
      "metadata": {
        "id": "vxJ78PBJbQEw",
        "outputId": "3c46cb1d-2c6c-4b2c-ed26-aea6bd63e09c"
      },
      "outputs": [
        {
          "data": {
            "text/plain": [
              "3.9034519956850056"
            ]
          },
          "execution_count": 65,
          "metadata": {},
          "output_type": "execute_result"
        }
      ],
      "source": [
        "len(data.loc[data['Exited'] == 0])/len(data.loc[data['Exited'] == 1])"
      ]
    },
    {
      "cell_type": "markdown",
      "metadata": {
        "id": "58AsQ8CYbQEw"
      },
      "source": [
        "Округлим до 4"
      ]
    },
    {
      "cell_type": "code",
      "execution_count": null,
      "metadata": {
        "id": "rEy_JA05bQEw",
        "outputId": "ae5f1613-2587-459b-f170-84026b7ffa53"
      },
      "outputs": [
        {
          "name": "stdout",
          "output_type": "stream",
          "text": [
            "F1: 0.5552238805970149\n",
            "Значение AUC-ROC: 0.8258667148383987\n"
          ]
        }
      ],
      "source": [
        "features_upsampled, target_upsampled = upsample(features_train, target_train, 4)\n",
        "\n",
        "model = DecisionTreeClassifier(random_state=12345, max_depth=7, min_samples_split=2, min_samples_leaf=7)\n",
        "model.fit(features_upsampled, target_upsampled)\n",
        "predicted_valid = model.predict(features_valid)\n",
        "\n",
        "print(\"F1:\", f1_score(target_valid, predicted_valid))\n",
        "\n",
        "probabilities_valid = model.predict_proba(features_valid)\n",
        "probabilities_one_valid = probabilities_valid[:, 1]\n",
        "auc_roc = roc_auc_score(target_valid, probabilities_one_valid)\n",
        "\n",
        "print('Значение AUC-ROC:', auc_roc)"
      ]
    },
    {
      "cell_type": "code",
      "execution_count": null,
      "metadata": {
        "id": "vXRX7sqkbQEx",
        "outputId": "b485e11b-ce88-49b2-888f-28e3bbe5a68c"
      },
      "outputs": [
        {
          "name": "stdout",
          "output_type": "stream",
          "text": [
            "F1: 0.5974999999999999\n",
            "Значение AUC-ROC: 0.8490757048879254\n"
          ]
        }
      ],
      "source": [
        "model = RandomForestClassifier(random_state=12345, n_estimators=90, max_depth=10)\n",
        "model.fit(features_upsampled, target_upsampled)\n",
        "predicted_valid = model.predict(features_valid)\n",
        "\n",
        "print(\"F1:\", f1_score(target_valid, predicted_valid))\n",
        "\n",
        "probabilities_valid = model.predict_proba(features_valid)\n",
        "probabilities_one_valid = probabilities_valid[:, 1]\n",
        "auc_roc = roc_auc_score(target_valid, probabilities_one_valid)\n",
        "\n",
        "print('Значение AUC-ROC:', auc_roc)"
      ]
    },
    {
      "cell_type": "code",
      "execution_count": null,
      "metadata": {
        "id": "Z6S0b9N0bQEx",
        "outputId": "879582ca-2029-4a4a-ef09-ac76caf21068"
      },
      "outputs": [
        {
          "name": "stdout",
          "output_type": "stream",
          "text": [
            "F1: 0.4493392070484581\n",
            "Значение AUC-ROC: 0.7138881362055729\n"
          ]
        }
      ],
      "source": [
        "model = LogisticRegression(random_state=12345, solver='liblinear', max_iter=100)\n",
        "model.fit(features_upsampled, target_upsampled)\n",
        "predicted_valid = model.predict(features_valid)\n",
        "\n",
        "print(\"F1:\", f1_score(target_valid, predicted_valid))\n",
        "\n",
        "probabilities_valid = model.predict_proba(features_valid)\n",
        "probabilities_one_valid = probabilities_valid[:, 1]\n",
        "auc_roc = roc_auc_score(target_valid, probabilities_one_valid)\n",
        "\n",
        "print('Значение AUC-ROC:', auc_roc)"
      ]
    },
    {
      "cell_type": "markdown",
      "metadata": {
        "id": "Y90M4Px8bQEx"
      },
      "source": [
        "Уменьшение выборки (downsampling):"
      ]
    },
    {
      "cell_type": "code",
      "execution_count": null,
      "metadata": {
        "id": "Q2g8mE80bQEy"
      },
      "outputs": [],
      "source": [
        "def downsample(features, target, fraction):\n",
        "    features_zeros = features[target == 0]\n",
        "    features_ones = features[target == 1]\n",
        "    target_zeros = target[target == 0]\n",
        "    target_ones = target[target == 1]\n",
        "\n",
        "    features_downsampled = pd.concat(\n",
        "        [features_zeros.sample(frac=fraction, random_state=12345)] + [features_ones])\n",
        "    target_downsampled = pd.concat(\n",
        "        [target_zeros.sample(frac=fraction, random_state=12345)] + [target_ones])\n",
        "\n",
        "    features_downsampled, target_downsampled = shuffle(\n",
        "        features_downsampled, target_downsampled, random_state=12345)\n",
        "\n",
        "    return features_downsampled, target_downsampled"
      ]
    },
    {
      "cell_type": "markdown",
      "metadata": {
        "id": "KxJgFwR8bQEy"
      },
      "source": [
        "Найдем долю положительных и отрицательных ответов:"
      ]
    },
    {
      "cell_type": "code",
      "execution_count": null,
      "metadata": {
        "id": "Wq2FaKnVbQEy",
        "outputId": "59dfa7f4-518a-45b9-f7a5-5b9a5fddf927"
      },
      "outputs": [
        {
          "data": {
            "text/plain": [
              "0    0.796062\n",
              "1    0.203938\n",
              "Name: Exited, dtype: float64"
            ]
          },
          "execution_count": 70,
          "metadata": {},
          "output_type": "execute_result"
        }
      ],
      "source": [
        "data['Exited'].value_counts(normalize=True)"
      ]
    },
    {
      "cell_type": "code",
      "execution_count": null,
      "metadata": {
        "id": "u4kLKW8abQEy",
        "outputId": "0b98bb14-4bd8-4f79-f090-bded3e8874cc"
      },
      "outputs": [
        {
          "name": "stdout",
          "output_type": "stream",
          "text": [
            "F1: 0.5099818511796733\n",
            "Значение AUC-ROC: 0.8007863658944135\n"
          ]
        }
      ],
      "source": [
        "features_downsampled, target_downsampled = downsample(features_train, target_train, 0.2)\n",
        "\n",
        "model = DecisionTreeClassifier(random_state=12345, max_depth=7, min_samples_split=2, min_samples_leaf=7)\n",
        "model.fit(features_downsampled, target_downsampled)\n",
        "predicted_valid = model.predict(features_valid)\n",
        "\n",
        "print(\"F1:\", f1_score(target_valid, predicted_valid))\n",
        "\n",
        "probabilities_valid = model.predict_proba(features_valid)\n",
        "probabilities_one_valid = probabilities_valid[:, 1]\n",
        "auc_roc = roc_auc_score(target_valid, probabilities_one_valid)\n",
        "\n",
        "print('Значение AUC-ROC:', auc_roc)"
      ]
    },
    {
      "cell_type": "code",
      "execution_count": null,
      "metadata": {
        "id": "e1MpPC53bQEz",
        "outputId": "a5fba033-20d6-4053-837e-526ed159b1fa"
      },
      "outputs": [
        {
          "name": "stdout",
          "output_type": "stream",
          "text": [
            "F1: 0.5666337611056269\n",
            "Значение AUC-ROC: 0.8494934441283175\n"
          ]
        }
      ],
      "source": [
        "model = RandomForestClassifier(random_state=12345, n_estimators=90, max_depth=10)\n",
        "model.fit(features_downsampled, target_downsampled)\n",
        "predicted_valid = model.predict(features_valid)\n",
        "\n",
        "print(\"F1:\", f1_score(target_valid, predicted_valid))\n",
        "\n",
        "probabilities_valid = model.predict_proba(features_valid)\n",
        "probabilities_one_valid = probabilities_valid[:, 1]\n",
        "auc_roc = roc_auc_score(target_valid, probabilities_one_valid)\n",
        "\n",
        "print('Значение AUC-ROC:', auc_roc)"
      ]
    },
    {
      "cell_type": "code",
      "execution_count": null,
      "metadata": {
        "id": "ziCnskUtbQEz",
        "outputId": "71341861-2b43-414d-e20a-c09753ca0cfc"
      },
      "outputs": [
        {
          "name": "stdout",
          "output_type": "stream",
          "text": [
            "F1: 0.4199706314243759\n",
            "Значение AUC-ROC: 0.7117204082554307\n"
          ]
        }
      ],
      "source": [
        "model = LogisticRegression(solver='liblinear', random_state=12345, max_iter=100)\n",
        "model.fit(features_downsampled, target_downsampled)\n",
        "predicted_valid = model.predict(features_valid)\n",
        "\n",
        "print(\"F1:\", f1_score(target_valid, predicted_valid))\n",
        "\n",
        "probabilities_valid = model.predict_proba(features_valid)\n",
        "probabilities_one_valid = probabilities_valid[:, 1]\n",
        "auc_roc = roc_auc_score(target_valid, probabilities_one_valid)\n",
        "\n",
        "print('Значение AUC-ROC:', auc_roc)"
      ]
    },
    {
      "cell_type": "markdown",
      "metadata": {
        "id": "zEs1ylb7bQEz"
      },
      "source": [
        "Наилучшее качество показала модель случайного леса с использованием метода взвешивания классов с F1 = 0,61, что проходит заданный порог в 0,59.\n",
        "\n",
        "Дополнительно измерим AUC-ROC и сравним ее значение с F1-мерой:"
      ]
    },
    {
      "cell_type": "markdown",
      "metadata": {
        "id": "S96AMzJxbQEz"
      },
      "source": [
        "AUC-ROC (площадь под ROC-кривой):"
      ]
    },
    {
      "cell_type": "code",
      "execution_count": null,
      "metadata": {
        "id": "7jAmeMZ6bQEz",
        "outputId": "aaeb4ab1-e46a-422a-c6a1-06424ac46e20"
      },
      "outputs": [
        {
          "data": {
            "text/plain": [
              "0.8459972301253971"
            ]
          },
          "execution_count": 74,
          "metadata": {},
          "output_type": "execute_result"
        }
      ],
      "source": [
        "model = RandomForestClassifier(random_state=12345, n_estimators=90, max_depth=10, class_weight='balanced')\n",
        "model.fit(features_train, target_train)\n",
        "\n",
        "probabilities_valid = model.predict_proba(features_valid)\n",
        "probabilities_one_valid = probabilities_valid[:, 1]\n",
        "\n",
        "roc_auc_score(target_valid, probabilities_one_valid)"
      ]
    },
    {
      "cell_type": "markdown",
      "metadata": {
        "id": "wNMZ4L01bQEz"
      },
      "source": [
        "Метрика AUC-ROC значительно больше, чем у случайной модели (0,5) и F1-меры, однако нельзя сказать, что близка к идеальной AUC-ROC = 1."
      ]
    },
    {
      "cell_type": "markdown",
      "metadata": {
        "id": "dDLIzClUbQE0"
      },
      "source": [
        "## Тестирование модели"
      ]
    },
    {
      "cell_type": "markdown",
      "metadata": {
        "id": "Gu5IzeyMbQE0"
      },
      "source": [
        "Проведен финальное тестирование лучшей модели (случайный лес с использованием техники взвешивания классов) на тестовой выборке:"
      ]
    },
    {
      "cell_type": "code",
      "execution_count": null,
      "metadata": {
        "id": "S-vkA74WbQE0",
        "outputId": "3a11a399-01e9-43f0-9188-7bd73953d42e"
      },
      "outputs": [
        {
          "data": {
            "text/plain": [
              "0.6013793103448275"
            ]
          },
          "execution_count": 75,
          "metadata": {},
          "output_type": "execute_result"
        }
      ],
      "source": [
        "model = RandomForestClassifier(random_state=12345, n_estimators=90, max_depth=10, class_weight='balanced')\n",
        "model.fit(features_train, target_train)\n",
        "pred_test = model.predict(features_test)\n",
        "f1_score(target_test, pred_test)"
      ]
    },
    {
      "cell_type": "markdown",
      "metadata": {
        "id": "w4QDIM8_bQE0"
      },
      "source": [
        "С заданным порогом F1-меры в 0,59 модель проходит проверку на качество с результатом 0,60."
      ]
    },
    {
      "cell_type": "code",
      "execution_count": null,
      "metadata": {
        "id": "8u493Rv8bQE1"
      },
      "outputs": [],
      "source": []
    }
  ],
  "metadata": {
    "ExecuteTimeLog": [
      {
        "duration": 1175,
        "start_time": "2023-04-26T16:34:14.920Z"
      },
      {
        "duration": 108,
        "start_time": "2023-04-26T16:35:04.155Z"
      },
      {
        "duration": 53,
        "start_time": "2023-04-26T16:35:11.524Z"
      },
      {
        "duration": 58,
        "start_time": "2023-04-26T16:35:19.767Z"
      },
      {
        "duration": 6,
        "start_time": "2023-04-26T16:36:51.821Z"
      },
      {
        "duration": 15,
        "start_time": "2023-04-26T16:58:45.906Z"
      },
      {
        "duration": 14,
        "start_time": "2023-04-26T17:10:11.697Z"
      },
      {
        "duration": 14,
        "start_time": "2023-04-26T17:10:18.590Z"
      },
      {
        "duration": 5,
        "start_time": "2023-04-26T17:10:39.787Z"
      },
      {
        "duration": 7,
        "start_time": "2023-04-26T17:10:46.042Z"
      },
      {
        "duration": 12,
        "start_time": "2023-04-26T17:10:58.307Z"
      },
      {
        "duration": 6,
        "start_time": "2023-04-26T17:11:16.443Z"
      },
      {
        "duration": 5,
        "start_time": "2023-04-26T17:11:22.123Z"
      },
      {
        "duration": 12,
        "start_time": "2023-04-26T17:11:43.591Z"
      },
      {
        "duration": 41,
        "start_time": "2023-04-26T17:16:16.938Z"
      },
      {
        "duration": 13,
        "start_time": "2023-04-26T17:16:24.979Z"
      },
      {
        "duration": 166,
        "start_time": "2023-04-26T19:27:23.503Z"
      },
      {
        "duration": 18,
        "start_time": "2023-04-26T19:27:29.868Z"
      },
      {
        "duration": 194,
        "start_time": "2023-04-26T19:27:43.780Z"
      },
      {
        "duration": 24,
        "start_time": "2023-04-26T19:33:44.508Z"
      },
      {
        "duration": 109,
        "start_time": "2023-04-26T19:48:52.887Z"
      },
      {
        "duration": 3,
        "start_time": "2023-04-26T19:49:38.339Z"
      },
      {
        "duration": 63,
        "start_time": "2023-04-26T19:49:38.343Z"
      },
      {
        "duration": 12,
        "start_time": "2023-04-26T19:49:38.408Z"
      },
      {
        "duration": 20,
        "start_time": "2023-04-26T19:49:38.421Z"
      },
      {
        "duration": 4,
        "start_time": "2023-04-26T19:49:38.515Z"
      },
      {
        "duration": 25,
        "start_time": "2023-04-26T19:49:38.521Z"
      },
      {
        "duration": 30,
        "start_time": "2023-04-26T19:49:38.547Z"
      },
      {
        "duration": 21,
        "start_time": "2023-04-26T19:49:38.579Z"
      },
      {
        "duration": 33,
        "start_time": "2023-04-26T19:49:38.602Z"
      },
      {
        "duration": 21,
        "start_time": "2023-04-26T19:49:38.637Z"
      },
      {
        "duration": 9,
        "start_time": "2023-04-26T20:20:49.271Z"
      },
      {
        "duration": 25,
        "start_time": "2023-04-26T20:21:24.777Z"
      },
      {
        "duration": 6,
        "start_time": "2023-04-26T20:25:19.055Z"
      },
      {
        "duration": 8,
        "start_time": "2023-04-26T20:25:25.711Z"
      },
      {
        "duration": 11,
        "start_time": "2023-04-26T20:25:26.343Z"
      },
      {
        "duration": 14,
        "start_time": "2023-04-26T20:25:55.926Z"
      },
      {
        "duration": 5,
        "start_time": "2023-04-26T20:27:09.142Z"
      },
      {
        "duration": 9,
        "start_time": "2023-04-26T20:27:09.766Z"
      },
      {
        "duration": 11,
        "start_time": "2023-04-26T20:29:54.553Z"
      },
      {
        "duration": 30,
        "start_time": "2023-04-26T20:30:27.510Z"
      },
      {
        "duration": 36,
        "start_time": "2023-04-26T20:30:31.495Z"
      },
      {
        "duration": 9946,
        "start_time": "2023-04-26T20:31:59.713Z"
      },
      {
        "duration": 30092,
        "start_time": "2023-04-26T20:32:59.464Z"
      },
      {
        "duration": 101210,
        "start_time": "2023-04-26T20:34:17.216Z"
      },
      {
        "duration": 9943,
        "start_time": "2023-04-26T21:25:21.742Z"
      },
      {
        "duration": 30157,
        "start_time": "2023-04-26T21:25:31.688Z"
      },
      {
        "duration": 90272,
        "start_time": "2023-04-26T21:26:01.847Z"
      },
      {
        "duration": 11848,
        "start_time": "2023-04-27T14:08:53.562Z"
      },
      {
        "duration": 33122,
        "start_time": "2023-04-27T14:10:16.243Z"
      },
      {
        "duration": 138155,
        "start_time": "2023-04-27T14:10:49.367Z"
      },
      {
        "duration": 52635,
        "start_time": "2023-04-27T14:13:07.548Z"
      },
      {
        "duration": 559,
        "start_time": "2023-04-27T16:09:13.649Z"
      },
      {
        "duration": 34,
        "start_time": "2023-04-27T16:13:20.698Z"
      },
      {
        "duration": 29,
        "start_time": "2023-04-27T16:15:27.371Z"
      },
      {
        "duration": 27,
        "start_time": "2023-04-27T16:16:35.932Z"
      },
      {
        "duration": 550,
        "start_time": "2023-04-27T16:16:37.130Z"
      },
      {
        "duration": 476,
        "start_time": "2023-04-27T16:17:16.846Z"
      },
      {
        "duration": 15,
        "start_time": "2023-04-27T20:18:54.516Z"
      },
      {
        "duration": 4,
        "start_time": "2023-04-27T20:19:00.111Z"
      },
      {
        "duration": 3828,
        "start_time": "2023-04-27T20:19:01.214Z"
      },
      {
        "duration": 3732,
        "start_time": "2023-04-27T20:21:00.414Z"
      },
      {
        "duration": 839,
        "start_time": "2023-04-27T20:22:51.632Z"
      },
      {
        "duration": 18131,
        "start_time": "2023-04-27T20:24:20.553Z"
      },
      {
        "duration": 779,
        "start_time": "2023-04-27T20:24:53.134Z"
      },
      {
        "duration": 3,
        "start_time": "2023-04-27T20:31:39.994Z"
      },
      {
        "duration": 116,
        "start_time": "2023-04-27T20:31:39.999Z"
      },
      {
        "duration": 21,
        "start_time": "2023-04-27T20:31:40.118Z"
      },
      {
        "duration": 26,
        "start_time": "2023-04-27T20:31:40.142Z"
      },
      {
        "duration": 23,
        "start_time": "2023-04-27T20:31:40.171Z"
      },
      {
        "duration": 38,
        "start_time": "2023-04-27T20:31:40.196Z"
      },
      {
        "duration": 45,
        "start_time": "2023-04-27T20:31:40.235Z"
      },
      {
        "duration": 21,
        "start_time": "2023-04-27T20:31:40.282Z"
      },
      {
        "duration": 55,
        "start_time": "2023-04-27T20:31:40.304Z"
      },
      {
        "duration": 33,
        "start_time": "2023-04-27T20:31:40.361Z"
      },
      {
        "duration": 19,
        "start_time": "2023-04-27T20:31:40.396Z"
      },
      {
        "duration": 25,
        "start_time": "2023-04-27T20:31:40.417Z"
      },
      {
        "duration": 24,
        "start_time": "2023-04-27T20:31:40.444Z"
      },
      {
        "duration": 61,
        "start_time": "2023-04-27T20:31:40.471Z"
      },
      {
        "duration": 9969,
        "start_time": "2023-04-27T20:31:40.535Z"
      },
      {
        "duration": 31271,
        "start_time": "2023-04-27T20:31:50.506Z"
      },
      {
        "duration": 190255,
        "start_time": "2023-04-27T20:32:21.779Z"
      },
      {
        "duration": 11117,
        "start_time": "2023-04-27T20:35:32.039Z"
      },
      {
        "duration": 49027,
        "start_time": "2023-04-27T20:35:43.158Z"
      },
      {
        "duration": 90639,
        "start_time": "2023-04-27T20:36:32.187Z"
      },
      {
        "duration": 7,
        "start_time": "2023-04-27T20:38:02.834Z"
      },
      {
        "duration": 18045,
        "start_time": "2023-04-27T20:38:02.918Z"
      },
      {
        "duration": 830,
        "start_time": "2023-04-27T20:38:20.965Z"
      },
      {
        "duration": 3865,
        "start_time": "2023-04-27T20:38:21.797Z"
      },
      {
        "duration": 108,
        "start_time": "2023-04-27T20:38:25.723Z"
      },
      {
        "duration": 548,
        "start_time": "2023-04-27T20:38:25.833Z"
      },
      {
        "duration": 438,
        "start_time": "2023-04-27T20:38:26.383Z"
      },
      {
        "duration": 18067,
        "start_time": "2023-04-27T20:45:03.800Z"
      },
      {
        "duration": 96,
        "start_time": "2023-04-27T20:45:45.430Z"
      },
      {
        "duration": 70,
        "start_time": "2023-04-27T20:46:23.390Z"
      },
      {
        "duration": 3815,
        "start_time": "2023-04-27T20:46:52.630Z"
      },
      {
        "duration": 18019,
        "start_time": "2023-04-27T20:47:03.631Z"
      },
      {
        "duration": 804,
        "start_time": "2023-04-27T20:47:26.992Z"
      },
      {
        "duration": 529,
        "start_time": "2023-04-27T20:47:35.128Z"
      },
      {
        "duration": 520,
        "start_time": "2023-04-27T20:47:53.532Z"
      },
      {
        "duration": 534,
        "start_time": "2023-04-27T20:47:58.102Z"
      },
      {
        "duration": 285,
        "start_time": "2023-04-27T20:48:14.710Z"
      },
      {
        "duration": 12016,
        "start_time": "2023-04-27T20:48:34.743Z"
      },
      {
        "duration": 18123,
        "start_time": "2023-04-27T20:49:30.391Z"
      },
      {
        "duration": 827,
        "start_time": "2023-04-27T20:49:48.523Z"
      },
      {
        "duration": 53,
        "start_time": "2023-04-27T20:50:51.144Z"
      },
      {
        "duration": 973,
        "start_time": "2023-04-27T20:51:23.832Z"
      },
      {
        "duration": 116,
        "start_time": "2023-04-27T20:51:42.106Z"
      },
      {
        "duration": 839,
        "start_time": "2023-04-27T20:51:57.300Z"
      },
      {
        "duration": 5,
        "start_time": "2023-04-27T21:02:51.270Z"
      },
      {
        "duration": 28,
        "start_time": "2023-04-27T21:03:13.904Z"
      },
      {
        "duration": 21,
        "start_time": "2023-04-27T21:03:40.983Z"
      },
      {
        "duration": 272,
        "start_time": "2023-04-27T21:03:53.998Z"
      },
      {
        "duration": 3,
        "start_time": "2023-04-27T21:06:44.604Z"
      },
      {
        "duration": 48,
        "start_time": "2023-04-27T21:29:35.880Z"
      },
      {
        "duration": 668,
        "start_time": "2023-04-27T21:30:31.712Z"
      },
      {
        "duration": 535,
        "start_time": "2023-04-27T21:31:20.404Z"
      },
      {
        "duration": 10,
        "start_time": "2023-04-27T21:45:17.195Z"
      },
      {
        "duration": 3,
        "start_time": "2023-04-27T21:45:31.573Z"
      },
      {
        "duration": 10,
        "start_time": "2023-04-27T21:45:36.062Z"
      },
      {
        "duration": 10,
        "start_time": "2023-04-27T21:46:23.782Z"
      },
      {
        "duration": 5,
        "start_time": "2023-04-27T21:46:32.470Z"
      },
      {
        "duration": 87,
        "start_time": "2023-04-27T21:46:32.504Z"
      },
      {
        "duration": 12,
        "start_time": "2023-04-27T21:46:32.593Z"
      },
      {
        "duration": 58,
        "start_time": "2023-04-27T21:46:32.607Z"
      },
      {
        "duration": 20,
        "start_time": "2023-04-27T21:46:32.667Z"
      },
      {
        "duration": 65,
        "start_time": "2023-04-27T21:46:32.689Z"
      },
      {
        "duration": 24,
        "start_time": "2023-04-27T21:46:32.756Z"
      },
      {
        "duration": 15,
        "start_time": "2023-04-27T21:46:32.781Z"
      },
      {
        "duration": 33,
        "start_time": "2023-04-27T21:46:32.798Z"
      },
      {
        "duration": 13,
        "start_time": "2023-04-27T21:46:32.833Z"
      },
      {
        "duration": 21,
        "start_time": "2023-04-27T21:46:32.848Z"
      },
      {
        "duration": 17,
        "start_time": "2023-04-27T21:46:32.871Z"
      },
      {
        "duration": 13,
        "start_time": "2023-04-27T21:46:32.891Z"
      },
      {
        "duration": 20,
        "start_time": "2023-04-27T21:46:32.906Z"
      },
      {
        "duration": 31,
        "start_time": "2023-04-27T21:46:32.932Z"
      },
      {
        "duration": 8406,
        "start_time": "2023-04-27T21:46:32.965Z"
      },
      {
        "duration": 31233,
        "start_time": "2023-04-27T21:46:41.373Z"
      },
      {
        "duration": 34520,
        "start_time": "2023-04-27T21:47:12.608Z"
      },
      {
        "duration": 9198,
        "start_time": "2023-04-27T21:47:47.130Z"
      },
      {
        "duration": 48442,
        "start_time": "2023-04-27T21:47:56.332Z"
      },
      {
        "duration": 34954,
        "start_time": "2023-04-27T21:48:44.776Z"
      },
      {
        "duration": 7,
        "start_time": "2023-04-27T21:49:19.735Z"
      },
      {
        "duration": 94,
        "start_time": "2023-04-27T21:49:19.744Z"
      },
      {
        "duration": 0,
        "start_time": "2023-04-27T21:49:19.839Z"
      },
      {
        "duration": 0,
        "start_time": "2023-04-27T21:49:19.840Z"
      },
      {
        "duration": 0,
        "start_time": "2023-04-27T21:49:19.842Z"
      },
      {
        "duration": 0,
        "start_time": "2023-04-27T21:49:19.843Z"
      },
      {
        "duration": 0,
        "start_time": "2023-04-27T21:49:19.844Z"
      },
      {
        "duration": 0,
        "start_time": "2023-04-27T21:49:19.845Z"
      },
      {
        "duration": 0,
        "start_time": "2023-04-27T21:49:19.845Z"
      },
      {
        "duration": 0,
        "start_time": "2023-04-27T21:49:19.846Z"
      },
      {
        "duration": 0,
        "start_time": "2023-04-27T21:49:19.847Z"
      },
      {
        "duration": 0,
        "start_time": "2023-04-27T21:49:19.848Z"
      },
      {
        "duration": 22,
        "start_time": "2023-04-27T21:58:18.510Z"
      },
      {
        "duration": 18,
        "start_time": "2023-04-27T21:58:38.910Z"
      },
      {
        "duration": 16,
        "start_time": "2023-04-27T22:28:51.878Z"
      },
      {
        "duration": 5,
        "start_time": "2023-04-27T22:29:08.936Z"
      },
      {
        "duration": 17,
        "start_time": "2023-04-28T10:29:40.392Z"
      },
      {
        "duration": 8,
        "start_time": "2023-04-28T10:29:57.237Z"
      },
      {
        "duration": 15,
        "start_time": "2023-04-28T10:29:58.149Z"
      },
      {
        "duration": 3,
        "start_time": "2023-04-28T10:33:27.503Z"
      },
      {
        "duration": 92,
        "start_time": "2023-04-28T10:33:27.508Z"
      },
      {
        "duration": 12,
        "start_time": "2023-04-28T10:33:27.602Z"
      },
      {
        "duration": 70,
        "start_time": "2023-04-28T10:33:27.616Z"
      },
      {
        "duration": 24,
        "start_time": "2023-04-28T10:33:27.689Z"
      },
      {
        "duration": 28,
        "start_time": "2023-04-28T10:33:27.714Z"
      },
      {
        "duration": 34,
        "start_time": "2023-04-28T10:33:27.744Z"
      },
      {
        "duration": 26,
        "start_time": "2023-04-28T10:33:27.780Z"
      },
      {
        "duration": 38,
        "start_time": "2023-04-28T10:33:27.808Z"
      },
      {
        "duration": 12,
        "start_time": "2023-04-28T10:33:27.849Z"
      },
      {
        "duration": 31,
        "start_time": "2023-04-28T10:33:27.864Z"
      },
      {
        "duration": 17,
        "start_time": "2023-04-28T10:33:27.897Z"
      },
      {
        "duration": 65,
        "start_time": "2023-04-28T10:33:27.916Z"
      },
      {
        "duration": 19,
        "start_time": "2023-04-28T10:33:27.984Z"
      },
      {
        "duration": 65,
        "start_time": "2023-04-28T10:33:28.004Z"
      },
      {
        "duration": 10438,
        "start_time": "2023-04-28T10:33:28.071Z"
      },
      {
        "duration": 32432,
        "start_time": "2023-04-28T10:33:38.510Z"
      },
      {
        "duration": 209777,
        "start_time": "2023-04-28T10:34:10.944Z"
      },
      {
        "duration": 11222,
        "start_time": "2023-04-28T10:37:40.728Z"
      },
      {
        "duration": 50275,
        "start_time": "2023-04-28T10:37:51.955Z"
      },
      {
        "duration": 125714,
        "start_time": "2023-04-28T10:38:42.232Z"
      },
      {
        "duration": 9,
        "start_time": "2023-04-28T10:40:48.021Z"
      },
      {
        "duration": 161,
        "start_time": "2023-04-28T10:40:48.032Z"
      },
      {
        "duration": 1007,
        "start_time": "2023-04-28T10:40:48.194Z"
      },
      {
        "duration": 117,
        "start_time": "2023-04-28T10:40:49.202Z"
      },
      {
        "duration": 92,
        "start_time": "2023-04-28T10:40:49.328Z"
      },
      {
        "duration": 67,
        "start_time": "2023-04-28T10:40:49.422Z"
      },
      {
        "duration": 281,
        "start_time": "2023-04-28T10:40:49.491Z"
      },
      {
        "duration": 57,
        "start_time": "2023-04-28T10:40:49.774Z"
      },
      {
        "duration": 637,
        "start_time": "2023-04-28T10:40:49.840Z"
      },
      {
        "duration": 27,
        "start_time": "2023-04-28T10:40:50.479Z"
      },
      {
        "duration": 567,
        "start_time": "2023-04-28T10:40:50.521Z"
      },
      {
        "duration": 532,
        "start_time": "2023-04-28T10:40:51.090Z"
      },
      {
        "duration": 6,
        "start_time": "2023-04-28T12:30:08.486Z"
      },
      {
        "duration": 11,
        "start_time": "2023-04-28T13:23:35.672Z"
      },
      {
        "duration": 3,
        "start_time": "2023-04-28T13:23:46.800Z"
      },
      {
        "duration": 96,
        "start_time": "2023-04-28T13:23:46.805Z"
      },
      {
        "duration": 13,
        "start_time": "2023-04-28T13:23:46.903Z"
      },
      {
        "duration": 14,
        "start_time": "2023-04-28T13:23:46.918Z"
      },
      {
        "duration": 36,
        "start_time": "2023-04-28T13:23:46.934Z"
      },
      {
        "duration": 13,
        "start_time": "2023-04-28T13:23:46.972Z"
      },
      {
        "duration": 21,
        "start_time": "2023-04-28T13:23:46.987Z"
      },
      {
        "duration": 4,
        "start_time": "2023-04-28T13:23:47.010Z"
      },
      {
        "duration": 39,
        "start_time": "2023-04-28T13:23:47.016Z"
      },
      {
        "duration": 11,
        "start_time": "2023-04-28T13:23:47.058Z"
      },
      {
        "duration": 12,
        "start_time": "2023-04-28T13:23:47.071Z"
      },
      {
        "duration": 7,
        "start_time": "2023-04-28T13:23:47.085Z"
      },
      {
        "duration": 13,
        "start_time": "2023-04-28T13:23:47.095Z"
      },
      {
        "duration": 11,
        "start_time": "2023-04-28T13:23:47.161Z"
      },
      {
        "duration": 30,
        "start_time": "2023-04-28T13:23:47.174Z"
      },
      {
        "duration": 10342,
        "start_time": "2023-04-28T13:23:47.205Z"
      },
      {
        "duration": 33186,
        "start_time": "2023-04-28T13:23:57.551Z"
      },
      {
        "duration": 55609,
        "start_time": "2023-04-28T13:24:30.740Z"
      },
      {
        "duration": 11526,
        "start_time": "2023-04-28T13:25:26.433Z"
      },
      {
        "duration": 52952,
        "start_time": "2023-04-28T13:25:37.961Z"
      },
      {
        "duration": 55714,
        "start_time": "2023-04-28T13:26:30.918Z"
      },
      {
        "duration": 17,
        "start_time": "2023-04-28T13:27:26.633Z"
      },
      {
        "duration": 102,
        "start_time": "2023-04-28T13:27:26.652Z"
      },
      {
        "duration": 0,
        "start_time": "2023-04-28T13:27:26.756Z"
      },
      {
        "duration": 0,
        "start_time": "2023-04-28T13:27:26.757Z"
      },
      {
        "duration": 0,
        "start_time": "2023-04-28T13:27:26.759Z"
      },
      {
        "duration": 0,
        "start_time": "2023-04-28T13:27:26.760Z"
      },
      {
        "duration": 0,
        "start_time": "2023-04-28T13:27:26.761Z"
      },
      {
        "duration": 0,
        "start_time": "2023-04-28T13:27:26.763Z"
      },
      {
        "duration": 0,
        "start_time": "2023-04-28T13:27:26.764Z"
      },
      {
        "duration": 0,
        "start_time": "2023-04-28T13:27:26.765Z"
      },
      {
        "duration": 20,
        "start_time": "2023-04-28T13:31:19.151Z"
      },
      {
        "duration": 38,
        "start_time": "2023-04-28T13:31:48.547Z"
      },
      {
        "duration": 4,
        "start_time": "2023-04-28T13:32:18.213Z"
      },
      {
        "duration": 90,
        "start_time": "2023-04-28T13:32:18.220Z"
      },
      {
        "duration": 18,
        "start_time": "2023-04-28T13:32:18.312Z"
      },
      {
        "duration": 40,
        "start_time": "2023-04-28T13:32:18.335Z"
      },
      {
        "duration": 5,
        "start_time": "2023-04-28T13:32:18.378Z"
      },
      {
        "duration": 12,
        "start_time": "2023-04-28T13:32:18.385Z"
      },
      {
        "duration": 20,
        "start_time": "2023-04-28T13:32:18.399Z"
      },
      {
        "duration": 44,
        "start_time": "2023-04-28T13:32:18.425Z"
      },
      {
        "duration": 28,
        "start_time": "2023-04-28T13:32:18.471Z"
      },
      {
        "duration": 33,
        "start_time": "2023-04-28T13:32:18.501Z"
      },
      {
        "duration": 36,
        "start_time": "2023-04-28T13:32:18.541Z"
      },
      {
        "duration": 18,
        "start_time": "2023-04-28T13:32:18.580Z"
      },
      {
        "duration": 13,
        "start_time": "2023-04-28T13:32:18.600Z"
      },
      {
        "duration": 52,
        "start_time": "2023-04-28T13:32:18.616Z"
      },
      {
        "duration": 11603,
        "start_time": "2023-04-28T13:32:18.669Z"
      },
      {
        "duration": 37578,
        "start_time": "2023-04-28T13:32:30.274Z"
      },
      {
        "duration": 268782,
        "start_time": "2023-04-28T13:33:07.862Z"
      },
      {
        "duration": 12287,
        "start_time": "2023-04-28T13:37:36.649Z"
      },
      {
        "duration": 54314,
        "start_time": "2023-04-28T13:37:48.944Z"
      },
      {
        "duration": 109765,
        "start_time": "2023-04-28T13:38:43.259Z"
      },
      {
        "duration": 8,
        "start_time": "2023-04-28T13:40:33.029Z"
      },
      {
        "duration": 75,
        "start_time": "2023-04-28T13:40:33.119Z"
      },
      {
        "duration": 1024,
        "start_time": "2023-04-28T13:40:33.197Z"
      },
      {
        "duration": 97,
        "start_time": "2023-04-28T13:40:34.231Z"
      },
      {
        "duration": 7,
        "start_time": "2023-04-28T13:40:34.330Z"
      },
      {
        "duration": 132,
        "start_time": "2023-04-28T13:40:34.340Z"
      },
      {
        "duration": 282,
        "start_time": "2023-04-28T13:40:34.474Z"
      },
      {
        "duration": 69,
        "start_time": "2023-04-28T13:40:34.758Z"
      },
      {
        "duration": 701,
        "start_time": "2023-04-28T13:40:34.830Z"
      },
      {
        "duration": 582,
        "start_time": "2023-04-28T13:40:35.537Z"
      },
      {
        "duration": 1363,
        "start_time": "2023-04-28T14:25:53.392Z"
      },
      {
        "duration": 117,
        "start_time": "2023-04-28T14:25:54.799Z"
      },
      {
        "duration": 16,
        "start_time": "2023-04-28T14:25:56.833Z"
      },
      {
        "duration": 13,
        "start_time": "2023-04-28T14:26:03.998Z"
      },
      {
        "duration": 4,
        "start_time": "2023-04-28T14:26:05.389Z"
      },
      {
        "duration": 10,
        "start_time": "2023-04-28T14:26:19.729Z"
      },
      {
        "duration": 11,
        "start_time": "2023-04-28T14:27:04.030Z"
      },
      {
        "duration": 4,
        "start_time": "2023-04-28T14:27:08.328Z"
      },
      {
        "duration": 15,
        "start_time": "2023-04-28T14:27:22.898Z"
      },
      {
        "duration": 15,
        "start_time": "2023-04-28T14:27:40.194Z"
      },
      {
        "duration": 10,
        "start_time": "2023-04-28T14:27:41.627Z"
      },
      {
        "duration": 5,
        "start_time": "2023-04-28T14:29:57.040Z"
      },
      {
        "duration": 8,
        "start_time": "2023-04-28T14:30:02.828Z"
      },
      {
        "duration": 15,
        "start_time": "2023-04-28T14:32:52.274Z"
      },
      {
        "duration": 1180,
        "start_time": "2023-05-07T15:09:09.333Z"
      },
      {
        "duration": 100,
        "start_time": "2023-05-07T15:09:10.516Z"
      },
      {
        "duration": 17,
        "start_time": "2023-05-07T15:09:10.618Z"
      },
      {
        "duration": 12,
        "start_time": "2023-05-07T15:09:10.636Z"
      },
      {
        "duration": 5,
        "start_time": "2023-05-07T15:09:10.650Z"
      },
      {
        "duration": 41,
        "start_time": "2023-05-07T15:09:10.657Z"
      },
      {
        "duration": 21,
        "start_time": "2023-05-07T15:09:10.700Z"
      },
      {
        "duration": 5,
        "start_time": "2023-05-07T15:09:10.723Z"
      },
      {
        "duration": 15,
        "start_time": "2023-05-07T15:09:10.730Z"
      },
      {
        "duration": 13,
        "start_time": "2023-05-07T15:09:10.747Z"
      },
      {
        "duration": 48,
        "start_time": "2023-05-07T15:09:10.762Z"
      },
      {
        "duration": 7,
        "start_time": "2023-05-07T15:09:10.812Z"
      },
      {
        "duration": 17,
        "start_time": "2023-05-07T15:09:10.820Z"
      },
      {
        "duration": 8,
        "start_time": "2023-05-07T15:09:10.840Z"
      },
      {
        "duration": 9168,
        "start_time": "2023-05-07T15:09:17.855Z"
      },
      {
        "duration": 8469,
        "start_time": "2023-05-07T15:09:42.916Z"
      },
      {
        "duration": 27073,
        "start_time": "2023-05-07T15:10:36.325Z"
      },
      {
        "duration": 77018,
        "start_time": "2023-05-07T15:11:37.688Z"
      },
      {
        "duration": 8969,
        "start_time": "2023-05-07T15:53:11.644Z"
      },
      {
        "duration": 41802,
        "start_time": "2023-05-07T15:53:21.776Z"
      },
      {
        "duration": 36619,
        "start_time": "2023-05-07T15:54:03.579Z"
      },
      {
        "duration": 5,
        "start_time": "2023-05-07T16:07:14.387Z"
      },
      {
        "duration": 7,
        "start_time": "2023-05-07T16:07:18.185Z"
      },
      {
        "duration": 6,
        "start_time": "2023-05-07T16:07:48.554Z"
      },
      {
        "duration": 6,
        "start_time": "2023-05-07T16:07:57.716Z"
      },
      {
        "duration": 92,
        "start_time": "2023-05-07T16:13:20.114Z"
      },
      {
        "duration": 5,
        "start_time": "2023-05-07T16:13:31.505Z"
      },
      {
        "duration": 31,
        "start_time": "2023-05-07T16:13:36.216Z"
      },
      {
        "duration": 668,
        "start_time": "2023-05-07T16:13:40.478Z"
      },
      {
        "duration": 44,
        "start_time": "2023-05-07T16:13:54.096Z"
      },
      {
        "duration": 5,
        "start_time": "2023-05-07T16:49:24.535Z"
      },
      {
        "duration": 10,
        "start_time": "2023-05-07T17:02:58.236Z"
      },
      {
        "duration": 5,
        "start_time": "2023-05-07T17:03:02.065Z"
      },
      {
        "duration": 22,
        "start_time": "2023-05-07T17:03:05.194Z"
      },
      {
        "duration": 276,
        "start_time": "2023-05-07T17:03:07.727Z"
      },
      {
        "duration": 57,
        "start_time": "2023-05-07T17:03:11.037Z"
      },
      {
        "duration": 58,
        "start_time": "2023-05-07T17:04:08.067Z"
      },
      {
        "duration": 744,
        "start_time": "2023-05-07T17:04:17.065Z"
      },
      {
        "duration": 110,
        "start_time": "2023-05-07T17:04:21.995Z"
      },
      {
        "duration": 23,
        "start_time": "2023-05-07T17:04:27.745Z"
      },
      {
        "duration": 337,
        "start_time": "2023-05-07T17:04:32.077Z"
      },
      {
        "duration": 29,
        "start_time": "2023-05-07T17:04:35.987Z"
      },
      {
        "duration": 4,
        "start_time": "2023-05-07T17:04:42.835Z"
      },
      {
        "duration": 53,
        "start_time": "2023-05-07T17:04:42.841Z"
      },
      {
        "duration": 13,
        "start_time": "2023-05-07T17:04:42.897Z"
      },
      {
        "duration": 12,
        "start_time": "2023-05-07T17:04:42.912Z"
      },
      {
        "duration": 6,
        "start_time": "2023-05-07T17:04:42.927Z"
      },
      {
        "duration": 15,
        "start_time": "2023-05-07T17:04:42.935Z"
      },
      {
        "duration": 43,
        "start_time": "2023-05-07T17:04:42.952Z"
      },
      {
        "duration": 4,
        "start_time": "2023-05-07T17:04:42.997Z"
      },
      {
        "duration": 10,
        "start_time": "2023-05-07T17:04:43.003Z"
      },
      {
        "duration": 11,
        "start_time": "2023-05-07T17:04:43.015Z"
      },
      {
        "duration": 12,
        "start_time": "2023-05-07T17:04:43.028Z"
      },
      {
        "duration": 8,
        "start_time": "2023-05-07T17:04:43.042Z"
      },
      {
        "duration": 8,
        "start_time": "2023-05-07T17:04:43.052Z"
      },
      {
        "duration": 8,
        "start_time": "2023-05-07T17:04:43.095Z"
      },
      {
        "duration": 8490,
        "start_time": "2023-05-07T17:04:43.105Z"
      },
      {
        "duration": 26945,
        "start_time": "2023-05-07T17:04:51.596Z"
      },
      {
        "duration": 92660,
        "start_time": "2023-05-07T17:05:18.542Z"
      },
      {
        "duration": 8927,
        "start_time": "2023-05-07T17:06:51.204Z"
      },
      {
        "duration": 42382,
        "start_time": "2023-05-07T17:07:00.133Z"
      },
      {
        "duration": 36583,
        "start_time": "2023-05-07T17:07:42.516Z"
      },
      {
        "duration": 5,
        "start_time": "2023-05-07T17:08:19.102Z"
      },
      {
        "duration": 100,
        "start_time": "2023-05-07T17:08:19.109Z"
      },
      {
        "duration": 45,
        "start_time": "2023-05-07T17:08:19.295Z"
      },
      {
        "duration": 767,
        "start_time": "2023-05-07T17:08:19.342Z"
      },
      {
        "duration": 84,
        "start_time": "2023-05-07T17:08:20.111Z"
      },
      {
        "duration": 13,
        "start_time": "2023-05-07T17:08:20.196Z"
      },
      {
        "duration": 8,
        "start_time": "2023-05-07T17:08:20.293Z"
      },
      {
        "duration": 41,
        "start_time": "2023-05-07T17:08:20.303Z"
      },
      {
        "duration": 323,
        "start_time": "2023-05-07T17:08:20.346Z"
      },
      {
        "duration": 30,
        "start_time": "2023-05-07T17:08:20.672Z"
      },
      {
        "duration": 598,
        "start_time": "2023-05-07T17:08:20.704Z"
      },
      {
        "duration": 433,
        "start_time": "2023-05-07T17:08:21.303Z"
      }
    ],
    "kernelspec": {
      "display_name": "Python 3 (ipykernel)",
      "language": "python",
      "name": "python3"
    },
    "language_info": {
      "codemirror_mode": {
        "name": "ipython",
        "version": 3
      },
      "file_extension": ".py",
      "mimetype": "text/x-python",
      "name": "python",
      "nbconvert_exporter": "python",
      "pygments_lexer": "ipython3",
      "version": "3.9.5"
    },
    "toc": {
      "base_numbering": 1,
      "nav_menu": {},
      "number_sections": true,
      "sideBar": true,
      "skip_h1_title": true,
      "title_cell": "Содержание",
      "title_sidebar": "Contents",
      "toc_cell": true,
      "toc_position": {
        "height": "calc(100% - 180px)",
        "left": "10px",
        "top": "150px",
        "width": "165px"
      },
      "toc_section_display": true,
      "toc_window_display": true
    },
    "colab": {
      "provenance": []
    }
  },
  "nbformat": 4,
  "nbformat_minor": 0
}