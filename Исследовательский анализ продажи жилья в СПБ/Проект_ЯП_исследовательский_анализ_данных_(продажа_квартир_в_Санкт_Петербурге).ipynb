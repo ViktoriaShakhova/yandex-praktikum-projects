{
  "cells": [
    {
      "cell_type": "markdown",
      "metadata": {
        "id": "rmzzy6Cfzlc7"
      },
      "source": [
        "###Открытие файла с данными и изучение общей информации."
      ]
    },
    {
      "cell_type": "code",
      "execution_count": null,
      "metadata": {
        "id": "5TURQOb2zlc-",
        "outputId": "f3574a59-5baa-4cd5-b95d-bbe633b9884f"
      },
      "outputs": [
        {
          "data": {
            "text/html": [
              "<div>\n",
              "<style scoped>\n",
              "    .dataframe tbody tr th:only-of-type {\n",
              "        vertical-align: middle;\n",
              "    }\n",
              "\n",
              "    .dataframe tbody tr th {\n",
              "        vertical-align: top;\n",
              "    }\n",
              "\n",
              "    .dataframe thead th {\n",
              "        text-align: right;\n",
              "    }\n",
              "</style>\n",
              "<table border=\"1\" class=\"dataframe\">\n",
              "  <thead>\n",
              "    <tr style=\"text-align: right;\">\n",
              "      <th></th>\n",
              "      <th>total_images</th>\n",
              "      <th>last_price</th>\n",
              "      <th>total_area</th>\n",
              "      <th>first_day_exposition</th>\n",
              "      <th>rooms</th>\n",
              "      <th>ceiling_height</th>\n",
              "      <th>floors_total</th>\n",
              "      <th>living_area</th>\n",
              "      <th>floor</th>\n",
              "      <th>is_apartment</th>\n",
              "      <th>...</th>\n",
              "      <th>kitchen_area</th>\n",
              "      <th>balcony</th>\n",
              "      <th>locality_name</th>\n",
              "      <th>airports_nearest</th>\n",
              "      <th>cityCenters_nearest</th>\n",
              "      <th>parks_around3000</th>\n",
              "      <th>parks_nearest</th>\n",
              "      <th>ponds_around3000</th>\n",
              "      <th>ponds_nearest</th>\n",
              "      <th>days_exposition</th>\n",
              "    </tr>\n",
              "  </thead>\n",
              "  <tbody>\n",
              "    <tr>\n",
              "      <th>0</th>\n",
              "      <td>20</td>\n",
              "      <td>13000000.0</td>\n",
              "      <td>108.00</td>\n",
              "      <td>2019-03-07T00:00:00</td>\n",
              "      <td>3</td>\n",
              "      <td>2.70</td>\n",
              "      <td>16.0</td>\n",
              "      <td>51.00</td>\n",
              "      <td>8</td>\n",
              "      <td>NaN</td>\n",
              "      <td>...</td>\n",
              "      <td>25.00</td>\n",
              "      <td>NaN</td>\n",
              "      <td>Санкт-Петербург</td>\n",
              "      <td>18863.0</td>\n",
              "      <td>16028.0</td>\n",
              "      <td>1.0</td>\n",
              "      <td>482.0</td>\n",
              "      <td>2.0</td>\n",
              "      <td>755.0</td>\n",
              "      <td>NaN</td>\n",
              "    </tr>\n",
              "    <tr>\n",
              "      <th>1</th>\n",
              "      <td>7</td>\n",
              "      <td>3350000.0</td>\n",
              "      <td>40.40</td>\n",
              "      <td>2018-12-04T00:00:00</td>\n",
              "      <td>1</td>\n",
              "      <td>NaN</td>\n",
              "      <td>11.0</td>\n",
              "      <td>18.60</td>\n",
              "      <td>1</td>\n",
              "      <td>NaN</td>\n",
              "      <td>...</td>\n",
              "      <td>11.00</td>\n",
              "      <td>2.0</td>\n",
              "      <td>посёлок Шушары</td>\n",
              "      <td>12817.0</td>\n",
              "      <td>18603.0</td>\n",
              "      <td>0.0</td>\n",
              "      <td>NaN</td>\n",
              "      <td>0.0</td>\n",
              "      <td>NaN</td>\n",
              "      <td>81.0</td>\n",
              "    </tr>\n",
              "    <tr>\n",
              "      <th>2</th>\n",
              "      <td>10</td>\n",
              "      <td>5196000.0</td>\n",
              "      <td>56.00</td>\n",
              "      <td>2015-08-20T00:00:00</td>\n",
              "      <td>2</td>\n",
              "      <td>NaN</td>\n",
              "      <td>5.0</td>\n",
              "      <td>34.30</td>\n",
              "      <td>4</td>\n",
              "      <td>NaN</td>\n",
              "      <td>...</td>\n",
              "      <td>8.30</td>\n",
              "      <td>0.0</td>\n",
              "      <td>Санкт-Петербург</td>\n",
              "      <td>21741.0</td>\n",
              "      <td>13933.0</td>\n",
              "      <td>1.0</td>\n",
              "      <td>90.0</td>\n",
              "      <td>2.0</td>\n",
              "      <td>574.0</td>\n",
              "      <td>558.0</td>\n",
              "    </tr>\n",
              "    <tr>\n",
              "      <th>3</th>\n",
              "      <td>0</td>\n",
              "      <td>64900000.0</td>\n",
              "      <td>159.00</td>\n",
              "      <td>2015-07-24T00:00:00</td>\n",
              "      <td>3</td>\n",
              "      <td>NaN</td>\n",
              "      <td>14.0</td>\n",
              "      <td>NaN</td>\n",
              "      <td>9</td>\n",
              "      <td>NaN</td>\n",
              "      <td>...</td>\n",
              "      <td>NaN</td>\n",
              "      <td>0.0</td>\n",
              "      <td>Санкт-Петербург</td>\n",
              "      <td>28098.0</td>\n",
              "      <td>6800.0</td>\n",
              "      <td>2.0</td>\n",
              "      <td>84.0</td>\n",
              "      <td>3.0</td>\n",
              "      <td>234.0</td>\n",
              "      <td>424.0</td>\n",
              "    </tr>\n",
              "    <tr>\n",
              "      <th>4</th>\n",
              "      <td>2</td>\n",
              "      <td>10000000.0</td>\n",
              "      <td>100.00</td>\n",
              "      <td>2018-06-19T00:00:00</td>\n",
              "      <td>2</td>\n",
              "      <td>3.03</td>\n",
              "      <td>14.0</td>\n",
              "      <td>32.00</td>\n",
              "      <td>13</td>\n",
              "      <td>NaN</td>\n",
              "      <td>...</td>\n",
              "      <td>41.00</td>\n",
              "      <td>NaN</td>\n",
              "      <td>Санкт-Петербург</td>\n",
              "      <td>31856.0</td>\n",
              "      <td>8098.0</td>\n",
              "      <td>2.0</td>\n",
              "      <td>112.0</td>\n",
              "      <td>1.0</td>\n",
              "      <td>48.0</td>\n",
              "      <td>121.0</td>\n",
              "    </tr>\n",
              "    <tr>\n",
              "      <th>5</th>\n",
              "      <td>10</td>\n",
              "      <td>2890000.0</td>\n",
              "      <td>30.40</td>\n",
              "      <td>2018-09-10T00:00:00</td>\n",
              "      <td>1</td>\n",
              "      <td>NaN</td>\n",
              "      <td>12.0</td>\n",
              "      <td>14.40</td>\n",
              "      <td>5</td>\n",
              "      <td>NaN</td>\n",
              "      <td>...</td>\n",
              "      <td>9.10</td>\n",
              "      <td>NaN</td>\n",
              "      <td>городской посёлок Янино-1</td>\n",
              "      <td>NaN</td>\n",
              "      <td>NaN</td>\n",
              "      <td>NaN</td>\n",
              "      <td>NaN</td>\n",
              "      <td>NaN</td>\n",
              "      <td>NaN</td>\n",
              "      <td>55.0</td>\n",
              "    </tr>\n",
              "    <tr>\n",
              "      <th>6</th>\n",
              "      <td>6</td>\n",
              "      <td>3700000.0</td>\n",
              "      <td>37.30</td>\n",
              "      <td>2017-11-02T00:00:00</td>\n",
              "      <td>1</td>\n",
              "      <td>NaN</td>\n",
              "      <td>26.0</td>\n",
              "      <td>10.60</td>\n",
              "      <td>6</td>\n",
              "      <td>NaN</td>\n",
              "      <td>...</td>\n",
              "      <td>14.40</td>\n",
              "      <td>1.0</td>\n",
              "      <td>посёлок Парголово</td>\n",
              "      <td>52996.0</td>\n",
              "      <td>19143.0</td>\n",
              "      <td>0.0</td>\n",
              "      <td>NaN</td>\n",
              "      <td>0.0</td>\n",
              "      <td>NaN</td>\n",
              "      <td>155.0</td>\n",
              "    </tr>\n",
              "    <tr>\n",
              "      <th>7</th>\n",
              "      <td>5</td>\n",
              "      <td>7915000.0</td>\n",
              "      <td>71.60</td>\n",
              "      <td>2019-04-18T00:00:00</td>\n",
              "      <td>2</td>\n",
              "      <td>NaN</td>\n",
              "      <td>24.0</td>\n",
              "      <td>NaN</td>\n",
              "      <td>22</td>\n",
              "      <td>NaN</td>\n",
              "      <td>...</td>\n",
              "      <td>18.90</td>\n",
              "      <td>2.0</td>\n",
              "      <td>Санкт-Петербург</td>\n",
              "      <td>23982.0</td>\n",
              "      <td>11634.0</td>\n",
              "      <td>0.0</td>\n",
              "      <td>NaN</td>\n",
              "      <td>0.0</td>\n",
              "      <td>NaN</td>\n",
              "      <td>NaN</td>\n",
              "    </tr>\n",
              "    <tr>\n",
              "      <th>8</th>\n",
              "      <td>20</td>\n",
              "      <td>2900000.0</td>\n",
              "      <td>33.16</td>\n",
              "      <td>2018-05-23T00:00:00</td>\n",
              "      <td>1</td>\n",
              "      <td>NaN</td>\n",
              "      <td>27.0</td>\n",
              "      <td>15.43</td>\n",
              "      <td>26</td>\n",
              "      <td>NaN</td>\n",
              "      <td>...</td>\n",
              "      <td>8.81</td>\n",
              "      <td>NaN</td>\n",
              "      <td>посёлок Мурино</td>\n",
              "      <td>NaN</td>\n",
              "      <td>NaN</td>\n",
              "      <td>NaN</td>\n",
              "      <td>NaN</td>\n",
              "      <td>NaN</td>\n",
              "      <td>NaN</td>\n",
              "      <td>189.0</td>\n",
              "    </tr>\n",
              "    <tr>\n",
              "      <th>9</th>\n",
              "      <td>18</td>\n",
              "      <td>5400000.0</td>\n",
              "      <td>61.00</td>\n",
              "      <td>2017-02-26T00:00:00</td>\n",
              "      <td>3</td>\n",
              "      <td>2.50</td>\n",
              "      <td>9.0</td>\n",
              "      <td>43.60</td>\n",
              "      <td>7</td>\n",
              "      <td>NaN</td>\n",
              "      <td>...</td>\n",
              "      <td>6.50</td>\n",
              "      <td>2.0</td>\n",
              "      <td>Санкт-Петербург</td>\n",
              "      <td>50898.0</td>\n",
              "      <td>15008.0</td>\n",
              "      <td>0.0</td>\n",
              "      <td>NaN</td>\n",
              "      <td>0.0</td>\n",
              "      <td>NaN</td>\n",
              "      <td>289.0</td>\n",
              "    </tr>\n",
              "  </tbody>\n",
              "</table>\n",
              "<p>10 rows × 22 columns</p>\n",
              "</div>"
            ],
            "text/plain": [
              "   total_images  last_price  total_area first_day_exposition  rooms  \\\n",
              "0            20  13000000.0      108.00  2019-03-07T00:00:00      3   \n",
              "1             7   3350000.0       40.40  2018-12-04T00:00:00      1   \n",
              "2            10   5196000.0       56.00  2015-08-20T00:00:00      2   \n",
              "3             0  64900000.0      159.00  2015-07-24T00:00:00      3   \n",
              "4             2  10000000.0      100.00  2018-06-19T00:00:00      2   \n",
              "5            10   2890000.0       30.40  2018-09-10T00:00:00      1   \n",
              "6             6   3700000.0       37.30  2017-11-02T00:00:00      1   \n",
              "7             5   7915000.0       71.60  2019-04-18T00:00:00      2   \n",
              "8            20   2900000.0       33.16  2018-05-23T00:00:00      1   \n",
              "9            18   5400000.0       61.00  2017-02-26T00:00:00      3   \n",
              "\n",
              "   ceiling_height  floors_total  living_area  floor is_apartment  ...  \\\n",
              "0            2.70          16.0        51.00      8          NaN  ...   \n",
              "1             NaN          11.0        18.60      1          NaN  ...   \n",
              "2             NaN           5.0        34.30      4          NaN  ...   \n",
              "3             NaN          14.0          NaN      9          NaN  ...   \n",
              "4            3.03          14.0        32.00     13          NaN  ...   \n",
              "5             NaN          12.0        14.40      5          NaN  ...   \n",
              "6             NaN          26.0        10.60      6          NaN  ...   \n",
              "7             NaN          24.0          NaN     22          NaN  ...   \n",
              "8             NaN          27.0        15.43     26          NaN  ...   \n",
              "9            2.50           9.0        43.60      7          NaN  ...   \n",
              "\n",
              "   kitchen_area  balcony              locality_name  airports_nearest  \\\n",
              "0         25.00      NaN            Санкт-Петербург           18863.0   \n",
              "1         11.00      2.0             посёлок Шушары           12817.0   \n",
              "2          8.30      0.0            Санкт-Петербург           21741.0   \n",
              "3           NaN      0.0            Санкт-Петербург           28098.0   \n",
              "4         41.00      NaN            Санкт-Петербург           31856.0   \n",
              "5          9.10      NaN  городской посёлок Янино-1               NaN   \n",
              "6         14.40      1.0          посёлок Парголово           52996.0   \n",
              "7         18.90      2.0            Санкт-Петербург           23982.0   \n",
              "8          8.81      NaN             посёлок Мурино               NaN   \n",
              "9          6.50      2.0            Санкт-Петербург           50898.0   \n",
              "\n",
              "  cityCenters_nearest  parks_around3000  parks_nearest  ponds_around3000  \\\n",
              "0             16028.0               1.0          482.0               2.0   \n",
              "1             18603.0               0.0            NaN               0.0   \n",
              "2             13933.0               1.0           90.0               2.0   \n",
              "3              6800.0               2.0           84.0               3.0   \n",
              "4              8098.0               2.0          112.0               1.0   \n",
              "5                 NaN               NaN            NaN               NaN   \n",
              "6             19143.0               0.0            NaN               0.0   \n",
              "7             11634.0               0.0            NaN               0.0   \n",
              "8                 NaN               NaN            NaN               NaN   \n",
              "9             15008.0               0.0            NaN               0.0   \n",
              "\n",
              "   ponds_nearest  days_exposition  \n",
              "0          755.0              NaN  \n",
              "1            NaN             81.0  \n",
              "2          574.0            558.0  \n",
              "3          234.0            424.0  \n",
              "4           48.0            121.0  \n",
              "5            NaN             55.0  \n",
              "6            NaN            155.0  \n",
              "7            NaN              NaN  \n",
              "8            NaN            189.0  \n",
              "9            NaN            289.0  \n",
              "\n",
              "[10 rows x 22 columns]"
            ]
          },
          "execution_count": 1,
          "metadata": {},
          "output_type": "execute_result"
        }
      ],
      "source": [
        "import pandas as pd\n",
        "import seaborn as sns\n",
        "import matplotlib.pyplot as plt\n",
        "\n",
        "data = pd.read_csv('/datasets/real_estate_data.csv', sep='\\t')\n",
        "data.head(10)"
      ]
    },
    {
      "cell_type": "code",
      "execution_count": null,
      "metadata": {
        "id": "O_37eNE1zldE",
        "outputId": "49d2c206-e420-457d-cce2-a13ff11aa794"
      },
      "outputs": [
        {
          "name": "stdout",
          "output_type": "stream",
          "text": [
            "<class 'pandas.core.frame.DataFrame'>\n",
            "RangeIndex: 23699 entries, 0 to 23698\n",
            "Data columns (total 22 columns):\n",
            " #   Column                Non-Null Count  Dtype  \n",
            "---  ------                --------------  -----  \n",
            " 0   total_images          23699 non-null  int64  \n",
            " 1   last_price            23699 non-null  float64\n",
            " 2   total_area            23699 non-null  float64\n",
            " 3   first_day_exposition  23699 non-null  object \n",
            " 4   rooms                 23699 non-null  int64  \n",
            " 5   ceiling_height        14504 non-null  float64\n",
            " 6   floors_total          23613 non-null  float64\n",
            " 7   living_area           21796 non-null  float64\n",
            " 8   floor                 23699 non-null  int64  \n",
            " 9   is_apartment          2775 non-null   object \n",
            " 10  studio                23699 non-null  bool   \n",
            " 11  open_plan             23699 non-null  bool   \n",
            " 12  kitchen_area          21421 non-null  float64\n",
            " 13  balcony               12180 non-null  float64\n",
            " 14  locality_name         23650 non-null  object \n",
            " 15  airports_nearest      18157 non-null  float64\n",
            " 16  cityCenters_nearest   18180 non-null  float64\n",
            " 17  parks_around3000      18181 non-null  float64\n",
            " 18  parks_nearest         8079 non-null   float64\n",
            " 19  ponds_around3000      18181 non-null  float64\n",
            " 20  ponds_nearest         9110 non-null   float64\n",
            " 21  days_exposition       20518 non-null  float64\n",
            "dtypes: bool(2), float64(14), int64(3), object(3)\n",
            "memory usage: 3.7+ MB\n"
          ]
        }
      ],
      "source": [
        "data.info()"
      ]
    },
    {
      "cell_type": "markdown",
      "metadata": {
        "id": "Ho7ZRAtDzldG"
      },
      "source": [
        "В данном датафрейме мы можем наблюдать 22 столбца, описывающих 23699 объявлений о продаже квартир в Санкт-Петербурге и его окрестностях, 14 из которых имеют пропущенные значения. Из-ха чего представленные ниже гистограммы могут быть неравномерны."
      ]
    },
    {
      "cell_type": "code",
      "execution_count": null,
      "metadata": {
        "id": "oJVAPgkZzldH",
        "outputId": "2e0eff23-de28-4b46-bb92-9f8b9a5a47d1"
      },
      "outputs": [
        {
          "data": {
            "text/plain": [
              "array([[<AxesSubplot:title={'center':'total_images'}>,\n",
              "        <AxesSubplot:title={'center':'last_price'}>,\n",
              "        <AxesSubplot:title={'center':'total_area'}>,\n",
              "        <AxesSubplot:title={'center':'rooms'}>],\n",
              "       [<AxesSubplot:title={'center':'ceiling_height'}>,\n",
              "        <AxesSubplot:title={'center':'floors_total'}>,\n",
              "        <AxesSubplot:title={'center':'living_area'}>,\n",
              "        <AxesSubplot:title={'center':'floor'}>],\n",
              "       [<AxesSubplot:title={'center':'kitchen_area'}>,\n",
              "        <AxesSubplot:title={'center':'balcony'}>,\n",
              "        <AxesSubplot:title={'center':'airports_nearest'}>,\n",
              "        <AxesSubplot:title={'center':'cityCenters_nearest'}>],\n",
              "       [<AxesSubplot:title={'center':'parks_around3000'}>,\n",
              "        <AxesSubplot:title={'center':'parks_nearest'}>,\n",
              "        <AxesSubplot:title={'center':'ponds_around3000'}>,\n",
              "        <AxesSubplot:title={'center':'ponds_nearest'}>],\n",
              "       [<AxesSubplot:title={'center':'days_exposition'}>, <AxesSubplot:>,\n",
              "        <AxesSubplot:>, <AxesSubplot:>]], dtype=object)"
            ]
          },
          "execution_count": 3,
          "metadata": {},
          "output_type": "execute_result"
        },
        {
          "data": {
            "image/png": "[encoded data removed]",
            "text/plain": [
              "<Figure size 1080x1440 with 20 Axes>"
            ]
          },
          "metadata": {
            "needs_background": "light"
          },
          "output_type": "display_data"
        }
      ],
      "source": [
        "data.hist(figsize=(15, 20), bins=30)"
      ]
    },
    {
      "cell_type": "markdown",
      "metadata": {
        "id": "znKXabt4zldK"
      },
      "source": [
        "### Предобработка данных"
      ]
    },
    {
      "cell_type": "markdown",
      "metadata": {
        "id": "xKfgfuutzldL"
      },
      "source": [
        "Для наглядности представим количество пропущенных значений в каждом столбце и заполним их везде, где возможно это сделать логическим путем:"
      ]
    },
    {
      "cell_type": "code",
      "execution_count": null,
      "metadata": {
        "id": "lPLfTiZJzldM",
        "outputId": "d93dbc78-90b6-4793-8a85-ba1ec9d3ff6a"
      },
      "outputs": [
        {
          "data": {
            "text/plain": [
              "total_images                0\n",
              "last_price                  0\n",
              "total_area                  0\n",
              "first_day_exposition        0\n",
              "rooms                       0\n",
              "ceiling_height           9195\n",
              "floors_total               86\n",
              "living_area              1903\n",
              "floor                       0\n",
              "is_apartment            20924\n",
              "studio                      0\n",
              "open_plan                   0\n",
              "kitchen_area             2278\n",
              "balcony                 11519\n",
              "locality_name              49\n",
              "airports_nearest         5542\n",
              "cityCenters_nearest      5519\n",
              "parks_around3000         5518\n",
              "parks_nearest           15620\n",
              "ponds_around3000         5518\n",
              "ponds_nearest           14589\n",
              "days_exposition          3181\n",
              "dtype: int64"
            ]
          },
          "execution_count": 4,
          "metadata": {},
          "output_type": "execute_result"
        }
      ],
      "source": [
        "data.isna().sum()"
      ]
    },
    {
      "cell_type": "markdown",
      "metadata": {
        "id": "zEKfHJdRzldN"
      },
      "source": [
        "Сохраним изначальный датасет в новую переменную, чтобы посмотреть на изменения после предобработки:"
      ]
    },
    {
      "cell_type": "code",
      "execution_count": null,
      "metadata": {
        "id": "QYB3tycnzldO"
      },
      "outputs": [],
      "source": [
        "data_old = data"
      ]
    },
    {
      "cell_type": "markdown",
      "metadata": {
        "id": "thMdC-AlzldO"
      },
      "source": [
        "Для того, чтобы заполнить пропуски в столбце 'balcony', показывающем число балконов, мы можем предположить, что в случаях, когда их число не указано, балконы в квартире просто отсутствуют. Поэтому, заменяем все пропущенные значения на 0:"
      ]
    },
    {
      "cell_type": "code",
      "execution_count": null,
      "metadata": {
        "id": "Bb9CTLWhzldP"
      },
      "outputs": [],
      "source": [
        "data['balcony'] = data['balcony'].fillna(0)"
      ]
    },
    {
      "cell_type": "markdown",
      "metadata": {
        "id": "AePIFdDRzldP"
      },
      "source": [
        "Так как большая часть значений в столбце 'ceiling_height', описывающем высоту потолков, находится в пределах от 2,50 до 3,00 метров, заполняем пропуски медианным значением (2,65), так как высота потолков в жилом помещении является весьма стандартизированным показателем:"
      ]
    },
    {
      "cell_type": "code",
      "execution_count": null,
      "metadata": {
        "id": "3SxcwPZszldQ",
        "outputId": "b2b3e83d-47fb-40e6-a891-fcea0ceb5169"
      },
      "outputs": [
        {
          "data": {
            "text/plain": [
              "2.50     3515\n",
              "2.60     1646\n",
              "2.70     1574\n",
              "3.00     1112\n",
              "2.80      993\n",
              "         ... \n",
              "4.25        1\n",
              "3.39        1\n",
              "3.93        1\n",
              "10.30       1\n",
              "4.65        1\n",
              "Name: ceiling_height, Length: 183, dtype: int64"
            ]
          },
          "execution_count": 7,
          "metadata": {},
          "output_type": "execute_result"
        }
      ],
      "source": [
        "data['ceiling_height'].value_counts()"
      ]
    },
    {
      "cell_type": "code",
      "execution_count": null,
      "metadata": {
        "id": "pQFIOmpjzldT",
        "outputId": "24446f6b-1fa1-4e0f-da9c-6b3931f7066a"
      },
      "outputs": [
        {
          "data": {
            "text/plain": [
              "0    2.70\n",
              "1    2.65\n",
              "2    2.65\n",
              "3    2.65\n",
              "4    3.03\n",
              "5    2.65\n",
              "6    2.65\n",
              "7    2.65\n",
              "8    2.65\n",
              "9    2.50\n",
              "Name: ceiling_height, dtype: float64"
            ]
          },
          "execution_count": 10,
          "metadata": {},
          "output_type": "execute_result"
        }
      ],
      "source": [
        "data['ceiling_height'] = data['ceiling_height'].fillna(data['ceiling_height'].median())\n",
        "data['ceiling_height'].head(10)"
      ]
    },
    {
      "cell_type": "markdown",
      "metadata": {
        "id": "Nu3tJ2uBzldU"
      },
      "source": [
        "</div>\n",
        "<div class=\"alert alert-block alert-info\">\n",
        "    Можно уточнить, что значит посмотреть на значения? Я пробовала разделить все значения больше 18 м на 10, используя код: \"data['ceiling_height'] = data['ceiling_height'].where(data['ceiling_height'] < 20, data['ceiling_height'] / 10)\", а также несколько вариантов цикла и логическо индексации, но результат был не тот, который нужен (значения почему то не делились на 10, а получались новые). Поэтому я решила на следующем этапе предобработки просто исключить из датасета все аномальные значения в этом столбце. Как лучше это исправить?\n",
        "</div>"
      ]
    },
    {
      "cell_type": "markdown",
      "metadata": {
        "id": "pGNt3xjNzldW"
      },
      "source": [
        "Также можно предположить, что если в столбце 'is_apartment' наблюдается пропущенное значение, то скорее всего данный объект не является апартаментами, поэтому заполняем пропуски булевым значением False:"
      ]
    },
    {
      "cell_type": "code",
      "execution_count": null,
      "metadata": {
        "id": "wuVfwDh1zldW"
      },
      "outputs": [],
      "source": [
        "data['is_apartment'] = data['is_apartment'].fillna(False)"
      ]
    },
    {
      "cell_type": "markdown",
      "metadata": {
        "id": "mEOjIbLRzldX"
      },
      "source": [
        "В случае со столбцами 'parks_around3000' и 'ponds_around3000', хранящих информацию о количестве парков и водоемов в радиусе 3000 метров соответственно, предполагаем, что если есть пропущенное значение, значит не наблюдается ни одного парка/водоема вблизи квартиры. Следовательно, заполняем пропуски числом 0:"
      ]
    },
    {
      "cell_type": "code",
      "execution_count": null,
      "metadata": {
        "id": "I0CuRsAfzldX"
      },
      "outputs": [],
      "source": [
        "data['parks_around3000'] = data['parks_around3000'].fillna(0)"
      ]
    },
    {
      "cell_type": "code",
      "execution_count": null,
      "metadata": {
        "id": "RAvtiQgHzldX"
      },
      "outputs": [],
      "source": [
        "data['ponds_around3000'] = data['ponds_around3000'].fillna(0)"
      ]
    },
    {
      "cell_type": "markdown",
      "metadata": {
        "id": "OYwFIteRzldY"
      },
      "source": [
        "В таких столбцах, как 'floors_total', 'living_area', 'kitchen_area', 'locality_name', 'airports_nearest', 'cityCenters_nearest', 'parks_nearest', 'ponds_nearest' и 'days_exposition', замена пропущенных значений не представляется возможной."
      ]
    },
    {
      "cell_type": "code",
      "execution_count": null,
      "metadata": {
        "id": "hXL9Dh0Hzlda"
      },
      "outputs": [],
      "source": [
        "median_liv_area = data['total_area'].median() / data['living_area'].median()"
      ]
    },
    {
      "cell_type": "code",
      "execution_count": null,
      "metadata": {
        "id": "Vggb-0Snzldb"
      },
      "outputs": [],
      "source": [
        "data['living_area'] = data['living_area'].fillna(data['total_area']/median_liv_area)"
      ]
    },
    {
      "cell_type": "code",
      "execution_count": null,
      "metadata": {
        "id": "EUh0JdOAzldc"
      },
      "outputs": [],
      "source": [
        "median_kit_area = data['total_area'].median() / data['kitchen_area'].median()"
      ]
    },
    {
      "cell_type": "code",
      "execution_count": null,
      "metadata": {
        "id": "5Joa5HEPzldc"
      },
      "outputs": [],
      "source": [
        "data['kitchen_area'] = data['kitchen_area'].fillna(data['total_area']/median_kit_area)"
      ]
    },
    {
      "cell_type": "markdown",
      "metadata": {
        "id": "ecbPSbjUzldd"
      },
      "source": [
        "Обратим внимание на типы данных в представленных столбцах:"
      ]
    },
    {
      "cell_type": "code",
      "execution_count": null,
      "metadata": {
        "id": "u4Etx8Alzlde",
        "outputId": "4270184b-930d-45ca-b3e2-14e251d3955e"
      },
      "outputs": [
        {
          "data": {
            "text/plain": [
              "total_images              int64\n",
              "last_price              float64\n",
              "total_area              float64\n",
              "first_day_exposition     object\n",
              "rooms                     int64\n",
              "ceiling_height          float64\n",
              "floors_total            float64\n",
              "living_area             float64\n",
              "floor                     int64\n",
              "is_apartment               bool\n",
              "studio                     bool\n",
              "open_plan                  bool\n",
              "kitchen_area            float64\n",
              "balcony                 float64\n",
              "locality_name            object\n",
              "airports_nearest        float64\n",
              "cityCenters_nearest     float64\n",
              "parks_around3000        float64\n",
              "parks_nearest           float64\n",
              "ponds_around3000        float64\n",
              "ponds_nearest           float64\n",
              "days_exposition         float64\n",
              "dtype: object"
            ]
          },
          "execution_count": 18,
          "metadata": {},
          "output_type": "execute_result"
        }
      ],
      "source": [
        "data.dtypes"
      ]
    },
    {
      "cell_type": "markdown",
      "metadata": {
        "id": "UjNtM4K2zldu"
      },
      "source": [
        "У pandas не всегда автоматически получается перевести данные в подходящий формат. Например, если количественные переменные примет за строку (object), мы не сможем производить никакие математические операции с этими занчениями. Поэтому, заменяем все непожходящие данные на нужные нам:"
      ]
    },
    {
      "cell_type": "code",
      "execution_count": null,
      "metadata": {
        "id": "AVrkKgq8zldu"
      },
      "outputs": [],
      "source": [
        "data['floors_total'] = data['floors_total'].astype('int', errors='ignore')"
      ]
    },
    {
      "cell_type": "code",
      "execution_count": null,
      "metadata": {
        "id": "J2o_I1FHzldv"
      },
      "outputs": [],
      "source": [
        "data['is_apartment'] = data['is_apartment'].astype('bool')"
      ]
    },
    {
      "cell_type": "code",
      "execution_count": null,
      "metadata": {
        "id": "q2A6QLBPzldw"
      },
      "outputs": [],
      "source": [
        "data['balcony'] = data['balcony'].astype('int')"
      ]
    },
    {
      "cell_type": "code",
      "execution_count": null,
      "metadata": {
        "id": "l-uByS86zldw"
      },
      "outputs": [],
      "source": [
        "data['parks_around3000'] = data['parks_around3000'].astype('int')"
      ]
    },
    {
      "cell_type": "code",
      "execution_count": null,
      "metadata": {
        "id": "pCVkey3Ezldx"
      },
      "outputs": [],
      "source": [
        "data['ponds_around3000'] = data['ponds_around3000'].astype('int')"
      ]
    },
    {
      "cell_type": "code",
      "execution_count": null,
      "metadata": {
        "id": "A2AuvI8Ezldx"
      },
      "outputs": [],
      "source": [
        "data['days_exposition'] = data['days_exposition'].astype('int', errors='ignore')"
      ]
    },
    {
      "cell_type": "code",
      "execution_count": null,
      "metadata": {
        "scrolled": true,
        "id": "I0KFCbBuzldy",
        "outputId": "ada8e505-1e9a-403f-bd4f-df91aea4afd9"
      },
      "outputs": [
        {
          "data": {
            "text/plain": [
              "0   2019-03-07\n",
              "1   2018-12-04\n",
              "2   2015-08-20\n",
              "3   2015-07-24\n",
              "4   2018-06-19\n",
              "Name: first_day_exposition, dtype: datetime64[ns]"
            ]
          },
          "execution_count": 25,
          "metadata": {},
          "output_type": "execute_result"
        }
      ],
      "source": [
        "data['first_day_exposition'] = pd.to_datetime(data['first_day_exposition'], format='%Y-%m-%dT%H:%M:%S')\n",
        "data['first_day_exposition'].head()"
      ]
    },
    {
      "cell_type": "markdown",
      "metadata": {
        "id": "LKzsmAQazldz"
      },
      "source": [
        "Избавимся от дубликатов:"
      ]
    },
    {
      "cell_type": "code",
      "execution_count": null,
      "metadata": {
        "id": "JAWy7u7Rzld0",
        "outputId": "31b61cc3-d7a9-4203-8bec-807cf1dfbe69"
      },
      "outputs": [
        {
          "data": {
            "text/plain": [
              "0"
            ]
          },
          "execution_count": 26,
          "metadata": {},
          "output_type": "execute_result"
        }
      ],
      "source": [
        "#подсичтаем количесвто явных дубликатов:\n",
        "data.duplicated().sum()"
      ]
    },
    {
      "cell_type": "markdown",
      "metadata": {
        "id": "OyS0064Pzld0"
      },
      "source": [
        "Так как явных дубликатов в датафрейме не наблюдается, будем поочередно удалаять неявные:"
      ]
    },
    {
      "cell_type": "code",
      "execution_count": null,
      "metadata": {
        "scrolled": true,
        "id": "pRlVfR88zld1",
        "outputId": "de6809fd-6743-4a3a-f61e-952063d50ea1"
      },
      "outputs": [
        {
          "data": {
            "text/plain": [
              "Санкт-Петербург        15721\n",
              "посёлок Мурино           522\n",
              "посёлок Шушары           440\n",
              "Всеволожск               398\n",
              "Пушкин                   369\n",
              "                       ...  \n",
              "деревня Меньково           1\n",
              "поселок Володарское        1\n",
              "деревня Щеглово            1\n",
              "деревня Кисельня           1\n",
              "деревня Пчева              1\n",
              "Name: locality_name, Length: 364, dtype: int64"
            ]
          },
          "execution_count": 27,
          "metadata": {},
          "output_type": "execute_result"
        }
      ],
      "source": [
        "data['locality_name'].value_counts()"
      ]
    },
    {
      "cell_type": "code",
      "execution_count": null,
      "metadata": {
        "id": "VVB5RBtWzld2",
        "outputId": "7315e627-3c0c-43c2-dfa5-5db8b65fd987"
      },
      "outputs": [
        {
          "data": {
            "text/plain": [
              "365"
            ]
          },
          "execution_count": 28,
          "metadata": {},
          "output_type": "execute_result"
        }
      ],
      "source": [
        "len(data['locality_name'].unique())"
      ]
    },
    {
      "cell_type": "code",
      "execution_count": null,
      "metadata": {
        "id": "nt378rEEzld2",
        "outputId": "6bb45ca5-2f56-4b05-c27b-1af4cde4ad71"
      },
      "outputs": [
        {
          "data": {
            "text/plain": [
              "array(['Санкт-Петербург', 'посёлок Шушары', 'городской посёлок Янино-1',\n",
              "       'посёлок Парголово', 'посёлок Мурино', 'Ломоносов', 'Сертолово',\n",
              "       'Петергоф', 'Пушкин', 'деревня Кудрово', 'Коммунар', 'Колпино',\n",
              "       'поселок городского типа Красный Бор', 'Гатчина', 'поселок Мурино',\n",
              "       'деревня Фёдоровское', 'Выборг', 'Кронштадт', 'Кировск',\n",
              "       'деревня Новое Девяткино', 'посёлок Металлострой',\n",
              "       'посёлок городского типа Лебяжье',\n",
              "       'посёлок городского типа Сиверский', 'поселок Молодцово',\n",
              "       'поселок городского типа Кузьмоловский',\n",
              "       'садовое товарищество Новая Ропша', 'Павловск',\n",
              "       'деревня Пикколово', 'Всеволожск', 'Волхов', 'Кингисепп',\n",
              "       'Приозерск', 'Сестрорецк', 'деревня Куттузи', 'посёлок Аннино',\n",
              "       'поселок городского типа Ефимовский', 'посёлок Плодовое',\n",
              "       'деревня Заклинье', 'поселок Торковичи', 'поселок Первомайское',\n",
              "       'Красное Село', 'посёлок Понтонный', 'Сясьстрой', 'деревня Старая',\n",
              "       'деревня Лесколово', 'посёлок Новый Свет', 'Сланцы',\n",
              "       'село Путилово', 'Ивангород', 'Мурино', 'Шлиссельбург',\n",
              "       'Никольское', 'Зеленогорск', 'Сосновый Бор', 'поселок Новый Свет',\n",
              "       'деревня Оржицы', 'деревня Кальтино', 'Кудрово',\n",
              "       'поселок Романовка', 'посёлок Бугры', 'поселок Бугры',\n",
              "       'поселок городского типа Рощино', 'Кириши', 'Луга', 'Волосово',\n",
              "       'Отрадное', 'село Павлово', 'поселок Оредеж', 'село Копорье',\n",
              "       'посёлок городского типа Красный Бор', 'посёлок Молодёжное',\n",
              "       'Тихвин', 'посёлок Победа', 'деревня Нурма',\n",
              "       'поселок городского типа Синявино', 'Тосно',\n",
              "       'посёлок городского типа Кузьмоловский', 'посёлок Стрельна',\n",
              "       'Бокситогорск', 'посёлок Александровская', 'деревня Лопухинка',\n",
              "       'Пикалёво', 'поселок Терволово',\n",
              "       'поселок городского типа Советский', 'Подпорожье',\n",
              "       'посёлок Петровское', 'посёлок городского типа Токсово',\n",
              "       'поселок Сельцо', 'посёлок городского типа Вырица',\n",
              "       'деревня Кипень', 'деревня Келози', 'деревня Вартемяги',\n",
              "       'посёлок Тельмана', 'поселок Севастьяново',\n",
              "       'городской поселок Большая Ижора', nan,\n",
              "       'городской посёлок Павлово', 'деревня Агалатово',\n",
              "       'посёлок Новогорелово', 'городской посёлок Лесогорский',\n",
              "       'деревня Лаголово', 'поселок Цвелодубово',\n",
              "       'поселок городского типа Рахья', 'поселок городского типа Вырица',\n",
              "       'деревня Белогорка', 'поселок Заводской',\n",
              "       'городской посёлок Новоселье', 'деревня Большие Колпаны',\n",
              "       'деревня Горбунки', 'деревня Батово', 'деревня Заневка',\n",
              "       'деревня Иссад', 'Приморск', 'городской посёлок Фёдоровское',\n",
              "       'деревня Мистолово', 'Новая Ладога', 'поселок Зимитицы',\n",
              "       'поселок Барышево', 'деревня Разметелево',\n",
              "       'поселок городского типа имени Свердлова', 'деревня Пеники',\n",
              "       'поселок Рябово', 'деревня Пудомяги', 'поселок станции Корнево',\n",
              "       'деревня Низино', 'деревня Бегуницы', 'посёлок Поляны',\n",
              "       'городской посёлок Мга', 'поселок Елизаветино',\n",
              "       'посёлок городского типа Кузнечное', 'деревня Колтуши',\n",
              "       'поселок Запорожское', 'посёлок городского типа Рощино',\n",
              "       'деревня Гостилицы', 'деревня Малое Карлино',\n",
              "       'посёлок Мичуринское', 'посёлок городского типа имени Морозова',\n",
              "       'посёлок Песочный', 'посёлок Сосново', 'деревня Аро',\n",
              "       'поселок Ильичёво', 'посёлок городского типа Тайцы',\n",
              "       'деревня Малое Верево', 'деревня Извара', 'поселок станции Вещево',\n",
              "       'село Паша', 'деревня Калитино',\n",
              "       'посёлок городского типа Ульяновка', 'деревня Чудской Бор',\n",
              "       'поселок городского типа Дубровка', 'деревня Мины',\n",
              "       'поселок Войсковицы', 'посёлок городского типа имени Свердлова',\n",
              "       'деревня Коркино', 'посёлок Ропша',\n",
              "       'поселок городского типа Приладожский', 'посёлок Щеглово',\n",
              "       'посёлок Гаврилово', 'Лодейное Поле', 'деревня Рабитицы',\n",
              "       'поселок городского типа Никольский', 'деревня Кузьмолово',\n",
              "       'деревня Малые Колпаны', 'поселок Тельмана',\n",
              "       'посёлок Петро-Славянка', 'городской посёлок Назия',\n",
              "       'посёлок Репино', 'посёлок Ильичёво', 'поселок Углово',\n",
              "       'поселок Старая Малукса', 'садовое товарищество Рахья',\n",
              "       'поселок Аннино', 'поселок Победа', 'деревня Меньково',\n",
              "       'деревня Старые Бегуницы', 'посёлок Сапёрный', 'поселок Семрино',\n",
              "       'поселок Гаврилово', 'поселок Глажево', 'поселок Кобринское',\n",
              "       'деревня Гарболово', 'деревня Юкки',\n",
              "       'поселок станции Приветнинское', 'деревня Мануйлово',\n",
              "       'деревня Пчева', 'поселок Поляны', 'поселок Цвылёво',\n",
              "       'поселок Мельниково', 'посёлок Пудость', 'посёлок Усть-Луга',\n",
              "       'Светогорск', 'Любань', 'поселок Селезнёво',\n",
              "       'поселок городского типа Рябово', 'Каменногорск', 'деревня Кривко',\n",
              "       'поселок Глебычево', 'деревня Парицы', 'поселок Жилпосёлок',\n",
              "       'посёлок городского типа Мга', 'городской поселок Янино-1',\n",
              "       'посёлок Войскорово', 'село Никольское', 'посёлок Терволово',\n",
              "       'поселок Стеклянный', 'посёлок городского типа Важины',\n",
              "       'посёлок Мыза-Ивановка', 'село Русско-Высоцкое',\n",
              "       'поселок городского типа Лебяжье',\n",
              "       'поселок городского типа Форносово', 'село Старая Ладога',\n",
              "       'поселок Житково', 'городской посёлок Виллози', 'деревня Лампово',\n",
              "       'деревня Шпаньково', 'деревня Лаврики', 'посёлок Сумино',\n",
              "       'посёлок Возрождение', 'деревня Старосиверская',\n",
              "       'посёлок Кикерино', 'поселок Возрождение',\n",
              "       'деревня Старое Хинколово', 'посёлок Пригородный',\n",
              "       'посёлок Торфяное', 'городской посёлок Будогощь',\n",
              "       'поселок Суходолье', 'поселок Красная Долина', 'деревня Хапо-Ое',\n",
              "       'поселок городского типа Дружная Горка', 'поселок Лисий Нос',\n",
              "       'деревня Яльгелево', 'посёлок Стеклянный', 'село Рождествено',\n",
              "       'деревня Старополье', 'посёлок Левашово', 'деревня Сяськелево',\n",
              "       'деревня Камышовка',\n",
              "       'садоводческое некоммерческое товарищество Лесная Поляна',\n",
              "       'деревня Хязельки', 'поселок Жилгородок',\n",
              "       'посёлок городского типа Павлово', 'деревня Ялгино',\n",
              "       'поселок Новый Учхоз', 'городской посёлок Рощино',\n",
              "       'поселок Гончарово', 'поселок Почап', 'посёлок Сапёрное',\n",
              "       'посёлок Платформа 69-й километр', 'поселок Каложицы',\n",
              "       'деревня Фалилеево', 'деревня Пельгора',\n",
              "       'поселок городского типа Лесогорский', 'деревня Торошковичи',\n",
              "       'посёлок Белоостров', 'посёлок Алексеевка', 'поселок Серебрянский',\n",
              "       'поселок Лукаши', 'поселок Петровское', 'деревня Щеглово',\n",
              "       'поселок Мичуринское', 'деревня Тарасово', 'поселок Кингисеппский',\n",
              "       'посёлок при железнодорожной станции Вещево', 'поселок Ушаки',\n",
              "       'деревня Котлы', 'деревня Сижно', 'деревня Торосово',\n",
              "       'посёлок Форт Красная Горка', 'поселок городского типа Токсово',\n",
              "       'деревня Новолисино', 'посёлок станции Громово', 'деревня Глинка',\n",
              "       'посёлок Мельниково', 'поселок городского типа Назия',\n",
              "       'деревня Старая Пустошь', 'поселок Коммунары', 'поселок Починок',\n",
              "       'посёлок городского типа Вознесенье', 'деревня Разбегаево',\n",
              "       'посёлок городского типа Рябово', 'поселок Гладкое',\n",
              "       'посёлок при железнодорожной станции Приветнинское',\n",
              "       'поселок Тёсово-4', 'посёлок Жилгородок', 'деревня Бор',\n",
              "       'посёлок Коробицыно', 'деревня Большая Вруда', 'деревня Курковицы',\n",
              "       'посёлок Лисий Нос', 'городской посёлок Советский',\n",
              "       'посёлок Кобралово', 'деревня Суоранда', 'поселок Кобралово',\n",
              "       'поселок городского типа Кондратьево',\n",
              "       'коттеджный поселок Счастье', 'поселок Любань', 'деревня Реброво',\n",
              "       'деревня Зимитицы', 'деревня Тойворово', 'поселок Семиозерье',\n",
              "       'поселок Лесное', 'поселок Совхозный', 'поселок Усть-Луга',\n",
              "       'посёлок Ленинское', 'посёлок Суйда',\n",
              "       'посёлок городского типа Форносово', 'деревня Нижние Осельки',\n",
              "       'посёлок станции Свирь', 'поселок Перово', 'Высоцк',\n",
              "       'поселок Гарболово', 'село Шум', 'поселок Котельский',\n",
              "       'поселок станции Лужайка', 'деревня Большая Пустомержа',\n",
              "       'поселок Красносельское', 'деревня Вахнова Кара', 'деревня Пижма',\n",
              "       'коттеджный поселок Кивеннапа Север', 'поселок Коробицыно',\n",
              "       'поселок Ромашки', 'посёлок Перово', 'деревня Каськово',\n",
              "       'деревня Куровицы', 'посёлок Плоское', 'поселок Сумино',\n",
              "       'поселок городского типа Большая Ижора', 'поселок Кирпичное',\n",
              "       'деревня Ям-Тесово', 'деревня Раздолье', 'деревня Терпилицы',\n",
              "       'посёлок Шугозеро', 'деревня Ваганово', 'поселок Пушное',\n",
              "       'садовое товарищество Садко', 'посёлок Усть-Ижора',\n",
              "       'деревня Выскатка', 'городской посёлок Свирьстрой',\n",
              "       'поселок Громово', 'деревня Кисельня', 'посёлок Старая Малукса',\n",
              "       'деревня Трубников Бор', 'поселок Калитино',\n",
              "       'посёлок Высокоключевой', 'садовое товарищество Приладожский',\n",
              "       'посёлок Пансионат Зелёный Бор', 'деревня Ненимяки',\n",
              "       'поселок Пансионат Зелёный Бор', 'деревня Снегирёвка',\n",
              "       'деревня Рапполово', 'деревня Пустынка', 'поселок Рабитицы',\n",
              "       'деревня Большой Сабск', 'деревня Русско', 'деревня Лупполово',\n",
              "       'деревня Большое Рейзино', 'деревня Малая Романовка',\n",
              "       'поселок Дружноселье', 'поселок Пчевжа', 'поселок Володарское',\n",
              "       'деревня Нижняя', 'коттеджный посёлок Лесное', 'деревня Тихковицы',\n",
              "       'деревня Борисова Грива', 'посёлок Дзержинского'], dtype=object)"
            ]
          },
          "execution_count": 29,
          "metadata": {},
          "output_type": "execute_result"
        }
      ],
      "source": [
        "data['locality_name'].unique()"
      ]
    },
    {
      "cell_type": "code",
      "execution_count": null,
      "metadata": {
        "id": "-IEs_Wzezld3"
      },
      "outputs": [],
      "source": [
        "data['locality_name'] = data['locality_name'].replace('поселок Рябово', 'посёлок городского типа Рябово')\n",
        "data['locality_name'] = data['locality_name'].replace('поселок городского типа Рябово', 'посёлок городского типа Рябово')"
      ]
    },
    {
      "cell_type": "code",
      "execution_count": null,
      "metadata": {
        "id": "458T9OnHzld4"
      },
      "outputs": [],
      "source": [
        "data['locality_name'] = data['locality_name'].replace('поселок Тельмана', 'посёлок Тельмана')"
      ]
    },
    {
      "cell_type": "code",
      "execution_count": null,
      "metadata": {
        "id": "FAckeZjezld4"
      },
      "outputs": [],
      "source": [
        "data['locality_name'] = data['locality_name'].replace('городской поселок Янино-1', 'городской посёлок Янино-1')"
      ]
    },
    {
      "cell_type": "code",
      "execution_count": null,
      "metadata": {
        "id": "38p4_mDazld5"
      },
      "outputs": [],
      "source": [
        "data['locality_name'] = data['locality_name'].replace('Мурино', 'посёлок Мурино')\n",
        "data['locality_name'] = data['locality_name'].replace('поселок Мурино', 'посёлок Мурино')"
      ]
    },
    {
      "cell_type": "code",
      "execution_count": null,
      "metadata": {
        "id": "lUdHYRlWzld5"
      },
      "outputs": [],
      "source": [
        "data['locality_name'] = data['locality_name'].replace('Кудрово', 'деревня Кудрово')"
      ]
    },
    {
      "cell_type": "code",
      "execution_count": null,
      "metadata": {
        "id": "8HnjV_j5zld6"
      },
      "outputs": [],
      "source": [
        "data['locality_name'] = data['locality_name'].replace('поселок городского типа Красный Бор', 'посёлок городского типа Красный Бор')"
      ]
    },
    {
      "cell_type": "code",
      "execution_count": null,
      "metadata": {
        "id": "_YV33yd9zld6"
      },
      "outputs": [],
      "source": [
        "data['locality_name'] = data['locality_name'].replace('городской посёлок Фёдоровское', 'деревня Фёдоровское')"
      ]
    },
    {
      "cell_type": "code",
      "execution_count": null,
      "metadata": {
        "id": "1w3hMMX4zld6"
      },
      "outputs": [],
      "source": [
        "data['locality_name'] = data['locality_name'].replace('поселок городского типа Лебяжье', 'посёлок городского типа Лебяжье')"
      ]
    },
    {
      "cell_type": "code",
      "execution_count": null,
      "metadata": {
        "id": "0rnhHjQXzld7"
      },
      "outputs": [],
      "source": [
        "data['locality_name'] = data['locality_name'].replace('поселок городского типа Кузьмоловский', 'посёлок городского типа Кузьмоловский')"
      ]
    },
    {
      "cell_type": "code",
      "execution_count": null,
      "metadata": {
        "id": "HVYtJDImzld7"
      },
      "outputs": [],
      "source": [
        "data['locality_name'] = data['locality_name'].replace('поселок Аннино', 'посёлок Аннино')"
      ]
    },
    {
      "cell_type": "code",
      "execution_count": null,
      "metadata": {
        "id": "6_XKB5ytzld7"
      },
      "outputs": [],
      "source": [
        "data['locality_name'] = data['locality_name'].replace('поселок Новый Свет', 'посёлок Новый Свет')"
      ]
    },
    {
      "cell_type": "code",
      "execution_count": null,
      "metadata": {
        "id": "AkrTOZWhzld8"
      },
      "outputs": [],
      "source": [
        "data['locality_name'] = data['locality_name'].replace('Никольское', 'село Никольское')"
      ]
    },
    {
      "cell_type": "code",
      "execution_count": null,
      "metadata": {
        "id": "HfqlC6EKzld8"
      },
      "outputs": [],
      "source": [
        "data['locality_name'] = data['locality_name'].replace('поселок Бугры', 'посёлок Бугры')"
      ]
    },
    {
      "cell_type": "code",
      "execution_count": null,
      "metadata": {
        "id": "MqcMlYdCzld8"
      },
      "outputs": [],
      "source": [
        "data['locality_name'] = data['locality_name'].replace('городской посёлок Рощино', 'посёлок городского типа Рощино')\n",
        "data['locality_name'] = data['locality_name'].replace('поселок городского типа Рощино', 'посёлок городского типа Рощино')"
      ]
    },
    {
      "cell_type": "code",
      "execution_count": null,
      "metadata": {
        "id": "LNRhec6izld9"
      },
      "outputs": [],
      "source": [
        "data['locality_name'] = data['locality_name'].replace('поселок Победа', 'посёлок Победа')"
      ]
    },
    {
      "cell_type": "code",
      "execution_count": null,
      "metadata": {
        "id": "lP8GF719zld9"
      },
      "outputs": [],
      "source": [
        "data['locality_name'] = data['locality_name'].replace('поселок Терволово', 'посёлок Терволово')"
      ]
    },
    {
      "cell_type": "code",
      "execution_count": null,
      "metadata": {
        "id": "sq9vW92Qzld9"
      },
      "outputs": [],
      "source": [
        "data['locality_name'] = data['locality_name'].replace('городской посёлок Советский', 'поселок городского типа Советский')"
      ]
    },
    {
      "cell_type": "code",
      "execution_count": null,
      "metadata": {
        "id": "rN2CAjaNzld-"
      },
      "outputs": [],
      "source": [
        "data['locality_name'] = data['locality_name'].replace('поселок Петровское', 'посёлок Петровское')"
      ]
    },
    {
      "cell_type": "code",
      "execution_count": null,
      "metadata": {
        "id": "IaSOxBQPzld-"
      },
      "outputs": [],
      "source": [
        "data['locality_name'] = data['locality_name'].replace('поселок городского типа Токсово', 'посёлок городского типа Токсово')"
      ]
    },
    {
      "cell_type": "code",
      "execution_count": null,
      "metadata": {
        "id": "Aqp9mt0zzld_"
      },
      "outputs": [],
      "source": [
        "data['locality_name'] = data['locality_name'].replace('поселок городского типа Вырица', 'посёлок городского типа Вырица')"
      ]
    },
    {
      "cell_type": "code",
      "execution_count": null,
      "metadata": {
        "id": "y4ZH1w4Izld_"
      },
      "outputs": [],
      "source": [
        "data['locality_name'] = data['locality_name'].replace('поселок городского типа Большая Ижора', 'посёлок городского типа Большая Ижора')\n",
        "data['locality_name'] = data['locality_name'].replace('городской поселок Большая Ижора', 'посёлок городского типа Большая Ижора')"
      ]
    },
    {
      "cell_type": "code",
      "execution_count": null,
      "metadata": {
        "id": "xUraXE_Lzld_"
      },
      "outputs": [],
      "source": [
        "data['locality_name'] = data['locality_name'].replace('городской посёлок Павлово', 'посёлок городского типа Павлово')"
      ]
    },
    {
      "cell_type": "code",
      "execution_count": null,
      "metadata": {
        "id": "DW4tHVk5zleA"
      },
      "outputs": [],
      "source": [
        "data['locality_name'] = data['locality_name'].replace('городской посёлок Лесогорский', 'посёлок городского типа Лесогорский')\n",
        "data['locality_name'] = data['locality_name'].replace('поселок городского типа Лесогорский', 'посёлок городского типа Лесогорский')"
      ]
    },
    {
      "cell_type": "code",
      "execution_count": null,
      "metadata": {
        "id": "6PyhCVpVzleA"
      },
      "outputs": [],
      "source": [
        "data['locality_name'] = data['locality_name'].replace('поселок городского типа имени Свердлова', 'посёлок городского типа имени Свердлова')"
      ]
    },
    {
      "cell_type": "code",
      "execution_count": null,
      "metadata": {
        "id": "7gSUa9-HzleA"
      },
      "outputs": [],
      "source": [
        "data['locality_name'] = data['locality_name'].replace('поселок Поляны', 'посёлок Поляны')"
      ]
    },
    {
      "cell_type": "code",
      "execution_count": null,
      "metadata": {
        "id": "aSBCJtGvzleB"
      },
      "outputs": [],
      "source": [
        "data['locality_name'] = data['locality_name'].replace('городской посёлок Мга', 'посёлок городского типа Мга')"
      ]
    },
    {
      "cell_type": "code",
      "execution_count": null,
      "metadata": {
        "id": "5vy2wezOzleB"
      },
      "outputs": [],
      "source": [
        "data['locality_name'] = data['locality_name'].replace('поселок Мичуринское', 'посёлок Мичуринское')"
      ]
    },
    {
      "cell_type": "code",
      "execution_count": null,
      "metadata": {
        "id": "MEKFHEA7zleC"
      },
      "outputs": [],
      "source": [
        "data['locality_name'] = data['locality_name'].replace('поселок Ильичёво', 'посёлок Ильичёво')"
      ]
    },
    {
      "cell_type": "code",
      "execution_count": null,
      "metadata": {
        "id": "exhrxrJHzleC"
      },
      "outputs": [],
      "source": [
        "data['locality_name'] = data['locality_name'].replace('поселок станции Вещево', 'посёлок при железнодорожной станции Вещево')"
      ]
    },
    {
      "cell_type": "code",
      "execution_count": null,
      "metadata": {
        "id": "Xw56V0fMzleC"
      },
      "outputs": [],
      "source": [
        "data['locality_name'] = data['locality_name'].replace('поселок Гаврилово', 'посёлок Гаврилово')"
      ]
    },
    {
      "cell_type": "code",
      "execution_count": null,
      "metadata": {
        "id": "7NFtoe8dzleC"
      },
      "outputs": [],
      "source": [
        "data['locality_name'] = data['locality_name'].replace('городской посёлок Назия', 'посёлок городского типа Назия')\n",
        "data['locality_name'] = data['locality_name'].replace('поселок городского типа Назия', 'посёлок городского типа Назия')"
      ]
    },
    {
      "cell_type": "code",
      "execution_count": null,
      "metadata": {
        "id": "H4oUvrlrzleD"
      },
      "outputs": [],
      "source": [
        "data['locality_name'] = data['locality_name'].replace('поселок Старая Малукса', 'посёлок Старая Малукса')"
      ]
    },
    {
      "cell_type": "code",
      "execution_count": null,
      "metadata": {
        "id": "WwaesBXVzleD"
      },
      "outputs": [],
      "source": [
        "data['locality_name'] = data['locality_name'].replace('поселок станции Приветнинское', 'посёлок при железнодорожной станции Приветнинское')"
      ]
    },
    {
      "cell_type": "code",
      "execution_count": null,
      "metadata": {
        "id": "z25mWEoWzleD"
      },
      "outputs": [],
      "source": [
        "data['locality_name'] = data['locality_name'].replace('поселок Мельниково', 'посёлок Мельниково')"
      ]
    },
    {
      "cell_type": "code",
      "execution_count": null,
      "metadata": {
        "id": "fHBmTeYLzleE"
      },
      "outputs": [],
      "source": [
        "data['locality_name'] = data['locality_name'].replace('поселок Усть-Луга', 'посёлок Усть-Луга')"
      ]
    },
    {
      "cell_type": "code",
      "execution_count": null,
      "metadata": {
        "id": "Z4U9d9h3zleE"
      },
      "outputs": [],
      "source": [
        "data['locality_name'] = data['locality_name'].replace('Любань', 'посёлок Любань')\n",
        "data['locality_name'] = data['locality_name'].replace('поселок Любань', 'посёлок Любань')"
      ]
    },
    {
      "cell_type": "code",
      "execution_count": null,
      "metadata": {
        "id": "xj7LYP1mzleE"
      },
      "outputs": [],
      "source": [
        "data['locality_name'] = data['locality_name'].replace('поселок Стеклянный', 'посёлок Стеклянный')"
      ]
    },
    {
      "cell_type": "code",
      "execution_count": null,
      "metadata": {
        "id": "M2Ac0FwmzleE"
      },
      "outputs": [],
      "source": [
        "data['locality_name'] = data['locality_name'].replace('поселок городского типа Форносово', 'посёлок городского типа Форносово')"
      ]
    },
    {
      "cell_type": "code",
      "execution_count": null,
      "metadata": {
        "id": "KwSd_zX0zleF"
      },
      "outputs": [],
      "source": [
        "data['locality_name'] = data['locality_name'].replace('поселок Сумино', 'посёлок Сумино')"
      ]
    },
    {
      "cell_type": "code",
      "execution_count": null,
      "metadata": {
        "id": "Kmp2yl1WzleF"
      },
      "outputs": [],
      "source": [
        "data['locality_name'] = data['locality_name'].replace('поселок Возрождение', 'посёлок Возрождение')"
      ]
    },
    {
      "cell_type": "code",
      "execution_count": null,
      "metadata": {
        "id": "0TcQO0htzleF"
      },
      "outputs": [],
      "source": [
        "data['locality_name'] = data['locality_name'].replace('поселок Лисий Нос', 'посёлок Лисий Нос')"
      ]
    },
    {
      "cell_type": "code",
      "execution_count": null,
      "metadata": {
        "id": "oYwdTj8DzleF"
      },
      "outputs": [],
      "source": [
        "data['locality_name'] = data['locality_name'].replace('поселок Жилгородок', 'посёлок Жилгородок')"
      ]
    },
    {
      "cell_type": "code",
      "execution_count": null,
      "metadata": {
        "id": "G6WN7tixzleG"
      },
      "outputs": [],
      "source": [
        "data['locality_name'] = data['locality_name'].replace('поселок Громово', 'посёлок станции Громово')"
      ]
    },
    {
      "cell_type": "code",
      "execution_count": null,
      "metadata": {
        "id": "Z1-nx1tzzleG"
      },
      "outputs": [],
      "source": [
        "data['locality_name'] = data['locality_name'].replace('поселок Коробицыно', 'посёлок Коробицыно')"
      ]
    },
    {
      "cell_type": "code",
      "execution_count": null,
      "metadata": {
        "id": "xWd0QXyjzleG"
      },
      "outputs": [],
      "source": [
        "data['locality_name'] = data['locality_name'].replace('поселок Кобралово', 'посёлок Кобралово')"
      ]
    },
    {
      "cell_type": "code",
      "execution_count": null,
      "metadata": {
        "id": "-9SnNbSCzleG"
      },
      "outputs": [],
      "source": [
        "data['locality_name'] = data['locality_name'].replace('поселок Лесное', 'коттеджный посёлок Лесное')"
      ]
    },
    {
      "cell_type": "code",
      "execution_count": null,
      "metadata": {
        "id": "uifZVnETzleG"
      },
      "outputs": [],
      "source": [
        "data['locality_name'] = data['locality_name'].replace('поселок Перово', 'посёлок Перово')"
      ]
    },
    {
      "cell_type": "code",
      "execution_count": null,
      "metadata": {
        "id": "g73Vvun4zleH"
      },
      "outputs": [],
      "source": [
        "data['locality_name'] = data['locality_name'].replace('поселок Пансионат Зелёный Бор', 'посёлок Пансионат Зелёный Бор')"
      ]
    },
    {
      "cell_type": "code",
      "execution_count": null,
      "metadata": {
        "id": "N1nVuwa5zleH",
        "outputId": "0aa2b932-29c2-447f-a234-3ae0ebaae825"
      },
      "outputs": [
        {
          "data": {
            "text/plain": [
              "314"
            ]
          },
          "execution_count": 78,
          "metadata": {},
          "output_type": "execute_result"
        }
      ],
      "source": [
        "len(data['locality_name'].unique())"
      ]
    },
    {
      "cell_type": "markdown",
      "metadata": {
        "id": "tT3TjCBozleI"
      },
      "source": [
        "Далее, следует избавится от аномальных значений и выбросов:"
      ]
    },
    {
      "cell_type": "code",
      "execution_count": null,
      "metadata": {
        "id": "JZRr_8JszleJ",
        "outputId": "cdab5f82-f0e7-4f71-8d86-e2af6217eb14"
      },
      "outputs": [
        {
          "data": {
            "text/plain": [
              "22590      1.00\n",
              "5712       1.20\n",
              "16934      1.75\n",
              "20520      2.00\n",
              "552        2.00\n",
              "          ...  \n",
              "17442      8.00\n",
              "5863       8.30\n",
              "22309     10.30\n",
              "15061     14.00\n",
              "22869    100.00\n",
              "Name: ceiling_height, Length: 23699, dtype: float64"
            ]
          },
          "execution_count": 80,
          "metadata": {},
          "output_type": "execute_result"
        }
      ],
      "source": [
        "data['ceiling_height'].sort_values()"
      ]
    },
    {
      "cell_type": "code",
      "execution_count": null,
      "metadata": {
        "id": "fmA_qN8MzleJ",
        "outputId": "86cc3f32-fcfa-4855-d06a-c96e54689a76"
      },
      "outputs": [
        {
          "data": {
            "text/plain": [
              "<AxesSubplot:>"
            ]
          },
          "execution_count": 81,
          "metadata": {},
          "output_type": "execute_result"
        },
        {
          "data": {
            "image/png": "[encoded data removed]",
            "text/plain": [
              "<Figure size 432x288 with 1 Axes>"
            ]
          },
          "metadata": {
            "needs_background": "light"
          },
          "output_type": "display_data"
        }
      ],
      "source": [
        "plt.ylim(1, 5)\n",
        "sns.boxplot(data=data['ceiling_height'])"
      ]
    },
    {
      "cell_type": "code",
      "execution_count": null,
      "metadata": {
        "id": "HF_atGZ_zleK",
        "outputId": "f7fa77fe-3128-4001-d486-16bfca9fd0d4"
      },
      "outputs": [
        {
          "data": {
            "text/plain": [
              "count    23699.000000\n",
              "mean         2.702518\n",
              "std          0.679234\n",
              "min          1.000000\n",
              "25%          2.600000\n",
              "50%          2.650000\n",
              "75%          2.700000\n",
              "max        100.000000\n",
              "Name: ceiling_height, dtype: float64"
            ]
          },
          "execution_count": 82,
          "metadata": {},
          "output_type": "execute_result"
        }
      ],
      "source": [
        "data['ceiling_height'].describe()"
      ]
    },
    {
      "cell_type": "markdown",
      "metadata": {
        "id": "mZvznYm_zleK"
      },
      "source": [
        "В столбце 'ceiling_height' (высота потолков) мы можем наблюдать такие выбивающиеся их распределения значения, как высота < 2.5 и > 2.8 метров. Однако, принимая во внимания особенности недвижимости в Санкт-Петербурге и его окрестностях (особенно в старом фонде), расширим верхнюю границу до 5 метров на случай, если в данных присутствуют квартиры в сталинских домах, лофты и тд., и удалим аномальные значения, выбивающиеся из этого интервала:"
      ]
    },
    {
      "cell_type": "code",
      "execution_count": null,
      "metadata": {
        "id": "imwjKt81zleK"
      },
      "outputs": [],
      "source": [
        "data = data[(data['ceiling_height'] >= 2.5) & (data['ceiling_height'] <= 5)]"
      ]
    },
    {
      "cell_type": "code",
      "execution_count": null,
      "metadata": {
        "id": "IDPgP7vRzleL",
        "outputId": "84f1ac02-f247-455b-8ed8-afdea9875dd6"
      },
      "outputs": [
        {
          "data": {
            "text/plain": [
              "23698    2.5\n",
              "5771     2.5\n",
              "17919    2.5\n",
              "17920    2.5\n",
              "17926    2.5\n",
              "        ... \n",
              "19142    4.7\n",
              "1300     4.7\n",
              "2802     4.8\n",
              "21923    4.9\n",
              "1053     5.0\n",
              "Name: ceiling_height, Length: 23609, dtype: float64"
            ]
          },
          "execution_count": 84,
          "metadata": {},
          "output_type": "execute_result"
        }
      ],
      "source": [
        "data['ceiling_height'].sort_values()"
      ]
    },
    {
      "cell_type": "markdown",
      "metadata": {
        "id": "Gk01-TZmzleL"
      },
      "source": [
        "Также, можно заметить выбивающиеся значение в столбце 'last_price' (окончательная цена):"
      ]
    },
    {
      "cell_type": "code",
      "execution_count": null,
      "metadata": {
        "id": "6ygtvm2-zleL",
        "outputId": "412f1257-1ca3-4718-d95e-4a12a5be7f3f"
      },
      "outputs": [
        {
          "data": {
            "text/plain": [
              "count    2.360900e+04\n",
              "mean     6.533374e+06\n",
              "std      1.082369e+07\n",
              "min      1.219000e+04\n",
              "25%      3.429000e+06\n",
              "50%      4.650000e+06\n",
              "75%      6.800000e+06\n",
              "max      7.630000e+08\n",
              "Name: last_price, dtype: float64"
            ]
          },
          "execution_count": 85,
          "metadata": {},
          "output_type": "execute_result"
        }
      ],
      "source": [
        "data['last_price'].describe()"
      ]
    },
    {
      "cell_type": "code",
      "execution_count": null,
      "metadata": {
        "id": "gizoGewEzleL",
        "outputId": "df5f5210-08b1-497d-b148-ae9c8187b46f"
      },
      "outputs": [
        {
          "data": {
            "text/plain": [
              "<AxesSubplot:>"
            ]
          },
          "execution_count": 86,
          "metadata": {},
          "output_type": "execute_result"
        },
        {
          "data": {
            "image/png": "[encoded data removed]",
            "text/plain": [
              "<Figure size 432x288 with 1 Axes>"
            ]
          },
          "metadata": {
            "needs_background": "light"
          },
          "output_type": "display_data"
        }
      ],
      "source": [
        "plt.ylim(0, 20000000)\n",
        "sns.boxplot(data=data['last_price'])"
      ]
    },
    {
      "cell_type": "code",
      "execution_count": null,
      "metadata": {
        "id": "BkxVdBrGzleM",
        "outputId": "bc53f60f-9ac5-46c0-e150-9470bbffb728"
      },
      "outputs": [
        {
          "data": {
            "text/plain": [
              "8793         12190.0\n",
              "17456       430000.0\n",
              "14911       430000.0\n",
              "16274       440000.0\n",
              "5698        450000.0\n",
              "            ...     \n",
              "15651    300000000.0\n",
              "1436     330000000.0\n",
              "14706    401300000.0\n",
              "19540    420000000.0\n",
              "12971    763000000.0\n",
              "Name: last_price, Length: 23609, dtype: float64"
            ]
          },
          "execution_count": 87,
          "metadata": {},
          "output_type": "execute_result"
        }
      ],
      "source": [
        "data['last_price'].sort_values()"
      ]
    },
    {
      "cell_type": "code",
      "execution_count": null,
      "metadata": {
        "id": "XHd15frMzleM",
        "outputId": "3b3715f2-a19c-465d-b3c8-e05618342e3b"
      },
      "outputs": [
        {
          "data": {
            "text/html": [
              "<div>\n",
              "<style scoped>\n",
              "    .dataframe tbody tr th:only-of-type {\n",
              "        vertical-align: middle;\n",
              "    }\n",
              "\n",
              "    .dataframe tbody tr th {\n",
              "        vertical-align: top;\n",
              "    }\n",
              "\n",
              "    .dataframe thead th {\n",
              "        text-align: right;\n",
              "    }\n",
              "</style>\n",
              "<table border=\"1\" class=\"dataframe\">\n",
              "  <thead>\n",
              "    <tr style=\"text-align: right;\">\n",
              "      <th></th>\n",
              "      <th>total_images</th>\n",
              "      <th>last_price</th>\n",
              "      <th>total_area</th>\n",
              "      <th>first_day_exposition</th>\n",
              "      <th>rooms</th>\n",
              "      <th>ceiling_height</th>\n",
              "      <th>floors_total</th>\n",
              "      <th>living_area</th>\n",
              "      <th>floor</th>\n",
              "      <th>is_apartment</th>\n",
              "      <th>...</th>\n",
              "      <th>kitchen_area</th>\n",
              "      <th>balcony</th>\n",
              "      <th>locality_name</th>\n",
              "      <th>airports_nearest</th>\n",
              "      <th>cityCenters_nearest</th>\n",
              "      <th>parks_around3000</th>\n",
              "      <th>parks_nearest</th>\n",
              "      <th>ponds_around3000</th>\n",
              "      <th>ponds_nearest</th>\n",
              "      <th>days_exposition</th>\n",
              "    </tr>\n",
              "  </thead>\n",
              "  <tbody>\n",
              "    <tr>\n",
              "      <th>8793</th>\n",
              "      <td>7</td>\n",
              "      <td>12190.0</td>\n",
              "      <td>109.0</td>\n",
              "      <td>2019-03-20</td>\n",
              "      <td>2</td>\n",
              "      <td>2.75</td>\n",
              "      <td>25.0</td>\n",
              "      <td>32.0</td>\n",
              "      <td>25</td>\n",
              "      <td>False</td>\n",
              "      <td>...</td>\n",
              "      <td>40.5</td>\n",
              "      <td>0</td>\n",
              "      <td>Санкт-Петербург</td>\n",
              "      <td>36421.0</td>\n",
              "      <td>9176.0</td>\n",
              "      <td>1</td>\n",
              "      <td>805.0</td>\n",
              "      <td>0</td>\n",
              "      <td>NaN</td>\n",
              "      <td>8.0</td>\n",
              "    </tr>\n",
              "  </tbody>\n",
              "</table>\n",
              "<p>1 rows × 22 columns</p>\n",
              "</div>"
            ],
            "text/plain": [
              "      total_images  last_price  total_area first_day_exposition  rooms  \\\n",
              "8793             7     12190.0       109.0           2019-03-20      2   \n",
              "\n",
              "      ceiling_height  floors_total  living_area  floor  is_apartment  ...  \\\n",
              "8793            2.75          25.0         32.0     25         False  ...   \n",
              "\n",
              "      kitchen_area  balcony    locality_name  airports_nearest  \\\n",
              "8793          40.5        0  Санкт-Петербург           36421.0   \n",
              "\n",
              "     cityCenters_nearest  parks_around3000  parks_nearest  ponds_around3000  \\\n",
              "8793              9176.0                 1          805.0                 0   \n",
              "\n",
              "      ponds_nearest  days_exposition  \n",
              "8793            NaN              8.0  \n",
              "\n",
              "[1 rows x 22 columns]"
            ]
          },
          "execution_count": 88,
          "metadata": {},
          "output_type": "execute_result"
        }
      ],
      "source": [
        "data.query('last_price == 12190.0')"
      ]
    },
    {
      "cell_type": "code",
      "execution_count": null,
      "metadata": {
        "id": "hFEEO8SyzleM",
        "outputId": "e594e1ae-aaca-4b8b-9488-1ef53efdd928"
      },
      "outputs": [
        {
          "data": {
            "text/html": [
              "<div>\n",
              "<style scoped>\n",
              "    .dataframe tbody tr th:only-of-type {\n",
              "        vertical-align: middle;\n",
              "    }\n",
              "\n",
              "    .dataframe tbody tr th {\n",
              "        vertical-align: top;\n",
              "    }\n",
              "\n",
              "    .dataframe thead th {\n",
              "        text-align: right;\n",
              "    }\n",
              "</style>\n",
              "<table border=\"1\" class=\"dataframe\">\n",
              "  <thead>\n",
              "    <tr style=\"text-align: right;\">\n",
              "      <th></th>\n",
              "      <th>total_images</th>\n",
              "      <th>last_price</th>\n",
              "      <th>total_area</th>\n",
              "      <th>first_day_exposition</th>\n",
              "      <th>rooms</th>\n",
              "      <th>ceiling_height</th>\n",
              "      <th>floors_total</th>\n",
              "      <th>living_area</th>\n",
              "      <th>floor</th>\n",
              "      <th>is_apartment</th>\n",
              "      <th>...</th>\n",
              "      <th>kitchen_area</th>\n",
              "      <th>balcony</th>\n",
              "      <th>locality_name</th>\n",
              "      <th>airports_nearest</th>\n",
              "      <th>cityCenters_nearest</th>\n",
              "      <th>parks_around3000</th>\n",
              "      <th>parks_nearest</th>\n",
              "      <th>ponds_around3000</th>\n",
              "      <th>ponds_nearest</th>\n",
              "      <th>days_exposition</th>\n",
              "    </tr>\n",
              "  </thead>\n",
              "  <tbody>\n",
              "    <tr>\n",
              "      <th>14911</th>\n",
              "      <td>5</td>\n",
              "      <td>430000.0</td>\n",
              "      <td>54.0</td>\n",
              "      <td>2018-06-26</td>\n",
              "      <td>2</td>\n",
              "      <td>2.65</td>\n",
              "      <td>3.0</td>\n",
              "      <td>31.153846</td>\n",
              "      <td>3</td>\n",
              "      <td>False</td>\n",
              "      <td>...</td>\n",
              "      <td>9.45</td>\n",
              "      <td>0</td>\n",
              "      <td>поселок станции Свирь</td>\n",
              "      <td>NaN</td>\n",
              "      <td>NaN</td>\n",
              "      <td>0</td>\n",
              "      <td>NaN</td>\n",
              "      <td>0</td>\n",
              "      <td>NaN</td>\n",
              "      <td>44.0</td>\n",
              "    </tr>\n",
              "    <tr>\n",
              "      <th>17456</th>\n",
              "      <td>7</td>\n",
              "      <td>430000.0</td>\n",
              "      <td>30.4</td>\n",
              "      <td>2019-04-22</td>\n",
              "      <td>1</td>\n",
              "      <td>2.65</td>\n",
              "      <td>2.0</td>\n",
              "      <td>16.000000</td>\n",
              "      <td>1</td>\n",
              "      <td>False</td>\n",
              "      <td>...</td>\n",
              "      <td>6.00</td>\n",
              "      <td>0</td>\n",
              "      <td>Сланцы</td>\n",
              "      <td>NaN</td>\n",
              "      <td>NaN</td>\n",
              "      <td>0</td>\n",
              "      <td>NaN</td>\n",
              "      <td>0</td>\n",
              "      <td>NaN</td>\n",
              "      <td>NaN</td>\n",
              "    </tr>\n",
              "  </tbody>\n",
              "</table>\n",
              "<p>2 rows × 22 columns</p>\n",
              "</div>"
            ],
            "text/plain": [
              "       total_images  last_price  total_area first_day_exposition  rooms  \\\n",
              "14911             5    430000.0        54.0           2018-06-26      2   \n",
              "17456             7    430000.0        30.4           2019-04-22      1   \n",
              "\n",
              "       ceiling_height  floors_total  living_area  floor  is_apartment  ...  \\\n",
              "14911            2.65           3.0    31.153846      3         False  ...   \n",
              "17456            2.65           2.0    16.000000      1         False  ...   \n",
              "\n",
              "       kitchen_area  balcony          locality_name  airports_nearest  \\\n",
              "14911          9.45        0  поселок станции Свирь               NaN   \n",
              "17456          6.00        0                 Сланцы               NaN   \n",
              "\n",
              "      cityCenters_nearest  parks_around3000  parks_nearest  ponds_around3000  \\\n",
              "14911                 NaN                 0            NaN                 0   \n",
              "17456                 NaN                 0            NaN                 0   \n",
              "\n",
              "       ponds_nearest  days_exposition  \n",
              "14911            NaN             44.0  \n",
              "17456            NaN              NaN  \n",
              "\n",
              "[2 rows x 22 columns]"
            ]
          },
          "execution_count": 89,
          "metadata": {},
          "output_type": "execute_result"
        }
      ],
      "source": [
        "data.query('last_price == 430000')"
      ]
    },
    {
      "cell_type": "code",
      "execution_count": null,
      "metadata": {
        "scrolled": true,
        "id": "J57Air9dzleM",
        "outputId": "7c976956-b73a-411c-88b4-4e90e107f03b"
      },
      "outputs": [
        {
          "data": {
            "text/html": [
              "<div>\n",
              "<style scoped>\n",
              "    .dataframe tbody tr th:only-of-type {\n",
              "        vertical-align: middle;\n",
              "    }\n",
              "\n",
              "    .dataframe tbody tr th {\n",
              "        vertical-align: top;\n",
              "    }\n",
              "\n",
              "    .dataframe thead th {\n",
              "        text-align: right;\n",
              "    }\n",
              "</style>\n",
              "<table border=\"1\" class=\"dataframe\">\n",
              "  <thead>\n",
              "    <tr style=\"text-align: right;\">\n",
              "      <th></th>\n",
              "      <th>total_images</th>\n",
              "      <th>last_price</th>\n",
              "      <th>total_area</th>\n",
              "      <th>first_day_exposition</th>\n",
              "      <th>rooms</th>\n",
              "      <th>ceiling_height</th>\n",
              "      <th>floors_total</th>\n",
              "      <th>living_area</th>\n",
              "      <th>floor</th>\n",
              "      <th>is_apartment</th>\n",
              "      <th>...</th>\n",
              "      <th>kitchen_area</th>\n",
              "      <th>balcony</th>\n",
              "      <th>locality_name</th>\n",
              "      <th>airports_nearest</th>\n",
              "      <th>cityCenters_nearest</th>\n",
              "      <th>parks_around3000</th>\n",
              "      <th>parks_nearest</th>\n",
              "      <th>ponds_around3000</th>\n",
              "      <th>ponds_nearest</th>\n",
              "      <th>days_exposition</th>\n",
              "    </tr>\n",
              "  </thead>\n",
              "  <tbody>\n",
              "    <tr>\n",
              "      <th>12971</th>\n",
              "      <td>19</td>\n",
              "      <td>763000000.0</td>\n",
              "      <td>400.0</td>\n",
              "      <td>2017-09-30</td>\n",
              "      <td>7</td>\n",
              "      <td>2.65</td>\n",
              "      <td>10.0</td>\n",
              "      <td>250.0</td>\n",
              "      <td>10</td>\n",
              "      <td>False</td>\n",
              "      <td>...</td>\n",
              "      <td>70.0</td>\n",
              "      <td>2</td>\n",
              "      <td>Санкт-Петербург</td>\n",
              "      <td>25108.0</td>\n",
              "      <td>3956.0</td>\n",
              "      <td>1</td>\n",
              "      <td>530.0</td>\n",
              "      <td>3</td>\n",
              "      <td>756.0</td>\n",
              "      <td>33.0</td>\n",
              "    </tr>\n",
              "  </tbody>\n",
              "</table>\n",
              "<p>1 rows × 22 columns</p>\n",
              "</div>"
            ],
            "text/plain": [
              "       total_images   last_price  total_area first_day_exposition  rooms  \\\n",
              "12971            19  763000000.0       400.0           2017-09-30      7   \n",
              "\n",
              "       ceiling_height  floors_total  living_area  floor  is_apartment  ...  \\\n",
              "12971            2.65          10.0        250.0     10         False  ...   \n",
              "\n",
              "       kitchen_area  balcony    locality_name  airports_nearest  \\\n",
              "12971          70.0        2  Санкт-Петербург           25108.0   \n",
              "\n",
              "      cityCenters_nearest  parks_around3000  parks_nearest  ponds_around3000  \\\n",
              "12971              3956.0                 1          530.0                 3   \n",
              "\n",
              "       ponds_nearest  days_exposition  \n",
              "12971          756.0             33.0  \n",
              "\n",
              "[1 rows x 22 columns]"
            ]
          },
          "execution_count": 90,
          "metadata": {},
          "output_type": "execute_result"
        }
      ],
      "source": [
        "data.query('last_price == 763000000.0')"
      ]
    },
    {
      "cell_type": "markdown",
      "metadata": {
        "id": "-IK9qh54zleN"
      },
      "source": [
        "Изучив исходные данные, можно сказать, что, несмотря на диаграмму размаха и высокое стандартное отклонение, аномально большие выбросы вполне объясняются расположением и площадью продаваемых объектов. Поэтому, удаление таких объявлений из анализа будет некорретным. Квартиры, проданные за аномально низкую цену, также можно оправдать местонахождением данных объектов.\n",
        "/Единственная аномалия, которая не поддается объяснению, это квартира в Санкт-Петербурге площадью 400 кв. м, проданная за 12190 руб. Удаляем эту строку из датафрейма."
      ]
    },
    {
      "cell_type": "code",
      "execution_count": null,
      "metadata": {
        "id": "hk76_9HZzleN"
      },
      "outputs": [],
      "source": [
        "data = data[data['last_price'] != 12190]"
      ]
    },
    {
      "cell_type": "code",
      "execution_count": null,
      "metadata": {
        "id": "pO-AH3qxzleN",
        "outputId": "cd7cc724-ebac-4457-8fa0-1c8522a90b52"
      },
      "outputs": [
        {
          "data": {
            "text/plain": [
              "17456       430000.0\n",
              "14911       430000.0\n",
              "16274       440000.0\n",
              "16219       450000.0\n",
              "5698        450000.0\n",
              "            ...     \n",
              "15651    300000000.0\n",
              "1436     330000000.0\n",
              "14706    401300000.0\n",
              "19540    420000000.0\n",
              "12971    763000000.0\n",
              "Name: last_price, Length: 23608, dtype: float64"
            ]
          },
          "execution_count": 92,
          "metadata": {},
          "output_type": "execute_result"
        }
      ],
      "source": [
        "data['last_price'].sort_values()"
      ]
    },
    {
      "cell_type": "markdown",
      "metadata": {
        "id": "71aSB0ibzleN"
      },
      "source": [
        "Подозрение также вызывали данные, представленные в столбце 'total_area' (общая площадь). Однако после проверки аномально низких и высоких значений, стало понятно, что данные также соответствуют действительности (соотносим с ценой продажи и расположением):"
      ]
    },
    {
      "cell_type": "code",
      "execution_count": null,
      "metadata": {
        "id": "LvSRfrEozleO",
        "outputId": "99ce66a5-53c0-4c64-fc5b-a3cfd5779fbe"
      },
      "outputs": [
        {
          "data": {
            "text/plain": [
              "19904     12.0\n",
              "19546     13.0\n",
              "19807     13.0\n",
              "17961     13.0\n",
              "19558     13.2\n",
              "         ...  \n",
              "5358     590.0\n",
              "15651    618.0\n",
              "3117     631.0\n",
              "12859    631.2\n",
              "19540    900.0\n",
              "Name: total_area, Length: 23608, dtype: float64"
            ]
          },
          "execution_count": 93,
          "metadata": {},
          "output_type": "execute_result"
        }
      ],
      "source": [
        "data['total_area'].sort_values()"
      ]
    },
    {
      "cell_type": "code",
      "execution_count": null,
      "metadata": {
        "id": "OBrCLFyIzleO",
        "outputId": "8ec24f54-be99-4d4c-bea8-85bbb8b14d23"
      },
      "outputs": [
        {
          "data": {
            "text/plain": [
              "<AxesSubplot:>"
            ]
          },
          "execution_count": 94,
          "metadata": {},
          "output_type": "execute_result"
        },
        {
          "data": {
            "image/png": "[encoded data removed]",
            "text/plain": [
              "<Figure size 432x288 with 1 Axes>"
            ]
          },
          "metadata": {
            "needs_background": "light"
          },
          "output_type": "display_data"
        }
      ],
      "source": [
        "plt.ylim(0, 600)\n",
        "sns.boxplot(data=data['total_area'])"
      ]
    },
    {
      "cell_type": "code",
      "execution_count": null,
      "metadata": {
        "id": "cXubjpoQzleO",
        "outputId": "48e961f6-4870-48ad-a539-bd4bdd84f22a"
      },
      "outputs": [
        {
          "data": {
            "text/html": [
              "<div>\n",
              "<style scoped>\n",
              "    .dataframe tbody tr th:only-of-type {\n",
              "        vertical-align: middle;\n",
              "    }\n",
              "\n",
              "    .dataframe tbody tr th {\n",
              "        vertical-align: top;\n",
              "    }\n",
              "\n",
              "    .dataframe thead th {\n",
              "        text-align: right;\n",
              "    }\n",
              "</style>\n",
              "<table border=\"1\" class=\"dataframe\">\n",
              "  <thead>\n",
              "    <tr style=\"text-align: right;\">\n",
              "      <th></th>\n",
              "      <th>total_images</th>\n",
              "      <th>last_price</th>\n",
              "      <th>total_area</th>\n",
              "      <th>first_day_exposition</th>\n",
              "      <th>rooms</th>\n",
              "      <th>ceiling_height</th>\n",
              "      <th>floors_total</th>\n",
              "      <th>living_area</th>\n",
              "      <th>floor</th>\n",
              "      <th>is_apartment</th>\n",
              "      <th>...</th>\n",
              "      <th>kitchen_area</th>\n",
              "      <th>balcony</th>\n",
              "      <th>locality_name</th>\n",
              "      <th>airports_nearest</th>\n",
              "      <th>cityCenters_nearest</th>\n",
              "      <th>parks_around3000</th>\n",
              "      <th>parks_nearest</th>\n",
              "      <th>ponds_around3000</th>\n",
              "      <th>ponds_nearest</th>\n",
              "      <th>days_exposition</th>\n",
              "    </tr>\n",
              "  </thead>\n",
              "  <tbody>\n",
              "    <tr>\n",
              "      <th>19904</th>\n",
              "      <td>4</td>\n",
              "      <td>2400000.0</td>\n",
              "      <td>12.0</td>\n",
              "      <td>2017-07-19</td>\n",
              "      <td>1</td>\n",
              "      <td>2.55</td>\n",
              "      <td>5.0</td>\n",
              "      <td>10.0</td>\n",
              "      <td>2</td>\n",
              "      <td>False</td>\n",
              "      <td>...</td>\n",
              "      <td>2.1</td>\n",
              "      <td>0</td>\n",
              "      <td>Санкт-Петербург</td>\n",
              "      <td>21314.0</td>\n",
              "      <td>964.0</td>\n",
              "      <td>1</td>\n",
              "      <td>886.0</td>\n",
              "      <td>2</td>\n",
              "      <td>45.0</td>\n",
              "      <td>200.0</td>\n",
              "    </tr>\n",
              "  </tbody>\n",
              "</table>\n",
              "<p>1 rows × 22 columns</p>\n",
              "</div>"
            ],
            "text/plain": [
              "       total_images  last_price  total_area first_day_exposition  rooms  \\\n",
              "19904             4   2400000.0        12.0           2017-07-19      1   \n",
              "\n",
              "       ceiling_height  floors_total  living_area  floor  is_apartment  ...  \\\n",
              "19904            2.55           5.0         10.0      2         False  ...   \n",
              "\n",
              "       kitchen_area  balcony    locality_name  airports_nearest  \\\n",
              "19904           2.1        0  Санкт-Петербург           21314.0   \n",
              "\n",
              "      cityCenters_nearest  parks_around3000  parks_nearest  ponds_around3000  \\\n",
              "19904               964.0                 1          886.0                 2   \n",
              "\n",
              "       ponds_nearest  days_exposition  \n",
              "19904           45.0            200.0  \n",
              "\n",
              "[1 rows x 22 columns]"
            ]
          },
          "execution_count": 95,
          "metadata": {},
          "output_type": "execute_result"
        }
      ],
      "source": [
        "data.query('total_area == 12')"
      ]
    },
    {
      "cell_type": "code",
      "execution_count": null,
      "metadata": {
        "id": "9oaUuyP4zleP",
        "outputId": "d523542a-d53d-4b28-f10d-a75ecd7b2062"
      },
      "outputs": [
        {
          "data": {
            "text/html": [
              "<div>\n",
              "<style scoped>\n",
              "    .dataframe tbody tr th:only-of-type {\n",
              "        vertical-align: middle;\n",
              "    }\n",
              "\n",
              "    .dataframe tbody tr th {\n",
              "        vertical-align: top;\n",
              "    }\n",
              "\n",
              "    .dataframe thead th {\n",
              "        text-align: right;\n",
              "    }\n",
              "</style>\n",
              "<table border=\"1\" class=\"dataframe\">\n",
              "  <thead>\n",
              "    <tr style=\"text-align: right;\">\n",
              "      <th></th>\n",
              "      <th>total_images</th>\n",
              "      <th>last_price</th>\n",
              "      <th>total_area</th>\n",
              "      <th>first_day_exposition</th>\n",
              "      <th>rooms</th>\n",
              "      <th>ceiling_height</th>\n",
              "      <th>floors_total</th>\n",
              "      <th>living_area</th>\n",
              "      <th>floor</th>\n",
              "      <th>is_apartment</th>\n",
              "      <th>...</th>\n",
              "      <th>kitchen_area</th>\n",
              "      <th>balcony</th>\n",
              "      <th>locality_name</th>\n",
              "      <th>airports_nearest</th>\n",
              "      <th>cityCenters_nearest</th>\n",
              "      <th>parks_around3000</th>\n",
              "      <th>parks_nearest</th>\n",
              "      <th>ponds_around3000</th>\n",
              "      <th>ponds_nearest</th>\n",
              "      <th>days_exposition</th>\n",
              "    </tr>\n",
              "  </thead>\n",
              "  <tbody>\n",
              "    <tr>\n",
              "      <th>19540</th>\n",
              "      <td>8</td>\n",
              "      <td>420000000.0</td>\n",
              "      <td>900.0</td>\n",
              "      <td>2017-12-06</td>\n",
              "      <td>12</td>\n",
              "      <td>2.8</td>\n",
              "      <td>25.0</td>\n",
              "      <td>409.7</td>\n",
              "      <td>25</td>\n",
              "      <td>False</td>\n",
              "      <td>...</td>\n",
              "      <td>112.0</td>\n",
              "      <td>0</td>\n",
              "      <td>Санкт-Петербург</td>\n",
              "      <td>30706.0</td>\n",
              "      <td>7877.0</td>\n",
              "      <td>0</td>\n",
              "      <td>NaN</td>\n",
              "      <td>2</td>\n",
              "      <td>318.0</td>\n",
              "      <td>106.0</td>\n",
              "    </tr>\n",
              "  </tbody>\n",
              "</table>\n",
              "<p>1 rows × 22 columns</p>\n",
              "</div>"
            ],
            "text/plain": [
              "       total_images   last_price  total_area first_day_exposition  rooms  \\\n",
              "19540             8  420000000.0       900.0           2017-12-06     12   \n",
              "\n",
              "       ceiling_height  floors_total  living_area  floor  is_apartment  ...  \\\n",
              "19540             2.8          25.0        409.7     25         False  ...   \n",
              "\n",
              "       kitchen_area  balcony    locality_name  airports_nearest  \\\n",
              "19540         112.0        0  Санкт-Петербург           30706.0   \n",
              "\n",
              "      cityCenters_nearest  parks_around3000  parks_nearest  ponds_around3000  \\\n",
              "19540              7877.0                 0            NaN                 2   \n",
              "\n",
              "       ponds_nearest  days_exposition  \n",
              "19540          318.0            106.0  \n",
              "\n",
              "[1 rows x 22 columns]"
            ]
          },
          "execution_count": 96,
          "metadata": {},
          "output_type": "execute_result"
        }
      ],
      "source": [
        "data.query('total_area == 900')"
      ]
    },
    {
      "cell_type": "markdown",
      "metadata": {
        "id": "ALKU-VhfzleP"
      },
      "source": [
        "После удаления некоторых строк, стоит сбросить индекс:"
      ]
    },
    {
      "cell_type": "code",
      "execution_count": null,
      "metadata": {
        "id": "70S_NUhxzleP"
      },
      "outputs": [],
      "source": [
        "data = data.reset_index(drop=True)"
      ]
    },
    {
      "cell_type": "markdown",
      "metadata": {
        "id": "VWu8hgVXzleP"
      },
      "source": [
        "</div>\n",
        "<div class=\"alert alert-block alert-info\">\n",
        "    Посмотрим, какая доля от изначального датасета осталась после предобработки:\n",
        "</div>"
      ]
    },
    {
      "cell_type": "code",
      "execution_count": null,
      "metadata": {
        "id": "JADu05PnzleQ",
        "outputId": "05208c8a-2907-4390-9b9f-8b35dae62100"
      },
      "outputs": [
        {
          "data": {
            "text/plain": [
              "23699"
            ]
          },
          "execution_count": 98,
          "metadata": {},
          "output_type": "execute_result"
        }
      ],
      "source": [
        "#размер изначального датасета:\n",
        "len(data_old)"
      ]
    },
    {
      "cell_type": "code",
      "execution_count": null,
      "metadata": {
        "id": "OA-d5euozleQ",
        "outputId": "77fbbcfa-cc26-4bb0-c5dc-67fee4c51a72"
      },
      "outputs": [
        {
          "data": {
            "text/plain": [
              "23608"
            ]
          },
          "execution_count": 99,
          "metadata": {},
          "output_type": "execute_result"
        }
      ],
      "source": [
        "#датасет после предобработки:\n",
        "len(data)"
      ]
    },
    {
      "cell_type": "markdown",
      "metadata": {
        "id": "oelEst79zleR"
      },
      "source": [
        "### Посчитаем и добавим в таблицу новые столбцы"
      ]
    },
    {
      "cell_type": "code",
      "execution_count": null,
      "metadata": {
        "id": "YPtCUkx-zleR",
        "outputId": "7def1e5b-02cf-41a8-e73a-0bcefac70c9e"
      },
      "outputs": [
        {
          "data": {
            "text/html": [
              "<div>\n",
              "<style scoped>\n",
              "    .dataframe tbody tr th:only-of-type {\n",
              "        vertical-align: middle;\n",
              "    }\n",
              "\n",
              "    .dataframe tbody tr th {\n",
              "        vertical-align: top;\n",
              "    }\n",
              "\n",
              "    .dataframe thead th {\n",
              "        text-align: right;\n",
              "    }\n",
              "</style>\n",
              "<table border=\"1\" class=\"dataframe\">\n",
              "  <thead>\n",
              "    <tr style=\"text-align: right;\">\n",
              "      <th></th>\n",
              "      <th>total_images</th>\n",
              "      <th>last_price</th>\n",
              "      <th>total_area</th>\n",
              "      <th>first_day_exposition</th>\n",
              "      <th>rooms</th>\n",
              "      <th>ceiling_height</th>\n",
              "      <th>floors_total</th>\n",
              "      <th>living_area</th>\n",
              "      <th>floor</th>\n",
              "      <th>is_apartment</th>\n",
              "      <th>...</th>\n",
              "      <th>balcony</th>\n",
              "      <th>locality_name</th>\n",
              "      <th>airports_nearest</th>\n",
              "      <th>cityCenters_nearest</th>\n",
              "      <th>parks_around3000</th>\n",
              "      <th>parks_nearest</th>\n",
              "      <th>ponds_around3000</th>\n",
              "      <th>ponds_nearest</th>\n",
              "      <th>days_exposition</th>\n",
              "      <th>sq_m_price</th>\n",
              "    </tr>\n",
              "  </thead>\n",
              "  <tbody>\n",
              "    <tr>\n",
              "      <th>0</th>\n",
              "      <td>20</td>\n",
              "      <td>13000000.0</td>\n",
              "      <td>108.0</td>\n",
              "      <td>2019-03-07</td>\n",
              "      <td>3</td>\n",
              "      <td>2.70</td>\n",
              "      <td>16.0</td>\n",
              "      <td>51.000000</td>\n",
              "      <td>8</td>\n",
              "      <td>False</td>\n",
              "      <td>...</td>\n",
              "      <td>0</td>\n",
              "      <td>Санкт-Петербург</td>\n",
              "      <td>18863.0</td>\n",
              "      <td>16028.0</td>\n",
              "      <td>1</td>\n",
              "      <td>482.0</td>\n",
              "      <td>2</td>\n",
              "      <td>755.0</td>\n",
              "      <td>NaN</td>\n",
              "      <td>120370.37</td>\n",
              "    </tr>\n",
              "    <tr>\n",
              "      <th>1</th>\n",
              "      <td>7</td>\n",
              "      <td>3350000.0</td>\n",
              "      <td>40.4</td>\n",
              "      <td>2018-12-04</td>\n",
              "      <td>1</td>\n",
              "      <td>2.65</td>\n",
              "      <td>11.0</td>\n",
              "      <td>18.600000</td>\n",
              "      <td>1</td>\n",
              "      <td>False</td>\n",
              "      <td>...</td>\n",
              "      <td>2</td>\n",
              "      <td>поселок Шушары</td>\n",
              "      <td>12817.0</td>\n",
              "      <td>18603.0</td>\n",
              "      <td>0</td>\n",
              "      <td>NaN</td>\n",
              "      <td>0</td>\n",
              "      <td>NaN</td>\n",
              "      <td>81.0</td>\n",
              "      <td>82920.79</td>\n",
              "    </tr>\n",
              "    <tr>\n",
              "      <th>2</th>\n",
              "      <td>10</td>\n",
              "      <td>5196000.0</td>\n",
              "      <td>56.0</td>\n",
              "      <td>2015-08-20</td>\n",
              "      <td>2</td>\n",
              "      <td>2.65</td>\n",
              "      <td>5.0</td>\n",
              "      <td>34.300000</td>\n",
              "      <td>4</td>\n",
              "      <td>False</td>\n",
              "      <td>...</td>\n",
              "      <td>0</td>\n",
              "      <td>Санкт-Петербург</td>\n",
              "      <td>21741.0</td>\n",
              "      <td>13933.0</td>\n",
              "      <td>1</td>\n",
              "      <td>90.0</td>\n",
              "      <td>2</td>\n",
              "      <td>574.0</td>\n",
              "      <td>558.0</td>\n",
              "      <td>92785.71</td>\n",
              "    </tr>\n",
              "    <tr>\n",
              "      <th>3</th>\n",
              "      <td>0</td>\n",
              "      <td>64900000.0</td>\n",
              "      <td>159.0</td>\n",
              "      <td>2015-07-24</td>\n",
              "      <td>3</td>\n",
              "      <td>2.65</td>\n",
              "      <td>14.0</td>\n",
              "      <td>91.730769</td>\n",
              "      <td>9</td>\n",
              "      <td>False</td>\n",
              "      <td>...</td>\n",
              "      <td>0</td>\n",
              "      <td>Санкт-Петербург</td>\n",
              "      <td>28098.0</td>\n",
              "      <td>6800.0</td>\n",
              "      <td>2</td>\n",
              "      <td>84.0</td>\n",
              "      <td>3</td>\n",
              "      <td>234.0</td>\n",
              "      <td>424.0</td>\n",
              "      <td>408176.10</td>\n",
              "    </tr>\n",
              "    <tr>\n",
              "      <th>4</th>\n",
              "      <td>2</td>\n",
              "      <td>10000000.0</td>\n",
              "      <td>100.0</td>\n",
              "      <td>2018-06-19</td>\n",
              "      <td>2</td>\n",
              "      <td>3.03</td>\n",
              "      <td>14.0</td>\n",
              "      <td>32.000000</td>\n",
              "      <td>13</td>\n",
              "      <td>False</td>\n",
              "      <td>...</td>\n",
              "      <td>0</td>\n",
              "      <td>Санкт-Петербург</td>\n",
              "      <td>31856.0</td>\n",
              "      <td>8098.0</td>\n",
              "      <td>2</td>\n",
              "      <td>112.0</td>\n",
              "      <td>1</td>\n",
              "      <td>48.0</td>\n",
              "      <td>121.0</td>\n",
              "      <td>100000.00</td>\n",
              "    </tr>\n",
              "  </tbody>\n",
              "</table>\n",
              "<p>5 rows × 23 columns</p>\n",
              "</div>"
            ],
            "text/plain": [
              "   total_images  last_price  total_area first_day_exposition  rooms  \\\n",
              "0            20  13000000.0       108.0           2019-03-07      3   \n",
              "1             7   3350000.0        40.4           2018-12-04      1   \n",
              "2            10   5196000.0        56.0           2015-08-20      2   \n",
              "3             0  64900000.0       159.0           2015-07-24      3   \n",
              "4             2  10000000.0       100.0           2018-06-19      2   \n",
              "\n",
              "   ceiling_height  floors_total  living_area  floor  is_apartment  ...  \\\n",
              "0            2.70          16.0    51.000000      8         False  ...   \n",
              "1            2.65          11.0    18.600000      1         False  ...   \n",
              "2            2.65           5.0    34.300000      4         False  ...   \n",
              "3            2.65          14.0    91.730769      9         False  ...   \n",
              "4            3.03          14.0    32.000000     13         False  ...   \n",
              "\n",
              "   balcony    locality_name  airports_nearest  cityCenters_nearest  \\\n",
              "0        0  Санкт-Петербург           18863.0              16028.0   \n",
              "1        2   поселок Шушары           12817.0              18603.0   \n",
              "2        0  Санкт-Петербург           21741.0              13933.0   \n",
              "3        0  Санкт-Петербург           28098.0               6800.0   \n",
              "4        0  Санкт-Петербург           31856.0               8098.0   \n",
              "\n",
              "  parks_around3000  parks_nearest  ponds_around3000  ponds_nearest  \\\n",
              "0                1          482.0                 2          755.0   \n",
              "1                0            NaN                 0            NaN   \n",
              "2                1           90.0                 2          574.0   \n",
              "3                2           84.0                 3          234.0   \n",
              "4                2          112.0                 1           48.0   \n",
              "\n",
              "   days_exposition  sq_m_price  \n",
              "0              NaN   120370.37  \n",
              "1             81.0    82920.79  \n",
              "2            558.0    92785.71  \n",
              "3            424.0   408176.10  \n",
              "4            121.0   100000.00  \n",
              "\n",
              "[5 rows x 23 columns]"
            ]
          },
          "execution_count": 101,
          "metadata": {},
          "output_type": "execute_result"
        }
      ],
      "source": [
        "#цена одного квадратного метра\n",
        "data['sq_m_price'] = data['last_price'] / data['total_area']\n",
        "data['sq_m_price'] = data['sq_m_price'].round(2)\n",
        "data.head()"
      ]
    },
    {
      "cell_type": "code",
      "execution_count": null,
      "metadata": {
        "id": "BWocWopJzleR",
        "outputId": "538b4112-a0b2-440f-ba51-1b14ded341e5"
      },
      "outputs": [
        {
          "data": {
            "text/html": [
              "<div>\n",
              "<style scoped>\n",
              "    .dataframe tbody tr th:only-of-type {\n",
              "        vertical-align: middle;\n",
              "    }\n",
              "\n",
              "    .dataframe tbody tr th {\n",
              "        vertical-align: top;\n",
              "    }\n",
              "\n",
              "    .dataframe thead th {\n",
              "        text-align: right;\n",
              "    }\n",
              "</style>\n",
              "<table border=\"1\" class=\"dataframe\">\n",
              "  <thead>\n",
              "    <tr style=\"text-align: right;\">\n",
              "      <th></th>\n",
              "      <th>total_images</th>\n",
              "      <th>last_price</th>\n",
              "      <th>total_area</th>\n",
              "      <th>first_day_exposition</th>\n",
              "      <th>rooms</th>\n",
              "      <th>ceiling_height</th>\n",
              "      <th>floors_total</th>\n",
              "      <th>living_area</th>\n",
              "      <th>floor</th>\n",
              "      <th>is_apartment</th>\n",
              "      <th>...</th>\n",
              "      <th>locality_name</th>\n",
              "      <th>airports_nearest</th>\n",
              "      <th>cityCenters_nearest</th>\n",
              "      <th>parks_around3000</th>\n",
              "      <th>parks_nearest</th>\n",
              "      <th>ponds_around3000</th>\n",
              "      <th>ponds_nearest</th>\n",
              "      <th>days_exposition</th>\n",
              "      <th>sq_m_price</th>\n",
              "      <th>weekday</th>\n",
              "    </tr>\n",
              "  </thead>\n",
              "  <tbody>\n",
              "    <tr>\n",
              "      <th>0</th>\n",
              "      <td>20</td>\n",
              "      <td>13000000.0</td>\n",
              "      <td>108.0</td>\n",
              "      <td>2019-03-07</td>\n",
              "      <td>3</td>\n",
              "      <td>2.70</td>\n",
              "      <td>16.0</td>\n",
              "      <td>51.000000</td>\n",
              "      <td>8</td>\n",
              "      <td>False</td>\n",
              "      <td>...</td>\n",
              "      <td>Санкт-Петербург</td>\n",
              "      <td>18863.0</td>\n",
              "      <td>16028.0</td>\n",
              "      <td>1</td>\n",
              "      <td>482.0</td>\n",
              "      <td>2</td>\n",
              "      <td>755.0</td>\n",
              "      <td>NaN</td>\n",
              "      <td>120370.37</td>\n",
              "      <td>3</td>\n",
              "    </tr>\n",
              "    <tr>\n",
              "      <th>1</th>\n",
              "      <td>7</td>\n",
              "      <td>3350000.0</td>\n",
              "      <td>40.4</td>\n",
              "      <td>2018-12-04</td>\n",
              "      <td>1</td>\n",
              "      <td>2.65</td>\n",
              "      <td>11.0</td>\n",
              "      <td>18.600000</td>\n",
              "      <td>1</td>\n",
              "      <td>False</td>\n",
              "      <td>...</td>\n",
              "      <td>поселок Шушары</td>\n",
              "      <td>12817.0</td>\n",
              "      <td>18603.0</td>\n",
              "      <td>0</td>\n",
              "      <td>NaN</td>\n",
              "      <td>0</td>\n",
              "      <td>NaN</td>\n",
              "      <td>81.0</td>\n",
              "      <td>82920.79</td>\n",
              "      <td>1</td>\n",
              "    </tr>\n",
              "    <tr>\n",
              "      <th>2</th>\n",
              "      <td>10</td>\n",
              "      <td>5196000.0</td>\n",
              "      <td>56.0</td>\n",
              "      <td>2015-08-20</td>\n",
              "      <td>2</td>\n",
              "      <td>2.65</td>\n",
              "      <td>5.0</td>\n",
              "      <td>34.300000</td>\n",
              "      <td>4</td>\n",
              "      <td>False</td>\n",
              "      <td>...</td>\n",
              "      <td>Санкт-Петербург</td>\n",
              "      <td>21741.0</td>\n",
              "      <td>13933.0</td>\n",
              "      <td>1</td>\n",
              "      <td>90.0</td>\n",
              "      <td>2</td>\n",
              "      <td>574.0</td>\n",
              "      <td>558.0</td>\n",
              "      <td>92785.71</td>\n",
              "      <td>3</td>\n",
              "    </tr>\n",
              "    <tr>\n",
              "      <th>3</th>\n",
              "      <td>0</td>\n",
              "      <td>64900000.0</td>\n",
              "      <td>159.0</td>\n",
              "      <td>2015-07-24</td>\n",
              "      <td>3</td>\n",
              "      <td>2.65</td>\n",
              "      <td>14.0</td>\n",
              "      <td>91.730769</td>\n",
              "      <td>9</td>\n",
              "      <td>False</td>\n",
              "      <td>...</td>\n",
              "      <td>Санкт-Петербург</td>\n",
              "      <td>28098.0</td>\n",
              "      <td>6800.0</td>\n",
              "      <td>2</td>\n",
              "      <td>84.0</td>\n",
              "      <td>3</td>\n",
              "      <td>234.0</td>\n",
              "      <td>424.0</td>\n",
              "      <td>408176.10</td>\n",
              "      <td>4</td>\n",
              "    </tr>\n",
              "    <tr>\n",
              "      <th>4</th>\n",
              "      <td>2</td>\n",
              "      <td>10000000.0</td>\n",
              "      <td>100.0</td>\n",
              "      <td>2018-06-19</td>\n",
              "      <td>2</td>\n",
              "      <td>3.03</td>\n",
              "      <td>14.0</td>\n",
              "      <td>32.000000</td>\n",
              "      <td>13</td>\n",
              "      <td>False</td>\n",
              "      <td>...</td>\n",
              "      <td>Санкт-Петербург</td>\n",
              "      <td>31856.0</td>\n",
              "      <td>8098.0</td>\n",
              "      <td>2</td>\n",
              "      <td>112.0</td>\n",
              "      <td>1</td>\n",
              "      <td>48.0</td>\n",
              "      <td>121.0</td>\n",
              "      <td>100000.00</td>\n",
              "      <td>1</td>\n",
              "    </tr>\n",
              "  </tbody>\n",
              "</table>\n",
              "<p>5 rows × 24 columns</p>\n",
              "</div>"
            ],
            "text/plain": [
              "   total_images  last_price  total_area first_day_exposition  rooms  \\\n",
              "0            20  13000000.0       108.0           2019-03-07      3   \n",
              "1             7   3350000.0        40.4           2018-12-04      1   \n",
              "2            10   5196000.0        56.0           2015-08-20      2   \n",
              "3             0  64900000.0       159.0           2015-07-24      3   \n",
              "4             2  10000000.0       100.0           2018-06-19      2   \n",
              "\n",
              "   ceiling_height  floors_total  living_area  floor  is_apartment  ...  \\\n",
              "0            2.70          16.0    51.000000      8         False  ...   \n",
              "1            2.65          11.0    18.600000      1         False  ...   \n",
              "2            2.65           5.0    34.300000      4         False  ...   \n",
              "3            2.65          14.0    91.730769      9         False  ...   \n",
              "4            3.03          14.0    32.000000     13         False  ...   \n",
              "\n",
              "     locality_name  airports_nearest  cityCenters_nearest  parks_around3000  \\\n",
              "0  Санкт-Петербург           18863.0              16028.0                 1   \n",
              "1   поселок Шушары           12817.0              18603.0                 0   \n",
              "2  Санкт-Петербург           21741.0              13933.0                 1   \n",
              "3  Санкт-Петербург           28098.0               6800.0                 2   \n",
              "4  Санкт-Петербург           31856.0               8098.0                 2   \n",
              "\n",
              "  parks_nearest  ponds_around3000  ponds_nearest  days_exposition  sq_m_price  \\\n",
              "0         482.0                 2          755.0              NaN   120370.37   \n",
              "1           NaN                 0            NaN             81.0    82920.79   \n",
              "2          90.0                 2          574.0            558.0    92785.71   \n",
              "3          84.0                 3          234.0            424.0   408176.10   \n",
              "4         112.0                 1           48.0            121.0   100000.00   \n",
              "\n",
              "   weekday  \n",
              "0        3  \n",
              "1        1  \n",
              "2        3  \n",
              "3        4  \n",
              "4        1  \n",
              "\n",
              "[5 rows x 24 columns]"
            ]
          },
          "execution_count": 102,
          "metadata": {},
          "output_type": "execute_result"
        }
      ],
      "source": [
        "#день недели\n",
        "data['weekday'] = data['first_day_exposition'].dt.weekday\n",
        "data.head()"
      ]
    },
    {
      "cell_type": "code",
      "execution_count": null,
      "metadata": {
        "id": "J_vlJDxJzleS",
        "outputId": "62ea870b-67dc-4803-ef6a-faa7217f8379"
      },
      "outputs": [
        {
          "data": {
            "text/html": [
              "<div>\n",
              "<style scoped>\n",
              "    .dataframe tbody tr th:only-of-type {\n",
              "        vertical-align: middle;\n",
              "    }\n",
              "\n",
              "    .dataframe tbody tr th {\n",
              "        vertical-align: top;\n",
              "    }\n",
              "\n",
              "    .dataframe thead th {\n",
              "        text-align: right;\n",
              "    }\n",
              "</style>\n",
              "<table border=\"1\" class=\"dataframe\">\n",
              "  <thead>\n",
              "    <tr style=\"text-align: right;\">\n",
              "      <th></th>\n",
              "      <th>total_images</th>\n",
              "      <th>last_price</th>\n",
              "      <th>total_area</th>\n",
              "      <th>first_day_exposition</th>\n",
              "      <th>rooms</th>\n",
              "      <th>ceiling_height</th>\n",
              "      <th>floors_total</th>\n",
              "      <th>living_area</th>\n",
              "      <th>floor</th>\n",
              "      <th>is_apartment</th>\n",
              "      <th>...</th>\n",
              "      <th>airports_nearest</th>\n",
              "      <th>cityCenters_nearest</th>\n",
              "      <th>parks_around3000</th>\n",
              "      <th>parks_nearest</th>\n",
              "      <th>ponds_around3000</th>\n",
              "      <th>ponds_nearest</th>\n",
              "      <th>days_exposition</th>\n",
              "      <th>sq_m_price</th>\n",
              "      <th>weekday</th>\n",
              "      <th>month</th>\n",
              "    </tr>\n",
              "  </thead>\n",
              "  <tbody>\n",
              "    <tr>\n",
              "      <th>0</th>\n",
              "      <td>20</td>\n",
              "      <td>13000000.0</td>\n",
              "      <td>108.0</td>\n",
              "      <td>2019-03-07</td>\n",
              "      <td>3</td>\n",
              "      <td>2.70</td>\n",
              "      <td>16.0</td>\n",
              "      <td>51.000000</td>\n",
              "      <td>8</td>\n",
              "      <td>False</td>\n",
              "      <td>...</td>\n",
              "      <td>18863.0</td>\n",
              "      <td>16028.0</td>\n",
              "      <td>1</td>\n",
              "      <td>482.0</td>\n",
              "      <td>2</td>\n",
              "      <td>755.0</td>\n",
              "      <td>NaN</td>\n",
              "      <td>120370.37</td>\n",
              "      <td>3</td>\n",
              "      <td>3</td>\n",
              "    </tr>\n",
              "    <tr>\n",
              "      <th>1</th>\n",
              "      <td>7</td>\n",
              "      <td>3350000.0</td>\n",
              "      <td>40.4</td>\n",
              "      <td>2018-12-04</td>\n",
              "      <td>1</td>\n",
              "      <td>2.65</td>\n",
              "      <td>11.0</td>\n",
              "      <td>18.600000</td>\n",
              "      <td>1</td>\n",
              "      <td>False</td>\n",
              "      <td>...</td>\n",
              "      <td>12817.0</td>\n",
              "      <td>18603.0</td>\n",
              "      <td>0</td>\n",
              "      <td>NaN</td>\n",
              "      <td>0</td>\n",
              "      <td>NaN</td>\n",
              "      <td>81.0</td>\n",
              "      <td>82920.79</td>\n",
              "      <td>1</td>\n",
              "      <td>12</td>\n",
              "    </tr>\n",
              "    <tr>\n",
              "      <th>2</th>\n",
              "      <td>10</td>\n",
              "      <td>5196000.0</td>\n",
              "      <td>56.0</td>\n",
              "      <td>2015-08-20</td>\n",
              "      <td>2</td>\n",
              "      <td>2.65</td>\n",
              "      <td>5.0</td>\n",
              "      <td>34.300000</td>\n",
              "      <td>4</td>\n",
              "      <td>False</td>\n",
              "      <td>...</td>\n",
              "      <td>21741.0</td>\n",
              "      <td>13933.0</td>\n",
              "      <td>1</td>\n",
              "      <td>90.0</td>\n",
              "      <td>2</td>\n",
              "      <td>574.0</td>\n",
              "      <td>558.0</td>\n",
              "      <td>92785.71</td>\n",
              "      <td>3</td>\n",
              "      <td>8</td>\n",
              "    </tr>\n",
              "    <tr>\n",
              "      <th>3</th>\n",
              "      <td>0</td>\n",
              "      <td>64900000.0</td>\n",
              "      <td>159.0</td>\n",
              "      <td>2015-07-24</td>\n",
              "      <td>3</td>\n",
              "      <td>2.65</td>\n",
              "      <td>14.0</td>\n",
              "      <td>91.730769</td>\n",
              "      <td>9</td>\n",
              "      <td>False</td>\n",
              "      <td>...</td>\n",
              "      <td>28098.0</td>\n",
              "      <td>6800.0</td>\n",
              "      <td>2</td>\n",
              "      <td>84.0</td>\n",
              "      <td>3</td>\n",
              "      <td>234.0</td>\n",
              "      <td>424.0</td>\n",
              "      <td>408176.10</td>\n",
              "      <td>4</td>\n",
              "      <td>7</td>\n",
              "    </tr>\n",
              "    <tr>\n",
              "      <th>4</th>\n",
              "      <td>2</td>\n",
              "      <td>10000000.0</td>\n",
              "      <td>100.0</td>\n",
              "      <td>2018-06-19</td>\n",
              "      <td>2</td>\n",
              "      <td>3.03</td>\n",
              "      <td>14.0</td>\n",
              "      <td>32.000000</td>\n",
              "      <td>13</td>\n",
              "      <td>False</td>\n",
              "      <td>...</td>\n",
              "      <td>31856.0</td>\n",
              "      <td>8098.0</td>\n",
              "      <td>2</td>\n",
              "      <td>112.0</td>\n",
              "      <td>1</td>\n",
              "      <td>48.0</td>\n",
              "      <td>121.0</td>\n",
              "      <td>100000.00</td>\n",
              "      <td>1</td>\n",
              "      <td>6</td>\n",
              "    </tr>\n",
              "  </tbody>\n",
              "</table>\n",
              "<p>5 rows × 25 columns</p>\n",
              "</div>"
            ],
            "text/plain": [
              "   total_images  last_price  total_area first_day_exposition  rooms  \\\n",
              "0            20  13000000.0       108.0           2019-03-07      3   \n",
              "1             7   3350000.0        40.4           2018-12-04      1   \n",
              "2            10   5196000.0        56.0           2015-08-20      2   \n",
              "3             0  64900000.0       159.0           2015-07-24      3   \n",
              "4             2  10000000.0       100.0           2018-06-19      2   \n",
              "\n",
              "   ceiling_height  floors_total  living_area  floor  is_apartment  ...  \\\n",
              "0            2.70          16.0    51.000000      8         False  ...   \n",
              "1            2.65          11.0    18.600000      1         False  ...   \n",
              "2            2.65           5.0    34.300000      4         False  ...   \n",
              "3            2.65          14.0    91.730769      9         False  ...   \n",
              "4            3.03          14.0    32.000000     13         False  ...   \n",
              "\n",
              "   airports_nearest  cityCenters_nearest  parks_around3000  parks_nearest  \\\n",
              "0           18863.0              16028.0                 1          482.0   \n",
              "1           12817.0              18603.0                 0            NaN   \n",
              "2           21741.0              13933.0                 1           90.0   \n",
              "3           28098.0               6800.0                 2           84.0   \n",
              "4           31856.0               8098.0                 2          112.0   \n",
              "\n",
              "  ponds_around3000  ponds_nearest  days_exposition  sq_m_price  weekday  month  \n",
              "0                2          755.0              NaN   120370.37        3      3  \n",
              "1                0            NaN             81.0    82920.79        1     12  \n",
              "2                2          574.0            558.0    92785.71        3      8  \n",
              "3                3          234.0            424.0   408176.10        4      7  \n",
              "4                1           48.0            121.0   100000.00        1      6  \n",
              "\n",
              "[5 rows x 25 columns]"
            ]
          },
          "execution_count": 103,
          "metadata": {},
          "output_type": "execute_result"
        }
      ],
      "source": [
        "#месяц\n",
        "data['month'] = data['first_day_exposition'].dt.month\n",
        "data.head()"
      ]
    },
    {
      "cell_type": "code",
      "execution_count": null,
      "metadata": {
        "id": "HJDgJPXmzleS",
        "outputId": "69a70e66-a832-4a69-89dd-b349a1262c92"
      },
      "outputs": [
        {
          "data": {
            "text/html": [
              "<div>\n",
              "<style scoped>\n",
              "    .dataframe tbody tr th:only-of-type {\n",
              "        vertical-align: middle;\n",
              "    }\n",
              "\n",
              "    .dataframe tbody tr th {\n",
              "        vertical-align: top;\n",
              "    }\n",
              "\n",
              "    .dataframe thead th {\n",
              "        text-align: right;\n",
              "    }\n",
              "</style>\n",
              "<table border=\"1\" class=\"dataframe\">\n",
              "  <thead>\n",
              "    <tr style=\"text-align: right;\">\n",
              "      <th></th>\n",
              "      <th>total_images</th>\n",
              "      <th>last_price</th>\n",
              "      <th>total_area</th>\n",
              "      <th>first_day_exposition</th>\n",
              "      <th>rooms</th>\n",
              "      <th>ceiling_height</th>\n",
              "      <th>floors_total</th>\n",
              "      <th>living_area</th>\n",
              "      <th>floor</th>\n",
              "      <th>is_apartment</th>\n",
              "      <th>...</th>\n",
              "      <th>cityCenters_nearest</th>\n",
              "      <th>parks_around3000</th>\n",
              "      <th>parks_nearest</th>\n",
              "      <th>ponds_around3000</th>\n",
              "      <th>ponds_nearest</th>\n",
              "      <th>days_exposition</th>\n",
              "      <th>sq_m_price</th>\n",
              "      <th>weekday</th>\n",
              "      <th>month</th>\n",
              "      <th>year</th>\n",
              "    </tr>\n",
              "  </thead>\n",
              "  <tbody>\n",
              "    <tr>\n",
              "      <th>0</th>\n",
              "      <td>20</td>\n",
              "      <td>13000000.0</td>\n",
              "      <td>108.0</td>\n",
              "      <td>2019-03-07</td>\n",
              "      <td>3</td>\n",
              "      <td>2.70</td>\n",
              "      <td>16.0</td>\n",
              "      <td>51.000000</td>\n",
              "      <td>8</td>\n",
              "      <td>False</td>\n",
              "      <td>...</td>\n",
              "      <td>16028.0</td>\n",
              "      <td>1</td>\n",
              "      <td>482.0</td>\n",
              "      <td>2</td>\n",
              "      <td>755.0</td>\n",
              "      <td>NaN</td>\n",
              "      <td>120370.37</td>\n",
              "      <td>3</td>\n",
              "      <td>3</td>\n",
              "      <td>2019</td>\n",
              "    </tr>\n",
              "    <tr>\n",
              "      <th>1</th>\n",
              "      <td>7</td>\n",
              "      <td>3350000.0</td>\n",
              "      <td>40.4</td>\n",
              "      <td>2018-12-04</td>\n",
              "      <td>1</td>\n",
              "      <td>2.65</td>\n",
              "      <td>11.0</td>\n",
              "      <td>18.600000</td>\n",
              "      <td>1</td>\n",
              "      <td>False</td>\n",
              "      <td>...</td>\n",
              "      <td>18603.0</td>\n",
              "      <td>0</td>\n",
              "      <td>NaN</td>\n",
              "      <td>0</td>\n",
              "      <td>NaN</td>\n",
              "      <td>81.0</td>\n",
              "      <td>82920.79</td>\n",
              "      <td>1</td>\n",
              "      <td>12</td>\n",
              "      <td>2018</td>\n",
              "    </tr>\n",
              "    <tr>\n",
              "      <th>2</th>\n",
              "      <td>10</td>\n",
              "      <td>5196000.0</td>\n",
              "      <td>56.0</td>\n",
              "      <td>2015-08-20</td>\n",
              "      <td>2</td>\n",
              "      <td>2.65</td>\n",
              "      <td>5.0</td>\n",
              "      <td>34.300000</td>\n",
              "      <td>4</td>\n",
              "      <td>False</td>\n",
              "      <td>...</td>\n",
              "      <td>13933.0</td>\n",
              "      <td>1</td>\n",
              "      <td>90.0</td>\n",
              "      <td>2</td>\n",
              "      <td>574.0</td>\n",
              "      <td>558.0</td>\n",
              "      <td>92785.71</td>\n",
              "      <td>3</td>\n",
              "      <td>8</td>\n",
              "      <td>2015</td>\n",
              "    </tr>\n",
              "    <tr>\n",
              "      <th>3</th>\n",
              "      <td>0</td>\n",
              "      <td>64900000.0</td>\n",
              "      <td>159.0</td>\n",
              "      <td>2015-07-24</td>\n",
              "      <td>3</td>\n",
              "      <td>2.65</td>\n",
              "      <td>14.0</td>\n",
              "      <td>91.730769</td>\n",
              "      <td>9</td>\n",
              "      <td>False</td>\n",
              "      <td>...</td>\n",
              "      <td>6800.0</td>\n",
              "      <td>2</td>\n",
              "      <td>84.0</td>\n",
              "      <td>3</td>\n",
              "      <td>234.0</td>\n",
              "      <td>424.0</td>\n",
              "      <td>408176.10</td>\n",
              "      <td>4</td>\n",
              "      <td>7</td>\n",
              "      <td>2015</td>\n",
              "    </tr>\n",
              "    <tr>\n",
              "      <th>4</th>\n",
              "      <td>2</td>\n",
              "      <td>10000000.0</td>\n",
              "      <td>100.0</td>\n",
              "      <td>2018-06-19</td>\n",
              "      <td>2</td>\n",
              "      <td>3.03</td>\n",
              "      <td>14.0</td>\n",
              "      <td>32.000000</td>\n",
              "      <td>13</td>\n",
              "      <td>False</td>\n",
              "      <td>...</td>\n",
              "      <td>8098.0</td>\n",
              "      <td>2</td>\n",
              "      <td>112.0</td>\n",
              "      <td>1</td>\n",
              "      <td>48.0</td>\n",
              "      <td>121.0</td>\n",
              "      <td>100000.00</td>\n",
              "      <td>1</td>\n",
              "      <td>6</td>\n",
              "      <td>2018</td>\n",
              "    </tr>\n",
              "  </tbody>\n",
              "</table>\n",
              "<p>5 rows × 26 columns</p>\n",
              "</div>"
            ],
            "text/plain": [
              "   total_images  last_price  total_area first_day_exposition  rooms  \\\n",
              "0            20  13000000.0       108.0           2019-03-07      3   \n",
              "1             7   3350000.0        40.4           2018-12-04      1   \n",
              "2            10   5196000.0        56.0           2015-08-20      2   \n",
              "3             0  64900000.0       159.0           2015-07-24      3   \n",
              "4             2  10000000.0       100.0           2018-06-19      2   \n",
              "\n",
              "   ceiling_height  floors_total  living_area  floor  is_apartment  ...  \\\n",
              "0            2.70          16.0    51.000000      8         False  ...   \n",
              "1            2.65          11.0    18.600000      1         False  ...   \n",
              "2            2.65           5.0    34.300000      4         False  ...   \n",
              "3            2.65          14.0    91.730769      9         False  ...   \n",
              "4            3.03          14.0    32.000000     13         False  ...   \n",
              "\n",
              "   cityCenters_nearest  parks_around3000  parks_nearest  ponds_around3000  \\\n",
              "0              16028.0                 1          482.0                 2   \n",
              "1              18603.0                 0            NaN                 0   \n",
              "2              13933.0                 1           90.0                 2   \n",
              "3               6800.0                 2           84.0                 3   \n",
              "4               8098.0                 2          112.0                 1   \n",
              "\n",
              "  ponds_nearest  days_exposition  sq_m_price  weekday  month  year  \n",
              "0         755.0              NaN   120370.37        3      3  2019  \n",
              "1           NaN             81.0    82920.79        1     12  2018  \n",
              "2         574.0            558.0    92785.71        3      8  2015  \n",
              "3         234.0            424.0   408176.10        4      7  2015  \n",
              "4          48.0            121.0   100000.00        1      6  2018  \n",
              "\n",
              "[5 rows x 26 columns]"
            ]
          },
          "execution_count": 104,
          "metadata": {},
          "output_type": "execute_result"
        }
      ],
      "source": [
        "#год\n",
        "data['year'] = data['first_day_exposition'].dt.year\n",
        "data.head()"
      ]
    },
    {
      "cell_type": "code",
      "execution_count": null,
      "metadata": {
        "id": "Jsj84x0OzleS",
        "outputId": "a897ca33-d00c-4e2b-b7cf-44ae751db99d"
      },
      "outputs": [
        {
          "data": {
            "text/html": [
              "<div>\n",
              "<style scoped>\n",
              "    .dataframe tbody tr th:only-of-type {\n",
              "        vertical-align: middle;\n",
              "    }\n",
              "\n",
              "    .dataframe tbody tr th {\n",
              "        vertical-align: top;\n",
              "    }\n",
              "\n",
              "    .dataframe thead th {\n",
              "        text-align: right;\n",
              "    }\n",
              "</style>\n",
              "<table border=\"1\" class=\"dataframe\">\n",
              "  <thead>\n",
              "    <tr style=\"text-align: right;\">\n",
              "      <th></th>\n",
              "      <th>total_images</th>\n",
              "      <th>last_price</th>\n",
              "      <th>total_area</th>\n",
              "      <th>first_day_exposition</th>\n",
              "      <th>rooms</th>\n",
              "      <th>ceiling_height</th>\n",
              "      <th>floors_total</th>\n",
              "      <th>living_area</th>\n",
              "      <th>floor</th>\n",
              "      <th>is_apartment</th>\n",
              "      <th>...</th>\n",
              "      <th>parks_around3000</th>\n",
              "      <th>parks_nearest</th>\n",
              "      <th>ponds_around3000</th>\n",
              "      <th>ponds_nearest</th>\n",
              "      <th>days_exposition</th>\n",
              "      <th>sq_m_price</th>\n",
              "      <th>weekday</th>\n",
              "      <th>month</th>\n",
              "      <th>year</th>\n",
              "      <th>floor_type</th>\n",
              "    </tr>\n",
              "  </thead>\n",
              "  <tbody>\n",
              "    <tr>\n",
              "      <th>0</th>\n",
              "      <td>20</td>\n",
              "      <td>13000000.0</td>\n",
              "      <td>108.0</td>\n",
              "      <td>2019-03-07</td>\n",
              "      <td>3</td>\n",
              "      <td>2.70</td>\n",
              "      <td>16.0</td>\n",
              "      <td>51.000000</td>\n",
              "      <td>8</td>\n",
              "      <td>False</td>\n",
              "      <td>...</td>\n",
              "      <td>1</td>\n",
              "      <td>482.0</td>\n",
              "      <td>2</td>\n",
              "      <td>755.0</td>\n",
              "      <td>NaN</td>\n",
              "      <td>120370.37</td>\n",
              "      <td>3</td>\n",
              "      <td>3</td>\n",
              "      <td>2019</td>\n",
              "      <td>другой</td>\n",
              "    </tr>\n",
              "    <tr>\n",
              "      <th>1</th>\n",
              "      <td>7</td>\n",
              "      <td>3350000.0</td>\n",
              "      <td>40.4</td>\n",
              "      <td>2018-12-04</td>\n",
              "      <td>1</td>\n",
              "      <td>2.65</td>\n",
              "      <td>11.0</td>\n",
              "      <td>18.600000</td>\n",
              "      <td>1</td>\n",
              "      <td>False</td>\n",
              "      <td>...</td>\n",
              "      <td>0</td>\n",
              "      <td>NaN</td>\n",
              "      <td>0</td>\n",
              "      <td>NaN</td>\n",
              "      <td>81.0</td>\n",
              "      <td>82920.79</td>\n",
              "      <td>1</td>\n",
              "      <td>12</td>\n",
              "      <td>2018</td>\n",
              "      <td>первый</td>\n",
              "    </tr>\n",
              "    <tr>\n",
              "      <th>2</th>\n",
              "      <td>10</td>\n",
              "      <td>5196000.0</td>\n",
              "      <td>56.0</td>\n",
              "      <td>2015-08-20</td>\n",
              "      <td>2</td>\n",
              "      <td>2.65</td>\n",
              "      <td>5.0</td>\n",
              "      <td>34.300000</td>\n",
              "      <td>4</td>\n",
              "      <td>False</td>\n",
              "      <td>...</td>\n",
              "      <td>1</td>\n",
              "      <td>90.0</td>\n",
              "      <td>2</td>\n",
              "      <td>574.0</td>\n",
              "      <td>558.0</td>\n",
              "      <td>92785.71</td>\n",
              "      <td>3</td>\n",
              "      <td>8</td>\n",
              "      <td>2015</td>\n",
              "      <td>другой</td>\n",
              "    </tr>\n",
              "    <tr>\n",
              "      <th>3</th>\n",
              "      <td>0</td>\n",
              "      <td>64900000.0</td>\n",
              "      <td>159.0</td>\n",
              "      <td>2015-07-24</td>\n",
              "      <td>3</td>\n",
              "      <td>2.65</td>\n",
              "      <td>14.0</td>\n",
              "      <td>91.730769</td>\n",
              "      <td>9</td>\n",
              "      <td>False</td>\n",
              "      <td>...</td>\n",
              "      <td>2</td>\n",
              "      <td>84.0</td>\n",
              "      <td>3</td>\n",
              "      <td>234.0</td>\n",
              "      <td>424.0</td>\n",
              "      <td>408176.10</td>\n",
              "      <td>4</td>\n",
              "      <td>7</td>\n",
              "      <td>2015</td>\n",
              "      <td>другой</td>\n",
              "    </tr>\n",
              "    <tr>\n",
              "      <th>4</th>\n",
              "      <td>2</td>\n",
              "      <td>10000000.0</td>\n",
              "      <td>100.0</td>\n",
              "      <td>2018-06-19</td>\n",
              "      <td>2</td>\n",
              "      <td>3.03</td>\n",
              "      <td>14.0</td>\n",
              "      <td>32.000000</td>\n",
              "      <td>13</td>\n",
              "      <td>False</td>\n",
              "      <td>...</td>\n",
              "      <td>2</td>\n",
              "      <td>112.0</td>\n",
              "      <td>1</td>\n",
              "      <td>48.0</td>\n",
              "      <td>121.0</td>\n",
              "      <td>100000.00</td>\n",
              "      <td>1</td>\n",
              "      <td>6</td>\n",
              "      <td>2018</td>\n",
              "      <td>другой</td>\n",
              "    </tr>\n",
              "  </tbody>\n",
              "</table>\n",
              "<p>5 rows × 27 columns</p>\n",
              "</div>"
            ],
            "text/plain": [
              "   total_images  last_price  total_area first_day_exposition  rooms  \\\n",
              "0            20  13000000.0       108.0           2019-03-07      3   \n",
              "1             7   3350000.0        40.4           2018-12-04      1   \n",
              "2            10   5196000.0        56.0           2015-08-20      2   \n",
              "3             0  64900000.0       159.0           2015-07-24      3   \n",
              "4             2  10000000.0       100.0           2018-06-19      2   \n",
              "\n",
              "   ceiling_height  floors_total  living_area  floor  is_apartment  ...  \\\n",
              "0            2.70          16.0    51.000000      8         False  ...   \n",
              "1            2.65          11.0    18.600000      1         False  ...   \n",
              "2            2.65           5.0    34.300000      4         False  ...   \n",
              "3            2.65          14.0    91.730769      9         False  ...   \n",
              "4            3.03          14.0    32.000000     13         False  ...   \n",
              "\n",
              "   parks_around3000  parks_nearest  ponds_around3000  ponds_nearest  \\\n",
              "0                 1          482.0                 2          755.0   \n",
              "1                 0            NaN                 0            NaN   \n",
              "2                 1           90.0                 2          574.0   \n",
              "3                 2           84.0                 3          234.0   \n",
              "4                 2          112.0                 1           48.0   \n",
              "\n",
              "  days_exposition  sq_m_price  weekday  month  year  floor_type  \n",
              "0             NaN   120370.37        3      3  2019      другой  \n",
              "1            81.0    82920.79        1     12  2018      первый  \n",
              "2           558.0    92785.71        3      8  2015      другой  \n",
              "3           424.0   408176.10        4      7  2015      другой  \n",
              "4           121.0   100000.00        1      6  2018      другой  \n",
              "\n",
              "[5 rows x 27 columns]"
            ]
          },
          "execution_count": 105,
          "metadata": {},
          "output_type": "execute_result"
        }
      ],
      "source": [
        "#тип этажа квартиры\n",
        "def floor_type(dt):\n",
        "    if dt['floor'] == 1:\n",
        "        return 'первый'\n",
        "    elif dt['floor'] == dt['floors_total']:\n",
        "        return 'последний'\n",
        "    else:\n",
        "        return 'другой'\n",
        "\n",
        "data['floor_type'] = data.apply(floor_type, axis=1)\n",
        "data.head()"
      ]
    },
    {
      "cell_type": "code",
      "execution_count": null,
      "metadata": {
        "id": "rrS8GDTRzleT",
        "outputId": "8c1262e9-0dca-4b6e-f6d2-ba3a8f3c9b78"
      },
      "outputs": [
        {
          "data": {
            "text/html": [
              "<div>\n",
              "<style scoped>\n",
              "    .dataframe tbody tr th:only-of-type {\n",
              "        vertical-align: middle;\n",
              "    }\n",
              "\n",
              "    .dataframe tbody tr th {\n",
              "        vertical-align: top;\n",
              "    }\n",
              "\n",
              "    .dataframe thead th {\n",
              "        text-align: right;\n",
              "    }\n",
              "</style>\n",
              "<table border=\"1\" class=\"dataframe\">\n",
              "  <thead>\n",
              "    <tr style=\"text-align: right;\">\n",
              "      <th></th>\n",
              "      <th>total_images</th>\n",
              "      <th>last_price</th>\n",
              "      <th>total_area</th>\n",
              "      <th>first_day_exposition</th>\n",
              "      <th>rooms</th>\n",
              "      <th>ceiling_height</th>\n",
              "      <th>floors_total</th>\n",
              "      <th>living_area</th>\n",
              "      <th>floor</th>\n",
              "      <th>is_apartment</th>\n",
              "      <th>...</th>\n",
              "      <th>parks_nearest</th>\n",
              "      <th>ponds_around3000</th>\n",
              "      <th>ponds_nearest</th>\n",
              "      <th>days_exposition</th>\n",
              "      <th>sq_m_price</th>\n",
              "      <th>weekday</th>\n",
              "      <th>month</th>\n",
              "      <th>year</th>\n",
              "      <th>floor_type</th>\n",
              "      <th>cityCenters_nearest_km</th>\n",
              "    </tr>\n",
              "  </thead>\n",
              "  <tbody>\n",
              "    <tr>\n",
              "      <th>0</th>\n",
              "      <td>20</td>\n",
              "      <td>13000000.0</td>\n",
              "      <td>108.0</td>\n",
              "      <td>2019-03-07</td>\n",
              "      <td>3</td>\n",
              "      <td>2.70</td>\n",
              "      <td>16.0</td>\n",
              "      <td>51.000000</td>\n",
              "      <td>8</td>\n",
              "      <td>False</td>\n",
              "      <td>...</td>\n",
              "      <td>482.0</td>\n",
              "      <td>2</td>\n",
              "      <td>755.0</td>\n",
              "      <td>NaN</td>\n",
              "      <td>120370.37</td>\n",
              "      <td>3</td>\n",
              "      <td>3</td>\n",
              "      <td>2019</td>\n",
              "      <td>другой</td>\n",
              "      <td>16.028</td>\n",
              "    </tr>\n",
              "    <tr>\n",
              "      <th>1</th>\n",
              "      <td>7</td>\n",
              "      <td>3350000.0</td>\n",
              "      <td>40.4</td>\n",
              "      <td>2018-12-04</td>\n",
              "      <td>1</td>\n",
              "      <td>2.65</td>\n",
              "      <td>11.0</td>\n",
              "      <td>18.600000</td>\n",
              "      <td>1</td>\n",
              "      <td>False</td>\n",
              "      <td>...</td>\n",
              "      <td>NaN</td>\n",
              "      <td>0</td>\n",
              "      <td>NaN</td>\n",
              "      <td>81.0</td>\n",
              "      <td>82920.79</td>\n",
              "      <td>1</td>\n",
              "      <td>12</td>\n",
              "      <td>2018</td>\n",
              "      <td>первый</td>\n",
              "      <td>18.603</td>\n",
              "    </tr>\n",
              "    <tr>\n",
              "      <th>2</th>\n",
              "      <td>10</td>\n",
              "      <td>5196000.0</td>\n",
              "      <td>56.0</td>\n",
              "      <td>2015-08-20</td>\n",
              "      <td>2</td>\n",
              "      <td>2.65</td>\n",
              "      <td>5.0</td>\n",
              "      <td>34.300000</td>\n",
              "      <td>4</td>\n",
              "      <td>False</td>\n",
              "      <td>...</td>\n",
              "      <td>90.0</td>\n",
              "      <td>2</td>\n",
              "      <td>574.0</td>\n",
              "      <td>558.0</td>\n",
              "      <td>92785.71</td>\n",
              "      <td>3</td>\n",
              "      <td>8</td>\n",
              "      <td>2015</td>\n",
              "      <td>другой</td>\n",
              "      <td>13.933</td>\n",
              "    </tr>\n",
              "    <tr>\n",
              "      <th>3</th>\n",
              "      <td>0</td>\n",
              "      <td>64900000.0</td>\n",
              "      <td>159.0</td>\n",
              "      <td>2015-07-24</td>\n",
              "      <td>3</td>\n",
              "      <td>2.65</td>\n",
              "      <td>14.0</td>\n",
              "      <td>91.730769</td>\n",
              "      <td>9</td>\n",
              "      <td>False</td>\n",
              "      <td>...</td>\n",
              "      <td>84.0</td>\n",
              "      <td>3</td>\n",
              "      <td>234.0</td>\n",
              "      <td>424.0</td>\n",
              "      <td>408176.10</td>\n",
              "      <td>4</td>\n",
              "      <td>7</td>\n",
              "      <td>2015</td>\n",
              "      <td>другой</td>\n",
              "      <td>6.800</td>\n",
              "    </tr>\n",
              "    <tr>\n",
              "      <th>4</th>\n",
              "      <td>2</td>\n",
              "      <td>10000000.0</td>\n",
              "      <td>100.0</td>\n",
              "      <td>2018-06-19</td>\n",
              "      <td>2</td>\n",
              "      <td>3.03</td>\n",
              "      <td>14.0</td>\n",
              "      <td>32.000000</td>\n",
              "      <td>13</td>\n",
              "      <td>False</td>\n",
              "      <td>...</td>\n",
              "      <td>112.0</td>\n",
              "      <td>1</td>\n",
              "      <td>48.0</td>\n",
              "      <td>121.0</td>\n",
              "      <td>100000.00</td>\n",
              "      <td>1</td>\n",
              "      <td>6</td>\n",
              "      <td>2018</td>\n",
              "      <td>другой</td>\n",
              "      <td>8.098</td>\n",
              "    </tr>\n",
              "  </tbody>\n",
              "</table>\n",
              "<p>5 rows × 28 columns</p>\n",
              "</div>"
            ],
            "text/plain": [
              "   total_images  last_price  total_area first_day_exposition  rooms  \\\n",
              "0            20  13000000.0       108.0           2019-03-07      3   \n",
              "1             7   3350000.0        40.4           2018-12-04      1   \n",
              "2            10   5196000.0        56.0           2015-08-20      2   \n",
              "3             0  64900000.0       159.0           2015-07-24      3   \n",
              "4             2  10000000.0       100.0           2018-06-19      2   \n",
              "\n",
              "   ceiling_height  floors_total  living_area  floor  is_apartment  ...  \\\n",
              "0            2.70          16.0    51.000000      8         False  ...   \n",
              "1            2.65          11.0    18.600000      1         False  ...   \n",
              "2            2.65           5.0    34.300000      4         False  ...   \n",
              "3            2.65          14.0    91.730769      9         False  ...   \n",
              "4            3.03          14.0    32.000000     13         False  ...   \n",
              "\n",
              "   parks_nearest  ponds_around3000  ponds_nearest  days_exposition sq_m_price  \\\n",
              "0          482.0                 2          755.0              NaN  120370.37   \n",
              "1            NaN                 0            NaN             81.0   82920.79   \n",
              "2           90.0                 2          574.0            558.0   92785.71   \n",
              "3           84.0                 3          234.0            424.0  408176.10   \n",
              "4          112.0                 1           48.0            121.0  100000.00   \n",
              "\n",
              "   weekday  month  year  floor_type  cityCenters_nearest_km  \n",
              "0        3      3  2019      другой                  16.028  \n",
              "1        1     12  2018      первый                  18.603  \n",
              "2        3      8  2015      другой                  13.933  \n",
              "3        4      7  2015      другой                   6.800  \n",
              "4        1      6  2018      другой                   8.098  \n",
              "\n",
              "[5 rows x 28 columns]"
            ]
          },
          "execution_count": 106,
          "metadata": {},
          "output_type": "execute_result"
        }
      ],
      "source": [
        "#расстояние от центра города в км\n",
        "data['cityCenters_nearest_km'] = data['cityCenters_nearest'] / 1000\n",
        "data.head()"
      ]
    },
    {
      "cell_type": "markdown",
      "metadata": {
        "id": "lnOwUx7IzleT"
      },
      "source": [
        "### Проведение исследовательского анализа данных"
      ]
    },
    {
      "cell_type": "markdown",
      "metadata": {
        "id": "GkrT6e2SzleT"
      },
      "source": [
        "Построим отдельные гистограммы для каждого столбца и изучим полученные данные:"
      ]
    },
    {
      "cell_type": "code",
      "execution_count": null,
      "metadata": {
        "id": "qnrWHss3zleT",
        "outputId": "3c3bb57d-872e-495f-f35e-763a28f4c232"
      },
      "outputs": [
        {
          "data": {
            "text/plain": [
              "count    23608.000000\n",
              "mean        60.345078\n",
              "std         35.555598\n",
              "min         12.000000\n",
              "25%         40.000000\n",
              "50%         52.000000\n",
              "75%         70.000000\n",
              "max        900.000000\n",
              "Name: total_area, dtype: float64"
            ]
          },
          "execution_count": 107,
          "metadata": {},
          "output_type": "execute_result"
        }
      ],
      "source": [
        "data['total_area'].describe()"
      ]
    },
    {
      "cell_type": "code",
      "execution_count": null,
      "metadata": {
        "id": "E6RWH0yszleU",
        "outputId": "73f9795d-60c5-49bf-d50b-039f649cdac5"
      },
      "outputs": [
        {
          "data": {
            "text/plain": [
              "<AxesSubplot:>"
            ]
          },
          "execution_count": 108,
          "metadata": {},
          "output_type": "execute_result"
        },
        {
          "data": {
            "image/png": "[encoded data removed]",
            "text/plain": [
              "<Figure size 432x288 with 1 Axes>"
            ]
          },
          "metadata": {
            "needs_background": "light"
          },
          "output_type": "display_data"
        }
      ],
      "source": [
        "data['total_area'].hist(bins=30)"
      ]
    },
    {
      "cell_type": "markdown",
      "metadata": {
        "id": "uL261JR9zleU"
      },
      "source": [
        "Наблюдаем, что наибольшее число квартир находится в диапозоне от 12 до 70 кв.м. Квартиры площадью больше 200 кв. м единичны, однако вполне соответствуют действительности (исходя из их цены и расположения)"
      ]
    },
    {
      "cell_type": "code",
      "execution_count": null,
      "metadata": {
        "id": "YaZlIIynzleU",
        "outputId": "befed79f-c228-44c1-d9d4-91a388aa066a"
      },
      "outputs": [
        {
          "data": {
            "text/plain": [
              "count    23608.000000\n",
              "mean        34.614471\n",
              "std         22.323712\n",
              "min          2.000000\n",
              "25%         19.000000\n",
              "50%         30.000000\n",
              "75%         42.200000\n",
              "max        409.700000\n",
              "Name: living_area, dtype: float64"
            ]
          },
          "execution_count": 109,
          "metadata": {},
          "output_type": "execute_result"
        }
      ],
      "source": [
        "data['living_area'].describe()"
      ]
    },
    {
      "cell_type": "code",
      "execution_count": null,
      "metadata": {
        "id": "WmcA4cYczleU",
        "outputId": "fccc0e80-5836-4e23-ed44-a2b3fa9d1125"
      },
      "outputs": [
        {
          "data": {
            "text/plain": [
              "<AxesSubplot:>"
            ]
          },
          "execution_count": 110,
          "metadata": {},
          "output_type": "execute_result"
        },
        {
          "data": {
            "image/png": "[encoded data removed]",
            "text/plain": [
              "<Figure size 432x288 with 1 Axes>"
            ]
          },
          "metadata": {
            "needs_background": "light"
          },
          "output_type": "display_data"
        }
      ],
      "source": [
        "data['living_area'].hist(bins=30)"
      ]
    },
    {
      "cell_type": "code",
      "execution_count": null,
      "metadata": {
        "id": "FD_uyR32zleV",
        "outputId": "ab305cef-cfbc-414b-add5-c364ab5f152e"
      },
      "outputs": [
        {
          "data": {
            "text/plain": [
              "count    23608.000000\n",
              "mean        10.506795\n",
              "std          6.019524\n",
              "min          1.300000\n",
              "25%          7.000000\n",
              "50%          9.000000\n",
              "75%         12.000000\n",
              "max        112.000000\n",
              "Name: kitchen_area, dtype: float64"
            ]
          },
          "execution_count": 111,
          "metadata": {},
          "output_type": "execute_result"
        }
      ],
      "source": [
        "data['kitchen_area'].describe()"
      ]
    },
    {
      "cell_type": "code",
      "execution_count": null,
      "metadata": {
        "id": "fPt4zTIUzleV",
        "outputId": "260e5958-98d4-4023-f614-b376a8a9a693"
      },
      "outputs": [
        {
          "data": {
            "text/plain": [
              "<AxesSubplot:>"
            ]
          },
          "execution_count": 112,
          "metadata": {},
          "output_type": "execute_result"
        },
        {
          "data": {
            "image/png": "[encoded data removed]",
            "text/plain": [
              "<Figure size 432x288 with 1 Axes>"
            ]
          },
          "metadata": {
            "needs_background": "light"
          },
          "output_type": "display_data"
        }
      ],
      "source": [
        "data['kitchen_area'].hist(bins=30)"
      ]
    },
    {
      "cell_type": "markdown",
      "metadata": {
        "id": "_8ocA1WSzleV"
      },
      "source": [
        "Посмотрев на гистограммы столбцов 'living_area' и 'kitchen_area', можно сказать, что их распределение похоже на гистограмму общей площади квартиры ('total_area'), за исключение самых маленьких квартир (до 20 м), где кухня обычно занимает гораздо меньшую площадь, чтобы обеспечить более комфортное жилое пространство."
      ]
    },
    {
      "cell_type": "code",
      "execution_count": null,
      "metadata": {
        "id": "xZ0qD-CNzleV",
        "outputId": "3d68bdc7-a183-44a0-a087-c6f3581fcf4d"
      },
      "outputs": [
        {
          "data": {
            "text/plain": [
              "count    2.360800e+04\n",
              "mean     6.533650e+06\n",
              "std      1.082383e+07\n",
              "min      4.300000e+05\n",
              "25%      3.429750e+06\n",
              "50%      4.650000e+06\n",
              "75%      6.800000e+06\n",
              "max      7.630000e+08\n",
              "Name: last_price, dtype: float64"
            ]
          },
          "execution_count": 113,
          "metadata": {},
          "output_type": "execute_result"
        }
      ],
      "source": [
        "data['last_price'].describe()"
      ]
    },
    {
      "cell_type": "code",
      "execution_count": null,
      "metadata": {
        "id": "YofwA4EQzleV",
        "outputId": "c2876a9c-cf7f-4cb4-f671-2ed7bf96d6ec"
      },
      "outputs": [
        {
          "data": {
            "text/plain": [
              "<AxesSubplot:>"
            ]
          },
          "execution_count": 114,
          "metadata": {},
          "output_type": "execute_result"
        },
        {
          "data": {
            "image/png": "[encoded data removed]",
            "text/plain": [
              "<Figure size 432x288 with 1 Axes>"
            ]
          },
          "metadata": {
            "needs_background": "light"
          },
          "output_type": "display_data"
        }
      ],
      "source": [
        "data['last_price'].hist(bins=60, range=(400000, 100000000))"
      ]
    },
    {
      "cell_type": "markdown",
      "metadata": {
        "id": "5T53UgRDzleW"
      },
      "source": [
        "В данном столбце 'last_price' наблюдается большое количество единичных аномально больших значений, так как большая часть находится в пределах до 68 млн руб. Однако это вполне объясняется тем фактов, что в выобрке присутствуют как дорогие города (Санкт-Петербург, Пушкино и тд), так и маленькие поселки и деревни."
      ]
    },
    {
      "cell_type": "code",
      "execution_count": null,
      "metadata": {
        "id": "dfoUuOdQzleW",
        "outputId": "2ed035ec-d4c3-489a-cd2f-311edc846de5"
      },
      "outputs": [
        {
          "data": {
            "text/plain": [
              "count    23608.000000\n",
              "mean         2.070569\n",
              "std          1.078533\n",
              "min          0.000000\n",
              "25%          1.000000\n",
              "50%          2.000000\n",
              "75%          3.000000\n",
              "max         19.000000\n",
              "Name: rooms, dtype: float64"
            ]
          },
          "execution_count": 115,
          "metadata": {},
          "output_type": "execute_result"
        }
      ],
      "source": [
        "data['rooms'].describe()"
      ]
    },
    {
      "cell_type": "code",
      "execution_count": null,
      "metadata": {
        "id": "5b6YH5IfzleW",
        "outputId": "5eeacb09-1c58-4cc3-a870-3350c7114602"
      },
      "outputs": [
        {
          "data": {
            "text/plain": [
              "<AxesSubplot:>"
            ]
          },
          "execution_count": 116,
          "metadata": {},
          "output_type": "execute_result"
        },
        {
          "data": {
            "image/png": "[encoded data removed]",
            "text/plain": [
              "<Figure size 432x288 with 1 Axes>"
            ]
          },
          "metadata": {
            "needs_background": "light"
          },
          "output_type": "display_data"
        }
      ],
      "source": [
        "data['rooms'].hist(bins=30)"
      ]
    },
    {
      "cell_type": "markdown",
      "metadata": {
        "id": "T0_nslCnzleW"
      },
      "source": [
        "Количество комнат также может зависеть от общей площади недвижимости, поэтому их распределение имеет схожую форму."
      ]
    },
    {
      "cell_type": "code",
      "execution_count": null,
      "metadata": {
        "id": "SjV_LP2gzleW",
        "outputId": "0707135c-e44d-4c7e-e44f-193792bc6631"
      },
      "outputs": [
        {
          "data": {
            "text/plain": [
              "count    23608.000000\n",
              "mean         2.697125\n",
              "std          0.214995\n",
              "min          2.500000\n",
              "25%          2.600000\n",
              "50%          2.650000\n",
              "75%          2.700000\n",
              "max          5.000000\n",
              "Name: ceiling_height, dtype: float64"
            ]
          },
          "execution_count": 117,
          "metadata": {},
          "output_type": "execute_result"
        }
      ],
      "source": [
        "data['ceiling_height'].describe()"
      ]
    },
    {
      "cell_type": "code",
      "execution_count": null,
      "metadata": {
        "id": "0iij1-4jzleX",
        "outputId": "27fd6fc5-bbf4-426a-f3d1-497f7f4fd863"
      },
      "outputs": [
        {
          "data": {
            "text/plain": [
              "<AxesSubplot:>"
            ]
          },
          "execution_count": 118,
          "metadata": {},
          "output_type": "execute_result"
        },
        {
          "data": {
            "image/png": "[encoded data removed]",
            "text/plain": [
              "<Figure size 432x288 with 1 Axes>"
            ]
          },
          "metadata": {
            "needs_background": "light"
          },
          "output_type": "display_data"
        }
      ],
      "source": [
        "data['ceiling_height'].hist(bins=40)"
      ]
    },
    {
      "cell_type": "markdown",
      "metadata": {
        "id": "P_V_18gUzleX"
      },
      "source": [
        "Высота потолков имеет очень маленький разброс (исходя из низкого значения стандартного отклонения), но так как мы во время предобработки ограничили эти данные довольно маленьким диапазоном (от 2,5 до 5 м), на графике все равно виднеются некоторые пики, которые могут быть связаны с определенными строительными стандартами, которым придерживаются многие застройки."
      ]
    },
    {
      "cell_type": "code",
      "execution_count": null,
      "metadata": {
        "id": "8_tW64qdzleX",
        "outputId": "0c9f98eb-5403-4f05-917b-ae470c51a10f"
      },
      "outputs": [
        {
          "data": {
            "text/plain": [
              "count    23608.000000\n",
              "mean         5.896095\n",
              "std          4.888333\n",
              "min          1.000000\n",
              "25%          2.000000\n",
              "50%          4.000000\n",
              "75%          8.000000\n",
              "max         33.000000\n",
              "Name: floor, dtype: float64"
            ]
          },
          "execution_count": 119,
          "metadata": {},
          "output_type": "execute_result"
        }
      ],
      "source": [
        "data['floor'].describe()"
      ]
    },
    {
      "cell_type": "code",
      "execution_count": null,
      "metadata": {
        "id": "0HV5kLdxzleX",
        "outputId": "cd7f91b9-37bd-4f1c-85cc-021df5b23041"
      },
      "outputs": [
        {
          "data": {
            "text/plain": [
              "<AxesSubplot:>"
            ]
          },
          "execution_count": 120,
          "metadata": {},
          "output_type": "execute_result"
        },
        {
          "data": {
            "image/png": "[encoded data removed]",
            "text/plain": [
              "<Figure size 432x288 with 1 Axes>"
            ]
          },
          "metadata": {
            "needs_background": "light"
          },
          "output_type": "display_data"
        }
      ],
      "source": [
        "data['floor'].hist(bins=50)"
      ]
    },
    {
      "cell_type": "markdown",
      "metadata": {
        "id": "33DOKJ55zleY"
      },
      "source": [
        "На представленном выше графике мы можем наблюдать, что большинство описанных квартир располагается ниже 8 этажа, аболее высокие наблюдаются гораздо реже, что может быть связано с в принципе преобладанием малоэтажной застройки, а также большей доступностью такой надвижиомсти."
      ]
    },
    {
      "cell_type": "code",
      "execution_count": null,
      "metadata": {
        "id": "fqzdg5JezleY",
        "outputId": "aef7a945-2bf5-4935-f95d-e3b3a26e904e"
      },
      "outputs": [
        {
          "data": {
            "text/plain": [
              "count      23608\n",
              "unique         3\n",
              "top       другой\n",
              "freq       17394\n",
              "Name: floor_type, dtype: object"
            ]
          },
          "execution_count": 121,
          "metadata": {},
          "output_type": "execute_result"
        }
      ],
      "source": [
        "data['floor_type'].describe()"
      ]
    },
    {
      "cell_type": "code",
      "execution_count": null,
      "metadata": {
        "id": "unKcj9YFzleY",
        "outputId": "66a49906-c2e7-47b5-dc62-10832e8fe354"
      },
      "outputs": [
        {
          "data": {
            "text/plain": [
              "<AxesSubplot:>"
            ]
          },
          "execution_count": 122,
          "metadata": {},
          "output_type": "execute_result"
        },
        {
          "data": {
            "image/png": "[encoded data removed]",
            "text/plain": [
              "<Figure size 432x288 with 1 Axes>"
            ]
          },
          "metadata": {
            "needs_background": "light"
          },
          "output_type": "display_data"
        }
      ],
      "source": [
        "data['floor_type'].hist()"
      ]
    },
    {
      "cell_type": "markdown",
      "metadata": {
        "id": "siMCBMwezleY"
      },
      "source": [
        "Логично предположить, что первый и последний этажи встречаются гораздо реже, чем любые другие в сумме, так как существует не так много двух и трех этажных зданий."
      ]
    },
    {
      "cell_type": "code",
      "execution_count": null,
      "metadata": {
        "id": "na1yUN8OzleZ",
        "outputId": "b16979e4-c391-48ba-b9eb-71a14db28e40"
      },
      "outputs": [
        {
          "data": {
            "text/plain": [
              "count    23522.000000\n",
              "mean        10.684211\n",
              "std          6.599264\n",
              "min          1.000000\n",
              "25%          5.000000\n",
              "50%          9.000000\n",
              "75%         16.000000\n",
              "max         60.000000\n",
              "Name: floors_total, dtype: float64"
            ]
          },
          "execution_count": 123,
          "metadata": {},
          "output_type": "execute_result"
        }
      ],
      "source": [
        "data['floors_total'].describe()"
      ]
    },
    {
      "cell_type": "code",
      "execution_count": null,
      "metadata": {
        "id": "gEx28bYozleZ",
        "outputId": "ff02b340-2e29-4ecd-9aae-5a44ada1ccee"
      },
      "outputs": [
        {
          "data": {
            "text/plain": [
              "<AxesSubplot:>"
            ]
          },
          "execution_count": 124,
          "metadata": {},
          "output_type": "execute_result"
        },
        {
          "data": {
            "image/png": "[encoded data removed]",
            "text/plain": [
              "<Figure size 432x288 with 1 Axes>"
            ]
          },
          "metadata": {
            "needs_background": "light"
          },
          "output_type": "display_data"
        }
      ],
      "source": [
        "data['floors_total'].hist(bins=30)"
      ]
    },
    {
      "cell_type": "markdown",
      "metadata": {
        "id": "FQ0mFaPMzleZ"
      },
      "source": [
        "На представленном выше графике мы можем наблюдать, что большинство описанных квартир располагается в малоэтажной и среднеэтажной застройке (до 16 этажей), а многоэтажные здания наблюдаются реже, что может быть связано с особенностями архитектуры региона."
      ]
    },
    {
      "cell_type": "code",
      "execution_count": null,
      "metadata": {
        "id": "pPqPfL_9zlea",
        "outputId": "ccb9f309-266e-464c-d679-c862448396f5"
      },
      "outputs": [
        {
          "data": {
            "text/plain": [
              "count    18121.000000\n",
              "mean     14192.150544\n",
              "std       8608.989820\n",
              "min        181.000000\n",
              "25%       9238.000000\n",
              "50%      13101.000000\n",
              "75%      16293.000000\n",
              "max      65968.000000\n",
              "Name: cityCenters_nearest, dtype: float64"
            ]
          },
          "execution_count": 125,
          "metadata": {},
          "output_type": "execute_result"
        }
      ],
      "source": [
        "data['cityCenters_nearest'].describe()"
      ]
    },
    {
      "cell_type": "code",
      "execution_count": null,
      "metadata": {
        "id": "D7f95_U0zlea",
        "outputId": "ac131537-574e-4a36-abd1-c9a4f958e8de"
      },
      "outputs": [
        {
          "data": {
            "text/plain": [
              "<AxesSubplot:>"
            ]
          },
          "execution_count": 126,
          "metadata": {},
          "output_type": "execute_result"
        },
        {
          "data": {
            "image/png": "[encoded data removed]",
            "text/plain": [
              "<Figure size 432x288 with 1 Axes>"
            ]
          },
          "metadata": {
            "needs_background": "light"
          },
          "output_type": "display_data"
        }
      ],
      "source": [
        "data['cityCenters_nearest'].hist(bins=50)"
      ]
    },
    {
      "cell_type": "markdown",
      "metadata": {
        "id": "b0jqMYX4zlea"
      },
      "source": [
        "Большая часть продаваемых квартир располагается на расстоянии до 16 км от центра города, что можем объяснятся концентрацией жилых застроек вокруг города (и его центра соответственно)"
      ]
    },
    {
      "cell_type": "code",
      "execution_count": null,
      "metadata": {
        "id": "_8SPFiU3zlea",
        "outputId": "f766de55-4a66-492c-85ac-46363a6a843b"
      },
      "outputs": [
        {
          "data": {
            "text/plain": [
              "count    18098.000000\n",
              "mean     28800.174992\n",
              "std      12634.021102\n",
              "min          0.000000\n",
              "25%      18585.000000\n",
              "50%      26736.500000\n",
              "75%      37288.000000\n",
              "max      84869.000000\n",
              "Name: airports_nearest, dtype: float64"
            ]
          },
          "execution_count": 127,
          "metadata": {},
          "output_type": "execute_result"
        }
      ],
      "source": [
        "data['airports_nearest'].describe()"
      ]
    },
    {
      "cell_type": "code",
      "execution_count": null,
      "metadata": {
        "id": "MQ-p-dUQzlea",
        "outputId": "6f1fe86a-d53a-435d-88c9-98c26364b7a3"
      },
      "outputs": [
        {
          "data": {
            "text/plain": [
              "<AxesSubplot:>"
            ]
          },
          "execution_count": 128,
          "metadata": {},
          "output_type": "execute_result"
        },
        {
          "data": {
            "image/png": "[encoded data removed]",
            "text/plain": [
              "<Figure size 432x288 with 1 Axes>"
            ]
          },
          "metadata": {
            "needs_background": "light"
          },
          "output_type": "display_data"
        }
      ],
      "source": [
        "data['airports_nearest'].hist(bins=50)"
      ]
    },
    {
      "cell_type": "markdown",
      "metadata": {
        "id": "HzL4AD-Fzleb"
      },
      "source": [
        "В распределении расстояния до ближайшего аэропорта наблюдается довольно сильный разброс данных, однако большая часть объектов все таки располагается на расстоянии до 40 км до аэропорта."
      ]
    },
    {
      "cell_type": "code",
      "execution_count": null,
      "metadata": {
        "id": "Q4GM3vVpzleb",
        "outputId": "cbd4079d-1ee4-4849-be66-97a772096f32"
      },
      "outputs": [
        {
          "data": {
            "text/plain": [
              "count    8041.000000\n",
              "mean      490.869544\n",
              "std       342.888342\n",
              "min         1.000000\n",
              "25%       288.000000\n",
              "50%       454.000000\n",
              "75%       612.000000\n",
              "max      3190.000000\n",
              "Name: parks_nearest, dtype: float64"
            ]
          },
          "execution_count": 129,
          "metadata": {},
          "output_type": "execute_result"
        }
      ],
      "source": [
        "data['parks_nearest'].describe()"
      ]
    },
    {
      "cell_type": "code",
      "execution_count": null,
      "metadata": {
        "id": "yVGL_JDmzleb",
        "outputId": "a9cefdee-e0b6-48d6-c2cc-e4c039ad8ff3"
      },
      "outputs": [
        {
          "data": {
            "text/plain": [
              "<AxesSubplot:>"
            ]
          },
          "execution_count": 130,
          "metadata": {},
          "output_type": "execute_result"
        },
        {
          "data": {
            "image/png": "[encoded data removed]",
            "text/plain": [
              "<Figure size 432x288 with 1 Axes>"
            ]
          },
          "metadata": {
            "needs_background": "light"
          },
          "output_type": "display_data"
        }
      ],
      "source": [
        "data['parks_nearest'].hist(bins=50)"
      ]
    },
    {
      "cell_type": "markdown",
      "metadata": {
        "id": "HBO_QEvXzleb"
      },
      "source": [
        "Так как регион довольно \"зеленый\", мы наблюдаем, что большая часть квартир находится в пешей доступности от парков (до 600 м), но мало какие объекты располагаются непосредственно рядом с границей зеленых территорий."
      ]
    },
    {
      "cell_type": "code",
      "execution_count": null,
      "metadata": {
        "id": "2Hw6NXHLzleb",
        "outputId": "e2176249-3d5c-4280-c923-05040c46cd99"
      },
      "outputs": [
        {
          "data": {
            "text/plain": [
              "count    23608.000000\n",
              "mean         2.569553\n",
              "std          1.788634\n",
              "min          0.000000\n",
              "25%          1.000000\n",
              "50%          3.000000\n",
              "75%          4.000000\n",
              "max          6.000000\n",
              "Name: weekday, dtype: float64"
            ]
          },
          "execution_count": 131,
          "metadata": {},
          "output_type": "execute_result"
        }
      ],
      "source": [
        "data['weekday'].describe()"
      ]
    },
    {
      "cell_type": "code",
      "execution_count": null,
      "metadata": {
        "id": "aA0dahNIzlec",
        "outputId": "9ce77112-c515-407e-a0e1-c3bd6a49e754"
      },
      "outputs": [
        {
          "data": {
            "text/plain": [
              "<AxesSubplot:>"
            ]
          },
          "execution_count": 132,
          "metadata": {},
          "output_type": "execute_result"
        },
        {
          "data": {
            "image/png": "[encoded data removed]",
            "text/plain": [
              "<Figure size 432x288 with 1 Axes>"
            ]
          },
          "metadata": {
            "needs_background": "light"
          },
          "output_type": "display_data"
        }
      ],
      "source": [
        "data['weekday'].hist(bins=20)"
      ]
    },
    {
      "cell_type": "markdown",
      "metadata": {
        "id": "PagZD0Ltzlec"
      },
      "source": [
        "Большинство новых объявлений о продаже недвижимости размещается по вторникам и четвергам. Как ни странно, наименьшее количество появляется на выходных."
      ]
    },
    {
      "cell_type": "code",
      "execution_count": null,
      "metadata": {
        "id": "lp9ln3Jgzlec",
        "outputId": "fc45f426-8dd3-480c-af30-eca55b3d96f1"
      },
      "outputs": [
        {
          "data": {
            "text/plain": [
              "count    23608.000000\n",
              "mean         6.399483\n",
              "std          3.491795\n",
              "min          1.000000\n",
              "25%          3.000000\n",
              "50%          6.000000\n",
              "75%         10.000000\n",
              "max         12.000000\n",
              "Name: month, dtype: float64"
            ]
          },
          "execution_count": 133,
          "metadata": {},
          "output_type": "execute_result"
        }
      ],
      "source": [
        "data['month'].describe()"
      ]
    },
    {
      "cell_type": "code",
      "execution_count": null,
      "metadata": {
        "id": "Y5M41164zlec",
        "outputId": "0bef01ae-81f9-4385-f88c-bd5e2c69ec65"
      },
      "outputs": [
        {
          "data": {
            "text/plain": [
              "<AxesSubplot:>"
            ]
          },
          "execution_count": 134,
          "metadata": {},
          "output_type": "execute_result"
        },
        {
          "data": {
            "image/png": "[encoded data removed]",
            "text/plain": [
              "<Figure size 432x288 with 1 Axes>"
            ]
          },
          "metadata": {
            "needs_background": "light"
          },
          "output_type": "display_data"
        }
      ],
      "source": [
        "data['month'].hist(bins=30)"
      ]
    },
    {
      "cell_type": "markdown",
      "metadata": {
        "id": "_5UzQ0jXzlec"
      },
      "source": [
        "На данной гистограмме можно увидеть значительное снижение количества новых объявлений в январе, мае и декабре. Следует предположить, что люди неохотно занимаются такими делами, как продажа квартиры на выходных и праздничных днях, которых гораздо больше в перечисленных месяцах"
      ]
    },
    {
      "cell_type": "markdown",
      "metadata": {
        "id": "hoy6TRaIzled"
      },
      "source": [
        "Рассмотрим также сроки, в которые продаются исследуемые квартиры:"
      ]
    },
    {
      "cell_type": "code",
      "execution_count": null,
      "metadata": {
        "id": "Kui0qfLezled",
        "outputId": "62f640e0-ff02-41f0-9c4d-cd564553ea82"
      },
      "outputs": [
        {
          "data": {
            "text/plain": [
              "<AxesSubplot:>"
            ]
          },
          "execution_count": 135,
          "metadata": {},
          "output_type": "execute_result"
        },
        {
          "data": {
            "image/png": "[encoded data removed]",
            "text/plain": [
              "<Figure size 432x288 with 1 Axes>"
            ]
          },
          "metadata": {
            "needs_background": "light"
          },
          "output_type": "display_data"
        }
      ],
      "source": [
        "data['days_exposition'].hist(bins=30)"
      ]
    },
    {
      "cell_type": "code",
      "execution_count": null,
      "metadata": {
        "id": "T8huMDAUzled",
        "outputId": "c8d67aa3-965b-4c18-9a73-3e334e6e1f44"
      },
      "outputs": [
        {
          "data": {
            "text/plain": [
              "count    20440.000000\n",
              "mean       180.963258\n",
              "std        219.895122\n",
              "min          1.000000\n",
              "25%         45.000000\n",
              "50%         95.000000\n",
              "75%        232.000000\n",
              "max       1580.000000\n",
              "Name: days_exposition, dtype: float64"
            ]
          },
          "execution_count": 136,
          "metadata": {},
          "output_type": "execute_result"
        }
      ],
      "source": [
        "data['days_exposition'].describe()"
      ]
    },
    {
      "cell_type": "markdown",
      "metadata": {
        "id": "OIOcKMxszled"
      },
      "source": [
        "В среднем продажа квартиры в данном регионе занимает около 180 дней (6 месяцев), однако большая часть недвижимости все таки продается в период до 232 дней (более 7 месяцев). Быстрой продажей можно назвать объекты, проданные менее, чем за 45 дней (1,5 месяца), а аномально долгой те, которые были представлены более, чем 400 дней (около 13 месяцев)."
      ]
    },
    {
      "cell_type": "markdown",
      "metadata": {
        "id": "lAXqpqYTzlee"
      },
      "source": [
        "Далее, изучим влияние отдельных факторов на стоимость продажы квартиры:"
      ]
    },
    {
      "cell_type": "code",
      "execution_count": null,
      "metadata": {
        "id": "Zo_-qjJgzlee",
        "outputId": "48e743b4-f880-4e5a-df4e-aef956632bd6"
      },
      "outputs": [
        {
          "data": {
            "text/plain": [
              "0.6520881892812536"
            ]
          },
          "execution_count": 137,
          "metadata": {},
          "output_type": "execute_result"
        },
        {
          "data": {
            "image/png": "[encoded data removed]",
            "text/plain": [
              "<Figure size 432x288 with 1 Axes>"
            ]
          },
          "metadata": {
            "needs_background": "light"
          },
          "output_type": "display_data"
        }
      ],
      "source": [
        "#влияние общей площади на стоимость объекта\n",
        "data.plot(x='total_area', y='last_price', kind='scatter', grid=True)\n",
        "data['total_area'].corr(data['last_price'])"
      ]
    },
    {
      "cell_type": "code",
      "execution_count": null,
      "metadata": {
        "id": "5ViyLHiUzlee",
        "outputId": "ffbe9b24-9f26-4946-a124-8dda2c99ff5e"
      },
      "outputs": [
        {
          "data": {
            "text/plain": [
              "0.5830927572185682"
            ]
          },
          "execution_count": 138,
          "metadata": {},
          "output_type": "execute_result"
        },
        {
          "data": {
            "image/png": "[encoded data removed]",
            "text/plain": [
              "<Figure size 432x288 with 1 Axes>"
            ]
          },
          "metadata": {
            "needs_background": "light"
          },
          "output_type": "display_data"
        }
      ],
      "source": [
        "data.plot(x='living_area', y='last_price', kind='scatter', grid=True)\n",
        "data['living_area'].corr(data['last_price'])"
      ]
    },
    {
      "cell_type": "code",
      "execution_count": null,
      "metadata": {
        "id": "4RHHFB6dzlef",
        "outputId": "35e31a54-e0b8-4bb6-ff63-03499b93ba30"
      },
      "outputs": [
        {
          "data": {
            "text/plain": [
              "0.5121229864136477"
            ]
          },
          "execution_count": 139,
          "metadata": {},
          "output_type": "execute_result"
        },
        {
          "data": {
            "image/png": "[encoded data removed]",
            "text/plain": [
              "<Figure size 432x288 with 1 Axes>"
            ]
          },
          "metadata": {
            "needs_background": "light"
          },
          "output_type": "display_data"
        }
      ],
      "source": [
        "data.plot(x='kitchen_area', y='last_price', kind='scatter', grid=True)\n",
        "data['kitchen_area'].corr(data['last_price'])"
      ]
    },
    {
      "cell_type": "code",
      "execution_count": null,
      "metadata": {
        "id": "dllWMBF0zlef",
        "outputId": "2fd5493b-a942-4a1b-b43c-016c37e5f2e6"
      },
      "outputs": [
        {
          "data": {
            "text/plain": [
              "0.36270068493360397"
            ]
          },
          "execution_count": 140,
          "metadata": {},
          "output_type": "execute_result"
        },
        {
          "data": {
            "image/png": "[encoded data removed]",
            "text/plain": [
              "<Figure size 432x288 with 1 Axes>"
            ]
          },
          "metadata": {
            "needs_background": "light"
          },
          "output_type": "display_data"
        }
      ],
      "source": [
        "data.plot(x='rooms', y='last_price', kind='scatter', grid=True)\n",
        "data['rooms'].corr(data['last_price'])"
      ]
    },
    {
      "cell_type": "code",
      "execution_count": null,
      "metadata": {
        "id": "u8fM5QnEzleg",
        "outputId": "f5e8b94c-5891-47ec-beff-646bd9ca9363"
      },
      "outputs": [
        {
          "data": {
            "text/plain": [
              "<AxesSubplot:xlabel='floor_type', ylabel='last_price'>"
            ]
          },
          "execution_count": 141,
          "metadata": {},
          "output_type": "execute_result"
        },
        {
          "data": {
            "image/png": "[encoded data removed]",
            "text/plain": [
              "<Figure size 432x288 with 1 Axes>"
            ]
          },
          "metadata": {
            "needs_background": "light"
          },
          "output_type": "display_data"
        }
      ],
      "source": [
        "data.plot(x='floor_type', y='last_price', kind='scatter', grid=True)"
      ]
    },
    {
      "cell_type": "code",
      "execution_count": null,
      "metadata": {
        "id": "0yT7KlYGzleg",
        "outputId": "766e3b86-e1a2-4a35-e7d5-a4087969fd7c"
      },
      "outputs": [
        {
          "data": {
            "text/plain": [
              "<AxesSubplot:xlabel='weekday', ylabel='last_price'>"
            ]
          },
          "execution_count": 142,
          "metadata": {},
          "output_type": "execute_result"
        },
        {
          "data": {
            "image/png": "[encoded data removed]",
            "text/plain": [
              "<Figure size 432x288 with 1 Axes>"
            ]
          },
          "metadata": {
            "needs_background": "light"
          },
          "output_type": "display_data"
        }
      ],
      "source": [
        "data.plot(x='weekday', y='last_price', kind='scatter', grid=True)"
      ]
    },
    {
      "cell_type": "code",
      "execution_count": null,
      "metadata": {
        "id": "3XhmYXYHzleg",
        "outputId": "dc8daf73-59da-48af-c84e-6c5e20891621"
      },
      "outputs": [
        {
          "data": {
            "text/html": [
              "<div>\n",
              "<style scoped>\n",
              "    .dataframe tbody tr th:only-of-type {\n",
              "        vertical-align: middle;\n",
              "    }\n",
              "\n",
              "    .dataframe tbody tr th {\n",
              "        vertical-align: top;\n",
              "    }\n",
              "\n",
              "    .dataframe thead th {\n",
              "        text-align: right;\n",
              "    }\n",
              "</style>\n",
              "<table border=\"1\" class=\"dataframe\">\n",
              "  <thead>\n",
              "    <tr style=\"text-align: right;\">\n",
              "      <th></th>\n",
              "      <th>mean</th>\n",
              "      <th>median</th>\n",
              "    </tr>\n",
              "    <tr>\n",
              "      <th>weekday</th>\n",
              "      <th></th>\n",
              "      <th></th>\n",
              "    </tr>\n",
              "  </thead>\n",
              "  <tbody>\n",
              "    <tr>\n",
              "      <th>0</th>\n",
              "      <td>6.492696e+06</td>\n",
              "      <td>4650000.0</td>\n",
              "    </tr>\n",
              "    <tr>\n",
              "      <th>1</th>\n",
              "      <td>6.399769e+06</td>\n",
              "      <td>4740000.0</td>\n",
              "    </tr>\n",
              "    <tr>\n",
              "      <th>2</th>\n",
              "      <td>6.622714e+06</td>\n",
              "      <td>4700000.0</td>\n",
              "    </tr>\n",
              "    <tr>\n",
              "      <th>3</th>\n",
              "      <td>6.698455e+06</td>\n",
              "      <td>4650000.0</td>\n",
              "    </tr>\n",
              "    <tr>\n",
              "      <th>4</th>\n",
              "      <td>6.342595e+06</td>\n",
              "      <td>4590000.0</td>\n",
              "    </tr>\n",
              "    <tr>\n",
              "      <th>5</th>\n",
              "      <td>6.980658e+06</td>\n",
              "      <td>4555000.0</td>\n",
              "    </tr>\n",
              "    <tr>\n",
              "      <th>6</th>\n",
              "      <td>6.264071e+06</td>\n",
              "      <td>4550000.0</td>\n",
              "    </tr>\n",
              "  </tbody>\n",
              "</table>\n",
              "</div>"
            ],
            "text/plain": [
              "                 mean     median\n",
              "weekday                         \n",
              "0        6.492696e+06  4650000.0\n",
              "1        6.399769e+06  4740000.0\n",
              "2        6.622714e+06  4700000.0\n",
              "3        6.698455e+06  4650000.0\n",
              "4        6.342595e+06  4590000.0\n",
              "5        6.980658e+06  4555000.0\n",
              "6        6.264071e+06  4550000.0"
            ]
          },
          "execution_count": 143,
          "metadata": {},
          "output_type": "execute_result"
        }
      ],
      "source": [
        "data.groupby('weekday')['last_price'].agg(['mean', 'median'])"
      ]
    },
    {
      "cell_type": "code",
      "execution_count": null,
      "metadata": {
        "id": "rVmzoi9tzleh",
        "outputId": "63c9079b-5544-4b2b-ec0f-64aef70fa8fa"
      },
      "outputs": [
        {
          "data": {
            "text/plain": [
              "<AxesSubplot:xlabel='month', ylabel='last_price'>"
            ]
          },
          "execution_count": 144,
          "metadata": {},
          "output_type": "execute_result"
        },
        {
          "data": {
            "image/png": "[encoded data removed]",
            "text/plain": [
              "<Figure size 432x288 with 1 Axes>"
            ]
          },
          "metadata": {
            "needs_background": "light"
          },
          "output_type": "display_data"
        }
      ],
      "source": [
        "data.plot(x='month', y='last_price', kind='scatter', grid=True)"
      ]
    },
    {
      "cell_type": "code",
      "execution_count": null,
      "metadata": {
        "id": "ct6lBIurzleh",
        "outputId": "3b410866-3336-40ff-e2d8-d0783f6eeee6"
      },
      "outputs": [
        {
          "data": {
            "text/html": [
              "<div>\n",
              "<style scoped>\n",
              "    .dataframe tbody tr th:only-of-type {\n",
              "        vertical-align: middle;\n",
              "    }\n",
              "\n",
              "    .dataframe tbody tr th {\n",
              "        vertical-align: top;\n",
              "    }\n",
              "\n",
              "    .dataframe thead th {\n",
              "        text-align: right;\n",
              "    }\n",
              "</style>\n",
              "<table border=\"1\" class=\"dataframe\">\n",
              "  <thead>\n",
              "    <tr style=\"text-align: right;\">\n",
              "      <th></th>\n",
              "      <th>median</th>\n",
              "      <th>mean</th>\n",
              "    </tr>\n",
              "    <tr>\n",
              "      <th>month</th>\n",
              "      <th></th>\n",
              "      <th></th>\n",
              "    </tr>\n",
              "  </thead>\n",
              "  <tbody>\n",
              "    <tr>\n",
              "      <th>1</th>\n",
              "      <td>4600000.0</td>\n",
              "      <td>6.641679e+06</td>\n",
              "    </tr>\n",
              "    <tr>\n",
              "      <th>2</th>\n",
              "      <td>4650000.0</td>\n",
              "      <td>6.475834e+06</td>\n",
              "    </tr>\n",
              "    <tr>\n",
              "      <th>3</th>\n",
              "      <td>4650000.0</td>\n",
              "      <td>6.366463e+06</td>\n",
              "    </tr>\n",
              "    <tr>\n",
              "      <th>4</th>\n",
              "      <td>4800000.0</td>\n",
              "      <td>6.745658e+06</td>\n",
              "    </tr>\n",
              "    <tr>\n",
              "      <th>5</th>\n",
              "      <td>4540000.0</td>\n",
              "      <td>6.615658e+06</td>\n",
              "    </tr>\n",
              "    <tr>\n",
              "      <th>6</th>\n",
              "      <td>4400000.0</td>\n",
              "      <td>6.285883e+06</td>\n",
              "    </tr>\n",
              "    <tr>\n",
              "      <th>7</th>\n",
              "      <td>4650000.0</td>\n",
              "      <td>6.584652e+06</td>\n",
              "    </tr>\n",
              "    <tr>\n",
              "      <th>8</th>\n",
              "      <td>4580000.0</td>\n",
              "      <td>6.360447e+06</td>\n",
              "    </tr>\n",
              "    <tr>\n",
              "      <th>9</th>\n",
              "      <td>4700000.0</td>\n",
              "      <td>6.834279e+06</td>\n",
              "    </tr>\n",
              "    <tr>\n",
              "      <th>10</th>\n",
              "      <td>4577500.0</td>\n",
              "      <td>6.176144e+06</td>\n",
              "    </tr>\n",
              "    <tr>\n",
              "      <th>11</th>\n",
              "      <td>4700000.0</td>\n",
              "      <td>6.459407e+06</td>\n",
              "    </tr>\n",
              "    <tr>\n",
              "      <th>12</th>\n",
              "      <td>4700000.0</td>\n",
              "      <td>7.024256e+06</td>\n",
              "    </tr>\n",
              "  </tbody>\n",
              "</table>\n",
              "</div>"
            ],
            "text/plain": [
              "          median          mean\n",
              "month                         \n",
              "1      4600000.0  6.641679e+06\n",
              "2      4650000.0  6.475834e+06\n",
              "3      4650000.0  6.366463e+06\n",
              "4      4800000.0  6.745658e+06\n",
              "5      4540000.0  6.615658e+06\n",
              "6      4400000.0  6.285883e+06\n",
              "7      4650000.0  6.584652e+06\n",
              "8      4580000.0  6.360447e+06\n",
              "9      4700000.0  6.834279e+06\n",
              "10     4577500.0  6.176144e+06\n",
              "11     4700000.0  6.459407e+06\n",
              "12     4700000.0  7.024256e+06"
            ]
          },
          "execution_count": 145,
          "metadata": {},
          "output_type": "execute_result"
        }
      ],
      "source": [
        "data.groupby('month')['last_price'].agg(['median', 'mean'])"
      ]
    },
    {
      "cell_type": "code",
      "execution_count": null,
      "metadata": {
        "id": "y_eUW6enzleh",
        "outputId": "b2f68a30-be27-475d-dd9e-ea7cd579cecd"
      },
      "outputs": [
        {
          "data": {
            "text/plain": [
              "<AxesSubplot:xlabel='year', ylabel='last_price'>"
            ]
          },
          "execution_count": 146,
          "metadata": {},
          "output_type": "execute_result"
        },
        {
          "data": {
            "image/png": "[encoded data removed]",
            "text/plain": [
              "<Figure size 432x288 with 1 Axes>"
            ]
          },
          "metadata": {
            "needs_background": "light"
          },
          "output_type": "display_data"
        }
      ],
      "source": [
        "data.plot(x='year', y='last_price', kind='scatter', grid=True)"
      ]
    },
    {
      "cell_type": "code",
      "execution_count": null,
      "metadata": {
        "id": "Uuqxeo3izleh",
        "outputId": "9fd66e65-4426-445c-9e6c-0a53865c7179"
      },
      "outputs": [
        {
          "data": {
            "text/html": [
              "<div>\n",
              "<style scoped>\n",
              "    .dataframe tbody tr th:only-of-type {\n",
              "        vertical-align: middle;\n",
              "    }\n",
              "\n",
              "    .dataframe tbody tr th {\n",
              "        vertical-align: top;\n",
              "    }\n",
              "\n",
              "    .dataframe thead th {\n",
              "        text-align: right;\n",
              "    }\n",
              "</style>\n",
              "<table border=\"1\" class=\"dataframe\">\n",
              "  <thead>\n",
              "    <tr style=\"text-align: right;\">\n",
              "      <th></th>\n",
              "      <th>median</th>\n",
              "      <th>mean</th>\n",
              "    </tr>\n",
              "    <tr>\n",
              "      <th>year</th>\n",
              "      <th></th>\n",
              "      <th></th>\n",
              "    </tr>\n",
              "  </thead>\n",
              "  <tbody>\n",
              "    <tr>\n",
              "      <th>2014</th>\n",
              "      <td>7700000.0</td>\n",
              "      <td>1.208714e+07</td>\n",
              "    </tr>\n",
              "    <tr>\n",
              "      <th>2015</th>\n",
              "      <td>5350000.0</td>\n",
              "      <td>8.487089e+06</td>\n",
              "    </tr>\n",
              "    <tr>\n",
              "      <th>2016</th>\n",
              "      <td>4550000.0</td>\n",
              "      <td>6.838922e+06</td>\n",
              "    </tr>\n",
              "    <tr>\n",
              "      <th>2017</th>\n",
              "      <td>4500000.0</td>\n",
              "      <td>6.576458e+06</td>\n",
              "    </tr>\n",
              "    <tr>\n",
              "      <th>2018</th>\n",
              "      <td>4575000.0</td>\n",
              "      <td>5.943301e+06</td>\n",
              "    </tr>\n",
              "    <tr>\n",
              "      <th>2019</th>\n",
              "      <td>5050000.0</td>\n",
              "      <td>6.788479e+06</td>\n",
              "    </tr>\n",
              "  </tbody>\n",
              "</table>\n",
              "</div>"
            ],
            "text/plain": [
              "         median          mean\n",
              "year                         \n",
              "2014  7700000.0  1.208714e+07\n",
              "2015  5350000.0  8.487089e+06\n",
              "2016  4550000.0  6.838922e+06\n",
              "2017  4500000.0  6.576458e+06\n",
              "2018  4575000.0  5.943301e+06\n",
              "2019  5050000.0  6.788479e+06"
            ]
          },
          "execution_count": 147,
          "metadata": {},
          "output_type": "execute_result"
        }
      ],
      "source": [
        "data.groupby('year')['last_price'].agg(['median', 'mean'])"
      ]
    },
    {
      "cell_type": "markdown",
      "metadata": {
        "id": "F0E3k9Dizleh"
      },
      "source": [
        "Исходя из полученных результатов, можно сделать вывод, что наибольшее влияние на стоимость квартиры все таки оказывает ее площадь (чем больше площадь - как общая, так и жилая, и кухни, тем выше стоимость продаваемого объекта). Также умеренное влияние на цену оказывает количество комнат, однако это можно связать со взаимной корреляцией этого фактора и площади квартиры. Дороже всего продаются объекты на последних этажах, а самые дешевые представлены на первых. Также можно сказать, что сделка обычно обходится дешевле по пятницам, субботам и воскресеньям, а вот самые дорогие происходят в среду и вторник. Что касается месяца продажи, то здесь можно заметить снижаение стоимости в летние месяцы и октябре. За рассматриваемый период (2014-2019 года) средняя и медианная цена квартир снижалась до 2019 года."
      ]
    },
    {
      "cell_type": "markdown",
      "metadata": {
        "id": "TNV_OhSzzlei"
      },
      "source": [
        "Посчитаем среднюю цену одного квадратного метра в 10 населенных пунктах с наибольшим числом объявлений:"
      ]
    },
    {
      "cell_type": "code",
      "execution_count": null,
      "metadata": {
        "id": "EDeE1VhWzlei",
        "outputId": "0cddf247-fac0-40b6-da57-d8b87e4a9226"
      },
      "outputs": [
        {
          "data": {
            "text/html": [
              "<div>\n",
              "<style scoped>\n",
              "    .dataframe tbody tr th:only-of-type {\n",
              "        vertical-align: middle;\n",
              "    }\n",
              "\n",
              "    .dataframe tbody tr th {\n",
              "        vertical-align: top;\n",
              "    }\n",
              "\n",
              "    .dataframe thead tr th {\n",
              "        text-align: left;\n",
              "    }\n",
              "\n",
              "    .dataframe thead tr:last-of-type th {\n",
              "        text-align: right;\n",
              "    }\n",
              "</style>\n",
              "<table border=\"1\" class=\"dataframe\">\n",
              "  <thead>\n",
              "    <tr>\n",
              "      <th></th>\n",
              "      <th>count</th>\n",
              "      <th>mean</th>\n",
              "    </tr>\n",
              "    <tr>\n",
              "      <th></th>\n",
              "      <th>sq_m_price</th>\n",
              "      <th>sq_m_price</th>\n",
              "    </tr>\n",
              "    <tr>\n",
              "      <th>locality_name</th>\n",
              "      <th></th>\n",
              "      <th></th>\n",
              "    </tr>\n",
              "  </thead>\n",
              "  <tbody>\n",
              "    <tr>\n",
              "      <th>Бокситогорск</th>\n",
              "      <td>16</td>\n",
              "      <td>17551.591250</td>\n",
              "    </tr>\n",
              "    <tr>\n",
              "      <th>Волосово</th>\n",
              "      <td>36</td>\n",
              "      <td>40183.326111</td>\n",
              "    </tr>\n",
              "    <tr>\n",
              "      <th>Волхов</th>\n",
              "      <td>110</td>\n",
              "      <td>35084.344818</td>\n",
              "    </tr>\n",
              "    <tr>\n",
              "      <th>Всеволожск</th>\n",
              "      <td>397</td>\n",
              "      <td>68719.320378</td>\n",
              "    </tr>\n",
              "    <tr>\n",
              "      <th>Выборг</th>\n",
              "      <td>235</td>\n",
              "      <td>58238.143277</td>\n",
              "    </tr>\n",
              "    <tr>\n",
              "      <th>...</th>\n",
              "      <td>...</td>\n",
              "      <td>...</td>\n",
              "    </tr>\n",
              "    <tr>\n",
              "      <th>село Путилово</th>\n",
              "      <td>2</td>\n",
              "      <td>39921.755000</td>\n",
              "    </tr>\n",
              "    <tr>\n",
              "      <th>село Рождествено</th>\n",
              "      <td>3</td>\n",
              "      <td>37733.160000</td>\n",
              "    </tr>\n",
              "    <tr>\n",
              "      <th>село Русско-Высоцкое</th>\n",
              "      <td>9</td>\n",
              "      <td>54833.727778</td>\n",
              "    </tr>\n",
              "    <tr>\n",
              "      <th>село Старая Ладога</th>\n",
              "      <td>2</td>\n",
              "      <td>34696.970000</td>\n",
              "    </tr>\n",
              "    <tr>\n",
              "      <th>село Шум</th>\n",
              "      <td>1</td>\n",
              "      <td>33898.310000</td>\n",
              "    </tr>\n",
              "  </tbody>\n",
              "</table>\n",
              "<p>312 rows × 2 columns</p>\n",
              "</div>"
            ],
            "text/plain": [
              "                          count          mean\n",
              "                     sq_m_price    sq_m_price\n",
              "locality_name                                \n",
              "Бокситогорск                 16  17551.591250\n",
              "Волосово                     36  40183.326111\n",
              "Волхов                      110  35084.344818\n",
              "Всеволожск                  397  68719.320378\n",
              "Выборг                      235  58238.143277\n",
              "...                         ...           ...\n",
              "село Путилово                 2  39921.755000\n",
              "село Рождествено              3  37733.160000\n",
              "село Русско-Высоцкое          9  54833.727778\n",
              "село Старая Ладога            2  34696.970000\n",
              "село Шум                      1  33898.310000\n",
              "\n",
              "[312 rows x 2 columns]"
            ]
          },
          "execution_count": 148,
          "metadata": {},
          "output_type": "execute_result"
        }
      ],
      "source": [
        "data_filt = data.pivot_table(index='locality_name', values='sq_m_price', aggfunc=['count', 'mean'])\n",
        "data.pivot_table(index='locality_name', values='sq_m_price', aggfunc=['count', 'mean'])"
      ]
    },
    {
      "cell_type": "code",
      "execution_count": null,
      "metadata": {
        "id": "vKbOE4t9zlei",
        "outputId": "bfac6b6e-e2cd-4d83-957e-fc584b40ad01"
      },
      "outputs": [
        {
          "data": {
            "text/html": [
              "<div>\n",
              "<style scoped>\n",
              "    .dataframe tbody tr th:only-of-type {\n",
              "        vertical-align: middle;\n",
              "    }\n",
              "\n",
              "    .dataframe tbody tr th {\n",
              "        vertical-align: top;\n",
              "    }\n",
              "\n",
              "    .dataframe thead tr th {\n",
              "        text-align: left;\n",
              "    }\n",
              "\n",
              "    .dataframe thead tr:last-of-type th {\n",
              "        text-align: right;\n",
              "    }\n",
              "</style>\n",
              "<table border=\"1\" class=\"dataframe\">\n",
              "  <thead>\n",
              "    <tr>\n",
              "      <th></th>\n",
              "      <th>count</th>\n",
              "      <th>mean</th>\n",
              "    </tr>\n",
              "    <tr>\n",
              "      <th></th>\n",
              "      <th>sq_m_price</th>\n",
              "      <th>sq_m_price</th>\n",
              "    </tr>\n",
              "    <tr>\n",
              "      <th>locality_name</th>\n",
              "      <th></th>\n",
              "      <th></th>\n",
              "    </tr>\n",
              "  </thead>\n",
              "  <tbody>\n",
              "    <tr>\n",
              "      <th>Выборг</th>\n",
              "      <td>235</td>\n",
              "      <td>58238.143277</td>\n",
              "    </tr>\n",
              "    <tr>\n",
              "      <th>Гатчина</th>\n",
              "      <td>307</td>\n",
              "      <td>68746.146515</td>\n",
              "    </tr>\n",
              "    <tr>\n",
              "      <th>поселок Парголово</th>\n",
              "      <td>326</td>\n",
              "      <td>90205.423374</td>\n",
              "    </tr>\n",
              "    <tr>\n",
              "      <th>Колпино</th>\n",
              "      <td>337</td>\n",
              "      <td>75443.972849</td>\n",
              "    </tr>\n",
              "    <tr>\n",
              "      <th>Пушкин</th>\n",
              "      <td>366</td>\n",
              "      <td>103147.825574</td>\n",
              "    </tr>\n",
              "    <tr>\n",
              "      <th>Всеволожск</th>\n",
              "      <td>397</td>\n",
              "      <td>68719.320378</td>\n",
              "    </tr>\n",
              "    <tr>\n",
              "      <th>поселок Шушары</th>\n",
              "      <td>440</td>\n",
              "      <td>78677.364318</td>\n",
              "    </tr>\n",
              "    <tr>\n",
              "      <th>деревня Кудрово</th>\n",
              "      <td>471</td>\n",
              "      <td>95326.179108</td>\n",
              "    </tr>\n",
              "    <tr>\n",
              "      <th>поселок Мурино</th>\n",
              "      <td>590</td>\n",
              "      <td>86087.512017</td>\n",
              "    </tr>\n",
              "    <tr>\n",
              "      <th>Санкт-Петербург</th>\n",
              "      <td>15672</td>\n",
              "      <td>114783.224627</td>\n",
              "    </tr>\n",
              "  </tbody>\n",
              "</table>\n",
              "</div>"
            ],
            "text/plain": [
              "                       count           mean\n",
              "                  sq_m_price     sq_m_price\n",
              "locality_name                              \n",
              "Выборг                   235   58238.143277\n",
              "Гатчина                  307   68746.146515\n",
              "поселок Парголово        326   90205.423374\n",
              "Колпино                  337   75443.972849\n",
              "Пушкин                   366  103147.825574\n",
              "Всеволожск               397   68719.320378\n",
              "поселок Шушары           440   78677.364318\n",
              "деревня Кудрово          471   95326.179108\n",
              "поселок Мурино           590   86087.512017\n",
              "Санкт-Петербург        15672  114783.224627"
            ]
          },
          "execution_count": 149,
          "metadata": {},
          "output_type": "execute_result"
        }
      ],
      "source": [
        "data_filt.sort_values(by=[('count', 'sq_m_price')]).tail(10)"
      ]
    },
    {
      "cell_type": "markdown",
      "metadata": {
        "id": "LonlCuHGzlei"
      },
      "source": [
        "Выделим среднюю стоимость каждого километра для квартир в Сект-Петербурге:"
      ]
    },
    {
      "cell_type": "code",
      "execution_count": null,
      "metadata": {
        "id": "0UgFnNhczlej",
        "outputId": "8ccf843c-eeb5-4ac7-92a5-b86fa5d34ed7"
      },
      "outputs": [
        {
          "data": {
            "text/plain": [
              "cityCenters_nearest_km\n",
              "0.181     31099000.0\n",
              "0.208      5800000.0\n",
              "0.215     10990000.0\n",
              "0.287      9590000.0\n",
              "0.291     11500000.0\n",
              "             ...    \n",
              "28.644     4775000.0\n",
              "28.806     4370000.0\n",
              "29.263     4850000.0\n",
              "29.343     4200000.0\n",
              "29.493     2450000.0\n",
              "Name: last_price, Length: 6284, dtype: float64"
            ]
          },
          "execution_count": 151,
          "metadata": {},
          "output_type": "execute_result"
        }
      ],
      "source": [
        "data_spb = data.query('locality_name == \"Санкт-Петербург\"').groupby('cityCenters_nearest_km')['last_price'].mean()\n",
        "data_spb"
      ]
    },
    {
      "cell_type": "code",
      "execution_count": null,
      "metadata": {
        "id": "uQ2NOlRhzlep",
        "outputId": "8b74501d-027b-496c-b9e5-c3c1ca8e1433"
      },
      "outputs": [
        {
          "data": {
            "text/plain": [
              "<AxesSubplot:xlabel='cityCenters_nearest_km'>"
            ]
          },
          "execution_count": 152,
          "metadata": {},
          "output_type": "execute_result"
        },
        {
          "data": {
            "image/png": "[encoded data removed]",
            "text/plain": [
              "<Figure size 432x288 with 1 Axes>"
            ]
          },
          "metadata": {
            "needs_background": "light"
          },
          "output_type": "display_data"
        }
      ],
      "source": [
        "data_spb.plot(y='last_price', x='cityCenters_nearest_km')"
      ]
    },
    {
      "cell_type": "markdown",
      "metadata": {
        "id": "58s1zXG6zlep"
      },
      "source": [
        "</div>\n",
        "<div class=\"alert alert-block alert-info\">\n",
        "    Можно заметить, что удаленность от центра и цена объекта недвижимости имеет обратную зависимость. То есть, чем больше расстояние до центра Санкт-Петербурга, тем меньше цена на квартиру.\n",
        "</div>"
      ]
    },
    {
      "cell_type": "markdown",
      "metadata": {
        "id": "2X9OzHhPzleq"
      },
      "source": [
        "### Общий вывод"
      ]
    },
    {
      "cell_type": "markdown",
      "metadata": {
        "id": "tsLOcdfazleq"
      },
      "source": [
        "В данном проекте мы рассмотрели особенности и закономерности продажи недвижимости в Санкт-Петербурге и соседних населенных пунктах. Из проведенного исследования можно сказать, что квартиры в рассматриваемом регионе очень разнообразны - присутствуют как и маленькие студии по 12 кв. м, в отдаленном районе стоимостью меньше 1 млн руб., так и шикарные пентхаусы на последних этажах центральных застроек Санкт-Петербурга по цене более 400, и даже 700, млн руб. В большей степени на стоимость представленных объектов влияют такие факторы, как площадь, количество комнат и этажность. Также можно отметить, что наиболее выгодные сделки можно заключить в конце недели, с пятницы по воскресенье и в летние месяцы."
      ]
    }
  ],
  "metadata": {
    "ExecuteTimeLog": [
      {
        "duration": 768,
        "start_time": "2023-02-27T17:42:15.034Z"
      },
      {
        "duration": 25,
        "start_time": "2023-02-27T17:43:02.549Z"
      },
      {
        "duration": 2768,
        "start_time": "2023-02-27T17:47:45.642Z"
      },
      {
        "duration": 2272,
        "start_time": "2023-02-27T17:47:56.783Z"
      },
      {
        "duration": 3285,
        "start_time": "2023-02-27T17:48:12.512Z"
      },
      {
        "duration": 2274,
        "start_time": "2023-02-27T17:48:45.219Z"
      },
      {
        "duration": 2676,
        "start_time": "2023-02-27T17:49:03.678Z"
      },
      {
        "duration": 240,
        "start_time": "2023-02-27T17:51:54.338Z"
      },
      {
        "duration": 10,
        "start_time": "2023-02-27T17:54:50.385Z"
      },
      {
        "duration": 7,
        "start_time": "2023-02-27T18:07:01.152Z"
      },
      {
        "duration": 18,
        "start_time": "2023-02-27T18:07:19.348Z"
      },
      {
        "duration": 4,
        "start_time": "2023-02-27T18:07:38.898Z"
      },
      {
        "duration": 7,
        "start_time": "2023-02-27T18:09:46.932Z"
      },
      {
        "duration": 7,
        "start_time": "2023-02-27T18:15:07.629Z"
      },
      {
        "duration": 7,
        "start_time": "2023-02-27T18:15:34.633Z"
      },
      {
        "duration": 9,
        "start_time": "2023-02-27T18:15:46.213Z"
      },
      {
        "duration": 5,
        "start_time": "2023-02-27T18:16:20.273Z"
      },
      {
        "duration": 9,
        "start_time": "2023-02-27T18:16:32.084Z"
      },
      {
        "duration": 12,
        "start_time": "2023-02-27T18:18:14.763Z"
      },
      {
        "duration": 5,
        "start_time": "2023-02-27T18:27:38.002Z"
      },
      {
        "duration": 62,
        "start_time": "2023-02-27T19:18:19.245Z"
      },
      {
        "duration": 40,
        "start_time": "2023-02-27T19:18:34.342Z"
      },
      {
        "duration": 56,
        "start_time": "2023-02-27T19:19:15.522Z"
      },
      {
        "duration": 7,
        "start_time": "2023-02-27T19:19:39.841Z"
      },
      {
        "duration": 69,
        "start_time": "2023-02-27T19:23:20.477Z"
      },
      {
        "duration": 9,
        "start_time": "2023-02-27T19:23:47.689Z"
      },
      {
        "duration": 8,
        "start_time": "2023-02-27T19:29:05.775Z"
      },
      {
        "duration": 10,
        "start_time": "2023-02-27T19:29:38.479Z"
      },
      {
        "duration": 8,
        "start_time": "2023-02-27T19:30:54.241Z"
      },
      {
        "duration": 4,
        "start_time": "2023-02-27T19:32:54.098Z"
      },
      {
        "duration": 8,
        "start_time": "2023-02-27T19:33:08.975Z"
      },
      {
        "duration": 4,
        "start_time": "2023-02-27T19:33:21.216Z"
      },
      {
        "duration": 4,
        "start_time": "2023-02-27T19:33:44.773Z"
      },
      {
        "duration": 7,
        "start_time": "2023-02-27T19:33:57.618Z"
      },
      {
        "duration": 4,
        "start_time": "2023-02-27T19:34:05.894Z"
      },
      {
        "duration": 6,
        "start_time": "2023-02-27T19:37:50.781Z"
      },
      {
        "duration": 10,
        "start_time": "2023-02-27T20:30:02.128Z"
      },
      {
        "duration": 5,
        "start_time": "2023-02-27T20:31:35.065Z"
      },
      {
        "duration": 3,
        "start_time": "2023-02-27T20:31:40.532Z"
      },
      {
        "duration": 6,
        "start_time": "2023-02-27T20:32:52.371Z"
      },
      {
        "duration": 7,
        "start_time": "2023-02-27T20:33:09.171Z"
      },
      {
        "duration": 13,
        "start_time": "2023-02-27T20:34:13.749Z"
      },
      {
        "duration": 5,
        "start_time": "2023-02-27T20:34:55.584Z"
      },
      {
        "duration": 5,
        "start_time": "2023-02-27T20:35:14.605Z"
      },
      {
        "duration": 6,
        "start_time": "2023-02-27T20:35:27.727Z"
      },
      {
        "duration": 4,
        "start_time": "2023-02-27T20:35:34.899Z"
      },
      {
        "duration": 5,
        "start_time": "2023-02-27T20:36:25.041Z"
      },
      {
        "duration": 7,
        "start_time": "2023-02-27T20:36:38.710Z"
      },
      {
        "duration": 4,
        "start_time": "2023-02-27T20:36:47.109Z"
      },
      {
        "duration": 7,
        "start_time": "2023-02-27T20:38:39.719Z"
      },
      {
        "duration": 22,
        "start_time": "2023-02-27T20:39:02.402Z"
      },
      {
        "duration": 13,
        "start_time": "2023-02-27T20:39:38.359Z"
      },
      {
        "duration": 7,
        "start_time": "2023-02-27T20:40:04.437Z"
      },
      {
        "duration": 6,
        "start_time": "2023-02-27T20:40:57.440Z"
      },
      {
        "duration": 8,
        "start_time": "2023-02-27T20:41:11.059Z"
      },
      {
        "duration": 4,
        "start_time": "2023-02-27T20:41:17.889Z"
      },
      {
        "duration": 6,
        "start_time": "2023-02-27T20:41:54.311Z"
      },
      {
        "duration": 13,
        "start_time": "2023-02-27T20:42:33.847Z"
      },
      {
        "duration": 5,
        "start_time": "2023-02-27T20:42:41.067Z"
      },
      {
        "duration": 11,
        "start_time": "2023-02-27T20:43:14.293Z"
      },
      {
        "duration": 3,
        "start_time": "2023-02-27T20:43:55.629Z"
      },
      {
        "duration": 8,
        "start_time": "2023-02-27T20:44:10.707Z"
      },
      {
        "duration": 4,
        "start_time": "2023-02-27T20:46:57.588Z"
      },
      {
        "duration": 12,
        "start_time": "2023-02-27T20:47:07.118Z"
      },
      {
        "duration": 3,
        "start_time": "2023-02-28T12:46:12.183Z"
      },
      {
        "duration": 119,
        "start_time": "2023-02-28T12:46:28.219Z"
      },
      {
        "duration": 20,
        "start_time": "2023-02-28T12:46:28.340Z"
      },
      {
        "duration": 2464,
        "start_time": "2023-02-28T12:46:28.361Z"
      },
      {
        "duration": 9,
        "start_time": "2023-02-28T12:46:30.827Z"
      },
      {
        "duration": 30,
        "start_time": "2023-02-28T12:46:30.850Z"
      },
      {
        "duration": 32,
        "start_time": "2023-02-28T12:46:30.882Z"
      },
      {
        "duration": 40,
        "start_time": "2023-02-28T12:46:30.915Z"
      },
      {
        "duration": 34,
        "start_time": "2023-02-28T12:46:30.956Z"
      },
      {
        "duration": 32,
        "start_time": "2023-02-28T12:46:30.992Z"
      },
      {
        "duration": 19,
        "start_time": "2023-02-28T12:46:31.026Z"
      },
      {
        "duration": 47,
        "start_time": "2023-02-28T12:46:31.047Z"
      },
      {
        "duration": 43,
        "start_time": "2023-02-28T12:46:31.095Z"
      },
      {
        "duration": 0,
        "start_time": "2023-02-28T12:46:31.140Z"
      },
      {
        "duration": 1,
        "start_time": "2023-02-28T12:46:31.141Z"
      },
      {
        "duration": 0,
        "start_time": "2023-02-28T12:46:31.142Z"
      },
      {
        "duration": 0,
        "start_time": "2023-02-28T12:46:31.143Z"
      },
      {
        "duration": 12,
        "start_time": "2023-02-28T12:46:51.798Z"
      },
      {
        "duration": 8,
        "start_time": "2023-02-28T12:51:44.187Z"
      },
      {
        "duration": 7,
        "start_time": "2023-02-28T12:52:34.910Z"
      },
      {
        "duration": 7,
        "start_time": "2023-02-28T12:53:05.089Z"
      },
      {
        "duration": 5,
        "start_time": "2023-02-28T12:53:21.699Z"
      },
      {
        "duration": 4,
        "start_time": "2023-02-28T12:53:41.598Z"
      },
      {
        "duration": 119,
        "start_time": "2023-02-28T12:53:48.129Z"
      },
      {
        "duration": 17,
        "start_time": "2023-02-28T12:53:48.254Z"
      },
      {
        "duration": 2512,
        "start_time": "2023-02-28T12:53:48.272Z"
      },
      {
        "duration": 9,
        "start_time": "2023-02-28T12:53:50.785Z"
      },
      {
        "duration": 26,
        "start_time": "2023-02-28T12:53:50.796Z"
      },
      {
        "duration": 22,
        "start_time": "2023-02-28T12:53:50.824Z"
      },
      {
        "duration": 48,
        "start_time": "2023-02-28T12:53:50.847Z"
      },
      {
        "duration": 47,
        "start_time": "2023-02-28T12:53:50.897Z"
      },
      {
        "duration": 22,
        "start_time": "2023-02-28T12:53:50.946Z"
      },
      {
        "duration": 17,
        "start_time": "2023-02-28T12:53:50.970Z"
      },
      {
        "duration": 24,
        "start_time": "2023-02-28T12:53:50.989Z"
      },
      {
        "duration": 30,
        "start_time": "2023-02-28T12:53:51.015Z"
      },
      {
        "duration": 37,
        "start_time": "2023-02-28T12:53:51.047Z"
      },
      {
        "duration": 29,
        "start_time": "2023-02-28T12:53:51.086Z"
      },
      {
        "duration": 14,
        "start_time": "2023-02-28T12:53:51.117Z"
      },
      {
        "duration": 42,
        "start_time": "2023-02-28T12:53:51.132Z"
      },
      {
        "duration": 6,
        "start_time": "2023-02-28T13:01:04.298Z"
      },
      {
        "duration": 10,
        "start_time": "2023-02-28T13:02:55.798Z"
      },
      {
        "duration": 10,
        "start_time": "2023-02-28T13:03:35.988Z"
      },
      {
        "duration": 12,
        "start_time": "2023-02-28T13:04:04.438Z"
      },
      {
        "duration": 4,
        "start_time": "2023-02-28T13:04:37.907Z"
      },
      {
        "duration": 18,
        "start_time": "2023-02-28T13:04:46.190Z"
      },
      {
        "duration": 5,
        "start_time": "2023-02-28T13:07:07.970Z"
      },
      {
        "duration": 7,
        "start_time": "2023-02-28T13:07:16.470Z"
      },
      {
        "duration": 5,
        "start_time": "2023-02-28T13:07:48.165Z"
      },
      {
        "duration": 6,
        "start_time": "2023-02-28T13:07:54.908Z"
      },
      {
        "duration": 5,
        "start_time": "2023-02-28T13:08:01.568Z"
      },
      {
        "duration": 6,
        "start_time": "2023-02-28T13:10:24.870Z"
      },
      {
        "duration": 7,
        "start_time": "2023-02-28T13:10:41.701Z"
      },
      {
        "duration": 55,
        "start_time": "2023-02-28T13:12:29.808Z"
      },
      {
        "duration": 22,
        "start_time": "2023-02-28T13:13:00.667Z"
      },
      {
        "duration": 20,
        "start_time": "2023-02-28T13:13:09.327Z"
      },
      {
        "duration": 6,
        "start_time": "2023-02-28T13:13:38.813Z"
      },
      {
        "duration": 9,
        "start_time": "2023-02-28T13:14:35.827Z"
      },
      {
        "duration": 7,
        "start_time": "2023-02-28T13:14:49.466Z"
      },
      {
        "duration": 7,
        "start_time": "2023-02-28T13:14:54.191Z"
      },
      {
        "duration": 8,
        "start_time": "2023-02-28T13:14:59.473Z"
      },
      {
        "duration": 8,
        "start_time": "2023-02-28T13:15:08.390Z"
      },
      {
        "duration": 8,
        "start_time": "2023-02-28T13:16:20.662Z"
      },
      {
        "duration": 6,
        "start_time": "2023-02-28T13:24:44.999Z"
      },
      {
        "duration": 6,
        "start_time": "2023-02-28T13:29:57.118Z"
      },
      {
        "duration": 5,
        "start_time": "2023-02-28T13:30:01.009Z"
      },
      {
        "duration": 5,
        "start_time": "2023-02-28T13:30:03.888Z"
      },
      {
        "duration": 5,
        "start_time": "2023-02-28T13:32:01.078Z"
      },
      {
        "duration": 5,
        "start_time": "2023-02-28T13:35:01.497Z"
      },
      {
        "duration": 5,
        "start_time": "2023-02-28T13:36:57.107Z"
      },
      {
        "duration": 5,
        "start_time": "2023-02-28T13:38:19.909Z"
      },
      {
        "duration": 7,
        "start_time": "2023-02-28T13:40:41.808Z"
      },
      {
        "duration": 7,
        "start_time": "2023-02-28T14:55:08.929Z"
      },
      {
        "duration": 116,
        "start_time": "2023-02-28T15:07:50.361Z"
      },
      {
        "duration": 13,
        "start_time": "2023-02-28T15:07:50.479Z"
      },
      {
        "duration": 2585,
        "start_time": "2023-02-28T15:07:50.494Z"
      },
      {
        "duration": 9,
        "start_time": "2023-02-28T15:07:53.081Z"
      },
      {
        "duration": 9,
        "start_time": "2023-02-28T15:07:53.092Z"
      },
      {
        "duration": 13,
        "start_time": "2023-02-28T15:07:53.102Z"
      },
      {
        "duration": 9,
        "start_time": "2023-02-28T15:07:53.117Z"
      },
      {
        "duration": 21,
        "start_time": "2023-02-28T15:07:53.127Z"
      },
      {
        "duration": 8,
        "start_time": "2023-02-28T15:07:53.150Z"
      },
      {
        "duration": 20,
        "start_time": "2023-02-28T15:07:53.160Z"
      },
      {
        "duration": 8,
        "start_time": "2023-02-28T15:07:53.182Z"
      },
      {
        "duration": 28,
        "start_time": "2023-02-28T15:07:53.192Z"
      },
      {
        "duration": 23,
        "start_time": "2023-02-28T15:07:53.222Z"
      },
      {
        "duration": 39,
        "start_time": "2023-02-28T15:07:53.249Z"
      },
      {
        "duration": 13,
        "start_time": "2023-02-28T15:07:53.290Z"
      },
      {
        "duration": 7,
        "start_time": "2023-02-28T15:07:53.306Z"
      },
      {
        "duration": 30,
        "start_time": "2023-02-28T15:07:53.315Z"
      },
      {
        "duration": 36,
        "start_time": "2023-02-28T15:07:53.347Z"
      },
      {
        "duration": 23,
        "start_time": "2023-02-28T15:07:53.385Z"
      },
      {
        "duration": 13,
        "start_time": "2023-02-28T15:07:53.410Z"
      },
      {
        "duration": 22,
        "start_time": "2023-02-28T15:07:53.425Z"
      },
      {
        "duration": 12,
        "start_time": "2023-02-28T15:07:53.448Z"
      },
      {
        "duration": 11,
        "start_time": "2023-02-28T15:07:53.461Z"
      },
      {
        "duration": 6,
        "start_time": "2023-02-28T15:07:53.474Z"
      },
      {
        "duration": 9,
        "start_time": "2023-02-28T15:07:53.482Z"
      },
      {
        "duration": 31,
        "start_time": "2023-02-28T15:07:53.493Z"
      },
      {
        "duration": 8,
        "start_time": "2023-02-28T15:07:53.526Z"
      },
      {
        "duration": 12,
        "start_time": "2023-02-28T15:07:53.535Z"
      },
      {
        "duration": 19,
        "start_time": "2023-02-28T15:07:53.549Z"
      },
      {
        "duration": 8,
        "start_time": "2023-02-28T15:07:53.570Z"
      },
      {
        "duration": 20,
        "start_time": "2023-02-28T15:07:53.579Z"
      },
      {
        "duration": 14,
        "start_time": "2023-02-28T15:07:53.601Z"
      },
      {
        "duration": 17,
        "start_time": "2023-02-28T15:07:53.616Z"
      },
      {
        "duration": 10,
        "start_time": "2023-02-28T15:07:53.635Z"
      },
      {
        "duration": 13,
        "start_time": "2023-02-28T15:07:53.646Z"
      },
      {
        "duration": 6,
        "start_time": "2023-02-28T15:07:53.661Z"
      },
      {
        "duration": 8,
        "start_time": "2023-02-28T15:07:53.668Z"
      },
      {
        "duration": 7,
        "start_time": "2023-02-28T15:07:53.678Z"
      },
      {
        "duration": 12,
        "start_time": "2023-02-28T15:07:53.686Z"
      },
      {
        "duration": 15,
        "start_time": "2023-02-28T15:07:53.700Z"
      },
      {
        "duration": 7,
        "start_time": "2023-02-28T15:07:53.720Z"
      },
      {
        "duration": 11,
        "start_time": "2023-02-28T15:07:53.729Z"
      },
      {
        "duration": 6,
        "start_time": "2023-02-28T15:07:53.748Z"
      },
      {
        "duration": 12,
        "start_time": "2023-02-28T15:07:53.756Z"
      },
      {
        "duration": 8,
        "start_time": "2023-02-28T15:07:53.770Z"
      },
      {
        "duration": 15,
        "start_time": "2023-02-28T15:07:53.780Z"
      },
      {
        "duration": 15,
        "start_time": "2023-02-28T15:07:53.796Z"
      },
      {
        "duration": 20,
        "start_time": "2023-02-28T15:07:53.813Z"
      },
      {
        "duration": 34,
        "start_time": "2023-02-28T15:07:53.834Z"
      },
      {
        "duration": 28,
        "start_time": "2023-02-28T15:07:53.870Z"
      },
      {
        "duration": 26,
        "start_time": "2023-02-28T15:07:53.899Z"
      },
      {
        "duration": 32,
        "start_time": "2023-02-28T15:07:53.927Z"
      },
      {
        "duration": 18,
        "start_time": "2023-02-28T15:07:53.961Z"
      },
      {
        "duration": 16,
        "start_time": "2023-02-28T15:07:53.981Z"
      },
      {
        "duration": 23,
        "start_time": "2023-02-28T15:07:53.998Z"
      },
      {
        "duration": 24,
        "start_time": "2023-02-28T15:07:54.023Z"
      },
      {
        "duration": 19,
        "start_time": "2023-02-28T15:07:54.049Z"
      },
      {
        "duration": 21,
        "start_time": "2023-02-28T15:07:54.069Z"
      },
      {
        "duration": 15,
        "start_time": "2023-02-28T15:07:54.092Z"
      },
      {
        "duration": 12,
        "start_time": "2023-02-28T15:07:54.108Z"
      },
      {
        "duration": 19,
        "start_time": "2023-02-28T15:07:54.122Z"
      },
      {
        "duration": 11,
        "start_time": "2023-02-28T15:07:54.143Z"
      },
      {
        "duration": 12,
        "start_time": "2023-02-28T15:07:54.155Z"
      },
      {
        "duration": 16,
        "start_time": "2023-02-28T15:07:54.169Z"
      },
      {
        "duration": 10,
        "start_time": "2023-02-28T15:07:54.188Z"
      },
      {
        "duration": 9,
        "start_time": "2023-02-28T15:07:54.200Z"
      },
      {
        "duration": 26,
        "start_time": "2023-02-28T15:07:54.211Z"
      },
      {
        "duration": 13,
        "start_time": "2023-02-28T15:07:54.239Z"
      },
      {
        "duration": 13,
        "start_time": "2023-02-28T15:07:54.254Z"
      },
      {
        "duration": 10,
        "start_time": "2023-02-28T15:09:00.080Z"
      },
      {
        "duration": 10,
        "start_time": "2023-02-28T15:09:15.379Z"
      },
      {
        "duration": 104,
        "start_time": "2023-02-28T15:09:25.649Z"
      },
      {
        "duration": 13,
        "start_time": "2023-02-28T15:09:25.755Z"
      },
      {
        "duration": 2305,
        "start_time": "2023-02-28T15:09:25.769Z"
      },
      {
        "duration": 11,
        "start_time": "2023-02-28T15:09:28.076Z"
      },
      {
        "duration": 14,
        "start_time": "2023-02-28T15:09:28.090Z"
      },
      {
        "duration": 13,
        "start_time": "2023-02-28T15:09:28.106Z"
      },
      {
        "duration": 9,
        "start_time": "2023-02-28T15:09:28.121Z"
      },
      {
        "duration": 17,
        "start_time": "2023-02-28T15:09:28.131Z"
      },
      {
        "duration": 4,
        "start_time": "2023-02-28T15:09:28.149Z"
      },
      {
        "duration": 5,
        "start_time": "2023-02-28T15:09:28.154Z"
      },
      {
        "duration": 7,
        "start_time": "2023-02-28T15:09:28.160Z"
      },
      {
        "duration": 7,
        "start_time": "2023-02-28T15:09:28.168Z"
      },
      {
        "duration": 4,
        "start_time": "2023-02-28T15:09:28.177Z"
      },
      {
        "duration": 6,
        "start_time": "2023-02-28T15:09:28.183Z"
      },
      {
        "duration": 5,
        "start_time": "2023-02-28T15:09:28.190Z"
      },
      {
        "duration": 5,
        "start_time": "2023-02-28T15:09:28.196Z"
      },
      {
        "duration": 5,
        "start_time": "2023-02-28T15:09:28.202Z"
      },
      {
        "duration": 8,
        "start_time": "2023-02-28T15:09:28.208Z"
      },
      {
        "duration": 49,
        "start_time": "2023-02-28T15:09:28.217Z"
      },
      {
        "duration": 9,
        "start_time": "2023-02-28T15:09:28.268Z"
      },
      {
        "duration": 11,
        "start_time": "2023-02-28T15:09:28.279Z"
      },
      {
        "duration": 9,
        "start_time": "2023-02-28T15:09:50.881Z"
      },
      {
        "duration": 5,
        "start_time": "2023-02-28T15:10:09.478Z"
      },
      {
        "duration": 7,
        "start_time": "2023-02-28T15:10:22.198Z"
      },
      {
        "duration": 140,
        "start_time": "2023-02-28T15:10:30.330Z"
      },
      {
        "duration": 18,
        "start_time": "2023-02-28T15:10:30.472Z"
      },
      {
        "duration": 2756,
        "start_time": "2023-02-28T15:10:30.492Z"
      },
      {
        "duration": 14,
        "start_time": "2023-02-28T15:10:33.250Z"
      },
      {
        "duration": 34,
        "start_time": "2023-02-28T15:10:33.267Z"
      },
      {
        "duration": 11,
        "start_time": "2023-02-28T15:10:33.303Z"
      },
      {
        "duration": 8,
        "start_time": "2023-02-28T15:10:33.315Z"
      },
      {
        "duration": 6,
        "start_time": "2023-02-28T15:10:33.324Z"
      },
      {
        "duration": 14,
        "start_time": "2023-02-28T15:10:33.331Z"
      },
      {
        "duration": 14,
        "start_time": "2023-02-28T15:10:33.347Z"
      },
      {
        "duration": 42,
        "start_time": "2023-02-28T15:10:33.363Z"
      },
      {
        "duration": 17,
        "start_time": "2023-02-28T15:10:33.406Z"
      },
      {
        "duration": 7,
        "start_time": "2023-02-28T15:10:33.424Z"
      },
      {
        "duration": 6,
        "start_time": "2023-02-28T15:10:33.434Z"
      },
      {
        "duration": 11,
        "start_time": "2023-02-28T15:10:33.441Z"
      },
      {
        "duration": 8,
        "start_time": "2023-02-28T15:10:33.454Z"
      },
      {
        "duration": 7,
        "start_time": "2023-02-28T15:10:33.465Z"
      },
      {
        "duration": 9,
        "start_time": "2023-02-28T15:10:33.474Z"
      },
      {
        "duration": 25,
        "start_time": "2023-02-28T15:10:33.485Z"
      },
      {
        "duration": 9,
        "start_time": "2023-02-28T15:10:33.512Z"
      },
      {
        "duration": 29,
        "start_time": "2023-02-28T15:10:33.522Z"
      },
      {
        "duration": 10,
        "start_time": "2023-02-28T15:10:33.552Z"
      },
      {
        "duration": 25,
        "start_time": "2023-02-28T15:10:33.564Z"
      },
      {
        "duration": 18,
        "start_time": "2023-02-28T15:10:33.590Z"
      },
      {
        "duration": 6,
        "start_time": "2023-02-28T15:10:33.610Z"
      },
      {
        "duration": 6,
        "start_time": "2023-02-28T15:10:33.618Z"
      },
      {
        "duration": 7,
        "start_time": "2023-02-28T15:10:33.626Z"
      },
      {
        "duration": 7,
        "start_time": "2023-02-28T15:10:33.635Z"
      },
      {
        "duration": 9,
        "start_time": "2023-02-28T15:10:33.644Z"
      },
      {
        "duration": 9,
        "start_time": "2023-02-28T15:10:33.655Z"
      },
      {
        "duration": 12,
        "start_time": "2023-02-28T15:10:33.666Z"
      },
      {
        "duration": 37,
        "start_time": "2023-02-28T15:10:33.680Z"
      },
      {
        "duration": 23,
        "start_time": "2023-02-28T15:10:33.718Z"
      },
      {
        "duration": 25,
        "start_time": "2023-02-28T15:10:33.744Z"
      },
      {
        "duration": 6,
        "start_time": "2023-02-28T15:10:33.771Z"
      },
      {
        "duration": 9,
        "start_time": "2023-02-28T15:10:33.778Z"
      },
      {
        "duration": 9,
        "start_time": "2023-02-28T15:10:33.788Z"
      },
      {
        "duration": 32,
        "start_time": "2023-02-28T15:10:33.799Z"
      },
      {
        "duration": 15,
        "start_time": "2023-02-28T15:10:33.833Z"
      },
      {
        "duration": 11,
        "start_time": "2023-02-28T15:10:33.850Z"
      },
      {
        "duration": 5,
        "start_time": "2023-02-28T15:10:33.865Z"
      },
      {
        "duration": 7,
        "start_time": "2023-02-28T15:10:33.872Z"
      },
      {
        "duration": 13,
        "start_time": "2023-02-28T15:10:33.880Z"
      },
      {
        "duration": 6,
        "start_time": "2023-02-28T15:10:33.895Z"
      },
      {
        "duration": 10,
        "start_time": "2023-02-28T15:10:33.903Z"
      },
      {
        "duration": 9,
        "start_time": "2023-02-28T15:10:33.915Z"
      },
      {
        "duration": 22,
        "start_time": "2023-02-28T15:10:33.926Z"
      },
      {
        "duration": 5,
        "start_time": "2023-02-28T15:10:33.949Z"
      },
      {
        "duration": 11,
        "start_time": "2023-02-28T15:10:33.956Z"
      },
      {
        "duration": 24,
        "start_time": "2023-02-28T15:10:33.969Z"
      },
      {
        "duration": 19,
        "start_time": "2023-02-28T15:10:33.995Z"
      },
      {
        "duration": 14,
        "start_time": "2023-02-28T15:10:34.015Z"
      },
      {
        "duration": 17,
        "start_time": "2023-02-28T15:10:34.031Z"
      },
      {
        "duration": 13,
        "start_time": "2023-02-28T15:10:34.050Z"
      },
      {
        "duration": 9,
        "start_time": "2023-02-28T15:10:34.065Z"
      },
      {
        "duration": 10,
        "start_time": "2023-02-28T15:10:34.076Z"
      },
      {
        "duration": 7,
        "start_time": "2023-02-28T15:10:34.087Z"
      },
      {
        "duration": 16,
        "start_time": "2023-02-28T15:10:34.095Z"
      },
      {
        "duration": 6,
        "start_time": "2023-02-28T15:10:34.113Z"
      },
      {
        "duration": 10,
        "start_time": "2023-02-28T15:10:34.120Z"
      },
      {
        "duration": 13,
        "start_time": "2023-02-28T15:10:34.132Z"
      },
      {
        "duration": 7,
        "start_time": "2023-02-28T15:10:34.147Z"
      },
      {
        "duration": 9,
        "start_time": "2023-02-28T15:10:34.156Z"
      },
      {
        "duration": 22,
        "start_time": "2023-02-28T15:10:34.167Z"
      },
      {
        "duration": 33,
        "start_time": "2023-02-28T15:10:34.191Z"
      },
      {
        "duration": 8,
        "start_time": "2023-02-28T15:10:34.226Z"
      },
      {
        "duration": 6,
        "start_time": "2023-02-28T15:10:34.236Z"
      },
      {
        "duration": 8,
        "start_time": "2023-02-28T15:10:34.244Z"
      },
      {
        "duration": 6,
        "start_time": "2023-02-28T15:10:34.253Z"
      },
      {
        "duration": 7,
        "start_time": "2023-02-28T15:10:34.261Z"
      },
      {
        "duration": 10,
        "start_time": "2023-02-28T15:10:34.269Z"
      },
      {
        "duration": 5,
        "start_time": "2023-02-28T15:15:14.459Z"
      },
      {
        "duration": 8,
        "start_time": "2023-02-28T15:15:35.023Z"
      },
      {
        "duration": 10,
        "start_time": "2023-02-28T15:16:32.029Z"
      },
      {
        "duration": 127,
        "start_time": "2023-02-28T15:17:50.828Z"
      },
      {
        "duration": 809,
        "start_time": "2023-02-28T15:31:13.923Z"
      },
      {
        "duration": 14,
        "start_time": "2023-02-28T15:31:14.734Z"
      },
      {
        "duration": 2749,
        "start_time": "2023-02-28T15:31:14.749Z"
      },
      {
        "duration": 11,
        "start_time": "2023-02-28T15:31:17.500Z"
      },
      {
        "duration": 16,
        "start_time": "2023-02-28T15:31:17.513Z"
      },
      {
        "duration": 12,
        "start_time": "2023-02-28T15:31:17.531Z"
      },
      {
        "duration": 15,
        "start_time": "2023-02-28T15:31:17.545Z"
      },
      {
        "duration": 11,
        "start_time": "2023-02-28T15:31:17.562Z"
      },
      {
        "duration": 22,
        "start_time": "2023-02-28T15:31:17.575Z"
      },
      {
        "duration": 18,
        "start_time": "2023-02-28T15:31:17.598Z"
      },
      {
        "duration": 19,
        "start_time": "2023-02-28T15:31:17.618Z"
      },
      {
        "duration": 6,
        "start_time": "2023-02-28T15:31:17.639Z"
      },
      {
        "duration": 6,
        "start_time": "2023-02-28T15:31:17.646Z"
      },
      {
        "duration": 7,
        "start_time": "2023-02-28T15:31:17.656Z"
      },
      {
        "duration": 12,
        "start_time": "2023-02-28T15:31:17.665Z"
      },
      {
        "duration": 6,
        "start_time": "2023-02-28T15:31:17.679Z"
      },
      {
        "duration": 5,
        "start_time": "2023-02-28T15:31:17.688Z"
      },
      {
        "duration": 12,
        "start_time": "2023-02-28T15:31:17.694Z"
      },
      {
        "duration": 45,
        "start_time": "2023-02-28T15:31:17.707Z"
      },
      {
        "duration": 11,
        "start_time": "2023-02-28T15:31:17.754Z"
      },
      {
        "duration": 11,
        "start_time": "2023-02-28T15:31:17.768Z"
      },
      {
        "duration": 34,
        "start_time": "2023-02-28T15:31:17.781Z"
      },
      {
        "duration": 18,
        "start_time": "2023-02-28T15:31:17.818Z"
      },
      {
        "duration": 6,
        "start_time": "2023-02-28T15:31:17.838Z"
      },
      {
        "duration": 7,
        "start_time": "2023-02-28T15:31:17.846Z"
      },
      {
        "duration": 9,
        "start_time": "2023-02-28T15:31:17.854Z"
      },
      {
        "duration": 5,
        "start_time": "2023-02-28T15:31:17.865Z"
      },
      {
        "duration": 8,
        "start_time": "2023-02-28T15:31:17.873Z"
      },
      {
        "duration": 15,
        "start_time": "2023-02-28T15:31:17.882Z"
      },
      {
        "duration": 15,
        "start_time": "2023-02-28T15:31:17.900Z"
      },
      {
        "duration": 23,
        "start_time": "2023-02-28T15:31:17.917Z"
      },
      {
        "duration": 6,
        "start_time": "2023-02-28T15:31:17.942Z"
      },
      {
        "duration": 7,
        "start_time": "2023-02-28T15:31:17.949Z"
      },
      {
        "duration": 13,
        "start_time": "2023-02-28T15:31:17.957Z"
      },
      {
        "duration": 9,
        "start_time": "2023-02-28T15:31:17.972Z"
      },
      {
        "duration": 19,
        "start_time": "2023-02-28T15:31:17.983Z"
      },
      {
        "duration": 12,
        "start_time": "2023-02-28T15:31:18.004Z"
      },
      {
        "duration": 8,
        "start_time": "2023-02-28T15:31:18.018Z"
      },
      {
        "duration": 13,
        "start_time": "2023-02-28T15:31:18.028Z"
      },
      {
        "duration": 6,
        "start_time": "2023-02-28T15:31:18.043Z"
      },
      {
        "duration": 6,
        "start_time": "2023-02-28T15:31:18.054Z"
      },
      {
        "duration": 7,
        "start_time": "2023-02-28T15:31:18.061Z"
      },
      {
        "duration": 11,
        "start_time": "2023-02-28T15:31:18.069Z"
      },
      {
        "duration": 23,
        "start_time": "2023-02-28T15:31:18.082Z"
      },
      {
        "duration": 12,
        "start_time": "2023-02-28T15:31:18.107Z"
      },
      {
        "duration": 10,
        "start_time": "2023-02-28T15:31:18.121Z"
      },
      {
        "duration": 7,
        "start_time": "2023-02-28T15:31:18.133Z"
      },
      {
        "duration": 14,
        "start_time": "2023-02-28T15:31:18.141Z"
      },
      {
        "duration": 10,
        "start_time": "2023-02-28T15:31:18.156Z"
      },
      {
        "duration": 11,
        "start_time": "2023-02-28T15:31:18.168Z"
      },
      {
        "duration": 24,
        "start_time": "2023-02-28T15:31:18.180Z"
      },
      {
        "duration": 19,
        "start_time": "2023-02-28T15:31:18.206Z"
      },
      {
        "duration": 15,
        "start_time": "2023-02-28T15:31:18.227Z"
      },
      {
        "duration": 7,
        "start_time": "2023-02-28T15:31:18.244Z"
      },
      {
        "duration": 16,
        "start_time": "2023-02-28T15:31:18.253Z"
      },
      {
        "duration": 10,
        "start_time": "2023-02-28T15:31:18.272Z"
      },
      {
        "duration": 10,
        "start_time": "2023-02-28T15:31:18.284Z"
      },
      {
        "duration": 12,
        "start_time": "2023-02-28T15:31:18.296Z"
      },
      {
        "duration": 10,
        "start_time": "2023-02-28T15:31:18.309Z"
      },
      {
        "duration": 9,
        "start_time": "2023-02-28T15:31:18.320Z"
      },
      {
        "duration": 30,
        "start_time": "2023-02-28T15:31:18.330Z"
      },
      {
        "duration": 9,
        "start_time": "2023-02-28T15:31:18.362Z"
      },
      {
        "duration": 9,
        "start_time": "2023-02-28T15:31:18.373Z"
      },
      {
        "duration": 13,
        "start_time": "2023-02-28T15:31:18.384Z"
      },
      {
        "duration": 27,
        "start_time": "2023-02-28T15:31:18.399Z"
      },
      {
        "duration": 8,
        "start_time": "2023-02-28T15:31:18.428Z"
      },
      {
        "duration": 9,
        "start_time": "2023-02-28T15:31:18.437Z"
      },
      {
        "duration": 15,
        "start_time": "2023-02-28T15:31:18.448Z"
      },
      {
        "duration": 15,
        "start_time": "2023-02-28T15:31:18.465Z"
      },
      {
        "duration": 16,
        "start_time": "2023-02-28T15:31:18.482Z"
      },
      {
        "duration": 27,
        "start_time": "2023-02-28T15:31:18.500Z"
      },
      {
        "duration": 19,
        "start_time": "2023-02-28T15:31:18.528Z"
      },
      {
        "duration": 120,
        "start_time": "2023-02-28T15:31:50.559Z"
      },
      {
        "duration": 9,
        "start_time": "2023-02-28T15:32:14.627Z"
      },
      {
        "duration": 10,
        "start_time": "2023-02-28T15:34:46.368Z"
      },
      {
        "duration": 180,
        "start_time": "2023-02-28T15:43:58.408Z"
      },
      {
        "duration": 159,
        "start_time": "2023-02-28T15:44:06.089Z"
      },
      {
        "duration": 249,
        "start_time": "2023-02-28T15:44:19.020Z"
      },
      {
        "duration": 190,
        "start_time": "2023-02-28T15:44:24.419Z"
      },
      {
        "duration": 269,
        "start_time": "2023-02-28T15:45:15.998Z"
      },
      {
        "duration": 182,
        "start_time": "2023-02-28T15:45:23.787Z"
      },
      {
        "duration": 175,
        "start_time": "2023-02-28T15:45:35.518Z"
      },
      {
        "duration": 78,
        "start_time": "2023-02-28T15:48:43.218Z"
      },
      {
        "duration": 609,
        "start_time": "2023-02-28T15:49:02.068Z"
      },
      {
        "duration": 558,
        "start_time": "2023-02-28T15:51:29.687Z"
      },
      {
        "duration": 706,
        "start_time": "2023-02-28T15:51:43.208Z"
      },
      {
        "duration": 106,
        "start_time": "2023-02-28T15:52:02.118Z"
      },
      {
        "duration": 4,
        "start_time": "2023-02-28T15:52:33.611Z"
      },
      {
        "duration": 615,
        "start_time": "2023-02-28T15:55:56.101Z"
      },
      {
        "duration": 93,
        "start_time": "2023-02-28T15:56:20.287Z"
      },
      {
        "duration": 132,
        "start_time": "2023-02-28T15:56:36.059Z"
      },
      {
        "duration": 100,
        "start_time": "2023-02-28T15:56:43.613Z"
      },
      {
        "duration": 110,
        "start_time": "2023-02-28T15:59:29.440Z"
      },
      {
        "duration": 94,
        "start_time": "2023-02-28T15:59:39.086Z"
      },
      {
        "duration": 91,
        "start_time": "2023-02-28T15:59:44.808Z"
      },
      {
        "duration": 251,
        "start_time": "2023-02-28T15:59:54.478Z"
      },
      {
        "duration": 56,
        "start_time": "2023-02-28T16:12:18.838Z"
      },
      {
        "duration": 10,
        "start_time": "2023-02-28T16:12:29.440Z"
      },
      {
        "duration": 8,
        "start_time": "2023-02-28T16:12:51.378Z"
      },
      {
        "duration": 46,
        "start_time": "2023-02-28T16:13:20.657Z"
      },
      {
        "duration": 9,
        "start_time": "2023-02-28T16:14:14.589Z"
      },
      {
        "duration": 49,
        "start_time": "2023-02-28T16:14:24.447Z"
      },
      {
        "duration": 11,
        "start_time": "2023-02-28T16:15:21.908Z"
      },
      {
        "duration": 7,
        "start_time": "2023-02-28T16:17:33.619Z"
      },
      {
        "duration": 11,
        "start_time": "2023-02-28T16:17:41.867Z"
      },
      {
        "duration": 9,
        "start_time": "2023-02-28T16:18:36.005Z"
      },
      {
        "duration": 6,
        "start_time": "2023-02-28T16:18:45.148Z"
      },
      {
        "duration": 8,
        "start_time": "2023-02-28T16:19:16.861Z"
      },
      {
        "duration": 7,
        "start_time": "2023-02-28T16:19:19.060Z"
      },
      {
        "duration": 9,
        "start_time": "2023-02-28T16:21:30.149Z"
      },
      {
        "duration": 52,
        "start_time": "2023-02-28T16:23:07.159Z"
      },
      {
        "duration": 6,
        "start_time": "2023-02-28T16:31:45.019Z"
      },
      {
        "duration": 6,
        "start_time": "2023-02-28T16:31:55.559Z"
      },
      {
        "duration": 7,
        "start_time": "2023-02-28T16:32:06.629Z"
      },
      {
        "duration": 10,
        "start_time": "2023-02-28T16:33:05.397Z"
      },
      {
        "duration": 5,
        "start_time": "2023-02-28T16:34:55.903Z"
      },
      {
        "duration": 7,
        "start_time": "2023-02-28T16:35:00.131Z"
      },
      {
        "duration": 12,
        "start_time": "2023-02-28T16:35:03.990Z"
      },
      {
        "duration": 8,
        "start_time": "2023-02-28T16:35:26.870Z"
      },
      {
        "duration": 11,
        "start_time": "2023-02-28T16:40:32.370Z"
      },
      {
        "duration": 10,
        "start_time": "2023-02-28T16:40:55.055Z"
      },
      {
        "duration": 10,
        "start_time": "2023-02-28T16:46:50.050Z"
      },
      {
        "duration": 105,
        "start_time": "2023-02-28T16:50:52.792Z"
      },
      {
        "duration": 98,
        "start_time": "2023-02-28T16:50:59.337Z"
      },
      {
        "duration": 111,
        "start_time": "2023-02-28T16:51:05.470Z"
      },
      {
        "duration": 138,
        "start_time": "2023-02-28T16:51:17.138Z"
      },
      {
        "duration": 124,
        "start_time": "2023-02-28T16:51:22.930Z"
      },
      {
        "duration": 96,
        "start_time": "2023-02-28T16:51:30.231Z"
      },
      {
        "duration": 103,
        "start_time": "2023-02-28T16:51:42.299Z"
      },
      {
        "duration": 109,
        "start_time": "2023-02-28T16:51:50.929Z"
      },
      {
        "duration": 110,
        "start_time": "2023-02-28T16:52:28.389Z"
      },
      {
        "duration": 9,
        "start_time": "2023-02-28T16:52:53.418Z"
      },
      {
        "duration": 8,
        "start_time": "2023-02-28T16:53:02.559Z"
      },
      {
        "duration": 9,
        "start_time": "2023-02-28T16:53:18.008Z"
      },
      {
        "duration": 29,
        "start_time": "2023-02-28T16:54:44.291Z"
      },
      {
        "duration": 34,
        "start_time": "2023-02-28T16:54:50.019Z"
      },
      {
        "duration": 26,
        "start_time": "2023-02-28T16:55:34.360Z"
      },
      {
        "duration": 43,
        "start_time": "2023-03-01T16:34:49.394Z"
      },
      {
        "duration": 850,
        "start_time": "2023-03-01T16:35:04.693Z"
      },
      {
        "duration": 16,
        "start_time": "2023-03-01T16:35:05.545Z"
      },
      {
        "duration": 2861,
        "start_time": "2023-03-01T16:35:05.563Z"
      },
      {
        "duration": 10,
        "start_time": "2023-03-01T16:35:08.426Z"
      },
      {
        "duration": 3,
        "start_time": "2023-03-01T16:35:08.438Z"
      },
      {
        "duration": 10,
        "start_time": "2023-03-01T16:35:08.443Z"
      },
      {
        "duration": 8,
        "start_time": "2023-03-01T16:35:08.455Z"
      },
      {
        "duration": 5,
        "start_time": "2023-03-01T16:35:08.465Z"
      },
      {
        "duration": 6,
        "start_time": "2023-03-01T16:35:08.471Z"
      },
      {
        "duration": 5,
        "start_time": "2023-03-01T16:35:08.503Z"
      },
      {
        "duration": 10,
        "start_time": "2023-03-01T16:35:08.510Z"
      },
      {
        "duration": 9,
        "start_time": "2023-03-01T16:35:08.522Z"
      },
      {
        "duration": 11,
        "start_time": "2023-03-01T16:35:08.533Z"
      },
      {
        "duration": 10,
        "start_time": "2023-03-01T16:35:08.548Z"
      },
      {
        "duration": 9,
        "start_time": "2023-03-01T16:35:08.559Z"
      },
      {
        "duration": 6,
        "start_time": "2023-03-01T16:35:08.570Z"
      },
      {
        "duration": 6,
        "start_time": "2023-03-01T16:35:08.577Z"
      },
      {
        "duration": 278,
        "start_time": "2023-03-01T16:35:08.584Z"
      },
      {
        "duration": 0,
        "start_time": "2023-03-01T16:35:08.866Z"
      },
      {
        "duration": 0,
        "start_time": "2023-03-01T16:35:08.868Z"
      },
      {
        "duration": 0,
        "start_time": "2023-03-01T16:35:08.869Z"
      },
      {
        "duration": 0,
        "start_time": "2023-03-01T16:35:08.870Z"
      },
      {
        "duration": 0,
        "start_time": "2023-03-01T16:35:08.871Z"
      },
      {
        "duration": 0,
        "start_time": "2023-03-01T16:35:08.872Z"
      },
      {
        "duration": 0,
        "start_time": "2023-03-01T16:35:08.874Z"
      },
      {
        "duration": 0,
        "start_time": "2023-03-01T16:35:08.875Z"
      },
      {
        "duration": 0,
        "start_time": "2023-03-01T16:35:08.876Z"
      },
      {
        "duration": 0,
        "start_time": "2023-03-01T16:35:08.877Z"
      },
      {
        "duration": 0,
        "start_time": "2023-03-01T16:35:08.878Z"
      },
      {
        "duration": 0,
        "start_time": "2023-03-01T16:35:08.879Z"
      },
      {
        "duration": 0,
        "start_time": "2023-03-01T16:35:08.880Z"
      },
      {
        "duration": 0,
        "start_time": "2023-03-01T16:35:08.881Z"
      },
      {
        "duration": 0,
        "start_time": "2023-03-01T16:35:08.881Z"
      },
      {
        "duration": 0,
        "start_time": "2023-03-01T16:35:08.882Z"
      },
      {
        "duration": 0,
        "start_time": "2023-03-01T16:35:08.884Z"
      },
      {
        "duration": 0,
        "start_time": "2023-03-01T16:35:08.885Z"
      },
      {
        "duration": 0,
        "start_time": "2023-03-01T16:35:08.887Z"
      },
      {
        "duration": 0,
        "start_time": "2023-03-01T16:35:08.888Z"
      },
      {
        "duration": 0,
        "start_time": "2023-03-01T16:35:08.889Z"
      },
      {
        "duration": 0,
        "start_time": "2023-03-01T16:35:08.890Z"
      },
      {
        "duration": 0,
        "start_time": "2023-03-01T16:35:08.891Z"
      },
      {
        "duration": 0,
        "start_time": "2023-03-01T16:35:08.892Z"
      },
      {
        "duration": 0,
        "start_time": "2023-03-01T16:35:08.893Z"
      },
      {
        "duration": 0,
        "start_time": "2023-03-01T16:35:08.895Z"
      },
      {
        "duration": 0,
        "start_time": "2023-03-01T16:35:08.897Z"
      },
      {
        "duration": 0,
        "start_time": "2023-03-01T16:35:08.898Z"
      },
      {
        "duration": 0,
        "start_time": "2023-03-01T16:35:08.901Z"
      },
      {
        "duration": 0,
        "start_time": "2023-03-01T16:35:08.902Z"
      },
      {
        "duration": 0,
        "start_time": "2023-03-01T16:35:08.903Z"
      },
      {
        "duration": 0,
        "start_time": "2023-03-01T16:35:08.904Z"
      },
      {
        "duration": 0,
        "start_time": "2023-03-01T16:35:08.905Z"
      },
      {
        "duration": 0,
        "start_time": "2023-03-01T16:35:08.907Z"
      },
      {
        "duration": 0,
        "start_time": "2023-03-01T16:35:08.908Z"
      },
      {
        "duration": 0,
        "start_time": "2023-03-01T16:35:08.909Z"
      },
      {
        "duration": 0,
        "start_time": "2023-03-01T16:35:08.910Z"
      },
      {
        "duration": 0,
        "start_time": "2023-03-01T16:35:08.910Z"
      },
      {
        "duration": 0,
        "start_time": "2023-03-01T16:35:08.911Z"
      },
      {
        "duration": 0,
        "start_time": "2023-03-01T16:35:08.912Z"
      },
      {
        "duration": 0,
        "start_time": "2023-03-01T16:35:08.913Z"
      },
      {
        "duration": 0,
        "start_time": "2023-03-01T16:35:08.914Z"
      },
      {
        "duration": 0,
        "start_time": "2023-03-01T16:35:08.915Z"
      },
      {
        "duration": 0,
        "start_time": "2023-03-01T16:35:08.916Z"
      },
      {
        "duration": 0,
        "start_time": "2023-03-01T16:35:08.917Z"
      },
      {
        "duration": 0,
        "start_time": "2023-03-01T16:35:08.918Z"
      },
      {
        "duration": 0,
        "start_time": "2023-03-01T16:35:08.919Z"
      },
      {
        "duration": 0,
        "start_time": "2023-03-01T16:35:08.920Z"
      },
      {
        "duration": 0,
        "start_time": "2023-03-01T16:35:08.921Z"
      },
      {
        "duration": 0,
        "start_time": "2023-03-01T16:35:08.922Z"
      },
      {
        "duration": 0,
        "start_time": "2023-03-01T16:35:08.923Z"
      },
      {
        "duration": 0,
        "start_time": "2023-03-01T16:35:08.924Z"
      },
      {
        "duration": 0,
        "start_time": "2023-03-01T16:35:08.925Z"
      },
      {
        "duration": 0,
        "start_time": "2023-03-01T16:35:08.926Z"
      },
      {
        "duration": 0,
        "start_time": "2023-03-01T16:35:08.928Z"
      },
      {
        "duration": 0,
        "start_time": "2023-03-01T16:35:08.929Z"
      },
      {
        "duration": 0,
        "start_time": "2023-03-01T16:35:08.930Z"
      },
      {
        "duration": 0,
        "start_time": "2023-03-01T16:35:08.931Z"
      },
      {
        "duration": 0,
        "start_time": "2023-03-01T16:35:08.932Z"
      },
      {
        "duration": 0,
        "start_time": "2023-03-01T16:35:08.933Z"
      },
      {
        "duration": 0,
        "start_time": "2023-03-01T16:35:08.934Z"
      },
      {
        "duration": 0,
        "start_time": "2023-03-01T16:35:08.936Z"
      },
      {
        "duration": 0,
        "start_time": "2023-03-01T16:35:08.937Z"
      },
      {
        "duration": 0,
        "start_time": "2023-03-01T16:35:08.938Z"
      },
      {
        "duration": 6,
        "start_time": "2023-03-01T16:35:14.095Z"
      },
      {
        "duration": 5,
        "start_time": "2023-03-01T16:35:17.623Z"
      },
      {
        "duration": 120,
        "start_time": "2023-03-01T16:35:26.759Z"
      },
      {
        "duration": 32,
        "start_time": "2023-03-01T16:35:26.882Z"
      },
      {
        "duration": 2576,
        "start_time": "2023-03-01T16:35:26.916Z"
      },
      {
        "duration": 16,
        "start_time": "2023-03-01T16:35:29.494Z"
      },
      {
        "duration": 8,
        "start_time": "2023-03-01T16:35:29.513Z"
      },
      {
        "duration": 8,
        "start_time": "2023-03-01T16:35:29.522Z"
      },
      {
        "duration": 7,
        "start_time": "2023-03-01T16:35:29.532Z"
      },
      {
        "duration": 6,
        "start_time": "2023-03-01T16:35:29.540Z"
      },
      {
        "duration": 7,
        "start_time": "2023-03-01T16:35:29.547Z"
      },
      {
        "duration": 6,
        "start_time": "2023-03-01T16:35:29.556Z"
      },
      {
        "duration": 7,
        "start_time": "2023-03-01T16:35:29.564Z"
      },
      {
        "duration": 31,
        "start_time": "2023-03-01T16:35:29.573Z"
      },
      {
        "duration": 3,
        "start_time": "2023-03-01T16:35:29.606Z"
      },
      {
        "duration": 5,
        "start_time": "2023-03-01T16:35:29.612Z"
      },
      {
        "duration": 8,
        "start_time": "2023-03-01T16:35:29.619Z"
      },
      {
        "duration": 4,
        "start_time": "2023-03-01T16:35:29.629Z"
      },
      {
        "duration": 5,
        "start_time": "2023-03-01T16:35:29.635Z"
      },
      {
        "duration": 79,
        "start_time": "2023-03-01T16:35:29.642Z"
      },
      {
        "duration": 0,
        "start_time": "2023-03-01T16:35:29.724Z"
      },
      {
        "duration": 0,
        "start_time": "2023-03-01T16:35:29.725Z"
      },
      {
        "duration": 0,
        "start_time": "2023-03-01T16:35:29.726Z"
      },
      {
        "duration": 0,
        "start_time": "2023-03-01T16:35:29.727Z"
      },
      {
        "duration": 0,
        "start_time": "2023-03-01T16:35:29.729Z"
      },
      {
        "duration": 0,
        "start_time": "2023-03-01T16:35:29.730Z"
      },
      {
        "duration": 0,
        "start_time": "2023-03-01T16:35:29.731Z"
      },
      {
        "duration": 0,
        "start_time": "2023-03-01T16:35:29.732Z"
      },
      {
        "duration": 0,
        "start_time": "2023-03-01T16:35:29.733Z"
      },
      {
        "duration": 0,
        "start_time": "2023-03-01T16:35:29.734Z"
      },
      {
        "duration": 0,
        "start_time": "2023-03-01T16:35:29.736Z"
      },
      {
        "duration": 0,
        "start_time": "2023-03-01T16:35:29.737Z"
      },
      {
        "duration": 0,
        "start_time": "2023-03-01T16:35:29.738Z"
      },
      {
        "duration": 0,
        "start_time": "2023-03-01T16:35:29.739Z"
      },
      {
        "duration": 0,
        "start_time": "2023-03-01T16:35:29.740Z"
      },
      {
        "duration": 0,
        "start_time": "2023-03-01T16:35:29.741Z"
      },
      {
        "duration": 0,
        "start_time": "2023-03-01T16:35:29.742Z"
      },
      {
        "duration": 0,
        "start_time": "2023-03-01T16:35:29.743Z"
      },
      {
        "duration": 0,
        "start_time": "2023-03-01T16:35:29.744Z"
      },
      {
        "duration": 0,
        "start_time": "2023-03-01T16:35:29.745Z"
      },
      {
        "duration": 0,
        "start_time": "2023-03-01T16:35:29.746Z"
      },
      {
        "duration": 0,
        "start_time": "2023-03-01T16:35:29.747Z"
      },
      {
        "duration": 0,
        "start_time": "2023-03-01T16:35:29.748Z"
      },
      {
        "duration": 0,
        "start_time": "2023-03-01T16:35:29.750Z"
      },
      {
        "duration": 0,
        "start_time": "2023-03-01T16:35:29.751Z"
      },
      {
        "duration": 0,
        "start_time": "2023-03-01T16:35:29.752Z"
      },
      {
        "duration": 0,
        "start_time": "2023-03-01T16:35:29.753Z"
      },
      {
        "duration": 0,
        "start_time": "2023-03-01T16:35:29.754Z"
      },
      {
        "duration": 0,
        "start_time": "2023-03-01T16:35:29.755Z"
      },
      {
        "duration": 0,
        "start_time": "2023-03-01T16:35:29.756Z"
      },
      {
        "duration": 0,
        "start_time": "2023-03-01T16:35:29.757Z"
      },
      {
        "duration": 0,
        "start_time": "2023-03-01T16:35:29.758Z"
      },
      {
        "duration": 0,
        "start_time": "2023-03-01T16:35:29.805Z"
      },
      {
        "duration": 0,
        "start_time": "2023-03-01T16:35:29.806Z"
      },
      {
        "duration": 0,
        "start_time": "2023-03-01T16:35:29.808Z"
      },
      {
        "duration": 0,
        "start_time": "2023-03-01T16:35:29.809Z"
      },
      {
        "duration": 0,
        "start_time": "2023-03-01T16:35:29.810Z"
      },
      {
        "duration": 0,
        "start_time": "2023-03-01T16:35:29.811Z"
      },
      {
        "duration": 0,
        "start_time": "2023-03-01T16:35:29.813Z"
      },
      {
        "duration": 0,
        "start_time": "2023-03-01T16:35:29.814Z"
      },
      {
        "duration": 0,
        "start_time": "2023-03-01T16:35:29.815Z"
      },
      {
        "duration": 0,
        "start_time": "2023-03-01T16:35:29.817Z"
      },
      {
        "duration": 0,
        "start_time": "2023-03-01T16:35:29.818Z"
      },
      {
        "duration": 0,
        "start_time": "2023-03-01T16:35:29.819Z"
      },
      {
        "duration": 0,
        "start_time": "2023-03-01T16:35:29.820Z"
      },
      {
        "duration": 0,
        "start_time": "2023-03-01T16:35:29.821Z"
      },
      {
        "duration": 0,
        "start_time": "2023-03-01T16:35:29.822Z"
      },
      {
        "duration": 0,
        "start_time": "2023-03-01T16:35:29.823Z"
      },
      {
        "duration": 0,
        "start_time": "2023-03-01T16:35:29.824Z"
      },
      {
        "duration": 0,
        "start_time": "2023-03-01T16:35:29.825Z"
      },
      {
        "duration": 0,
        "start_time": "2023-03-01T16:35:29.826Z"
      },
      {
        "duration": 0,
        "start_time": "2023-03-01T16:35:29.827Z"
      },
      {
        "duration": 0,
        "start_time": "2023-03-01T16:35:29.828Z"
      },
      {
        "duration": 0,
        "start_time": "2023-03-01T16:35:29.829Z"
      },
      {
        "duration": 0,
        "start_time": "2023-03-01T16:35:29.831Z"
      },
      {
        "duration": 0,
        "start_time": "2023-03-01T16:35:29.831Z"
      },
      {
        "duration": 0,
        "start_time": "2023-03-01T16:35:29.832Z"
      },
      {
        "duration": 0,
        "start_time": "2023-03-01T16:35:29.833Z"
      },
      {
        "duration": 0,
        "start_time": "2023-03-01T16:35:29.834Z"
      },
      {
        "duration": 0,
        "start_time": "2023-03-01T16:35:29.835Z"
      },
      {
        "duration": 0,
        "start_time": "2023-03-01T16:35:29.836Z"
      },
      {
        "duration": 0,
        "start_time": "2023-03-01T16:35:29.837Z"
      },
      {
        "duration": 0,
        "start_time": "2023-03-01T16:35:29.838Z"
      },
      {
        "duration": 0,
        "start_time": "2023-03-01T16:35:29.839Z"
      },
      {
        "duration": 0,
        "start_time": "2023-03-01T16:35:29.840Z"
      },
      {
        "duration": 0,
        "start_time": "2023-03-01T16:35:29.842Z"
      },
      {
        "duration": 0,
        "start_time": "2023-03-01T16:35:29.905Z"
      },
      {
        "duration": 0,
        "start_time": "2023-03-01T16:35:29.907Z"
      },
      {
        "duration": 125,
        "start_time": "2023-03-01T17:45:07.951Z"
      },
      {
        "duration": 30,
        "start_time": "2023-03-01T17:45:08.078Z"
      },
      {
        "duration": 2432,
        "start_time": "2023-03-01T17:45:08.110Z"
      },
      {
        "duration": 15,
        "start_time": "2023-03-01T17:45:10.544Z"
      },
      {
        "duration": 14,
        "start_time": "2023-03-01T17:45:10.562Z"
      },
      {
        "duration": 9,
        "start_time": "2023-03-01T17:45:10.578Z"
      },
      {
        "duration": 20,
        "start_time": "2023-03-01T17:45:10.589Z"
      },
      {
        "duration": 5,
        "start_time": "2023-03-01T17:45:10.612Z"
      },
      {
        "duration": 8,
        "start_time": "2023-03-01T17:45:10.619Z"
      },
      {
        "duration": 9,
        "start_time": "2023-03-01T17:45:10.629Z"
      },
      {
        "duration": 9,
        "start_time": "2023-03-01T17:45:10.639Z"
      },
      {
        "duration": 10,
        "start_time": "2023-03-01T17:45:10.650Z"
      },
      {
        "duration": 7,
        "start_time": "2023-03-01T17:45:10.662Z"
      },
      {
        "duration": 7,
        "start_time": "2023-03-01T17:45:10.674Z"
      },
      {
        "duration": 5,
        "start_time": "2023-03-01T17:45:10.705Z"
      },
      {
        "duration": 16,
        "start_time": "2023-03-01T17:45:10.712Z"
      },
      {
        "duration": 4,
        "start_time": "2023-03-01T17:45:10.730Z"
      },
      {
        "duration": 81,
        "start_time": "2023-03-01T17:45:10.736Z"
      },
      {
        "duration": 0,
        "start_time": "2023-03-01T17:45:10.820Z"
      },
      {
        "duration": 0,
        "start_time": "2023-03-01T17:45:10.821Z"
      },
      {
        "duration": 0,
        "start_time": "2023-03-01T17:45:10.822Z"
      },
      {
        "duration": 0,
        "start_time": "2023-03-01T17:45:10.824Z"
      },
      {
        "duration": 0,
        "start_time": "2023-03-01T17:45:10.825Z"
      },
      {
        "duration": 0,
        "start_time": "2023-03-01T17:45:10.826Z"
      },
      {
        "duration": 0,
        "start_time": "2023-03-01T17:45:10.828Z"
      },
      {
        "duration": 0,
        "start_time": "2023-03-01T17:45:10.829Z"
      },
      {
        "duration": 0,
        "start_time": "2023-03-01T17:45:10.830Z"
      },
      {
        "duration": 0,
        "start_time": "2023-03-01T17:45:10.831Z"
      },
      {
        "duration": 0,
        "start_time": "2023-03-01T17:45:10.833Z"
      },
      {
        "duration": 0,
        "start_time": "2023-03-01T17:45:10.834Z"
      },
      {
        "duration": 0,
        "start_time": "2023-03-01T17:45:10.835Z"
      },
      {
        "duration": 0,
        "start_time": "2023-03-01T17:45:10.837Z"
      },
      {
        "duration": 0,
        "start_time": "2023-03-01T17:45:10.839Z"
      },
      {
        "duration": 0,
        "start_time": "2023-03-01T17:45:10.840Z"
      },
      {
        "duration": 0,
        "start_time": "2023-03-01T17:45:10.842Z"
      },
      {
        "duration": 0,
        "start_time": "2023-03-01T17:45:10.843Z"
      },
      {
        "duration": 0,
        "start_time": "2023-03-01T17:45:10.845Z"
      },
      {
        "duration": 0,
        "start_time": "2023-03-01T17:45:10.846Z"
      },
      {
        "duration": 0,
        "start_time": "2023-03-01T17:45:10.848Z"
      },
      {
        "duration": 0,
        "start_time": "2023-03-01T17:45:10.849Z"
      },
      {
        "duration": 0,
        "start_time": "2023-03-01T17:45:10.851Z"
      },
      {
        "duration": 0,
        "start_time": "2023-03-01T17:45:10.852Z"
      },
      {
        "duration": 0,
        "start_time": "2023-03-01T17:45:10.854Z"
      },
      {
        "duration": 0,
        "start_time": "2023-03-01T17:45:10.855Z"
      },
      {
        "duration": 0,
        "start_time": "2023-03-01T17:45:10.905Z"
      },
      {
        "duration": 0,
        "start_time": "2023-03-01T17:45:10.906Z"
      },
      {
        "duration": 0,
        "start_time": "2023-03-01T17:45:10.908Z"
      },
      {
        "duration": 0,
        "start_time": "2023-03-01T17:45:10.909Z"
      },
      {
        "duration": 0,
        "start_time": "2023-03-01T17:45:10.911Z"
      },
      {
        "duration": 0,
        "start_time": "2023-03-01T17:45:10.912Z"
      },
      {
        "duration": 0,
        "start_time": "2023-03-01T17:45:10.913Z"
      },
      {
        "duration": 0,
        "start_time": "2023-03-01T17:45:10.914Z"
      },
      {
        "duration": 0,
        "start_time": "2023-03-01T17:45:10.915Z"
      },
      {
        "duration": 0,
        "start_time": "2023-03-01T17:45:10.916Z"
      },
      {
        "duration": 0,
        "start_time": "2023-03-01T17:45:10.917Z"
      },
      {
        "duration": 0,
        "start_time": "2023-03-01T17:45:10.918Z"
      },
      {
        "duration": 0,
        "start_time": "2023-03-01T17:45:10.919Z"
      },
      {
        "duration": 0,
        "start_time": "2023-03-01T17:45:10.920Z"
      },
      {
        "duration": 0,
        "start_time": "2023-03-01T17:45:10.922Z"
      },
      {
        "duration": 0,
        "start_time": "2023-03-01T17:45:10.923Z"
      },
      {
        "duration": 0,
        "start_time": "2023-03-01T17:45:10.923Z"
      },
      {
        "duration": 0,
        "start_time": "2023-03-01T17:45:10.924Z"
      },
      {
        "duration": 0,
        "start_time": "2023-03-01T17:45:10.925Z"
      },
      {
        "duration": 0,
        "start_time": "2023-03-01T17:45:10.926Z"
      },
      {
        "duration": 0,
        "start_time": "2023-03-01T17:45:10.927Z"
      },
      {
        "duration": 0,
        "start_time": "2023-03-01T17:45:10.928Z"
      },
      {
        "duration": 0,
        "start_time": "2023-03-01T17:45:10.929Z"
      },
      {
        "duration": 0,
        "start_time": "2023-03-01T17:45:10.930Z"
      },
      {
        "duration": 0,
        "start_time": "2023-03-01T17:45:10.932Z"
      },
      {
        "duration": 0,
        "start_time": "2023-03-01T17:45:10.933Z"
      },
      {
        "duration": 0,
        "start_time": "2023-03-01T17:45:10.934Z"
      },
      {
        "duration": 0,
        "start_time": "2023-03-01T17:45:10.935Z"
      },
      {
        "duration": 1,
        "start_time": "2023-03-01T17:45:10.935Z"
      },
      {
        "duration": 0,
        "start_time": "2023-03-01T17:45:10.937Z"
      },
      {
        "duration": 0,
        "start_time": "2023-03-01T17:45:10.938Z"
      },
      {
        "duration": 0,
        "start_time": "2023-03-01T17:45:10.939Z"
      },
      {
        "duration": 0,
        "start_time": "2023-03-01T17:45:10.940Z"
      },
      {
        "duration": 0,
        "start_time": "2023-03-01T17:45:11.004Z"
      },
      {
        "duration": 0,
        "start_time": "2023-03-01T17:45:11.005Z"
      },
      {
        "duration": 0,
        "start_time": "2023-03-01T17:45:11.007Z"
      },
      {
        "duration": 0,
        "start_time": "2023-03-01T17:45:11.008Z"
      },
      {
        "duration": 0,
        "start_time": "2023-03-01T17:45:11.009Z"
      },
      {
        "duration": 0,
        "start_time": "2023-03-01T17:45:11.010Z"
      },
      {
        "duration": 0,
        "start_time": "2023-03-01T17:45:11.010Z"
      },
      {
        "duration": 0,
        "start_time": "2023-03-01T17:45:11.011Z"
      },
      {
        "duration": 0,
        "start_time": "2023-03-01T17:45:11.012Z"
      },
      {
        "duration": 129,
        "start_time": "2023-03-01T17:45:59.113Z"
      },
      {
        "duration": 15,
        "start_time": "2023-03-01T17:45:59.244Z"
      },
      {
        "duration": 2625,
        "start_time": "2023-03-01T17:45:59.261Z"
      },
      {
        "duration": 20,
        "start_time": "2023-03-01T17:46:01.887Z"
      },
      {
        "duration": 11,
        "start_time": "2023-03-01T17:46:01.912Z"
      },
      {
        "duration": 20,
        "start_time": "2023-03-01T17:46:01.924Z"
      },
      {
        "duration": 13,
        "start_time": "2023-03-01T17:46:01.945Z"
      },
      {
        "duration": 10,
        "start_time": "2023-03-01T17:46:01.959Z"
      },
      {
        "duration": 12,
        "start_time": "2023-03-01T17:46:01.971Z"
      },
      {
        "duration": 10,
        "start_time": "2023-03-01T17:46:01.984Z"
      },
      {
        "duration": 27,
        "start_time": "2023-03-01T17:46:01.996Z"
      },
      {
        "duration": 25,
        "start_time": "2023-03-01T17:46:02.024Z"
      },
      {
        "duration": 17,
        "start_time": "2023-03-01T17:46:02.050Z"
      },
      {
        "duration": 14,
        "start_time": "2023-03-01T17:46:02.070Z"
      },
      {
        "duration": 16,
        "start_time": "2023-03-01T17:46:02.085Z"
      },
      {
        "duration": 26,
        "start_time": "2023-03-01T17:46:02.107Z"
      },
      {
        "duration": 5,
        "start_time": "2023-03-01T17:46:02.135Z"
      },
      {
        "duration": 7,
        "start_time": "2023-03-01T17:46:02.142Z"
      },
      {
        "duration": 43,
        "start_time": "2023-03-01T17:46:02.151Z"
      },
      {
        "duration": 8,
        "start_time": "2023-03-01T17:46:02.196Z"
      },
      {
        "duration": 28,
        "start_time": "2023-03-01T17:46:02.205Z"
      },
      {
        "duration": 31,
        "start_time": "2023-03-01T17:46:02.235Z"
      },
      {
        "duration": 49,
        "start_time": "2023-03-01T17:46:02.268Z"
      },
      {
        "duration": 36,
        "start_time": "2023-03-01T17:46:02.320Z"
      },
      {
        "duration": 24,
        "start_time": "2023-03-01T17:46:02.358Z"
      },
      {
        "duration": 36,
        "start_time": "2023-03-01T17:46:02.384Z"
      },
      {
        "duration": 42,
        "start_time": "2023-03-01T17:46:02.423Z"
      },
      {
        "duration": 17,
        "start_time": "2023-03-01T17:46:02.467Z"
      },
      {
        "duration": 58,
        "start_time": "2023-03-01T17:46:02.487Z"
      },
      {
        "duration": 29,
        "start_time": "2023-03-01T17:46:02.547Z"
      },
      {
        "duration": 27,
        "start_time": "2023-03-01T17:46:02.578Z"
      },
      {
        "duration": 29,
        "start_time": "2023-03-01T17:46:02.607Z"
      },
      {
        "duration": 19,
        "start_time": "2023-03-01T17:46:02.637Z"
      },
      {
        "duration": 27,
        "start_time": "2023-03-01T17:46:02.658Z"
      },
      {
        "duration": 42,
        "start_time": "2023-03-01T17:46:02.687Z"
      },
      {
        "duration": 16,
        "start_time": "2023-03-01T17:46:02.731Z"
      },
      {
        "duration": 13,
        "start_time": "2023-03-01T17:46:02.749Z"
      },
      {
        "duration": 23,
        "start_time": "2023-03-01T17:46:02.764Z"
      },
      {
        "duration": 37,
        "start_time": "2023-03-01T17:46:02.789Z"
      },
      {
        "duration": 12,
        "start_time": "2023-03-01T17:46:02.828Z"
      },
      {
        "duration": 11,
        "start_time": "2023-03-01T17:46:02.844Z"
      },
      {
        "duration": 34,
        "start_time": "2023-03-01T17:46:02.857Z"
      },
      {
        "duration": 35,
        "start_time": "2023-03-01T17:46:02.893Z"
      },
      {
        "duration": 22,
        "start_time": "2023-03-01T17:46:02.930Z"
      },
      {
        "duration": 11,
        "start_time": "2023-03-01T17:46:02.954Z"
      },
      {
        "duration": 14,
        "start_time": "2023-03-01T17:46:02.966Z"
      },
      {
        "duration": 8,
        "start_time": "2023-03-01T17:46:02.981Z"
      },
      {
        "duration": 8,
        "start_time": "2023-03-01T17:46:02.991Z"
      },
      {
        "duration": 24,
        "start_time": "2023-03-01T17:46:03.001Z"
      },
      {
        "duration": 10,
        "start_time": "2023-03-01T17:46:03.026Z"
      },
      {
        "duration": 10,
        "start_time": "2023-03-01T17:46:03.038Z"
      },
      {
        "duration": 6,
        "start_time": "2023-03-01T17:46:03.049Z"
      },
      {
        "duration": 21,
        "start_time": "2023-03-01T17:46:03.056Z"
      },
      {
        "duration": 7,
        "start_time": "2023-03-01T17:46:03.078Z"
      },
      {
        "duration": 6,
        "start_time": "2023-03-01T17:46:03.087Z"
      },
      {
        "duration": 29,
        "start_time": "2023-03-01T17:46:03.094Z"
      },
      {
        "duration": 16,
        "start_time": "2023-03-01T17:46:03.125Z"
      },
      {
        "duration": 13,
        "start_time": "2023-03-01T17:46:03.143Z"
      },
      {
        "duration": 12,
        "start_time": "2023-03-01T17:46:03.158Z"
      },
      {
        "duration": 12,
        "start_time": "2023-03-01T17:46:03.172Z"
      },
      {
        "duration": 6,
        "start_time": "2023-03-01T17:46:03.187Z"
      },
      {
        "duration": 17,
        "start_time": "2023-03-01T17:46:03.196Z"
      },
      {
        "duration": 21,
        "start_time": "2023-03-01T17:46:03.215Z"
      },
      {
        "duration": 17,
        "start_time": "2023-03-01T17:46:03.238Z"
      },
      {
        "duration": 13,
        "start_time": "2023-03-01T17:46:03.256Z"
      },
      {
        "duration": 7,
        "start_time": "2023-03-01T17:46:03.270Z"
      },
      {
        "duration": 13,
        "start_time": "2023-03-01T17:46:03.279Z"
      },
      {
        "duration": 9,
        "start_time": "2023-03-01T17:46:03.293Z"
      },
      {
        "duration": 26,
        "start_time": "2023-03-01T17:46:03.303Z"
      },
      {
        "duration": 8,
        "start_time": "2023-03-01T17:46:03.331Z"
      },
      {
        "duration": 7,
        "start_time": "2023-03-01T17:46:03.340Z"
      },
      {
        "duration": 15,
        "start_time": "2023-03-01T17:46:03.349Z"
      },
      {
        "duration": 603,
        "start_time": "2023-03-01T17:46:03.366Z"
      },
      {
        "duration": 9,
        "start_time": "2023-03-01T17:46:03.971Z"
      },
      {
        "duration": 278,
        "start_time": "2023-03-01T17:46:03.981Z"
      },
      {
        "duration": 8,
        "start_time": "2023-03-01T17:46:04.261Z"
      },
      {
        "duration": 9,
        "start_time": "2023-03-01T17:46:04.272Z"
      },
      {
        "duration": 37,
        "start_time": "2023-03-01T17:46:04.282Z"
      },
      {
        "duration": 97,
        "start_time": "2023-03-01T17:46:04.322Z"
      },
      {
        "duration": 0,
        "start_time": "2023-03-01T17:46:04.422Z"
      },
      {
        "duration": 0,
        "start_time": "2023-03-01T17:46:04.424Z"
      },
      {
        "duration": 0,
        "start_time": "2023-03-01T17:46:04.426Z"
      },
      {
        "duration": 0,
        "start_time": "2023-03-01T17:46:04.427Z"
      },
      {
        "duration": 0,
        "start_time": "2023-03-01T17:46:04.428Z"
      },
      {
        "duration": 0,
        "start_time": "2023-03-01T17:46:04.430Z"
      },
      {
        "duration": 8,
        "start_time": "2023-03-01T17:46:30.331Z"
      },
      {
        "duration": 123,
        "start_time": "2023-03-01T17:46:42.659Z"
      },
      {
        "duration": 33,
        "start_time": "2023-03-01T17:46:42.784Z"
      },
      {
        "duration": 2313,
        "start_time": "2023-03-01T17:46:42.819Z"
      },
      {
        "duration": 10,
        "start_time": "2023-03-01T17:46:45.134Z"
      },
      {
        "duration": 18,
        "start_time": "2023-03-01T17:46:45.146Z"
      },
      {
        "duration": 20,
        "start_time": "2023-03-01T17:46:45.166Z"
      },
      {
        "duration": 22,
        "start_time": "2023-03-01T17:46:45.188Z"
      },
      {
        "duration": 20,
        "start_time": "2023-03-01T17:46:45.211Z"
      },
      {
        "duration": 23,
        "start_time": "2023-03-01T17:46:45.232Z"
      },
      {
        "duration": 38,
        "start_time": "2023-03-01T17:46:45.257Z"
      },
      {
        "duration": 30,
        "start_time": "2023-03-01T17:46:45.296Z"
      },
      {
        "duration": 41,
        "start_time": "2023-03-01T17:46:45.328Z"
      },
      {
        "duration": 23,
        "start_time": "2023-03-01T17:46:45.370Z"
      },
      {
        "duration": 14,
        "start_time": "2023-03-01T17:46:45.396Z"
      },
      {
        "duration": 38,
        "start_time": "2023-03-01T17:46:45.411Z"
      },
      {
        "duration": 20,
        "start_time": "2023-03-01T17:46:45.450Z"
      },
      {
        "duration": 21,
        "start_time": "2023-03-01T17:46:45.472Z"
      },
      {
        "duration": 33,
        "start_time": "2023-03-01T17:46:45.495Z"
      },
      {
        "duration": 39,
        "start_time": "2023-03-01T17:46:45.530Z"
      },
      {
        "duration": 26,
        "start_time": "2023-03-01T17:46:45.571Z"
      },
      {
        "duration": 16,
        "start_time": "2023-03-01T17:46:45.599Z"
      },
      {
        "duration": 29,
        "start_time": "2023-03-01T17:46:45.616Z"
      },
      {
        "duration": 10,
        "start_time": "2023-03-01T17:46:45.647Z"
      },
      {
        "duration": 34,
        "start_time": "2023-03-01T17:46:45.659Z"
      },
      {
        "duration": 26,
        "start_time": "2023-03-01T17:46:45.695Z"
      },
      {
        "duration": 17,
        "start_time": "2023-03-01T17:46:45.723Z"
      },
      {
        "duration": 50,
        "start_time": "2023-03-01T17:46:45.742Z"
      },
      {
        "duration": 23,
        "start_time": "2023-03-01T17:46:45.794Z"
      },
      {
        "duration": 34,
        "start_time": "2023-03-01T17:46:45.818Z"
      },
      {
        "duration": 14,
        "start_time": "2023-03-01T17:46:45.853Z"
      },
      {
        "duration": 25,
        "start_time": "2023-03-01T17:46:45.869Z"
      },
      {
        "duration": 24,
        "start_time": "2023-03-01T17:46:45.896Z"
      },
      {
        "duration": 45,
        "start_time": "2023-03-01T17:46:45.923Z"
      },
      {
        "duration": 39,
        "start_time": "2023-03-01T17:46:45.970Z"
      },
      {
        "duration": 28,
        "start_time": "2023-03-01T17:46:46.011Z"
      },
      {
        "duration": 17,
        "start_time": "2023-03-01T17:46:46.041Z"
      },
      {
        "duration": 35,
        "start_time": "2023-03-01T17:46:46.060Z"
      },
      {
        "duration": 28,
        "start_time": "2023-03-01T17:46:46.097Z"
      },
      {
        "duration": 25,
        "start_time": "2023-03-01T17:46:46.127Z"
      },
      {
        "duration": 26,
        "start_time": "2023-03-01T17:46:46.154Z"
      },
      {
        "duration": 10,
        "start_time": "2023-03-01T17:46:46.185Z"
      },
      {
        "duration": 19,
        "start_time": "2023-03-01T17:46:46.197Z"
      },
      {
        "duration": 24,
        "start_time": "2023-03-01T17:46:46.218Z"
      },
      {
        "duration": 19,
        "start_time": "2023-03-01T17:46:46.244Z"
      },
      {
        "duration": 31,
        "start_time": "2023-03-01T17:46:46.265Z"
      },
      {
        "duration": 14,
        "start_time": "2023-03-01T17:46:46.299Z"
      },
      {
        "duration": 37,
        "start_time": "2023-03-01T17:46:46.315Z"
      },
      {
        "duration": 28,
        "start_time": "2023-03-01T17:46:46.354Z"
      },
      {
        "duration": 17,
        "start_time": "2023-03-01T17:46:46.384Z"
      },
      {
        "duration": 19,
        "start_time": "2023-03-01T17:46:46.402Z"
      },
      {
        "duration": 37,
        "start_time": "2023-03-01T17:46:46.422Z"
      },
      {
        "duration": 33,
        "start_time": "2023-03-01T17:46:46.460Z"
      },
      {
        "duration": 19,
        "start_time": "2023-03-01T17:46:46.495Z"
      },
      {
        "duration": 31,
        "start_time": "2023-03-01T17:46:46.515Z"
      },
      {
        "duration": 36,
        "start_time": "2023-03-01T17:46:46.547Z"
      },
      {
        "duration": 18,
        "start_time": "2023-03-01T17:46:46.585Z"
      },
      {
        "duration": 39,
        "start_time": "2023-03-01T17:46:46.606Z"
      },
      {
        "duration": 36,
        "start_time": "2023-03-01T17:46:46.647Z"
      },
      {
        "duration": 20,
        "start_time": "2023-03-01T17:46:46.685Z"
      },
      {
        "duration": 40,
        "start_time": "2023-03-01T17:46:46.708Z"
      },
      {
        "duration": 35,
        "start_time": "2023-03-01T17:46:46.750Z"
      },
      {
        "duration": 29,
        "start_time": "2023-03-01T17:46:46.788Z"
      },
      {
        "duration": 14,
        "start_time": "2023-03-01T17:46:46.820Z"
      },
      {
        "duration": 25,
        "start_time": "2023-03-01T17:46:46.837Z"
      },
      {
        "duration": 23,
        "start_time": "2023-03-01T17:46:46.864Z"
      },
      {
        "duration": 21,
        "start_time": "2023-03-01T17:46:46.888Z"
      },
      {
        "duration": 20,
        "start_time": "2023-03-01T17:46:46.911Z"
      },
      {
        "duration": 19,
        "start_time": "2023-03-01T17:46:46.932Z"
      },
      {
        "duration": 28,
        "start_time": "2023-03-01T17:46:46.953Z"
      },
      {
        "duration": 27,
        "start_time": "2023-03-01T17:46:46.983Z"
      },
      {
        "duration": 61,
        "start_time": "2023-03-01T17:46:47.011Z"
      },
      {
        "duration": 46,
        "start_time": "2023-03-01T17:46:47.073Z"
      },
      {
        "duration": 142,
        "start_time": "2023-03-01T17:46:47.121Z"
      },
      {
        "duration": 9,
        "start_time": "2023-03-01T17:46:47.265Z"
      },
      {
        "duration": 80,
        "start_time": "2023-03-01T17:46:47.275Z"
      },
      {
        "duration": 10,
        "start_time": "2023-03-01T17:46:47.357Z"
      },
      {
        "duration": 18,
        "start_time": "2023-03-01T17:46:47.369Z"
      },
      {
        "duration": 29,
        "start_time": "2023-03-01T17:46:47.389Z"
      },
      {
        "duration": 42,
        "start_time": "2023-03-01T17:46:47.420Z"
      },
      {
        "duration": 0,
        "start_time": "2023-03-01T17:46:47.464Z"
      },
      {
        "duration": 0,
        "start_time": "2023-03-01T17:46:47.466Z"
      },
      {
        "duration": 0,
        "start_time": "2023-03-01T17:46:47.468Z"
      },
      {
        "duration": 0,
        "start_time": "2023-03-01T17:46:47.470Z"
      },
      {
        "duration": 0,
        "start_time": "2023-03-01T17:46:47.472Z"
      },
      {
        "duration": 0,
        "start_time": "2023-03-01T17:46:47.473Z"
      },
      {
        "duration": 11,
        "start_time": "2023-03-01T17:47:01.419Z"
      },
      {
        "duration": 9,
        "start_time": "2023-03-01T17:47:04.682Z"
      },
      {
        "duration": 6,
        "start_time": "2023-03-01T17:47:08.169Z"
      },
      {
        "duration": 8,
        "start_time": "2023-03-01T17:47:15.539Z"
      },
      {
        "duration": 14,
        "start_time": "2023-03-01T17:47:20.700Z"
      },
      {
        "duration": 169,
        "start_time": "2023-03-01T17:47:31.664Z"
      },
      {
        "duration": 9,
        "start_time": "2023-03-01T17:47:35.545Z"
      },
      {
        "duration": 26,
        "start_time": "2023-03-01T17:47:38.022Z"
      },
      {
        "duration": 6,
        "start_time": "2023-03-01T17:48:15.447Z"
      },
      {
        "duration": 9,
        "start_time": "2023-03-01T17:48:17.744Z"
      },
      {
        "duration": 6,
        "start_time": "2023-03-01T17:49:14.671Z"
      },
      {
        "duration": 9,
        "start_time": "2023-03-01T17:49:17.961Z"
      },
      {
        "duration": 7,
        "start_time": "2023-03-01T17:49:25.534Z"
      },
      {
        "duration": 8,
        "start_time": "2023-03-01T17:49:28.620Z"
      },
      {
        "duration": 7,
        "start_time": "2023-03-01T17:50:40.861Z"
      },
      {
        "duration": 8,
        "start_time": "2023-03-01T17:50:43.442Z"
      },
      {
        "duration": 123,
        "start_time": "2023-03-01T18:29:19.817Z"
      },
      {
        "duration": 13,
        "start_time": "2023-03-01T18:29:19.942Z"
      },
      {
        "duration": 2608,
        "start_time": "2023-03-01T18:29:19.957Z"
      },
      {
        "duration": 9,
        "start_time": "2023-03-01T18:29:22.567Z"
      },
      {
        "duration": 3,
        "start_time": "2023-03-01T18:29:22.578Z"
      },
      {
        "duration": 32,
        "start_time": "2023-03-01T18:29:22.583Z"
      },
      {
        "duration": 7,
        "start_time": "2023-03-01T18:29:22.622Z"
      },
      {
        "duration": 5,
        "start_time": "2023-03-01T18:29:22.630Z"
      },
      {
        "duration": 5,
        "start_time": "2023-03-01T18:29:22.637Z"
      },
      {
        "duration": 12,
        "start_time": "2023-03-01T18:29:22.643Z"
      },
      {
        "duration": 12,
        "start_time": "2023-03-01T18:29:22.656Z"
      },
      {
        "duration": 8,
        "start_time": "2023-03-01T18:29:22.669Z"
      },
      {
        "duration": 16,
        "start_time": "2023-03-01T18:29:22.678Z"
      },
      {
        "duration": 13,
        "start_time": "2023-03-01T18:29:22.697Z"
      },
      {
        "duration": 9,
        "start_time": "2023-03-01T18:29:22.717Z"
      },
      {
        "duration": 5,
        "start_time": "2023-03-01T18:29:22.727Z"
      },
      {
        "duration": 3,
        "start_time": "2023-03-01T18:29:22.733Z"
      },
      {
        "duration": 6,
        "start_time": "2023-03-01T18:29:22.738Z"
      },
      {
        "duration": 21,
        "start_time": "2023-03-01T18:29:22.746Z"
      },
      {
        "duration": 7,
        "start_time": "2023-03-01T18:29:22.768Z"
      },
      {
        "duration": 7,
        "start_time": "2023-03-01T18:29:22.777Z"
      },
      {
        "duration": 31,
        "start_time": "2023-03-01T18:29:22.785Z"
      },
      {
        "duration": 8,
        "start_time": "2023-03-01T18:29:22.818Z"
      },
      {
        "duration": 5,
        "start_time": "2023-03-01T18:29:22.828Z"
      },
      {
        "duration": 5,
        "start_time": "2023-03-01T18:29:22.835Z"
      },
      {
        "duration": 7,
        "start_time": "2023-03-01T18:29:22.842Z"
      },
      {
        "duration": 9,
        "start_time": "2023-03-01T18:29:22.851Z"
      },
      {
        "duration": 7,
        "start_time": "2023-03-01T18:29:22.862Z"
      },
      {
        "duration": 5,
        "start_time": "2023-03-01T18:29:22.871Z"
      },
      {
        "duration": 11,
        "start_time": "2023-03-01T18:29:22.878Z"
      },
      {
        "duration": 5,
        "start_time": "2023-03-01T18:29:22.890Z"
      },
      {
        "duration": 13,
        "start_time": "2023-03-01T18:29:22.897Z"
      },
      {
        "duration": 18,
        "start_time": "2023-03-01T18:29:22.911Z"
      },
      {
        "duration": 7,
        "start_time": "2023-03-01T18:29:22.931Z"
      },
      {
        "duration": 6,
        "start_time": "2023-03-01T18:29:22.940Z"
      },
      {
        "duration": 6,
        "start_time": "2023-03-01T18:29:22.947Z"
      },
      {
        "duration": 4,
        "start_time": "2023-03-01T18:29:22.955Z"
      },
      {
        "duration": 9,
        "start_time": "2023-03-01T18:29:22.961Z"
      },
      {
        "duration": 6,
        "start_time": "2023-03-01T18:29:22.971Z"
      },
      {
        "duration": 7,
        "start_time": "2023-03-01T18:29:22.978Z"
      },
      {
        "duration": 3,
        "start_time": "2023-03-01T18:29:22.990Z"
      },
      {
        "duration": 9,
        "start_time": "2023-03-01T18:29:23.004Z"
      },
      {
        "duration": 9,
        "start_time": "2023-03-01T18:29:23.016Z"
      },
      {
        "duration": 6,
        "start_time": "2023-03-01T18:29:23.027Z"
      },
      {
        "duration": 11,
        "start_time": "2023-03-01T18:29:23.035Z"
      },
      {
        "duration": 9,
        "start_time": "2023-03-01T18:29:23.047Z"
      },
      {
        "duration": 11,
        "start_time": "2023-03-01T18:29:23.057Z"
      },
      {
        "duration": 12,
        "start_time": "2023-03-01T18:29:23.070Z"
      },
      {
        "duration": 10,
        "start_time": "2023-03-01T18:29:23.084Z"
      },
      {
        "duration": 11,
        "start_time": "2023-03-01T18:29:23.096Z"
      },
      {
        "duration": 19,
        "start_time": "2023-03-01T18:29:23.115Z"
      },
      {
        "duration": 7,
        "start_time": "2023-03-01T18:29:23.136Z"
      },
      {
        "duration": 10,
        "start_time": "2023-03-01T18:29:23.144Z"
      },
      {
        "duration": 10,
        "start_time": "2023-03-01T18:29:23.156Z"
      },
      {
        "duration": 6,
        "start_time": "2023-03-01T18:29:23.168Z"
      },
      {
        "duration": 11,
        "start_time": "2023-03-01T18:29:23.176Z"
      },
      {
        "duration": 5,
        "start_time": "2023-03-01T18:29:23.188Z"
      },
      {
        "duration": 8,
        "start_time": "2023-03-01T18:29:23.194Z"
      },
      {
        "duration": 8,
        "start_time": "2023-03-01T18:29:23.215Z"
      },
      {
        "duration": 6,
        "start_time": "2023-03-01T18:29:23.224Z"
      },
      {
        "duration": 6,
        "start_time": "2023-03-01T18:29:23.231Z"
      },
      {
        "duration": 5,
        "start_time": "2023-03-01T18:29:23.239Z"
      },
      {
        "duration": 5,
        "start_time": "2023-03-01T18:29:23.246Z"
      },
      {
        "duration": 4,
        "start_time": "2023-03-01T18:29:23.253Z"
      },
      {
        "duration": 5,
        "start_time": "2023-03-01T18:29:23.259Z"
      },
      {
        "duration": 8,
        "start_time": "2023-03-01T18:29:23.265Z"
      },
      {
        "duration": 6,
        "start_time": "2023-03-01T18:29:23.274Z"
      },
      {
        "duration": 9,
        "start_time": "2023-03-01T18:29:23.282Z"
      },
      {
        "duration": 12,
        "start_time": "2023-03-01T18:29:23.292Z"
      },
      {
        "duration": 16,
        "start_time": "2023-03-01T18:29:23.305Z"
      },
      {
        "duration": 17,
        "start_time": "2023-03-01T18:29:23.323Z"
      },
      {
        "duration": 8,
        "start_time": "2023-03-01T18:29:23.341Z"
      },
      {
        "duration": 102,
        "start_time": "2023-03-01T18:29:23.351Z"
      },
      {
        "duration": 9,
        "start_time": "2023-03-01T18:29:23.455Z"
      },
      {
        "duration": 59,
        "start_time": "2023-03-01T18:29:23.466Z"
      },
      {
        "duration": 9,
        "start_time": "2023-03-01T18:29:23.526Z"
      },
      {
        "duration": 25,
        "start_time": "2023-03-01T18:29:23.536Z"
      },
      {
        "duration": 7,
        "start_time": "2023-03-01T18:29:23.563Z"
      },
      {
        "duration": 18,
        "start_time": "2023-03-01T18:29:23.572Z"
      },
      {
        "duration": 0,
        "start_time": "2023-03-01T18:29:23.613Z"
      },
      {
        "duration": 0,
        "start_time": "2023-03-01T18:29:23.613Z"
      },
      {
        "duration": 0,
        "start_time": "2023-03-01T18:29:23.615Z"
      },
      {
        "duration": 0,
        "start_time": "2023-03-01T18:29:23.617Z"
      },
      {
        "duration": 0,
        "start_time": "2023-03-01T18:29:23.619Z"
      },
      {
        "duration": 0,
        "start_time": "2023-03-01T18:29:23.620Z"
      },
      {
        "duration": 0,
        "start_time": "2023-03-01T18:29:23.621Z"
      },
      {
        "duration": 12,
        "start_time": "2023-03-01T18:29:38.222Z"
      },
      {
        "duration": 7,
        "start_time": "2023-03-01T18:29:41.185Z"
      },
      {
        "duration": 6,
        "start_time": "2023-03-01T18:29:46.649Z"
      },
      {
        "duration": 7,
        "start_time": "2023-03-01T18:29:49.862Z"
      },
      {
        "duration": 8,
        "start_time": "2023-03-01T18:30:23.816Z"
      },
      {
        "duration": 7,
        "start_time": "2023-03-01T18:30:32.473Z"
      },
      {
        "duration": 121,
        "start_time": "2023-03-01T18:32:39.049Z"
      },
      {
        "duration": 7,
        "start_time": "2023-03-01T18:32:43.672Z"
      },
      {
        "duration": 27,
        "start_time": "2023-03-01T18:32:46.759Z"
      },
      {
        "duration": 9,
        "start_time": "2023-03-01T18:32:58.500Z"
      },
      {
        "duration": 7,
        "start_time": "2023-03-01T18:33:00.846Z"
      },
      {
        "duration": 12,
        "start_time": "2023-03-01T18:55:27.619Z"
      },
      {
        "duration": 10,
        "start_time": "2023-03-01T18:57:10.945Z"
      },
      {
        "duration": 7,
        "start_time": "2023-03-01T18:59:30.753Z"
      },
      {
        "duration": 6,
        "start_time": "2023-03-01T18:59:34.075Z"
      },
      {
        "duration": 13,
        "start_time": "2023-03-01T19:00:36.242Z"
      },
      {
        "duration": 6,
        "start_time": "2023-03-01T19:01:16.172Z"
      },
      {
        "duration": 5,
        "start_time": "2023-03-01T19:03:02.021Z"
      },
      {
        "duration": 8,
        "start_time": "2023-03-01T19:03:14.242Z"
      },
      {
        "duration": 30,
        "start_time": "2023-03-01T19:04:11.172Z"
      },
      {
        "duration": 23,
        "start_time": "2023-03-01T19:04:23.868Z"
      },
      {
        "duration": 23,
        "start_time": "2023-03-01T19:04:49.130Z"
      },
      {
        "duration": 111,
        "start_time": "2023-03-01T19:07:55.522Z"
      },
      {
        "duration": 99,
        "start_time": "2023-03-01T19:08:05.162Z"
      },
      {
        "duration": 95,
        "start_time": "2023-03-01T19:08:12.374Z"
      },
      {
        "duration": 7,
        "start_time": "2023-03-01T19:08:43.524Z"
      },
      {
        "duration": 31,
        "start_time": "2023-03-01T19:09:25.123Z"
      },
      {
        "duration": 32,
        "start_time": "2023-03-01T19:10:01.000Z"
      },
      {
        "duration": 8,
        "start_time": "2023-03-01T19:13:58.893Z"
      },
      {
        "duration": 17,
        "start_time": "2023-03-01T19:14:15.394Z"
      },
      {
        "duration": 5,
        "start_time": "2023-03-01T19:18:16.592Z"
      },
      {
        "duration": 31,
        "start_time": "2023-03-01T19:18:24.484Z"
      },
      {
        "duration": 38,
        "start_time": "2023-03-01T19:21:19.893Z"
      },
      {
        "duration": 41,
        "start_time": "2023-03-01T19:23:29.102Z"
      },
      {
        "duration": 10,
        "start_time": "2023-03-01T19:26:37.227Z"
      },
      {
        "duration": 39,
        "start_time": "2023-03-01T19:26:43.479Z"
      },
      {
        "duration": 26,
        "start_time": "2023-03-01T19:27:14.140Z"
      },
      {
        "duration": 22,
        "start_time": "2023-03-01T19:35:11.210Z"
      },
      {
        "duration": 1334,
        "start_time": "2023-03-01T19:38:57.980Z"
      },
      {
        "duration": 1284,
        "start_time": "2023-03-01T19:39:02.001Z"
      },
      {
        "duration": 6,
        "start_time": "2023-03-01T19:39:15.242Z"
      },
      {
        "duration": 26,
        "start_time": "2023-03-01T19:39:28.061Z"
      },
      {
        "duration": 10,
        "start_time": "2023-03-01T19:43:11.326Z"
      },
      {
        "duration": 31,
        "start_time": "2023-03-01T19:43:26.781Z"
      },
      {
        "duration": 24,
        "start_time": "2023-03-01T19:43:40.365Z"
      },
      {
        "duration": 282,
        "start_time": "2023-03-01T20:05:41.417Z"
      },
      {
        "duration": 587,
        "start_time": "2023-03-01T20:05:55.461Z"
      },
      {
        "duration": 36,
        "start_time": "2023-03-01T20:08:46.813Z"
      },
      {
        "duration": 140,
        "start_time": "2023-03-01T20:11:45.549Z"
      },
      {
        "duration": 168,
        "start_time": "2023-03-01T20:13:31.928Z"
      },
      {
        "duration": 167,
        "start_time": "2023-03-01T20:13:39.920Z"
      },
      {
        "duration": 6,
        "start_time": "2023-03-01T20:14:17.580Z"
      },
      {
        "duration": 77,
        "start_time": "2023-03-01T20:16:14.451Z"
      },
      {
        "duration": 79,
        "start_time": "2023-03-01T20:16:18.015Z"
      },
      {
        "duration": 13,
        "start_time": "2023-03-01T20:16:27.506Z"
      },
      {
        "duration": 10,
        "start_time": "2023-03-01T20:20:04.911Z"
      },
      {
        "duration": 7,
        "start_time": "2023-03-01T20:20:12.452Z"
      },
      {
        "duration": 6,
        "start_time": "2023-03-01T20:20:14.433Z"
      },
      {
        "duration": 8,
        "start_time": "2023-03-01T20:20:15.972Z"
      },
      {
        "duration": 164,
        "start_time": "2023-03-01T20:25:06.564Z"
      },
      {
        "duration": 16,
        "start_time": "2023-03-01T20:25:08.382Z"
      },
      {
        "duration": 2547,
        "start_time": "2023-03-01T20:25:08.944Z"
      },
      {
        "duration": 20,
        "start_time": "2023-03-01T20:25:11.493Z"
      },
      {
        "duration": 30,
        "start_time": "2023-03-01T20:25:11.514Z"
      },
      {
        "duration": 8,
        "start_time": "2023-03-01T20:25:11.546Z"
      },
      {
        "duration": 9,
        "start_time": "2023-03-01T20:25:11.555Z"
      },
      {
        "duration": 4,
        "start_time": "2023-03-01T20:25:11.566Z"
      },
      {
        "duration": 7,
        "start_time": "2023-03-01T20:25:11.571Z"
      },
      {
        "duration": 4,
        "start_time": "2023-03-01T20:25:11.579Z"
      },
      {
        "duration": 8,
        "start_time": "2023-03-01T20:25:11.585Z"
      },
      {
        "duration": 4,
        "start_time": "2023-03-01T20:25:11.595Z"
      },
      {
        "duration": 30,
        "start_time": "2023-03-01T20:25:11.613Z"
      },
      {
        "duration": 7,
        "start_time": "2023-03-01T20:25:11.645Z"
      },
      {
        "duration": 6,
        "start_time": "2023-03-01T20:25:11.782Z"
      },
      {
        "duration": 5,
        "start_time": "2023-03-01T20:25:11.962Z"
      },
      {
        "duration": 5,
        "start_time": "2023-03-01T20:25:12.692Z"
      },
      {
        "duration": 10,
        "start_time": "2023-03-01T20:25:13.940Z"
      },
      {
        "duration": 5,
        "start_time": "2023-03-01T20:25:18.791Z"
      },
      {
        "duration": 27,
        "start_time": "2023-03-01T20:25:19.302Z"
      },
      {
        "duration": 9,
        "start_time": "2023-03-01T20:25:20.352Z"
      },
      {
        "duration": 8,
        "start_time": "2023-03-01T20:25:30.288Z"
      },
      {
        "duration": 9,
        "start_time": "2023-03-01T20:25:52.879Z"
      },
      {
        "duration": 8,
        "start_time": "2023-03-01T20:26:37.674Z"
      },
      {
        "duration": 6,
        "start_time": "2023-03-01T20:26:48.316Z"
      },
      {
        "duration": 7,
        "start_time": "2023-03-01T20:26:55.160Z"
      },
      {
        "duration": 70,
        "start_time": "2023-03-01T20:28:39.723Z"
      },
      {
        "duration": 88,
        "start_time": "2023-03-01T20:28:49.976Z"
      },
      {
        "duration": 1451,
        "start_time": "2023-03-01T20:28:57.618Z"
      },
      {
        "duration": 8,
        "start_time": "2023-03-01T20:29:10.584Z"
      },
      {
        "duration": 7,
        "start_time": "2023-03-01T20:29:21.638Z"
      },
      {
        "duration": 132,
        "start_time": "2023-03-01T20:29:57.787Z"
      },
      {
        "duration": 6,
        "start_time": "2023-03-01T20:30:06.475Z"
      },
      {
        "duration": 5,
        "start_time": "2023-03-01T20:30:06.843Z"
      },
      {
        "duration": 4,
        "start_time": "2023-03-01T20:30:07.167Z"
      },
      {
        "duration": 7,
        "start_time": "2023-03-01T20:30:24.375Z"
      },
      {
        "duration": 116,
        "start_time": "2023-03-01T20:30:44.475Z"
      },
      {
        "duration": 14,
        "start_time": "2023-03-01T20:30:44.646Z"
      },
      {
        "duration": 2794,
        "start_time": "2023-03-01T20:30:44.797Z"
      },
      {
        "duration": 21,
        "start_time": "2023-03-01T20:30:47.593Z"
      },
      {
        "duration": 4,
        "start_time": "2023-03-01T20:30:47.619Z"
      },
      {
        "duration": 13,
        "start_time": "2023-03-01T20:30:47.625Z"
      },
      {
        "duration": 13,
        "start_time": "2023-03-01T20:30:47.639Z"
      },
      {
        "duration": 5,
        "start_time": "2023-03-01T20:30:47.653Z"
      },
      {
        "duration": 13,
        "start_time": "2023-03-01T20:30:47.659Z"
      },
      {
        "duration": 7,
        "start_time": "2023-03-01T20:30:47.674Z"
      },
      {
        "duration": 34,
        "start_time": "2023-03-01T20:30:47.682Z"
      },
      {
        "duration": 8,
        "start_time": "2023-03-01T20:30:47.719Z"
      },
      {
        "duration": 15,
        "start_time": "2023-03-01T20:30:47.729Z"
      },
      {
        "duration": 14,
        "start_time": "2023-03-01T20:30:47.745Z"
      },
      {
        "duration": 16,
        "start_time": "2023-03-01T20:30:47.761Z"
      },
      {
        "duration": 14,
        "start_time": "2023-03-01T20:30:47.780Z"
      },
      {
        "duration": 21,
        "start_time": "2023-03-01T20:30:47.796Z"
      },
      {
        "duration": 25,
        "start_time": "2023-03-01T20:30:47.818Z"
      },
      {
        "duration": 9,
        "start_time": "2023-03-01T20:30:47.845Z"
      },
      {
        "duration": 25,
        "start_time": "2023-03-01T20:30:47.857Z"
      },
      {
        "duration": 8,
        "start_time": "2023-03-01T20:30:47.976Z"
      },
      {
        "duration": 5,
        "start_time": "2023-03-01T20:30:48.087Z"
      },
      {
        "duration": 6,
        "start_time": "2023-03-01T20:30:48.238Z"
      },
      {
        "duration": 6,
        "start_time": "2023-03-01T20:30:48.495Z"
      },
      {
        "duration": 5,
        "start_time": "2023-03-01T20:30:48.638Z"
      },
      {
        "duration": 5,
        "start_time": "2023-03-01T20:30:48.866Z"
      },
      {
        "duration": 6,
        "start_time": "2023-03-01T20:30:48.975Z"
      },
      {
        "duration": 5,
        "start_time": "2023-03-01T20:30:49.128Z"
      },
      {
        "duration": 5,
        "start_time": "2023-03-01T20:30:49.678Z"
      },
      {
        "duration": 5,
        "start_time": "2023-03-01T20:30:49.843Z"
      },
      {
        "duration": 5,
        "start_time": "2023-03-01T20:30:50.016Z"
      },
      {
        "duration": 5,
        "start_time": "2023-03-01T20:30:50.569Z"
      },
      {
        "duration": 13,
        "start_time": "2023-03-01T20:30:50.576Z"
      },
      {
        "duration": 7,
        "start_time": "2023-03-01T20:30:50.591Z"
      },
      {
        "duration": 7,
        "start_time": "2023-03-01T20:30:50.617Z"
      },
      {
        "duration": 4,
        "start_time": "2023-03-01T20:30:50.793Z"
      },
      {
        "duration": 6,
        "start_time": "2023-03-01T20:30:50.971Z"
      },
      {
        "duration": 5,
        "start_time": "2023-03-01T20:30:51.055Z"
      },
      {
        "duration": 4,
        "start_time": "2023-03-01T20:30:51.217Z"
      },
      {
        "duration": 4,
        "start_time": "2023-03-01T20:30:51.481Z"
      },
      {
        "duration": 4,
        "start_time": "2023-03-01T20:30:51.586Z"
      },
      {
        "duration": 4,
        "start_time": "2023-03-01T20:30:51.717Z"
      },
      {
        "duration": 4,
        "start_time": "2023-03-01T20:30:51.876Z"
      },
      {
        "duration": 6,
        "start_time": "2023-03-01T20:30:52.080Z"
      },
      {
        "duration": 5,
        "start_time": "2023-03-01T20:30:52.175Z"
      },
      {
        "duration": 6,
        "start_time": "2023-03-01T20:30:52.295Z"
      },
      {
        "duration": 5,
        "start_time": "2023-03-01T20:30:52.445Z"
      },
      {
        "duration": 4,
        "start_time": "2023-03-01T20:30:52.587Z"
      },
      {
        "duration": 5,
        "start_time": "2023-03-01T20:30:52.731Z"
      },
      {
        "duration": 4,
        "start_time": "2023-03-01T20:30:52.888Z"
      },
      {
        "duration": 4,
        "start_time": "2023-03-01T20:30:52.997Z"
      },
      {
        "duration": 4,
        "start_time": "2023-03-01T20:30:53.187Z"
      },
      {
        "duration": 4,
        "start_time": "2023-03-01T20:30:53.336Z"
      },
      {
        "duration": 6,
        "start_time": "2023-03-01T20:30:53.475Z"
      },
      {
        "duration": 5,
        "start_time": "2023-03-01T20:30:53.716Z"
      },
      {
        "duration": 5,
        "start_time": "2023-03-01T20:30:53.816Z"
      },
      {
        "duration": 6,
        "start_time": "2023-03-01T20:30:54.023Z"
      },
      {
        "duration": 4,
        "start_time": "2023-03-01T20:30:54.119Z"
      },
      {
        "duration": 6,
        "start_time": "2023-03-01T20:30:54.286Z"
      },
      {
        "duration": 4,
        "start_time": "2023-03-01T20:30:54.451Z"
      },
      {
        "duration": 5,
        "start_time": "2023-03-01T20:30:54.633Z"
      },
      {
        "duration": 4,
        "start_time": "2023-03-01T20:30:54.945Z"
      },
      {
        "duration": 5,
        "start_time": "2023-03-01T20:30:55.096Z"
      },
      {
        "duration": 5,
        "start_time": "2023-03-01T20:30:55.263Z"
      },
      {
        "duration": 5,
        "start_time": "2023-03-01T20:30:55.416Z"
      },
      {
        "duration": 5,
        "start_time": "2023-03-01T20:30:55.617Z"
      },
      {
        "duration": 5,
        "start_time": "2023-03-01T20:30:55.756Z"
      },
      {
        "duration": 5,
        "start_time": "2023-03-01T20:30:56.477Z"
      },
      {
        "duration": 5,
        "start_time": "2023-03-01T20:30:56.677Z"
      },
      {
        "duration": 6,
        "start_time": "2023-03-01T20:30:56.822Z"
      },
      {
        "duration": 6,
        "start_time": "2023-03-01T20:30:56.985Z"
      },
      {
        "duration": 4,
        "start_time": "2023-03-01T20:30:57.590Z"
      },
      {
        "duration": 8,
        "start_time": "2023-03-01T20:31:06.265Z"
      },
      {
        "duration": 1367,
        "start_time": "2023-03-01T20:31:25.097Z"
      },
      {
        "duration": 6,
        "start_time": "2023-03-01T20:31:30.596Z"
      },
      {
        "duration": 7,
        "start_time": "2023-03-01T20:32:14.841Z"
      },
      {
        "duration": 5,
        "start_time": "2023-03-01T20:32:52.088Z"
      },
      {
        "duration": 38,
        "start_time": "2023-03-01T20:33:35.600Z"
      },
      {
        "duration": 6,
        "start_time": "2023-03-01T20:33:46.439Z"
      },
      {
        "duration": 1389,
        "start_time": "2023-03-01T20:34:17.530Z"
      },
      {
        "duration": 8,
        "start_time": "2023-03-01T20:34:22.244Z"
      },
      {
        "duration": 10,
        "start_time": "2023-03-01T20:34:29.444Z"
      },
      {
        "duration": 1423,
        "start_time": "2023-03-01T20:34:53.366Z"
      },
      {
        "duration": 6,
        "start_time": "2023-03-01T20:35:03.320Z"
      },
      {
        "duration": 1416,
        "start_time": "2023-03-01T20:36:07.684Z"
      },
      {
        "duration": 14,
        "start_time": "2023-03-01T20:36:09.102Z"
      },
      {
        "duration": 10,
        "start_time": "2023-03-01T20:36:13.820Z"
      },
      {
        "duration": 1260,
        "start_time": "2023-03-01T20:36:46.082Z"
      },
      {
        "duration": 652,
        "start_time": "2023-03-02T16:58:16.943Z"
      },
      {
        "duration": 15,
        "start_time": "2023-03-02T16:58:17.597Z"
      },
      {
        "duration": 2853,
        "start_time": "2023-03-02T16:58:17.613Z"
      },
      {
        "duration": 14,
        "start_time": "2023-03-02T16:58:20.468Z"
      },
      {
        "duration": 9,
        "start_time": "2023-03-02T16:58:20.485Z"
      },
      {
        "duration": 10,
        "start_time": "2023-03-02T16:58:20.496Z"
      },
      {
        "duration": 20,
        "start_time": "2023-03-02T16:58:20.508Z"
      },
      {
        "duration": 7,
        "start_time": "2023-03-02T16:58:20.530Z"
      },
      {
        "duration": 5,
        "start_time": "2023-03-02T16:58:20.538Z"
      },
      {
        "duration": 4,
        "start_time": "2023-03-02T16:58:20.545Z"
      },
      {
        "duration": 10,
        "start_time": "2023-03-02T16:58:20.551Z"
      },
      {
        "duration": 4,
        "start_time": "2023-03-02T16:58:20.563Z"
      },
      {
        "duration": 5,
        "start_time": "2023-03-02T16:58:20.569Z"
      },
      {
        "duration": 10,
        "start_time": "2023-03-02T16:58:20.579Z"
      },
      {
        "duration": 6,
        "start_time": "2023-03-02T16:58:20.622Z"
      },
      {
        "duration": 5,
        "start_time": "2023-03-02T16:58:20.630Z"
      },
      {
        "duration": 4,
        "start_time": "2023-03-02T16:58:20.637Z"
      },
      {
        "duration": 14,
        "start_time": "2023-03-02T16:58:20.643Z"
      },
      {
        "duration": 6,
        "start_time": "2023-03-02T16:58:20.659Z"
      },
      {
        "duration": 58,
        "start_time": "2023-03-02T16:58:20.667Z"
      },
      {
        "duration": 8,
        "start_time": "2023-03-02T16:58:20.726Z"
      },
      {
        "duration": 26,
        "start_time": "2023-03-02T16:58:20.735Z"
      },
      {
        "duration": 6,
        "start_time": "2023-03-02T16:58:20.763Z"
      },
      {
        "duration": 7,
        "start_time": "2023-03-02T16:58:20.770Z"
      },
      {
        "duration": 5,
        "start_time": "2023-03-02T16:58:20.779Z"
      },
      {
        "duration": 5,
        "start_time": "2023-03-02T16:58:20.785Z"
      },
      {
        "duration": 5,
        "start_time": "2023-03-02T16:58:20.792Z"
      },
      {
        "duration": 26,
        "start_time": "2023-03-02T16:58:20.799Z"
      },
      {
        "duration": 6,
        "start_time": "2023-03-02T16:58:20.827Z"
      },
      {
        "duration": 4,
        "start_time": "2023-03-02T16:58:20.835Z"
      },
      {
        "duration": 7,
        "start_time": "2023-03-02T16:58:20.841Z"
      },
      {
        "duration": 4,
        "start_time": "2023-03-02T16:58:20.850Z"
      },
      {
        "duration": 7,
        "start_time": "2023-03-02T16:58:20.856Z"
      },
      {
        "duration": 9,
        "start_time": "2023-03-02T16:58:20.865Z"
      },
      {
        "duration": 8,
        "start_time": "2023-03-02T16:58:20.875Z"
      },
      {
        "duration": 20,
        "start_time": "2023-03-02T16:58:20.885Z"
      },
      {
        "duration": 18,
        "start_time": "2023-03-02T16:58:20.907Z"
      },
      {
        "duration": 8,
        "start_time": "2023-03-02T16:58:20.927Z"
      },
      {
        "duration": 9,
        "start_time": "2023-03-02T16:58:20.937Z"
      },
      {
        "duration": 5,
        "start_time": "2023-03-02T16:58:20.948Z"
      },
      {
        "duration": 9,
        "start_time": "2023-03-02T16:58:20.958Z"
      },
      {
        "duration": 23,
        "start_time": "2023-03-02T16:58:20.969Z"
      },
      {
        "duration": 9,
        "start_time": "2023-03-02T16:58:20.994Z"
      },
      {
        "duration": 13,
        "start_time": "2023-03-02T16:58:21.005Z"
      },
      {
        "duration": 4,
        "start_time": "2023-03-02T16:58:21.022Z"
      },
      {
        "duration": 12,
        "start_time": "2023-03-02T16:58:21.027Z"
      },
      {
        "duration": 8,
        "start_time": "2023-03-02T16:58:21.041Z"
      },
      {
        "duration": 13,
        "start_time": "2023-03-02T16:58:21.050Z"
      },
      {
        "duration": 6,
        "start_time": "2023-03-02T16:58:21.065Z"
      },
      {
        "duration": 4,
        "start_time": "2023-03-02T16:58:21.072Z"
      },
      {
        "duration": 8,
        "start_time": "2023-03-02T16:58:21.078Z"
      },
      {
        "duration": 12,
        "start_time": "2023-03-02T16:58:21.088Z"
      },
      {
        "duration": 21,
        "start_time": "2023-03-02T16:58:21.101Z"
      },
      {
        "duration": 6,
        "start_time": "2023-03-02T16:58:21.124Z"
      },
      {
        "duration": 18,
        "start_time": "2023-03-02T16:58:21.131Z"
      },
      {
        "duration": 4,
        "start_time": "2023-03-02T16:58:21.151Z"
      },
      {
        "duration": 5,
        "start_time": "2023-03-02T16:58:21.157Z"
      },
      {
        "duration": 6,
        "start_time": "2023-03-02T16:58:21.163Z"
      },
      {
        "duration": 11,
        "start_time": "2023-03-02T16:58:21.170Z"
      },
      {
        "duration": 5,
        "start_time": "2023-03-02T16:58:21.182Z"
      },
      {
        "duration": 34,
        "start_time": "2023-03-02T16:58:21.188Z"
      },
      {
        "duration": 4,
        "start_time": "2023-03-02T16:58:21.224Z"
      },
      {
        "duration": 6,
        "start_time": "2023-03-02T16:58:21.230Z"
      },
      {
        "duration": 4,
        "start_time": "2023-03-02T16:58:21.238Z"
      },
      {
        "duration": 5,
        "start_time": "2023-03-02T16:58:21.244Z"
      },
      {
        "duration": 6,
        "start_time": "2023-03-02T16:58:21.251Z"
      },
      {
        "duration": 12,
        "start_time": "2023-03-02T16:58:21.259Z"
      },
      {
        "duration": 4,
        "start_time": "2023-03-02T16:58:21.273Z"
      },
      {
        "duration": 4,
        "start_time": "2023-03-02T16:58:21.279Z"
      },
      {
        "duration": 41,
        "start_time": "2023-03-02T16:58:21.285Z"
      },
      {
        "duration": 6,
        "start_time": "2023-03-02T16:58:21.327Z"
      },
      {
        "duration": 7,
        "start_time": "2023-03-02T16:58:21.335Z"
      },
      {
        "duration": 8,
        "start_time": "2023-03-02T16:58:21.344Z"
      },
      {
        "duration": 687,
        "start_time": "2023-03-02T16:58:21.353Z"
      },
      {
        "duration": 9,
        "start_time": "2023-03-02T16:58:22.042Z"
      },
      {
        "duration": 13,
        "start_time": "2023-03-02T16:58:22.052Z"
      },
      {
        "duration": 9,
        "start_time": "2023-03-02T16:58:22.066Z"
      },
      {
        "duration": 6,
        "start_time": "2023-03-02T16:58:22.077Z"
      },
      {
        "duration": 36,
        "start_time": "2023-03-02T16:58:22.085Z"
      },
      {
        "duration": 806,
        "start_time": "2023-03-02T16:58:22.123Z"
      },
      {
        "duration": 0,
        "start_time": "2023-03-02T16:58:22.930Z"
      },
      {
        "duration": 0,
        "start_time": "2023-03-02T16:58:22.932Z"
      },
      {
        "duration": 0,
        "start_time": "2023-03-02T16:58:22.933Z"
      },
      {
        "duration": 0,
        "start_time": "2023-03-02T16:58:22.934Z"
      },
      {
        "duration": 0,
        "start_time": "2023-03-02T16:58:22.935Z"
      },
      {
        "duration": 0,
        "start_time": "2023-03-02T16:58:22.936Z"
      },
      {
        "duration": 0,
        "start_time": "2023-03-02T16:58:22.937Z"
      },
      {
        "duration": 0,
        "start_time": "2023-03-02T16:58:22.938Z"
      },
      {
        "duration": 0,
        "start_time": "2023-03-02T16:58:22.939Z"
      },
      {
        "duration": 0,
        "start_time": "2023-03-02T16:58:22.940Z"
      },
      {
        "duration": 0,
        "start_time": "2023-03-02T16:58:22.941Z"
      },
      {
        "duration": 0,
        "start_time": "2023-03-02T16:58:22.942Z"
      },
      {
        "duration": 0,
        "start_time": "2023-03-02T16:58:22.943Z"
      },
      {
        "duration": 0,
        "start_time": "2023-03-02T16:58:22.944Z"
      },
      {
        "duration": 1,
        "start_time": "2023-03-02T16:58:22.945Z"
      },
      {
        "duration": 0,
        "start_time": "2023-03-02T16:58:22.947Z"
      },
      {
        "duration": 0,
        "start_time": "2023-03-02T16:58:22.948Z"
      },
      {
        "duration": 0,
        "start_time": "2023-03-02T16:58:22.949Z"
      },
      {
        "duration": 0,
        "start_time": "2023-03-02T16:58:22.950Z"
      },
      {
        "duration": 700,
        "start_time": "2023-03-02T16:58:34.007Z"
      },
      {
        "duration": 7,
        "start_time": "2023-03-02T16:58:46.687Z"
      },
      {
        "duration": 7,
        "start_time": "2023-03-02T16:58:47.477Z"
      },
      {
        "duration": 104,
        "start_time": "2023-03-02T16:58:47.896Z"
      },
      {
        "duration": 8,
        "start_time": "2023-03-02T16:58:53.569Z"
      },
      {
        "duration": 25,
        "start_time": "2023-03-02T16:58:54.066Z"
      },
      {
        "duration": 25,
        "start_time": "2023-03-02T16:58:55.608Z"
      },
      {
        "duration": 7,
        "start_time": "2023-03-02T16:58:56.196Z"
      },
      {
        "duration": 7,
        "start_time": "2023-03-02T16:58:56.759Z"
      },
      {
        "duration": 8,
        "start_time": "2023-03-02T16:58:57.406Z"
      },
      {
        "duration": 99,
        "start_time": "2023-03-02T16:58:58.037Z"
      },
      {
        "duration": 27,
        "start_time": "2023-03-02T16:58:58.656Z"
      },
      {
        "duration": 37,
        "start_time": "2023-03-02T16:59:01.934Z"
      },
      {
        "duration": 28,
        "start_time": "2023-03-02T16:59:02.518Z"
      },
      {
        "duration": 25,
        "start_time": "2023-03-02T16:59:03.141Z"
      },
      {
        "duration": 25,
        "start_time": "2023-03-02T16:59:03.757Z"
      },
      {
        "duration": 280,
        "start_time": "2023-03-02T16:59:04.356Z"
      },
      {
        "duration": 26,
        "start_time": "2023-03-02T16:59:05.505Z"
      },
      {
        "duration": 7,
        "start_time": "2023-03-02T16:59:29.814Z"
      },
      {
        "duration": 4,
        "start_time": "2023-03-02T16:59:33.597Z"
      },
      {
        "duration": 7,
        "start_time": "2023-03-02T16:59:37.445Z"
      },
      {
        "duration": 7,
        "start_time": "2023-03-02T16:59:44.937Z"
      },
      {
        "duration": 5,
        "start_time": "2023-03-02T16:59:48.873Z"
      },
      {
        "duration": 118,
        "start_time": "2023-03-02T16:59:52.226Z"
      },
      {
        "duration": 15,
        "start_time": "2023-03-02T16:59:52.346Z"
      },
      {
        "duration": 2540,
        "start_time": "2023-03-02T16:59:52.363Z"
      },
      {
        "duration": 17,
        "start_time": "2023-03-02T16:59:54.905Z"
      },
      {
        "duration": 3,
        "start_time": "2023-03-02T16:59:54.923Z"
      },
      {
        "duration": 7,
        "start_time": "2023-03-02T16:59:54.928Z"
      },
      {
        "duration": 8,
        "start_time": "2023-03-02T16:59:54.937Z"
      },
      {
        "duration": 5,
        "start_time": "2023-03-02T16:59:54.946Z"
      },
      {
        "duration": 4,
        "start_time": "2023-03-02T16:59:54.952Z"
      },
      {
        "duration": 3,
        "start_time": "2023-03-02T16:59:54.958Z"
      },
      {
        "duration": 9,
        "start_time": "2023-03-02T16:59:54.963Z"
      },
      {
        "duration": 11,
        "start_time": "2023-03-02T16:59:54.973Z"
      },
      {
        "duration": 5,
        "start_time": "2023-03-02T16:59:54.985Z"
      },
      {
        "duration": 32,
        "start_time": "2023-03-02T16:59:54.991Z"
      },
      {
        "duration": 4,
        "start_time": "2023-03-02T16:59:55.024Z"
      },
      {
        "duration": 18,
        "start_time": "2023-03-02T16:59:55.030Z"
      },
      {
        "duration": 7,
        "start_time": "2023-03-02T16:59:55.049Z"
      },
      {
        "duration": 19,
        "start_time": "2023-03-02T16:59:55.057Z"
      },
      {
        "duration": 9,
        "start_time": "2023-03-02T16:59:55.078Z"
      },
      {
        "duration": 21,
        "start_time": "2023-03-02T16:59:55.088Z"
      },
      {
        "duration": 7,
        "start_time": "2023-03-02T16:59:55.111Z"
      },
      {
        "duration": 21,
        "start_time": "2023-03-02T16:59:55.120Z"
      },
      {
        "duration": 10,
        "start_time": "2023-03-02T16:59:55.142Z"
      },
      {
        "duration": 5,
        "start_time": "2023-03-02T16:59:55.153Z"
      },
      {
        "duration": 4,
        "start_time": "2023-03-02T16:59:55.160Z"
      },
      {
        "duration": 4,
        "start_time": "2023-03-02T16:59:55.165Z"
      },
      {
        "duration": 8,
        "start_time": "2023-03-02T16:59:55.171Z"
      },
      {
        "duration": 4,
        "start_time": "2023-03-02T16:59:55.183Z"
      },
      {
        "duration": 15,
        "start_time": "2023-03-02T16:59:55.189Z"
      },
      {
        "duration": 16,
        "start_time": "2023-03-02T16:59:55.205Z"
      },
      {
        "duration": 4,
        "start_time": "2023-03-02T16:59:55.223Z"
      },
      {
        "duration": 6,
        "start_time": "2023-03-02T16:59:55.229Z"
      },
      {
        "duration": 7,
        "start_time": "2023-03-02T16:59:55.236Z"
      },
      {
        "duration": 5,
        "start_time": "2023-03-02T16:59:55.244Z"
      },
      {
        "duration": 17,
        "start_time": "2023-03-02T16:59:55.250Z"
      },
      {
        "duration": 20,
        "start_time": "2023-03-02T16:59:55.269Z"
      },
      {
        "duration": 7,
        "start_time": "2023-03-02T16:59:55.291Z"
      },
      {
        "duration": 4,
        "start_time": "2023-03-02T16:59:55.300Z"
      },
      {
        "duration": 12,
        "start_time": "2023-03-02T16:59:55.305Z"
      },
      {
        "duration": 5,
        "start_time": "2023-03-02T16:59:55.319Z"
      },
      {
        "duration": 6,
        "start_time": "2023-03-02T16:59:55.325Z"
      },
      {
        "duration": 5,
        "start_time": "2023-03-02T16:59:55.332Z"
      },
      {
        "duration": 5,
        "start_time": "2023-03-02T16:59:55.338Z"
      },
      {
        "duration": 15,
        "start_time": "2023-03-02T16:59:55.345Z"
      },
      {
        "duration": 14,
        "start_time": "2023-03-02T16:59:55.361Z"
      },
      {
        "duration": 7,
        "start_time": "2023-03-02T16:59:55.377Z"
      },
      {
        "duration": 10,
        "start_time": "2023-03-02T16:59:55.386Z"
      },
      {
        "duration": 7,
        "start_time": "2023-03-02T16:59:55.398Z"
      },
      {
        "duration": 12,
        "start_time": "2023-03-02T16:59:55.407Z"
      },
      {
        "duration": 15,
        "start_time": "2023-03-02T16:59:55.420Z"
      },
      {
        "duration": 11,
        "start_time": "2023-03-02T16:59:55.437Z"
      },
      {
        "duration": 10,
        "start_time": "2023-03-02T16:59:55.449Z"
      },
      {
        "duration": 5,
        "start_time": "2023-03-02T16:59:55.460Z"
      },
      {
        "duration": 7,
        "start_time": "2023-03-02T16:59:55.466Z"
      },
      {
        "duration": 4,
        "start_time": "2023-03-02T16:59:55.474Z"
      },
      {
        "duration": 14,
        "start_time": "2023-03-02T16:59:55.480Z"
      },
      {
        "duration": 9,
        "start_time": "2023-03-02T16:59:55.496Z"
      },
      {
        "duration": 8,
        "start_time": "2023-03-02T16:59:55.506Z"
      },
      {
        "duration": 15,
        "start_time": "2023-03-02T16:59:55.516Z"
      },
      {
        "duration": 7,
        "start_time": "2023-03-02T16:59:55.532Z"
      },
      {
        "duration": 9,
        "start_time": "2023-03-02T16:59:55.540Z"
      },
      {
        "duration": 7,
        "start_time": "2023-03-02T16:59:55.550Z"
      },
      {
        "duration": 4,
        "start_time": "2023-03-02T16:59:55.559Z"
      },
      {
        "duration": 14,
        "start_time": "2023-03-02T16:59:55.564Z"
      },
      {
        "duration": 10,
        "start_time": "2023-03-02T16:59:55.579Z"
      },
      {
        "duration": 7,
        "start_time": "2023-03-02T16:59:55.591Z"
      },
      {
        "duration": 27,
        "start_time": "2023-03-02T16:59:55.599Z"
      },
      {
        "duration": 4,
        "start_time": "2023-03-02T16:59:55.627Z"
      },
      {
        "duration": 16,
        "start_time": "2023-03-02T16:59:55.633Z"
      },
      {
        "duration": 8,
        "start_time": "2023-03-02T16:59:55.651Z"
      },
      {
        "duration": 10,
        "start_time": "2023-03-02T16:59:55.660Z"
      },
      {
        "duration": 6,
        "start_time": "2023-03-02T16:59:55.672Z"
      },
      {
        "duration": 8,
        "start_time": "2023-03-02T16:59:55.679Z"
      },
      {
        "duration": 102,
        "start_time": "2023-03-02T16:59:55.688Z"
      },
      {
        "duration": 9,
        "start_time": "2023-03-02T16:59:55.791Z"
      },
      {
        "duration": 26,
        "start_time": "2023-03-02T16:59:55.801Z"
      },
      {
        "duration": 25,
        "start_time": "2023-03-02T16:59:55.829Z"
      },
      {
        "duration": 6,
        "start_time": "2023-03-02T16:59:55.856Z"
      },
      {
        "duration": 6,
        "start_time": "2023-03-02T16:59:55.864Z"
      },
      {
        "duration": 7,
        "start_time": "2023-03-02T16:59:55.871Z"
      },
      {
        "duration": 9,
        "start_time": "2023-03-02T16:59:55.879Z"
      },
      {
        "duration": 8,
        "start_time": "2023-03-02T16:59:55.893Z"
      },
      {
        "duration": 127,
        "start_time": "2023-03-02T16:59:55.902Z"
      },
      {
        "duration": 7,
        "start_time": "2023-03-02T16:59:56.030Z"
      },
      {
        "duration": 37,
        "start_time": "2023-03-02T16:59:56.039Z"
      },
      {
        "duration": 25,
        "start_time": "2023-03-02T16:59:56.078Z"
      },
      {
        "duration": 20,
        "start_time": "2023-03-02T16:59:56.104Z"
      },
      {
        "duration": 9,
        "start_time": "2023-03-02T16:59:56.125Z"
      },
      {
        "duration": 9,
        "start_time": "2023-03-02T16:59:56.136Z"
      },
      {
        "duration": 134,
        "start_time": "2023-03-02T16:59:56.146Z"
      },
      {
        "duration": 25,
        "start_time": "2023-03-02T16:59:56.282Z"
      },
      {
        "duration": 27,
        "start_time": "2023-03-02T16:59:56.321Z"
      },
      {
        "duration": 27,
        "start_time": "2023-03-02T16:59:56.350Z"
      },
      {
        "duration": 48,
        "start_time": "2023-03-02T16:59:56.379Z"
      },
      {
        "duration": 27,
        "start_time": "2023-03-02T16:59:56.429Z"
      },
      {
        "duration": 308,
        "start_time": "2023-03-02T16:59:56.458Z"
      },
      {
        "duration": 23,
        "start_time": "2023-03-02T16:59:56.768Z"
      },
      {
        "duration": 177,
        "start_time": "2023-03-02T16:59:56.793Z"
      },
      {
        "duration": 9,
        "start_time": "2023-03-02T16:59:56.972Z"
      },
      {
        "duration": 1170,
        "start_time": "2023-03-02T18:53:06.243Z"
      },
      {
        "duration": 15,
        "start_time": "2023-03-02T18:53:07.415Z"
      },
      {
        "duration": 2741,
        "start_time": "2023-03-02T18:53:07.432Z"
      },
      {
        "duration": 10,
        "start_time": "2023-03-02T18:53:10.174Z"
      },
      {
        "duration": 40,
        "start_time": "2023-03-02T18:53:10.186Z"
      },
      {
        "duration": 18,
        "start_time": "2023-03-02T18:53:10.228Z"
      },
      {
        "duration": 26,
        "start_time": "2023-03-02T18:53:10.248Z"
      },
      {
        "duration": 6,
        "start_time": "2023-03-02T18:53:10.275Z"
      },
      {
        "duration": 15,
        "start_time": "2023-03-02T18:53:10.283Z"
      },
      {
        "duration": 21,
        "start_time": "2023-03-02T18:53:10.300Z"
      },
      {
        "duration": 21,
        "start_time": "2023-03-02T18:53:10.323Z"
      },
      {
        "duration": 30,
        "start_time": "2023-03-02T18:53:10.346Z"
      },
      {
        "duration": 14,
        "start_time": "2023-03-02T18:53:10.378Z"
      },
      {
        "duration": 20,
        "start_time": "2023-03-02T18:53:10.395Z"
      },
      {
        "duration": 22,
        "start_time": "2023-03-02T18:53:10.416Z"
      },
      {
        "duration": 24,
        "start_time": "2023-03-02T18:53:10.440Z"
      },
      {
        "duration": 16,
        "start_time": "2023-03-02T18:53:10.466Z"
      },
      {
        "duration": 46,
        "start_time": "2023-03-02T18:53:10.483Z"
      },
      {
        "duration": 30,
        "start_time": "2023-03-02T18:53:10.531Z"
      },
      {
        "duration": 58,
        "start_time": "2023-03-02T18:53:10.563Z"
      },
      {
        "duration": 12,
        "start_time": "2023-03-02T18:53:10.623Z"
      },
      {
        "duration": 16,
        "start_time": "2023-03-02T18:53:10.636Z"
      },
      {
        "duration": 21,
        "start_time": "2023-03-02T18:53:10.653Z"
      },
      {
        "duration": 24,
        "start_time": "2023-03-02T18:53:10.676Z"
      },
      {
        "duration": 21,
        "start_time": "2023-03-02T18:53:10.702Z"
      },
      {
        "duration": 23,
        "start_time": "2023-03-02T18:53:10.724Z"
      },
      {
        "duration": 41,
        "start_time": "2023-03-02T18:53:10.748Z"
      },
      {
        "duration": 49,
        "start_time": "2023-03-02T18:53:10.791Z"
      },
      {
        "duration": 13,
        "start_time": "2023-03-02T18:53:10.842Z"
      },
      {
        "duration": 26,
        "start_time": "2023-03-02T18:53:10.857Z"
      },
      {
        "duration": 20,
        "start_time": "2023-03-02T18:53:10.885Z"
      },
      {
        "duration": 34,
        "start_time": "2023-03-02T18:53:10.907Z"
      },
      {
        "duration": 34,
        "start_time": "2023-03-02T18:53:10.942Z"
      },
      {
        "duration": 21,
        "start_time": "2023-03-02T18:53:10.977Z"
      },
      {
        "duration": 10,
        "start_time": "2023-03-02T18:53:10.999Z"
      },
      {
        "duration": 9,
        "start_time": "2023-03-02T18:53:11.010Z"
      },
      {
        "duration": 8,
        "start_time": "2023-03-02T18:53:11.020Z"
      },
      {
        "duration": 7,
        "start_time": "2023-03-02T18:53:11.029Z"
      },
      {
        "duration": 9,
        "start_time": "2023-03-02T18:53:11.037Z"
      },
      {
        "duration": 6,
        "start_time": "2023-03-02T18:53:11.047Z"
      },
      {
        "duration": 4,
        "start_time": "2023-03-02T18:53:11.058Z"
      },
      {
        "duration": 7,
        "start_time": "2023-03-02T18:53:11.063Z"
      },
      {
        "duration": 7,
        "start_time": "2023-03-02T18:53:11.071Z"
      },
      {
        "duration": 7,
        "start_time": "2023-03-02T18:53:11.079Z"
      },
      {
        "duration": 5,
        "start_time": "2023-03-02T18:53:11.088Z"
      },
      {
        "duration": 7,
        "start_time": "2023-03-02T18:53:11.094Z"
      },
      {
        "duration": 4,
        "start_time": "2023-03-02T18:53:11.102Z"
      },
      {
        "duration": 9,
        "start_time": "2023-03-02T18:53:11.108Z"
      },
      {
        "duration": 5,
        "start_time": "2023-03-02T18:53:11.118Z"
      },
      {
        "duration": 4,
        "start_time": "2023-03-02T18:53:11.148Z"
      },
      {
        "duration": 16,
        "start_time": "2023-03-02T18:53:11.153Z"
      },
      {
        "duration": 11,
        "start_time": "2023-03-02T18:53:11.170Z"
      },
      {
        "duration": 6,
        "start_time": "2023-03-02T18:53:11.183Z"
      },
      {
        "duration": 7,
        "start_time": "2023-03-02T18:53:11.190Z"
      },
      {
        "duration": 16,
        "start_time": "2023-03-02T18:53:11.198Z"
      },
      {
        "duration": 6,
        "start_time": "2023-03-02T18:53:11.215Z"
      },
      {
        "duration": 8,
        "start_time": "2023-03-02T18:53:11.222Z"
      },
      {
        "duration": 6,
        "start_time": "2023-03-02T18:53:11.231Z"
      },
      {
        "duration": 10,
        "start_time": "2023-03-02T18:53:11.238Z"
      },
      {
        "duration": 5,
        "start_time": "2023-03-02T18:53:11.250Z"
      },
      {
        "duration": 5,
        "start_time": "2023-03-02T18:53:11.257Z"
      },
      {
        "duration": 6,
        "start_time": "2023-03-02T18:53:11.264Z"
      },
      {
        "duration": 6,
        "start_time": "2023-03-02T18:53:11.271Z"
      },
      {
        "duration": 5,
        "start_time": "2023-03-02T18:53:11.279Z"
      },
      {
        "duration": 9,
        "start_time": "2023-03-02T18:53:11.285Z"
      },
      {
        "duration": 10,
        "start_time": "2023-03-02T18:53:11.297Z"
      },
      {
        "duration": 8,
        "start_time": "2023-03-02T18:53:11.308Z"
      },
      {
        "duration": 6,
        "start_time": "2023-03-02T18:53:11.317Z"
      },
      {
        "duration": 7,
        "start_time": "2023-03-02T18:53:11.324Z"
      },
      {
        "duration": 17,
        "start_time": "2023-03-02T18:53:11.332Z"
      },
      {
        "duration": 5,
        "start_time": "2023-03-02T18:53:11.350Z"
      },
      {
        "duration": 9,
        "start_time": "2023-03-02T18:53:11.356Z"
      },
      {
        "duration": 9,
        "start_time": "2023-03-02T18:53:11.366Z"
      },
      {
        "duration": 650,
        "start_time": "2023-03-02T18:53:11.376Z"
      },
      {
        "duration": 9,
        "start_time": "2023-03-02T18:53:12.027Z"
      },
      {
        "duration": 13,
        "start_time": "2023-03-02T18:53:12.048Z"
      },
      {
        "duration": 7,
        "start_time": "2023-03-02T18:53:12.062Z"
      },
      {
        "duration": 6,
        "start_time": "2023-03-02T18:53:12.071Z"
      },
      {
        "duration": 9,
        "start_time": "2023-03-02T18:53:12.079Z"
      },
      {
        "duration": 7,
        "start_time": "2023-03-02T18:53:12.090Z"
      },
      {
        "duration": 7,
        "start_time": "2023-03-02T18:53:12.099Z"
      },
      {
        "duration": 7,
        "start_time": "2023-03-02T18:53:12.108Z"
      },
      {
        "duration": 134,
        "start_time": "2023-03-02T18:53:12.117Z"
      },
      {
        "duration": 7,
        "start_time": "2023-03-02T18:53:12.253Z"
      },
      {
        "duration": 25,
        "start_time": "2023-03-02T18:53:12.262Z"
      },
      {
        "duration": 21,
        "start_time": "2023-03-02T18:53:12.288Z"
      },
      {
        "duration": 39,
        "start_time": "2023-03-02T18:53:12.311Z"
      },
      {
        "duration": 8,
        "start_time": "2023-03-02T18:53:12.352Z"
      },
      {
        "duration": 7,
        "start_time": "2023-03-02T18:53:12.361Z"
      },
      {
        "duration": 113,
        "start_time": "2023-03-02T18:53:12.369Z"
      },
      {
        "duration": 26,
        "start_time": "2023-03-02T18:53:12.483Z"
      },
      {
        "duration": 42,
        "start_time": "2023-03-02T18:53:12.511Z"
      },
      {
        "duration": 29,
        "start_time": "2023-03-02T18:53:12.555Z"
      },
      {
        "duration": 27,
        "start_time": "2023-03-02T18:53:12.586Z"
      },
      {
        "duration": 54,
        "start_time": "2023-03-02T18:53:12.616Z"
      },
      {
        "duration": 294,
        "start_time": "2023-03-02T18:53:12.672Z"
      },
      {
        "duration": 24,
        "start_time": "2023-03-02T18:53:12.968Z"
      },
      {
        "duration": 255,
        "start_time": "2023-03-02T18:53:12.994Z"
      },
      {
        "duration": 9,
        "start_time": "2023-03-02T18:53:13.250Z"
      },
      {
        "duration": 99,
        "start_time": "2023-03-02T18:59:10.385Z"
      },
      {
        "duration": 26,
        "start_time": "2023-03-02T18:59:20.134Z"
      },
      {
        "duration": 8,
        "start_time": "2023-03-02T19:01:23.055Z"
      },
      {
        "duration": 19,
        "start_time": "2023-03-02T19:04:25.904Z"
      },
      {
        "duration": 13,
        "start_time": "2023-03-02T19:06:41.522Z"
      },
      {
        "duration": 6,
        "start_time": "2023-03-02T19:06:50.334Z"
      },
      {
        "duration": 15,
        "start_time": "2023-03-02T19:07:23.974Z"
      },
      {
        "duration": 18,
        "start_time": "2023-03-02T19:08:45.585Z"
      },
      {
        "duration": 15,
        "start_time": "2023-03-02T19:08:56.662Z"
      },
      {
        "duration": 12,
        "start_time": "2023-03-02T19:09:52.252Z"
      },
      {
        "duration": 7,
        "start_time": "2023-03-02T19:10:56.330Z"
      },
      {
        "duration": 7,
        "start_time": "2023-03-02T19:11:34.017Z"
      },
      {
        "duration": 18,
        "start_time": "2023-03-02T19:11:57.776Z"
      },
      {
        "duration": 7,
        "start_time": "2023-03-02T19:12:18.026Z"
      },
      {
        "duration": 183,
        "start_time": "2023-03-02T19:34:41.359Z"
      },
      {
        "duration": 174,
        "start_time": "2023-03-02T19:35:37.810Z"
      },
      {
        "duration": 184,
        "start_time": "2023-03-02T19:36:11.797Z"
      },
      {
        "duration": 162,
        "start_time": "2023-03-02T19:36:51.875Z"
      },
      {
        "duration": 173,
        "start_time": "2023-03-02T19:38:03.883Z"
      },
      {
        "duration": 484,
        "start_time": "2023-03-02T19:38:36.925Z"
      },
      {
        "duration": 157,
        "start_time": "2023-03-02T19:39:59.765Z"
      },
      {
        "duration": 173,
        "start_time": "2023-03-02T19:44:02.953Z"
      },
      {
        "duration": 183,
        "start_time": "2023-03-02T19:44:26.092Z"
      },
      {
        "duration": 186,
        "start_time": "2023-03-02T19:44:41.337Z"
      },
      {
        "duration": 170,
        "start_time": "2023-03-02T19:44:49.984Z"
      },
      {
        "duration": 205,
        "start_time": "2023-03-02T19:45:06.464Z"
      },
      {
        "duration": 182,
        "start_time": "2023-03-02T19:45:28.788Z"
      },
      {
        "duration": 170,
        "start_time": "2023-03-02T19:49:20.025Z"
      },
      {
        "duration": 9,
        "start_time": "2023-03-02T20:21:52.286Z"
      },
      {
        "duration": 24,
        "start_time": "2023-03-02T20:22:07.315Z"
      },
      {
        "duration": 30,
        "start_time": "2023-03-02T20:23:46.074Z"
      },
      {
        "duration": 17,
        "start_time": "2023-03-02T20:23:56.666Z"
      },
      {
        "duration": 33,
        "start_time": "2023-03-02T20:24:06.155Z"
      },
      {
        "duration": 13,
        "start_time": "2023-03-02T20:31:26.215Z"
      },
      {
        "duration": 9,
        "start_time": "2023-03-02T20:31:49.207Z"
      },
      {
        "duration": 8,
        "start_time": "2023-03-02T20:32:31.365Z"
      },
      {
        "duration": 7,
        "start_time": "2023-03-02T20:32:38.108Z"
      },
      {
        "duration": 9,
        "start_time": "2023-03-02T21:00:35.041Z"
      },
      {
        "duration": 39,
        "start_time": "2023-03-02T21:00:44.759Z"
      },
      {
        "duration": 26,
        "start_time": "2023-03-02T21:03:30.788Z"
      },
      {
        "duration": 119,
        "start_time": "2023-03-02T21:04:05.827Z"
      },
      {
        "duration": 18,
        "start_time": "2023-03-02T21:04:05.947Z"
      },
      {
        "duration": 2382,
        "start_time": "2023-03-02T21:04:05.967Z"
      },
      {
        "duration": 9,
        "start_time": "2023-03-02T21:04:08.350Z"
      },
      {
        "duration": 3,
        "start_time": "2023-03-02T21:04:08.361Z"
      },
      {
        "duration": 13,
        "start_time": "2023-03-02T21:04:08.366Z"
      },
      {
        "duration": 7,
        "start_time": "2023-03-02T21:04:08.380Z"
      },
      {
        "duration": 6,
        "start_time": "2023-03-02T21:04:08.388Z"
      },
      {
        "duration": 5,
        "start_time": "2023-03-02T21:04:08.395Z"
      },
      {
        "duration": 5,
        "start_time": "2023-03-02T21:04:08.401Z"
      },
      {
        "duration": 8,
        "start_time": "2023-03-02T21:04:08.408Z"
      },
      {
        "duration": 32,
        "start_time": "2023-03-02T21:04:08.418Z"
      },
      {
        "duration": 5,
        "start_time": "2023-03-02T21:04:08.452Z"
      },
      {
        "duration": 4,
        "start_time": "2023-03-02T21:04:08.461Z"
      },
      {
        "duration": 7,
        "start_time": "2023-03-02T21:04:08.466Z"
      },
      {
        "duration": 153,
        "start_time": "2023-03-02T21:04:08.475Z"
      },
      {
        "duration": 5,
        "start_time": "2023-03-02T21:04:08.630Z"
      },
      {
        "duration": 17,
        "start_time": "2023-03-02T21:04:08.636Z"
      },
      {
        "duration": 6,
        "start_time": "2023-03-02T21:04:08.655Z"
      },
      {
        "duration": 22,
        "start_time": "2023-03-02T21:04:08.663Z"
      },
      {
        "duration": 8,
        "start_time": "2023-03-02T21:04:08.686Z"
      },
      {
        "duration": 6,
        "start_time": "2023-03-02T21:04:08.696Z"
      },
      {
        "duration": 8,
        "start_time": "2023-03-02T21:04:08.704Z"
      },
      {
        "duration": 40,
        "start_time": "2023-03-02T21:04:08.714Z"
      },
      {
        "duration": 6,
        "start_time": "2023-03-02T21:04:08.756Z"
      },
      {
        "duration": 11,
        "start_time": "2023-03-02T21:04:08.763Z"
      },
      {
        "duration": 10,
        "start_time": "2023-03-02T21:04:08.776Z"
      },
      {
        "duration": 4,
        "start_time": "2023-03-02T21:04:08.787Z"
      },
      {
        "duration": 6,
        "start_time": "2023-03-02T21:04:08.793Z"
      },
      {
        "duration": 6,
        "start_time": "2023-03-02T21:04:08.800Z"
      },
      {
        "duration": 12,
        "start_time": "2023-03-02T21:04:08.807Z"
      },
      {
        "duration": 13,
        "start_time": "2023-03-02T21:04:08.821Z"
      },
      {
        "duration": 7,
        "start_time": "2023-03-02T21:04:08.836Z"
      },
      {
        "duration": 17,
        "start_time": "2023-03-02T21:04:08.844Z"
      },
      {
        "duration": 21,
        "start_time": "2023-03-02T21:04:08.863Z"
      },
      {
        "duration": 19,
        "start_time": "2023-03-02T21:04:08.885Z"
      },
      {
        "duration": 14,
        "start_time": "2023-03-02T21:04:08.906Z"
      },
      {
        "duration": 18,
        "start_time": "2023-03-02T21:04:08.922Z"
      },
      {
        "duration": 10,
        "start_time": "2023-03-02T21:04:08.941Z"
      },
      {
        "duration": 7,
        "start_time": "2023-03-02T21:04:08.952Z"
      },
      {
        "duration": 12,
        "start_time": "2023-03-02T21:04:08.963Z"
      },
      {
        "duration": 15,
        "start_time": "2023-03-02T21:04:08.977Z"
      },
      {
        "duration": 11,
        "start_time": "2023-03-02T21:04:08.993Z"
      },
      {
        "duration": 27,
        "start_time": "2023-03-02T21:04:09.006Z"
      },
      {
        "duration": 10,
        "start_time": "2023-03-02T21:04:09.035Z"
      },
      {
        "duration": 16,
        "start_time": "2023-03-02T21:04:09.047Z"
      },
      {
        "duration": 14,
        "start_time": "2023-03-02T21:04:09.065Z"
      },
      {
        "duration": 6,
        "start_time": "2023-03-02T21:04:09.081Z"
      },
      {
        "duration": 9,
        "start_time": "2023-03-02T21:04:09.089Z"
      },
      {
        "duration": 12,
        "start_time": "2023-03-02T21:04:09.100Z"
      },
      {
        "duration": 20,
        "start_time": "2023-03-02T21:04:09.114Z"
      },
      {
        "duration": 22,
        "start_time": "2023-03-02T21:04:09.135Z"
      },
      {
        "duration": 21,
        "start_time": "2023-03-02T21:04:09.159Z"
      },
      {
        "duration": 18,
        "start_time": "2023-03-02T21:04:09.181Z"
      },
      {
        "duration": 22,
        "start_time": "2023-03-02T21:04:09.200Z"
      },
      {
        "duration": 33,
        "start_time": "2023-03-02T21:04:09.224Z"
      },
      {
        "duration": 28,
        "start_time": "2023-03-02T21:04:09.259Z"
      },
      {
        "duration": 20,
        "start_time": "2023-03-02T21:04:09.288Z"
      },
      {
        "duration": 13,
        "start_time": "2023-03-02T21:04:09.310Z"
      },
      {
        "duration": 18,
        "start_time": "2023-03-02T21:04:09.324Z"
      },
      {
        "duration": 19,
        "start_time": "2023-03-02T21:04:09.344Z"
      },
      {
        "duration": 13,
        "start_time": "2023-03-02T21:04:09.365Z"
      },
      {
        "duration": 19,
        "start_time": "2023-03-02T21:04:09.380Z"
      },
      {
        "duration": 12,
        "start_time": "2023-03-02T21:04:09.401Z"
      },
      {
        "duration": 12,
        "start_time": "2023-03-02T21:04:09.414Z"
      },
      {
        "duration": 14,
        "start_time": "2023-03-02T21:04:09.427Z"
      },
      {
        "duration": 19,
        "start_time": "2023-03-02T21:04:09.443Z"
      },
      {
        "duration": 21,
        "start_time": "2023-03-02T21:04:09.464Z"
      },
      {
        "duration": 17,
        "start_time": "2023-03-02T21:04:09.486Z"
      },
      {
        "duration": 26,
        "start_time": "2023-03-02T21:04:09.504Z"
      },
      {
        "duration": 24,
        "start_time": "2023-03-02T21:04:09.531Z"
      },
      {
        "duration": 22,
        "start_time": "2023-03-02T21:04:09.557Z"
      },
      {
        "duration": 21,
        "start_time": "2023-03-02T21:04:09.581Z"
      },
      {
        "duration": 129,
        "start_time": "2023-03-02T21:04:09.604Z"
      },
      {
        "duration": 13,
        "start_time": "2023-03-02T21:04:09.735Z"
      },
      {
        "duration": 10,
        "start_time": "2023-03-02T21:04:09.749Z"
      },
      {
        "duration": 16,
        "start_time": "2023-03-02T21:04:09.761Z"
      },
      {
        "duration": 18,
        "start_time": "2023-03-02T21:04:09.778Z"
      },
      {
        "duration": 20,
        "start_time": "2023-03-02T21:04:09.797Z"
      },
      {
        "duration": 33,
        "start_time": "2023-03-02T21:04:09.818Z"
      },
      {
        "duration": 5,
        "start_time": "2023-03-02T21:04:09.853Z"
      },
      {
        "duration": 24,
        "start_time": "2023-03-02T21:04:09.859Z"
      },
      {
        "duration": 99,
        "start_time": "2023-03-02T21:04:09.884Z"
      },
      {
        "duration": 7,
        "start_time": "2023-03-02T21:04:09.985Z"
      },
      {
        "duration": 22,
        "start_time": "2023-03-02T21:04:09.994Z"
      },
      {
        "duration": 40,
        "start_time": "2023-03-02T21:04:10.018Z"
      },
      {
        "duration": 6,
        "start_time": "2023-03-02T21:04:10.059Z"
      },
      {
        "duration": 13,
        "start_time": "2023-03-02T21:04:10.066Z"
      },
      {
        "duration": 11,
        "start_time": "2023-03-02T21:04:10.080Z"
      },
      {
        "duration": 110,
        "start_time": "2023-03-02T21:04:10.092Z"
      },
      {
        "duration": 24,
        "start_time": "2023-03-02T21:04:10.203Z"
      },
      {
        "duration": 40,
        "start_time": "2023-03-02T21:04:10.228Z"
      },
      {
        "duration": 32,
        "start_time": "2023-03-02T21:04:10.270Z"
      },
      {
        "duration": 43,
        "start_time": "2023-03-02T21:04:10.303Z"
      },
      {
        "duration": 32,
        "start_time": "2023-03-02T21:04:10.348Z"
      },
      {
        "duration": 297,
        "start_time": "2023-03-02T21:04:10.382Z"
      },
      {
        "duration": 23,
        "start_time": "2023-03-02T21:04:10.680Z"
      },
      {
        "duration": 173,
        "start_time": "2023-03-02T21:04:10.704Z"
      },
      {
        "duration": 9,
        "start_time": "2023-03-02T21:04:10.879Z"
      },
      {
        "duration": 28,
        "start_time": "2023-03-02T21:04:10.889Z"
      },
      {
        "duration": 83,
        "start_time": "2023-03-02T21:04:10.918Z"
      },
      {
        "duration": 186,
        "start_time": "2023-03-02T21:04:11.002Z"
      },
      {
        "duration": 198,
        "start_time": "2023-03-02T21:04:11.189Z"
      },
      {
        "duration": 186,
        "start_time": "2023-03-02T21:04:11.389Z"
      },
      {
        "duration": 191,
        "start_time": "2023-03-02T21:04:11.576Z"
      },
      {
        "duration": 172,
        "start_time": "2023-03-02T21:04:11.769Z"
      },
      {
        "duration": 180,
        "start_time": "2023-03-02T21:04:11.943Z"
      },
      {
        "duration": 186,
        "start_time": "2023-03-02T21:04:12.125Z"
      },
      {
        "duration": 180,
        "start_time": "2023-03-02T21:04:12.313Z"
      },
      {
        "duration": 35,
        "start_time": "2023-03-02T21:04:12.495Z"
      },
      {
        "duration": 25,
        "start_time": "2023-03-02T21:04:12.531Z"
      },
      {
        "duration": 25,
        "start_time": "2023-03-02T21:04:12.557Z"
      },
      {
        "duration": 20,
        "start_time": "2023-03-02T21:04:12.584Z"
      },
      {
        "duration": 7,
        "start_time": "2023-03-02T21:05:21.941Z"
      },
      {
        "duration": 5,
        "start_time": "2023-03-02T21:05:26.131Z"
      },
      {
        "duration": 72,
        "start_time": "2023-03-02T21:06:16.062Z"
      },
      {
        "duration": 8,
        "start_time": "2023-03-02T21:06:25.500Z"
      },
      {
        "duration": 38,
        "start_time": "2023-03-02T21:06:33.190Z"
      },
      {
        "duration": 2,
        "start_time": "2023-03-02T21:10:17.553Z"
      },
      {
        "duration": 4,
        "start_time": "2023-03-02T21:11:04.422Z"
      },
      {
        "duration": 24,
        "start_time": "2023-03-02T21:11:10.979Z"
      },
      {
        "duration": 41,
        "start_time": "2023-03-02T21:13:19.009Z"
      },
      {
        "duration": 13,
        "start_time": "2023-03-02T21:13:36.709Z"
      },
      {
        "duration": 11,
        "start_time": "2023-03-02T21:22:28.732Z"
      },
      {
        "duration": 231,
        "start_time": "2023-03-02T21:29:36.688Z"
      },
      {
        "duration": 178,
        "start_time": "2023-03-02T21:30:12.504Z"
      },
      {
        "duration": 1278,
        "start_time": "2023-03-02T21:32:26.290Z"
      },
      {
        "duration": 175,
        "start_time": "2023-03-02T21:32:52.562Z"
      },
      {
        "duration": 3,
        "start_time": "2023-03-03T17:55:10.573Z"
      },
      {
        "duration": 46,
        "start_time": "2023-03-03T17:57:53.106Z"
      },
      {
        "duration": 578,
        "start_time": "2023-03-03T17:58:11.151Z"
      },
      {
        "duration": 15,
        "start_time": "2023-03-03T17:58:11.731Z"
      },
      {
        "duration": 2742,
        "start_time": "2023-03-03T17:58:11.748Z"
      },
      {
        "duration": 10,
        "start_time": "2023-03-03T17:58:14.491Z"
      },
      {
        "duration": 3,
        "start_time": "2023-03-03T17:58:14.503Z"
      },
      {
        "duration": 10,
        "start_time": "2023-03-03T17:58:14.507Z"
      },
      {
        "duration": 7,
        "start_time": "2023-03-03T17:58:14.518Z"
      },
      {
        "duration": 5,
        "start_time": "2023-03-03T17:58:14.527Z"
      },
      {
        "duration": 23,
        "start_time": "2023-03-03T17:58:14.533Z"
      },
      {
        "duration": 4,
        "start_time": "2023-03-03T17:58:14.558Z"
      },
      {
        "duration": 5,
        "start_time": "2023-03-03T17:58:14.564Z"
      },
      {
        "duration": 3,
        "start_time": "2023-03-03T17:58:14.571Z"
      },
      {
        "duration": 5,
        "start_time": "2023-03-03T17:58:14.575Z"
      },
      {
        "duration": 5,
        "start_time": "2023-03-03T17:58:14.583Z"
      },
      {
        "duration": 5,
        "start_time": "2023-03-03T17:58:14.590Z"
      },
      {
        "duration": 4,
        "start_time": "2023-03-03T17:58:14.596Z"
      },
      {
        "duration": 4,
        "start_time": "2023-03-03T17:58:14.621Z"
      },
      {
        "duration": 14,
        "start_time": "2023-03-03T17:58:14.626Z"
      },
      {
        "duration": 8,
        "start_time": "2023-03-03T17:58:14.641Z"
      },
      {
        "duration": 21,
        "start_time": "2023-03-03T17:58:14.651Z"
      },
      {
        "duration": 8,
        "start_time": "2023-03-03T17:58:14.673Z"
      },
      {
        "duration": 6,
        "start_time": "2023-03-03T17:58:14.682Z"
      },
      {
        "duration": 34,
        "start_time": "2023-03-03T17:58:14.689Z"
      },
      {
        "duration": 7,
        "start_time": "2023-03-03T17:58:14.724Z"
      },
      {
        "duration": 6,
        "start_time": "2023-03-03T17:58:14.732Z"
      },
      {
        "duration": 9,
        "start_time": "2023-03-03T17:58:14.740Z"
      },
      {
        "duration": 15,
        "start_time": "2023-03-03T17:58:14.751Z"
      },
      {
        "duration": 7,
        "start_time": "2023-03-03T17:58:14.768Z"
      },
      {
        "duration": 5,
        "start_time": "2023-03-03T17:58:14.777Z"
      },
      {
        "duration": 5,
        "start_time": "2023-03-03T17:58:14.784Z"
      },
      {
        "duration": 5,
        "start_time": "2023-03-03T17:58:14.790Z"
      },
      {
        "duration": 5,
        "start_time": "2023-03-03T17:58:14.821Z"
      },
      {
        "duration": 5,
        "start_time": "2023-03-03T17:58:14.828Z"
      },
      {
        "duration": 6,
        "start_time": "2023-03-03T17:58:14.835Z"
      },
      {
        "duration": 5,
        "start_time": "2023-03-03T17:58:14.842Z"
      },
      {
        "duration": 6,
        "start_time": "2023-03-03T17:58:14.849Z"
      },
      {
        "duration": 7,
        "start_time": "2023-03-03T17:58:14.856Z"
      },
      {
        "duration": 5,
        "start_time": "2023-03-03T17:58:14.865Z"
      },
      {
        "duration": 14,
        "start_time": "2023-03-03T17:58:14.872Z"
      },
      {
        "duration": 5,
        "start_time": "2023-03-03T17:58:14.887Z"
      },
      {
        "duration": 5,
        "start_time": "2023-03-03T17:58:14.926Z"
      },
      {
        "duration": 10,
        "start_time": "2023-03-03T17:58:14.933Z"
      },
      {
        "duration": 5,
        "start_time": "2023-03-03T17:58:14.945Z"
      },
      {
        "duration": 7,
        "start_time": "2023-03-03T17:58:14.952Z"
      },
      {
        "duration": 5,
        "start_time": "2023-03-03T17:58:14.960Z"
      },
      {
        "duration": 5,
        "start_time": "2023-03-03T17:58:14.967Z"
      },
      {
        "duration": 4,
        "start_time": "2023-03-03T17:58:14.973Z"
      },
      {
        "duration": 4,
        "start_time": "2023-03-03T17:58:14.979Z"
      },
      {
        "duration": 38,
        "start_time": "2023-03-03T17:58:14.985Z"
      },
      {
        "duration": 10,
        "start_time": "2023-03-03T17:58:15.025Z"
      },
      {
        "duration": 6,
        "start_time": "2023-03-03T17:58:15.036Z"
      },
      {
        "duration": 10,
        "start_time": "2023-03-03T17:58:15.044Z"
      },
      {
        "duration": 9,
        "start_time": "2023-03-03T17:58:15.055Z"
      },
      {
        "duration": 12,
        "start_time": "2023-03-03T17:58:15.066Z"
      },
      {
        "duration": 14,
        "start_time": "2023-03-03T17:58:15.080Z"
      },
      {
        "duration": 7,
        "start_time": "2023-03-03T17:58:15.096Z"
      },
      {
        "duration": 30,
        "start_time": "2023-03-03T17:58:15.105Z"
      },
      {
        "duration": 24,
        "start_time": "2023-03-03T17:58:15.137Z"
      },
      {
        "duration": 11,
        "start_time": "2023-03-03T17:58:15.163Z"
      },
      {
        "duration": 11,
        "start_time": "2023-03-03T17:58:15.176Z"
      },
      {
        "duration": 17,
        "start_time": "2023-03-03T17:58:15.189Z"
      },
      {
        "duration": 15,
        "start_time": "2023-03-03T17:58:15.208Z"
      },
      {
        "duration": 13,
        "start_time": "2023-03-03T17:58:15.225Z"
      },
      {
        "duration": 10,
        "start_time": "2023-03-03T17:58:15.240Z"
      },
      {
        "duration": 6,
        "start_time": "2023-03-03T17:58:15.252Z"
      },
      {
        "duration": 14,
        "start_time": "2023-03-03T17:58:15.260Z"
      },
      {
        "duration": 20,
        "start_time": "2023-03-03T17:58:15.276Z"
      },
      {
        "duration": 6,
        "start_time": "2023-03-03T17:58:15.298Z"
      },
      {
        "duration": 8,
        "start_time": "2023-03-03T17:58:15.305Z"
      },
      {
        "duration": 8,
        "start_time": "2023-03-03T17:58:15.314Z"
      },
      {
        "duration": 5,
        "start_time": "2023-03-03T17:58:15.323Z"
      },
      {
        "duration": 10,
        "start_time": "2023-03-03T17:58:15.329Z"
      },
      {
        "duration": 7,
        "start_time": "2023-03-03T17:58:15.341Z"
      },
      {
        "duration": 649,
        "start_time": "2023-03-03T17:58:15.350Z"
      },
      {
        "duration": 21,
        "start_time": "2023-03-03T17:58:16.000Z"
      },
      {
        "duration": 12,
        "start_time": "2023-03-03T17:58:16.023Z"
      },
      {
        "duration": 7,
        "start_time": "2023-03-03T17:58:16.036Z"
      },
      {
        "duration": 6,
        "start_time": "2023-03-03T17:58:16.044Z"
      },
      {
        "duration": 5,
        "start_time": "2023-03-03T17:58:16.051Z"
      },
      {
        "duration": 6,
        "start_time": "2023-03-03T17:58:16.058Z"
      },
      {
        "duration": 6,
        "start_time": "2023-03-03T17:58:16.066Z"
      },
      {
        "duration": 49,
        "start_time": "2023-03-03T17:58:16.074Z"
      },
      {
        "duration": 126,
        "start_time": "2023-03-03T17:58:16.125Z"
      },
      {
        "duration": 9,
        "start_time": "2023-03-03T17:58:16.253Z"
      },
      {
        "duration": 26,
        "start_time": "2023-03-03T17:58:16.263Z"
      },
      {
        "duration": 48,
        "start_time": "2023-03-03T17:58:16.290Z"
      },
      {
        "duration": 5,
        "start_time": "2023-03-03T17:58:16.340Z"
      },
      {
        "duration": 7,
        "start_time": "2023-03-03T17:58:16.346Z"
      },
      {
        "duration": 7,
        "start_time": "2023-03-03T17:58:16.355Z"
      },
      {
        "duration": 129,
        "start_time": "2023-03-03T17:58:16.363Z"
      },
      {
        "duration": 34,
        "start_time": "2023-03-03T17:58:16.494Z"
      },
      {
        "duration": 27,
        "start_time": "2023-03-03T17:58:16.529Z"
      },
      {
        "duration": 27,
        "start_time": "2023-03-03T17:58:16.558Z"
      },
      {
        "duration": 53,
        "start_time": "2023-03-03T17:58:16.587Z"
      },
      {
        "duration": 26,
        "start_time": "2023-03-03T17:58:16.641Z"
      },
      {
        "duration": 337,
        "start_time": "2023-03-03T17:58:16.669Z"
      },
      {
        "duration": 31,
        "start_time": "2023-03-03T17:58:17.008Z"
      },
      {
        "duration": 277,
        "start_time": "2023-03-03T17:58:17.041Z"
      },
      {
        "duration": 9,
        "start_time": "2023-03-03T17:58:17.321Z"
      },
      {
        "duration": 6,
        "start_time": "2023-03-03T17:58:17.331Z"
      },
      {
        "duration": 26,
        "start_time": "2023-03-03T17:58:17.339Z"
      },
      {
        "duration": 210,
        "start_time": "2023-03-03T17:58:17.367Z"
      },
      {
        "duration": 192,
        "start_time": "2023-03-03T17:58:17.578Z"
      },
      {
        "duration": 183,
        "start_time": "2023-03-03T17:58:17.772Z"
      },
      {
        "duration": 193,
        "start_time": "2023-03-03T17:58:17.956Z"
      },
      {
        "duration": 180,
        "start_time": "2023-03-03T17:58:18.151Z"
      },
      {
        "duration": 189,
        "start_time": "2023-03-03T17:58:18.333Z"
      },
      {
        "duration": 180,
        "start_time": "2023-03-03T17:58:18.524Z"
      },
      {
        "duration": 181,
        "start_time": "2023-03-03T17:58:18.706Z"
      },
      {
        "duration": 44,
        "start_time": "2023-03-03T17:58:18.889Z"
      },
      {
        "duration": 9,
        "start_time": "2023-03-03T17:58:18.935Z"
      },
      {
        "duration": 11,
        "start_time": "2023-03-03T17:58:18.945Z"
      },
      {
        "duration": 26,
        "start_time": "2023-03-03T17:58:18.957Z"
      },
      {
        "duration": 11,
        "start_time": "2023-03-03T17:58:18.985Z"
      },
      {
        "duration": 216,
        "start_time": "2023-03-03T17:58:18.997Z"
      },
      {
        "duration": 188,
        "start_time": "2023-03-03T17:58:19.215Z"
      },
      {
        "duration": 24,
        "start_time": "2023-03-03T17:58:44.684Z"
      },
      {
        "duration": 24,
        "start_time": "2023-03-03T17:58:52.612Z"
      },
      {
        "duration": 21,
        "start_time": "2023-03-03T18:00:06.806Z"
      },
      {
        "duration": 21,
        "start_time": "2023-03-03T18:00:47.005Z"
      },
      {
        "duration": 6,
        "start_time": "2023-03-03T18:06:22.793Z"
      },
      {
        "duration": 31,
        "start_time": "2023-03-03T18:17:39.495Z"
      },
      {
        "duration": 35,
        "start_time": "2023-03-03T18:18:08.006Z"
      },
      {
        "duration": 6,
        "start_time": "2023-03-03T18:18:30.822Z"
      },
      {
        "duration": 5,
        "start_time": "2023-03-03T18:18:39.785Z"
      },
      {
        "duration": 111,
        "start_time": "2023-03-03T18:18:49.323Z"
      },
      {
        "duration": 13,
        "start_time": "2023-03-03T18:18:49.436Z"
      },
      {
        "duration": 2547,
        "start_time": "2023-03-03T18:18:49.451Z"
      },
      {
        "duration": 8,
        "start_time": "2023-03-03T18:18:52.000Z"
      },
      {
        "duration": 28,
        "start_time": "2023-03-03T18:18:52.010Z"
      },
      {
        "duration": 3,
        "start_time": "2023-03-03T18:18:52.039Z"
      },
      {
        "duration": 26,
        "start_time": "2023-03-03T18:18:52.044Z"
      },
      {
        "duration": 8,
        "start_time": "2023-03-03T18:18:52.072Z"
      },
      {
        "duration": 9,
        "start_time": "2023-03-03T18:18:52.081Z"
      },
      {
        "duration": 31,
        "start_time": "2023-03-03T18:18:52.092Z"
      },
      {
        "duration": 5,
        "start_time": "2023-03-03T18:18:52.124Z"
      },
      {
        "duration": 19,
        "start_time": "2023-03-03T18:18:52.130Z"
      },
      {
        "duration": 4,
        "start_time": "2023-03-03T18:18:52.151Z"
      },
      {
        "duration": 8,
        "start_time": "2023-03-03T18:18:52.157Z"
      },
      {
        "duration": 4,
        "start_time": "2023-03-03T18:18:52.167Z"
      },
      {
        "duration": 5,
        "start_time": "2023-03-03T18:18:52.173Z"
      },
      {
        "duration": 7,
        "start_time": "2023-03-03T18:18:52.179Z"
      },
      {
        "duration": 4,
        "start_time": "2023-03-03T18:18:52.188Z"
      },
      {
        "duration": 4,
        "start_time": "2023-03-03T18:18:52.194Z"
      },
      {
        "duration": 5,
        "start_time": "2023-03-03T18:18:52.199Z"
      },
      {
        "duration": 23,
        "start_time": "2023-03-03T18:18:52.206Z"
      },
      {
        "duration": 6,
        "start_time": "2023-03-03T18:18:52.230Z"
      },
      {
        "duration": 24,
        "start_time": "2023-03-03T18:18:52.237Z"
      },
      {
        "duration": 7,
        "start_time": "2023-03-03T18:18:52.263Z"
      },
      {
        "duration": 12,
        "start_time": "2023-03-03T18:18:52.271Z"
      },
      {
        "duration": 19,
        "start_time": "2023-03-03T18:18:52.285Z"
      },
      {
        "duration": 21,
        "start_time": "2023-03-03T18:18:52.305Z"
      },
      {
        "duration": 15,
        "start_time": "2023-03-03T18:18:52.329Z"
      },
      {
        "duration": 9,
        "start_time": "2023-03-03T18:18:52.345Z"
      },
      {
        "duration": 8,
        "start_time": "2023-03-03T18:18:52.356Z"
      },
      {
        "duration": 9,
        "start_time": "2023-03-03T18:18:52.365Z"
      },
      {
        "duration": 6,
        "start_time": "2023-03-03T18:18:52.375Z"
      },
      {
        "duration": 11,
        "start_time": "2023-03-03T18:18:52.382Z"
      },
      {
        "duration": 6,
        "start_time": "2023-03-03T18:18:52.394Z"
      },
      {
        "duration": 6,
        "start_time": "2023-03-03T18:18:52.401Z"
      },
      {
        "duration": 5,
        "start_time": "2023-03-03T18:18:52.408Z"
      },
      {
        "duration": 11,
        "start_time": "2023-03-03T18:18:52.414Z"
      },
      {
        "duration": 12,
        "start_time": "2023-03-03T18:18:52.426Z"
      },
      {
        "duration": 5,
        "start_time": "2023-03-03T18:18:52.440Z"
      },
      {
        "duration": 7,
        "start_time": "2023-03-03T18:18:52.447Z"
      },
      {
        "duration": 8,
        "start_time": "2023-03-03T18:18:52.455Z"
      },
      {
        "duration": 7,
        "start_time": "2023-03-03T18:18:52.464Z"
      },
      {
        "duration": 6,
        "start_time": "2023-03-03T18:18:52.472Z"
      },
      {
        "duration": 5,
        "start_time": "2023-03-03T18:18:52.479Z"
      },
      {
        "duration": 19,
        "start_time": "2023-03-03T18:18:52.486Z"
      },
      {
        "duration": 10,
        "start_time": "2023-03-03T18:18:52.507Z"
      },
      {
        "duration": 20,
        "start_time": "2023-03-03T18:18:52.518Z"
      },
      {
        "duration": 4,
        "start_time": "2023-03-03T18:18:52.540Z"
      },
      {
        "duration": 7,
        "start_time": "2023-03-03T18:18:52.545Z"
      },
      {
        "duration": 4,
        "start_time": "2023-03-03T18:18:52.554Z"
      },
      {
        "duration": 7,
        "start_time": "2023-03-03T18:18:52.560Z"
      },
      {
        "duration": 5,
        "start_time": "2023-03-03T18:18:52.569Z"
      },
      {
        "duration": 5,
        "start_time": "2023-03-03T18:18:52.575Z"
      },
      {
        "duration": 6,
        "start_time": "2023-03-03T18:18:52.582Z"
      },
      {
        "duration": 7,
        "start_time": "2023-03-03T18:18:52.589Z"
      },
      {
        "duration": 8,
        "start_time": "2023-03-03T18:18:52.598Z"
      },
      {
        "duration": 15,
        "start_time": "2023-03-03T18:18:52.608Z"
      },
      {
        "duration": 4,
        "start_time": "2023-03-03T18:18:52.625Z"
      },
      {
        "duration": 17,
        "start_time": "2023-03-03T18:18:52.631Z"
      },
      {
        "duration": 8,
        "start_time": "2023-03-03T18:18:52.650Z"
      },
      {
        "duration": 10,
        "start_time": "2023-03-03T18:18:52.660Z"
      },
      {
        "duration": 25,
        "start_time": "2023-03-03T18:18:52.672Z"
      },
      {
        "duration": 5,
        "start_time": "2023-03-03T18:18:52.699Z"
      },
      {
        "duration": 11,
        "start_time": "2023-03-03T18:18:52.706Z"
      },
      {
        "duration": 7,
        "start_time": "2023-03-03T18:18:52.718Z"
      },
      {
        "duration": 7,
        "start_time": "2023-03-03T18:18:52.727Z"
      },
      {
        "duration": 6,
        "start_time": "2023-03-03T18:18:52.735Z"
      },
      {
        "duration": 7,
        "start_time": "2023-03-03T18:18:52.743Z"
      },
      {
        "duration": 11,
        "start_time": "2023-03-03T18:18:52.752Z"
      },
      {
        "duration": 7,
        "start_time": "2023-03-03T18:18:52.764Z"
      },
      {
        "duration": 6,
        "start_time": "2023-03-03T18:18:52.772Z"
      },
      {
        "duration": 5,
        "start_time": "2023-03-03T18:18:52.779Z"
      },
      {
        "duration": 7,
        "start_time": "2023-03-03T18:18:52.786Z"
      },
      {
        "duration": 9,
        "start_time": "2023-03-03T18:18:52.794Z"
      },
      {
        "duration": 14,
        "start_time": "2023-03-03T18:18:52.805Z"
      },
      {
        "duration": 9,
        "start_time": "2023-03-03T18:18:52.820Z"
      },
      {
        "duration": 109,
        "start_time": "2023-03-03T18:18:52.830Z"
      },
      {
        "duration": 9,
        "start_time": "2023-03-03T18:18:52.941Z"
      },
      {
        "duration": 10,
        "start_time": "2023-03-03T18:18:52.952Z"
      },
      {
        "duration": 7,
        "start_time": "2023-03-03T18:18:52.964Z"
      },
      {
        "duration": 10,
        "start_time": "2023-03-03T18:18:52.973Z"
      },
      {
        "duration": 35,
        "start_time": "2023-03-03T18:18:52.989Z"
      },
      {
        "duration": 9,
        "start_time": "2023-03-03T18:18:53.026Z"
      },
      {
        "duration": 6,
        "start_time": "2023-03-03T18:18:53.037Z"
      },
      {
        "duration": 9,
        "start_time": "2023-03-03T18:18:53.044Z"
      },
      {
        "duration": 129,
        "start_time": "2023-03-03T18:18:53.054Z"
      },
      {
        "duration": 7,
        "start_time": "2023-03-03T18:18:53.185Z"
      },
      {
        "duration": 38,
        "start_time": "2023-03-03T18:18:53.194Z"
      },
      {
        "duration": 167,
        "start_time": "2023-03-03T18:18:53.234Z"
      },
      {
        "duration": 5,
        "start_time": "2023-03-03T18:18:53.403Z"
      },
      {
        "duration": 8,
        "start_time": "2023-03-03T18:18:53.421Z"
      },
      {
        "duration": 7,
        "start_time": "2023-03-03T18:18:53.430Z"
      },
      {
        "duration": 108,
        "start_time": "2023-03-03T18:18:53.438Z"
      },
      {
        "duration": 25,
        "start_time": "2023-03-03T18:18:53.548Z"
      },
      {
        "duration": 26,
        "start_time": "2023-03-03T18:18:53.574Z"
      },
      {
        "duration": 43,
        "start_time": "2023-03-03T18:18:53.601Z"
      },
      {
        "duration": 25,
        "start_time": "2023-03-03T18:18:53.646Z"
      },
      {
        "duration": 24,
        "start_time": "2023-03-03T18:18:53.673Z"
      },
      {
        "duration": 317,
        "start_time": "2023-03-03T18:18:53.699Z"
      },
      {
        "duration": 25,
        "start_time": "2023-03-03T18:18:54.018Z"
      },
      {
        "duration": 164,
        "start_time": "2023-03-03T18:18:54.045Z"
      },
      {
        "duration": 13,
        "start_time": "2023-03-03T18:18:54.210Z"
      },
      {
        "duration": 6,
        "start_time": "2023-03-03T18:18:54.225Z"
      },
      {
        "duration": 23,
        "start_time": "2023-03-03T18:18:54.232Z"
      },
      {
        "duration": 192,
        "start_time": "2023-03-03T18:18:54.257Z"
      },
      {
        "duration": 196,
        "start_time": "2023-03-03T18:18:54.451Z"
      },
      {
        "duration": 164,
        "start_time": "2023-03-03T18:18:54.649Z"
      },
      {
        "duration": 197,
        "start_time": "2023-03-03T18:18:54.815Z"
      },
      {
        "duration": 166,
        "start_time": "2023-03-03T18:18:55.013Z"
      },
      {
        "duration": 188,
        "start_time": "2023-03-03T18:18:55.181Z"
      },
      {
        "duration": 176,
        "start_time": "2023-03-03T18:18:55.371Z"
      },
      {
        "duration": 188,
        "start_time": "2023-03-03T18:18:55.548Z"
      },
      {
        "duration": 35,
        "start_time": "2023-03-03T18:18:55.737Z"
      },
      {
        "duration": 9,
        "start_time": "2023-03-03T18:18:55.774Z"
      },
      {
        "duration": 4,
        "start_time": "2023-03-03T18:18:55.785Z"
      },
      {
        "duration": 51,
        "start_time": "2023-03-03T18:18:55.790Z"
      },
      {
        "duration": 13,
        "start_time": "2023-03-03T18:18:55.843Z"
      },
      {
        "duration": 180,
        "start_time": "2023-03-03T18:18:55.857Z"
      },
      {
        "duration": 185,
        "start_time": "2023-03-03T18:18:56.038Z"
      },
      {
        "duration": 28,
        "start_time": "2023-03-03T18:49:29.495Z"
      },
      {
        "duration": 5,
        "start_time": "2023-03-03T18:52:10.760Z"
      },
      {
        "duration": 114,
        "start_time": "2023-03-03T18:53:43.470Z"
      },
      {
        "duration": 123,
        "start_time": "2023-03-03T18:54:01.145Z"
      },
      {
        "duration": 132,
        "start_time": "2023-03-03T19:03:39.757Z"
      },
      {
        "duration": 110,
        "start_time": "2023-03-03T19:03:53.906Z"
      },
      {
        "duration": 16,
        "start_time": "2023-03-03T19:03:54.018Z"
      },
      {
        "duration": 2551,
        "start_time": "2023-03-03T19:03:54.037Z"
      },
      {
        "duration": 9,
        "start_time": "2023-03-03T19:03:56.590Z"
      },
      {
        "duration": 5,
        "start_time": "2023-03-03T19:03:56.601Z"
      },
      {
        "duration": 7,
        "start_time": "2023-03-03T19:03:56.622Z"
      },
      {
        "duration": 10,
        "start_time": "2023-03-03T19:03:56.630Z"
      },
      {
        "duration": 6,
        "start_time": "2023-03-03T19:03:56.641Z"
      },
      {
        "duration": 4,
        "start_time": "2023-03-03T19:03:56.649Z"
      },
      {
        "duration": 4,
        "start_time": "2023-03-03T19:03:56.655Z"
      },
      {
        "duration": 7,
        "start_time": "2023-03-03T19:03:56.661Z"
      },
      {
        "duration": 5,
        "start_time": "2023-03-03T19:03:56.669Z"
      },
      {
        "duration": 47,
        "start_time": "2023-03-03T19:03:56.675Z"
      },
      {
        "duration": 6,
        "start_time": "2023-03-03T19:03:56.726Z"
      },
      {
        "duration": 5,
        "start_time": "2023-03-03T19:03:56.733Z"
      },
      {
        "duration": 6,
        "start_time": "2023-03-03T19:03:56.740Z"
      },
      {
        "duration": 4,
        "start_time": "2023-03-03T19:03:56.748Z"
      },
      {
        "duration": 10,
        "start_time": "2023-03-03T19:03:56.753Z"
      },
      {
        "duration": 20,
        "start_time": "2023-03-03T19:03:56.764Z"
      },
      {
        "duration": 11,
        "start_time": "2023-03-03T19:03:56.822Z"
      },
      {
        "duration": 7,
        "start_time": "2023-03-03T19:03:56.835Z"
      },
      {
        "duration": 9,
        "start_time": "2023-03-03T19:03:56.843Z"
      },
      {
        "duration": 10,
        "start_time": "2023-03-03T19:03:56.853Z"
      },
      {
        "duration": 5,
        "start_time": "2023-03-03T19:03:56.865Z"
      },
      {
        "duration": 9,
        "start_time": "2023-03-03T19:03:56.871Z"
      },
      {
        "duration": 45,
        "start_time": "2023-03-03T19:03:56.881Z"
      },
      {
        "duration": 11,
        "start_time": "2023-03-03T19:03:56.936Z"
      },
      {
        "duration": 7,
        "start_time": "2023-03-03T19:03:56.950Z"
      },
      {
        "duration": 7,
        "start_time": "2023-03-03T19:03:56.959Z"
      },
      {
        "duration": 6,
        "start_time": "2023-03-03T19:03:56.968Z"
      },
      {
        "duration": 10,
        "start_time": "2023-03-03T19:03:56.976Z"
      },
      {
        "duration": 6,
        "start_time": "2023-03-03T19:03:56.987Z"
      },
      {
        "duration": 26,
        "start_time": "2023-03-03T19:03:56.995Z"
      },
      {
        "duration": 10,
        "start_time": "2023-03-03T19:03:57.024Z"
      },
      {
        "duration": 11,
        "start_time": "2023-03-03T19:03:57.036Z"
      },
      {
        "duration": 7,
        "start_time": "2023-03-03T19:03:57.048Z"
      },
      {
        "duration": 10,
        "start_time": "2023-03-03T19:03:57.057Z"
      },
      {
        "duration": 21,
        "start_time": "2023-03-03T19:03:57.069Z"
      },
      {
        "duration": 6,
        "start_time": "2023-03-03T19:03:57.092Z"
      },
      {
        "duration": 7,
        "start_time": "2023-03-03T19:03:57.101Z"
      },
      {
        "duration": 10,
        "start_time": "2023-03-03T19:03:57.113Z"
      },
      {
        "duration": 10,
        "start_time": "2023-03-03T19:03:57.124Z"
      },
      {
        "duration": 11,
        "start_time": "2023-03-03T19:03:57.136Z"
      },
      {
        "duration": 5,
        "start_time": "2023-03-03T19:03:57.149Z"
      },
      {
        "duration": 9,
        "start_time": "2023-03-03T19:03:57.156Z"
      },
      {
        "duration": 5,
        "start_time": "2023-03-03T19:03:57.167Z"
      },
      {
        "duration": 9,
        "start_time": "2023-03-03T19:03:57.174Z"
      },
      {
        "duration": 5,
        "start_time": "2023-03-03T19:03:57.185Z"
      },
      {
        "duration": 31,
        "start_time": "2023-03-03T19:03:57.192Z"
      },
      {
        "duration": 5,
        "start_time": "2023-03-03T19:03:57.225Z"
      },
      {
        "duration": 10,
        "start_time": "2023-03-03T19:03:57.232Z"
      },
      {
        "duration": 6,
        "start_time": "2023-03-03T19:03:57.243Z"
      },
      {
        "duration": 6,
        "start_time": "2023-03-03T19:03:57.251Z"
      },
      {
        "duration": 5,
        "start_time": "2023-03-03T19:03:57.259Z"
      },
      {
        "duration": 7,
        "start_time": "2023-03-03T19:03:57.265Z"
      },
      {
        "duration": 6,
        "start_time": "2023-03-03T19:03:57.274Z"
      },
      {
        "duration": 39,
        "start_time": "2023-03-03T19:03:57.282Z"
      },
      {
        "duration": 11,
        "start_time": "2023-03-03T19:03:57.323Z"
      },
      {
        "duration": 12,
        "start_time": "2023-03-03T19:03:57.336Z"
      },
      {
        "duration": 6,
        "start_time": "2023-03-03T19:03:57.349Z"
      },
      {
        "duration": 5,
        "start_time": "2023-03-03T19:03:57.358Z"
      },
      {
        "duration": 5,
        "start_time": "2023-03-03T19:03:57.365Z"
      },
      {
        "duration": 6,
        "start_time": "2023-03-03T19:03:57.371Z"
      },
      {
        "duration": 7,
        "start_time": "2023-03-03T19:03:57.379Z"
      },
      {
        "duration": 37,
        "start_time": "2023-03-03T19:03:57.387Z"
      },
      {
        "duration": 6,
        "start_time": "2023-03-03T19:03:57.426Z"
      },
      {
        "duration": 5,
        "start_time": "2023-03-03T19:03:57.434Z"
      },
      {
        "duration": 7,
        "start_time": "2023-03-03T19:03:57.441Z"
      },
      {
        "duration": 6,
        "start_time": "2023-03-03T19:03:57.449Z"
      },
      {
        "duration": 13,
        "start_time": "2023-03-03T19:03:57.457Z"
      },
      {
        "duration": 10,
        "start_time": "2023-03-03T19:03:57.472Z"
      },
      {
        "duration": 38,
        "start_time": "2023-03-03T19:03:57.484Z"
      },
      {
        "duration": 117,
        "start_time": "2023-03-03T19:03:57.524Z"
      },
      {
        "duration": 12,
        "start_time": "2023-03-03T19:03:57.643Z"
      },
      {
        "duration": 13,
        "start_time": "2023-03-03T19:03:57.657Z"
      },
      {
        "duration": 9,
        "start_time": "2023-03-03T19:03:57.672Z"
      },
      {
        "duration": 39,
        "start_time": "2023-03-03T19:03:57.683Z"
      },
      {
        "duration": 6,
        "start_time": "2023-03-03T19:03:57.724Z"
      },
      {
        "duration": 7,
        "start_time": "2023-03-03T19:03:57.731Z"
      },
      {
        "duration": 318,
        "start_time": "2023-03-03T19:03:57.740Z"
      },
      {
        "duration": 9,
        "start_time": "2023-03-03T19:03:58.059Z"
      },
      {
        "duration": 30,
        "start_time": "2023-03-03T19:03:58.070Z"
      },
      {
        "duration": 41,
        "start_time": "2023-03-03T19:03:58.102Z"
      },
      {
        "duration": 7,
        "start_time": "2023-03-03T19:03:58.144Z"
      },
      {
        "duration": 17,
        "start_time": "2023-03-03T19:03:58.153Z"
      },
      {
        "duration": 8,
        "start_time": "2023-03-03T19:03:58.173Z"
      },
      {
        "duration": 150,
        "start_time": "2023-03-03T19:03:58.183Z"
      },
      {
        "duration": 37,
        "start_time": "2023-03-03T19:03:58.335Z"
      },
      {
        "duration": 57,
        "start_time": "2023-03-03T19:03:58.374Z"
      },
      {
        "duration": 42,
        "start_time": "2023-03-03T19:03:58.433Z"
      },
      {
        "duration": 62,
        "start_time": "2023-03-03T19:03:58.478Z"
      },
      {
        "duration": 38,
        "start_time": "2023-03-03T19:03:58.542Z"
      },
      {
        "duration": 309,
        "start_time": "2023-03-03T19:03:58.582Z"
      },
      {
        "duration": 44,
        "start_time": "2023-03-03T19:03:58.893Z"
      },
      {
        "duration": 248,
        "start_time": "2023-03-03T19:03:58.939Z"
      },
      {
        "duration": 10,
        "start_time": "2023-03-03T19:03:59.190Z"
      },
      {
        "duration": 20,
        "start_time": "2023-03-03T19:03:59.202Z"
      },
      {
        "duration": 36,
        "start_time": "2023-03-03T19:03:59.224Z"
      },
      {
        "duration": 210,
        "start_time": "2023-03-03T19:03:59.262Z"
      },
      {
        "duration": 253,
        "start_time": "2023-03-03T19:03:59.475Z"
      },
      {
        "duration": 195,
        "start_time": "2023-03-03T19:03:59.731Z"
      },
      {
        "duration": 210,
        "start_time": "2023-03-03T19:03:59.928Z"
      },
      {
        "duration": 203,
        "start_time": "2023-03-03T19:04:00.140Z"
      },
      {
        "duration": 281,
        "start_time": "2023-03-03T19:04:00.346Z"
      },
      {
        "duration": 222,
        "start_time": "2023-03-03T19:04:00.629Z"
      },
      {
        "duration": 226,
        "start_time": "2023-03-03T19:04:00.853Z"
      },
      {
        "duration": 63,
        "start_time": "2023-03-03T19:04:01.082Z"
      },
      {
        "duration": 13,
        "start_time": "2023-03-03T19:04:01.147Z"
      },
      {
        "duration": 26,
        "start_time": "2023-03-03T19:04:01.162Z"
      },
      {
        "duration": 61,
        "start_time": "2023-03-03T19:04:01.190Z"
      },
      {
        "duration": 14,
        "start_time": "2023-03-03T19:04:01.254Z"
      },
      {
        "duration": 224,
        "start_time": "2023-03-03T19:04:01.270Z"
      },
      {
        "duration": 215,
        "start_time": "2023-03-03T19:04:01.496Z"
      },
      {
        "duration": 6,
        "start_time": "2023-03-03T19:11:39.366Z"
      },
      {
        "duration": 8,
        "start_time": "2023-03-03T19:11:40.175Z"
      },
      {
        "duration": 6,
        "start_time": "2023-03-03T19:11:50.085Z"
      },
      {
        "duration": 8,
        "start_time": "2023-03-03T19:11:55.383Z"
      },
      {
        "duration": 24,
        "start_time": "2023-03-03T19:13:59.912Z"
      },
      {
        "duration": 109,
        "start_time": "2023-03-03T19:14:22.473Z"
      },
      {
        "duration": 15,
        "start_time": "2023-03-03T19:14:22.584Z"
      },
      {
        "duration": 2461,
        "start_time": "2023-03-03T19:14:22.600Z"
      },
      {
        "duration": 9,
        "start_time": "2023-03-03T19:14:25.063Z"
      },
      {
        "duration": 3,
        "start_time": "2023-03-03T19:14:25.075Z"
      },
      {
        "duration": 8,
        "start_time": "2023-03-03T19:14:25.079Z"
      },
      {
        "duration": 33,
        "start_time": "2023-03-03T19:14:25.088Z"
      },
      {
        "duration": 5,
        "start_time": "2023-03-03T19:14:25.123Z"
      },
      {
        "duration": 4,
        "start_time": "2023-03-03T19:14:25.130Z"
      },
      {
        "duration": 4,
        "start_time": "2023-03-03T19:14:25.135Z"
      },
      {
        "duration": 6,
        "start_time": "2023-03-03T19:14:25.140Z"
      },
      {
        "duration": 4,
        "start_time": "2023-03-03T19:14:25.147Z"
      },
      {
        "duration": 4,
        "start_time": "2023-03-03T19:14:25.152Z"
      },
      {
        "duration": 4,
        "start_time": "2023-03-03T19:14:25.159Z"
      },
      {
        "duration": 5,
        "start_time": "2023-03-03T19:14:25.164Z"
      },
      {
        "duration": 5,
        "start_time": "2023-03-03T19:14:25.170Z"
      },
      {
        "duration": 45,
        "start_time": "2023-03-03T19:14:25.176Z"
      },
      {
        "duration": 10,
        "start_time": "2023-03-03T19:14:25.223Z"
      },
      {
        "duration": 20,
        "start_time": "2023-03-03T19:14:25.235Z"
      },
      {
        "duration": 8,
        "start_time": "2023-03-03T19:14:25.257Z"
      },
      {
        "duration": 5,
        "start_time": "2023-03-03T19:14:25.266Z"
      },
      {
        "duration": 6,
        "start_time": "2023-03-03T19:14:25.273Z"
      },
      {
        "duration": 41,
        "start_time": "2023-03-03T19:14:25.280Z"
      },
      {
        "duration": 10,
        "start_time": "2023-03-03T19:14:25.323Z"
      },
      {
        "duration": 6,
        "start_time": "2023-03-03T19:14:25.335Z"
      },
      {
        "duration": 6,
        "start_time": "2023-03-03T19:14:25.342Z"
      },
      {
        "duration": 7,
        "start_time": "2023-03-03T19:14:25.349Z"
      },
      {
        "duration": 5,
        "start_time": "2023-03-03T19:14:25.357Z"
      },
      {
        "duration": 4,
        "start_time": "2023-03-03T19:14:25.363Z"
      },
      {
        "duration": 4,
        "start_time": "2023-03-03T19:14:25.369Z"
      },
      {
        "duration": 5,
        "start_time": "2023-03-03T19:14:25.374Z"
      },
      {
        "duration": 4,
        "start_time": "2023-03-03T19:14:25.381Z"
      },
      {
        "duration": 35,
        "start_time": "2023-03-03T19:14:25.386Z"
      },
      {
        "duration": 4,
        "start_time": "2023-03-03T19:14:25.423Z"
      },
      {
        "duration": 21,
        "start_time": "2023-03-03T19:14:25.429Z"
      },
      {
        "duration": 7,
        "start_time": "2023-03-03T19:14:25.452Z"
      },
      {
        "duration": 6,
        "start_time": "2023-03-03T19:14:25.460Z"
      },
      {
        "duration": 4,
        "start_time": "2023-03-03T19:14:25.467Z"
      },
      {
        "duration": 4,
        "start_time": "2023-03-03T19:14:25.473Z"
      },
      {
        "duration": 5,
        "start_time": "2023-03-03T19:14:25.478Z"
      },
      {
        "duration": 4,
        "start_time": "2023-03-03T19:14:25.488Z"
      },
      {
        "duration": 5,
        "start_time": "2023-03-03T19:14:25.493Z"
      },
      {
        "duration": 6,
        "start_time": "2023-03-03T19:14:25.522Z"
      },
      {
        "duration": 5,
        "start_time": "2023-03-03T19:14:25.529Z"
      },
      {
        "duration": 9,
        "start_time": "2023-03-03T19:14:25.535Z"
      },
      {
        "duration": 4,
        "start_time": "2023-03-03T19:14:25.546Z"
      },
      {
        "duration": 12,
        "start_time": "2023-03-03T19:14:25.552Z"
      },
      {
        "duration": 6,
        "start_time": "2023-03-03T19:14:25.566Z"
      },
      {
        "duration": 5,
        "start_time": "2023-03-03T19:14:25.573Z"
      },
      {
        "duration": 5,
        "start_time": "2023-03-03T19:14:25.580Z"
      },
      {
        "duration": 35,
        "start_time": "2023-03-03T19:14:25.586Z"
      },
      {
        "duration": 5,
        "start_time": "2023-03-03T19:14:25.623Z"
      },
      {
        "duration": 6,
        "start_time": "2023-03-03T19:14:25.630Z"
      },
      {
        "duration": 4,
        "start_time": "2023-03-03T19:14:25.638Z"
      },
      {
        "duration": 7,
        "start_time": "2023-03-03T19:14:25.644Z"
      },
      {
        "duration": 10,
        "start_time": "2023-03-03T19:14:25.652Z"
      },
      {
        "duration": 4,
        "start_time": "2023-03-03T19:14:25.664Z"
      },
      {
        "duration": 6,
        "start_time": "2023-03-03T19:14:25.670Z"
      },
      {
        "duration": 5,
        "start_time": "2023-03-03T19:14:25.678Z"
      },
      {
        "duration": 37,
        "start_time": "2023-03-03T19:14:25.685Z"
      },
      {
        "duration": 7,
        "start_time": "2023-03-03T19:14:25.723Z"
      },
      {
        "duration": 5,
        "start_time": "2023-03-03T19:14:25.732Z"
      },
      {
        "duration": 5,
        "start_time": "2023-03-03T19:14:25.738Z"
      },
      {
        "duration": 12,
        "start_time": "2023-03-03T19:14:25.744Z"
      },
      {
        "duration": 6,
        "start_time": "2023-03-03T19:14:25.757Z"
      },
      {
        "duration": 4,
        "start_time": "2023-03-03T19:14:25.765Z"
      },
      {
        "duration": 5,
        "start_time": "2023-03-03T19:14:25.770Z"
      },
      {
        "duration": 7,
        "start_time": "2023-03-03T19:14:25.776Z"
      },
      {
        "duration": 4,
        "start_time": "2023-03-03T19:14:25.785Z"
      },
      {
        "duration": 5,
        "start_time": "2023-03-03T19:14:25.791Z"
      },
      {
        "duration": 5,
        "start_time": "2023-03-03T19:14:25.822Z"
      },
      {
        "duration": 12,
        "start_time": "2023-03-03T19:14:25.828Z"
      },
      {
        "duration": 131,
        "start_time": "2023-03-03T19:14:25.842Z"
      },
      {
        "duration": 8,
        "start_time": "2023-03-03T19:14:25.975Z"
      },
      {
        "duration": 7,
        "start_time": "2023-03-03T19:14:25.985Z"
      },
      {
        "duration": 8,
        "start_time": "2023-03-03T19:14:25.993Z"
      },
      {
        "duration": 108,
        "start_time": "2023-03-03T19:14:26.021Z"
      },
      {
        "duration": 8,
        "start_time": "2023-03-03T19:14:26.130Z"
      },
      {
        "duration": 24,
        "start_time": "2023-03-03T19:14:26.140Z"
      },
      {
        "duration": 24,
        "start_time": "2023-03-03T19:14:26.165Z"
      },
      {
        "duration": 52,
        "start_time": "2023-03-03T19:14:26.190Z"
      },
      {
        "duration": 5,
        "start_time": "2023-03-03T19:14:26.244Z"
      },
      {
        "duration": 19,
        "start_time": "2023-03-03T19:14:26.250Z"
      },
      {
        "duration": 10,
        "start_time": "2023-03-03T19:14:26.270Z"
      },
      {
        "duration": 131,
        "start_time": "2023-03-03T19:14:26.282Z"
      },
      {
        "duration": 28,
        "start_time": "2023-03-03T19:14:26.422Z"
      },
      {
        "duration": 32,
        "start_time": "2023-03-03T19:14:26.452Z"
      },
      {
        "duration": 55,
        "start_time": "2023-03-03T19:14:26.486Z"
      },
      {
        "duration": 29,
        "start_time": "2023-03-03T19:14:26.543Z"
      },
      {
        "duration": 48,
        "start_time": "2023-03-03T19:14:26.574Z"
      },
      {
        "duration": 343,
        "start_time": "2023-03-03T19:14:26.624Z"
      },
      {
        "duration": 27,
        "start_time": "2023-03-03T19:14:26.969Z"
      },
      {
        "duration": 184,
        "start_time": "2023-03-03T19:14:26.997Z"
      },
      {
        "duration": 9,
        "start_time": "2023-03-03T19:14:27.183Z"
      },
      {
        "duration": 8,
        "start_time": "2023-03-03T19:14:27.194Z"
      },
      {
        "duration": 26,
        "start_time": "2023-03-03T19:14:27.222Z"
      },
      {
        "duration": 199,
        "start_time": "2023-03-03T19:14:27.250Z"
      },
      {
        "duration": 203,
        "start_time": "2023-03-03T19:14:27.451Z"
      },
      {
        "duration": 177,
        "start_time": "2023-03-03T19:14:27.655Z"
      },
      {
        "duration": 198,
        "start_time": "2023-03-03T19:14:27.833Z"
      },
      {
        "duration": 176,
        "start_time": "2023-03-03T19:14:28.033Z"
      },
      {
        "duration": 200,
        "start_time": "2023-03-03T19:14:28.211Z"
      },
      {
        "duration": 188,
        "start_time": "2023-03-03T19:14:28.413Z"
      },
      {
        "duration": 194,
        "start_time": "2023-03-03T19:14:28.603Z"
      },
      {
        "duration": 46,
        "start_time": "2023-03-03T19:14:28.798Z"
      },
      {
        "duration": 10,
        "start_time": "2023-03-03T19:14:28.846Z"
      },
      {
        "duration": 3,
        "start_time": "2023-03-03T19:14:28.857Z"
      },
      {
        "duration": 25,
        "start_time": "2023-03-03T19:14:28.861Z"
      },
      {
        "duration": 34,
        "start_time": "2023-03-03T19:14:28.888Z"
      },
      {
        "duration": 173,
        "start_time": "2023-03-03T19:14:28.924Z"
      },
      {
        "duration": 190,
        "start_time": "2023-03-03T19:14:29.099Z"
      },
      {
        "duration": 10,
        "start_time": "2023-03-03T19:18:17.204Z"
      },
      {
        "duration": 93,
        "start_time": "2023-03-03T19:24:16.161Z"
      },
      {
        "duration": 26,
        "start_time": "2023-03-03T19:25:11.669Z"
      },
      {
        "duration": 30,
        "start_time": "2023-03-03T19:27:50.260Z"
      },
      {
        "duration": 5,
        "start_time": "2023-03-03T19:34:14.115Z"
      },
      {
        "duration": 112,
        "start_time": "2023-03-03T19:34:24.490Z"
      },
      {
        "duration": 27,
        "start_time": "2023-03-03T19:34:24.604Z"
      },
      {
        "duration": 2467,
        "start_time": "2023-03-03T19:34:24.633Z"
      },
      {
        "duration": 9,
        "start_time": "2023-03-03T19:34:27.103Z"
      },
      {
        "duration": 4,
        "start_time": "2023-03-03T19:34:27.121Z"
      },
      {
        "duration": 7,
        "start_time": "2023-03-03T19:34:27.126Z"
      },
      {
        "duration": 7,
        "start_time": "2023-03-03T19:34:27.134Z"
      },
      {
        "duration": 5,
        "start_time": "2023-03-03T19:34:27.142Z"
      },
      {
        "duration": 5,
        "start_time": "2023-03-03T19:34:27.148Z"
      },
      {
        "duration": 4,
        "start_time": "2023-03-03T19:34:27.155Z"
      },
      {
        "duration": 7,
        "start_time": "2023-03-03T19:34:27.160Z"
      },
      {
        "duration": 4,
        "start_time": "2023-03-03T19:34:27.169Z"
      },
      {
        "duration": 4,
        "start_time": "2023-03-03T19:34:27.174Z"
      },
      {
        "duration": 4,
        "start_time": "2023-03-03T19:34:27.221Z"
      },
      {
        "duration": 4,
        "start_time": "2023-03-03T19:34:27.227Z"
      },
      {
        "duration": 4,
        "start_time": "2023-03-03T19:34:27.233Z"
      },
      {
        "duration": 4,
        "start_time": "2023-03-03T19:34:27.238Z"
      },
      {
        "duration": 12,
        "start_time": "2023-03-03T19:34:27.243Z"
      },
      {
        "duration": 19,
        "start_time": "2023-03-03T19:34:27.256Z"
      },
      {
        "duration": 44,
        "start_time": "2023-03-03T19:34:27.277Z"
      },
      {
        "duration": 5,
        "start_time": "2023-03-03T19:34:27.323Z"
      },
      {
        "duration": 7,
        "start_time": "2023-03-03T19:34:27.329Z"
      },
      {
        "duration": 7,
        "start_time": "2023-03-03T19:34:27.337Z"
      },
      {
        "duration": 5,
        "start_time": "2023-03-03T19:34:27.345Z"
      },
      {
        "duration": 4,
        "start_time": "2023-03-03T19:34:27.352Z"
      },
      {
        "duration": 5,
        "start_time": "2023-03-03T19:34:27.358Z"
      },
      {
        "duration": 4,
        "start_time": "2023-03-03T19:34:27.365Z"
      },
      {
        "duration": 9,
        "start_time": "2023-03-03T19:34:27.373Z"
      },
      {
        "duration": 39,
        "start_time": "2023-03-03T19:34:27.384Z"
      },
      {
        "duration": 4,
        "start_time": "2023-03-03T19:34:27.425Z"
      },
      {
        "duration": 5,
        "start_time": "2023-03-03T19:34:27.431Z"
      },
      {
        "duration": 4,
        "start_time": "2023-03-03T19:34:27.438Z"
      },
      {
        "duration": 7,
        "start_time": "2023-03-03T19:34:27.444Z"
      },
      {
        "duration": 4,
        "start_time": "2023-03-03T19:34:27.452Z"
      },
      {
        "duration": 5,
        "start_time": "2023-03-03T19:34:27.458Z"
      },
      {
        "duration": 6,
        "start_time": "2023-03-03T19:34:27.465Z"
      },
      {
        "duration": 4,
        "start_time": "2023-03-03T19:34:27.472Z"
      },
      {
        "duration": 6,
        "start_time": "2023-03-03T19:34:27.478Z"
      },
      {
        "duration": 36,
        "start_time": "2023-03-03T19:34:27.485Z"
      },
      {
        "duration": 10,
        "start_time": "2023-03-03T19:34:27.523Z"
      },
      {
        "duration": 5,
        "start_time": "2023-03-03T19:34:27.534Z"
      },
      {
        "duration": 4,
        "start_time": "2023-03-03T19:34:27.541Z"
      },
      {
        "duration": 6,
        "start_time": "2023-03-03T19:34:27.546Z"
      },
      {
        "duration": 8,
        "start_time": "2023-03-03T19:34:27.553Z"
      },
      {
        "duration": 7,
        "start_time": "2023-03-03T19:34:27.563Z"
      },
      {
        "duration": 4,
        "start_time": "2023-03-03T19:34:27.571Z"
      },
      {
        "duration": 5,
        "start_time": "2023-03-03T19:34:27.577Z"
      },
      {
        "duration": 5,
        "start_time": "2023-03-03T19:34:27.583Z"
      },
      {
        "duration": 33,
        "start_time": "2023-03-03T19:34:27.590Z"
      },
      {
        "duration": 8,
        "start_time": "2023-03-03T19:34:27.625Z"
      },
      {
        "duration": 4,
        "start_time": "2023-03-03T19:34:27.635Z"
      },
      {
        "duration": 5,
        "start_time": "2023-03-03T19:34:27.641Z"
      },
      {
        "duration": 6,
        "start_time": "2023-03-03T19:34:27.647Z"
      },
      {
        "duration": 4,
        "start_time": "2023-03-03T19:34:27.655Z"
      },
      {
        "duration": 7,
        "start_time": "2023-03-03T19:34:27.660Z"
      },
      {
        "duration": 5,
        "start_time": "2023-03-03T19:34:27.668Z"
      },
      {
        "duration": 6,
        "start_time": "2023-03-03T19:34:27.674Z"
      },
      {
        "duration": 5,
        "start_time": "2023-03-03T19:34:27.681Z"
      },
      {
        "duration": 35,
        "start_time": "2023-03-03T19:34:27.688Z"
      },
      {
        "duration": 5,
        "start_time": "2023-03-03T19:34:27.724Z"
      },
      {
        "duration": 4,
        "start_time": "2023-03-03T19:34:27.731Z"
      },
      {
        "duration": 6,
        "start_time": "2023-03-03T19:34:27.736Z"
      },
      {
        "duration": 4,
        "start_time": "2023-03-03T19:34:27.743Z"
      },
      {
        "duration": 4,
        "start_time": "2023-03-03T19:34:27.748Z"
      },
      {
        "duration": 4,
        "start_time": "2023-03-03T19:34:27.753Z"
      },
      {
        "duration": 4,
        "start_time": "2023-03-03T19:34:27.759Z"
      },
      {
        "duration": 4,
        "start_time": "2023-03-03T19:34:27.764Z"
      },
      {
        "duration": 6,
        "start_time": "2023-03-03T19:34:27.769Z"
      },
      {
        "duration": 4,
        "start_time": "2023-03-03T19:34:27.776Z"
      },
      {
        "duration": 5,
        "start_time": "2023-03-03T19:34:27.822Z"
      },
      {
        "duration": 8,
        "start_time": "2023-03-03T19:34:27.828Z"
      },
      {
        "duration": 8,
        "start_time": "2023-03-03T19:34:27.838Z"
      },
      {
        "duration": 132,
        "start_time": "2023-03-03T19:34:27.848Z"
      },
      {
        "duration": 8,
        "start_time": "2023-03-03T19:34:27.982Z"
      },
      {
        "duration": 18,
        "start_time": "2023-03-03T19:34:27.992Z"
      },
      {
        "duration": 12,
        "start_time": "2023-03-03T19:34:28.011Z"
      },
      {
        "duration": 8,
        "start_time": "2023-03-03T19:34:28.024Z"
      },
      {
        "duration": 123,
        "start_time": "2023-03-03T19:34:28.034Z"
      },
      {
        "duration": 8,
        "start_time": "2023-03-03T19:34:28.158Z"
      },
      {
        "duration": 25,
        "start_time": "2023-03-03T19:34:28.167Z"
      },
      {
        "duration": 43,
        "start_time": "2023-03-03T19:34:28.195Z"
      },
      {
        "duration": 27,
        "start_time": "2023-03-03T19:34:28.244Z"
      },
      {
        "duration": 6,
        "start_time": "2023-03-03T19:34:28.275Z"
      },
      {
        "duration": 9,
        "start_time": "2023-03-03T19:34:28.282Z"
      },
      {
        "duration": 34,
        "start_time": "2023-03-03T19:34:28.293Z"
      },
      {
        "duration": 110,
        "start_time": "2023-03-03T19:34:28.329Z"
      },
      {
        "duration": 25,
        "start_time": "2023-03-03T19:34:28.441Z"
      },
      {
        "duration": 23,
        "start_time": "2023-03-03T19:34:28.468Z"
      },
      {
        "duration": 3,
        "start_time": "2023-03-03T19:34:28.493Z"
      },
      {
        "duration": 29,
        "start_time": "2023-03-03T19:34:28.520Z"
      },
      {
        "duration": 26,
        "start_time": "2023-03-03T19:34:28.550Z"
      },
      {
        "duration": 25,
        "start_time": "2023-03-03T19:34:28.578Z"
      },
      {
        "duration": 26,
        "start_time": "2023-03-03T19:34:28.620Z"
      },
      {
        "duration": 335,
        "start_time": "2023-03-03T19:34:28.648Z"
      },
      {
        "duration": 25,
        "start_time": "2023-03-03T19:34:28.984Z"
      },
      {
        "duration": 178,
        "start_time": "2023-03-03T19:34:29.010Z"
      },
      {
        "duration": 9,
        "start_time": "2023-03-03T19:34:29.190Z"
      },
      {
        "duration": 23,
        "start_time": "2023-03-03T19:34:29.201Z"
      },
      {
        "duration": 24,
        "start_time": "2023-03-03T19:34:29.225Z"
      },
      {
        "duration": 192,
        "start_time": "2023-03-03T19:34:29.251Z"
      },
      {
        "duration": 235,
        "start_time": "2023-03-03T19:34:29.445Z"
      },
      {
        "duration": 194,
        "start_time": "2023-03-03T19:34:29.681Z"
      },
      {
        "duration": 206,
        "start_time": "2023-03-03T19:34:29.877Z"
      },
      {
        "duration": 189,
        "start_time": "2023-03-03T19:34:30.085Z"
      },
      {
        "duration": 225,
        "start_time": "2023-03-03T19:34:30.276Z"
      },
      {
        "duration": 479,
        "start_time": "2023-03-03T19:34:30.503Z"
      },
      {
        "duration": 197,
        "start_time": "2023-03-03T19:34:30.983Z"
      },
      {
        "duration": 47,
        "start_time": "2023-03-03T19:34:31.182Z"
      },
      {
        "duration": 9,
        "start_time": "2023-03-03T19:34:31.231Z"
      },
      {
        "duration": 13,
        "start_time": "2023-03-03T19:34:31.242Z"
      },
      {
        "duration": 48,
        "start_time": "2023-03-03T19:34:31.257Z"
      },
      {
        "duration": 11,
        "start_time": "2023-03-03T19:34:31.307Z"
      },
      {
        "duration": 178,
        "start_time": "2023-03-03T19:34:31.320Z"
      },
      {
        "duration": 187,
        "start_time": "2023-03-03T19:34:31.500Z"
      },
      {
        "duration": 25,
        "start_time": "2023-03-03T19:39:26.299Z"
      },
      {
        "duration": 26,
        "start_time": "2023-03-03T19:39:35.412Z"
      },
      {
        "duration": 143,
        "start_time": "2023-03-03T19:45:17.808Z"
      },
      {
        "duration": 158,
        "start_time": "2023-03-03T19:45:28.499Z"
      },
      {
        "duration": 115,
        "start_time": "2023-03-03T19:46:44.251Z"
      },
      {
        "duration": 14,
        "start_time": "2023-03-03T19:46:44.368Z"
      },
      {
        "duration": 2470,
        "start_time": "2023-03-03T19:46:44.384Z"
      },
      {
        "duration": 10,
        "start_time": "2023-03-03T19:46:46.856Z"
      },
      {
        "duration": 4,
        "start_time": "2023-03-03T19:46:46.868Z"
      },
      {
        "duration": 9,
        "start_time": "2023-03-03T19:46:46.873Z"
      },
      {
        "duration": 7,
        "start_time": "2023-03-03T19:46:46.883Z"
      },
      {
        "duration": 44,
        "start_time": "2023-03-03T19:46:46.892Z"
      },
      {
        "duration": 4,
        "start_time": "2023-03-03T19:46:46.941Z"
      },
      {
        "duration": 5,
        "start_time": "2023-03-03T19:46:46.947Z"
      },
      {
        "duration": 6,
        "start_time": "2023-03-03T19:46:46.954Z"
      },
      {
        "duration": 10,
        "start_time": "2023-03-03T19:46:46.961Z"
      },
      {
        "duration": 19,
        "start_time": "2023-03-03T19:46:46.973Z"
      },
      {
        "duration": 6,
        "start_time": "2023-03-03T19:46:46.995Z"
      },
      {
        "duration": 5,
        "start_time": "2023-03-03T19:46:47.003Z"
      },
      {
        "duration": 14,
        "start_time": "2023-03-03T19:46:47.010Z"
      },
      {
        "duration": 10,
        "start_time": "2023-03-03T19:46:47.026Z"
      },
      {
        "duration": 10,
        "start_time": "2023-03-03T19:46:47.038Z"
      },
      {
        "duration": 21,
        "start_time": "2023-03-03T19:46:47.049Z"
      },
      {
        "duration": 12,
        "start_time": "2023-03-03T19:46:47.071Z"
      },
      {
        "duration": 7,
        "start_time": "2023-03-03T19:46:47.085Z"
      },
      {
        "duration": 33,
        "start_time": "2023-03-03T19:46:47.093Z"
      },
      {
        "duration": 12,
        "start_time": "2023-03-03T19:46:47.128Z"
      },
      {
        "duration": 7,
        "start_time": "2023-03-03T19:46:47.142Z"
      },
      {
        "duration": 6,
        "start_time": "2023-03-03T19:46:47.151Z"
      },
      {
        "duration": 6,
        "start_time": "2023-03-03T19:46:47.158Z"
      },
      {
        "duration": 4,
        "start_time": "2023-03-03T19:46:47.165Z"
      },
      {
        "duration": 5,
        "start_time": "2023-03-03T19:46:47.170Z"
      },
      {
        "duration": 4,
        "start_time": "2023-03-03T19:46:47.177Z"
      },
      {
        "duration": 5,
        "start_time": "2023-03-03T19:46:47.182Z"
      },
      {
        "duration": 45,
        "start_time": "2023-03-03T19:46:47.188Z"
      },
      {
        "duration": 5,
        "start_time": "2023-03-03T19:46:47.234Z"
      },
      {
        "duration": 8,
        "start_time": "2023-03-03T19:46:47.240Z"
      },
      {
        "duration": 5,
        "start_time": "2023-03-03T19:46:47.250Z"
      },
      {
        "duration": 8,
        "start_time": "2023-03-03T19:46:47.256Z"
      },
      {
        "duration": 7,
        "start_time": "2023-03-03T19:46:47.266Z"
      },
      {
        "duration": 7,
        "start_time": "2023-03-03T19:46:47.274Z"
      },
      {
        "duration": 4,
        "start_time": "2023-03-03T19:46:47.283Z"
      },
      {
        "duration": 4,
        "start_time": "2023-03-03T19:46:47.289Z"
      },
      {
        "duration": 34,
        "start_time": "2023-03-03T19:46:47.295Z"
      },
      {
        "duration": 14,
        "start_time": "2023-03-03T19:46:47.336Z"
      },
      {
        "duration": 8,
        "start_time": "2023-03-03T19:46:47.352Z"
      },
      {
        "duration": 7,
        "start_time": "2023-03-03T19:46:47.362Z"
      },
      {
        "duration": 8,
        "start_time": "2023-03-03T19:46:47.371Z"
      },
      {
        "duration": 20,
        "start_time": "2023-03-03T19:46:47.381Z"
      },
      {
        "duration": 12,
        "start_time": "2023-03-03T19:46:47.403Z"
      },
      {
        "duration": 20,
        "start_time": "2023-03-03T19:46:47.417Z"
      },
      {
        "duration": 24,
        "start_time": "2023-03-03T19:46:47.439Z"
      },
      {
        "duration": 6,
        "start_time": "2023-03-03T19:46:47.464Z"
      },
      {
        "duration": 6,
        "start_time": "2023-03-03T19:46:47.471Z"
      },
      {
        "duration": 6,
        "start_time": "2023-03-03T19:46:47.478Z"
      },
      {
        "duration": 7,
        "start_time": "2023-03-03T19:46:47.486Z"
      },
      {
        "duration": 8,
        "start_time": "2023-03-03T19:46:47.494Z"
      },
      {
        "duration": 5,
        "start_time": "2023-03-03T19:46:47.504Z"
      },
      {
        "duration": 13,
        "start_time": "2023-03-03T19:46:47.511Z"
      },
      {
        "duration": 5,
        "start_time": "2023-03-03T19:46:47.534Z"
      },
      {
        "duration": 6,
        "start_time": "2023-03-03T19:46:47.540Z"
      },
      {
        "duration": 5,
        "start_time": "2023-03-03T19:46:47.548Z"
      },
      {
        "duration": 5,
        "start_time": "2023-03-03T19:46:47.555Z"
      },
      {
        "duration": 5,
        "start_time": "2023-03-03T19:46:47.561Z"
      },
      {
        "duration": 5,
        "start_time": "2023-03-03T19:46:47.568Z"
      },
      {
        "duration": 5,
        "start_time": "2023-03-03T19:46:47.575Z"
      },
      {
        "duration": 4,
        "start_time": "2023-03-03T19:46:47.582Z"
      },
      {
        "duration": 22,
        "start_time": "2023-03-03T19:46:47.588Z"
      },
      {
        "duration": 15,
        "start_time": "2023-03-03T19:46:47.620Z"
      },
      {
        "duration": 6,
        "start_time": "2023-03-03T19:46:47.638Z"
      },
      {
        "duration": 7,
        "start_time": "2023-03-03T19:46:47.646Z"
      },
      {
        "duration": 11,
        "start_time": "2023-03-03T19:46:47.654Z"
      },
      {
        "duration": 6,
        "start_time": "2023-03-03T19:46:47.667Z"
      },
      {
        "duration": 6,
        "start_time": "2023-03-03T19:46:47.675Z"
      },
      {
        "duration": 8,
        "start_time": "2023-03-03T19:46:47.683Z"
      },
      {
        "duration": 45,
        "start_time": "2023-03-03T19:46:47.693Z"
      },
      {
        "duration": 115,
        "start_time": "2023-03-03T19:46:47.740Z"
      },
      {
        "duration": 9,
        "start_time": "2023-03-03T19:46:47.857Z"
      },
      {
        "duration": 7,
        "start_time": "2023-03-03T19:46:47.868Z"
      },
      {
        "duration": 8,
        "start_time": "2023-03-03T19:46:47.877Z"
      },
      {
        "duration": 40,
        "start_time": "2023-03-03T19:46:47.887Z"
      },
      {
        "duration": 118,
        "start_time": "2023-03-03T19:46:47.929Z"
      },
      {
        "duration": 8,
        "start_time": "2023-03-03T19:46:48.048Z"
      },
      {
        "duration": 25,
        "start_time": "2023-03-03T19:46:48.057Z"
      },
      {
        "duration": 57,
        "start_time": "2023-03-03T19:46:48.084Z"
      },
      {
        "duration": 26,
        "start_time": "2023-03-03T19:46:48.143Z"
      },
      {
        "duration": 6,
        "start_time": "2023-03-03T19:46:48.171Z"
      },
      {
        "duration": 8,
        "start_time": "2023-03-03T19:46:48.179Z"
      },
      {
        "duration": 32,
        "start_time": "2023-03-03T19:46:48.189Z"
      },
      {
        "duration": 118,
        "start_time": "2023-03-03T19:46:48.223Z"
      },
      {
        "duration": 27,
        "start_time": "2023-03-03T19:46:48.343Z"
      },
      {
        "duration": 51,
        "start_time": "2023-03-03T19:46:48.373Z"
      },
      {
        "duration": 14,
        "start_time": "2023-03-03T19:46:48.427Z"
      },
      {
        "duration": 29,
        "start_time": "2023-03-03T19:46:48.443Z"
      },
      {
        "duration": 28,
        "start_time": "2023-03-03T19:46:48.473Z"
      },
      {
        "duration": 44,
        "start_time": "2023-03-03T19:46:48.504Z"
      },
      {
        "duration": 25,
        "start_time": "2023-03-03T19:46:48.550Z"
      },
      {
        "duration": 392,
        "start_time": "2023-03-03T19:46:48.576Z"
      },
      {
        "duration": 25,
        "start_time": "2023-03-03T19:46:48.970Z"
      },
      {
        "duration": 161,
        "start_time": "2023-03-03T19:46:48.996Z"
      },
      {
        "duration": 198,
        "start_time": "2023-03-03T19:46:49.158Z"
      },
      {
        "duration": 10,
        "start_time": "2023-03-03T19:46:49.358Z"
      },
      {
        "duration": 7,
        "start_time": "2023-03-03T19:46:49.369Z"
      },
      {
        "duration": 55,
        "start_time": "2023-03-03T19:46:49.377Z"
      },
      {
        "duration": 541,
        "start_time": "2023-03-03T19:46:49.435Z"
      },
      {
        "duration": 219,
        "start_time": "2023-03-03T19:46:49.978Z"
      },
      {
        "duration": 217,
        "start_time": "2023-03-03T19:46:50.199Z"
      },
      {
        "duration": 231,
        "start_time": "2023-03-03T19:46:50.425Z"
      },
      {
        "duration": 199,
        "start_time": "2023-03-03T19:46:50.658Z"
      },
      {
        "duration": 206,
        "start_time": "2023-03-03T19:46:50.859Z"
      },
      {
        "duration": 203,
        "start_time": "2023-03-03T19:46:51.067Z"
      },
      {
        "duration": 217,
        "start_time": "2023-03-03T19:46:51.272Z"
      },
      {
        "duration": 45,
        "start_time": "2023-03-03T19:46:51.491Z"
      },
      {
        "duration": 10,
        "start_time": "2023-03-03T19:46:51.538Z"
      },
      {
        "duration": 16,
        "start_time": "2023-03-03T19:46:51.550Z"
      },
      {
        "duration": 104,
        "start_time": "2023-03-03T19:46:51.567Z"
      },
      {
        "duration": 13,
        "start_time": "2023-03-03T19:46:51.673Z"
      },
      {
        "duration": 201,
        "start_time": "2023-03-03T19:46:51.688Z"
      },
      {
        "duration": 201,
        "start_time": "2023-03-03T19:46:51.892Z"
      },
      {
        "duration": 10,
        "start_time": "2023-03-03T19:54:56.562Z"
      },
      {
        "duration": 13,
        "start_time": "2023-03-03T19:57:30.167Z"
      },
      {
        "duration": 169,
        "start_time": "2023-03-03T19:57:51.090Z"
      },
      {
        "duration": 12,
        "start_time": "2023-03-03T19:58:14.969Z"
      },
      {
        "duration": 140,
        "start_time": "2023-03-03T19:58:37.348Z"
      },
      {
        "duration": 11,
        "start_time": "2023-03-03T20:03:32.981Z"
      },
      {
        "duration": 191,
        "start_time": "2023-03-03T20:03:58.260Z"
      },
      {
        "duration": 152,
        "start_time": "2023-03-03T20:05:25.154Z"
      },
      {
        "duration": 188,
        "start_time": "2023-03-03T20:06:15.271Z"
      },
      {
        "duration": 209,
        "start_time": "2023-03-03T20:06:22.943Z"
      },
      {
        "duration": 271,
        "start_time": "2023-03-03T20:06:30.080Z"
      },
      {
        "duration": 241,
        "start_time": "2023-03-03T20:06:36.639Z"
      },
      {
        "duration": 221,
        "start_time": "2023-03-03T20:06:40.956Z"
      },
      {
        "duration": 214,
        "start_time": "2023-03-03T20:06:49.749Z"
      },
      {
        "duration": 9,
        "start_time": "2023-03-03T20:09:44.858Z"
      },
      {
        "duration": 183,
        "start_time": "2023-03-03T20:09:58.878Z"
      },
      {
        "duration": 186,
        "start_time": "2023-03-03T20:10:04.842Z"
      },
      {
        "duration": 15,
        "start_time": "2023-03-03T20:11:32.451Z"
      },
      {
        "duration": 177,
        "start_time": "2023-03-03T20:11:51.470Z"
      },
      {
        "duration": 226,
        "start_time": "2023-03-03T20:11:55.089Z"
      },
      {
        "duration": 197,
        "start_time": "2023-03-03T20:12:00.080Z"
      },
      {
        "duration": 9,
        "start_time": "2023-03-03T20:16:43.781Z"
      },
      {
        "duration": 168,
        "start_time": "2023-03-03T20:17:01.198Z"
      },
      {
        "duration": 202,
        "start_time": "2023-03-03T20:17:06.477Z"
      },
      {
        "duration": 10,
        "start_time": "2023-03-03T20:19:28.408Z"
      },
      {
        "duration": 126,
        "start_time": "2023-03-03T20:19:42.610Z"
      },
      {
        "duration": 11,
        "start_time": "2023-03-03T20:37:09.885Z"
      },
      {
        "duration": 167,
        "start_time": "2023-03-03T20:37:25.173Z"
      },
      {
        "duration": 9,
        "start_time": "2023-03-03T20:41:54.681Z"
      },
      {
        "duration": 151,
        "start_time": "2023-03-03T20:42:32.864Z"
      },
      {
        "duration": 199,
        "start_time": "2023-03-03T20:42:37.663Z"
      },
      {
        "duration": 9,
        "start_time": "2023-03-03T20:56:31.652Z"
      },
      {
        "duration": 166,
        "start_time": "2023-03-03T20:56:49.968Z"
      },
      {
        "duration": 168,
        "start_time": "2023-03-03T20:56:54.591Z"
      },
      {
        "duration": 73,
        "start_time": "2023-03-03T21:00:09.990Z"
      },
      {
        "duration": 10,
        "start_time": "2023-03-03T21:00:13.890Z"
      },
      {
        "duration": 161,
        "start_time": "2023-03-03T21:00:25.163Z"
      },
      {
        "duration": 174,
        "start_time": "2023-03-03T21:00:29.894Z"
      },
      {
        "duration": 9,
        "start_time": "2023-03-03T21:02:59.660Z"
      },
      {
        "duration": 153,
        "start_time": "2023-03-03T21:03:19.980Z"
      },
      {
        "duration": 142,
        "start_time": "2023-03-03T21:03:27.300Z"
      },
      {
        "duration": 135,
        "start_time": "2023-03-03T21:03:32.755Z"
      },
      {
        "duration": 149,
        "start_time": "2023-03-03T21:03:36.902Z"
      },
      {
        "duration": 8,
        "start_time": "2023-03-03T21:05:46.512Z"
      },
      {
        "duration": 152,
        "start_time": "2023-03-03T21:06:07.693Z"
      },
      {
        "duration": 519,
        "start_time": "2023-03-03T21:06:11.790Z"
      },
      {
        "duration": 159,
        "start_time": "2023-03-03T21:06:21.979Z"
      },
      {
        "duration": 471,
        "start_time": "2023-03-04T11:48:52.382Z"
      },
      {
        "duration": 220,
        "start_time": "2023-03-04T11:49:10.525Z"
      },
      {
        "duration": 9,
        "start_time": "2023-03-04T12:01:23.250Z"
      },
      {
        "duration": 9,
        "start_time": "2023-03-04T12:01:44.626Z"
      },
      {
        "duration": 10,
        "start_time": "2023-03-04T12:02:07.220Z"
      },
      {
        "duration": 12,
        "start_time": "2023-03-04T12:02:23.818Z"
      },
      {
        "duration": 17,
        "start_time": "2023-03-04T12:02:48.157Z"
      },
      {
        "duration": 13,
        "start_time": "2023-03-04T12:04:19.434Z"
      },
      {
        "duration": 25,
        "start_time": "2023-03-04T12:12:45.435Z"
      },
      {
        "duration": 25,
        "start_time": "2023-03-04T12:13:49.063Z"
      },
      {
        "duration": 11,
        "start_time": "2023-03-04T12:54:25.763Z"
      },
      {
        "duration": 152,
        "start_time": "2023-03-04T12:57:00.191Z"
      },
      {
        "duration": 17,
        "start_time": "2023-03-04T12:57:00.345Z"
      },
      {
        "duration": 2609,
        "start_time": "2023-03-04T12:57:00.364Z"
      },
      {
        "duration": 10,
        "start_time": "2023-03-04T12:57:02.976Z"
      },
      {
        "duration": 6,
        "start_time": "2023-03-04T12:57:02.988Z"
      },
      {
        "duration": 45,
        "start_time": "2023-03-04T12:57:02.995Z"
      },
      {
        "duration": 17,
        "start_time": "2023-03-04T12:57:03.041Z"
      },
      {
        "duration": 24,
        "start_time": "2023-03-04T12:57:03.060Z"
      },
      {
        "duration": 16,
        "start_time": "2023-03-04T12:57:03.086Z"
      },
      {
        "duration": 26,
        "start_time": "2023-03-04T12:57:03.103Z"
      },
      {
        "duration": 14,
        "start_time": "2023-03-04T12:57:03.133Z"
      },
      {
        "duration": 28,
        "start_time": "2023-03-04T12:57:03.148Z"
      },
      {
        "duration": 17,
        "start_time": "2023-03-04T12:57:03.178Z"
      },
      {
        "duration": 15,
        "start_time": "2023-03-04T12:57:03.199Z"
      },
      {
        "duration": 11,
        "start_time": "2023-03-04T12:57:03.216Z"
      },
      {
        "duration": 12,
        "start_time": "2023-03-04T12:57:03.230Z"
      },
      {
        "duration": 5,
        "start_time": "2023-03-04T12:57:03.243Z"
      },
      {
        "duration": 17,
        "start_time": "2023-03-04T12:57:03.249Z"
      },
      {
        "duration": 26,
        "start_time": "2023-03-04T12:57:03.268Z"
      },
      {
        "duration": 8,
        "start_time": "2023-03-04T12:57:03.296Z"
      },
      {
        "duration": 26,
        "start_time": "2023-03-04T12:57:03.306Z"
      },
      {
        "duration": 14,
        "start_time": "2023-03-04T12:57:03.337Z"
      },
      {
        "duration": 8,
        "start_time": "2023-03-04T12:57:03.353Z"
      },
      {
        "duration": 9,
        "start_time": "2023-03-04T12:57:03.363Z"
      },
      {
        "duration": 5,
        "start_time": "2023-03-04T12:57:03.373Z"
      },
      {
        "duration": 11,
        "start_time": "2023-03-04T12:57:03.380Z"
      },
      {
        "duration": 4,
        "start_time": "2023-03-04T12:57:03.393Z"
      },
      {
        "duration": 7,
        "start_time": "2023-03-04T12:57:03.399Z"
      },
      {
        "duration": 19,
        "start_time": "2023-03-04T12:57:03.408Z"
      },
      {
        "duration": 7,
        "start_time": "2023-03-04T12:57:03.432Z"
      },
      {
        "duration": 6,
        "start_time": "2023-03-04T12:57:03.441Z"
      },
      {
        "duration": 20,
        "start_time": "2023-03-04T12:57:03.448Z"
      },
      {
        "duration": 7,
        "start_time": "2023-03-04T12:57:03.469Z"
      },
      {
        "duration": 7,
        "start_time": "2023-03-04T12:57:03.477Z"
      },
      {
        "duration": 9,
        "start_time": "2023-03-04T12:57:03.485Z"
      },
      {
        "duration": 8,
        "start_time": "2023-03-04T12:57:03.495Z"
      },
      {
        "duration": 6,
        "start_time": "2023-03-04T12:57:03.505Z"
      },
      {
        "duration": 23,
        "start_time": "2023-03-04T12:57:03.512Z"
      },
      {
        "duration": 7,
        "start_time": "2023-03-04T12:57:03.537Z"
      },
      {
        "duration": 6,
        "start_time": "2023-03-04T12:57:03.546Z"
      },
      {
        "duration": 13,
        "start_time": "2023-03-04T12:57:03.558Z"
      },
      {
        "duration": 5,
        "start_time": "2023-03-04T12:57:03.573Z"
      },
      {
        "duration": 7,
        "start_time": "2023-03-04T12:57:03.579Z"
      },
      {
        "duration": 5,
        "start_time": "2023-03-04T12:57:03.587Z"
      },
      {
        "duration": 7,
        "start_time": "2023-03-04T12:57:03.593Z"
      },
      {
        "duration": 5,
        "start_time": "2023-03-04T12:57:03.601Z"
      },
      {
        "duration": 17,
        "start_time": "2023-03-04T12:57:03.608Z"
      },
      {
        "duration": 10,
        "start_time": "2023-03-04T12:57:03.626Z"
      },
      {
        "duration": 7,
        "start_time": "2023-03-04T12:57:03.638Z"
      },
      {
        "duration": 21,
        "start_time": "2023-03-04T12:57:03.646Z"
      },
      {
        "duration": 13,
        "start_time": "2023-03-04T12:57:03.669Z"
      },
      {
        "duration": 14,
        "start_time": "2023-03-04T12:57:03.684Z"
      },
      {
        "duration": 6,
        "start_time": "2023-03-04T12:57:03.700Z"
      },
      {
        "duration": 8,
        "start_time": "2023-03-04T12:57:03.708Z"
      },
      {
        "duration": 12,
        "start_time": "2023-03-04T12:57:03.718Z"
      },
      {
        "duration": 7,
        "start_time": "2023-03-04T12:57:03.733Z"
      },
      {
        "duration": 5,
        "start_time": "2023-03-04T12:57:03.742Z"
      },
      {
        "duration": 7,
        "start_time": "2023-03-04T12:57:03.749Z"
      },
      {
        "duration": 6,
        "start_time": "2023-03-04T12:57:03.758Z"
      },
      {
        "duration": 6,
        "start_time": "2023-03-04T12:57:03.765Z"
      },
      {
        "duration": 10,
        "start_time": "2023-03-04T12:57:03.773Z"
      },
      {
        "duration": 5,
        "start_time": "2023-03-04T12:57:03.786Z"
      },
      {
        "duration": 31,
        "start_time": "2023-03-04T12:57:03.793Z"
      },
      {
        "duration": 13,
        "start_time": "2023-03-04T12:57:03.827Z"
      },
      {
        "duration": 8,
        "start_time": "2023-03-04T12:57:03.842Z"
      },
      {
        "duration": 10,
        "start_time": "2023-03-04T12:57:03.851Z"
      },
      {
        "duration": 6,
        "start_time": "2023-03-04T12:57:03.863Z"
      },
      {
        "duration": 9,
        "start_time": "2023-03-04T12:57:03.870Z"
      },
      {
        "duration": 5,
        "start_time": "2023-03-04T12:57:03.881Z"
      },
      {
        "duration": 5,
        "start_time": "2023-03-04T12:57:03.889Z"
      },
      {
        "duration": 40,
        "start_time": "2023-03-04T12:57:03.896Z"
      },
      {
        "duration": 13,
        "start_time": "2023-03-04T12:57:03.938Z"
      },
      {
        "duration": 136,
        "start_time": "2023-03-04T12:57:03.952Z"
      },
      {
        "duration": 10,
        "start_time": "2023-03-04T12:57:04.090Z"
      },
      {
        "duration": 24,
        "start_time": "2023-03-04T12:57:04.102Z"
      },
      {
        "duration": 16,
        "start_time": "2023-03-04T12:57:04.128Z"
      },
      {
        "duration": 12,
        "start_time": "2023-03-04T12:57:04.146Z"
      },
      {
        "duration": 142,
        "start_time": "2023-03-04T12:57:04.160Z"
      },
      {
        "duration": 8,
        "start_time": "2023-03-04T12:57:04.304Z"
      },
      {
        "duration": 42,
        "start_time": "2023-03-04T12:57:04.314Z"
      },
      {
        "duration": 27,
        "start_time": "2023-03-04T12:57:04.358Z"
      },
      {
        "duration": 48,
        "start_time": "2023-03-04T12:57:04.387Z"
      },
      {
        "duration": 5,
        "start_time": "2023-03-04T12:57:04.437Z"
      },
      {
        "duration": 9,
        "start_time": "2023-03-04T12:57:04.444Z"
      },
      {
        "duration": 8,
        "start_time": "2023-03-04T12:57:04.454Z"
      },
      {
        "duration": 131,
        "start_time": "2023-03-04T12:57:04.464Z"
      },
      {
        "duration": 39,
        "start_time": "2023-03-04T12:57:04.597Z"
      },
      {
        "duration": 24,
        "start_time": "2023-03-04T12:57:04.639Z"
      },
      {
        "duration": 4,
        "start_time": "2023-03-04T12:57:04.665Z"
      },
      {
        "duration": 28,
        "start_time": "2023-03-04T12:57:04.670Z"
      },
      {
        "duration": 52,
        "start_time": "2023-03-04T12:57:04.699Z"
      },
      {
        "duration": 26,
        "start_time": "2023-03-04T12:57:04.752Z"
      },
      {
        "duration": 54,
        "start_time": "2023-03-04T12:57:04.780Z"
      },
      {
        "duration": 369,
        "start_time": "2023-03-04T12:57:04.836Z"
      },
      {
        "duration": 34,
        "start_time": "2023-03-04T12:57:05.207Z"
      },
      {
        "duration": 12,
        "start_time": "2023-03-04T12:57:05.243Z"
      },
      {
        "duration": 171,
        "start_time": "2023-03-04T12:57:05.256Z"
      },
      {
        "duration": 13,
        "start_time": "2023-03-04T12:57:05.428Z"
      },
      {
        "duration": 185,
        "start_time": "2023-03-04T12:57:05.443Z"
      },
      {
        "duration": 12,
        "start_time": "2023-03-04T12:57:05.633Z"
      },
      {
        "duration": 165,
        "start_time": "2023-03-04T12:57:05.647Z"
      },
      {
        "duration": 35,
        "start_time": "2023-03-04T12:57:05.813Z"
      },
      {
        "duration": 252,
        "start_time": "2023-03-04T12:57:05.850Z"
      },
      {
        "duration": 20,
        "start_time": "2023-03-04T12:57:06.105Z"
      },
      {
        "duration": 190,
        "start_time": "2023-03-04T12:57:06.133Z"
      },
      {
        "duration": 13,
        "start_time": "2023-03-04T12:57:06.332Z"
      },
      {
        "duration": 185,
        "start_time": "2023-03-04T12:57:06.346Z"
      },
      {
        "duration": 10,
        "start_time": "2023-03-04T12:57:06.536Z"
      },
      {
        "duration": 217,
        "start_time": "2023-03-04T12:57:06.548Z"
      },
      {
        "duration": 10,
        "start_time": "2023-03-04T12:57:06.767Z"
      },
      {
        "duration": 148,
        "start_time": "2023-03-04T12:57:06.778Z"
      },
      {
        "duration": 13,
        "start_time": "2023-03-04T12:57:06.928Z"
      },
      {
        "duration": 204,
        "start_time": "2023-03-04T12:57:06.943Z"
      },
      {
        "duration": 10,
        "start_time": "2023-03-04T12:57:07.149Z"
      },
      {
        "duration": 221,
        "start_time": "2023-03-04T12:57:07.160Z"
      },
      {
        "duration": 11,
        "start_time": "2023-03-04T12:57:07.382Z"
      },
      {
        "duration": 205,
        "start_time": "2023-03-04T12:57:07.395Z"
      },
      {
        "duration": 24,
        "start_time": "2023-03-04T12:57:07.601Z"
      },
      {
        "duration": 212,
        "start_time": "2023-03-04T12:57:07.631Z"
      },
      {
        "duration": 10,
        "start_time": "2023-03-04T12:57:07.846Z"
      },
      {
        "duration": 181,
        "start_time": "2023-03-04T12:57:07.858Z"
      },
      {
        "duration": 10,
        "start_time": "2023-03-04T12:57:08.047Z"
      },
      {
        "duration": 187,
        "start_time": "2023-03-04T12:57:08.059Z"
      },
      {
        "duration": 197,
        "start_time": "2023-03-04T12:57:08.247Z"
      },
      {
        "duration": 10,
        "start_time": "2023-03-04T12:57:08.445Z"
      },
      {
        "duration": 220,
        "start_time": "2023-03-04T12:57:08.456Z"
      },
      {
        "duration": 684,
        "start_time": "2023-03-04T12:57:08.678Z"
      },
      {
        "duration": 197,
        "start_time": "2023-03-04T12:57:09.364Z"
      },
      {
        "duration": 244,
        "start_time": "2023-03-04T12:57:09.563Z"
      },
      {
        "duration": 196,
        "start_time": "2023-03-04T12:57:09.809Z"
      },
      {
        "duration": 228,
        "start_time": "2023-03-04T12:57:10.007Z"
      },
      {
        "duration": 20,
        "start_time": "2023-03-04T12:57:10.237Z"
      },
      {
        "duration": 257,
        "start_time": "2023-03-04T12:57:10.259Z"
      },
      {
        "duration": 27,
        "start_time": "2023-03-04T12:57:10.518Z"
      },
      {
        "duration": 210,
        "start_time": "2023-03-04T12:57:10.547Z"
      },
      {
        "duration": 11,
        "start_time": "2023-03-04T12:57:10.759Z"
      },
      {
        "duration": 64,
        "start_time": "2023-03-04T12:57:10.772Z"
      },
      {
        "duration": 11,
        "start_time": "2023-03-04T12:57:10.838Z"
      },
      {
        "duration": 28,
        "start_time": "2023-03-04T12:57:10.851Z"
      },
      {
        "duration": 16,
        "start_time": "2023-03-04T12:57:10.882Z"
      },
      {
        "duration": 211,
        "start_time": "2023-03-04T12:57:10.900Z"
      },
      {
        "duration": 225,
        "start_time": "2023-03-04T12:57:11.113Z"
      },
      {
        "duration": 2042,
        "start_time": "2023-03-04T13:02:14.825Z"
      },
      {
        "duration": 18,
        "start_time": "2023-03-04T13:02:16.870Z"
      },
      {
        "duration": 2725,
        "start_time": "2023-03-04T13:02:16.890Z"
      },
      {
        "duration": 9,
        "start_time": "2023-03-04T13:02:19.617Z"
      },
      {
        "duration": 21,
        "start_time": "2023-03-04T13:02:19.628Z"
      },
      {
        "duration": 9,
        "start_time": "2023-03-04T13:02:19.653Z"
      },
      {
        "duration": 36,
        "start_time": "2023-03-04T13:02:19.664Z"
      },
      {
        "duration": 8,
        "start_time": "2023-03-04T13:02:19.702Z"
      },
      {
        "duration": 6,
        "start_time": "2023-03-04T13:02:19.713Z"
      },
      {
        "duration": 4,
        "start_time": "2023-03-04T13:02:19.723Z"
      },
      {
        "duration": 11,
        "start_time": "2023-03-04T13:02:19.729Z"
      },
      {
        "duration": 8,
        "start_time": "2023-03-04T13:02:19.747Z"
      },
      {
        "duration": 13,
        "start_time": "2023-03-04T13:02:19.759Z"
      },
      {
        "duration": 8,
        "start_time": "2023-03-04T13:02:19.774Z"
      },
      {
        "duration": 8,
        "start_time": "2023-03-04T13:02:19.783Z"
      },
      {
        "duration": 12,
        "start_time": "2023-03-04T13:02:19.794Z"
      },
      {
        "duration": 6,
        "start_time": "2023-03-04T13:02:19.807Z"
      },
      {
        "duration": 12,
        "start_time": "2023-03-04T13:02:19.815Z"
      },
      {
        "duration": 45,
        "start_time": "2023-03-04T13:02:19.829Z"
      },
      {
        "duration": 10,
        "start_time": "2023-03-04T13:02:19.875Z"
      },
      {
        "duration": 13,
        "start_time": "2023-03-04T13:02:19.888Z"
      },
      {
        "duration": 16,
        "start_time": "2023-03-04T13:02:19.903Z"
      },
      {
        "duration": 9,
        "start_time": "2023-03-04T13:02:19.921Z"
      },
      {
        "duration": 5,
        "start_time": "2023-03-04T13:02:19.932Z"
      },
      {
        "duration": 9,
        "start_time": "2023-03-04T13:02:19.939Z"
      },
      {
        "duration": 39,
        "start_time": "2023-03-04T13:02:19.950Z"
      },
      {
        "duration": 4,
        "start_time": "2023-03-04T13:02:19.991Z"
      },
      {
        "duration": 5,
        "start_time": "2023-03-04T13:02:19.999Z"
      },
      {
        "duration": 5,
        "start_time": "2023-03-04T13:02:20.005Z"
      },
      {
        "duration": 6,
        "start_time": "2023-03-04T13:02:20.011Z"
      },
      {
        "duration": 7,
        "start_time": "2023-03-04T13:02:20.019Z"
      },
      {
        "duration": 13,
        "start_time": "2023-03-04T13:02:20.028Z"
      },
      {
        "duration": 12,
        "start_time": "2023-03-04T13:02:20.042Z"
      },
      {
        "duration": 37,
        "start_time": "2023-03-04T13:02:20.056Z"
      },
      {
        "duration": 6,
        "start_time": "2023-03-04T13:02:20.095Z"
      },
      {
        "duration": 8,
        "start_time": "2023-03-04T13:02:20.103Z"
      },
      {
        "duration": 12,
        "start_time": "2023-03-04T13:02:20.112Z"
      },
      {
        "duration": 6,
        "start_time": "2023-03-04T13:02:20.126Z"
      },
      {
        "duration": 10,
        "start_time": "2023-03-04T13:02:20.133Z"
      },
      {
        "duration": 35,
        "start_time": "2023-03-04T13:02:20.144Z"
      },
      {
        "duration": 20,
        "start_time": "2023-03-04T13:02:20.180Z"
      },
      {
        "duration": 8,
        "start_time": "2023-03-04T13:02:20.202Z"
      },
      {
        "duration": 6,
        "start_time": "2023-03-04T13:02:20.212Z"
      },
      {
        "duration": 10,
        "start_time": "2023-03-04T13:02:20.220Z"
      },
      {
        "duration": 7,
        "start_time": "2023-03-04T13:02:20.231Z"
      },
      {
        "duration": 12,
        "start_time": "2023-03-04T13:02:20.240Z"
      },
      {
        "duration": 29,
        "start_time": "2023-03-04T13:02:20.254Z"
      },
      {
        "duration": 12,
        "start_time": "2023-03-04T13:02:20.286Z"
      },
      {
        "duration": 8,
        "start_time": "2023-03-04T13:02:20.299Z"
      },
      {
        "duration": 7,
        "start_time": "2023-03-04T13:02:20.309Z"
      },
      {
        "duration": 7,
        "start_time": "2023-03-04T13:02:20.317Z"
      },
      {
        "duration": 7,
        "start_time": "2023-03-04T13:02:20.325Z"
      },
      {
        "duration": 9,
        "start_time": "2023-03-04T13:02:20.333Z"
      },
      {
        "duration": 15,
        "start_time": "2023-03-04T13:02:20.343Z"
      },
      {
        "duration": 28,
        "start_time": "2023-03-04T13:02:20.360Z"
      },
      {
        "duration": 8,
        "start_time": "2023-03-04T13:02:20.390Z"
      },
      {
        "duration": 6,
        "start_time": "2023-03-04T13:02:20.400Z"
      },
      {
        "duration": 7,
        "start_time": "2023-03-04T13:02:20.408Z"
      },
      {
        "duration": 7,
        "start_time": "2023-03-04T13:02:20.417Z"
      },
      {
        "duration": 7,
        "start_time": "2023-03-04T13:02:20.425Z"
      },
      {
        "duration": 8,
        "start_time": "2023-03-04T13:02:20.433Z"
      },
      {
        "duration": 12,
        "start_time": "2023-03-04T13:02:20.442Z"
      },
      {
        "duration": 35,
        "start_time": "2023-03-04T13:02:20.455Z"
      },
      {
        "duration": 9,
        "start_time": "2023-03-04T13:02:20.491Z"
      },
      {
        "duration": 25,
        "start_time": "2023-03-04T13:02:20.502Z"
      },
      {
        "duration": 12,
        "start_time": "2023-03-04T13:02:20.529Z"
      },
      {
        "duration": 34,
        "start_time": "2023-03-04T13:02:20.543Z"
      },
      {
        "duration": 22,
        "start_time": "2023-03-04T13:02:20.579Z"
      },
      {
        "duration": 11,
        "start_time": "2023-03-04T13:02:20.602Z"
      },
      {
        "duration": 8,
        "start_time": "2023-03-04T13:02:20.615Z"
      },
      {
        "duration": 12,
        "start_time": "2023-03-04T13:02:20.625Z"
      },
      {
        "duration": 18,
        "start_time": "2023-03-04T13:02:20.639Z"
      },
      {
        "duration": 130,
        "start_time": "2023-03-04T13:02:20.659Z"
      },
      {
        "duration": 9,
        "start_time": "2023-03-04T13:02:20.790Z"
      },
      {
        "duration": 11,
        "start_time": "2023-03-04T13:02:20.800Z"
      },
      {
        "duration": 8,
        "start_time": "2023-03-04T13:02:20.813Z"
      },
      {
        "duration": 8,
        "start_time": "2023-03-04T13:02:20.823Z"
      },
      {
        "duration": 173,
        "start_time": "2023-03-04T13:02:20.833Z"
      },
      {
        "duration": 7,
        "start_time": "2023-03-04T13:02:21.008Z"
      },
      {
        "duration": 32,
        "start_time": "2023-03-04T13:02:21.017Z"
      },
      {
        "duration": 35,
        "start_time": "2023-03-04T13:02:21.051Z"
      },
      {
        "duration": 29,
        "start_time": "2023-03-04T13:02:21.093Z"
      },
      {
        "duration": 32,
        "start_time": "2023-03-04T13:02:21.123Z"
      },
      {
        "duration": 10,
        "start_time": "2023-03-04T13:02:21.157Z"
      },
      {
        "duration": 33,
        "start_time": "2023-03-04T13:02:21.168Z"
      },
      {
        "duration": 105,
        "start_time": "2023-03-04T13:02:21.202Z"
      },
      {
        "duration": 23,
        "start_time": "2023-03-04T13:02:21.309Z"
      },
      {
        "duration": 45,
        "start_time": "2023-03-04T13:02:21.334Z"
      },
      {
        "duration": 5,
        "start_time": "2023-03-04T13:02:21.381Z"
      },
      {
        "duration": 29,
        "start_time": "2023-03-04T13:02:21.387Z"
      },
      {
        "duration": 57,
        "start_time": "2023-03-04T13:02:21.417Z"
      },
      {
        "duration": 29,
        "start_time": "2023-03-04T13:02:21.475Z"
      },
      {
        "duration": 28,
        "start_time": "2023-03-04T13:02:21.506Z"
      },
      {
        "duration": 426,
        "start_time": "2023-03-04T13:02:21.536Z"
      },
      {
        "duration": 36,
        "start_time": "2023-03-04T13:02:21.964Z"
      },
      {
        "duration": 8,
        "start_time": "2023-03-04T13:02:22.002Z"
      },
      {
        "duration": 159,
        "start_time": "2023-03-04T13:02:22.012Z"
      },
      {
        "duration": 9,
        "start_time": "2023-03-04T13:02:22.173Z"
      },
      {
        "duration": 292,
        "start_time": "2023-03-04T13:02:22.184Z"
      },
      {
        "duration": 10,
        "start_time": "2023-03-04T13:02:22.481Z"
      },
      {
        "duration": 217,
        "start_time": "2023-03-04T13:02:22.492Z"
      },
      {
        "duration": 11,
        "start_time": "2023-03-04T13:02:22.711Z"
      },
      {
        "duration": 300,
        "start_time": "2023-03-04T13:02:22.724Z"
      },
      {
        "duration": 9,
        "start_time": "2023-03-04T13:02:23.025Z"
      },
      {
        "duration": 206,
        "start_time": "2023-03-04T13:02:23.035Z"
      },
      {
        "duration": 12,
        "start_time": "2023-03-04T13:02:23.243Z"
      },
      {
        "duration": 196,
        "start_time": "2023-03-04T13:02:23.257Z"
      },
      {
        "duration": 13,
        "start_time": "2023-03-04T13:02:23.455Z"
      },
      {
        "duration": 228,
        "start_time": "2023-03-04T13:02:23.470Z"
      },
      {
        "duration": 9,
        "start_time": "2023-03-04T13:02:23.700Z"
      },
      {
        "duration": 143,
        "start_time": "2023-03-04T13:02:23.711Z"
      },
      {
        "duration": 17,
        "start_time": "2023-03-04T13:02:23.856Z"
      },
      {
        "duration": 182,
        "start_time": "2023-03-04T13:02:23.875Z"
      },
      {
        "duration": 12,
        "start_time": "2023-03-04T13:02:24.063Z"
      },
      {
        "duration": 231,
        "start_time": "2023-03-04T13:02:24.077Z"
      },
      {
        "duration": 8,
        "start_time": "2023-03-04T13:02:24.310Z"
      },
      {
        "duration": 197,
        "start_time": "2023-03-04T13:02:24.320Z"
      },
      {
        "duration": 12,
        "start_time": "2023-03-04T13:02:24.519Z"
      },
      {
        "duration": 249,
        "start_time": "2023-03-04T13:02:24.533Z"
      },
      {
        "duration": 9,
        "start_time": "2023-03-04T13:02:24.784Z"
      },
      {
        "duration": 305,
        "start_time": "2023-03-04T13:02:24.794Z"
      },
      {
        "duration": 8,
        "start_time": "2023-03-04T13:02:25.100Z"
      },
      {
        "duration": 234,
        "start_time": "2023-03-04T13:02:25.110Z"
      },
      {
        "duration": 224,
        "start_time": "2023-03-04T13:02:25.353Z"
      },
      {
        "duration": 15,
        "start_time": "2023-03-04T13:02:25.579Z"
      },
      {
        "duration": 251,
        "start_time": "2023-03-04T13:02:25.596Z"
      },
      {
        "duration": 251,
        "start_time": "2023-03-04T13:02:25.848Z"
      },
      {
        "duration": 197,
        "start_time": "2023-03-04T13:02:26.100Z"
      },
      {
        "duration": 232,
        "start_time": "2023-03-04T13:02:26.299Z"
      },
      {
        "duration": 192,
        "start_time": "2023-03-04T13:02:26.533Z"
      },
      {
        "duration": 214,
        "start_time": "2023-03-04T13:02:26.727Z"
      },
      {
        "duration": 23,
        "start_time": "2023-03-04T13:02:26.947Z"
      },
      {
        "duration": 216,
        "start_time": "2023-03-04T13:02:26.972Z"
      },
      {
        "duration": 14,
        "start_time": "2023-03-04T13:02:27.190Z"
      },
      {
        "duration": 214,
        "start_time": "2023-03-04T13:02:27.205Z"
      },
      {
        "duration": 10,
        "start_time": "2023-03-04T13:02:27.421Z"
      },
      {
        "duration": 63,
        "start_time": "2023-03-04T13:02:27.433Z"
      },
      {
        "duration": 10,
        "start_time": "2023-03-04T13:02:27.497Z"
      },
      {
        "duration": 46,
        "start_time": "2023-03-04T13:02:27.509Z"
      },
      {
        "duration": 22,
        "start_time": "2023-03-04T13:02:27.557Z"
      },
      {
        "duration": 221,
        "start_time": "2023-03-04T13:02:27.583Z"
      },
      {
        "duration": 243,
        "start_time": "2023-03-04T13:02:27.807Z"
      },
      {
        "duration": 49,
        "start_time": "2023-03-05T21:20:42.435Z"
      },
      {
        "duration": 1676,
        "start_time": "2023-03-05T21:20:48.563Z"
      },
      {
        "duration": 15,
        "start_time": "2023-03-05T21:20:50.241Z"
      },
      {
        "duration": 2422,
        "start_time": "2023-03-05T21:20:50.258Z"
      },
      {
        "duration": 9,
        "start_time": "2023-03-05T21:20:52.682Z"
      },
      {
        "duration": 4,
        "start_time": "2023-03-05T21:20:52.693Z"
      },
      {
        "duration": 9,
        "start_time": "2023-03-05T21:20:52.698Z"
      },
      {
        "duration": 14,
        "start_time": "2023-03-05T21:20:52.708Z"
      },
      {
        "duration": 10,
        "start_time": "2023-03-05T21:20:52.723Z"
      },
      {
        "duration": 5,
        "start_time": "2023-03-05T21:20:52.735Z"
      },
      {
        "duration": 7,
        "start_time": "2023-03-05T21:20:52.741Z"
      },
      {
        "duration": 7,
        "start_time": "2023-03-05T21:20:52.750Z"
      },
      {
        "duration": 5,
        "start_time": "2023-03-05T21:20:52.758Z"
      },
      {
        "duration": 4,
        "start_time": "2023-03-05T21:20:52.765Z"
      },
      {
        "duration": 3,
        "start_time": "2023-03-05T21:20:52.773Z"
      },
      {
        "duration": 43,
        "start_time": "2023-03-05T21:20:52.778Z"
      },
      {
        "duration": 5,
        "start_time": "2023-03-05T21:20:52.823Z"
      },
      {
        "duration": 4,
        "start_time": "2023-03-05T21:20:52.830Z"
      },
      {
        "duration": 4,
        "start_time": "2023-03-05T21:20:52.835Z"
      },
      {
        "duration": 11,
        "start_time": "2023-03-05T21:20:52.841Z"
      },
      {
        "duration": 23,
        "start_time": "2023-03-05T21:20:52.853Z"
      },
      {
        "duration": 7,
        "start_time": "2023-03-05T21:20:52.878Z"
      },
      {
        "duration": 37,
        "start_time": "2023-03-05T21:20:52.887Z"
      },
      {
        "duration": 8,
        "start_time": "2023-03-05T21:20:52.926Z"
      },
      {
        "duration": 7,
        "start_time": "2023-03-05T21:20:52.935Z"
      },
      {
        "duration": 4,
        "start_time": "2023-03-05T21:20:52.943Z"
      },
      {
        "duration": 6,
        "start_time": "2023-03-05T21:20:52.949Z"
      },
      {
        "duration": 7,
        "start_time": "2023-03-05T21:20:52.957Z"
      },
      {
        "duration": 4,
        "start_time": "2023-03-05T21:20:52.965Z"
      },
      {
        "duration": 5,
        "start_time": "2023-03-05T21:20:52.971Z"
      },
      {
        "duration": 6,
        "start_time": "2023-03-05T21:20:52.978Z"
      },
      {
        "duration": 39,
        "start_time": "2023-03-05T21:20:52.986Z"
      },
      {
        "duration": 19,
        "start_time": "2023-03-05T21:20:53.026Z"
      },
      {
        "duration": 5,
        "start_time": "2023-03-05T21:20:53.047Z"
      },
      {
        "duration": 5,
        "start_time": "2023-03-05T21:20:53.053Z"
      },
      {
        "duration": 6,
        "start_time": "2023-03-05T21:20:53.060Z"
      },
      {
        "duration": 6,
        "start_time": "2023-03-05T21:20:53.067Z"
      },
      {
        "duration": 10,
        "start_time": "2023-03-05T21:20:53.074Z"
      },
      {
        "duration": 18,
        "start_time": "2023-03-05T21:20:53.086Z"
      },
      {
        "duration": 6,
        "start_time": "2023-03-05T21:20:53.105Z"
      },
      {
        "duration": 9,
        "start_time": "2023-03-05T21:20:53.112Z"
      },
      {
        "duration": 3,
        "start_time": "2023-03-05T21:20:53.127Z"
      },
      {
        "duration": 32,
        "start_time": "2023-03-05T21:20:53.132Z"
      },
      {
        "duration": 6,
        "start_time": "2023-03-05T21:20:53.166Z"
      },
      {
        "duration": 7,
        "start_time": "2023-03-05T21:20:53.174Z"
      },
      {
        "duration": 13,
        "start_time": "2023-03-05T21:20:53.182Z"
      },
      {
        "duration": 7,
        "start_time": "2023-03-05T21:20:53.196Z"
      },
      {
        "duration": 6,
        "start_time": "2023-03-05T21:20:53.204Z"
      },
      {
        "duration": 7,
        "start_time": "2023-03-05T21:20:53.212Z"
      },
      {
        "duration": 8,
        "start_time": "2023-03-05T21:20:53.221Z"
      },
      {
        "duration": 29,
        "start_time": "2023-03-05T21:20:53.231Z"
      },
      {
        "duration": 14,
        "start_time": "2023-03-05T21:20:53.262Z"
      },
      {
        "duration": 8,
        "start_time": "2023-03-05T21:20:53.278Z"
      },
      {
        "duration": 5,
        "start_time": "2023-03-05T21:20:53.287Z"
      },
      {
        "duration": 9,
        "start_time": "2023-03-05T21:20:53.293Z"
      },
      {
        "duration": 6,
        "start_time": "2023-03-05T21:20:53.304Z"
      },
      {
        "duration": 8,
        "start_time": "2023-03-05T21:20:53.312Z"
      },
      {
        "duration": 10,
        "start_time": "2023-03-05T21:20:53.322Z"
      },
      {
        "duration": 6,
        "start_time": "2023-03-05T21:20:53.334Z"
      },
      {
        "duration": 6,
        "start_time": "2023-03-05T21:20:53.342Z"
      },
      {
        "duration": 4,
        "start_time": "2023-03-05T21:20:53.350Z"
      },
      {
        "duration": 6,
        "start_time": "2023-03-05T21:20:53.355Z"
      },
      {
        "duration": 6,
        "start_time": "2023-03-05T21:20:53.362Z"
      },
      {
        "duration": 7,
        "start_time": "2023-03-05T21:20:53.370Z"
      },
      {
        "duration": 7,
        "start_time": "2023-03-05T21:20:53.379Z"
      },
      {
        "duration": 10,
        "start_time": "2023-03-05T21:20:53.387Z"
      },
      {
        "duration": 23,
        "start_time": "2023-03-05T21:20:53.399Z"
      },
      {
        "duration": 5,
        "start_time": "2023-03-05T21:20:53.423Z"
      },
      {
        "duration": 8,
        "start_time": "2023-03-05T21:20:53.429Z"
      },
      {
        "duration": 7,
        "start_time": "2023-03-05T21:20:53.438Z"
      },
      {
        "duration": 9,
        "start_time": "2023-03-05T21:20:53.446Z"
      },
      {
        "duration": 11,
        "start_time": "2023-03-05T21:20:53.457Z"
      },
      {
        "duration": 8,
        "start_time": "2023-03-05T21:20:53.469Z"
      },
      {
        "duration": 13,
        "start_time": "2023-03-05T21:20:53.479Z"
      },
      {
        "duration": 29,
        "start_time": "2023-03-05T21:20:53.493Z"
      },
      {
        "duration": 119,
        "start_time": "2023-03-05T21:20:53.524Z"
      },
      {
        "duration": 8,
        "start_time": "2023-03-05T21:20:53.645Z"
      },
      {
        "duration": 9,
        "start_time": "2023-03-05T21:20:53.655Z"
      },
      {
        "duration": 7,
        "start_time": "2023-03-05T21:20:53.665Z"
      },
      {
        "duration": 9,
        "start_time": "2023-03-05T21:20:53.673Z"
      },
      {
        "duration": 139,
        "start_time": "2023-03-05T21:20:53.684Z"
      },
      {
        "duration": 9,
        "start_time": "2023-03-05T21:20:53.824Z"
      },
      {
        "duration": 26,
        "start_time": "2023-03-05T21:20:53.834Z"
      },
      {
        "duration": 24,
        "start_time": "2023-03-05T21:20:53.861Z"
      },
      {
        "duration": 56,
        "start_time": "2023-03-05T21:20:53.886Z"
      },
      {
        "duration": 7,
        "start_time": "2023-03-05T21:20:53.943Z"
      },
      {
        "duration": 8,
        "start_time": "2023-03-05T21:20:53.951Z"
      },
      {
        "duration": 7,
        "start_time": "2023-03-05T21:20:53.961Z"
      },
      {
        "duration": 120,
        "start_time": "2023-03-05T21:20:53.969Z"
      },
      {
        "duration": 39,
        "start_time": "2023-03-05T21:20:54.091Z"
      },
      {
        "duration": 24,
        "start_time": "2023-03-05T21:20:54.132Z"
      },
      {
        "duration": 5,
        "start_time": "2023-03-05T21:20:54.158Z"
      },
      {
        "duration": 27,
        "start_time": "2023-03-05T21:20:54.164Z"
      },
      {
        "duration": 29,
        "start_time": "2023-03-05T21:20:54.220Z"
      },
      {
        "duration": 26,
        "start_time": "2023-03-05T21:20:54.251Z"
      },
      {
        "duration": 55,
        "start_time": "2023-03-05T21:20:54.279Z"
      },
      {
        "duration": 381,
        "start_time": "2023-03-05T21:20:54.335Z"
      },
      {
        "duration": 26,
        "start_time": "2023-03-05T21:20:54.718Z"
      },
      {
        "duration": 9,
        "start_time": "2023-03-05T21:20:54.746Z"
      },
      {
        "duration": 157,
        "start_time": "2023-03-05T21:20:54.756Z"
      },
      {
        "duration": 9,
        "start_time": "2023-03-05T21:20:54.921Z"
      },
      {
        "duration": 291,
        "start_time": "2023-03-05T21:20:54.932Z"
      },
      {
        "duration": 9,
        "start_time": "2023-03-05T21:20:55.225Z"
      },
      {
        "duration": 159,
        "start_time": "2023-03-05T21:20:55.236Z"
      },
      {
        "duration": 10,
        "start_time": "2023-03-05T21:20:55.397Z"
      },
      {
        "duration": 208,
        "start_time": "2023-03-05T21:20:55.421Z"
      },
      {
        "duration": 8,
        "start_time": "2023-03-05T21:20:55.630Z"
      },
      {
        "duration": 186,
        "start_time": "2023-03-05T21:20:55.640Z"
      },
      {
        "duration": 10,
        "start_time": "2023-03-05T21:20:55.827Z"
      },
      {
        "duration": 175,
        "start_time": "2023-03-05T21:20:55.838Z"
      },
      {
        "duration": 9,
        "start_time": "2023-03-05T21:20:56.020Z"
      },
      {
        "duration": 199,
        "start_time": "2023-03-05T21:20:56.030Z"
      },
      {
        "duration": 9,
        "start_time": "2023-03-05T21:20:56.230Z"
      },
      {
        "duration": 140,
        "start_time": "2023-03-05T21:20:56.241Z"
      },
      {
        "duration": 9,
        "start_time": "2023-03-05T21:20:56.383Z"
      },
      {
        "duration": 169,
        "start_time": "2023-03-05T21:20:56.394Z"
      },
      {
        "duration": 10,
        "start_time": "2023-03-05T21:20:56.564Z"
      },
      {
        "duration": 201,
        "start_time": "2023-03-05T21:20:56.575Z"
      },
      {
        "duration": 9,
        "start_time": "2023-03-05T21:20:56.778Z"
      },
      {
        "duration": 186,
        "start_time": "2023-03-05T21:20:56.789Z"
      },
      {
        "duration": 10,
        "start_time": "2023-03-05T21:20:56.976Z"
      },
      {
        "duration": 189,
        "start_time": "2023-03-05T21:20:56.988Z"
      },
      {
        "duration": 9,
        "start_time": "2023-03-05T21:20:57.184Z"
      },
      {
        "duration": 301,
        "start_time": "2023-03-05T21:20:57.195Z"
      },
      {
        "duration": 9,
        "start_time": "2023-03-05T21:20:57.497Z"
      },
      {
        "duration": 165,
        "start_time": "2023-03-05T21:20:57.507Z"
      },
      {
        "duration": 176,
        "start_time": "2023-03-05T21:20:57.674Z"
      },
      {
        "duration": 9,
        "start_time": "2023-03-05T21:20:57.852Z"
      },
      {
        "duration": 209,
        "start_time": "2023-03-05T21:20:57.863Z"
      },
      {
        "duration": 207,
        "start_time": "2023-03-05T21:20:58.073Z"
      },
      {
        "duration": 176,
        "start_time": "2023-03-05T21:20:58.282Z"
      },
      {
        "duration": 207,
        "start_time": "2023-03-05T21:20:58.459Z"
      },
      {
        "duration": 190,
        "start_time": "2023-03-05T21:20:58.667Z"
      },
      {
        "duration": 201,
        "start_time": "2023-03-05T21:20:58.858Z"
      },
      {
        "duration": 12,
        "start_time": "2023-03-05T21:20:59.061Z"
      },
      {
        "duration": 209,
        "start_time": "2023-03-05T21:20:59.075Z"
      },
      {
        "duration": 12,
        "start_time": "2023-03-05T21:20:59.286Z"
      },
      {
        "duration": 211,
        "start_time": "2023-03-05T21:20:59.300Z"
      },
      {
        "duration": 12,
        "start_time": "2023-03-05T21:20:59.513Z"
      },
      {
        "duration": 39,
        "start_time": "2023-03-05T21:20:59.526Z"
      },
      {
        "duration": 9,
        "start_time": "2023-03-05T21:20:59.567Z"
      },
      {
        "duration": 52,
        "start_time": "2023-03-05T21:20:59.578Z"
      },
      {
        "duration": 15,
        "start_time": "2023-03-05T21:20:59.631Z"
      },
      {
        "duration": 194,
        "start_time": "2023-03-05T21:20:59.648Z"
      },
      {
        "duration": 202,
        "start_time": "2023-03-05T21:20:59.843Z"
      },
      {
        "duration": 4,
        "start_time": "2023-03-05T21:25:38.086Z"
      },
      {
        "duration": 4,
        "start_time": "2023-03-05T21:25:46.402Z"
      },
      {
        "duration": 5,
        "start_time": "2023-03-05T21:26:07.433Z"
      },
      {
        "duration": 6,
        "start_time": "2023-03-05T21:26:17.792Z"
      },
      {
        "duration": 5,
        "start_time": "2023-03-05T21:27:49.756Z"
      },
      {
        "duration": 5,
        "start_time": "2023-03-05T21:27:53.368Z"
      },
      {
        "duration": 5,
        "start_time": "2023-03-05T21:28:04.664Z"
      },
      {
        "duration": 5,
        "start_time": "2023-03-05T21:28:50.543Z"
      },
      {
        "duration": 5,
        "start_time": "2023-03-05T21:29:32.322Z"
      },
      {
        "duration": 4,
        "start_time": "2023-03-05T21:29:51.566Z"
      },
      {
        "duration": 5,
        "start_time": "2023-03-05T21:46:55.433Z"
      },
      {
        "duration": 44,
        "start_time": "2023-03-05T21:49:30.842Z"
      },
      {
        "duration": 5,
        "start_time": "2023-03-05T21:50:23.005Z"
      },
      {
        "duration": 3,
        "start_time": "2023-03-05T21:50:32.952Z"
      },
      {
        "duration": 4,
        "start_time": "2023-03-05T21:50:39.389Z"
      },
      {
        "duration": 9,
        "start_time": "2023-03-05T21:50:51.881Z"
      },
      {
        "duration": 15,
        "start_time": "2023-03-05T21:52:00.733Z"
      },
      {
        "duration": 2,
        "start_time": "2023-03-05T21:52:33.106Z"
      },
      {
        "duration": 2,
        "start_time": "2023-03-05T21:52:40.133Z"
      },
      {
        "duration": 11,
        "start_time": "2023-03-05T21:52:57.763Z"
      },
      {
        "duration": 14,
        "start_time": "2023-03-05T21:53:04.964Z"
      },
      {
        "duration": 151,
        "start_time": "2023-03-05T21:54:28.192Z"
      },
      {
        "duration": 3,
        "start_time": "2023-03-05T21:54:38.143Z"
      },
      {
        "duration": 2,
        "start_time": "2023-03-05T21:54:43.423Z"
      },
      {
        "duration": 69,
        "start_time": "2023-03-05T21:55:28.064Z"
      },
      {
        "duration": 11,
        "start_time": "2023-03-05T21:55:45.813Z"
      },
      {
        "duration": 134,
        "start_time": "2023-03-05T21:55:58.114Z"
      },
      {
        "duration": 11,
        "start_time": "2023-03-05T21:56:31.872Z"
      },
      {
        "duration": 1218,
        "start_time": "2023-03-05T21:56:57.913Z"
      },
      {
        "duration": 10,
        "start_time": "2023-03-05T21:57:22.114Z"
      },
      {
        "duration": 53,
        "start_time": "2023-03-06T21:53:52.277Z"
      },
      {
        "duration": 1739,
        "start_time": "2023-03-06T21:54:05.732Z"
      },
      {
        "duration": 17,
        "start_time": "2023-03-06T21:54:07.473Z"
      },
      {
        "duration": 2556,
        "start_time": "2023-03-06T21:54:07.492Z"
      },
      {
        "duration": 10,
        "start_time": "2023-03-06T21:54:10.050Z"
      },
      {
        "duration": 7,
        "start_time": "2023-03-06T21:54:10.062Z"
      },
      {
        "duration": 6,
        "start_time": "2023-03-06T21:54:10.070Z"
      },
      {
        "duration": 17,
        "start_time": "2023-03-06T21:54:10.078Z"
      },
      {
        "duration": 9,
        "start_time": "2023-03-06T21:54:10.097Z"
      },
      {
        "duration": 6,
        "start_time": "2023-03-06T21:54:10.108Z"
      },
      {
        "duration": 6,
        "start_time": "2023-03-06T21:54:10.116Z"
      },
      {
        "duration": 5,
        "start_time": "2023-03-06T21:54:10.123Z"
      },
      {
        "duration": 9,
        "start_time": "2023-03-06T21:54:10.130Z"
      },
      {
        "duration": 7,
        "start_time": "2023-03-06T21:54:10.140Z"
      },
      {
        "duration": 5,
        "start_time": "2023-03-06T21:54:10.172Z"
      },
      {
        "duration": 5,
        "start_time": "2023-03-06T21:54:10.179Z"
      },
      {
        "duration": 7,
        "start_time": "2023-03-06T21:54:10.185Z"
      },
      {
        "duration": 5,
        "start_time": "2023-03-06T21:54:10.194Z"
      },
      {
        "duration": 5,
        "start_time": "2023-03-06T21:54:10.200Z"
      },
      {
        "duration": 7,
        "start_time": "2023-03-06T21:54:10.206Z"
      },
      {
        "duration": 5,
        "start_time": "2023-03-06T21:54:10.215Z"
      },
      {
        "duration": 3,
        "start_time": "2023-03-06T21:54:10.222Z"
      },
      {
        "duration": 4,
        "start_time": "2023-03-06T21:54:10.227Z"
      },
      {
        "duration": 44,
        "start_time": "2023-03-06T21:54:10.233Z"
      },
      {
        "duration": 32,
        "start_time": "2023-03-06T21:54:10.279Z"
      },
      {
        "duration": 8,
        "start_time": "2023-03-06T21:54:10.313Z"
      },
      {
        "duration": 8,
        "start_time": "2023-03-06T21:54:10.323Z"
      },
      {
        "duration": 13,
        "start_time": "2023-03-06T21:54:10.332Z"
      },
      {
        "duration": 29,
        "start_time": "2023-03-06T21:54:10.346Z"
      },
      {
        "duration": 4,
        "start_time": "2023-03-06T21:54:10.377Z"
      },
      {
        "duration": 7,
        "start_time": "2023-03-06T21:54:10.383Z"
      },
      {
        "duration": 7,
        "start_time": "2023-03-06T21:54:10.391Z"
      },
      {
        "duration": 4,
        "start_time": "2023-03-06T21:54:10.400Z"
      },
      {
        "duration": 7,
        "start_time": "2023-03-06T21:54:10.405Z"
      },
      {
        "duration": 8,
        "start_time": "2023-03-06T21:54:10.413Z"
      },
      {
        "duration": 20,
        "start_time": "2023-03-06T21:54:10.423Z"
      },
      {
        "duration": 29,
        "start_time": "2023-03-06T21:54:10.445Z"
      },
      {
        "duration": 10,
        "start_time": "2023-03-06T21:54:10.476Z"
      },
      {
        "duration": 9,
        "start_time": "2023-03-06T21:54:10.489Z"
      },
      {
        "duration": 11,
        "start_time": "2023-03-06T21:54:10.500Z"
      },
      {
        "duration": 12,
        "start_time": "2023-03-06T21:54:10.512Z"
      },
      {
        "duration": 9,
        "start_time": "2023-03-06T21:54:10.531Z"
      },
      {
        "duration": 12,
        "start_time": "2023-03-06T21:54:10.542Z"
      },
      {
        "duration": 23,
        "start_time": "2023-03-06T21:54:10.556Z"
      },
      {
        "duration": 19,
        "start_time": "2023-03-06T21:54:10.582Z"
      },
      {
        "duration": 11,
        "start_time": "2023-03-06T21:54:10.603Z"
      },
      {
        "duration": 9,
        "start_time": "2023-03-06T21:54:10.616Z"
      },
      {
        "duration": 12,
        "start_time": "2023-03-06T21:54:10.627Z"
      },
      {
        "duration": 12,
        "start_time": "2023-03-06T21:54:10.641Z"
      },
      {
        "duration": 13,
        "start_time": "2023-03-06T21:54:10.655Z"
      },
      {
        "duration": 15,
        "start_time": "2023-03-06T21:54:10.669Z"
      },
      {
        "duration": 8,
        "start_time": "2023-03-06T21:54:10.686Z"
      },
      {
        "duration": 7,
        "start_time": "2023-03-06T21:54:10.695Z"
      },
      {
        "duration": 5,
        "start_time": "2023-03-06T21:54:10.704Z"
      },
      {
        "duration": 7,
        "start_time": "2023-03-06T21:54:10.711Z"
      },
      {
        "duration": 6,
        "start_time": "2023-03-06T21:54:10.719Z"
      },
      {
        "duration": 7,
        "start_time": "2023-03-06T21:54:10.726Z"
      },
      {
        "duration": 8,
        "start_time": "2023-03-06T21:54:10.735Z"
      },
      {
        "duration": 7,
        "start_time": "2023-03-06T21:54:10.745Z"
      },
      {
        "duration": 20,
        "start_time": "2023-03-06T21:54:10.753Z"
      },
      {
        "duration": 10,
        "start_time": "2023-03-06T21:54:10.775Z"
      },
      {
        "duration": 6,
        "start_time": "2023-03-06T21:54:10.787Z"
      },
      {
        "duration": 7,
        "start_time": "2023-03-06T21:54:10.795Z"
      },
      {
        "duration": 8,
        "start_time": "2023-03-06T21:54:10.804Z"
      },
      {
        "duration": 4,
        "start_time": "2023-03-06T21:54:10.813Z"
      },
      {
        "duration": 6,
        "start_time": "2023-03-06T21:54:10.819Z"
      },
      {
        "duration": 6,
        "start_time": "2023-03-06T21:54:10.826Z"
      },
      {
        "duration": 6,
        "start_time": "2023-03-06T21:54:10.833Z"
      },
      {
        "duration": 8,
        "start_time": "2023-03-06T21:54:10.840Z"
      },
      {
        "duration": 25,
        "start_time": "2023-03-06T21:54:10.849Z"
      },
      {
        "duration": 6,
        "start_time": "2023-03-06T21:54:10.876Z"
      },
      {
        "duration": 6,
        "start_time": "2023-03-06T21:54:10.883Z"
      },
      {
        "duration": 6,
        "start_time": "2023-03-06T21:54:10.891Z"
      },
      {
        "duration": 8,
        "start_time": "2023-03-06T21:54:10.898Z"
      },
      {
        "duration": 7,
        "start_time": "2023-03-06T21:54:10.908Z"
      },
      {
        "duration": 7,
        "start_time": "2023-03-06T21:54:10.917Z"
      },
      {
        "duration": 9,
        "start_time": "2023-03-06T21:54:10.925Z"
      },
      {
        "duration": 38,
        "start_time": "2023-03-06T21:54:10.935Z"
      },
      {
        "duration": 7,
        "start_time": "2023-03-06T21:54:10.975Z"
      },
      {
        "duration": 136,
        "start_time": "2023-03-06T21:54:10.984Z"
      },
      {
        "duration": 9,
        "start_time": "2023-03-06T21:54:11.122Z"
      },
      {
        "duration": 15,
        "start_time": "2023-03-06T21:54:11.133Z"
      },
      {
        "duration": 22,
        "start_time": "2023-03-06T21:54:11.150Z"
      },
      {
        "duration": 35,
        "start_time": "2023-03-06T21:54:11.174Z"
      },
      {
        "duration": 124,
        "start_time": "2023-03-06T21:54:11.211Z"
      },
      {
        "duration": 9,
        "start_time": "2023-03-06T21:54:11.336Z"
      },
      {
        "duration": 38,
        "start_time": "2023-03-06T21:54:11.346Z"
      },
      {
        "duration": 31,
        "start_time": "2023-03-06T21:54:11.385Z"
      },
      {
        "duration": 27,
        "start_time": "2023-03-06T21:54:11.418Z"
      },
      {
        "duration": 9,
        "start_time": "2023-03-06T21:54:11.446Z"
      },
      {
        "duration": 11,
        "start_time": "2023-03-06T21:54:11.472Z"
      },
      {
        "duration": 16,
        "start_time": "2023-03-06T21:54:11.485Z"
      },
      {
        "duration": 123,
        "start_time": "2023-03-06T21:54:11.504Z"
      },
      {
        "duration": 27,
        "start_time": "2023-03-06T21:54:11.629Z"
      },
      {
        "duration": 26,
        "start_time": "2023-03-06T21:54:11.674Z"
      },
      {
        "duration": 5,
        "start_time": "2023-03-06T21:54:11.702Z"
      },
      {
        "duration": 40,
        "start_time": "2023-03-06T21:54:11.709Z"
      },
      {
        "duration": 57,
        "start_time": "2023-03-06T21:54:11.750Z"
      },
      {
        "duration": 30,
        "start_time": "2023-03-06T21:54:11.809Z"
      },
      {
        "duration": 41,
        "start_time": "2023-03-06T21:54:11.841Z"
      },
      {
        "duration": 378,
        "start_time": "2023-03-06T21:54:11.883Z"
      },
      {
        "duration": 30,
        "start_time": "2023-03-06T21:54:12.264Z"
      },
      {
        "duration": 23,
        "start_time": "2023-03-06T21:54:12.296Z"
      },
      {
        "duration": 212,
        "start_time": "2023-03-06T21:54:12.320Z"
      },
      {
        "duration": 9,
        "start_time": "2023-03-06T21:54:12.536Z"
      },
      {
        "duration": 317,
        "start_time": "2023-03-06T21:54:12.547Z"
      },
      {
        "duration": 14,
        "start_time": "2023-03-06T21:54:12.866Z"
      },
      {
        "duration": 201,
        "start_time": "2023-03-06T21:54:12.882Z"
      },
      {
        "duration": 11,
        "start_time": "2023-03-06T21:54:13.084Z"
      },
      {
        "duration": 233,
        "start_time": "2023-03-06T21:54:13.097Z"
      },
      {
        "duration": 9,
        "start_time": "2023-03-06T21:54:13.331Z"
      },
      {
        "duration": 191,
        "start_time": "2023-03-06T21:54:13.341Z"
      },
      {
        "duration": 10,
        "start_time": "2023-03-06T21:54:13.533Z"
      },
      {
        "duration": 207,
        "start_time": "2023-03-06T21:54:13.544Z"
      },
      {
        "duration": 19,
        "start_time": "2023-03-06T21:54:13.754Z"
      },
      {
        "duration": 266,
        "start_time": "2023-03-06T21:54:13.774Z"
      },
      {
        "duration": 11,
        "start_time": "2023-03-06T21:54:14.042Z"
      },
      {
        "duration": 194,
        "start_time": "2023-03-06T21:54:14.054Z"
      },
      {
        "duration": 10,
        "start_time": "2023-03-06T21:54:14.250Z"
      },
      {
        "duration": 178,
        "start_time": "2023-03-06T21:54:14.262Z"
      },
      {
        "duration": 10,
        "start_time": "2023-03-06T21:54:14.441Z"
      },
      {
        "duration": 231,
        "start_time": "2023-03-06T21:54:14.453Z"
      },
      {
        "duration": 14,
        "start_time": "2023-03-06T21:54:14.691Z"
      },
      {
        "duration": 211,
        "start_time": "2023-03-06T21:54:14.707Z"
      },
      {
        "duration": 13,
        "start_time": "2023-03-06T21:54:14.920Z"
      },
      {
        "duration": 332,
        "start_time": "2023-03-06T21:54:14.935Z"
      },
      {
        "duration": 11,
        "start_time": "2023-03-06T21:54:15.269Z"
      },
      {
        "duration": 188,
        "start_time": "2023-03-06T21:54:15.281Z"
      },
      {
        "duration": 8,
        "start_time": "2023-03-06T21:54:15.472Z"
      },
      {
        "duration": 173,
        "start_time": "2023-03-06T21:54:15.482Z"
      },
      {
        "duration": 192,
        "start_time": "2023-03-06T21:54:15.657Z"
      },
      {
        "duration": 22,
        "start_time": "2023-03-06T21:54:15.851Z"
      },
      {
        "duration": 214,
        "start_time": "2023-03-06T21:54:15.875Z"
      },
      {
        "duration": 216,
        "start_time": "2023-03-06T21:54:16.092Z"
      },
      {
        "duration": 204,
        "start_time": "2023-03-06T21:54:16.310Z"
      },
      {
        "duration": 222,
        "start_time": "2023-03-06T21:54:16.516Z"
      },
      {
        "duration": 204,
        "start_time": "2023-03-06T21:54:16.740Z"
      },
      {
        "duration": 209,
        "start_time": "2023-03-06T21:54:16.949Z"
      },
      {
        "duration": 18,
        "start_time": "2023-03-06T21:54:17.160Z"
      },
      {
        "duration": 216,
        "start_time": "2023-03-06T21:54:17.180Z"
      },
      {
        "duration": 13,
        "start_time": "2023-03-06T21:54:17.397Z"
      },
      {
        "duration": 217,
        "start_time": "2023-03-06T21:54:17.412Z"
      },
      {
        "duration": 11,
        "start_time": "2023-03-06T21:54:17.631Z"
      },
      {
        "duration": 55,
        "start_time": "2023-03-06T21:54:17.644Z"
      },
      {
        "duration": 10,
        "start_time": "2023-03-06T21:54:17.701Z"
      },
      {
        "duration": 5,
        "start_time": "2023-03-06T21:54:17.713Z"
      },
      {
        "duration": 22,
        "start_time": "2023-03-06T21:54:17.720Z"
      },
      {
        "duration": 157,
        "start_time": "2023-03-06T21:54:17.744Z"
      },
      {
        "duration": 3,
        "start_time": "2023-03-06T21:54:17.903Z"
      },
      {
        "duration": 7,
        "start_time": "2023-03-06T21:54:17.908Z"
      },
      {
        "duration": 9,
        "start_time": "2023-03-06T21:54:17.917Z"
      },
      {
        "duration": 4,
        "start_time": "2023-03-06T21:56:54.605Z"
      },
      {
        "duration": 3,
        "start_time": "2023-03-06T21:57:20.018Z"
      },
      {
        "duration": 133,
        "start_time": "2023-03-06T22:06:19.848Z"
      },
      {
        "duration": 15,
        "start_time": "2023-03-06T22:06:19.983Z"
      },
      {
        "duration": 2647,
        "start_time": "2023-03-06T22:06:19.999Z"
      },
      {
        "duration": 10,
        "start_time": "2023-03-06T22:06:22.648Z"
      },
      {
        "duration": 14,
        "start_time": "2023-03-06T22:06:22.660Z"
      },
      {
        "duration": 7,
        "start_time": "2023-03-06T22:06:22.675Z"
      },
      {
        "duration": 10,
        "start_time": "2023-03-06T22:06:22.684Z"
      },
      {
        "duration": 9,
        "start_time": "2023-03-06T22:06:22.695Z"
      },
      {
        "duration": 8,
        "start_time": "2023-03-06T22:06:22.705Z"
      },
      {
        "duration": 5,
        "start_time": "2023-03-06T22:06:22.715Z"
      },
      {
        "duration": 7,
        "start_time": "2023-03-06T22:06:22.721Z"
      },
      {
        "duration": 7,
        "start_time": "2023-03-06T22:06:22.729Z"
      },
      {
        "duration": 35,
        "start_time": "2023-03-06T22:06:22.738Z"
      },
      {
        "duration": 5,
        "start_time": "2023-03-06T22:06:22.776Z"
      },
      {
        "duration": 8,
        "start_time": "2023-03-06T22:06:22.783Z"
      },
      {
        "duration": 10,
        "start_time": "2023-03-06T22:06:22.792Z"
      },
      {
        "duration": 7,
        "start_time": "2023-03-06T22:06:22.804Z"
      },
      {
        "duration": 9,
        "start_time": "2023-03-06T22:06:22.812Z"
      },
      {
        "duration": 8,
        "start_time": "2023-03-06T22:06:22.822Z"
      },
      {
        "duration": 8,
        "start_time": "2023-03-06T22:06:22.831Z"
      },
      {
        "duration": 7,
        "start_time": "2023-03-06T22:06:22.841Z"
      },
      {
        "duration": 7,
        "start_time": "2023-03-06T22:06:22.849Z"
      },
      {
        "duration": 11,
        "start_time": "2023-03-06T22:06:22.873Z"
      },
      {
        "duration": 22,
        "start_time": "2023-03-06T22:06:22.886Z"
      },
      {
        "duration": 8,
        "start_time": "2023-03-06T22:06:22.910Z"
      },
      {
        "duration": 7,
        "start_time": "2023-03-06T22:06:22.920Z"
      },
      {
        "duration": 8,
        "start_time": "2023-03-06T22:06:22.929Z"
      },
      {
        "duration": 34,
        "start_time": "2023-03-06T22:06:22.939Z"
      },
      {
        "duration": 5,
        "start_time": "2023-03-06T22:06:22.975Z"
      },
      {
        "duration": 7,
        "start_time": "2023-03-06T22:06:22.982Z"
      },
      {
        "duration": 8,
        "start_time": "2023-03-06T22:06:22.990Z"
      },
      {
        "duration": 4,
        "start_time": "2023-03-06T22:06:23.000Z"
      },
      {
        "duration": 7,
        "start_time": "2023-03-06T22:06:23.006Z"
      },
      {
        "duration": 7,
        "start_time": "2023-03-06T22:06:23.015Z"
      },
      {
        "duration": 8,
        "start_time": "2023-03-06T22:06:23.023Z"
      },
      {
        "duration": 7,
        "start_time": "2023-03-06T22:06:23.032Z"
      },
      {
        "duration": 34,
        "start_time": "2023-03-06T22:06:23.040Z"
      },
      {
        "duration": 7,
        "start_time": "2023-03-06T22:06:23.075Z"
      },
      {
        "duration": 7,
        "start_time": "2023-03-06T22:06:23.084Z"
      },
      {
        "duration": 10,
        "start_time": "2023-03-06T22:06:23.092Z"
      },
      {
        "duration": 5,
        "start_time": "2023-03-06T22:06:23.108Z"
      },
      {
        "duration": 10,
        "start_time": "2023-03-06T22:06:23.115Z"
      },
      {
        "duration": 6,
        "start_time": "2023-03-06T22:06:23.126Z"
      },
      {
        "duration": 7,
        "start_time": "2023-03-06T22:06:23.133Z"
      },
      {
        "duration": 6,
        "start_time": "2023-03-06T22:06:23.142Z"
      },
      {
        "duration": 23,
        "start_time": "2023-03-06T22:06:23.150Z"
      },
      {
        "duration": 9,
        "start_time": "2023-03-06T22:06:23.175Z"
      },
      {
        "duration": 9,
        "start_time": "2023-03-06T22:06:23.186Z"
      },
      {
        "duration": 5,
        "start_time": "2023-03-06T22:06:23.196Z"
      },
      {
        "duration": 13,
        "start_time": "2023-03-06T22:06:23.203Z"
      },
      {
        "duration": 7,
        "start_time": "2023-03-06T22:06:23.218Z"
      },
      {
        "duration": 15,
        "start_time": "2023-03-06T22:06:23.227Z"
      },
      {
        "duration": 10,
        "start_time": "2023-03-06T22:06:23.244Z"
      },
      {
        "duration": 9,
        "start_time": "2023-03-06T22:06:23.256Z"
      },
      {
        "duration": 9,
        "start_time": "2023-03-06T22:06:23.266Z"
      },
      {
        "duration": 8,
        "start_time": "2023-03-06T22:06:23.277Z"
      },
      {
        "duration": 10,
        "start_time": "2023-03-06T22:06:23.286Z"
      },
      {
        "duration": 8,
        "start_time": "2023-03-06T22:06:23.297Z"
      },
      {
        "duration": 9,
        "start_time": "2023-03-06T22:06:23.307Z"
      },
      {
        "duration": 11,
        "start_time": "2023-03-06T22:06:23.317Z"
      },
      {
        "duration": 8,
        "start_time": "2023-03-06T22:06:23.330Z"
      },
      {
        "duration": 6,
        "start_time": "2023-03-06T22:06:23.340Z"
      },
      {
        "duration": 7,
        "start_time": "2023-03-06T22:06:23.347Z"
      },
      {
        "duration": 16,
        "start_time": "2023-03-06T22:06:23.356Z"
      },
      {
        "duration": 5,
        "start_time": "2023-03-06T22:06:23.373Z"
      },
      {
        "duration": 6,
        "start_time": "2023-03-06T22:06:23.380Z"
      },
      {
        "duration": 11,
        "start_time": "2023-03-06T22:06:23.387Z"
      },
      {
        "duration": 6,
        "start_time": "2023-03-06T22:06:23.400Z"
      },
      {
        "duration": 5,
        "start_time": "2023-03-06T22:06:23.408Z"
      },
      {
        "duration": 7,
        "start_time": "2023-03-06T22:06:23.415Z"
      },
      {
        "duration": 6,
        "start_time": "2023-03-06T22:06:23.423Z"
      },
      {
        "duration": 7,
        "start_time": "2023-03-06T22:06:23.431Z"
      },
      {
        "duration": 9,
        "start_time": "2023-03-06T22:06:23.440Z"
      },
      {
        "duration": 24,
        "start_time": "2023-03-06T22:06:23.450Z"
      },
      {
        "duration": 4,
        "start_time": "2023-03-06T22:06:23.476Z"
      },
      {
        "duration": 11,
        "start_time": "2023-03-06T22:06:23.482Z"
      },
      {
        "duration": 15,
        "start_time": "2023-03-06T22:06:23.495Z"
      },
      {
        "duration": 18,
        "start_time": "2023-03-06T22:06:23.512Z"
      },
      {
        "duration": 118,
        "start_time": "2023-03-06T22:06:23.532Z"
      },
      {
        "duration": 22,
        "start_time": "2023-03-06T22:06:23.651Z"
      },
      {
        "duration": 7,
        "start_time": "2023-03-06T22:06:23.674Z"
      },
      {
        "duration": 7,
        "start_time": "2023-03-06T22:06:23.683Z"
      },
      {
        "duration": 9,
        "start_time": "2023-03-06T22:06:23.692Z"
      },
      {
        "duration": 134,
        "start_time": "2023-03-06T22:06:23.702Z"
      },
      {
        "duration": 8,
        "start_time": "2023-03-06T22:06:23.838Z"
      },
      {
        "duration": 46,
        "start_time": "2023-03-06T22:06:23.848Z"
      },
      {
        "duration": 215,
        "start_time": "2023-03-06T22:06:23.896Z"
      },
      {
        "duration": 24,
        "start_time": "2023-03-06T22:06:24.113Z"
      },
      {
        "duration": 5,
        "start_time": "2023-03-06T22:06:24.139Z"
      },
      {
        "duration": 28,
        "start_time": "2023-03-06T22:06:24.146Z"
      },
      {
        "duration": 9,
        "start_time": "2023-03-06T22:06:24.175Z"
      },
      {
        "duration": 137,
        "start_time": "2023-03-06T22:06:24.186Z"
      },
      {
        "duration": 26,
        "start_time": "2023-03-06T22:06:24.325Z"
      },
      {
        "duration": 39,
        "start_time": "2023-03-06T22:06:24.353Z"
      },
      {
        "duration": 4,
        "start_time": "2023-03-06T22:06:24.394Z"
      },
      {
        "duration": 15,
        "start_time": "2023-03-06T22:06:24.400Z"
      },
      {
        "duration": 7,
        "start_time": "2023-03-06T22:06:24.417Z"
      },
      {
        "duration": 29,
        "start_time": "2023-03-06T22:06:24.426Z"
      },
      {
        "duration": 29,
        "start_time": "2023-03-06T22:06:24.473Z"
      },
      {
        "duration": 28,
        "start_time": "2023-03-06T22:06:24.504Z"
      },
      {
        "duration": 50,
        "start_time": "2023-03-06T22:06:24.534Z"
      },
      {
        "duration": 378,
        "start_time": "2023-03-06T22:06:24.586Z"
      },
      {
        "duration": 28,
        "start_time": "2023-03-06T22:06:24.966Z"
      },
      {
        "duration": 9,
        "start_time": "2023-03-06T22:06:24.995Z"
      },
      {
        "duration": 175,
        "start_time": "2023-03-06T22:06:25.007Z"
      },
      {
        "duration": 10,
        "start_time": "2023-03-06T22:06:25.183Z"
      },
      {
        "duration": 173,
        "start_time": "2023-03-06T22:06:25.194Z"
      },
      {
        "duration": 11,
        "start_time": "2023-03-06T22:06:25.369Z"
      },
      {
        "duration": 172,
        "start_time": "2023-03-06T22:06:25.382Z"
      },
      {
        "duration": 18,
        "start_time": "2023-03-06T22:06:25.556Z"
      },
      {
        "duration": 220,
        "start_time": "2023-03-06T22:06:25.575Z"
      },
      {
        "duration": 10,
        "start_time": "2023-03-06T22:06:25.797Z"
      },
      {
        "duration": 198,
        "start_time": "2023-03-06T22:06:25.809Z"
      },
      {
        "duration": 11,
        "start_time": "2023-03-06T22:06:26.009Z"
      },
      {
        "duration": 195,
        "start_time": "2023-03-06T22:06:26.022Z"
      },
      {
        "duration": 10,
        "start_time": "2023-03-06T22:06:26.219Z"
      },
      {
        "duration": 210,
        "start_time": "2023-03-06T22:06:26.230Z"
      },
      {
        "duration": 10,
        "start_time": "2023-03-06T22:06:26.442Z"
      },
      {
        "duration": 141,
        "start_time": "2023-03-06T22:06:26.454Z"
      },
      {
        "duration": 11,
        "start_time": "2023-03-06T22:06:26.597Z"
      },
      {
        "duration": 176,
        "start_time": "2023-03-06T22:06:26.610Z"
      },
      {
        "duration": 9,
        "start_time": "2023-03-06T22:06:26.795Z"
      },
      {
        "duration": 210,
        "start_time": "2023-03-06T22:06:26.806Z"
      },
      {
        "duration": 10,
        "start_time": "2023-03-06T22:06:27.018Z"
      },
      {
        "duration": 195,
        "start_time": "2023-03-06T22:06:27.030Z"
      },
      {
        "duration": 9,
        "start_time": "2023-03-06T22:06:27.227Z"
      },
      {
        "duration": 192,
        "start_time": "2023-03-06T22:06:27.238Z"
      },
      {
        "duration": 9,
        "start_time": "2023-03-06T22:06:27.432Z"
      },
      {
        "duration": 191,
        "start_time": "2023-03-06T22:06:27.443Z"
      },
      {
        "duration": 9,
        "start_time": "2023-03-06T22:06:27.636Z"
      },
      {
        "duration": 171,
        "start_time": "2023-03-06T22:06:27.646Z"
      },
      {
        "duration": 189,
        "start_time": "2023-03-06T22:06:27.819Z"
      },
      {
        "duration": 9,
        "start_time": "2023-03-06T22:06:28.011Z"
      },
      {
        "duration": 419,
        "start_time": "2023-03-06T22:06:28.022Z"
      },
      {
        "duration": 213,
        "start_time": "2023-03-06T22:06:28.443Z"
      },
      {
        "duration": 207,
        "start_time": "2023-03-06T22:06:28.658Z"
      },
      {
        "duration": 235,
        "start_time": "2023-03-06T22:06:28.867Z"
      },
      {
        "duration": 198,
        "start_time": "2023-03-06T22:06:29.104Z"
      },
      {
        "duration": 214,
        "start_time": "2023-03-06T22:06:29.304Z"
      },
      {
        "duration": 11,
        "start_time": "2023-03-06T22:06:29.520Z"
      },
      {
        "duration": 211,
        "start_time": "2023-03-06T22:06:29.533Z"
      },
      {
        "duration": 13,
        "start_time": "2023-03-06T22:06:29.746Z"
      },
      {
        "duration": 234,
        "start_time": "2023-03-06T22:06:29.760Z"
      },
      {
        "duration": 12,
        "start_time": "2023-03-06T22:06:29.996Z"
      },
      {
        "duration": 52,
        "start_time": "2023-03-06T22:06:30.009Z"
      },
      {
        "duration": 12,
        "start_time": "2023-03-06T22:06:30.073Z"
      },
      {
        "duration": 27,
        "start_time": "2023-03-06T22:06:30.087Z"
      },
      {
        "duration": 25,
        "start_time": "2023-03-06T22:06:30.116Z"
      },
      {
        "duration": 146,
        "start_time": "2023-03-06T22:06:30.144Z"
      },
      {
        "duration": 2,
        "start_time": "2023-03-06T22:06:30.292Z"
      },
      {
        "duration": 38,
        "start_time": "2023-03-06T22:06:30.295Z"
      },
      {
        "duration": 22,
        "start_time": "2023-03-06T22:06:30.335Z"
      },
      {
        "duration": 1559,
        "start_time": "2023-03-07T06:35:54.304Z"
      },
      {
        "duration": 23,
        "start_time": "2023-03-07T06:35:57.316Z"
      },
      {
        "duration": 3081,
        "start_time": "2023-03-07T06:35:58.271Z"
      },
      {
        "duration": 25,
        "start_time": "2023-03-07T06:36:01.356Z"
      },
      {
        "duration": 2,
        "start_time": "2023-03-07T06:36:01.617Z"
      },
      {
        "duration": 4,
        "start_time": "2023-03-07T06:36:02.817Z"
      },
      {
        "duration": 8,
        "start_time": "2023-03-07T06:36:03.714Z"
      },
      {
        "duration": 8,
        "start_time": "2023-03-07T06:36:06.889Z"
      },
      {
        "duration": 46,
        "start_time": "2023-03-07T06:36:07.331Z"
      },
      {
        "duration": 11,
        "start_time": "2023-03-07T06:36:13.669Z"
      },
      {
        "duration": 23,
        "start_time": "2023-03-07T06:36:17.533Z"
      },
      {
        "duration": 4,
        "start_time": "2023-03-07T06:36:18.594Z"
      },
      {
        "duration": 4,
        "start_time": "2023-03-07T06:36:19.097Z"
      },
      {
        "duration": 5,
        "start_time": "2023-03-07T06:36:22.611Z"
      },
      {
        "duration": 4,
        "start_time": "2023-03-07T06:36:24.877Z"
      },
      {
        "duration": 1523,
        "start_time": "2023-03-07T06:38:08.973Z"
      },
      {
        "duration": 16,
        "start_time": "2023-03-07T06:38:10.499Z"
      },
      {
        "duration": 3189,
        "start_time": "2023-03-07T06:38:10.518Z"
      },
      {
        "duration": 12,
        "start_time": "2023-03-07T06:38:13.710Z"
      },
      {
        "duration": 11,
        "start_time": "2023-03-07T06:38:13.743Z"
      },
      {
        "duration": 25,
        "start_time": "2023-03-07T06:38:13.756Z"
      },
      {
        "duration": 9,
        "start_time": "2023-03-07T06:38:13.782Z"
      },
      {
        "duration": 7,
        "start_time": "2023-03-07T06:38:13.793Z"
      },
      {
        "duration": 23,
        "start_time": "2023-03-07T06:38:13.802Z"
      },
      {
        "duration": 24,
        "start_time": "2023-03-07T06:38:13.827Z"
      },
      {
        "duration": 15,
        "start_time": "2023-03-07T06:38:13.853Z"
      },
      {
        "duration": 11,
        "start_time": "2023-03-07T06:38:13.870Z"
      },
      {
        "duration": 18,
        "start_time": "2023-03-07T06:38:13.883Z"
      },
      {
        "duration": 6,
        "start_time": "2023-03-07T06:38:13.905Z"
      },
      {
        "duration": 4,
        "start_time": "2023-03-07T06:38:13.913Z"
      },
      {
        "duration": 10,
        "start_time": "2023-03-07T06:38:13.919Z"
      },
      {
        "duration": 34,
        "start_time": "2023-03-07T06:38:13.931Z"
      },
      {
        "duration": 10,
        "start_time": "2023-03-07T06:38:13.969Z"
      },
      {
        "duration": 5,
        "start_time": "2023-03-07T06:38:13.980Z"
      },
      {
        "duration": 4,
        "start_time": "2023-03-07T06:38:13.987Z"
      },
      {
        "duration": 7,
        "start_time": "2023-03-07T06:38:13.993Z"
      },
      {
        "duration": 5,
        "start_time": "2023-03-07T06:38:14.002Z"
      },
      {
        "duration": 5,
        "start_time": "2023-03-07T06:38:14.009Z"
      },
      {
        "duration": 3,
        "start_time": "2023-03-07T06:38:14.016Z"
      },
      {
        "duration": 35,
        "start_time": "2023-03-07T06:38:14.022Z"
      },
      {
        "duration": 39,
        "start_time": "2023-03-07T06:38:14.060Z"
      },
      {
        "duration": 9,
        "start_time": "2023-03-07T06:38:14.101Z"
      },
      {
        "duration": 23,
        "start_time": "2023-03-07T06:38:14.111Z"
      },
      {
        "duration": 17,
        "start_time": "2023-03-07T06:38:14.136Z"
      },
      {
        "duration": 18,
        "start_time": "2023-03-07T06:38:14.154Z"
      },
      {
        "duration": 6,
        "start_time": "2023-03-07T06:38:14.176Z"
      },
      {
        "duration": 8,
        "start_time": "2023-03-07T06:38:14.183Z"
      },
      {
        "duration": 6,
        "start_time": "2023-03-07T06:38:14.192Z"
      },
      {
        "duration": 4,
        "start_time": "2023-03-07T06:38:14.199Z"
      },
      {
        "duration": 6,
        "start_time": "2023-03-07T06:38:14.205Z"
      },
      {
        "duration": 11,
        "start_time": "2023-03-07T06:38:14.213Z"
      },
      {
        "duration": 29,
        "start_time": "2023-03-07T06:38:14.226Z"
      },
      {
        "duration": 12,
        "start_time": "2023-03-07T06:38:14.256Z"
      },
      {
        "duration": 13,
        "start_time": "2023-03-07T06:38:14.270Z"
      },
      {
        "duration": 7,
        "start_time": "2023-03-07T06:38:14.285Z"
      },
      {
        "duration": 6,
        "start_time": "2023-03-07T06:38:14.297Z"
      },
      {
        "duration": 6,
        "start_time": "2023-03-07T06:38:14.304Z"
      },
      {
        "duration": 7,
        "start_time": "2023-03-07T06:38:14.312Z"
      },
      {
        "duration": 7,
        "start_time": "2023-03-07T06:38:14.321Z"
      },
      {
        "duration": 14,
        "start_time": "2023-03-07T06:38:14.342Z"
      },
      {
        "duration": 11,
        "start_time": "2023-03-07T06:38:14.359Z"
      },
      {
        "duration": 10,
        "start_time": "2023-03-07T06:38:14.375Z"
      },
      {
        "duration": 8,
        "start_time": "2023-03-07T06:38:14.386Z"
      },
      {
        "duration": 15,
        "start_time": "2023-03-07T06:38:14.396Z"
      },
      {
        "duration": 8,
        "start_time": "2023-03-07T06:38:14.413Z"
      },
      {
        "duration": 5,
        "start_time": "2023-03-07T06:38:14.423Z"
      },
      {
        "duration": 22,
        "start_time": "2023-03-07T06:38:14.442Z"
      },
      {
        "duration": 16,
        "start_time": "2023-03-07T06:38:14.466Z"
      },
      {
        "duration": 5,
        "start_time": "2023-03-07T06:38:14.484Z"
      },
      {
        "duration": 5,
        "start_time": "2023-03-07T06:38:14.491Z"
      },
      {
        "duration": 8,
        "start_time": "2023-03-07T06:38:14.498Z"
      },
      {
        "duration": 6,
        "start_time": "2023-03-07T06:38:14.507Z"
      },
      {
        "duration": 5,
        "start_time": "2023-03-07T06:38:14.515Z"
      },
      {
        "duration": 11,
        "start_time": "2023-03-07T06:38:14.522Z"
      },
      {
        "duration": 17,
        "start_time": "2023-03-07T06:38:14.545Z"
      },
      {
        "duration": 19,
        "start_time": "2023-03-07T06:38:14.564Z"
      },
      {
        "duration": 5,
        "start_time": "2023-03-07T06:38:14.585Z"
      },
      {
        "duration": 9,
        "start_time": "2023-03-07T06:38:14.591Z"
      },
      {
        "duration": 11,
        "start_time": "2023-03-07T06:38:14.602Z"
      },
      {
        "duration": 6,
        "start_time": "2023-03-07T06:38:14.615Z"
      },
      {
        "duration": 4,
        "start_time": "2023-03-07T06:38:14.623Z"
      },
      {
        "duration": 36,
        "start_time": "2023-03-07T06:38:14.629Z"
      },
      {
        "duration": 15,
        "start_time": "2023-03-07T06:38:14.667Z"
      },
      {
        "duration": 8,
        "start_time": "2023-03-07T06:38:14.684Z"
      },
      {
        "duration": 8,
        "start_time": "2023-03-07T06:38:14.694Z"
      },
      {
        "duration": 6,
        "start_time": "2023-03-07T06:38:14.703Z"
      },
      {
        "duration": 18,
        "start_time": "2023-03-07T06:38:14.711Z"
      },
      {
        "duration": 4,
        "start_time": "2023-03-07T06:38:14.732Z"
      },
      {
        "duration": 20,
        "start_time": "2023-03-07T06:38:14.738Z"
      },
      {
        "duration": 12,
        "start_time": "2023-03-07T06:38:14.760Z"
      },
      {
        "duration": 17,
        "start_time": "2023-03-07T06:38:14.777Z"
      },
      {
        "duration": 5,
        "start_time": "2023-03-07T06:38:14.796Z"
      },
      {
        "duration": 8,
        "start_time": "2023-03-07T06:38:14.803Z"
      },
      {
        "duration": 26,
        "start_time": "2023-03-07T06:38:14.813Z"
      },
      {
        "duration": 34,
        "start_time": "2023-03-07T06:38:14.842Z"
      },
      {
        "duration": 142,
        "start_time": "2023-03-07T06:38:14.878Z"
      },
      {
        "duration": 9,
        "start_time": "2023-03-07T06:38:15.022Z"
      },
      {
        "duration": 36,
        "start_time": "2023-03-07T06:38:15.033Z"
      },
      {
        "duration": 14,
        "start_time": "2023-03-07T06:38:15.071Z"
      },
      {
        "duration": 11,
        "start_time": "2023-03-07T06:38:15.086Z"
      },
      {
        "duration": 127,
        "start_time": "2023-03-07T06:38:15.098Z"
      },
      {
        "duration": 30,
        "start_time": "2023-03-07T06:38:15.227Z"
      },
      {
        "duration": 38,
        "start_time": "2023-03-07T06:38:15.259Z"
      },
      {
        "duration": 24,
        "start_time": "2023-03-07T06:38:15.299Z"
      },
      {
        "duration": 47,
        "start_time": "2023-03-07T06:38:15.325Z"
      },
      {
        "duration": 18,
        "start_time": "2023-03-07T06:38:15.375Z"
      },
      {
        "duration": 8,
        "start_time": "2023-03-07T06:38:15.394Z"
      },
      {
        "duration": 7,
        "start_time": "2023-03-07T06:38:15.404Z"
      },
      {
        "duration": 143,
        "start_time": "2023-03-07T06:38:15.413Z"
      },
      {
        "duration": 32,
        "start_time": "2023-03-07T06:38:15.562Z"
      },
      {
        "duration": 23,
        "start_time": "2023-03-07T06:38:15.596Z"
      },
      {
        "duration": 5,
        "start_time": "2023-03-07T06:38:15.621Z"
      },
      {
        "duration": 37,
        "start_time": "2023-03-07T06:38:15.627Z"
      },
      {
        "duration": 14,
        "start_time": "2023-03-07T06:38:15.671Z"
      },
      {
        "duration": 16,
        "start_time": "2023-03-07T06:38:15.687Z"
      },
      {
        "duration": 31,
        "start_time": "2023-03-07T06:38:15.705Z"
      },
      {
        "duration": 51,
        "start_time": "2023-03-07T06:38:15.738Z"
      },
      {
        "duration": 31,
        "start_time": "2023-03-07T06:38:15.792Z"
      },
      {
        "duration": 60,
        "start_time": "2023-03-07T06:38:15.826Z"
      },
      {
        "duration": 425,
        "start_time": "2023-03-07T06:38:15.887Z"
      },
      {
        "duration": 34,
        "start_time": "2023-03-07T06:38:16.313Z"
      },
      {
        "duration": 13,
        "start_time": "2023-03-07T06:38:16.349Z"
      },
      {
        "duration": 346,
        "start_time": "2023-03-07T06:38:16.364Z"
      },
      {
        "duration": 11,
        "start_time": "2023-03-07T06:38:16.712Z"
      },
      {
        "duration": 216,
        "start_time": "2023-03-07T06:38:16.725Z"
      },
      {
        "duration": 14,
        "start_time": "2023-03-07T06:38:16.943Z"
      },
      {
        "duration": 211,
        "start_time": "2023-03-07T06:38:16.960Z"
      },
      {
        "duration": 10,
        "start_time": "2023-03-07T06:38:17.174Z"
      },
      {
        "duration": 304,
        "start_time": "2023-03-07T06:38:17.186Z"
      },
      {
        "duration": 13,
        "start_time": "2023-03-07T06:38:17.494Z"
      },
      {
        "duration": 254,
        "start_time": "2023-03-07T06:38:17.510Z"
      },
      {
        "duration": 17,
        "start_time": "2023-03-07T06:38:17.766Z"
      },
      {
        "duration": 259,
        "start_time": "2023-03-07T06:38:17.785Z"
      },
      {
        "duration": 14,
        "start_time": "2023-03-07T06:38:18.046Z"
      },
      {
        "duration": 259,
        "start_time": "2023-03-07T06:38:18.063Z"
      },
      {
        "duration": 40,
        "start_time": "2023-03-07T06:38:18.325Z"
      },
      {
        "duration": 157,
        "start_time": "2023-03-07T06:38:18.378Z"
      },
      {
        "duration": 24,
        "start_time": "2023-03-07T06:38:18.540Z"
      },
      {
        "duration": 203,
        "start_time": "2023-03-07T06:38:18.568Z"
      },
      {
        "duration": 9,
        "start_time": "2023-03-07T06:38:18.781Z"
      },
      {
        "duration": 220,
        "start_time": "2023-03-07T06:38:18.792Z"
      },
      {
        "duration": 11,
        "start_time": "2023-03-07T06:38:19.014Z"
      },
      {
        "duration": 338,
        "start_time": "2023-03-07T06:38:19.027Z"
      },
      {
        "duration": 15,
        "start_time": "2023-03-07T06:38:19.372Z"
      },
      {
        "duration": 212,
        "start_time": "2023-03-07T06:38:19.389Z"
      },
      {
        "duration": 10,
        "start_time": "2023-03-07T06:38:19.603Z"
      },
      {
        "duration": 223,
        "start_time": "2023-03-07T06:38:19.615Z"
      },
      {
        "duration": 38,
        "start_time": "2023-03-07T06:38:19.839Z"
      },
      {
        "duration": 179,
        "start_time": "2023-03-07T06:38:19.880Z"
      },
      {
        "duration": 244,
        "start_time": "2023-03-07T06:38:20.061Z"
      },
      {
        "duration": 9,
        "start_time": "2023-03-07T06:38:20.307Z"
      },
      {
        "duration": 241,
        "start_time": "2023-03-07T06:38:20.318Z"
      },
      {
        "duration": 255,
        "start_time": "2023-03-07T06:38:20.561Z"
      },
      {
        "duration": 263,
        "start_time": "2023-03-07T06:38:20.817Z"
      },
      {
        "duration": 250,
        "start_time": "2023-03-07T06:38:21.084Z"
      },
      {
        "duration": 246,
        "start_time": "2023-03-07T06:38:21.335Z"
      },
      {
        "duration": 297,
        "start_time": "2023-03-07T06:38:21.583Z"
      },
      {
        "duration": 21,
        "start_time": "2023-03-07T06:38:21.883Z"
      },
      {
        "duration": 289,
        "start_time": "2023-03-07T06:38:21.906Z"
      },
      {
        "duration": 14,
        "start_time": "2023-03-07T06:38:22.198Z"
      },
      {
        "duration": 266,
        "start_time": "2023-03-07T06:38:22.214Z"
      },
      {
        "duration": 13,
        "start_time": "2023-03-07T06:38:22.483Z"
      },
      {
        "duration": 68,
        "start_time": "2023-03-07T06:38:22.498Z"
      },
      {
        "duration": 14,
        "start_time": "2023-03-07T06:38:22.572Z"
      },
      {
        "duration": 2,
        "start_time": "2023-03-07T06:38:22.588Z"
      },
      {
        "duration": 41,
        "start_time": "2023-03-07T06:38:22.592Z"
      },
      {
        "duration": 184,
        "start_time": "2023-03-07T06:38:22.635Z"
      },
      {
        "duration": 2,
        "start_time": "2023-03-07T06:38:22.821Z"
      },
      {
        "duration": 6,
        "start_time": "2023-03-07T06:38:22.826Z"
      },
      {
        "duration": 9,
        "start_time": "2023-03-07T06:38:22.846Z"
      },
      {
        "duration": 5,
        "start_time": "2023-03-07T06:39:02.175Z"
      }
    ],
    "kernelspec": {
      "display_name": "Python 3 (ipykernel)",
      "language": "python",
      "name": "python3"
    },
    "language_info": {
      "codemirror_mode": {
        "name": "ipython",
        "version": 3
      },
      "file_extension": ".py",
      "mimetype": "text/x-python",
      "name": "python",
      "nbconvert_exporter": "python",
      "pygments_lexer": "ipython3",
      "version": "3.9.5"
    },
    "toc": {
      "base_numbering": 1,
      "nav_menu": {},
      "number_sections": true,
      "sideBar": true,
      "skip_h1_title": true,
      "title_cell": "Table of Contents",
      "title_sidebar": "Contents",
      "toc_cell": false,
      "toc_position": {},
      "toc_section_display": true,
      "toc_window_display": false
    },
    "colab": {
      "provenance": []
    }
  },
  "nbformat": 4,
  "nbformat_minor": 0
}