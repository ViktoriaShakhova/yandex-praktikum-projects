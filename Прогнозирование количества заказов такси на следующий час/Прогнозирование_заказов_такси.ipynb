{
  "cells": [
    {
      "cell_type": "markdown",
      "metadata": {
        "toc": true,
        "id": "9WChU25SrjI5"
      },
      "source": [
        "<h1>Содержание<span class=\"tocSkip\"></span></h1>\n",
        "<div class=\"toc\"><ul class=\"toc-item\"><li><span><a href=\"#Подготовка\" data-toc-modified-id=\"Подготовка-1\"><span class=\"toc-item-num\">1&nbsp;&nbsp;</span>Подготовка</a></span></li><li><span><a href=\"#Анализ\" data-toc-modified-id=\"Анализ-2\"><span class=\"toc-item-num\">2&nbsp;&nbsp;</span>Анализ</a></span></li><li><span><a href=\"#Обучение\" data-toc-modified-id=\"Обучение-3\"><span class=\"toc-item-num\">3&nbsp;&nbsp;</span>Обучение</a></span></li><li><span><a href=\"#Тестирование\" data-toc-modified-id=\"Тестирование-4\"><span class=\"toc-item-num\">4&nbsp;&nbsp;</span>Тестирование</a></span></li><li><span><a href=\"#Чек-лист-проверки\" data-toc-modified-id=\"Чек-лист-проверки-5\"><span class=\"toc-item-num\">5&nbsp;&nbsp;</span>Чек-лист проверки</a></span></li></ul></div>"
      ]
    },
    {
      "cell_type": "markdown",
      "metadata": {
        "id": "DBYs_dUprjI5"
      },
      "source": [
        "#  Прогнозирование заказов такси"
      ]
    },
    {
      "cell_type": "markdown",
      "metadata": {
        "id": "vCkVkJnHrjI6"
      },
      "source": [
        "Компания «Чётенькое такси» собрала исторические данные о заказах такси в аэропортах. Чтобы привлекать больше водителей в период пиковой нагрузки, нужно спрогнозировать количество заказов такси на следующий час. Постройте модель для такого предсказания.\n",
        "\n",
        "Значение метрики *RMSE* на тестовой выборке должно быть не больше 48.\n",
        "\n",
        "Вам нужно:\n",
        "\n",
        "1. Загрузить данные и выполнить их ресемплирование по одному часу.\n",
        "2. Проанализировать данные.\n",
        "3. Обучить разные модели с различными гиперпараметрами. Сделать тестовую выборку размером 10% от исходных данных.\n",
        "4. Проверить данные на тестовой выборке и сделать выводы.\n",
        "\n",
        "\n",
        "Данные лежат в файле `taxi.csv`. Количество заказов находится в столбце `num_orders` (от англ. *number of orders*, «число заказов»)."
      ]
    },
    {
      "cell_type": "markdown",
      "metadata": {
        "id": "QthnRYmGrjI6"
      },
      "source": [
        "## Подготовка"
      ]
    },
    {
      "cell_type": "code",
      "execution_count": null,
      "metadata": {
        "id": "fph4O14yrjI6"
      },
      "outputs": [],
      "source": [
        "import pandas as pd\n",
        "from statsmodels.tsa.seasonal import seasonal_decompose\n",
        "from matplotlib import pyplot as plt\n",
        "from sklearn.model_selection import train_test_split\n",
        "from sklearn.ensemble import RandomForestRegressor\n",
        "from sklearn.model_selection import GridSearchCV\n",
        "from sklearn.linear_model import LinearRegression\n",
        "from catboost import CatBoostRegressor\n",
        "from lightgbm import LGBMRegressor\n",
        "from sklearn.metrics import mean_squared_error\n",
        "from sklearn.model_selection import TimeSeriesSplit"
      ]
    },
    {
      "cell_type": "markdown",
      "metadata": {
        "id": "FU3qK4hArjI8"
      },
      "source": [
        "Загрузим и просмотрим исходные данные:"
      ]
    },
    {
      "cell_type": "code",
      "execution_count": null,
      "metadata": {
        "id": "6eDudZp_rjI8"
      },
      "outputs": [],
      "source": [
        "data = pd.read_csv('/datasets/taxi.csv')"
      ]
    },
    {
      "cell_type": "code",
      "execution_count": null,
      "metadata": {
        "id": "_HvMpTpirjI9",
        "outputId": "f991eee5-6049-4158-db6d-aaf61bf8582e"
      },
      "outputs": [
        {
          "data": {
            "text/html": [
              "<div>\n",
              "<style scoped>\n",
              "    .dataframe tbody tr th:only-of-type {\n",
              "        vertical-align: middle;\n",
              "    }\n",
              "\n",
              "    .dataframe tbody tr th {\n",
              "        vertical-align: top;\n",
              "    }\n",
              "\n",
              "    .dataframe thead th {\n",
              "        text-align: right;\n",
              "    }\n",
              "</style>\n",
              "<table border=\"1\" class=\"dataframe\">\n",
              "  <thead>\n",
              "    <tr style=\"text-align: right;\">\n",
              "      <th></th>\n",
              "      <th>datetime</th>\n",
              "      <th>num_orders</th>\n",
              "    </tr>\n",
              "  </thead>\n",
              "  <tbody>\n",
              "    <tr>\n",
              "      <th>0</th>\n",
              "      <td>2018-03-01 00:00:00</td>\n",
              "      <td>9</td>\n",
              "    </tr>\n",
              "    <tr>\n",
              "      <th>1</th>\n",
              "      <td>2018-03-01 00:10:00</td>\n",
              "      <td>14</td>\n",
              "    </tr>\n",
              "    <tr>\n",
              "      <th>2</th>\n",
              "      <td>2018-03-01 00:20:00</td>\n",
              "      <td>28</td>\n",
              "    </tr>\n",
              "    <tr>\n",
              "      <th>3</th>\n",
              "      <td>2018-03-01 00:30:00</td>\n",
              "      <td>20</td>\n",
              "    </tr>\n",
              "    <tr>\n",
              "      <th>4</th>\n",
              "      <td>2018-03-01 00:40:00</td>\n",
              "      <td>32</td>\n",
              "    </tr>\n",
              "  </tbody>\n",
              "</table>\n",
              "</div>"
            ],
            "text/plain": [
              "              datetime  num_orders\n",
              "0  2018-03-01 00:00:00           9\n",
              "1  2018-03-01 00:10:00          14\n",
              "2  2018-03-01 00:20:00          28\n",
              "3  2018-03-01 00:30:00          20\n",
              "4  2018-03-01 00:40:00          32"
            ]
          },
          "execution_count": 35,
          "metadata": {},
          "output_type": "execute_result"
        }
      ],
      "source": [
        "data.head()"
      ]
    },
    {
      "cell_type": "markdown",
      "metadata": {
        "id": "GTFfDnWErjI-"
      },
      "source": [
        "Проверим наличие дубликатов:"
      ]
    },
    {
      "cell_type": "code",
      "execution_count": null,
      "metadata": {
        "id": "5jYb-lFvrjI-",
        "outputId": "be62dee9-5239-44e7-da11-61c77ab0fcb5"
      },
      "outputs": [
        {
          "data": {
            "text/plain": [
              "0"
            ]
          },
          "execution_count": 36,
          "metadata": {},
          "output_type": "execute_result"
        }
      ],
      "source": [
        "data.duplicated().sum()"
      ]
    },
    {
      "cell_type": "markdown",
      "metadata": {
        "id": "n1_517XYrjI-"
      },
      "source": [
        "Изменим тип данных столбца с датой и временем с object на\n",
        "datetime64 и установим его в качестве индекса:"
      ]
    },
    {
      "cell_type": "code",
      "execution_count": null,
      "metadata": {
        "id": "1kYmqOH6rjI-"
      },
      "outputs": [],
      "source": [
        "data = pd.read_csv('/datasets/taxi.csv', index_col=[0], parse_dates=[0])"
      ]
    },
    {
      "cell_type": "code",
      "execution_count": null,
      "metadata": {
        "id": "c7MLiY1urjI-",
        "outputId": "c41264a1-8768-49df-8dfe-2a7661a86d1e"
      },
      "outputs": [
        {
          "data": {
            "text/html": [
              "<div>\n",
              "<style scoped>\n",
              "    .dataframe tbody tr th:only-of-type {\n",
              "        vertical-align: middle;\n",
              "    }\n",
              "\n",
              "    .dataframe tbody tr th {\n",
              "        vertical-align: top;\n",
              "    }\n",
              "\n",
              "    .dataframe thead th {\n",
              "        text-align: right;\n",
              "    }\n",
              "</style>\n",
              "<table border=\"1\" class=\"dataframe\">\n",
              "  <thead>\n",
              "    <tr style=\"text-align: right;\">\n",
              "      <th></th>\n",
              "      <th>num_orders</th>\n",
              "    </tr>\n",
              "    <tr>\n",
              "      <th>datetime</th>\n",
              "      <th></th>\n",
              "    </tr>\n",
              "  </thead>\n",
              "  <tbody>\n",
              "    <tr>\n",
              "      <th>2018-03-01 00:00:00</th>\n",
              "      <td>9</td>\n",
              "    </tr>\n",
              "    <tr>\n",
              "      <th>2018-03-01 00:10:00</th>\n",
              "      <td>14</td>\n",
              "    </tr>\n",
              "    <tr>\n",
              "      <th>2018-03-01 00:20:00</th>\n",
              "      <td>28</td>\n",
              "    </tr>\n",
              "    <tr>\n",
              "      <th>2018-03-01 00:30:00</th>\n",
              "      <td>20</td>\n",
              "    </tr>\n",
              "    <tr>\n",
              "      <th>2018-03-01 00:40:00</th>\n",
              "      <td>32</td>\n",
              "    </tr>\n",
              "  </tbody>\n",
              "</table>\n",
              "</div>"
            ],
            "text/plain": [
              "                     num_orders\n",
              "datetime                       \n",
              "2018-03-01 00:00:00           9\n",
              "2018-03-01 00:10:00          14\n",
              "2018-03-01 00:20:00          28\n",
              "2018-03-01 00:30:00          20\n",
              "2018-03-01 00:40:00          32"
            ]
          },
          "execution_count": 38,
          "metadata": {},
          "output_type": "execute_result"
        }
      ],
      "source": [
        "data.head()"
      ]
    },
    {
      "cell_type": "markdown",
      "metadata": {
        "id": "h7m7QGlhrjI-"
      },
      "source": [
        "Проверим, в хронологическом ли порядке расположены даты и время:"
      ]
    },
    {
      "cell_type": "code",
      "execution_count": null,
      "metadata": {
        "id": "0NaenyWArjI-",
        "outputId": "b717d3f0-e3b8-47a4-86ae-63c99102e17f"
      },
      "outputs": [
        {
          "data": {
            "text/plain": [
              "True"
            ]
          },
          "execution_count": 39,
          "metadata": {},
          "output_type": "execute_result"
        }
      ],
      "source": [
        "data.index.is_monotonic"
      ]
    },
    {
      "cell_type": "code",
      "execution_count": null,
      "metadata": {
        "id": "b08NODPUrjI-",
        "outputId": "839e4c5c-613e-46f3-d345-b29902e70896"
      },
      "outputs": [
        {
          "name": "stdout",
          "output_type": "stream",
          "text": [
            "<class 'pandas.core.frame.DataFrame'>\n",
            "DatetimeIndex: 26496 entries, 2018-03-01 00:00:00 to 2018-08-31 23:50:00\n",
            "Data columns (total 1 columns):\n",
            " #   Column      Non-Null Count  Dtype\n",
            "---  ------      --------------  -----\n",
            " 0   num_orders  26496 non-null  int64\n",
            "dtypes: int64(1)\n",
            "memory usage: 414.0 KB\n"
          ]
        }
      ],
      "source": [
        "data.info()"
      ]
    },
    {
      "cell_type": "markdown",
      "metadata": {
        "id": "EbiXvzs-rjI_"
      },
      "source": [
        "Проверим наличие пропусков:"
      ]
    },
    {
      "cell_type": "code",
      "execution_count": null,
      "metadata": {
        "id": "treYF70IrjI_",
        "outputId": "e10a2627-cc51-4097-a0fe-3b7b72826106"
      },
      "outputs": [
        {
          "data": {
            "text/plain": [
              "num_orders    0\n",
              "dtype: int64"
            ]
          },
          "execution_count": 41,
          "metadata": {},
          "output_type": "execute_result"
        }
      ],
      "source": [
        "data.isna().sum()"
      ]
    },
    {
      "cell_type": "markdown",
      "metadata": {
        "id": "QReMUnoDrjI_"
      },
      "source": [
        "Выполним ресемплирование по одному часу:"
      ]
    },
    {
      "cell_type": "code",
      "execution_count": null,
      "metadata": {
        "id": "WAWM5BXRrjI_"
      },
      "outputs": [],
      "source": [
        "data = data.resample('1H').sum()"
      ]
    },
    {
      "cell_type": "markdown",
      "metadata": {
        "id": "33pCVKtTrjI_"
      },
      "source": [
        "## Анализ"
      ]
    },
    {
      "cell_type": "markdown",
      "metadata": {
        "id": "hnCGvfTprjI_"
      },
      "source": [
        "Разложим временной ряд на три составляющие: тренд, сезонность и остаток и построим соответсвующие графики:"
      ]
    },
    {
      "cell_type": "code",
      "execution_count": null,
      "metadata": {
        "id": "Ts_fhqmrrjI_"
      },
      "outputs": [],
      "source": [
        "decomposed = seasonal_decompose(data)"
      ]
    },
    {
      "cell_type": "code",
      "execution_count": null,
      "metadata": {
        "id": "NgD4w5PrrjJA",
        "outputId": "d7502344-dec3-4355-dcf8-a889cbdfb9a8"
      },
      "outputs": [
        {
          "data": {
            "image/png": "[encoded data removed]",
            "text/plain": [
              "<Figure size 864x864 with 3 Axes>"
            ]
          },
          "metadata": {
            "needs_background": "light"
          },
          "output_type": "display_data"
        }
      ],
      "source": [
        "plt.figure(figsize=(12, 12))\n",
        "plt.subplot(311)\n",
        "\n",
        "decomposed.trend.plot(ax=plt.gca())\n",
        "plt.title('Trend')\n",
        "plt.subplot(312)\n",
        "\n",
        "decomposed.seasonal.plot(ax=plt.gca())\n",
        "plt.title('Seasonality')\n",
        "plt.subplot(313)\n",
        "\n",
        "decomposed.resid.plot(ax=plt.gca())\n",
        "plt.title('Residuals')\n",
        "plt.tight_layout()"
      ]
    },
    {
      "cell_type": "markdown",
      "metadata": {
        "id": "spuddUmhrjJA"
      },
      "source": [
        "График тренда, показывает возрастающий тренд, указывает на то, что число клиентов такси увеличивается со временем. График сезонности, в свою очередь, является мало информативным в представленном виде. Построим также график тренда за последний известный полный день, чтобы увидеть изменение по часам:"
      ]
    },
    {
      "cell_type": "code",
      "execution_count": null,
      "metadata": {
        "id": "Sbzj8nTPrjJA",
        "outputId": "3f967272-b46f-47c9-9f2a-e16813cbcebc"
      },
      "outputs": [
        {
          "data": {
            "text/plain": [
              "Text(0.5, 1.0, 'Trend')"
            ]
          },
          "execution_count": 45,
          "metadata": {},
          "output_type": "execute_result"
        },
        {
          "data": {
            "image/png": "[encoded data removed]",
            "text/plain": [
              "<Figure size 864x432 with 1 Axes>"
            ]
          },
          "metadata": {
            "needs_background": "light"
          },
          "output_type": "display_data"
        }
      ],
      "source": [
        "plt.figure(figsize=(12, 6))\n",
        "\n",
        "decomposed.trend['2018-08-30'].plot(ax=plt.gca())\n",
        "plt.title('Trend')\n"
      ]
    },
    {
      "cell_type": "markdown",
      "metadata": {
        "id": "UCLErkJBrjJA"
      },
      "source": [
        "Наблюдается тенденция к снижению числа заказов такси к середине ночи и резкое увеличение к 6 утра. Посмотрим также на график сезонности за последнюю неделю:"
      ]
    },
    {
      "cell_type": "code",
      "execution_count": null,
      "metadata": {
        "id": "y8qHUTxwrjJA",
        "outputId": "27bcd7ad-8a08-44fd-f7a2-3b97acc88a88"
      },
      "outputs": [
        {
          "data": {
            "text/plain": [
              "Text(0.5, 1.0, 'Seasonality')"
            ]
          },
          "execution_count": 46,
          "metadata": {},
          "output_type": "execute_result"
        },
        {
          "data": {
            "image/png": "[encoded data removed]",
            "text/plain": [
              "<Figure size 864x432 with 1 Axes>"
            ]
          },
          "metadata": {
            "needs_background": "light"
          },
          "output_type": "display_data"
        }
      ],
      "source": [
        "plt.figure(figsize=(12, 6))\n",
        "\n",
        "decomposed.seasonal['2018-08-20':'2018-08-26'].plot(ax=plt.gca())\n",
        "plt.title('Seasonality')"
      ]
    },
    {
      "cell_type": "markdown",
      "metadata": {
        "id": "_kICie_FrjJB"
      },
      "source": [
        "График сезонности такде показывет наличия повторяющегося уменьшение числа заказов в ночное время и увеличение в утренние и вечерние часы."
      ]
    },
    {
      "cell_type": "code",
      "execution_count": null,
      "metadata": {
        "id": "Tm77xQE-rjJB"
      },
      "outputs": [],
      "source": [
        "data_resample_day = data.resample('1D').sum()"
      ]
    },
    {
      "cell_type": "code",
      "execution_count": null,
      "metadata": {
        "id": "l8V6oVCMrjJB"
      },
      "outputs": [],
      "source": [
        "decomposed_rd = seasonal_decompose(data_resample_day)"
      ]
    },
    {
      "cell_type": "code",
      "execution_count": null,
      "metadata": {
        "id": "WrJjQKsdrjJB",
        "outputId": "11def2fa-abf6-4115-aec0-d619dbcd4ef6"
      },
      "outputs": [
        {
          "data": {
            "text/plain": [
              "Text(0.5, 1.0, 'Seasonality')"
            ]
          },
          "execution_count": 49,
          "metadata": {},
          "output_type": "execute_result"
        },
        {
          "data": {
            "image/png": "[encoded data removed]",
            "text/plain": [
              "<Figure size 864x432 with 1 Axes>"
            ]
          },
          "metadata": {
            "needs_background": "light"
          },
          "output_type": "display_data"
        }
      ],
      "source": [
        "plt.figure(figsize=(12, 6))\n",
        "\n",
        "decomposed_rd.seasonal['2018-08-20':'2018-08-26'].plot(ax=plt.gca())\n",
        "plt.title('Seasonality')"
      ]
    },
    {
      "cell_type": "markdown",
      "metadata": {
        "id": "A2albu8lrjJI"
      },
      "source": [
        "<div class=\"alert alert-info\">\n",
        "На данном графике можно заметить максимальное количество заказов такси по понедельникам и пятницам, а минимальное число заказов во вторник. Можно сделать вывод о наличи недельной сезонности\n",
        "</div>"
      ]
    },
    {
      "cell_type": "markdown",
      "metadata": {
        "id": "r3Fdg9_orjJL"
      },
      "source": [
        "## Обучение"
      ]
    },
    {
      "cell_type": "markdown",
      "metadata": {
        "id": "AQ6978NbrjJL"
      },
      "source": [
        "Создадим признаки для горизонта прогнозирования в один шаг.\n",
        "Напишем функцию для создания признаков:"
      ]
    },
    {
      "cell_type": "code",
      "execution_count": null,
      "metadata": {
        "id": "9-jXpBEbrjJL"
      },
      "outputs": [],
      "source": [
        "def make_features(data, max_lag, rolling_mean_size):\n",
        "    #data['year'] = data.index.year\n",
        "    #data['month'] = data.index.month\n",
        "    #data['day'] = data.index.day\n",
        "    data['dayofweek'] = data.index.dayofweek\n",
        "    data['hour'] = data.index.hour\n",
        "\n",
        "    for lag in range(1, max_lag + 1):\n",
        "        data['lag_{}'.format(lag)] = data['num_orders'].shift(lag)\n",
        "\n",
        "    data['rolling_mean'] = data['num_orders'].shift().rolling(rolling_mean_size).mean()"
      ]
    },
    {
      "cell_type": "code",
      "execution_count": null,
      "metadata": {
        "id": "OJyhX5G4rjJM"
      },
      "outputs": [],
      "source": [
        "make_features(data, 140, 15)\n",
        "data = data.dropna()"
      ]
    },
    {
      "cell_type": "code",
      "execution_count": null,
      "metadata": {
        "id": "VhECeH3WrjJN",
        "outputId": "c1359d12-2e1d-40bc-fe73-29c79428bd51"
      },
      "outputs": [
        {
          "data": {
            "text/html": [
              "<div>\n",
              "<style scoped>\n",
              "    .dataframe tbody tr th:only-of-type {\n",
              "        vertical-align: middle;\n",
              "    }\n",
              "\n",
              "    .dataframe tbody tr th {\n",
              "        vertical-align: top;\n",
              "    }\n",
              "\n",
              "    .dataframe thead th {\n",
              "        text-align: right;\n",
              "    }\n",
              "</style>\n",
              "<table border=\"1\" class=\"dataframe\">\n",
              "  <thead>\n",
              "    <tr style=\"text-align: right;\">\n",
              "      <th></th>\n",
              "      <th>num_orders</th>\n",
              "      <th>dayofweek</th>\n",
              "      <th>hour</th>\n",
              "      <th>lag_1</th>\n",
              "      <th>lag_2</th>\n",
              "      <th>lag_3</th>\n",
              "      <th>lag_4</th>\n",
              "      <th>lag_5</th>\n",
              "      <th>lag_6</th>\n",
              "      <th>lag_7</th>\n",
              "      <th>...</th>\n",
              "      <th>lag_132</th>\n",
              "      <th>lag_133</th>\n",
              "      <th>lag_134</th>\n",
              "      <th>lag_135</th>\n",
              "      <th>lag_136</th>\n",
              "      <th>lag_137</th>\n",
              "      <th>lag_138</th>\n",
              "      <th>lag_139</th>\n",
              "      <th>lag_140</th>\n",
              "      <th>rolling_mean</th>\n",
              "    </tr>\n",
              "    <tr>\n",
              "      <th>datetime</th>\n",
              "      <th></th>\n",
              "      <th></th>\n",
              "      <th></th>\n",
              "      <th></th>\n",
              "      <th></th>\n",
              "      <th></th>\n",
              "      <th></th>\n",
              "      <th></th>\n",
              "      <th></th>\n",
              "      <th></th>\n",
              "      <th></th>\n",
              "      <th></th>\n",
              "      <th></th>\n",
              "      <th></th>\n",
              "      <th></th>\n",
              "      <th></th>\n",
              "      <th></th>\n",
              "      <th></th>\n",
              "      <th></th>\n",
              "      <th></th>\n",
              "      <th></th>\n",
              "    </tr>\n",
              "  </thead>\n",
              "  <tbody>\n",
              "    <tr>\n",
              "      <th>2018-03-06 20:00:00</th>\n",
              "      <td>83</td>\n",
              "      <td>1</td>\n",
              "      <td>20</td>\n",
              "      <td>48.0</td>\n",
              "      <td>51.0</td>\n",
              "      <td>52.0</td>\n",
              "      <td>42.0</td>\n",
              "      <td>63.0</td>\n",
              "      <td>40.0</td>\n",
              "      <td>42.0</td>\n",
              "      <td>...</td>\n",
              "      <td>34.0</td>\n",
              "      <td>15.0</td>\n",
              "      <td>12.0</td>\n",
              "      <td>6.0</td>\n",
              "      <td>43.0</td>\n",
              "      <td>66.0</td>\n",
              "      <td>71.0</td>\n",
              "      <td>85.0</td>\n",
              "      <td>124.0</td>\n",
              "      <td>40.533333</td>\n",
              "    </tr>\n",
              "    <tr>\n",
              "      <th>2018-03-06 21:00:00</th>\n",
              "      <td>58</td>\n",
              "      <td>1</td>\n",
              "      <td>21</td>\n",
              "      <td>83.0</td>\n",
              "      <td>48.0</td>\n",
              "      <td>51.0</td>\n",
              "      <td>52.0</td>\n",
              "      <td>42.0</td>\n",
              "      <td>63.0</td>\n",
              "      <td>40.0</td>\n",
              "      <td>...</td>\n",
              "      <td>69.0</td>\n",
              "      <td>34.0</td>\n",
              "      <td>15.0</td>\n",
              "      <td>12.0</td>\n",
              "      <td>6.0</td>\n",
              "      <td>43.0</td>\n",
              "      <td>66.0</td>\n",
              "      <td>71.0</td>\n",
              "      <td>85.0</td>\n",
              "      <td>43.666667</td>\n",
              "    </tr>\n",
              "    <tr>\n",
              "      <th>2018-03-06 22:00:00</th>\n",
              "      <td>81</td>\n",
              "      <td>1</td>\n",
              "      <td>22</td>\n",
              "      <td>58.0</td>\n",
              "      <td>83.0</td>\n",
              "      <td>48.0</td>\n",
              "      <td>51.0</td>\n",
              "      <td>52.0</td>\n",
              "      <td>42.0</td>\n",
              "      <td>63.0</td>\n",
              "      <td>...</td>\n",
              "      <td>64.0</td>\n",
              "      <td>69.0</td>\n",
              "      <td>34.0</td>\n",
              "      <td>15.0</td>\n",
              "      <td>12.0</td>\n",
              "      <td>6.0</td>\n",
              "      <td>43.0</td>\n",
              "      <td>66.0</td>\n",
              "      <td>71.0</td>\n",
              "      <td>47.066667</td>\n",
              "    </tr>\n",
              "    <tr>\n",
              "      <th>2018-03-06 23:00:00</th>\n",
              "      <td>47</td>\n",
              "      <td>1</td>\n",
              "      <td>23</td>\n",
              "      <td>81.0</td>\n",
              "      <td>58.0</td>\n",
              "      <td>83.0</td>\n",
              "      <td>48.0</td>\n",
              "      <td>51.0</td>\n",
              "      <td>52.0</td>\n",
              "      <td>42.0</td>\n",
              "      <td>...</td>\n",
              "      <td>96.0</td>\n",
              "      <td>64.0</td>\n",
              "      <td>69.0</td>\n",
              "      <td>34.0</td>\n",
              "      <td>15.0</td>\n",
              "      <td>12.0</td>\n",
              "      <td>6.0</td>\n",
              "      <td>43.0</td>\n",
              "      <td>66.0</td>\n",
              "      <td>51.800000</td>\n",
              "    </tr>\n",
              "    <tr>\n",
              "      <th>2018-03-07 00:00:00</th>\n",
              "      <td>100</td>\n",
              "      <td>2</td>\n",
              "      <td>0</td>\n",
              "      <td>47.0</td>\n",
              "      <td>81.0</td>\n",
              "      <td>58.0</td>\n",
              "      <td>83.0</td>\n",
              "      <td>48.0</td>\n",
              "      <td>51.0</td>\n",
              "      <td>52.0</td>\n",
              "      <td>...</td>\n",
              "      <td>30.0</td>\n",
              "      <td>96.0</td>\n",
              "      <td>64.0</td>\n",
              "      <td>69.0</td>\n",
              "      <td>34.0</td>\n",
              "      <td>15.0</td>\n",
              "      <td>12.0</td>\n",
              "      <td>6.0</td>\n",
              "      <td>43.0</td>\n",
              "      <td>53.266667</td>\n",
              "    </tr>\n",
              "    <tr>\n",
              "      <th>2018-03-07 01:00:00</th>\n",
              "      <td>121</td>\n",
              "      <td>2</td>\n",
              "      <td>1</td>\n",
              "      <td>100.0</td>\n",
              "      <td>47.0</td>\n",
              "      <td>81.0</td>\n",
              "      <td>58.0</td>\n",
              "      <td>83.0</td>\n",
              "      <td>48.0</td>\n",
              "      <td>51.0</td>\n",
              "      <td>...</td>\n",
              "      <td>32.0</td>\n",
              "      <td>30.0</td>\n",
              "      <td>96.0</td>\n",
              "      <td>64.0</td>\n",
              "      <td>69.0</td>\n",
              "      <td>34.0</td>\n",
              "      <td>15.0</td>\n",
              "      <td>12.0</td>\n",
              "      <td>6.0</td>\n",
              "      <td>56.466667</td>\n",
              "    </tr>\n",
              "    <tr>\n",
              "      <th>2018-03-07 02:00:00</th>\n",
              "      <td>24</td>\n",
              "      <td>2</td>\n",
              "      <td>2</td>\n",
              "      <td>121.0</td>\n",
              "      <td>100.0</td>\n",
              "      <td>47.0</td>\n",
              "      <td>81.0</td>\n",
              "      <td>58.0</td>\n",
              "      <td>83.0</td>\n",
              "      <td>48.0</td>\n",
              "      <td>...</td>\n",
              "      <td>48.0</td>\n",
              "      <td>32.0</td>\n",
              "      <td>30.0</td>\n",
              "      <td>96.0</td>\n",
              "      <td>64.0</td>\n",
              "      <td>69.0</td>\n",
              "      <td>34.0</td>\n",
              "      <td>15.0</td>\n",
              "      <td>12.0</td>\n",
              "      <td>61.133333</td>\n",
              "    </tr>\n",
              "    <tr>\n",
              "      <th>2018-03-07 03:00:00</th>\n",
              "      <td>66</td>\n",
              "      <td>2</td>\n",
              "      <td>3</td>\n",
              "      <td>24.0</td>\n",
              "      <td>121.0</td>\n",
              "      <td>100.0</td>\n",
              "      <td>47.0</td>\n",
              "      <td>81.0</td>\n",
              "      <td>58.0</td>\n",
              "      <td>83.0</td>\n",
              "      <td>...</td>\n",
              "      <td>66.0</td>\n",
              "      <td>48.0</td>\n",
              "      <td>32.0</td>\n",
              "      <td>30.0</td>\n",
              "      <td>96.0</td>\n",
              "      <td>64.0</td>\n",
              "      <td>69.0</td>\n",
              "      <td>34.0</td>\n",
              "      <td>15.0</td>\n",
              "      <td>59.533333</td>\n",
              "    </tr>\n",
              "    <tr>\n",
              "      <th>2018-03-07 04:00:00</th>\n",
              "      <td>73</td>\n",
              "      <td>2</td>\n",
              "      <td>4</td>\n",
              "      <td>66.0</td>\n",
              "      <td>24.0</td>\n",
              "      <td>121.0</td>\n",
              "      <td>100.0</td>\n",
              "      <td>47.0</td>\n",
              "      <td>81.0</td>\n",
              "      <td>58.0</td>\n",
              "      <td>...</td>\n",
              "      <td>43.0</td>\n",
              "      <td>66.0</td>\n",
              "      <td>48.0</td>\n",
              "      <td>32.0</td>\n",
              "      <td>30.0</td>\n",
              "      <td>96.0</td>\n",
              "      <td>64.0</td>\n",
              "      <td>69.0</td>\n",
              "      <td>34.0</td>\n",
              "      <td>61.200000</td>\n",
              "    </tr>\n",
              "    <tr>\n",
              "      <th>2018-03-07 05:00:00</th>\n",
              "      <td>10</td>\n",
              "      <td>2</td>\n",
              "      <td>5</td>\n",
              "      <td>73.0</td>\n",
              "      <td>66.0</td>\n",
              "      <td>24.0</td>\n",
              "      <td>121.0</td>\n",
              "      <td>100.0</td>\n",
              "      <td>47.0</td>\n",
              "      <td>81.0</td>\n",
              "      <td>...</td>\n",
              "      <td>44.0</td>\n",
              "      <td>43.0</td>\n",
              "      <td>66.0</td>\n",
              "      <td>48.0</td>\n",
              "      <td>32.0</td>\n",
              "      <td>30.0</td>\n",
              "      <td>96.0</td>\n",
              "      <td>64.0</td>\n",
              "      <td>69.0</td>\n",
              "      <td>63.266667</td>\n",
              "    </tr>\n",
              "  </tbody>\n",
              "</table>\n",
              "<p>10 rows × 144 columns</p>\n",
              "</div>"
            ],
            "text/plain": [
              "                     num_orders  dayofweek  hour  lag_1  lag_2  lag_3  lag_4  \\\n",
              "datetime                                                                       \n",
              "2018-03-06 20:00:00          83          1    20   48.0   51.0   52.0   42.0   \n",
              "2018-03-06 21:00:00          58          1    21   83.0   48.0   51.0   52.0   \n",
              "2018-03-06 22:00:00          81          1    22   58.0   83.0   48.0   51.0   \n",
              "2018-03-06 23:00:00          47          1    23   81.0   58.0   83.0   48.0   \n",
              "2018-03-07 00:00:00         100          2     0   47.0   81.0   58.0   83.0   \n",
              "2018-03-07 01:00:00         121          2     1  100.0   47.0   81.0   58.0   \n",
              "2018-03-07 02:00:00          24          2     2  121.0  100.0   47.0   81.0   \n",
              "2018-03-07 03:00:00          66          2     3   24.0  121.0  100.0   47.0   \n",
              "2018-03-07 04:00:00          73          2     4   66.0   24.0  121.0  100.0   \n",
              "2018-03-07 05:00:00          10          2     5   73.0   66.0   24.0  121.0   \n",
              "\n",
              "                     lag_5  lag_6  lag_7  ...  lag_132  lag_133  lag_134  \\\n",
              "datetime                                  ...                              \n",
              "2018-03-06 20:00:00   63.0   40.0   42.0  ...     34.0     15.0     12.0   \n",
              "2018-03-06 21:00:00   42.0   63.0   40.0  ...     69.0     34.0     15.0   \n",
              "2018-03-06 22:00:00   52.0   42.0   63.0  ...     64.0     69.0     34.0   \n",
              "2018-03-06 23:00:00   51.0   52.0   42.0  ...     96.0     64.0     69.0   \n",
              "2018-03-07 00:00:00   48.0   51.0   52.0  ...     30.0     96.0     64.0   \n",
              "2018-03-07 01:00:00   83.0   48.0   51.0  ...     32.0     30.0     96.0   \n",
              "2018-03-07 02:00:00   58.0   83.0   48.0  ...     48.0     32.0     30.0   \n",
              "2018-03-07 03:00:00   81.0   58.0   83.0  ...     66.0     48.0     32.0   \n",
              "2018-03-07 04:00:00   47.0   81.0   58.0  ...     43.0     66.0     48.0   \n",
              "2018-03-07 05:00:00  100.0   47.0   81.0  ...     44.0     43.0     66.0   \n",
              "\n",
              "                     lag_135  lag_136  lag_137  lag_138  lag_139  lag_140  \\\n",
              "datetime                                                                    \n",
              "2018-03-06 20:00:00      6.0     43.0     66.0     71.0     85.0    124.0   \n",
              "2018-03-06 21:00:00     12.0      6.0     43.0     66.0     71.0     85.0   \n",
              "2018-03-06 22:00:00     15.0     12.0      6.0     43.0     66.0     71.0   \n",
              "2018-03-06 23:00:00     34.0     15.0     12.0      6.0     43.0     66.0   \n",
              "2018-03-07 00:00:00     69.0     34.0     15.0     12.0      6.0     43.0   \n",
              "2018-03-07 01:00:00     64.0     69.0     34.0     15.0     12.0      6.0   \n",
              "2018-03-07 02:00:00     96.0     64.0     69.0     34.0     15.0     12.0   \n",
              "2018-03-07 03:00:00     30.0     96.0     64.0     69.0     34.0     15.0   \n",
              "2018-03-07 04:00:00     32.0     30.0     96.0     64.0     69.0     34.0   \n",
              "2018-03-07 05:00:00     48.0     32.0     30.0     96.0     64.0     69.0   \n",
              "\n",
              "                     rolling_mean  \n",
              "datetime                           \n",
              "2018-03-06 20:00:00     40.533333  \n",
              "2018-03-06 21:00:00     43.666667  \n",
              "2018-03-06 22:00:00     47.066667  \n",
              "2018-03-06 23:00:00     51.800000  \n",
              "2018-03-07 00:00:00     53.266667  \n",
              "2018-03-07 01:00:00     56.466667  \n",
              "2018-03-07 02:00:00     61.133333  \n",
              "2018-03-07 03:00:00     59.533333  \n",
              "2018-03-07 04:00:00     61.200000  \n",
              "2018-03-07 05:00:00     63.266667  \n",
              "\n",
              "[10 rows x 144 columns]"
            ]
          },
          "execution_count": 55,
          "metadata": {},
          "output_type": "execute_result"
        }
      ],
      "source": [
        "data.head(10)"
      ]
    },
    {
      "cell_type": "markdown",
      "metadata": {
        "id": "7aEZgNzFrjJN"
      },
      "source": [
        "Разделим данные на обучающую и тестовую выборки:"
      ]
    },
    {
      "cell_type": "code",
      "execution_count": null,
      "metadata": {
        "id": "SLjxWtN6rjJO"
      },
      "outputs": [],
      "source": [
        "random_state = 12345"
      ]
    },
    {
      "cell_type": "code",
      "execution_count": null,
      "metadata": {
        "id": "xLdpP4SfrjJO",
        "outputId": "9caee828-172c-43af-e128-d9f75f183b72"
      },
      "outputs": [
        {
          "name": "stdout",
          "output_type": "stream",
          "text": [
            "(4276, 143)\n",
            "(4276,)\n"
          ]
        }
      ],
      "source": [
        "features = data.drop(['num_orders'], axis=1)\n",
        "target = data['num_orders']\n",
        "\n",
        "print(features.shape)\n",
        "print(target.shape)"
      ]
    },
    {
      "cell_type": "code",
      "execution_count": null,
      "metadata": {
        "id": "Kj6cKlcNrjJP",
        "outputId": "0299b8b8-11ae-4602-fb85-beace142c7ad"
      },
      "outputs": [
        {
          "name": "stdout",
          "output_type": "stream",
          "text": [
            "(3848, 143)\n",
            "(3848,)\n",
            "(428, 143)\n",
            "(428,)\n"
          ]
        }
      ],
      "source": [
        "features_train, features_test, target_train, target_test = train_test_split(\n",
        "    features, target,\n",
        "    shuffle=False,\n",
        "    test_size=0.1\n",
        ")\n",
        "\n",
        "print(features_train.shape)\n",
        "print(target_train.shape)\n",
        "\n",
        "print(features_test.shape)\n",
        "print(target_test.shape)"
      ]
    },
    {
      "cell_type": "markdown",
      "metadata": {
        "id": "02vNPG4KrjJP"
      },
      "source": [
        "Подберем гиперпараметры для рассматриваемых моделей:"
      ]
    },
    {
      "cell_type": "markdown",
      "metadata": {
        "id": "qWv3ovxFrjJP"
      },
      "source": [
        "Случайный лес:"
      ]
    },
    {
      "cell_type": "code",
      "execution_count": null,
      "metadata": {
        "id": "fth33aaSrjJP",
        "outputId": "7730543e-aaed-491c-b8fe-d43bbc232f6c"
      },
      "outputs": [
        {
          "name": "stdout",
          "output_type": "stream",
          "text": [
            "Fitting 3 folds for each of 30 candidates, totalling 90 fits\n",
            "{'max_depth': 11, 'n_estimators': 50}\n",
            "CPU times: user 2min 43s, sys: 151 ms, total: 2min 43s\n",
            "Wall time: 2min 43s\n"
          ]
        },
        {
          "data": {
            "text/plain": [
              "-25.523028760454036"
            ]
          },
          "execution_count": 59,
          "metadata": {},
          "output_type": "execute_result"
        }
      ],
      "source": [
        "%%time\n",
        "\n",
        "model_rf = RandomForestRegressor(random_state=random_state)\n",
        "\n",
        "tscv = TimeSeriesSplit(n_splits=3)\n",
        "\n",
        "parameters = {\n",
        "    'n_estimators': range (10, 51, 10),\n",
        "    'max_depth': range (1,13, 2),\n",
        "}\n",
        "\n",
        "grid_rf = GridSearchCV(model_rf, parameters, cv=tscv, scoring='neg_root_mean_squared_error', verbose=True)\n",
        "grid_rf.fit(features_train, target_train)\n",
        "\n",
        "print(grid_rf.best_params_)\n",
        "grid_rf.best_score_"
      ]
    },
    {
      "cell_type": "markdown",
      "metadata": {
        "id": "SZkTkpI9rjJS"
      },
      "source": [
        "CatBoost:"
      ]
    },
    {
      "cell_type": "code",
      "execution_count": null,
      "metadata": {
        "id": "lNbPZuowrjJT",
        "outputId": "a90722f9-a53b-4cc4-fdf9-6a88db30046e"
      },
      "outputs": [
        {
          "name": "stdout",
          "output_type": "stream",
          "text": [
            "Fitting 3 folds for each of 18 candidates, totalling 54 fits\n",
            "0:\tlearn: 28.5866070\ttotal: 2.69ms\tremaining: 266ms\n",
            "10:\tlearn: 23.5660548\ttotal: 26ms\tremaining: 210ms\n",
            "20:\tlearn: 21.1011252\ttotal: 49.5ms\tremaining: 186ms\n",
            "30:\tlearn: 19.8632464\ttotal: 72.6ms\tremaining: 162ms\n",
            "40:\tlearn: 19.1396876\ttotal: 95.6ms\tremaining: 138ms\n",
            "50:\tlearn: 18.6371972\ttotal: 119ms\tremaining: 114ms\n",
            "60:\tlearn: 18.2612286\ttotal: 142ms\tremaining: 90.8ms\n",
            "70:\tlearn: 18.0013864\ttotal: 160ms\tremaining: 65.4ms\n",
            "80:\tlearn: 17.7684716\ttotal: 176ms\tremaining: 41.3ms\n",
            "90:\tlearn: 17.5211193\ttotal: 194ms\tremaining: 19.2ms\n",
            "99:\tlearn: 17.3236538\ttotal: 213ms\tremaining: 0us\n",
            "0:\tlearn: 31.8542619\ttotal: 2.54ms\tremaining: 251ms\n",
            "10:\tlearn: 26.1719651\ttotal: 23.3ms\tremaining: 189ms\n",
            "20:\tlearn: 23.4922990\ttotal: 48.1ms\tremaining: 181ms\n",
            "30:\tlearn: 22.0763629\ttotal: 72ms\tremaining: 160ms\n",
            "40:\tlearn: 21.1152773\ttotal: 96.3ms\tremaining: 139ms\n",
            "50:\tlearn: 20.4867670\ttotal: 116ms\tremaining: 111ms\n",
            "60:\tlearn: 20.0698873\ttotal: 145ms\tremaining: 92.5ms\n",
            "70:\tlearn: 19.7755648\ttotal: 175ms\tremaining: 71.5ms\n",
            "80:\tlearn: 19.5387013\ttotal: 203ms\tremaining: 47.7ms\n",
            "90:\tlearn: 19.3402972\ttotal: 236ms\tremaining: 23.3ms\n",
            "99:\tlearn: 19.1955712\ttotal: 264ms\tremaining: 0us\n",
            "0:\tlearn: 33.0069260\ttotal: 4.12ms\tremaining: 408ms\n",
            "10:\tlearn: 27.0461291\ttotal: 41.5ms\tremaining: 335ms\n",
            "20:\tlearn: 24.2290639\ttotal: 76.1ms\tremaining: 286ms\n",
            "30:\tlearn: 22.7036790\ttotal: 111ms\tremaining: 248ms\n",
            "40:\tlearn: 21.7655339\ttotal: 148ms\tremaining: 212ms\n",
            "50:\tlearn: 21.2176341\ttotal: 182ms\tremaining: 174ms\n",
            "60:\tlearn: 20.8670135\ttotal: 221ms\tremaining: 141ms\n",
            "70:\tlearn: 20.6372629\ttotal: 260ms\tremaining: 106ms\n",
            "80:\tlearn: 20.4544552\ttotal: 296ms\tremaining: 69.4ms\n",
            "90:\tlearn: 20.3027118\ttotal: 329ms\tremaining: 32.6ms\n",
            "99:\tlearn: 20.1851839\ttotal: 354ms\tremaining: 0us\n",
            "0:\tlearn: 28.5866070\ttotal: 1.87ms\tremaining: 373ms\n",
            "10:\tlearn: 23.5660548\ttotal: 22.3ms\tremaining: 384ms\n",
            "20:\tlearn: 21.1011252\ttotal: 39.7ms\tremaining: 338ms\n",
            "30:\tlearn: 19.8632464\ttotal: 62.7ms\tremaining: 342ms\n",
            "40:\tlearn: 19.1396876\ttotal: 88.2ms\tremaining: 342ms\n",
            "50:\tlearn: 18.6371972\ttotal: 111ms\tremaining: 325ms\n",
            "60:\tlearn: 18.2612286\ttotal: 132ms\tremaining: 301ms\n",
            "70:\tlearn: 18.0013864\ttotal: 153ms\tremaining: 278ms\n",
            "80:\tlearn: 17.7684716\ttotal: 173ms\tremaining: 254ms\n",
            "90:\tlearn: 17.5211193\ttotal: 194ms\tremaining: 232ms\n",
            "100:\tlearn: 17.2992974\ttotal: 216ms\tremaining: 211ms\n",
            "110:\tlearn: 17.1321738\ttotal: 231ms\tremaining: 186ms\n",
            "120:\tlearn: 17.0075794\ttotal: 250ms\tremaining: 163ms\n",
            "130:\tlearn: 16.8734415\ttotal: 265ms\tremaining: 140ms\n",
            "140:\tlearn: 16.7160945\ttotal: 284ms\tremaining: 119ms\n",
            "150:\tlearn: 16.5777548\ttotal: 305ms\tremaining: 98.8ms\n",
            "160:\tlearn: 16.4554613\ttotal: 329ms\tremaining: 79.6ms\n",
            "170:\tlearn: 16.3454010\ttotal: 352ms\tremaining: 59.8ms\n",
            "180:\tlearn: 16.2386306\ttotal: 375ms\tremaining: 39.4ms\n",
            "190:\tlearn: 16.1346519\ttotal: 399ms\tremaining: 18.8ms\n",
            "199:\tlearn: 16.0395374\ttotal: 419ms\tremaining: 0us\n",
            "0:\tlearn: 31.8542619\ttotal: 2.26ms\tremaining: 449ms\n",
            "10:\tlearn: 26.1719651\ttotal: 29.5ms\tremaining: 507ms\n",
            "20:\tlearn: 23.4922990\ttotal: 55.5ms\tremaining: 473ms\n",
            "30:\tlearn: 22.0763629\ttotal: 86.6ms\tremaining: 472ms\n",
            "40:\tlearn: 21.1152773\ttotal: 118ms\tremaining: 459ms\n",
            "50:\tlearn: 20.4867670\ttotal: 147ms\tremaining: 430ms\n",
            "60:\tlearn: 20.0698873\ttotal: 174ms\tremaining: 397ms\n",
            "70:\tlearn: 19.7755648\ttotal: 201ms\tremaining: 366ms\n",
            "80:\tlearn: 19.5387013\ttotal: 223ms\tremaining: 328ms\n",
            "90:\tlearn: 19.3402972\ttotal: 242ms\tremaining: 290ms\n",
            "100:\tlearn: 19.1809401\ttotal: 262ms\tremaining: 257ms\n",
            "110:\tlearn: 19.0325491\ttotal: 287ms\tremaining: 230ms\n",
            "120:\tlearn: 18.9044660\ttotal: 320ms\tremaining: 209ms\n",
            "130:\tlearn: 18.7920482\ttotal: 351ms\tremaining: 185ms\n",
            "140:\tlearn: 18.6885948\ttotal: 381ms\tremaining: 159ms\n",
            "150:\tlearn: 18.5911525\ttotal: 404ms\tremaining: 131ms\n",
            "160:\tlearn: 18.4956860\ttotal: 422ms\tremaining: 102ms\n",
            "170:\tlearn: 18.4111853\ttotal: 444ms\tremaining: 75.4ms\n",
            "180:\tlearn: 18.3377714\ttotal: 463ms\tremaining: 48.6ms\n",
            "190:\tlearn: 18.2661807\ttotal: 481ms\tremaining: 22.7ms\n",
            "199:\tlearn: 18.2046858\ttotal: 510ms\tremaining: 0us\n",
            "0:\tlearn: 33.0069260\ttotal: 3.63ms\tremaining: 723ms\n",
            "10:\tlearn: 27.0461291\ttotal: 35.8ms\tremaining: 615ms\n",
            "20:\tlearn: 24.2290639\ttotal: 66.9ms\tremaining: 571ms\n",
            "30:\tlearn: 22.7036790\ttotal: 99.3ms\tremaining: 541ms\n",
            "40:\tlearn: 21.7655339\ttotal: 132ms\tremaining: 511ms\n",
            "50:\tlearn: 21.2176341\ttotal: 154ms\tremaining: 451ms\n",
            "60:\tlearn: 20.8670135\ttotal: 176ms\tremaining: 402ms\n",
            "70:\tlearn: 20.6372629\ttotal: 203ms\tremaining: 369ms\n",
            "80:\tlearn: 20.4544552\ttotal: 236ms\tremaining: 346ms\n",
            "90:\tlearn: 20.3027118\ttotal: 270ms\tremaining: 324ms\n",
            "100:\tlearn: 20.1713088\ttotal: 303ms\tremaining: 297ms\n",
            "110:\tlearn: 20.0589387\ttotal: 328ms\tremaining: 263ms\n",
            "120:\tlearn: 19.9662089\ttotal: 356ms\tremaining: 232ms\n",
            "130:\tlearn: 19.8787491\ttotal: 383ms\tremaining: 202ms\n",
            "140:\tlearn: 19.7980312\ttotal: 405ms\tremaining: 170ms\n",
            "150:\tlearn: 19.7312262\ttotal: 430ms\tremaining: 140ms\n",
            "160:\tlearn: 19.6681844\ttotal: 463ms\tremaining: 112ms\n",
            "170:\tlearn: 19.6033225\ttotal: 491ms\tremaining: 83.3ms\n",
            "180:\tlearn: 19.5377204\ttotal: 518ms\tremaining: 54.3ms\n",
            "190:\tlearn: 19.4831849\ttotal: 543ms\tremaining: 25.6ms\n",
            "199:\tlearn: 19.4377745\ttotal: 562ms\tremaining: 0us\n",
            "0:\tlearn: 28.5866070\ttotal: 3.04ms\tremaining: 909ms\n",
            "10:\tlearn: 23.5660548\ttotal: 28.1ms\tremaining: 739ms\n",
            "20:\tlearn: 21.1011252\ttotal: 53.8ms\tremaining: 715ms\n",
            "30:\tlearn: 19.8632464\ttotal: 74.7ms\tremaining: 648ms\n",
            "40:\tlearn: 19.1396876\ttotal: 94.9ms\tremaining: 599ms\n",
            "50:\tlearn: 18.6371972\ttotal: 116ms\tremaining: 567ms\n",
            "60:\tlearn: 18.2612286\ttotal: 139ms\tremaining: 544ms\n",
            "70:\tlearn: 18.0013864\ttotal: 162ms\tremaining: 524ms\n",
            "80:\tlearn: 17.7684716\ttotal: 182ms\tremaining: 493ms\n",
            "90:\tlearn: 17.5211193\ttotal: 204ms\tremaining: 468ms\n",
            "100:\tlearn: 17.2992974\ttotal: 224ms\tremaining: 442ms\n",
            "110:\tlearn: 17.1321738\ttotal: 245ms\tremaining: 416ms\n",
            "120:\tlearn: 17.0075794\ttotal: 260ms\tremaining: 384ms\n",
            "130:\tlearn: 16.8734415\ttotal: 275ms\tremaining: 355ms\n",
            "140:\tlearn: 16.7160945\ttotal: 297ms\tremaining: 335ms\n",
            "150:\tlearn: 16.5777548\ttotal: 314ms\tremaining: 309ms\n",
            "160:\tlearn: 16.4554613\ttotal: 328ms\tremaining: 283ms\n",
            "170:\tlearn: 16.3454010\ttotal: 343ms\tremaining: 258ms\n",
            "180:\tlearn: 16.2386306\ttotal: 359ms\tremaining: 236ms\n",
            "190:\tlearn: 16.1346519\ttotal: 374ms\tremaining: 213ms\n",
            "200:\tlearn: 16.0251602\ttotal: 389ms\tremaining: 191ms\n",
            "210:\tlearn: 15.9183478\ttotal: 411ms\tremaining: 173ms\n",
            "220:\tlearn: 15.8086322\ttotal: 429ms\tremaining: 153ms\n",
            "230:\tlearn: 15.7023470\ttotal: 444ms\tremaining: 133ms\n",
            "240:\tlearn: 15.6054528\ttotal: 458ms\tremaining: 112ms\n",
            "250:\tlearn: 15.5141958\ttotal: 473ms\tremaining: 92.3ms\n",
            "260:\tlearn: 15.4441889\ttotal: 497ms\tremaining: 74.3ms\n",
            "270:\tlearn: 15.3583956\ttotal: 514ms\tremaining: 55ms\n",
            "280:\tlearn: 15.2642403\ttotal: 530ms\tremaining: 35.8ms\n",
            "290:\tlearn: 15.1775033\ttotal: 551ms\tremaining: 17ms\n",
            "299:\tlearn: 15.0992814\ttotal: 570ms\tremaining: 0us\n",
            "0:\tlearn: 31.8542619\ttotal: 2.12ms\tremaining: 635ms\n",
            "10:\tlearn: 26.1719651\ttotal: 23.2ms\tremaining: 609ms\n",
            "20:\tlearn: 23.4922990\ttotal: 44ms\tremaining: 584ms\n",
            "30:\tlearn: 22.0763629\ttotal: 67.2ms\tremaining: 583ms\n",
            "40:\tlearn: 21.1152773\ttotal: 87.5ms\tremaining: 553ms\n",
            "50:\tlearn: 20.4867670\ttotal: 111ms\tremaining: 540ms\n",
            "60:\tlearn: 20.0698873\ttotal: 135ms\tremaining: 531ms\n",
            "70:\tlearn: 19.7755648\ttotal: 155ms\tremaining: 500ms\n",
            "80:\tlearn: 19.5387013\ttotal: 178ms\tremaining: 482ms\n",
            "90:\tlearn: 19.3402972\ttotal: 199ms\tremaining: 457ms\n",
            "100:\tlearn: 19.1809401\ttotal: 225ms\tremaining: 444ms\n",
            "110:\tlearn: 19.0325491\ttotal: 249ms\tremaining: 424ms\n",
            "120:\tlearn: 18.9044660\ttotal: 273ms\tremaining: 404ms\n",
            "130:\tlearn: 18.7920482\ttotal: 299ms\tremaining: 385ms\n",
            "140:\tlearn: 18.6885948\ttotal: 327ms\tremaining: 369ms\n",
            "150:\tlearn: 18.5911525\ttotal: 356ms\tremaining: 352ms\n",
            "160:\tlearn: 18.4956860\ttotal: 388ms\tremaining: 335ms\n",
            "170:\tlearn: 18.4111853\ttotal: 413ms\tremaining: 312ms\n",
            "180:\tlearn: 18.3377714\ttotal: 432ms\tremaining: 284ms\n",
            "190:\tlearn: 18.2661807\ttotal: 455ms\tremaining: 260ms\n",
            "200:\tlearn: 18.1968665\ttotal: 483ms\tremaining: 238ms\n",
            "210:\tlearn: 18.1320781\ttotal: 511ms\tremaining: 215ms\n",
            "220:\tlearn: 18.0686660\ttotal: 532ms\tremaining: 190ms\n",
            "230:\tlearn: 18.0036346\ttotal: 553ms\tremaining: 165ms\n",
            "240:\tlearn: 17.9463753\ttotal: 573ms\tremaining: 140ms\n",
            "250:\tlearn: 17.8972534\ttotal: 592ms\tremaining: 116ms\n",
            "260:\tlearn: 17.8402559\ttotal: 622ms\tremaining: 93ms\n",
            "270:\tlearn: 17.7817828\ttotal: 649ms\tremaining: 69.4ms\n",
            "280:\tlearn: 17.7254678\ttotal: 668ms\tremaining: 45.2ms\n",
            "290:\tlearn: 17.6788742\ttotal: 694ms\tremaining: 21.5ms\n",
            "299:\tlearn: 17.6443376\ttotal: 711ms\tremaining: 0us\n",
            "0:\tlearn: 33.0069260\ttotal: 2.27ms\tremaining: 679ms\n",
            "10:\tlearn: 27.0461291\ttotal: 26.3ms\tremaining: 692ms\n",
            "20:\tlearn: 24.2290639\ttotal: 50.9ms\tremaining: 676ms\n",
            "30:\tlearn: 22.7036790\ttotal: 73.2ms\tremaining: 635ms\n",
            "40:\tlearn: 21.7655339\ttotal: 95.8ms\tremaining: 605ms\n",
            "50:\tlearn: 21.2176341\ttotal: 123ms\tremaining: 602ms\n",
            "60:\tlearn: 20.8670135\ttotal: 156ms\tremaining: 612ms\n",
            "70:\tlearn: 20.6372629\ttotal: 186ms\tremaining: 601ms\n",
            "80:\tlearn: 20.4544552\ttotal: 221ms\tremaining: 598ms\n",
            "90:\tlearn: 20.3027118\ttotal: 252ms\tremaining: 579ms\n",
            "100:\tlearn: 20.1713088\ttotal: 285ms\tremaining: 562ms\n",
            "110:\tlearn: 20.0589387\ttotal: 317ms\tremaining: 540ms\n",
            "120:\tlearn: 19.9662089\ttotal: 341ms\tremaining: 505ms\n",
            "130:\tlearn: 19.8787491\ttotal: 369ms\tremaining: 476ms\n",
            "140:\tlearn: 19.7980312\ttotal: 392ms\tremaining: 442ms\n",
            "150:\tlearn: 19.7312262\ttotal: 421ms\tremaining: 415ms\n",
            "160:\tlearn: 19.6681844\ttotal: 451ms\tremaining: 389ms\n",
            "170:\tlearn: 19.6033225\ttotal: 478ms\tremaining: 361ms\n",
            "180:\tlearn: 19.5377204\ttotal: 502ms\tremaining: 330ms\n",
            "190:\tlearn: 19.4831849\ttotal: 528ms\tremaining: 302ms\n",
            "200:\tlearn: 19.4322948\ttotal: 550ms\tremaining: 271ms\n",
            "210:\tlearn: 19.3854191\ttotal: 574ms\tremaining: 242ms\n",
            "220:\tlearn: 19.3320807\ttotal: 601ms\tremaining: 215ms\n",
            "230:\tlearn: 19.2832988\ttotal: 623ms\tremaining: 186ms\n",
            "240:\tlearn: 19.2323102\ttotal: 645ms\tremaining: 158ms\n",
            "250:\tlearn: 19.1955881\ttotal: 671ms\tremaining: 131ms\n",
            "260:\tlearn: 19.1506337\ttotal: 695ms\tremaining: 104ms\n",
            "270:\tlearn: 19.1064765\ttotal: 723ms\tremaining: 77.4ms\n",
            "280:\tlearn: 19.0724678\ttotal: 757ms\tremaining: 51.2ms\n",
            "290:\tlearn: 19.0299524\ttotal: 790ms\tremaining: 24.4ms\n",
            "299:\tlearn: 18.9997190\ttotal: 819ms\tremaining: 0us\n",
            "0:\tlearn: 28.1792340\ttotal: 6.55ms\tremaining: 648ms\n",
            "10:\tlearn: 21.4585090\ttotal: 77ms\tremaining: 623ms\n",
            "20:\tlearn: 18.7875746\ttotal: 147ms\tremaining: 554ms\n",
            "30:\tlearn: 17.6832010\ttotal: 213ms\tremaining: 474ms\n",
            "40:\tlearn: 16.8975273\ttotal: 280ms\tremaining: 403ms\n",
            "50:\tlearn: 16.3264908\ttotal: 336ms\tremaining: 322ms\n",
            "60:\tlearn: 15.8140160\ttotal: 381ms\tremaining: 244ms\n",
            "70:\tlearn: 15.3430045\ttotal: 447ms\tremaining: 183ms\n",
            "80:\tlearn: 14.9011722\ttotal: 499ms\tremaining: 117ms\n",
            "90:\tlearn: 14.5485555\ttotal: 564ms\tremaining: 55.7ms\n",
            "99:\tlearn: 14.1790965\ttotal: 618ms\tremaining: 0us\n",
            "0:\tlearn: 31.4441508\ttotal: 6.78ms\tremaining: 671ms\n",
            "10:\tlearn: 23.7515347\ttotal: 78.6ms\tremaining: 636ms\n",
            "20:\tlearn: 20.7173540\ttotal: 145ms\tremaining: 547ms\n",
            "30:\tlearn: 19.5565056\ttotal: 207ms\tremaining: 462ms\n",
            "40:\tlearn: 18.9434421\ttotal: 271ms\tremaining: 389ms\n",
            "50:\tlearn: 18.5362956\ttotal: 336ms\tremaining: 323ms\n",
            "60:\tlearn: 18.1190492\ttotal: 395ms\tremaining: 252ms\n",
            "70:\tlearn: 17.8095998\ttotal: 477ms\tremaining: 195ms\n",
            "80:\tlearn: 17.5242089\ttotal: 558ms\tremaining: 131ms\n",
            "90:\tlearn: 17.1628349\ttotal: 656ms\tremaining: 64.8ms\n",
            "99:\tlearn: 16.8655789\ttotal: 721ms\tremaining: 0us\n",
            "0:\tlearn: 32.5274417\ttotal: 7.41ms\tremaining: 734ms\n",
            "10:\tlearn: 24.2693268\ttotal: 96.1ms\tremaining: 778ms\n",
            "20:\tlearn: 21.5254095\ttotal: 185ms\tremaining: 694ms\n",
            "30:\tlearn: 20.4792938\ttotal: 280ms\tremaining: 623ms\n",
            "40:\tlearn: 19.9760429\ttotal: 353ms\tremaining: 508ms\n",
            "50:\tlearn: 19.6279701\ttotal: 426ms\tremaining: 409ms\n",
            "60:\tlearn: 19.3491407\ttotal: 498ms\tremaining: 318ms\n",
            "70:\tlearn: 19.0781801\ttotal: 566ms\tremaining: 231ms\n",
            "80:\tlearn: 18.8656239\ttotal: 642ms\tremaining: 151ms\n",
            "90:\tlearn: 18.5948057\ttotal: 724ms\tremaining: 71.6ms\n",
            "99:\tlearn: 18.3575148\ttotal: 787ms\tremaining: 0us\n",
            "0:\tlearn: 28.1792340\ttotal: 7.85ms\tremaining: 1.56s\n",
            "10:\tlearn: 21.4585090\ttotal: 72.3ms\tremaining: 1.24s\n",
            "20:\tlearn: 18.7875746\ttotal: 124ms\tremaining: 1.05s\n",
            "30:\tlearn: 17.6832010\ttotal: 187ms\tremaining: 1.02s\n",
            "40:\tlearn: 16.8975273\ttotal: 250ms\tremaining: 969ms\n",
            "50:\tlearn: 16.3264908\ttotal: 309ms\tremaining: 902ms\n",
            "60:\tlearn: 15.8140160\ttotal: 379ms\tremaining: 863ms\n",
            "70:\tlearn: 15.3430045\ttotal: 447ms\tremaining: 813ms\n",
            "80:\tlearn: 14.9011722\ttotal: 511ms\tremaining: 750ms\n",
            "90:\tlearn: 14.5485555\ttotal: 588ms\tremaining: 704ms\n",
            "100:\tlearn: 14.1262589\ttotal: 661ms\tremaining: 648ms\n",
            "110:\tlearn: 13.7737704\ttotal: 715ms\tremaining: 573ms\n",
            "120:\tlearn: 13.3913325\ttotal: 764ms\tremaining: 499ms\n",
            "130:\tlearn: 12.9994606\ttotal: 827ms\tremaining: 436ms\n",
            "140:\tlearn: 12.7145878\ttotal: 893ms\tremaining: 374ms\n",
            "150:\tlearn: 12.3789682\ttotal: 966ms\tremaining: 314ms\n",
            "160:\tlearn: 12.0392319\ttotal: 1.03s\tremaining: 249ms\n",
            "170:\tlearn: 11.7546479\ttotal: 1.09s\tremaining: 185ms\n",
            "180:\tlearn: 11.4920361\ttotal: 1.16s\tremaining: 122ms\n",
            "190:\tlearn: 11.2240306\ttotal: 1.23s\tremaining: 58.1ms\n",
            "199:\tlearn: 11.0301664\ttotal: 1.29s\tremaining: 0us\n",
            "0:\tlearn: 31.4441508\ttotal: 10.7ms\tremaining: 2.13s\n",
            "10:\tlearn: 23.7515347\ttotal: 87.5ms\tremaining: 1.5s\n",
            "20:\tlearn: 20.7173540\ttotal: 152ms\tremaining: 1.29s\n",
            "30:\tlearn: 19.5565056\ttotal: 227ms\tremaining: 1.24s\n",
            "40:\tlearn: 18.9434421\ttotal: 295ms\tremaining: 1.14s\n",
            "50:\tlearn: 18.5362956\ttotal: 361ms\tremaining: 1.05s\n",
            "60:\tlearn: 18.1190492\ttotal: 426ms\tremaining: 971ms\n",
            "70:\tlearn: 17.8095998\ttotal: 489ms\tremaining: 889ms\n",
            "80:\tlearn: 17.5242089\ttotal: 564ms\tremaining: 828ms\n",
            "90:\tlearn: 17.1628349\ttotal: 624ms\tremaining: 748ms\n",
            "100:\tlearn: 16.8185797\ttotal: 686ms\tremaining: 672ms\n",
            "110:\tlearn: 16.5545790\ttotal: 762ms\tremaining: 611ms\n",
            "120:\tlearn: 16.2973190\ttotal: 843ms\tremaining: 550ms\n",
            "130:\tlearn: 16.0617780\ttotal: 924ms\tremaining: 486ms\n",
            "140:\tlearn: 15.7998142\ttotal: 997ms\tremaining: 417ms\n",
            "150:\tlearn: 15.5640007\ttotal: 1.06s\tremaining: 344ms\n",
            "160:\tlearn: 15.3638943\ttotal: 1.12s\tremaining: 271ms\n",
            "170:\tlearn: 15.1591460\ttotal: 1.19s\tremaining: 202ms\n",
            "180:\tlearn: 14.9573112\ttotal: 1.25s\tremaining: 132ms\n",
            "190:\tlearn: 14.7329368\ttotal: 1.32s\tremaining: 62.4ms\n",
            "199:\tlearn: 14.6139302\ttotal: 1.39s\tremaining: 0us\n",
            "0:\tlearn: 32.5274417\ttotal: 8.03ms\tremaining: 1.6s\n",
            "10:\tlearn: 24.2693268\ttotal: 121ms\tremaining: 2.08s\n",
            "20:\tlearn: 21.5254095\ttotal: 221ms\tremaining: 1.89s\n",
            "30:\tlearn: 20.4792938\ttotal: 308ms\tremaining: 1.68s\n",
            "40:\tlearn: 19.9760429\ttotal: 402ms\tremaining: 1.56s\n",
            "50:\tlearn: 19.6279701\ttotal: 479ms\tremaining: 1.4s\n",
            "60:\tlearn: 19.3491407\ttotal: 569ms\tremaining: 1.3s\n",
            "70:\tlearn: 19.0781801\ttotal: 649ms\tremaining: 1.18s\n",
            "80:\tlearn: 18.8656239\ttotal: 727ms\tremaining: 1.07s\n",
            "90:\tlearn: 18.5948057\ttotal: 809ms\tremaining: 969ms\n",
            "100:\tlearn: 18.3298092\ttotal: 882ms\tremaining: 864ms\n",
            "110:\tlearn: 18.1022160\ttotal: 956ms\tremaining: 766ms\n",
            "120:\tlearn: 17.8851078\ttotal: 1.04s\tremaining: 682ms\n",
            "130:\tlearn: 17.7127670\ttotal: 1.11s\tremaining: 588ms\n",
            "140:\tlearn: 17.5284073\ttotal: 1.19s\tremaining: 497ms\n",
            "150:\tlearn: 17.3413999\ttotal: 1.26s\tremaining: 409ms\n",
            "160:\tlearn: 17.1637417\ttotal: 1.33s\tremaining: 321ms\n",
            "170:\tlearn: 17.0032221\ttotal: 1.4s\tremaining: 237ms\n",
            "180:\tlearn: 16.8418059\ttotal: 1.47s\tremaining: 155ms\n",
            "190:\tlearn: 16.6531780\ttotal: 1.56s\tremaining: 73.5ms\n",
            "199:\tlearn: 16.5285498\ttotal: 1.64s\tremaining: 0us\n",
            "0:\tlearn: 28.1792340\ttotal: 6.73ms\tremaining: 2.01s\n",
            "10:\tlearn: 21.4585090\ttotal: 79ms\tremaining: 2.08s\n",
            "20:\tlearn: 18.7875746\ttotal: 141ms\tremaining: 1.87s\n",
            "30:\tlearn: 17.6832010\ttotal: 216ms\tremaining: 1.87s\n",
            "40:\tlearn: 16.8975273\ttotal: 292ms\tremaining: 1.84s\n",
            "50:\tlearn: 16.3264908\ttotal: 361ms\tremaining: 1.76s\n",
            "60:\tlearn: 15.8140160\ttotal: 438ms\tremaining: 1.72s\n",
            "70:\tlearn: 15.3430045\ttotal: 502ms\tremaining: 1.62s\n",
            "80:\tlearn: 14.9011722\ttotal: 556ms\tremaining: 1.5s\n",
            "90:\tlearn: 14.5485555\ttotal: 610ms\tremaining: 1.4s\n",
            "100:\tlearn: 14.1262589\ttotal: 666ms\tremaining: 1.31s\n",
            "110:\tlearn: 13.7737704\ttotal: 727ms\tremaining: 1.24s\n",
            "120:\tlearn: 13.3913325\ttotal: 785ms\tremaining: 1.16s\n",
            "130:\tlearn: 12.9994606\ttotal: 849ms\tremaining: 1.09s\n",
            "140:\tlearn: 12.7145878\ttotal: 905ms\tremaining: 1.02s\n",
            "150:\tlearn: 12.3789682\ttotal: 957ms\tremaining: 945ms\n",
            "160:\tlearn: 12.0392319\ttotal: 1.02s\tremaining: 882ms\n",
            "170:\tlearn: 11.7546479\ttotal: 1.08s\tremaining: 815ms\n",
            "180:\tlearn: 11.4920361\ttotal: 1.15s\tremaining: 755ms\n",
            "190:\tlearn: 11.2240306\ttotal: 1.21s\tremaining: 688ms\n",
            "200:\tlearn: 11.0064901\ttotal: 1.26s\tremaining: 621ms\n",
            "210:\tlearn: 10.8294081\ttotal: 1.31s\tremaining: 554ms\n",
            "220:\tlearn: 10.6243941\ttotal: 1.37s\tremaining: 490ms\n",
            "230:\tlearn: 10.3920304\ttotal: 1.43s\tremaining: 428ms\n",
            "240:\tlearn: 10.1798640\ttotal: 1.49s\tremaining: 365ms\n",
            "250:\tlearn: 9.9783583\ttotal: 1.55s\tremaining: 302ms\n",
            "260:\tlearn: 9.7755341\ttotal: 1.62s\tremaining: 242ms\n",
            "270:\tlearn: 9.6298358\ttotal: 1.68s\tremaining: 180ms\n",
            "280:\tlearn: 9.4604005\ttotal: 1.74s\tremaining: 117ms\n",
            "290:\tlearn: 9.2749515\ttotal: 1.8s\tremaining: 55.7ms\n",
            "299:\tlearn: 9.1493579\ttotal: 1.85s\tremaining: 0us\n",
            "0:\tlearn: 31.4441508\ttotal: 6.93ms\tremaining: 2.07s\n",
            "10:\tlearn: 23.7515347\ttotal: 90.6ms\tremaining: 2.38s\n",
            "20:\tlearn: 20.7173540\ttotal: 190ms\tremaining: 2.53s\n",
            "30:\tlearn: 19.5565056\ttotal: 282ms\tremaining: 2.45s\n",
            "40:\tlearn: 18.9434421\ttotal: 351ms\tremaining: 2.21s\n",
            "50:\tlearn: 18.5362956\ttotal: 425ms\tremaining: 2.08s\n",
            "60:\tlearn: 18.1190492\ttotal: 510ms\tremaining: 2s\n",
            "70:\tlearn: 17.8095998\ttotal: 581ms\tremaining: 1.87s\n",
            "80:\tlearn: 17.5242089\ttotal: 661ms\tremaining: 1.79s\n",
            "90:\tlearn: 17.1628349\ttotal: 758ms\tremaining: 1.74s\n",
            "100:\tlearn: 16.8185797\ttotal: 849ms\tremaining: 1.67s\n",
            "110:\tlearn: 16.5545790\ttotal: 933ms\tremaining: 1.59s\n",
            "120:\tlearn: 16.2973190\ttotal: 1.02s\tremaining: 1.51s\n",
            "130:\tlearn: 16.0617780\ttotal: 1.1s\tremaining: 1.41s\n",
            "140:\tlearn: 15.7998142\ttotal: 1.17s\tremaining: 1.32s\n",
            "150:\tlearn: 15.5640007\ttotal: 1.24s\tremaining: 1.23s\n",
            "160:\tlearn: 15.3638943\ttotal: 1.31s\tremaining: 1.13s\n",
            "170:\tlearn: 15.1591460\ttotal: 1.39s\tremaining: 1.04s\n",
            "180:\tlearn: 14.9573112\ttotal: 1.45s\tremaining: 956ms\n",
            "190:\tlearn: 14.7329368\ttotal: 1.52s\tremaining: 866ms\n",
            "200:\tlearn: 14.5899958\ttotal: 1.6s\tremaining: 789ms\n",
            "210:\tlearn: 14.4246890\ttotal: 1.67s\tremaining: 705ms\n",
            "220:\tlearn: 14.2637349\ttotal: 1.75s\tremaining: 628ms\n",
            "230:\tlearn: 14.1375828\ttotal: 1.85s\tremaining: 552ms\n",
            "240:\tlearn: 13.9578634\ttotal: 1.94s\tremaining: 474ms\n",
            "250:\tlearn: 13.8119046\ttotal: 2.01s\tremaining: 393ms\n",
            "260:\tlearn: 13.6188021\ttotal: 2.1s\tremaining: 314ms\n",
            "270:\tlearn: 13.4828982\ttotal: 2.18s\tremaining: 233ms\n",
            "280:\tlearn: 13.3603836\ttotal: 2.27s\tremaining: 154ms\n",
            "290:\tlearn: 13.2422179\ttotal: 2.34s\tremaining: 72.4ms\n",
            "299:\tlearn: 13.1135724\ttotal: 2.4s\tremaining: 0us\n",
            "0:\tlearn: 32.5274417\ttotal: 12.5ms\tremaining: 3.73s\n",
            "10:\tlearn: 24.2693268\ttotal: 84.6ms\tremaining: 2.22s\n",
            "20:\tlearn: 21.5254095\ttotal: 156ms\tremaining: 2.07s\n",
            "30:\tlearn: 20.4792938\ttotal: 226ms\tremaining: 1.96s\n",
            "40:\tlearn: 19.9760429\ttotal: 310ms\tremaining: 1.96s\n",
            "50:\tlearn: 19.6279701\ttotal: 395ms\tremaining: 1.93s\n",
            "60:\tlearn: 19.3491407\ttotal: 497ms\tremaining: 1.95s\n",
            "70:\tlearn: 19.0781801\ttotal: 594ms\tremaining: 1.91s\n",
            "80:\tlearn: 18.8656239\ttotal: 670ms\tremaining: 1.81s\n",
            "90:\tlearn: 18.5948057\ttotal: 747ms\tremaining: 1.72s\n",
            "100:\tlearn: 18.3298092\ttotal: 825ms\tremaining: 1.62s\n",
            "110:\tlearn: 18.1022160\ttotal: 914ms\tremaining: 1.56s\n",
            "120:\tlearn: 17.8851078\ttotal: 1.01s\tremaining: 1.5s\n",
            "130:\tlearn: 17.7127670\ttotal: 1.11s\tremaining: 1.44s\n",
            "140:\tlearn: 17.5284073\ttotal: 1.2s\tremaining: 1.35s\n",
            "150:\tlearn: 17.3413999\ttotal: 1.29s\tremaining: 1.27s\n",
            "160:\tlearn: 17.1637417\ttotal: 1.38s\tremaining: 1.19s\n",
            "170:\tlearn: 17.0032221\ttotal: 1.48s\tremaining: 1.11s\n",
            "180:\tlearn: 16.8418059\ttotal: 1.56s\tremaining: 1.02s\n",
            "190:\tlearn: 16.6531780\ttotal: 1.63s\tremaining: 930ms\n",
            "200:\tlearn: 16.4979185\ttotal: 1.7s\tremaining: 838ms\n",
            "210:\tlearn: 16.3355434\ttotal: 1.8s\tremaining: 758ms\n",
            "220:\tlearn: 16.1857291\ttotal: 1.89s\tremaining: 676ms\n",
            "230:\tlearn: 16.0412815\ttotal: 1.96s\tremaining: 584ms\n",
            "240:\tlearn: 15.9195171\ttotal: 2.04s\tremaining: 499ms\n",
            "250:\tlearn: 15.7897237\ttotal: 2.13s\tremaining: 415ms\n",
            "260:\tlearn: 15.6816264\ttotal: 2.19s\tremaining: 328ms\n",
            "270:\tlearn: 15.5305474\ttotal: 2.28s\tremaining: 244ms\n",
            "280:\tlearn: 15.3906752\ttotal: 2.37s\tremaining: 160ms\n",
            "290:\tlearn: 15.2344789\ttotal: 2.45s\tremaining: 75.8ms\n",
            "299:\tlearn: 15.1115106\ttotal: 2.54s\tremaining: 0us\n",
            "0:\tlearn: 28.0410138\ttotal: 13.1ms\tremaining: 1.29s\n",
            "10:\tlearn: 20.6948205\ttotal: 142ms\tremaining: 1.15s\n",
            "20:\tlearn: 17.8229273\ttotal: 288ms\tremaining: 1.08s\n",
            "30:\tlearn: 16.4780625\ttotal: 421ms\tremaining: 938ms\n",
            "40:\tlearn: 15.5785984\ttotal: 585ms\tremaining: 842ms\n",
            "50:\tlearn: 14.8810252\ttotal: 722ms\tremaining: 694ms\n",
            "60:\tlearn: 14.2572475\ttotal: 865ms\tremaining: 553ms\n",
            "70:\tlearn: 13.6024078\ttotal: 1.06s\tremaining: 432ms\n",
            "80:\tlearn: 13.0249036\ttotal: 1.22s\tremaining: 287ms\n",
            "90:\tlearn: 12.4405132\ttotal: 1.37s\tremaining: 136ms\n",
            "99:\tlearn: 11.9441576\ttotal: 1.49s\tremaining: 0us\n",
            "0:\tlearn: 31.3176981\ttotal: 25.8ms\tremaining: 2.56s\n",
            "10:\tlearn: 22.6870377\ttotal: 264ms\tremaining: 2.13s\n",
            "20:\tlearn: 19.7181157\ttotal: 429ms\tremaining: 1.61s\n",
            "30:\tlearn: 18.5594166\ttotal: 617ms\tremaining: 1.37s\n",
            "40:\tlearn: 17.8275587\ttotal: 779ms\tremaining: 1.12s\n",
            "50:\tlearn: 17.2576974\ttotal: 974ms\tremaining: 936ms\n",
            "60:\tlearn: 16.7969272\ttotal: 1.13s\tremaining: 722ms\n",
            "70:\tlearn: 16.3577875\ttotal: 1.29s\tremaining: 527ms\n",
            "80:\tlearn: 15.9749763\ttotal: 1.46s\tremaining: 343ms\n",
            "90:\tlearn: 15.4484665\ttotal: 1.63s\tremaining: 161ms\n",
            "99:\tlearn: 15.0152311\ttotal: 1.79s\tremaining: 0us\n",
            "0:\tlearn: 32.4381549\ttotal: 28.7ms\tremaining: 2.84s\n",
            "10:\tlearn: 23.7083019\ttotal: 296ms\tremaining: 2.39s\n",
            "20:\tlearn: 20.8180684\ttotal: 539ms\tremaining: 2.03s\n",
            "30:\tlearn: 19.7252266\ttotal: 803ms\tremaining: 1.79s\n",
            "40:\tlearn: 18.9779707\ttotal: 1.03s\tremaining: 1.49s\n",
            "50:\tlearn: 18.5081273\ttotal: 1.21s\tremaining: 1.17s\n",
            "60:\tlearn: 18.0837633\ttotal: 1.44s\tremaining: 923ms\n",
            "70:\tlearn: 17.6962817\ttotal: 1.67s\tremaining: 682ms\n",
            "80:\tlearn: 17.3473052\ttotal: 1.85s\tremaining: 435ms\n",
            "90:\tlearn: 16.9921917\ttotal: 2.06s\tremaining: 204ms\n",
            "99:\tlearn: 16.7279266\ttotal: 2.24s\tremaining: 0us\n",
            "0:\tlearn: 28.0410138\ttotal: 19ms\tremaining: 3.78s\n",
            "10:\tlearn: 20.6948205\ttotal: 151ms\tremaining: 2.6s\n",
            "20:\tlearn: 17.8229273\ttotal: 314ms\tremaining: 2.68s\n",
            "30:\tlearn: 16.4780625\ttotal: 446ms\tremaining: 2.43s\n",
            "40:\tlearn: 15.5785984\ttotal: 594ms\tremaining: 2.3s\n",
            "50:\tlearn: 14.8810252\ttotal: 726ms\tremaining: 2.12s\n",
            "60:\tlearn: 14.2572475\ttotal: 864ms\tremaining: 1.97s\n",
            "70:\tlearn: 13.6024078\ttotal: 1s\tremaining: 1.82s\n",
            "80:\tlearn: 13.0249036\ttotal: 1.13s\tremaining: 1.66s\n",
            "90:\tlearn: 12.4405132\ttotal: 1.26s\tremaining: 1.51s\n",
            "100:\tlearn: 11.8541544\ttotal: 1.38s\tremaining: 1.35s\n",
            "110:\tlearn: 11.2449583\ttotal: 1.52s\tremaining: 1.22s\n",
            "120:\tlearn: 10.7469076\ttotal: 1.64s\tremaining: 1.07s\n",
            "130:\tlearn: 10.2602131\ttotal: 1.77s\tremaining: 931ms\n",
            "140:\tlearn: 9.8178531\ttotal: 1.92s\tremaining: 803ms\n",
            "150:\tlearn: 9.4044013\ttotal: 2.08s\tremaining: 675ms\n",
            "160:\tlearn: 9.0404088\ttotal: 2.22s\tremaining: 538ms\n",
            "170:\tlearn: 8.6230297\ttotal: 2.36s\tremaining: 400ms\n",
            "180:\tlearn: 8.2159559\ttotal: 2.5s\tremaining: 262ms\n",
            "190:\tlearn: 7.9471077\ttotal: 2.62s\tremaining: 124ms\n",
            "199:\tlearn: 7.7252405\ttotal: 2.75s\tremaining: 0us\n",
            "0:\tlearn: 31.3176981\ttotal: 16.9ms\tremaining: 3.35s\n",
            "10:\tlearn: 22.6870377\ttotal: 185ms\tremaining: 3.19s\n",
            "20:\tlearn: 19.7181157\ttotal: 365ms\tremaining: 3.11s\n",
            "30:\tlearn: 18.5594166\ttotal: 547ms\tremaining: 2.98s\n",
            "40:\tlearn: 17.8275587\ttotal: 702ms\tremaining: 2.72s\n",
            "50:\tlearn: 17.2576974\ttotal: 864ms\tremaining: 2.52s\n",
            "60:\tlearn: 16.7969272\ttotal: 1.02s\tremaining: 2.32s\n",
            "70:\tlearn: 16.3577875\ttotal: 1.17s\tremaining: 2.12s\n",
            "80:\tlearn: 15.9749763\ttotal: 1.32s\tremaining: 1.94s\n",
            "90:\tlearn: 15.4484665\ttotal: 1.48s\tremaining: 1.78s\n",
            "100:\tlearn: 14.9672155\ttotal: 1.68s\tremaining: 1.64s\n",
            "110:\tlearn: 14.5071295\ttotal: 1.82s\tremaining: 1.46s\n",
            "120:\tlearn: 14.0827227\ttotal: 1.99s\tremaining: 1.3s\n",
            "130:\tlearn: 13.6576101\ttotal: 2.14s\tremaining: 1.13s\n",
            "140:\tlearn: 13.3246532\ttotal: 2.3s\tremaining: 963ms\n",
            "150:\tlearn: 13.0242222\ttotal: 2.47s\tremaining: 802ms\n",
            "160:\tlearn: 12.6340947\ttotal: 2.63s\tremaining: 638ms\n",
            "170:\tlearn: 12.3320107\ttotal: 2.79s\tremaining: 473ms\n",
            "180:\tlearn: 12.0313255\ttotal: 2.94s\tremaining: 309ms\n",
            "190:\tlearn: 11.7332585\ttotal: 3.11s\tremaining: 147ms\n",
            "199:\tlearn: 11.4749416\ttotal: 3.3s\tremaining: 0us\n",
            "0:\tlearn: 32.4381549\ttotal: 24.7ms\tremaining: 4.91s\n",
            "10:\tlearn: 23.7083019\ttotal: 225ms\tremaining: 3.86s\n",
            "20:\tlearn: 20.8180684\ttotal: 404ms\tremaining: 3.44s\n",
            "30:\tlearn: 19.7252266\ttotal: 578ms\tremaining: 3.15s\n",
            "40:\tlearn: 18.9779707\ttotal: 768ms\tremaining: 2.98s\n",
            "50:\tlearn: 18.5081273\ttotal: 979ms\tremaining: 2.86s\n",
            "60:\tlearn: 18.0837633\ttotal: 1.25s\tremaining: 2.84s\n",
            "70:\tlearn: 17.6962817\ttotal: 1.43s\tremaining: 2.6s\n",
            "80:\tlearn: 17.3473052\ttotal: 1.63s\tremaining: 2.39s\n",
            "90:\tlearn: 16.9921917\ttotal: 1.8s\tremaining: 2.15s\n",
            "100:\tlearn: 16.6988669\ttotal: 1.99s\tremaining: 1.95s\n",
            "110:\tlearn: 16.3787777\ttotal: 2.18s\tremaining: 1.75s\n",
            "120:\tlearn: 16.0837396\ttotal: 2.38s\tremaining: 1.56s\n",
            "130:\tlearn: 15.7111836\ttotal: 2.57s\tremaining: 1.35s\n",
            "140:\tlearn: 15.3932567\ttotal: 2.76s\tremaining: 1.15s\n",
            "150:\tlearn: 15.1192291\ttotal: 2.96s\tremaining: 960ms\n",
            "160:\tlearn: 14.8269488\ttotal: 3.14s\tremaining: 760ms\n",
            "170:\tlearn: 14.5364513\ttotal: 3.33s\tremaining: 565ms\n",
            "180:\tlearn: 14.3139541\ttotal: 3.56s\tremaining: 373ms\n",
            "190:\tlearn: 14.0500665\ttotal: 3.75s\tremaining: 177ms\n",
            "199:\tlearn: 13.8571894\ttotal: 3.94s\tremaining: 0us\n",
            "0:\tlearn: 28.0410138\ttotal: 13.3ms\tremaining: 3.98s\n",
            "10:\tlearn: 20.6948205\ttotal: 146ms\tremaining: 3.84s\n",
            "20:\tlearn: 17.8229273\ttotal: 293ms\tremaining: 3.89s\n",
            "30:\tlearn: 16.4780625\ttotal: 428ms\tremaining: 3.72s\n",
            "40:\tlearn: 15.5785984\ttotal: 567ms\tremaining: 3.58s\n",
            "50:\tlearn: 14.8810252\ttotal: 715ms\tremaining: 3.49s\n",
            "60:\tlearn: 14.2572475\ttotal: 862ms\tremaining: 3.38s\n",
            "70:\tlearn: 13.6024078\ttotal: 1.02s\tremaining: 3.3s\n",
            "80:\tlearn: 13.0249036\ttotal: 1.17s\tremaining: 3.15s\n",
            "90:\tlearn: 12.4405132\ttotal: 1.31s\tremaining: 3.01s\n",
            "100:\tlearn: 11.8541544\ttotal: 1.47s\tremaining: 2.9s\n",
            "110:\tlearn: 11.2449583\ttotal: 1.61s\tremaining: 2.74s\n",
            "120:\tlearn: 10.7469076\ttotal: 1.75s\tremaining: 2.59s\n",
            "130:\tlearn: 10.2602131\ttotal: 1.89s\tremaining: 2.43s\n",
            "140:\tlearn: 9.8178531\ttotal: 2.03s\tremaining: 2.29s\n",
            "150:\tlearn: 9.4044013\ttotal: 2.16s\tremaining: 2.13s\n",
            "160:\tlearn: 9.0404088\ttotal: 2.3s\tremaining: 1.99s\n",
            "170:\tlearn: 8.6230297\ttotal: 2.43s\tremaining: 1.83s\n",
            "180:\tlearn: 8.2159559\ttotal: 2.57s\tremaining: 1.69s\n",
            "190:\tlearn: 7.9471077\ttotal: 2.69s\tremaining: 1.54s\n",
            "200:\tlearn: 7.6726216\ttotal: 2.82s\tremaining: 1.39s\n",
            "210:\tlearn: 7.3847442\ttotal: 2.95s\tremaining: 1.25s\n",
            "220:\tlearn: 7.1543926\ttotal: 3.08s\tremaining: 1.1s\n",
            "230:\tlearn: 6.9123969\ttotal: 3.2s\tremaining: 957ms\n",
            "240:\tlearn: 6.6298182\ttotal: 3.36s\tremaining: 823ms\n",
            "250:\tlearn: 6.3593318\ttotal: 3.48s\tremaining: 681ms\n",
            "260:\tlearn: 6.1274576\ttotal: 3.61s\tremaining: 539ms\n",
            "270:\tlearn: 5.9207838\ttotal: 3.75s\tremaining: 401ms\n",
            "280:\tlearn: 5.7279152\ttotal: 3.92s\tremaining: 265ms\n",
            "290:\tlearn: 5.5565049\ttotal: 4.09s\tremaining: 127ms\n",
            "299:\tlearn: 5.3200484\ttotal: 4.22s\tremaining: 0us\n",
            "0:\tlearn: 31.3176981\ttotal: 20.6ms\tremaining: 6.15s\n",
            "10:\tlearn: 22.6870377\ttotal: 176ms\tremaining: 4.63s\n",
            "20:\tlearn: 19.7181157\ttotal: 343ms\tremaining: 4.55s\n",
            "30:\tlearn: 18.5594166\ttotal: 531ms\tremaining: 4.61s\n",
            "40:\tlearn: 17.8275587\ttotal: 696ms\tremaining: 4.4s\n",
            "50:\tlearn: 17.2576974\ttotal: 846ms\tremaining: 4.13s\n",
            "60:\tlearn: 16.7969272\ttotal: 1.01s\tremaining: 3.95s\n",
            "70:\tlearn: 16.3577875\ttotal: 1.19s\tremaining: 3.84s\n",
            "80:\tlearn: 15.9749763\ttotal: 1.34s\tremaining: 3.63s\n",
            "90:\tlearn: 15.4484665\ttotal: 1.5s\tremaining: 3.45s\n",
            "100:\tlearn: 14.9672155\ttotal: 1.65s\tremaining: 3.26s\n",
            "110:\tlearn: 14.5071295\ttotal: 1.8s\tremaining: 3.07s\n",
            "120:\tlearn: 14.0827227\ttotal: 1.98s\tremaining: 2.93s\n",
            "130:\tlearn: 13.6576101\ttotal: 2.2s\tremaining: 2.84s\n",
            "140:\tlearn: 13.3246532\ttotal: 2.39s\tremaining: 2.69s\n",
            "150:\tlearn: 13.0242222\ttotal: 2.58s\tremaining: 2.55s\n",
            "160:\tlearn: 12.6340947\ttotal: 2.73s\tremaining: 2.36s\n",
            "170:\tlearn: 12.3320107\ttotal: 2.89s\tremaining: 2.18s\n",
            "180:\tlearn: 12.0313255\ttotal: 3.05s\tremaining: 2s\n",
            "190:\tlearn: 11.7332585\ttotal: 3.21s\tremaining: 1.83s\n",
            "200:\tlearn: 11.4393777\ttotal: 3.39s\tremaining: 1.67s\n",
            "210:\tlearn: 11.1771051\ttotal: 3.54s\tremaining: 1.5s\n",
            "220:\tlearn: 10.8891994\ttotal: 3.7s\tremaining: 1.32s\n",
            "230:\tlearn: 10.6850638\ttotal: 3.88s\tremaining: 1.16s\n",
            "240:\tlearn: 10.3849439\ttotal: 4.05s\tremaining: 991ms\n",
            "250:\tlearn: 10.1251101\ttotal: 4.22s\tremaining: 825ms\n",
            "260:\tlearn: 9.9245181\ttotal: 4.38s\tremaining: 654ms\n",
            "270:\tlearn: 9.6633597\ttotal: 4.54s\tremaining: 486ms\n",
            "280:\tlearn: 9.4812882\ttotal: 4.72s\tremaining: 319ms\n",
            "290:\tlearn: 9.2988841\ttotal: 4.89s\tremaining: 151ms\n",
            "299:\tlearn: 9.1254691\ttotal: 5.07s\tremaining: 0us\n",
            "0:\tlearn: 32.4381549\ttotal: 18.5ms\tremaining: 5.53s\n",
            "10:\tlearn: 23.7083019\ttotal: 202ms\tremaining: 5.3s\n",
            "20:\tlearn: 20.8180684\ttotal: 396ms\tremaining: 5.26s\n",
            "30:\tlearn: 19.7252266\ttotal: 579ms\tremaining: 5.03s\n",
            "40:\tlearn: 18.9779707\ttotal: 768ms\tremaining: 4.85s\n",
            "50:\tlearn: 18.5081273\ttotal: 966ms\tremaining: 4.72s\n",
            "60:\tlearn: 18.0837633\ttotal: 1.15s\tremaining: 4.5s\n",
            "70:\tlearn: 17.6962817\ttotal: 1.36s\tremaining: 4.38s\n",
            "80:\tlearn: 17.3473052\ttotal: 1.6s\tremaining: 4.32s\n",
            "90:\tlearn: 16.9921917\ttotal: 1.81s\tremaining: 4.16s\n",
            "100:\tlearn: 16.6988669\ttotal: 2.05s\tremaining: 4.04s\n",
            "110:\tlearn: 16.3787777\ttotal: 2.26s\tremaining: 3.85s\n",
            "120:\tlearn: 16.0837396\ttotal: 2.45s\tremaining: 3.63s\n",
            "130:\tlearn: 15.7111836\ttotal: 2.64s\tremaining: 3.41s\n",
            "140:\tlearn: 15.3932567\ttotal: 2.84s\tremaining: 3.21s\n",
            "150:\tlearn: 15.1192291\ttotal: 3.02s\tremaining: 2.98s\n",
            "160:\tlearn: 14.8269488\ttotal: 3.21s\tremaining: 2.77s\n",
            "170:\tlearn: 14.5364513\ttotal: 3.44s\tremaining: 2.6s\n",
            "180:\tlearn: 14.3139541\ttotal: 3.63s\tremaining: 2.39s\n",
            "190:\tlearn: 14.0500665\ttotal: 3.87s\tremaining: 2.21s\n",
            "200:\tlearn: 13.8362811\ttotal: 4.07s\tremaining: 2s\n",
            "210:\tlearn: 13.6111435\ttotal: 4.26s\tremaining: 1.8s\n",
            "220:\tlearn: 13.4179020\ttotal: 4.45s\tremaining: 1.59s\n",
            "230:\tlearn: 13.2119132\ttotal: 4.64s\tremaining: 1.39s\n",
            "240:\tlearn: 13.0324891\ttotal: 4.82s\tremaining: 1.18s\n",
            "250:\tlearn: 12.8029702\ttotal: 4.99s\tremaining: 974ms\n",
            "260:\tlearn: 12.6179207\ttotal: 5.15s\tremaining: 770ms\n",
            "270:\tlearn: 12.4152862\ttotal: 5.32s\tremaining: 569ms\n",
            "280:\tlearn: 12.2314045\ttotal: 5.49s\tremaining: 371ms\n",
            "290:\tlearn: 12.0542551\ttotal: 5.67s\tremaining: 175ms\n",
            "299:\tlearn: 11.8436662\ttotal: 5.82s\tremaining: 0us\n",
            "0:\tlearn: 28.0750672\ttotal: 55ms\tremaining: 5.45s\n",
            "10:\tlearn: 20.3099638\ttotal: 433ms\tremaining: 3.5s\n",
            "20:\tlearn: 16.8203274\ttotal: 827ms\tremaining: 3.11s\n",
            "30:\tlearn: 15.0413316\ttotal: 1.26s\tremaining: 2.8s\n",
            "40:\tlearn: 13.8823262\ttotal: 1.64s\tremaining: 2.37s\n",
            "50:\tlearn: 12.9245245\ttotal: 2.16s\tremaining: 2.08s\n",
            "60:\tlearn: 12.1425226\ttotal: 2.62s\tremaining: 1.68s\n",
            "70:\tlearn: 11.3366055\ttotal: 3s\tremaining: 1.23s\n",
            "80:\tlearn: 10.7155929\ttotal: 3.41s\tremaining: 799ms\n",
            "90:\tlearn: 10.0530606\ttotal: 3.78s\tremaining: 374ms\n",
            "99:\tlearn: 9.4035563\ttotal: 4.13s\tremaining: 0us\n",
            "0:\tlearn: 31.3277058\ttotal: 66.5ms\tremaining: 6.59s\n",
            "10:\tlearn: 22.4481572\ttotal: 565ms\tremaining: 4.57s\n",
            "20:\tlearn: 18.8552072\ttotal: 1.09s\tremaining: 4.1s\n",
            "30:\tlearn: 17.1608434\ttotal: 1.59s\tremaining: 3.54s\n",
            "40:\tlearn: 16.2964191\ttotal: 2.1s\tremaining: 3.03s\n",
            "50:\tlearn: 15.4998526\ttotal: 2.58s\tremaining: 2.48s\n",
            "60:\tlearn: 14.9065879\ttotal: 3.11s\tremaining: 1.99s\n",
            "70:\tlearn: 14.2871021\ttotal: 3.62s\tremaining: 1.48s\n",
            "80:\tlearn: 13.6732123\ttotal: 4.11s\tremaining: 965ms\n",
            "90:\tlearn: 13.1034142\ttotal: 4.61s\tremaining: 456ms\n",
            "99:\tlearn: 12.6664172\ttotal: 5.05s\tremaining: 0us\n",
            "0:\tlearn: 32.4381826\ttotal: 89.6ms\tremaining: 8.87s\n",
            "10:\tlearn: 23.1968629\ttotal: 652ms\tremaining: 5.28s\n",
            "20:\tlearn: 19.9831192\ttotal: 1.21s\tremaining: 4.56s\n",
            "30:\tlearn: 18.6495300\ttotal: 1.78s\tremaining: 3.97s\n",
            "40:\tlearn: 17.7318761\ttotal: 2.32s\tremaining: 3.34s\n",
            "50:\tlearn: 17.0297129\ttotal: 2.95s\tremaining: 2.83s\n",
            "60:\tlearn: 16.5117976\ttotal: 3.54s\tremaining: 2.26s\n",
            "70:\tlearn: 15.9755257\ttotal: 4.1s\tremaining: 1.68s\n",
            "80:\tlearn: 15.4677838\ttotal: 4.76s\tremaining: 1.12s\n",
            "90:\tlearn: 14.9374113\ttotal: 5.38s\tremaining: 533ms\n",
            "99:\tlearn: 14.5368621\ttotal: 5.87s\tremaining: 0us\n",
            "0:\tlearn: 28.0750672\ttotal: 59.3ms\tremaining: 11.8s\n",
            "10:\tlearn: 20.3099638\ttotal: 481ms\tremaining: 8.27s\n",
            "20:\tlearn: 16.8203274\ttotal: 918ms\tremaining: 7.83s\n",
            "30:\tlearn: 15.0413316\ttotal: 1.34s\tremaining: 7.32s\n",
            "40:\tlearn: 13.8823262\ttotal: 1.83s\tremaining: 7.1s\n",
            "50:\tlearn: 12.9245245\ttotal: 2.25s\tremaining: 6.57s\n",
            "60:\tlearn: 12.1425226\ttotal: 2.71s\tremaining: 6.17s\n",
            "70:\tlearn: 11.3366055\ttotal: 3.13s\tremaining: 5.7s\n",
            "80:\tlearn: 10.7155929\ttotal: 3.55s\tremaining: 5.21s\n",
            "90:\tlearn: 10.0530606\ttotal: 3.94s\tremaining: 4.72s\n",
            "100:\tlearn: 9.3609581\ttotal: 4.36s\tremaining: 4.27s\n",
            "110:\tlearn: 8.6577705\ttotal: 4.79s\tremaining: 3.84s\n",
            "120:\tlearn: 7.9435352\ttotal: 5.2s\tremaining: 3.39s\n",
            "130:\tlearn: 7.3478405\ttotal: 5.62s\tremaining: 2.96s\n",
            "140:\tlearn: 6.8738461\ttotal: 6.13s\tremaining: 2.56s\n",
            "150:\tlearn: 6.5504292\ttotal: 6.56s\tremaining: 2.13s\n",
            "160:\tlearn: 6.1749738\ttotal: 6.97s\tremaining: 1.69s\n",
            "170:\tlearn: 5.7775017\ttotal: 7.38s\tremaining: 1.25s\n",
            "180:\tlearn: 5.4213715\ttotal: 7.84s\tremaining: 823ms\n",
            "190:\tlearn: 5.0986540\ttotal: 8.28s\tremaining: 390ms\n",
            "199:\tlearn: 4.8035971\ttotal: 8.74s\tremaining: 0us\n",
            "0:\tlearn: 31.3277058\ttotal: 83.9ms\tremaining: 16.7s\n",
            "10:\tlearn: 22.4481572\ttotal: 627ms\tremaining: 10.8s\n",
            "20:\tlearn: 18.8552072\ttotal: 1.15s\tremaining: 9.81s\n",
            "30:\tlearn: 17.1608434\ttotal: 1.67s\tremaining: 9.1s\n",
            "40:\tlearn: 16.2964191\ttotal: 2.22s\tremaining: 8.62s\n",
            "50:\tlearn: 15.4998526\ttotal: 2.79s\tremaining: 8.15s\n",
            "60:\tlearn: 14.9065879\ttotal: 3.33s\tremaining: 7.59s\n",
            "70:\tlearn: 14.2871021\ttotal: 3.85s\tremaining: 6.99s\n",
            "80:\tlearn: 13.6732123\ttotal: 4.36s\tremaining: 6.4s\n",
            "90:\tlearn: 13.1034142\ttotal: 4.86s\tremaining: 5.82s\n",
            "100:\tlearn: 12.5847594\ttotal: 5.43s\tremaining: 5.32s\n",
            "110:\tlearn: 12.0283922\ttotal: 6.03s\tremaining: 4.84s\n",
            "120:\tlearn: 11.5317627\ttotal: 6.56s\tremaining: 4.29s\n",
            "130:\tlearn: 11.1804381\ttotal: 7.09s\tremaining: 3.73s\n",
            "140:\tlearn: 10.7982715\ttotal: 7.63s\tremaining: 3.19s\n",
            "150:\tlearn: 10.3252151\ttotal: 8.22s\tremaining: 2.67s\n",
            "160:\tlearn: 9.8720759\ttotal: 8.75s\tremaining: 2.12s\n",
            "170:\tlearn: 9.4674085\ttotal: 9.29s\tremaining: 1.58s\n",
            "180:\tlearn: 9.0862474\ttotal: 9.85s\tremaining: 1.03s\n",
            "190:\tlearn: 8.7602089\ttotal: 10.4s\tremaining: 490ms\n",
            "199:\tlearn: 8.4818642\ttotal: 10.9s\tremaining: 0us\n",
            "0:\tlearn: 32.4381826\ttotal: 81ms\tremaining: 16.1s\n",
            "10:\tlearn: 23.1968629\ttotal: 730ms\tremaining: 12.5s\n",
            "20:\tlearn: 19.9831192\ttotal: 1.41s\tremaining: 12s\n",
            "30:\tlearn: 18.6495300\ttotal: 1.98s\tremaining: 10.8s\n",
            "40:\tlearn: 17.7318761\ttotal: 2.52s\tremaining: 9.78s\n",
            "50:\tlearn: 17.0297129\ttotal: 3.05s\tremaining: 8.91s\n",
            "60:\tlearn: 16.5117976\ttotal: 3.68s\tremaining: 8.39s\n",
            "70:\tlearn: 15.9755257\ttotal: 4.21s\tremaining: 7.65s\n",
            "80:\tlearn: 15.4677838\ttotal: 4.72s\tremaining: 6.94s\n",
            "90:\tlearn: 14.9374113\ttotal: 5.27s\tremaining: 6.31s\n",
            "100:\tlearn: 14.4639115\ttotal: 5.8s\tremaining: 5.69s\n",
            "110:\tlearn: 13.9879651\ttotal: 6.38s\tremaining: 5.12s\n",
            "120:\tlearn: 13.5723775\ttotal: 6.97s\tremaining: 4.55s\n",
            "130:\tlearn: 13.1147030\ttotal: 7.51s\tremaining: 3.96s\n",
            "140:\tlearn: 12.7241348\ttotal: 8.05s\tremaining: 3.37s\n",
            "150:\tlearn: 12.3159030\ttotal: 8.63s\tremaining: 2.8s\n",
            "160:\tlearn: 11.9727814\ttotal: 9.25s\tremaining: 2.24s\n",
            "170:\tlearn: 11.6748567\ttotal: 9.92s\tremaining: 1.68s\n",
            "180:\tlearn: 11.4387069\ttotal: 10.5s\tremaining: 1.1s\n",
            "190:\tlearn: 11.1035276\ttotal: 11s\tremaining: 521ms\n",
            "199:\tlearn: 10.7546764\ttotal: 11.5s\tremaining: 0us\n",
            "0:\tlearn: 28.0750672\ttotal: 68ms\tremaining: 20.3s\n",
            "10:\tlearn: 20.3099638\ttotal: 590ms\tremaining: 15.5s\n",
            "20:\tlearn: 16.8203274\ttotal: 1000ms\tremaining: 13.3s\n",
            "30:\tlearn: 15.0413316\ttotal: 1.42s\tremaining: 12.4s\n",
            "40:\tlearn: 13.8823262\ttotal: 1.84s\tremaining: 11.6s\n",
            "50:\tlearn: 12.9245245\ttotal: 2.3s\tremaining: 11.2s\n",
            "60:\tlearn: 12.1425226\ttotal: 2.75s\tremaining: 10.8s\n",
            "70:\tlearn: 11.3366055\ttotal: 3.16s\tremaining: 10.2s\n",
            "80:\tlearn: 10.7155929\ttotal: 3.58s\tremaining: 9.69s\n",
            "90:\tlearn: 10.0530606\ttotal: 4.05s\tremaining: 9.3s\n",
            "100:\tlearn: 9.3609581\ttotal: 4.48s\tremaining: 8.82s\n",
            "110:\tlearn: 8.6577705\ttotal: 4.96s\tremaining: 8.45s\n",
            "120:\tlearn: 7.9435352\ttotal: 5.44s\tremaining: 8.05s\n",
            "130:\tlearn: 7.3478405\ttotal: 5.86s\tremaining: 7.56s\n",
            "140:\tlearn: 6.8738461\ttotal: 6.27s\tremaining: 7.07s\n",
            "150:\tlearn: 6.5504292\ttotal: 6.69s\tremaining: 6.6s\n",
            "160:\tlearn: 6.1749738\ttotal: 7.16s\tremaining: 6.18s\n",
            "170:\tlearn: 5.7775017\ttotal: 7.57s\tremaining: 5.71s\n",
            "180:\tlearn: 5.4213715\ttotal: 7.97s\tremaining: 5.24s\n",
            "190:\tlearn: 5.0986540\ttotal: 8.37s\tremaining: 4.78s\n",
            "200:\tlearn: 4.7697531\ttotal: 8.79s\tremaining: 4.33s\n",
            "210:\tlearn: 4.5192722\ttotal: 9.2s\tremaining: 3.88s\n",
            "220:\tlearn: 4.2616740\ttotal: 9.61s\tremaining: 3.43s\n",
            "230:\tlearn: 3.9477959\ttotal: 10.1s\tremaining: 3.01s\n",
            "240:\tlearn: 3.7573792\ttotal: 10.5s\tremaining: 2.57s\n",
            "250:\tlearn: 3.5748889\ttotal: 10.9s\tremaining: 2.13s\n",
            "260:\tlearn: 3.3494303\ttotal: 11.3s\tremaining: 1.69s\n",
            "270:\tlearn: 3.1568636\ttotal: 11.7s\tremaining: 1.25s\n",
            "280:\tlearn: 3.0008815\ttotal: 12.1s\tremaining: 820ms\n",
            "290:\tlearn: 2.8440315\ttotal: 12.5s\tremaining: 388ms\n",
            "299:\tlearn: 2.6793467\ttotal: 12.9s\tremaining: 0us\n",
            "0:\tlearn: 31.3277058\ttotal: 73.7ms\tremaining: 22.1s\n",
            "10:\tlearn: 22.4481572\ttotal: 572ms\tremaining: 15s\n",
            "20:\tlearn: 18.8552072\ttotal: 1.07s\tremaining: 14.2s\n",
            "30:\tlearn: 17.1608434\ttotal: 1.61s\tremaining: 13.9s\n",
            "40:\tlearn: 16.2964191\ttotal: 2.21s\tremaining: 14s\n",
            "50:\tlearn: 15.4998526\ttotal: 2.74s\tremaining: 13.4s\n",
            "60:\tlearn: 14.9065879\ttotal: 3.25s\tremaining: 12.7s\n",
            "70:\tlearn: 14.2871021\ttotal: 3.87s\tremaining: 12.5s\n",
            "80:\tlearn: 13.6732123\ttotal: 4.44s\tremaining: 12s\n",
            "90:\tlearn: 13.1034142\ttotal: 5.02s\tremaining: 11.5s\n",
            "100:\tlearn: 12.5847594\ttotal: 5.58s\tremaining: 11s\n",
            "110:\tlearn: 12.0283922\ttotal: 6.13s\tremaining: 10.4s\n",
            "120:\tlearn: 11.5317627\ttotal: 6.68s\tremaining: 9.89s\n",
            "130:\tlearn: 11.1804381\ttotal: 7.24s\tremaining: 9.33s\n",
            "140:\tlearn: 10.7982715\ttotal: 7.84s\tremaining: 8.84s\n",
            "150:\tlearn: 10.3252151\ttotal: 8.38s\tremaining: 8.27s\n",
            "160:\tlearn: 9.8720759\ttotal: 8.98s\tremaining: 7.75s\n",
            "170:\tlearn: 9.4674085\ttotal: 9.52s\tremaining: 7.18s\n",
            "180:\tlearn: 9.0862474\ttotal: 10.1s\tremaining: 6.64s\n",
            "190:\tlearn: 8.7602089\ttotal: 10.7s\tremaining: 6.1s\n",
            "200:\tlearn: 8.4455267\ttotal: 11.2s\tremaining: 5.52s\n",
            "210:\tlearn: 8.0961466\ttotal: 11.7s\tremaining: 4.95s\n",
            "220:\tlearn: 7.7905549\ttotal: 12.3s\tremaining: 4.39s\n",
            "230:\tlearn: 7.5248211\ttotal: 12.8s\tremaining: 3.83s\n",
            "240:\tlearn: 7.2585827\ttotal: 13.3s\tremaining: 3.25s\n",
            "250:\tlearn: 6.9801643\ttotal: 13.8s\tremaining: 2.69s\n",
            "260:\tlearn: 6.7492890\ttotal: 14.3s\tremaining: 2.13s\n",
            "270:\tlearn: 6.4623527\ttotal: 14.8s\tremaining: 1.58s\n",
            "280:\tlearn: 6.2821362\ttotal: 15.4s\tremaining: 1.04s\n",
            "290:\tlearn: 6.0072276\ttotal: 15.9s\tremaining: 491ms\n",
            "299:\tlearn: 5.8287103\ttotal: 16.3s\tremaining: 0us\n",
            "0:\tlearn: 32.4381826\ttotal: 90.5ms\tremaining: 27.1s\n",
            "10:\tlearn: 23.1968629\ttotal: 666ms\tremaining: 17.5s\n",
            "20:\tlearn: 19.9831192\ttotal: 1.23s\tremaining: 16.3s\n",
            "30:\tlearn: 18.6495300\ttotal: 1.82s\tremaining: 15.8s\n",
            "40:\tlearn: 17.7318761\ttotal: 2.44s\tremaining: 15.4s\n",
            "50:\tlearn: 17.0297129\ttotal: 3.1s\tremaining: 15.1s\n",
            "60:\tlearn: 16.5117976\ttotal: 3.69s\tremaining: 14.5s\n",
            "70:\tlearn: 15.9755257\ttotal: 4.36s\tremaining: 14.1s\n",
            "80:\tlearn: 15.4677838\ttotal: 4.96s\tremaining: 13.4s\n",
            "90:\tlearn: 14.9374113\ttotal: 5.54s\tremaining: 12.7s\n",
            "100:\tlearn: 14.4639115\ttotal: 6.11s\tremaining: 12s\n",
            "110:\tlearn: 13.9879651\ttotal: 6.7s\tremaining: 11.4s\n",
            "120:\tlearn: 13.5723775\ttotal: 7.35s\tremaining: 10.9s\n",
            "130:\tlearn: 13.1147030\ttotal: 7.96s\tremaining: 10.3s\n",
            "140:\tlearn: 12.7241348\ttotal: 8.54s\tremaining: 9.63s\n",
            "150:\tlearn: 12.3159030\ttotal: 9.15s\tremaining: 9.03s\n",
            "160:\tlearn: 11.9727814\ttotal: 9.76s\tremaining: 8.42s\n",
            "170:\tlearn: 11.6748567\ttotal: 10.4s\tremaining: 7.83s\n",
            "180:\tlearn: 11.4387069\ttotal: 11s\tremaining: 7.21s\n",
            "190:\tlearn: 11.1035276\ttotal: 11.7s\tremaining: 6.67s\n",
            "200:\tlearn: 10.7341665\ttotal: 12.4s\tremaining: 6.1s\n",
            "210:\tlearn: 10.5131374\ttotal: 13.1s\tremaining: 5.51s\n",
            "220:\tlearn: 10.1959261\ttotal: 13.6s\tremaining: 4.87s\n",
            "230:\tlearn: 9.9128853\ttotal: 14.3s\tremaining: 4.26s\n",
            "240:\tlearn: 9.5821526\ttotal: 14.9s\tremaining: 3.65s\n",
            "250:\tlearn: 9.3482802\ttotal: 15.5s\tremaining: 3.02s\n",
            "260:\tlearn: 9.1122400\ttotal: 16.1s\tremaining: 2.4s\n",
            "270:\tlearn: 8.8281656\ttotal: 16.6s\tremaining: 1.78s\n",
            "280:\tlearn: 8.6260868\ttotal: 17.3s\tremaining: 1.17s\n",
            "290:\tlearn: 8.3421049\ttotal: 17.9s\tremaining: 554ms\n",
            "299:\tlearn: 8.1837383\ttotal: 18.4s\tremaining: 0us\n",
            "0:\tlearn: 28.0418244\ttotal: 268ms\tremaining: 26.5s\n",
            "10:\tlearn: 20.0282819\ttotal: 1.86s\tremaining: 15.1s\n",
            "20:\tlearn: 15.8569575\ttotal: 3.48s\tremaining: 13.1s\n",
            "30:\tlearn: 13.3269356\ttotal: 5.09s\tremaining: 11.3s\n",
            "40:\tlearn: 11.6016733\ttotal: 6.6s\tremaining: 9.5s\n",
            "50:\tlearn: 10.3229047\ttotal: 8.27s\tremaining: 7.94s\n",
            "60:\tlearn: 9.2374457\ttotal: 9.81s\tremaining: 6.27s\n",
            "70:\tlearn: 8.2958557\ttotal: 11.3s\tremaining: 4.63s\n",
            "80:\tlearn: 7.4168948\ttotal: 12.9s\tremaining: 3.02s\n",
            "90:\tlearn: 6.4856874\ttotal: 14.5s\tremaining: 1.43s\n",
            "99:\tlearn: 5.7694647\ttotal: 15.9s\tremaining: 0us\n",
            "0:\tlearn: 31.2723342\ttotal: 299ms\tremaining: 29.6s\n",
            "10:\tlearn: 21.7167677\ttotal: 2.23s\tremaining: 18s\n",
            "20:\tlearn: 17.7470276\ttotal: 4.13s\tremaining: 15.5s\n",
            "30:\tlearn: 15.5357274\ttotal: 6.01s\tremaining: 13.4s\n",
            "40:\tlearn: 14.1454376\ttotal: 7.94s\tremaining: 11.4s\n",
            "50:\tlearn: 13.1344203\ttotal: 9.9s\tremaining: 9.52s\n",
            "60:\tlearn: 12.2658949\ttotal: 11.9s\tremaining: 7.62s\n",
            "70:\tlearn: 11.5760107\ttotal: 13.8s\tremaining: 5.62s\n",
            "80:\tlearn: 10.8972186\ttotal: 15.6s\tremaining: 3.66s\n",
            "90:\tlearn: 10.3674499\ttotal: 17.5s\tremaining: 1.73s\n",
            "99:\tlearn: 9.7724229\ttotal: 19.2s\tremaining: 0us\n",
            "0:\tlearn: 32.3947546\ttotal: 305ms\tremaining: 30.2s\n",
            "10:\tlearn: 22.6881262\ttotal: 2.37s\tremaining: 19.2s\n",
            "20:\tlearn: 19.0239124\ttotal: 4.41s\tremaining: 16.6s\n",
            "30:\tlearn: 17.2589686\ttotal: 6.45s\tremaining: 14.3s\n",
            "40:\tlearn: 16.0372132\ttotal: 8.59s\tremaining: 12.4s\n",
            "50:\tlearn: 15.1257536\ttotal: 10.7s\tremaining: 10.3s\n",
            "60:\tlearn: 14.3324053\ttotal: 12.9s\tremaining: 8.22s\n",
            "70:\tlearn: 13.6149569\ttotal: 14.9s\tremaining: 6.07s\n",
            "80:\tlearn: 12.9678004\ttotal: 16.9s\tremaining: 3.98s\n",
            "90:\tlearn: 12.3863803\ttotal: 19s\tremaining: 1.88s\n",
            "99:\tlearn: 11.8220968\ttotal: 20.9s\tremaining: 0us\n",
            "0:\tlearn: 28.0418244\ttotal: 244ms\tremaining: 48.5s\n",
            "10:\tlearn: 20.0282819\ttotal: 1.87s\tremaining: 32.1s\n",
            "20:\tlearn: 15.8569575\ttotal: 3.38s\tremaining: 28.8s\n",
            "30:\tlearn: 13.3269356\ttotal: 5.07s\tremaining: 27.6s\n",
            "40:\tlearn: 11.6016733\ttotal: 6.79s\tremaining: 26.3s\n",
            "50:\tlearn: 10.3229047\ttotal: 8.46s\tremaining: 24.7s\n",
            "60:\tlearn: 9.2374457\ttotal: 10.2s\tremaining: 23.3s\n",
            "70:\tlearn: 8.2958557\ttotal: 11.8s\tremaining: 21.4s\n",
            "80:\tlearn: 7.4168948\ttotal: 13.3s\tremaining: 19.6s\n",
            "90:\tlearn: 6.4856874\ttotal: 14.8s\tremaining: 17.8s\n",
            "100:\tlearn: 5.7258893\ttotal: 16.4s\tremaining: 16.1s\n",
            "110:\tlearn: 5.2102095\ttotal: 18s\tremaining: 14.4s\n",
            "120:\tlearn: 4.7083098\ttotal: 19.6s\tremaining: 12.8s\n",
            "130:\tlearn: 4.3408112\ttotal: 21.1s\tremaining: 11.1s\n",
            "140:\tlearn: 3.8822518\ttotal: 22.7s\tremaining: 9.48s\n",
            "150:\tlearn: 3.4842930\ttotal: 24.2s\tremaining: 7.86s\n",
            "160:\tlearn: 3.2274577\ttotal: 25.7s\tremaining: 6.24s\n",
            "170:\tlearn: 2.9340250\ttotal: 27.4s\tremaining: 4.65s\n",
            "180:\tlearn: 2.6705443\ttotal: 28.9s\tremaining: 3.04s\n",
            "190:\tlearn: 2.4094018\ttotal: 30.5s\tremaining: 1.44s\n",
            "199:\tlearn: 2.1874571\ttotal: 31.9s\tremaining: 0us\n",
            "0:\tlearn: 31.2723342\ttotal: 279ms\tremaining: 55.4s\n",
            "10:\tlearn: 21.7167677\ttotal: 2.25s\tremaining: 38.7s\n",
            "20:\tlearn: 17.7470276\ttotal: 4.32s\tremaining: 36.8s\n",
            "30:\tlearn: 15.5357274\ttotal: 6.25s\tremaining: 34.1s\n",
            "40:\tlearn: 14.1454376\ttotal: 8.12s\tremaining: 31.5s\n",
            "50:\tlearn: 13.1344203\ttotal: 10s\tremaining: 29.3s\n",
            "60:\tlearn: 12.2658949\ttotal: 11.9s\tremaining: 27.1s\n",
            "70:\tlearn: 11.5760107\ttotal: 13.9s\tremaining: 25.2s\n",
            "80:\tlearn: 10.8972186\ttotal: 15.8s\tremaining: 23.2s\n",
            "90:\tlearn: 10.3674499\ttotal: 17.8s\tremaining: 21.3s\n",
            "100:\tlearn: 9.6853705\ttotal: 19.6s\tremaining: 19.3s\n",
            "110:\tlearn: 9.0607964\ttotal: 21.6s\tremaining: 17.3s\n",
            "120:\tlearn: 8.4933105\ttotal: 23.5s\tremaining: 15.3s\n",
            "130:\tlearn: 8.0205520\ttotal: 25.4s\tremaining: 13.4s\n",
            "140:\tlearn: 7.5195176\ttotal: 27.2s\tremaining: 11.4s\n",
            "150:\tlearn: 7.1289595\ttotal: 29.1s\tremaining: 9.45s\n",
            "160:\tlearn: 6.6204091\ttotal: 31s\tremaining: 7.51s\n",
            "170:\tlearn: 6.3004680\ttotal: 32.9s\tremaining: 5.58s\n",
            "180:\tlearn: 6.0220821\ttotal: 34.8s\tremaining: 3.65s\n",
            "190:\tlearn: 5.6551724\ttotal: 36.7s\tremaining: 1.73s\n",
            "199:\tlearn: 5.4726196\ttotal: 38.3s\tremaining: 0us\n",
            "0:\tlearn: 32.3947546\ttotal: 311ms\tremaining: 1m 1s\n",
            "10:\tlearn: 22.6881262\ttotal: 2.35s\tremaining: 40.4s\n",
            "20:\tlearn: 19.0239124\ttotal: 4.47s\tremaining: 38.1s\n",
            "30:\tlearn: 17.2589686\ttotal: 6.61s\tremaining: 36s\n",
            "40:\tlearn: 16.0372132\ttotal: 8.72s\tremaining: 33.8s\n",
            "50:\tlearn: 15.1257536\ttotal: 10.8s\tremaining: 31.5s\n",
            "60:\tlearn: 14.3324053\ttotal: 12.8s\tremaining: 29.1s\n",
            "70:\tlearn: 13.6149569\ttotal: 15s\tremaining: 27.3s\n",
            "80:\tlearn: 12.9678004\ttotal: 17.5s\tremaining: 25.7s\n",
            "90:\tlearn: 12.3863803\ttotal: 19.6s\tremaining: 23.5s\n",
            "100:\tlearn: 11.7759950\ttotal: 21.8s\tremaining: 21.4s\n",
            "110:\tlearn: 11.2013817\ttotal: 23.9s\tremaining: 19.1s\n",
            "120:\tlearn: 10.5769272\ttotal: 25.9s\tremaining: 16.9s\n",
            "130:\tlearn: 10.0768828\ttotal: 28s\tremaining: 14.8s\n",
            "140:\tlearn: 9.5673095\ttotal: 30s\tremaining: 12.6s\n",
            "150:\tlearn: 9.0823226\ttotal: 32s\tremaining: 10.4s\n",
            "160:\tlearn: 8.7005728\ttotal: 34.1s\tremaining: 8.27s\n",
            "170:\tlearn: 8.2651287\ttotal: 36.2s\tremaining: 6.14s\n",
            "180:\tlearn: 7.9794729\ttotal: 38.3s\tremaining: 4.02s\n",
            "190:\tlearn: 7.6057393\ttotal: 40.4s\tremaining: 1.9s\n",
            "199:\tlearn: 7.2432878\ttotal: 42.2s\tremaining: 0us\n",
            "0:\tlearn: 28.0418244\ttotal: 219ms\tremaining: 1m 5s\n",
            "10:\tlearn: 20.0282819\ttotal: 1.77s\tremaining: 46.6s\n",
            "20:\tlearn: 15.8569575\ttotal: 3.22s\tremaining: 42.8s\n",
            "30:\tlearn: 13.3269356\ttotal: 4.75s\tremaining: 41.3s\n",
            "40:\tlearn: 11.6016733\ttotal: 6.21s\tremaining: 39.2s\n",
            "50:\tlearn: 10.3229047\ttotal: 7.8s\tremaining: 38.1s\n",
            "60:\tlearn: 9.2374457\ttotal: 9.34s\tremaining: 36.6s\n",
            "70:\tlearn: 8.2958557\ttotal: 10.9s\tremaining: 35.2s\n",
            "80:\tlearn: 7.4168948\ttotal: 12.4s\tremaining: 33.4s\n",
            "90:\tlearn: 6.4856874\ttotal: 13.8s\tremaining: 31.8s\n",
            "100:\tlearn: 5.7258893\ttotal: 15.4s\tremaining: 30.3s\n",
            "110:\tlearn: 5.2102095\ttotal: 16.8s\tremaining: 28.6s\n",
            "120:\tlearn: 4.7083098\ttotal: 18.3s\tremaining: 27.1s\n",
            "130:\tlearn: 4.3408112\ttotal: 19.8s\tremaining: 25.5s\n",
            "140:\tlearn: 3.8822518\ttotal: 21.4s\tremaining: 24.1s\n",
            "150:\tlearn: 3.4842930\ttotal: 22.8s\tremaining: 22.5s\n",
            "160:\tlearn: 3.2274577\ttotal: 24.3s\tremaining: 21s\n",
            "170:\tlearn: 2.9340250\ttotal: 25.8s\tremaining: 19.5s\n",
            "180:\tlearn: 2.6705443\ttotal: 27.3s\tremaining: 17.9s\n",
            "190:\tlearn: 2.4094018\ttotal: 28.7s\tremaining: 16.4s\n",
            "200:\tlearn: 2.1645475\ttotal: 30.2s\tremaining: 14.9s\n",
            "210:\tlearn: 1.9337914\ttotal: 31.8s\tremaining: 13.4s\n",
            "220:\tlearn: 1.7339353\ttotal: 33.3s\tremaining: 11.9s\n",
            "230:\tlearn: 1.5772647\ttotal: 34.7s\tremaining: 10.4s\n",
            "240:\tlearn: 1.4413524\ttotal: 36.2s\tremaining: 8.86s\n",
            "250:\tlearn: 1.3131402\ttotal: 37.8s\tremaining: 7.37s\n",
            "260:\tlearn: 1.2050600\ttotal: 39.3s\tremaining: 5.87s\n",
            "270:\tlearn: 1.1042648\ttotal: 40.8s\tremaining: 4.37s\n",
            "280:\tlearn: 1.0194279\ttotal: 42.3s\tremaining: 2.86s\n",
            "290:\tlearn: 0.9077711\ttotal: 43.7s\tremaining: 1.35s\n",
            "299:\tlearn: 0.8158366\ttotal: 45.1s\tremaining: 0us\n",
            "0:\tlearn: 31.2723342\ttotal: 307ms\tremaining: 1m 31s\n",
            "10:\tlearn: 21.7167677\ttotal: 2.1s\tremaining: 55.3s\n",
            "20:\tlearn: 17.7470276\ttotal: 3.93s\tremaining: 52.3s\n",
            "30:\tlearn: 15.5357274\ttotal: 5.82s\tremaining: 50.5s\n",
            "40:\tlearn: 14.1454376\ttotal: 7.62s\tremaining: 48.1s\n",
            "50:\tlearn: 13.1344203\ttotal: 9.48s\tremaining: 46.3s\n",
            "60:\tlearn: 12.2658949\ttotal: 11.4s\tremaining: 44.7s\n",
            "70:\tlearn: 11.5760107\ttotal: 13.3s\tremaining: 42.7s\n",
            "80:\tlearn: 10.8972186\ttotal: 15.2s\tremaining: 41.2s\n",
            "90:\tlearn: 10.3674499\ttotal: 17.1s\tremaining: 39.3s\n",
            "100:\tlearn: 9.6853705\ttotal: 18.9s\tremaining: 37.3s\n",
            "110:\tlearn: 9.0607964\ttotal: 20.8s\tremaining: 35.4s\n",
            "120:\tlearn: 8.4933105\ttotal: 22.7s\tremaining: 33.6s\n",
            "130:\tlearn: 8.0205520\ttotal: 24.8s\tremaining: 32.1s\n",
            "140:\tlearn: 7.5195176\ttotal: 26.7s\tremaining: 30.1s\n",
            "150:\tlearn: 7.1289595\ttotal: 28.5s\tremaining: 28.1s\n",
            "160:\tlearn: 6.6204091\ttotal: 30.4s\tremaining: 26.2s\n",
            "170:\tlearn: 6.3004680\ttotal: 32.3s\tremaining: 24.4s\n",
            "180:\tlearn: 6.0220821\ttotal: 34.3s\tremaining: 22.5s\n",
            "190:\tlearn: 5.6551724\ttotal: 36.2s\tremaining: 20.7s\n",
            "200:\tlearn: 5.4416414\ttotal: 38.2s\tremaining: 18.8s\n",
            "210:\tlearn: 5.0632433\ttotal: 40.2s\tremaining: 17s\n",
            "220:\tlearn: 4.7577323\ttotal: 42.2s\tremaining: 15.1s\n",
            "230:\tlearn: 4.4507869\ttotal: 44.3s\tremaining: 13.2s\n",
            "240:\tlearn: 4.2039757\ttotal: 46.3s\tremaining: 11.3s\n",
            "250:\tlearn: 3.9386824\ttotal: 48.1s\tremaining: 9.39s\n",
            "260:\tlearn: 3.7731584\ttotal: 50s\tremaining: 7.47s\n",
            "270:\tlearn: 3.6003373\ttotal: 51.9s\tremaining: 5.55s\n",
            "280:\tlearn: 3.3814286\ttotal: 53.9s\tremaining: 3.64s\n",
            "290:\tlearn: 3.1789405\ttotal: 55.8s\tremaining: 1.72s\n",
            "299:\tlearn: 2.9769485\ttotal: 57.5s\tremaining: 0us\n",
            "0:\tlearn: 32.3947546\ttotal: 331ms\tremaining: 1m 38s\n",
            "10:\tlearn: 22.6881262\ttotal: 2.47s\tremaining: 1m 5s\n",
            "20:\tlearn: 19.0239124\ttotal: 4.75s\tremaining: 1m 3s\n",
            "30:\tlearn: 17.2589686\ttotal: 6.99s\tremaining: 1m\n",
            "40:\tlearn: 16.0372132\ttotal: 9.27s\tremaining: 58.5s\n",
            "50:\tlearn: 15.1257536\ttotal: 11.4s\tremaining: 55.8s\n",
            "60:\tlearn: 14.3324053\ttotal: 13.5s\tremaining: 53s\n",
            "70:\tlearn: 13.6149569\ttotal: 15.9s\tremaining: 51.1s\n",
            "80:\tlearn: 12.9678004\ttotal: 17.9s\tremaining: 48.5s\n",
            "90:\tlearn: 12.3863803\ttotal: 20.2s\tremaining: 46.5s\n",
            "100:\tlearn: 11.7759950\ttotal: 22.5s\tremaining: 44.4s\n",
            "110:\tlearn: 11.2013817\ttotal: 24.6s\tremaining: 41.9s\n",
            "120:\tlearn: 10.5769272\ttotal: 26.9s\tremaining: 39.8s\n",
            "130:\tlearn: 10.0768828\ttotal: 28.9s\tremaining: 37.3s\n",
            "140:\tlearn: 9.5673095\ttotal: 30.9s\tremaining: 34.9s\n",
            "150:\tlearn: 9.0823226\ttotal: 33.1s\tremaining: 32.6s\n",
            "160:\tlearn: 8.7005728\ttotal: 35.4s\tremaining: 30.5s\n",
            "170:\tlearn: 8.2651287\ttotal: 37.6s\tremaining: 28.4s\n",
            "180:\tlearn: 7.9794729\ttotal: 40s\tremaining: 26.3s\n",
            "190:\tlearn: 7.6057393\ttotal: 42.2s\tremaining: 24.1s\n",
            "200:\tlearn: 7.2117328\ttotal: 44.5s\tremaining: 21.9s\n",
            "210:\tlearn: 6.9042928\ttotal: 46.7s\tremaining: 19.7s\n",
            "220:\tlearn: 6.5987875\ttotal: 48.8s\tremaining: 17.4s\n",
            "230:\tlearn: 6.2883557\ttotal: 50.9s\tremaining: 15.2s\n",
            "240:\tlearn: 6.0468605\ttotal: 53.1s\tremaining: 13s\n",
            "250:\tlearn: 5.7847981\ttotal: 55.3s\tremaining: 10.8s\n",
            "260:\tlearn: 5.5765010\ttotal: 57.5s\tremaining: 8.59s\n",
            "270:\tlearn: 5.3210839\ttotal: 59.7s\tremaining: 6.39s\n",
            "280:\tlearn: 5.1037562\ttotal: 1m 1s\tremaining: 4.17s\n",
            "290:\tlearn: 4.8911384\ttotal: 1m 3s\tremaining: 1.97s\n",
            "299:\tlearn: 4.7412587\ttotal: 1m 5s\tremaining: 0us\n",
            "0:\tlearn: 28.1238309\ttotal: 453ms\tremaining: 44.8s\n",
            "10:\tlearn: 19.5968806\ttotal: 4.63s\tremaining: 37.5s\n",
            "20:\tlearn: 15.1944272\ttotal: 8.66s\tremaining: 32.6s\n",
            "30:\tlearn: 12.2530271\ttotal: 12.7s\tremaining: 28.2s\n",
            "40:\tlearn: 10.1507249\ttotal: 16.8s\tremaining: 24.2s\n",
            "50:\tlearn: 8.5125883\ttotal: 21s\tremaining: 20.1s\n",
            "60:\tlearn: 7.1437188\ttotal: 25.4s\tremaining: 16.2s\n",
            "70:\tlearn: 6.1059077\ttotal: 29.6s\tremaining: 12.1s\n",
            "80:\tlearn: 5.2617397\ttotal: 33.8s\tremaining: 7.92s\n",
            "90:\tlearn: 4.4280209\ttotal: 37.8s\tremaining: 3.74s\n",
            "99:\tlearn: 3.8610823\ttotal: 41.5s\tremaining: 0us\n",
            "0:\tlearn: 31.2344554\ttotal: 562ms\tremaining: 55.7s\n",
            "10:\tlearn: 21.6797571\ttotal: 6.02s\tremaining: 48.7s\n",
            "20:\tlearn: 16.7588400\ttotal: 11.4s\tremaining: 43s\n",
            "30:\tlearn: 13.8189261\ttotal: 17.1s\tremaining: 38s\n",
            "40:\tlearn: 11.8316922\ttotal: 22.5s\tremaining: 32.3s\n",
            "50:\tlearn: 10.4340565\ttotal: 27.7s\tremaining: 26.6s\n",
            "60:\tlearn: 9.3084460\ttotal: 33s\tremaining: 21.1s\n",
            "70:\tlearn: 8.4010422\ttotal: 38.3s\tremaining: 15.7s\n",
            "80:\tlearn: 7.7041698\ttotal: 43.6s\tremaining: 10.2s\n",
            "90:\tlearn: 6.9980577\ttotal: 49.3s\tremaining: 4.87s\n",
            "99:\tlearn: 6.4474271\ttotal: 54s\tremaining: 0us\n",
            "0:\tlearn: 32.2912012\ttotal: 583ms\tremaining: 57.7s\n",
            "10:\tlearn: 22.4597231\ttotal: 6.2s\tremaining: 50.2s\n",
            "20:\tlearn: 17.9015488\ttotal: 11.8s\tremaining: 44.2s\n",
            "30:\tlearn: 15.2536284\ttotal: 17.3s\tremaining: 38.6s\n",
            "40:\tlearn: 13.6819413\ttotal: 23.2s\tremaining: 33.5s\n",
            "50:\tlearn: 12.2202826\ttotal: 29.1s\tremaining: 28s\n",
            "60:\tlearn: 11.2478049\ttotal: 34.5s\tremaining: 22.1s\n",
            "70:\tlearn: 10.2202214\ttotal: 40.5s\tremaining: 16.5s\n",
            "80:\tlearn: 9.3378646\ttotal: 46.5s\tremaining: 10.9s\n",
            "90:\tlearn: 8.6292267\ttotal: 52.5s\tremaining: 5.19s\n",
            "99:\tlearn: 8.1768029\ttotal: 57.6s\tremaining: 0us\n",
            "0:\tlearn: 28.1238309\ttotal: 441ms\tremaining: 1m 27s\n",
            "10:\tlearn: 19.5968806\ttotal: 5.04s\tremaining: 1m 26s\n",
            "20:\tlearn: 15.1944272\ttotal: 9.38s\tremaining: 1m 19s\n",
            "30:\tlearn: 12.2530271\ttotal: 14.1s\tremaining: 1m 16s\n",
            "40:\tlearn: 10.1507249\ttotal: 19.3s\tremaining: 1m 14s\n",
            "50:\tlearn: 8.5125883\ttotal: 24.2s\tremaining: 1m 10s\n",
            "60:\tlearn: 7.1437188\ttotal: 28.6s\tremaining: 1m 5s\n",
            "70:\tlearn: 6.1059077\ttotal: 33.3s\tremaining: 1m\n",
            "80:\tlearn: 5.2617397\ttotal: 37.9s\tremaining: 55.6s\n",
            "90:\tlearn: 4.4280209\ttotal: 42.5s\tremaining: 50.9s\n",
            "100:\tlearn: 3.7957982\ttotal: 47.1s\tremaining: 46.1s\n",
            "110:\tlearn: 3.2005701\ttotal: 51.9s\tremaining: 41.6s\n",
            "120:\tlearn: 2.7716325\ttotal: 56.7s\tremaining: 37s\n",
            "130:\tlearn: 2.4537393\ttotal: 1m 1s\tremaining: 32.3s\n",
            "140:\tlearn: 2.1575363\ttotal: 1m 5s\tremaining: 27.5s\n",
            "150:\tlearn: 1.8702043\ttotal: 1m 10s\tremaining: 22.8s\n",
            "160:\tlearn: 1.6158187\ttotal: 1m 14s\tremaining: 18s\n",
            "170:\tlearn: 1.4334087\ttotal: 1m 18s\tremaining: 13.4s\n",
            "180:\tlearn: 1.2177569\ttotal: 1m 23s\tremaining: 8.77s\n",
            "190:\tlearn: 1.0498421\ttotal: 1m 28s\tremaining: 4.17s\n",
            "199:\tlearn: 0.9628040\ttotal: 1m 32s\tremaining: 0us\n",
            "0:\tlearn: 31.2344554\ttotal: 603ms\tremaining: 2m\n",
            "10:\tlearn: 21.6797571\ttotal: 6.18s\tremaining: 1m 46s\n",
            "20:\tlearn: 16.7588400\ttotal: 11.8s\tremaining: 1m 40s\n",
            "30:\tlearn: 13.8189261\ttotal: 17.9s\tremaining: 1m 37s\n",
            "40:\tlearn: 11.8316922\ttotal: 23.8s\tremaining: 1m 32s\n",
            "50:\tlearn: 10.4340565\ttotal: 29.3s\tremaining: 1m 25s\n",
            "60:\tlearn: 9.3084460\ttotal: 34.4s\tremaining: 1m 18s\n",
            "70:\tlearn: 8.4010422\ttotal: 40.1s\tremaining: 1m 12s\n",
            "80:\tlearn: 7.7041698\ttotal: 45.4s\tremaining: 1m 6s\n",
            "90:\tlearn: 6.9980577\ttotal: 50.6s\tremaining: 1m\n",
            "100:\tlearn: 6.3631702\ttotal: 56s\tremaining: 54.9s\n",
            "110:\tlearn: 5.7120131\ttotal: 1m 1s\tremaining: 48.9s\n",
            "120:\tlearn: 5.1083384\ttotal: 1m 5s\tremaining: 43s\n",
            "130:\tlearn: 4.5579886\ttotal: 1m 10s\tremaining: 37.2s\n",
            "140:\tlearn: 4.1194778\ttotal: 1m 15s\tremaining: 31.6s\n",
            "150:\tlearn: 3.7789261\ttotal: 1m 20s\tremaining: 26.1s\n",
            "160:\tlearn: 3.5002149\ttotal: 1m 25s\tremaining: 20.7s\n",
            "170:\tlearn: 3.1910958\ttotal: 1m 30s\tremaining: 15.3s\n",
            "180:\tlearn: 2.8550097\ttotal: 1m 34s\tremaining: 9.97s\n",
            "190:\tlearn: 2.5878548\ttotal: 1m 39s\tremaining: 4.7s\n",
            "199:\tlearn: 2.3756353\ttotal: 1m 44s\tremaining: 0us\n",
            "0:\tlearn: 32.2912012\ttotal: 656ms\tremaining: 2m 10s\n",
            "10:\tlearn: 22.4597231\ttotal: 6.14s\tremaining: 1m 45s\n",
            "20:\tlearn: 17.9015488\ttotal: 11.6s\tremaining: 1m 38s\n",
            "30:\tlearn: 15.2536284\ttotal: 16.7s\tremaining: 1m 31s\n",
            "40:\tlearn: 13.6819413\ttotal: 22s\tremaining: 1m 25s\n",
            "50:\tlearn: 12.2202826\ttotal: 27.5s\tremaining: 1m 20s\n",
            "60:\tlearn: 11.2478049\ttotal: 32.9s\tremaining: 1m 14s\n",
            "70:\tlearn: 10.2202214\ttotal: 38.6s\tremaining: 1m 10s\n",
            "80:\tlearn: 9.3378646\ttotal: 44.5s\tremaining: 1m 5s\n",
            "90:\tlearn: 8.6292267\ttotal: 50.4s\tremaining: 1m\n",
            "100:\tlearn: 8.1126176\ttotal: 56.3s\tremaining: 55.2s\n",
            "110:\tlearn: 7.5248291\ttotal: 1m 2s\tremaining: 49.8s\n",
            "120:\tlearn: 6.9690539\ttotal: 1m 7s\tremaining: 44.2s\n",
            "130:\tlearn: 6.4491748\ttotal: 1m 13s\tremaining: 38.5s\n",
            "140:\tlearn: 5.9590741\ttotal: 1m 18s\tremaining: 32.7s\n",
            "150:\tlearn: 5.6148362\ttotal: 1m 23s\tremaining: 27.1s\n",
            "160:\tlearn: 5.2352684\ttotal: 1m 28s\tremaining: 21.5s\n",
            "170:\tlearn: 4.8922539\ttotal: 1m 34s\tremaining: 16s\n",
            "180:\tlearn: 4.5957032\ttotal: 1m 39s\tremaining: 10.5s\n",
            "190:\tlearn: 4.2487104\ttotal: 1m 44s\tremaining: 4.95s\n",
            "199:\tlearn: 3.9661724\ttotal: 1m 49s\tremaining: 0us\n",
            "0:\tlearn: 28.1238309\ttotal: 379ms\tremaining: 1m 53s\n",
            "10:\tlearn: 19.5968806\ttotal: 4.44s\tremaining: 1m 56s\n",
            "20:\tlearn: 15.1944272\ttotal: 8.46s\tremaining: 1m 52s\n",
            "30:\tlearn: 12.2530271\ttotal: 12.4s\tremaining: 1m 47s\n",
            "40:\tlearn: 10.1507249\ttotal: 16.6s\tremaining: 1m 44s\n",
            "50:\tlearn: 8.5125883\ttotal: 20.5s\tremaining: 1m 40s\n",
            "60:\tlearn: 7.1437188\ttotal: 24.4s\tremaining: 1m 35s\n",
            "70:\tlearn: 6.1059077\ttotal: 28.2s\tremaining: 1m 30s\n",
            "80:\tlearn: 5.2617397\ttotal: 32s\tremaining: 1m 26s\n",
            "90:\tlearn: 4.4280209\ttotal: 35.9s\tremaining: 1m 22s\n",
            "100:\tlearn: 3.7957982\ttotal: 40s\tremaining: 1m 18s\n",
            "110:\tlearn: 3.2005701\ttotal: 44.2s\tremaining: 1m 15s\n",
            "120:\tlearn: 2.7716325\ttotal: 48.4s\tremaining: 1m 11s\n",
            "130:\tlearn: 2.4537393\ttotal: 52.4s\tremaining: 1m 7s\n",
            "140:\tlearn: 2.1575363\ttotal: 56.3s\tremaining: 1m 3s\n",
            "150:\tlearn: 1.8702043\ttotal: 1m\tremaining: 59.7s\n",
            "160:\tlearn: 1.6158187\ttotal: 1m 4s\tremaining: 56.1s\n",
            "170:\tlearn: 1.4334087\ttotal: 1m 9s\tremaining: 52.6s\n",
            "180:\tlearn: 1.2177569\ttotal: 1m 14s\tremaining: 49s\n",
            "190:\tlearn: 1.0498421\ttotal: 1m 18s\tremaining: 45s\n",
            "200:\tlearn: 0.9577141\ttotal: 1m 22s\tremaining: 40.8s\n",
            "210:\tlearn: 0.8578392\ttotal: 1m 26s\tremaining: 36.5s\n",
            "220:\tlearn: 0.7347000\ttotal: 1m 30s\tremaining: 32.3s\n",
            "230:\tlearn: 0.6252703\ttotal: 1m 34s\tremaining: 28.1s\n",
            "240:\tlearn: 0.5365175\ttotal: 1m 37s\tremaining: 24s\n",
            "250:\tlearn: 0.4771401\ttotal: 1m 41s\tremaining: 19.9s\n",
            "260:\tlearn: 0.4254221\ttotal: 1m 45s\tremaining: 15.8s\n",
            "270:\tlearn: 0.3724112\ttotal: 1m 49s\tremaining: 11.7s\n",
            "280:\tlearn: 0.3277307\ttotal: 1m 53s\tremaining: 7.66s\n",
            "290:\tlearn: 0.2860080\ttotal: 1m 56s\tremaining: 3.62s\n",
            "299:\tlearn: 0.2504098\ttotal: 2m\tremaining: 0us\n",
            "0:\tlearn: 31.2344554\ttotal: 454ms\tremaining: 2m 15s\n",
            "10:\tlearn: 21.6797571\ttotal: 5.02s\tremaining: 2m 11s\n",
            "20:\tlearn: 16.7588400\ttotal: 9.72s\tremaining: 2m 9s\n",
            "30:\tlearn: 13.8189261\ttotal: 14.6s\tremaining: 2m 6s\n",
            "40:\tlearn: 11.8316922\ttotal: 19.7s\tremaining: 2m 4s\n",
            "50:\tlearn: 10.4340565\ttotal: 24.4s\tremaining: 1m 59s\n",
            "60:\tlearn: 9.3084460\ttotal: 29.2s\tremaining: 1m 54s\n",
            "70:\tlearn: 8.4010422\ttotal: 34s\tremaining: 1m 49s\n",
            "80:\tlearn: 7.7041698\ttotal: 39s\tremaining: 1m 45s\n",
            "90:\tlearn: 6.9980577\ttotal: 43.9s\tremaining: 1m 40s\n",
            "100:\tlearn: 6.3631702\ttotal: 49s\tremaining: 1m 36s\n",
            "110:\tlearn: 5.7120131\ttotal: 53.7s\tremaining: 1m 31s\n",
            "120:\tlearn: 5.1083384\ttotal: 58.5s\tremaining: 1m 26s\n",
            "130:\tlearn: 4.5579886\ttotal: 1m 3s\tremaining: 1m 22s\n",
            "140:\tlearn: 4.1194778\ttotal: 1m 8s\tremaining: 1m 17s\n",
            "150:\tlearn: 3.7789261\ttotal: 1m 13s\tremaining: 1m 12s\n",
            "160:\tlearn: 3.5002149\ttotal: 1m 19s\tremaining: 1m 8s\n",
            "170:\tlearn: 3.1910958\ttotal: 1m 23s\tremaining: 1m 3s\n",
            "180:\tlearn: 2.8550097\ttotal: 1m 28s\tremaining: 58.2s\n",
            "190:\tlearn: 2.5878548\ttotal: 1m 33s\tremaining: 53.5s\n",
            "200:\tlearn: 2.3583270\ttotal: 1m 38s\tremaining: 48.7s\n",
            "210:\tlearn: 2.1675064\ttotal: 1m 44s\tremaining: 44s\n",
            "220:\tlearn: 1.9375156\ttotal: 1m 49s\tremaining: 39s\n",
            "230:\tlearn: 1.7454771\ttotal: 1m 54s\tremaining: 34.2s\n",
            "240:\tlearn: 1.5838806\ttotal: 1m 59s\tremaining: 29.3s\n",
            "250:\tlearn: 1.4665177\ttotal: 2m 4s\tremaining: 24.4s\n",
            "260:\tlearn: 1.3524722\ttotal: 2m 10s\tremaining: 19.4s\n",
            "270:\tlearn: 1.2359230\ttotal: 2m 15s\tremaining: 14.5s\n",
            "280:\tlearn: 1.1533739\ttotal: 2m 20s\tremaining: 9.53s\n",
            "290:\tlearn: 1.0857051\ttotal: 2m 25s\tremaining: 4.51s\n",
            "299:\tlearn: 1.0119783\ttotal: 2m 30s\tremaining: 0us\n",
            "0:\tlearn: 32.2912012\ttotal: 561ms\tremaining: 2m 47s\n",
            "10:\tlearn: 22.4597231\ttotal: 6.29s\tremaining: 2m 45s\n",
            "20:\tlearn: 17.9015488\ttotal: 12.1s\tremaining: 2m 40s\n",
            "30:\tlearn: 15.2536284\ttotal: 17.8s\tremaining: 2m 34s\n",
            "40:\tlearn: 13.6819413\ttotal: 23.5s\tremaining: 2m 28s\n",
            "50:\tlearn: 12.2202826\ttotal: 29s\tremaining: 2m 21s\n",
            "60:\tlearn: 11.2478049\ttotal: 34.3s\tremaining: 2m 14s\n",
            "70:\tlearn: 10.2202214\ttotal: 39.7s\tremaining: 2m 8s\n",
            "80:\tlearn: 9.3378646\ttotal: 45.2s\tremaining: 2m 2s\n",
            "90:\tlearn: 8.6292267\ttotal: 50.5s\tremaining: 1m 55s\n",
            "100:\tlearn: 8.1126176\ttotal: 55.9s\tremaining: 1m 50s\n",
            "110:\tlearn: 7.5248291\ttotal: 1m 1s\tremaining: 1m 43s\n",
            "120:\tlearn: 6.9690539\ttotal: 1m 6s\tremaining: 1m 38s\n",
            "130:\tlearn: 6.4491748\ttotal: 1m 12s\tremaining: 1m 33s\n",
            "140:\tlearn: 5.9590741\ttotal: 1m 18s\tremaining: 1m 28s\n",
            "150:\tlearn: 5.6148362\ttotal: 1m 23s\tremaining: 1m 22s\n",
            "160:\tlearn: 5.2352684\ttotal: 1m 29s\tremaining: 1m 17s\n",
            "170:\tlearn: 4.8922539\ttotal: 1m 35s\tremaining: 1m 11s\n",
            "180:\tlearn: 4.5957032\ttotal: 1m 40s\tremaining: 1m 6s\n",
            "190:\tlearn: 4.2487104\ttotal: 1m 46s\tremaining: 1m\n",
            "200:\tlearn: 3.9571204\ttotal: 1m 52s\tremaining: 55.3s\n",
            "210:\tlearn: 3.6735668\ttotal: 1m 57s\tremaining: 49.7s\n",
            "220:\tlearn: 3.4045626\ttotal: 2m 3s\tremaining: 44.1s\n",
            "230:\tlearn: 3.2117947\ttotal: 2m 8s\tremaining: 38.5s\n",
            "240:\tlearn: 2.9698046\ttotal: 2m 14s\tremaining: 32.8s\n",
            "250:\tlearn: 2.7255155\ttotal: 2m 19s\tremaining: 27.3s\n",
            "260:\tlearn: 2.5676515\ttotal: 2m 24s\tremaining: 21.7s\n",
            "270:\tlearn: 2.4436264\ttotal: 2m 30s\tremaining: 16.1s\n",
            "280:\tlearn: 2.3024349\ttotal: 2m 35s\tremaining: 10.5s\n",
            "290:\tlearn: 2.1514156\ttotal: 2m 41s\tremaining: 5s\n",
            "299:\tlearn: 2.0515489\ttotal: 2m 46s\tremaining: 0us\n",
            "0:\tlearn: 37.1606369\ttotal: 9.66ms\tremaining: 1.92s\n",
            "10:\tlearn: 27.4527489\ttotal: 114ms\tremaining: 1.96s\n",
            "20:\tlearn: 24.2715693\ttotal: 199ms\tremaining: 1.7s\n",
            "30:\tlearn: 23.1029956\ttotal: 292ms\tremaining: 1.59s\n",
            "40:\tlearn: 22.6778569\ttotal: 380ms\tremaining: 1.47s\n",
            "50:\tlearn: 22.3099179\ttotal: 479ms\tremaining: 1.4s\n",
            "60:\tlearn: 22.0475912\ttotal: 561ms\tremaining: 1.28s\n",
            "70:\tlearn: 21.8089075\ttotal: 646ms\tremaining: 1.17s\n",
            "80:\tlearn: 21.5112959\ttotal: 734ms\tremaining: 1.08s\n",
            "90:\tlearn: 21.3048898\ttotal: 812ms\tremaining: 973ms\n",
            "100:\tlearn: 21.0705984\ttotal: 896ms\tremaining: 878ms\n",
            "110:\tlearn: 20.8038735\ttotal: 977ms\tremaining: 783ms\n",
            "120:\tlearn: 20.6002829\ttotal: 1.06s\tremaining: 692ms\n",
            "130:\tlearn: 20.3626409\ttotal: 1.14s\tremaining: 601ms\n",
            "140:\tlearn: 20.0841075\ttotal: 1.23s\tremaining: 513ms\n",
            "150:\tlearn: 19.8756153\ttotal: 1.31s\tremaining: 425ms\n",
            "160:\tlearn: 19.6947840\ttotal: 1.39s\tremaining: 336ms\n",
            "170:\tlearn: 19.4809382\ttotal: 1.47s\tremaining: 250ms\n",
            "180:\tlearn: 19.3182629\ttotal: 1.56s\tremaining: 163ms\n",
            "190:\tlearn: 19.1707255\ttotal: 1.65s\tremaining: 77.6ms\n",
            "199:\tlearn: 19.0443168\ttotal: 1.74s\tremaining: 0us\n",
            "{'depth': 3, 'iterations': 200, 'learning_rate': 0.1}\n",
            "CPU times: user 22min 52s, sys: 4.86 s, total: 22min 57s\n",
            "Wall time: 24min 11s\n"
          ]
        },
        {
          "data": {
            "text/plain": [
              "-24.563864019553247"
            ]
          },
          "execution_count": 60,
          "metadata": {},
          "output_type": "execute_result"
        }
      ],
      "source": [
        "%%time\n",
        "\n",
        "model_cb = CatBoostRegressor(random_state=random_state)\n",
        "\n",
        "tscv = TimeSeriesSplit(n_splits=3)\n",
        "\n",
        "parameters = {\n",
        "    'depth':  range (1, 13, 2),\n",
        "    'learning_rate': [0.1],\n",
        "    'iterations': [100, 200, 300]\n",
        "}\n",
        "\n",
        "grid_cb = GridSearchCV(model_cb, parameters, cv=tscv, scoring='neg_root_mean_squared_error', verbose=True)\n",
        "grid_cb.fit(features_train, target_train, verbose=10)\n",
        "\n",
        "print(grid_cb.best_params_)\n",
        "grid_cb.best_score_"
      ]
    },
    {
      "cell_type": "markdown",
      "metadata": {
        "id": "aK7sUhkJrjJT"
      },
      "source": [
        "LightGBM:"
      ]
    },
    {
      "cell_type": "code",
      "execution_count": null,
      "metadata": {
        "id": "nukMKNvxrjJT",
        "outputId": "20c329d3-9653-4c79-c24b-60bb9574146e"
      },
      "outputs": [
        {
          "name": "stderr",
          "output_type": "stream",
          "text": [
            "/opt/conda/lib/python3.9/site-packages/lightgbm/sklearn.py:736: UserWarning: 'verbose' argument is deprecated and will be removed in a future release of LightGBM. Pass 'log_evaluation()' callback via 'callbacks' argument instead.\n",
            "  _log_warning(\"'verbose' argument is deprecated and will be removed in a future release of LightGBM. \"\n",
            "/opt/conda/lib/python3.9/site-packages/lightgbm/sklearn.py:736: UserWarning: 'verbose' argument is deprecated and will be removed in a future release of LightGBM. Pass 'log_evaluation()' callback via 'callbacks' argument instead.\n",
            "  _log_warning(\"'verbose' argument is deprecated and will be removed in a future release of LightGBM. \"\n",
            "/opt/conda/lib/python3.9/site-packages/lightgbm/sklearn.py:736: UserWarning: 'verbose' argument is deprecated and will be removed in a future release of LightGBM. Pass 'log_evaluation()' callback via 'callbacks' argument instead.\n",
            "  _log_warning(\"'verbose' argument is deprecated and will be removed in a future release of LightGBM. \"\n",
            "/opt/conda/lib/python3.9/site-packages/lightgbm/sklearn.py:736: UserWarning: 'verbose' argument is deprecated and will be removed in a future release of LightGBM. Pass 'log_evaluation()' callback via 'callbacks' argument instead.\n",
            "  _log_warning(\"'verbose' argument is deprecated and will be removed in a future release of LightGBM. \"\n",
            "/opt/conda/lib/python3.9/site-packages/lightgbm/sklearn.py:736: UserWarning: 'verbose' argument is deprecated and will be removed in a future release of LightGBM. Pass 'log_evaluation()' callback via 'callbacks' argument instead.\n",
            "  _log_warning(\"'verbose' argument is deprecated and will be removed in a future release of LightGBM. \"\n",
            "/opt/conda/lib/python3.9/site-packages/lightgbm/sklearn.py:736: UserWarning: 'verbose' argument is deprecated and will be removed in a future release of LightGBM. Pass 'log_evaluation()' callback via 'callbacks' argument instead.\n",
            "  _log_warning(\"'verbose' argument is deprecated and will be removed in a future release of LightGBM. \"\n",
            "/opt/conda/lib/python3.9/site-packages/lightgbm/sklearn.py:736: UserWarning: 'verbose' argument is deprecated and will be removed in a future release of LightGBM. Pass 'log_evaluation()' callback via 'callbacks' argument instead.\n",
            "  _log_warning(\"'verbose' argument is deprecated and will be removed in a future release of LightGBM. \"\n",
            "/opt/conda/lib/python3.9/site-packages/lightgbm/sklearn.py:736: UserWarning: 'verbose' argument is deprecated and will be removed in a future release of LightGBM. Pass 'log_evaluation()' callback via 'callbacks' argument instead.\n",
            "  _log_warning(\"'verbose' argument is deprecated and will be removed in a future release of LightGBM. \"\n",
            "/opt/conda/lib/python3.9/site-packages/lightgbm/sklearn.py:736: UserWarning: 'verbose' argument is deprecated and will be removed in a future release of LightGBM. Pass 'log_evaluation()' callback via 'callbacks' argument instead.\n",
            "  _log_warning(\"'verbose' argument is deprecated and will be removed in a future release of LightGBM. \"\n",
            "/opt/conda/lib/python3.9/site-packages/lightgbm/sklearn.py:736: UserWarning: 'verbose' argument is deprecated and will be removed in a future release of LightGBM. Pass 'log_evaluation()' callback via 'callbacks' argument instead.\n",
            "  _log_warning(\"'verbose' argument is deprecated and will be removed in a future release of LightGBM. \"\n",
            "/opt/conda/lib/python3.9/site-packages/lightgbm/sklearn.py:736: UserWarning: 'verbose' argument is deprecated and will be removed in a future release of LightGBM. Pass 'log_evaluation()' callback via 'callbacks' argument instead.\n",
            "  _log_warning(\"'verbose' argument is deprecated and will be removed in a future release of LightGBM. \"\n",
            "/opt/conda/lib/python3.9/site-packages/lightgbm/sklearn.py:736: UserWarning: 'verbose' argument is deprecated and will be removed in a future release of LightGBM. Pass 'log_evaluation()' callback via 'callbacks' argument instead.\n",
            "  _log_warning(\"'verbose' argument is deprecated and will be removed in a future release of LightGBM. \"\n",
            "/opt/conda/lib/python3.9/site-packages/lightgbm/sklearn.py:736: UserWarning: 'verbose' argument is deprecated and will be removed in a future release of LightGBM. Pass 'log_evaluation()' callback via 'callbacks' argument instead.\n",
            "  _log_warning(\"'verbose' argument is deprecated and will be removed in a future release of LightGBM. \"\n"
          ]
        },
        {
          "name": "stdout",
          "output_type": "stream",
          "text": [
            "{'learning_rate': 0.1, 'n_estimators': 100, 'num_leaves': 30}\n",
            "CPU times: user 57min 13s, sys: 36.9 s, total: 57min 50s\n",
            "Wall time: 58min 7s\n"
          ]
        },
        {
          "data": {
            "text/plain": [
              "-25.480140725357746"
            ]
          },
          "execution_count": 61,
          "metadata": {},
          "output_type": "execute_result"
        }
      ],
      "source": [
        "%%time\n",
        "\n",
        "model_lgb = LGBMRegressor(random_state=random_state)\n",
        "\n",
        "tscv = TimeSeriesSplit(n_splits=3)\n",
        "\n",
        "parameters = {\n",
        "    'num_leaves': [10, 30],\n",
        "    'learning_rate': [0.1],\n",
        "    'n_estimators': [100, 200]\n",
        "}\n",
        "\n",
        "grid_lgb = GridSearchCV(model_lgb, parameters, cv=tscv, scoring='neg_root_mean_squared_error', n_jobs=-1)\n",
        "grid_lgb.fit(features_train, target_train, verbose=10)\n",
        "\n",
        "print(grid_lgb.best_params_)\n",
        "grid_lgb.best_score_"
      ]
    },
    {
      "cell_type": "markdown",
      "metadata": {
        "id": "XAPAfLgurjJT"
      },
      "source": [
        "<div class=\"alert alert-info\">\n",
        "Лучшее качество показала модель CatBoost с параметрами 'depth': 3, 'iterations': 200, 'learning_rate': 0.1\n",
        "</div>"
      ]
    },
    {
      "cell_type": "markdown",
      "metadata": {
        "id": "siRHfFwTrjJT"
      },
      "source": [
        "## Тестирование"
      ]
    },
    {
      "cell_type": "markdown",
      "metadata": {
        "id": "97mbG0kirjJU"
      },
      "source": [
        "Проверим качество лучшей модели (CatBoost) на тестовой выборке:"
      ]
    },
    {
      "cell_type": "code",
      "execution_count": null,
      "metadata": {
        "id": "aejK8EG6rjJU"
      },
      "outputs": [],
      "source": [
        "#model_rf = RandomForestRegressor(**grid_rf.best_params_, random_state=random_state)\n",
        "#model_rf.fit(features_train, target_train)\n",
        "\n",
        "#pred_rf = model_rf.predict(features_test)\n",
        "#rmse_rf = mean_squared_error(target_test, pred_rf) ** 0.5\n",
        "#print(rmse_rf)"
      ]
    },
    {
      "cell_type": "code",
      "execution_count": null,
      "metadata": {
        "id": "xg6h8c9KrjJU",
        "outputId": "10c4fbc8-6b99-4aa8-ae2d-d155c7421091"
      },
      "outputs": [
        {
          "name": "stdout",
          "output_type": "stream",
          "text": [
            "0:\tlearn: 37.1606369\ttotal: 11.3ms\tremaining: 2.24s\n",
            "1:\tlearn: 35.5759588\ttotal: 25.4ms\tremaining: 2.52s\n",
            "2:\tlearn: 34.1957846\ttotal: 40.2ms\tremaining: 2.64s\n",
            "3:\tlearn: 32.9658729\ttotal: 55.1ms\tremaining: 2.7s\n",
            "4:\tlearn: 31.9111302\ttotal: 72.5ms\tremaining: 2.83s\n",
            "5:\tlearn: 30.9355533\ttotal: 87.4ms\tremaining: 2.83s\n",
            "6:\tlearn: 30.1321160\ttotal: 102ms\tremaining: 2.82s\n",
            "7:\tlearn: 29.2903153\ttotal: 116ms\tremaining: 2.79s\n",
            "8:\tlearn: 28.6504430\ttotal: 130ms\tremaining: 2.77s\n",
            "9:\tlearn: 28.0687219\ttotal: 145ms\tremaining: 2.75s\n",
            "10:\tlearn: 27.4527489\ttotal: 159ms\tremaining: 2.72s\n",
            "11:\tlearn: 26.9116876\ttotal: 172ms\tremaining: 2.69s\n",
            "12:\tlearn: 26.4364070\ttotal: 183ms\tremaining: 2.63s\n",
            "13:\tlearn: 26.0257917\ttotal: 193ms\tremaining: 2.56s\n",
            "14:\tlearn: 25.6960052\ttotal: 206ms\tremaining: 2.54s\n",
            "15:\tlearn: 25.3480219\ttotal: 217ms\tremaining: 2.49s\n",
            "16:\tlearn: 25.0504310\ttotal: 227ms\tremaining: 2.44s\n",
            "17:\tlearn: 24.8286557\ttotal: 241ms\tremaining: 2.44s\n",
            "18:\tlearn: 24.6168195\ttotal: 254ms\tremaining: 2.42s\n",
            "19:\tlearn: 24.4396040\ttotal: 268ms\tremaining: 2.41s\n",
            "20:\tlearn: 24.2715693\ttotal: 282ms\tremaining: 2.4s\n",
            "21:\tlearn: 24.1088817\ttotal: 295ms\tremaining: 2.39s\n",
            "22:\tlearn: 23.9771768\ttotal: 309ms\tremaining: 2.38s\n",
            "23:\tlearn: 23.8409798\ttotal: 323ms\tremaining: 2.37s\n",
            "24:\tlearn: 23.6795944\ttotal: 336ms\tremaining: 2.35s\n",
            "25:\tlearn: 23.5524975\ttotal: 350ms\tremaining: 2.34s\n",
            "26:\tlearn: 23.4464082\ttotal: 359ms\tremaining: 2.3s\n",
            "27:\tlearn: 23.3228888\ttotal: 367ms\tremaining: 2.25s\n",
            "28:\tlearn: 23.2330204\ttotal: 376ms\tremaining: 2.22s\n",
            "29:\tlearn: 23.2082068\ttotal: 385ms\tremaining: 2.18s\n",
            "30:\tlearn: 23.1029956\ttotal: 394ms\tremaining: 2.15s\n",
            "31:\tlearn: 23.0269433\ttotal: 402ms\tremaining: 2.11s\n",
            "32:\tlearn: 22.9630442\ttotal: 412ms\tremaining: 2.08s\n",
            "33:\tlearn: 22.9467897\ttotal: 420ms\tremaining: 2.05s\n",
            "34:\tlearn: 22.8850529\ttotal: 434ms\tremaining: 2.04s\n",
            "35:\tlearn: 22.8194559\ttotal: 447ms\tremaining: 2.04s\n",
            "36:\tlearn: 22.7969162\ttotal: 462ms\tremaining: 2.04s\n",
            "37:\tlearn: 22.7411975\ttotal: 476ms\tremaining: 2.03s\n",
            "38:\tlearn: 22.7224477\ttotal: 491ms\tremaining: 2.02s\n",
            "39:\tlearn: 22.6993482\ttotal: 500ms\tremaining: 2s\n",
            "40:\tlearn: 22.6778569\ttotal: 509ms\tremaining: 1.97s\n",
            "41:\tlearn: 22.6070692\ttotal: 518ms\tremaining: 1.95s\n",
            "42:\tlearn: 22.5888956\ttotal: 532ms\tremaining: 1.94s\n",
            "43:\tlearn: 22.5735694\ttotal: 540ms\tremaining: 1.91s\n",
            "44:\tlearn: 22.5208203\ttotal: 548ms\tremaining: 1.89s\n",
            "45:\tlearn: 22.4769304\ttotal: 556ms\tremaining: 1.86s\n",
            "46:\tlearn: 22.4316795\ttotal: 565ms\tremaining: 1.84s\n",
            "47:\tlearn: 22.3822544\ttotal: 573ms\tremaining: 1.81s\n",
            "48:\tlearn: 22.3679581\ttotal: 581ms\tremaining: 1.79s\n",
            "49:\tlearn: 22.3529640\ttotal: 589ms\tremaining: 1.77s\n",
            "50:\tlearn: 22.3099179\ttotal: 598ms\tremaining: 1.75s\n",
            "51:\tlearn: 22.2773967\ttotal: 607ms\tremaining: 1.73s\n",
            "52:\tlearn: 22.2533663\ttotal: 621ms\tremaining: 1.72s\n",
            "53:\tlearn: 22.2375244\ttotal: 635ms\tremaining: 1.72s\n",
            "54:\tlearn: 22.2264967\ttotal: 644ms\tremaining: 1.7s\n",
            "55:\tlearn: 22.1650958\ttotal: 652ms\tremaining: 1.68s\n",
            "56:\tlearn: 22.1392631\ttotal: 660ms\tremaining: 1.66s\n",
            "57:\tlearn: 22.0980145\ttotal: 669ms\tremaining: 1.64s\n",
            "58:\tlearn: 22.0671318\ttotal: 677ms\tremaining: 1.62s\n",
            "59:\tlearn: 22.0572328\ttotal: 685ms\tremaining: 1.6s\n",
            "60:\tlearn: 22.0475912\ttotal: 695ms\tremaining: 1.58s\n",
            "61:\tlearn: 22.0138960\ttotal: 704ms\tremaining: 1.57s\n",
            "62:\tlearn: 22.0049952\ttotal: 715ms\tremaining: 1.55s\n",
            "63:\tlearn: 21.9755015\ttotal: 727ms\tremaining: 1.54s\n",
            "64:\tlearn: 21.9441104\ttotal: 735ms\tremaining: 1.53s\n",
            "65:\tlearn: 21.9125606\ttotal: 743ms\tremaining: 1.51s\n",
            "66:\tlearn: 21.9032355\ttotal: 752ms\tremaining: 1.49s\n",
            "67:\tlearn: 21.8682099\ttotal: 760ms\tremaining: 1.48s\n",
            "68:\tlearn: 21.8440265\ttotal: 768ms\tremaining: 1.46s\n",
            "69:\tlearn: 21.8329803\ttotal: 777ms\tremaining: 1.44s\n",
            "70:\tlearn: 21.8089075\ttotal: 785ms\tremaining: 1.43s\n",
            "71:\tlearn: 21.7845793\ttotal: 793ms\tremaining: 1.41s\n",
            "72:\tlearn: 21.7577398\ttotal: 807ms\tremaining: 1.4s\n",
            "73:\tlearn: 21.7144123\ttotal: 815ms\tremaining: 1.39s\n",
            "74:\tlearn: 21.7037984\ttotal: 824ms\tremaining: 1.37s\n",
            "75:\tlearn: 21.6887387\ttotal: 832ms\tremaining: 1.36s\n",
            "76:\tlearn: 21.6471204\ttotal: 840ms\tremaining: 1.34s\n",
            "77:\tlearn: 21.6109831\ttotal: 848ms\tremaining: 1.33s\n",
            "78:\tlearn: 21.6017945\ttotal: 856ms\tremaining: 1.31s\n",
            "79:\tlearn: 21.5620508\ttotal: 867ms\tremaining: 1.3s\n",
            "80:\tlearn: 21.5112959\ttotal: 879ms\tremaining: 1.29s\n",
            "81:\tlearn: 21.4854345\ttotal: 892ms\tremaining: 1.28s\n",
            "82:\tlearn: 21.4591263\ttotal: 901ms\tremaining: 1.27s\n",
            "83:\tlearn: 21.4329441\ttotal: 912ms\tremaining: 1.26s\n",
            "84:\tlearn: 21.3978139\ttotal: 925ms\tremaining: 1.25s\n",
            "85:\tlearn: 21.3649076\ttotal: 938ms\tremaining: 1.24s\n",
            "86:\tlearn: 21.3418045\ttotal: 952ms\tremaining: 1.24s\n",
            "87:\tlearn: 21.3358821\ttotal: 965ms\tremaining: 1.23s\n",
            "88:\tlearn: 21.3299886\ttotal: 979ms\tremaining: 1.22s\n",
            "89:\tlearn: 21.3237084\ttotal: 990ms\tremaining: 1.21s\n",
            "90:\tlearn: 21.3048898\ttotal: 1s\tremaining: 1.2s\n",
            "91:\tlearn: 21.2988680\ttotal: 1.01s\tremaining: 1.19s\n",
            "92:\tlearn: 21.2732695\ttotal: 1.02s\tremaining: 1.17s\n",
            "93:\tlearn: 21.2477419\ttotal: 1.03s\tremaining: 1.16s\n",
            "94:\tlearn: 21.2121080\ttotal: 1.03s\tremaining: 1.14s\n",
            "95:\tlearn: 21.1910010\ttotal: 1.04s\tremaining: 1.13s\n",
            "96:\tlearn: 21.1809197\ttotal: 1.05s\tremaining: 1.12s\n",
            "97:\tlearn: 21.1602277\ttotal: 1.06s\tremaining: 1.11s\n",
            "98:\tlearn: 21.1289898\ttotal: 1.08s\tremaining: 1.1s\n",
            "99:\tlearn: 21.1038866\ttotal: 1.09s\tremaining: 1.09s\n",
            "100:\tlearn: 21.0705984\ttotal: 1.1s\tremaining: 1.08s\n",
            "101:\tlearn: 21.0529593\ttotal: 1.11s\tremaining: 1.06s\n",
            "102:\tlearn: 21.0425860\ttotal: 1.12s\tremaining: 1.05s\n",
            "103:\tlearn: 21.0042202\ttotal: 1.13s\tremaining: 1.04s\n",
            "104:\tlearn: 20.9627667\ttotal: 1.14s\tremaining: 1.03s\n",
            "105:\tlearn: 20.9164363\ttotal: 1.15s\tremaining: 1.02s\n",
            "106:\tlearn: 20.8971993\ttotal: 1.15s\tremaining: 1s\n",
            "107:\tlearn: 20.8692504\ttotal: 1.16s\tremaining: 991ms\n",
            "108:\tlearn: 20.8448814\ttotal: 1.18s\tremaining: 983ms\n",
            "109:\tlearn: 20.8175526\ttotal: 1.19s\tremaining: 974ms\n",
            "110:\tlearn: 20.8038735\ttotal: 1.2s\tremaining: 961ms\n",
            "111:\tlearn: 20.7840763\ttotal: 1.21s\tremaining: 949ms\n",
            "112:\tlearn: 20.7791675\ttotal: 1.22s\tremaining: 940ms\n",
            "113:\tlearn: 20.7652273\ttotal: 1.23s\tremaining: 931ms\n",
            "114:\tlearn: 20.7596144\ttotal: 1.25s\tremaining: 922ms\n",
            "115:\tlearn: 20.7379219\ttotal: 1.26s\tremaining: 914ms\n",
            "116:\tlearn: 20.7153283\ttotal: 1.28s\tremaining: 906ms\n",
            "117:\tlearn: 20.6792528\ttotal: 1.29s\tremaining: 897ms\n",
            "118:\tlearn: 20.6584140\ttotal: 1.3s\tremaining: 889ms\n",
            "119:\tlearn: 20.6256688\ttotal: 1.32s\tremaining: 880ms\n",
            "120:\tlearn: 20.6002829\ttotal: 1.33s\tremaining: 870ms\n",
            "121:\tlearn: 20.5785773\ttotal: 1.35s\tremaining: 861ms\n",
            "122:\tlearn: 20.5554595\ttotal: 1.36s\tremaining: 852ms\n",
            "123:\tlearn: 20.5398169\ttotal: 1.37s\tremaining: 842ms\n",
            "124:\tlearn: 20.5122759\ttotal: 1.39s\tremaining: 832ms\n",
            "125:\tlearn: 20.4877034\ttotal: 1.4s\tremaining: 823ms\n",
            "126:\tlearn: 20.4723502\ttotal: 1.41s\tremaining: 812ms\n",
            "127:\tlearn: 20.4434287\ttotal: 1.43s\tremaining: 803ms\n",
            "128:\tlearn: 20.4109849\ttotal: 1.44s\tremaining: 793ms\n",
            "129:\tlearn: 20.3826767\ttotal: 1.45s\tremaining: 783ms\n",
            "130:\tlearn: 20.3626409\ttotal: 1.47s\tremaining: 774ms\n",
            "131:\tlearn: 20.3414671\ttotal: 1.48s\tremaining: 761ms\n",
            "132:\tlearn: 20.3180788\ttotal: 1.49s\tremaining: 748ms\n",
            "133:\tlearn: 20.2901592\ttotal: 1.5s\tremaining: 738ms\n",
            "134:\tlearn: 20.2675773\ttotal: 1.51s\tremaining: 728ms\n",
            "135:\tlearn: 20.2284890\ttotal: 1.52s\tremaining: 718ms\n",
            "136:\tlearn: 20.2027816\ttotal: 1.54s\tremaining: 708ms\n",
            "137:\tlearn: 20.1621630\ttotal: 1.55s\tremaining: 698ms\n",
            "138:\tlearn: 20.1369770\ttotal: 1.57s\tremaining: 687ms\n",
            "139:\tlearn: 20.1072017\ttotal: 1.58s\tremaining: 677ms\n",
            "140:\tlearn: 20.0841075\ttotal: 1.59s\tremaining: 667ms\n",
            "141:\tlearn: 20.0609183\ttotal: 1.61s\tremaining: 656ms\n",
            "142:\tlearn: 20.0440708\ttotal: 1.62s\tremaining: 646ms\n",
            "143:\tlearn: 20.0048294\ttotal: 1.63s\tremaining: 635ms\n",
            "144:\tlearn: 19.9872624\ttotal: 1.65s\tremaining: 625ms\n",
            "145:\tlearn: 19.9697578\ttotal: 1.66s\tremaining: 613ms\n",
            "146:\tlearn: 19.9524100\ttotal: 1.67s\tremaining: 601ms\n",
            "147:\tlearn: 19.9387377\ttotal: 1.68s\tremaining: 589ms\n",
            "148:\tlearn: 19.9201491\ttotal: 1.68s\tremaining: 576ms\n",
            "149:\tlearn: 19.8950765\ttotal: 1.69s\tremaining: 564ms\n",
            "150:\tlearn: 19.8756153\ttotal: 1.7s\tremaining: 552ms\n",
            "151:\tlearn: 19.8484176\ttotal: 1.71s\tremaining: 540ms\n",
            "152:\tlearn: 19.8325018\ttotal: 1.72s\tremaining: 528ms\n",
            "153:\tlearn: 19.8159092\ttotal: 1.73s\tremaining: 516ms\n",
            "154:\tlearn: 19.8005784\ttotal: 1.74s\tremaining: 506ms\n",
            "155:\tlearn: 19.7816538\ttotal: 1.75s\tremaining: 494ms\n",
            "156:\tlearn: 19.7648207\ttotal: 1.76s\tremaining: 483ms\n",
            "157:\tlearn: 19.7443949\ttotal: 1.78s\tremaining: 472ms\n",
            "158:\tlearn: 19.7310001\ttotal: 1.79s\tremaining: 462ms\n",
            "159:\tlearn: 19.7220901\ttotal: 1.81s\tremaining: 452ms\n",
            "160:\tlearn: 19.6947840\ttotal: 1.82s\tremaining: 441ms\n",
            "161:\tlearn: 19.6707423\ttotal: 1.83s\tremaining: 430ms\n",
            "162:\tlearn: 19.6452391\ttotal: 1.85s\tremaining: 420ms\n",
            "163:\tlearn: 19.6148230\ttotal: 1.86s\tremaining: 408ms\n",
            "164:\tlearn: 19.5862586\ttotal: 1.87s\tremaining: 396ms\n",
            "165:\tlearn: 19.5674900\ttotal: 1.88s\tremaining: 385ms\n",
            "166:\tlearn: 19.5489935\ttotal: 1.89s\tremaining: 374ms\n",
            "167:\tlearn: 19.5386793\ttotal: 1.91s\tremaining: 363ms\n",
            "168:\tlearn: 19.5219855\ttotal: 1.92s\tremaining: 352ms\n",
            "169:\tlearn: 19.4975102\ttotal: 1.93s\tremaining: 341ms\n",
            "170:\tlearn: 19.4809382\ttotal: 1.95s\tremaining: 330ms\n",
            "171:\tlearn: 19.4674452\ttotal: 1.96s\tremaining: 318ms\n",
            "172:\tlearn: 19.4477550\ttotal: 1.97s\tremaining: 307ms\n",
            "173:\tlearn: 19.4290658\ttotal: 1.97s\tremaining: 295ms\n",
            "174:\tlearn: 19.4056693\ttotal: 1.98s\tremaining: 283ms\n",
            "175:\tlearn: 19.3870561\ttotal: 1.99s\tremaining: 272ms\n",
            "176:\tlearn: 19.3754950\ttotal: 2s\tremaining: 260ms\n",
            "177:\tlearn: 19.3582932\ttotal: 2.01s\tremaining: 249ms\n",
            "178:\tlearn: 19.3440025\ttotal: 2.03s\tremaining: 238ms\n",
            "179:\tlearn: 19.3307827\ttotal: 2.04s\tremaining: 226ms\n",
            "180:\tlearn: 19.3182629\ttotal: 2.05s\tremaining: 215ms\n",
            "181:\tlearn: 19.2987540\ttotal: 2.06s\tremaining: 203ms\n",
            "182:\tlearn: 19.2782173\ttotal: 2.07s\tremaining: 192ms\n",
            "183:\tlearn: 19.2627768\ttotal: 2.07s\tremaining: 180ms\n",
            "184:\tlearn: 19.2444229\ttotal: 2.08s\tremaining: 169ms\n",
            "185:\tlearn: 19.2249633\ttotal: 2.1s\tremaining: 158ms\n",
            "186:\tlearn: 19.2206486\ttotal: 2.11s\tremaining: 147ms\n",
            "187:\tlearn: 19.2011093\ttotal: 2.12s\tremaining: 135ms\n",
            "188:\tlearn: 19.1871405\ttotal: 2.13s\tremaining: 124ms\n",
            "189:\tlearn: 19.1841182\ttotal: 2.15s\tremaining: 113ms\n",
            "190:\tlearn: 19.1707255\ttotal: 2.16s\tremaining: 102ms\n",
            "191:\tlearn: 19.1619890\ttotal: 2.17s\tremaining: 90.5ms\n",
            "192:\tlearn: 19.1451897\ttotal: 2.19s\tremaining: 79.3ms\n",
            "193:\tlearn: 19.1420717\ttotal: 2.2s\tremaining: 68ms\n",
            "194:\tlearn: 19.1152663\ttotal: 2.21s\tremaining: 56.8ms\n",
            "195:\tlearn: 19.1076469\ttotal: 2.23s\tremaining: 45.5ms\n",
            "196:\tlearn: 19.0929663\ttotal: 2.24s\tremaining: 34.2ms\n",
            "197:\tlearn: 19.0834245\ttotal: 2.26s\tremaining: 22.8ms\n",
            "198:\tlearn: 19.0635816\ttotal: 2.27s\tremaining: 11.4ms\n",
            "199:\tlearn: 19.0443168\ttotal: 2.29s\tremaining: 0us\n",
            "40.15982802150737\n"
          ]
        }
      ],
      "source": [
        "model_cb = CatBoostRegressor(random_state=random_state, loss_function='RMSE', **grid_cb.best_params_)\n",
        "model_cb.fit(features_train, target_train)\n",
        "\n",
        "pred_cb = model_cb.predict(features_test, verbose=10)\n",
        "rmse_cb = mean_squared_error(target_test, pred_cb) ** 0.5\n",
        "print(rmse_cb)"
      ]
    },
    {
      "cell_type": "code",
      "execution_count": null,
      "metadata": {
        "id": "-P_LnXCZrjJU"
      },
      "outputs": [],
      "source": [
        "#model_lgbmr = LGBMRegressor(random_state=random_state, **grid_lgb.best_params_, n_jobs=-1)\n",
        "#model_lgbmr.fit(features_train, target_train)\n",
        "\n",
        "#pred_lgbmr = model_lgbmr.predict(features_test)\n",
        "#rmse_lgbmr = mean_squared_error(target_test, pred_lgbmr) ** 0.5\n",
        "#print(rmse_lgbmr)"
      ]
    },
    {
      "cell_type": "markdown",
      "metadata": {
        "id": "Oi4a8Py6rjJU"
      },
      "source": [
        "Значение RMSE модели CatBoost на тестовой выбборке равно 40.2, что меньше заданного порога в 48."
      ]
    }
  ],
  "metadata": {
    "ExecuteTimeLog": [
      {
        "duration": 435,
        "start_time": "2023-07-07T12:25:31.846Z"
      },
      {
        "duration": 221,
        "start_time": "2023-07-07T12:27:32.386Z"
      },
      {
        "duration": 138,
        "start_time": "2023-07-07T12:28:03.546Z"
      },
      {
        "duration": 18,
        "start_time": "2023-07-07T12:28:50.138Z"
      },
      {
        "duration": 60,
        "start_time": "2023-07-07T12:29:17.226Z"
      },
      {
        "duration": 7,
        "start_time": "2023-07-07T12:29:24.405Z"
      },
      {
        "duration": 4,
        "start_time": "2023-07-07T12:29:53.294Z"
      },
      {
        "duration": 6,
        "start_time": "2023-07-07T12:30:31.375Z"
      },
      {
        "duration": 10,
        "start_time": "2023-07-07T12:30:43.303Z"
      },
      {
        "duration": 5,
        "start_time": "2023-07-07T12:30:57.116Z"
      },
      {
        "duration": 7,
        "start_time": "2023-07-07T12:31:27.478Z"
      },
      {
        "duration": 9,
        "start_time": "2023-07-07T12:34:25.277Z"
      },
      {
        "duration": 8,
        "start_time": "2023-07-07T12:36:03.516Z"
      },
      {
        "duration": 28,
        "start_time": "2023-07-07T12:36:11.044Z"
      },
      {
        "duration": 8,
        "start_time": "2023-07-07T12:36:58.768Z"
      },
      {
        "duration": 55,
        "start_time": "2023-07-07T12:36:58.777Z"
      },
      {
        "duration": 8,
        "start_time": "2023-07-07T12:36:58.834Z"
      },
      {
        "duration": 58,
        "start_time": "2023-07-07T12:36:58.844Z"
      },
      {
        "duration": 7,
        "start_time": "2023-07-07T12:36:58.904Z"
      },
      {
        "duration": 7,
        "start_time": "2023-07-07T12:36:58.912Z"
      },
      {
        "duration": 12,
        "start_time": "2023-07-07T12:36:58.920Z"
      },
      {
        "duration": 5,
        "start_time": "2023-07-07T12:36:58.933Z"
      },
      {
        "duration": 10,
        "start_time": "2023-07-07T12:36:58.940Z"
      },
      {
        "duration": 31,
        "start_time": "2023-07-07T12:36:58.957Z"
      },
      {
        "duration": 11,
        "start_time": "2023-07-07T12:36:58.990Z"
      },
      {
        "duration": 2,
        "start_time": "2023-07-07T12:43:52.267Z"
      },
      {
        "duration": 59,
        "start_time": "2023-07-07T12:43:52.274Z"
      },
      {
        "duration": 7,
        "start_time": "2023-07-07T12:43:52.335Z"
      },
      {
        "duration": 45,
        "start_time": "2023-07-07T12:43:52.343Z"
      },
      {
        "duration": 7,
        "start_time": "2023-07-07T12:43:52.390Z"
      },
      {
        "duration": 22,
        "start_time": "2023-07-07T12:43:52.399Z"
      },
      {
        "duration": 15,
        "start_time": "2023-07-07T12:43:52.423Z"
      },
      {
        "duration": 17,
        "start_time": "2023-07-07T12:43:52.440Z"
      },
      {
        "duration": 14,
        "start_time": "2023-07-07T12:43:52.465Z"
      },
      {
        "duration": 26,
        "start_time": "2023-07-07T12:43:52.481Z"
      },
      {
        "duration": 6,
        "start_time": "2023-07-07T12:43:52.509Z"
      },
      {
        "duration": 14,
        "start_time": "2023-07-07T12:43:52.517Z"
      },
      {
        "duration": 4,
        "start_time": "2023-07-07T12:44:11.406Z"
      },
      {
        "duration": 12,
        "start_time": "2023-07-07T12:44:12.124Z"
      },
      {
        "duration": 3,
        "start_time": "2023-07-07T12:45:08.636Z"
      },
      {
        "duration": 59,
        "start_time": "2023-07-07T12:45:08.641Z"
      },
      {
        "duration": 6,
        "start_time": "2023-07-07T12:45:08.702Z"
      },
      {
        "duration": 21,
        "start_time": "2023-07-07T12:45:08.710Z"
      },
      {
        "duration": 36,
        "start_time": "2023-07-07T12:45:08.733Z"
      },
      {
        "duration": 7,
        "start_time": "2023-07-07T12:45:08.774Z"
      },
      {
        "duration": 31,
        "start_time": "2023-07-07T12:45:08.783Z"
      },
      {
        "duration": 10,
        "start_time": "2023-07-07T12:45:08.816Z"
      },
      {
        "duration": 18,
        "start_time": "2023-07-07T12:45:08.828Z"
      },
      {
        "duration": 35,
        "start_time": "2023-07-07T12:45:08.848Z"
      },
      {
        "duration": 15,
        "start_time": "2023-07-07T12:45:08.885Z"
      },
      {
        "duration": 2,
        "start_time": "2023-07-07T12:45:38.228Z"
      },
      {
        "duration": 68,
        "start_time": "2023-07-07T12:45:38.232Z"
      },
      {
        "duration": 7,
        "start_time": "2023-07-07T12:45:38.302Z"
      },
      {
        "duration": 19,
        "start_time": "2023-07-07T12:45:38.311Z"
      },
      {
        "duration": 52,
        "start_time": "2023-07-07T12:45:38.332Z"
      },
      {
        "duration": 20,
        "start_time": "2023-07-07T12:45:38.386Z"
      },
      {
        "duration": 20,
        "start_time": "2023-07-07T12:45:38.408Z"
      },
      {
        "duration": 52,
        "start_time": "2023-07-07T12:45:38.430Z"
      },
      {
        "duration": 31,
        "start_time": "2023-07-07T12:45:38.484Z"
      },
      {
        "duration": 25,
        "start_time": "2023-07-07T12:45:38.516Z"
      },
      {
        "duration": 405,
        "start_time": "2023-07-07T14:43:18.050Z"
      },
      {
        "duration": 113,
        "start_time": "2023-07-07T14:43:18.459Z"
      },
      {
        "duration": 17,
        "start_time": "2023-07-07T14:43:18.574Z"
      },
      {
        "duration": 17,
        "start_time": "2023-07-07T14:43:18.594Z"
      },
      {
        "duration": 28,
        "start_time": "2023-07-07T14:43:18.613Z"
      },
      {
        "duration": 8,
        "start_time": "2023-07-07T14:43:18.643Z"
      },
      {
        "duration": 8,
        "start_time": "2023-07-07T14:43:18.654Z"
      },
      {
        "duration": 18,
        "start_time": "2023-07-07T14:43:18.665Z"
      },
      {
        "duration": 8,
        "start_time": "2023-07-07T14:43:18.709Z"
      },
      {
        "duration": 24,
        "start_time": "2023-07-07T14:43:18.719Z"
      },
      {
        "duration": 4,
        "start_time": "2023-07-07T14:57:04.407Z"
      },
      {
        "duration": 10,
        "start_time": "2023-07-07T14:57:14.255Z"
      },
      {
        "duration": 109,
        "start_time": "2023-07-07T14:58:48.830Z"
      },
      {
        "duration": 742,
        "start_time": "2023-07-07T14:59:17.460Z"
      },
      {
        "duration": 1124,
        "start_time": "2023-07-07T14:59:20.539Z"
      },
      {
        "duration": 348,
        "start_time": "2023-07-07T14:59:56.870Z"
      },
      {
        "duration": 1307,
        "start_time": "2023-07-07T15:01:10.496Z"
      },
      {
        "duration": 1307,
        "start_time": "2023-07-07T15:01:24.935Z"
      },
      {
        "duration": 9,
        "start_time": "2023-07-07T15:40:54.679Z"
      },
      {
        "duration": 197,
        "start_time": "2023-07-07T15:41:03.799Z"
      },
      {
        "duration": 271,
        "start_time": "2023-07-07T15:41:59.388Z"
      },
      {
        "duration": 237,
        "start_time": "2023-07-07T15:42:23.356Z"
      },
      {
        "duration": 281,
        "start_time": "2023-07-07T15:42:29.312Z"
      },
      {
        "duration": 207,
        "start_time": "2023-07-07T15:42:34.250Z"
      },
      {
        "duration": 1130,
        "start_time": "2023-07-07T15:42:52.159Z"
      },
      {
        "duration": 722,
        "start_time": "2023-07-07T15:45:56.960Z"
      },
      {
        "duration": 749,
        "start_time": "2023-07-07T15:47:00.847Z"
      },
      {
        "duration": 291,
        "start_time": "2023-07-07T15:47:11.396Z"
      },
      {
        "duration": 3,
        "start_time": "2023-07-07T15:48:15.364Z"
      },
      {
        "duration": 5,
        "start_time": "2023-07-07T16:14:37.667Z"
      },
      {
        "duration": 2392,
        "start_time": "2023-07-07T16:14:51.511Z"
      },
      {
        "duration": 544,
        "start_time": "2023-07-07T16:15:16.969Z"
      },
      {
        "duration": 525,
        "start_time": "2023-07-07T16:15:36.216Z"
      },
      {
        "duration": 395,
        "start_time": "2023-07-07T16:15:44.907Z"
      },
      {
        "duration": 394,
        "start_time": "2023-07-07T16:16:30.050Z"
      },
      {
        "duration": 4,
        "start_time": "2023-07-07T16:16:37.444Z"
      },
      {
        "duration": 66,
        "start_time": "2023-07-07T16:16:37.450Z"
      },
      {
        "duration": 12,
        "start_time": "2023-07-07T16:16:37.518Z"
      },
      {
        "duration": 39,
        "start_time": "2023-07-07T16:16:37.538Z"
      },
      {
        "duration": 45,
        "start_time": "2023-07-07T16:16:37.579Z"
      },
      {
        "duration": 54,
        "start_time": "2023-07-07T16:16:37.626Z"
      },
      {
        "duration": 78,
        "start_time": "2023-07-07T16:16:37.682Z"
      },
      {
        "duration": 42,
        "start_time": "2023-07-07T16:16:37.763Z"
      },
      {
        "duration": 76,
        "start_time": "2023-07-07T16:16:37.807Z"
      },
      {
        "duration": 36,
        "start_time": "2023-07-07T16:16:37.885Z"
      },
      {
        "duration": 42,
        "start_time": "2023-07-07T16:16:37.924Z"
      },
      {
        "duration": 1088,
        "start_time": "2023-07-07T16:16:37.969Z"
      },
      {
        "duration": 3,
        "start_time": "2023-07-07T16:16:39.059Z"
      },
      {
        "duration": 724,
        "start_time": "2023-07-07T16:16:39.066Z"
      },
      {
        "duration": 356,
        "start_time": "2023-07-07T16:16:39.792Z"
      },
      {
        "duration": 14,
        "start_time": "2023-07-07T16:18:11.937Z"
      },
      {
        "duration": 327,
        "start_time": "2023-07-07T16:18:16.478Z"
      },
      {
        "duration": 37,
        "start_time": "2023-07-07T16:18:56.530Z"
      },
      {
        "duration": 383,
        "start_time": "2023-07-07T16:19:16.803Z"
      },
      {
        "duration": 5,
        "start_time": "2023-07-07T17:13:37.864Z"
      },
      {
        "duration": 11,
        "start_time": "2023-07-07T17:14:49.885Z"
      },
      {
        "duration": 15,
        "start_time": "2023-07-07T17:14:56.956Z"
      },
      {
        "duration": 20,
        "start_time": "2023-07-07T17:15:14.864Z"
      },
      {
        "duration": 6,
        "start_time": "2023-07-07T18:04:48.591Z"
      },
      {
        "duration": 6,
        "start_time": "2023-07-07T18:05:15.143Z"
      },
      {
        "duration": 7,
        "start_time": "2023-07-07T18:07:02.933Z"
      },
      {
        "duration": 14,
        "start_time": "2023-07-07T18:07:19.042Z"
      },
      {
        "duration": 595,
        "start_time": "2023-07-07T18:07:39.093Z"
      },
      {
        "duration": 8,
        "start_time": "2023-07-07T18:07:44.458Z"
      },
      {
        "duration": 17,
        "start_time": "2023-07-07T18:08:06.403Z"
      },
      {
        "duration": 327,
        "start_time": "2023-07-07T18:21:38.006Z"
      },
      {
        "duration": 62,
        "start_time": "2023-07-07T18:21:55.644Z"
      },
      {
        "duration": 157,
        "start_time": "2023-07-07T18:22:07.450Z"
      },
      {
        "duration": 5,
        "start_time": "2023-07-07T18:22:47.031Z"
      },
      {
        "duration": 8429,
        "start_time": "2023-07-07T18:22:51.624Z"
      },
      {
        "duration": 13,
        "start_time": "2023-07-07T18:23:46.563Z"
      },
      {
        "duration": 23,
        "start_time": "2023-07-07T18:23:50.633Z"
      },
      {
        "duration": 17,
        "start_time": "2023-07-07T18:26:27.434Z"
      },
      {
        "duration": 43,
        "start_time": "2023-07-07T18:26:28.800Z"
      },
      {
        "duration": 5,
        "start_time": "2023-07-07T18:27:07.414Z"
      },
      {
        "duration": 10,
        "start_time": "2023-07-07T18:27:08.401Z"
      },
      {
        "duration": 20,
        "start_time": "2023-07-07T18:27:10.440Z"
      },
      {
        "duration": 13,
        "start_time": "2023-07-07T18:27:15.571Z"
      },
      {
        "duration": 26903,
        "start_time": "2023-07-07T18:27:24.110Z"
      },
      {
        "duration": 25637,
        "start_time": "2023-07-07T18:30:59.270Z"
      },
      {
        "duration": 183,
        "start_time": "2023-07-07T18:32:31.302Z"
      },
      {
        "duration": 81,
        "start_time": "2023-07-07T18:32:48.503Z"
      },
      {
        "duration": 232,
        "start_time": "2023-07-07T18:34:44.169Z"
      },
      {
        "duration": 224267,
        "start_time": "2023-07-07T18:37:57.446Z"
      },
      {
        "duration": 158,
        "start_time": "2023-07-07T19:31:04.499Z"
      },
      {
        "duration": 45,
        "start_time": "2023-07-07T19:31:22.760Z"
      },
      {
        "duration": 56933,
        "start_time": "2023-07-07T19:31:47.169Z"
      },
      {
        "duration": 50649,
        "start_time": "2023-07-07T19:33:53.536Z"
      },
      {
        "duration": 1622134,
        "start_time": "2023-07-07T19:35:41.952Z"
      },
      {
        "duration": 2033,
        "start_time": "2023-07-07T20:03:02.942Z"
      },
      {
        "duration": 50,
        "start_time": "2023-07-07T20:03:04.978Z"
      },
      {
        "duration": 101,
        "start_time": "2023-07-07T20:03:05.033Z"
      },
      {
        "duration": 53,
        "start_time": "2023-07-07T20:03:05.136Z"
      },
      {
        "duration": 90,
        "start_time": "2023-07-07T20:03:05.192Z"
      },
      {
        "duration": 84,
        "start_time": "2023-07-07T20:03:05.284Z"
      },
      {
        "duration": 72,
        "start_time": "2023-07-07T20:03:05.369Z"
      },
      {
        "duration": 36,
        "start_time": "2023-07-07T20:03:05.443Z"
      },
      {
        "duration": 22,
        "start_time": "2023-07-07T20:03:05.480Z"
      },
      {
        "duration": 163,
        "start_time": "2023-07-07T20:03:05.504Z"
      },
      {
        "duration": 86,
        "start_time": "2023-07-07T20:03:05.669Z"
      },
      {
        "duration": 1191,
        "start_time": "2023-07-07T20:03:05.758Z"
      },
      {
        "duration": 14,
        "start_time": "2023-07-07T20:03:06.951Z"
      },
      {
        "duration": 774,
        "start_time": "2023-07-07T20:03:06.977Z"
      },
      {
        "duration": 339,
        "start_time": "2023-07-07T20:03:07.760Z"
      },
      {
        "duration": 18,
        "start_time": "2023-07-07T20:03:08.101Z"
      },
      {
        "duration": 142,
        "start_time": "2023-07-07T20:03:08.126Z"
      },
      {
        "duration": 37,
        "start_time": "2023-07-07T20:03:08.270Z"
      },
      {
        "duration": 35,
        "start_time": "2023-07-07T20:03:08.323Z"
      },
      {
        "duration": 32,
        "start_time": "2023-07-07T20:03:08.360Z"
      },
      {
        "duration": 76,
        "start_time": "2023-07-07T20:03:08.393Z"
      },
      {
        "duration": 19258,
        "start_time": "2023-07-07T20:03:08.471Z"
      },
      {
        "duration": 197164,
        "start_time": "2023-07-07T20:03:27.731Z"
      },
      {
        "duration": 25638,
        "start_time": "2023-07-07T20:06:44.897Z"
      },
      {
        "duration": 18811,
        "start_time": "2023-07-07T20:07:16.383Z"
      },
      {
        "duration": 3519864,
        "start_time": "2023-07-07T20:08:23.255Z"
      },
      {
        "duration": 288,
        "start_time": "2023-07-07T21:10:18.125Z"
      },
      {
        "duration": 211,
        "start_time": "2023-07-07T21:10:31.284Z"
      },
      {
        "duration": 202,
        "start_time": "2023-07-07T21:10:41.673Z"
      },
      {
        "duration": 185,
        "start_time": "2023-07-07T21:12:36.653Z"
      },
      {
        "duration": 383,
        "start_time": "2023-07-07T21:43:43.582Z"
      },
      {
        "duration": 5,
        "start_time": "2023-07-07T21:44:07.853Z"
      },
      {
        "duration": 369,
        "start_time": "2023-07-07T21:44:12.333Z"
      },
      {
        "duration": 1193,
        "start_time": "2023-07-07T21:45:30.003Z"
      },
      {
        "duration": 962,
        "start_time": "2023-07-07T21:45:49.343Z"
      },
      {
        "duration": 1160,
        "start_time": "2023-07-07T21:45:58.773Z"
      },
      {
        "duration": 1044,
        "start_time": "2023-07-07T21:46:08.316Z"
      },
      {
        "duration": 392,
        "start_time": "2023-07-07T21:47:28.222Z"
      },
      {
        "duration": 436,
        "start_time": "2023-07-07T21:50:19.773Z"
      },
      {
        "duration": 49252,
        "start_time": "2023-07-08T17:17:52.062Z"
      },
      {
        "duration": 1605,
        "start_time": "2023-07-08T17:29:24.552Z"
      },
      {
        "duration": 47,
        "start_time": "2023-07-08T17:29:26.159Z"
      },
      {
        "duration": 30,
        "start_time": "2023-07-08T17:29:26.208Z"
      },
      {
        "duration": 63,
        "start_time": "2023-07-08T17:29:26.240Z"
      },
      {
        "duration": 66,
        "start_time": "2023-07-08T17:29:26.306Z"
      },
      {
        "duration": 39,
        "start_time": "2023-07-08T17:29:26.374Z"
      },
      {
        "duration": 28,
        "start_time": "2023-07-08T17:29:26.415Z"
      },
      {
        "duration": 61,
        "start_time": "2023-07-08T17:29:26.445Z"
      },
      {
        "duration": 33,
        "start_time": "2023-07-08T17:29:26.508Z"
      },
      {
        "duration": 41,
        "start_time": "2023-07-08T17:29:26.543Z"
      },
      {
        "duration": 27,
        "start_time": "2023-07-08T17:29:26.586Z"
      },
      {
        "duration": 956,
        "start_time": "2023-07-08T17:29:26.615Z"
      },
      {
        "duration": 275,
        "start_time": "2023-07-08T17:29:27.573Z"
      },
      {
        "duration": 200,
        "start_time": "2023-07-08T17:29:27.851Z"
      },
      {
        "duration": 302,
        "start_time": "2023-07-08T17:29:28.053Z"
      },
      {
        "duration": 5,
        "start_time": "2023-07-08T17:29:28.358Z"
      },
      {
        "duration": 41,
        "start_time": "2023-07-08T17:29:28.365Z"
      },
      {
        "duration": 49,
        "start_time": "2023-07-08T17:29:28.408Z"
      },
      {
        "duration": 41,
        "start_time": "2023-07-08T17:29:28.458Z"
      },
      {
        "duration": 49,
        "start_time": "2023-07-08T17:29:28.501Z"
      },
      {
        "duration": 45,
        "start_time": "2023-07-08T17:29:28.552Z"
      },
      {
        "duration": 299,
        "start_time": "2023-07-08T17:31:31.198Z"
      },
      {
        "duration": 4,
        "start_time": "2023-07-08T17:31:56.897Z"
      },
      {
        "duration": 13460,
        "start_time": "2023-07-08T17:32:05.597Z"
      },
      {
        "duration": 460,
        "start_time": "2023-07-08T17:33:23.301Z"
      },
      {
        "duration": 122078,
        "start_time": "2023-07-08T17:34:03.400Z"
      },
      {
        "duration": 992,
        "start_time": "2023-07-08T17:36:49.069Z"
      },
      {
        "duration": 263082,
        "start_time": "2023-07-08T17:37:43.099Z"
      },
      {
        "duration": 4,
        "start_time": "2023-07-08T17:42:33.833Z"
      },
      {
        "duration": 51,
        "start_time": "2023-07-08T17:42:33.839Z"
      },
      {
        "duration": 8,
        "start_time": "2023-07-08T17:42:33.892Z"
      },
      {
        "duration": 16,
        "start_time": "2023-07-08T17:42:33.902Z"
      },
      {
        "duration": 28,
        "start_time": "2023-07-08T17:42:33.922Z"
      },
      {
        "duration": 8,
        "start_time": "2023-07-08T17:42:33.952Z"
      },
      {
        "duration": 12,
        "start_time": "2023-07-08T17:42:33.962Z"
      },
      {
        "duration": 36,
        "start_time": "2023-07-08T17:42:33.976Z"
      },
      {
        "duration": 8,
        "start_time": "2023-07-08T17:42:34.014Z"
      },
      {
        "duration": 9,
        "start_time": "2023-07-08T17:42:34.024Z"
      },
      {
        "duration": 9,
        "start_time": "2023-07-08T17:42:34.035Z"
      },
      {
        "duration": 971,
        "start_time": "2023-07-08T17:42:34.046Z"
      },
      {
        "duration": 238,
        "start_time": "2023-07-08T17:42:35.019Z"
      },
      {
        "duration": 301,
        "start_time": "2023-07-08T17:42:35.260Z"
      },
      {
        "duration": 3,
        "start_time": "2023-07-08T17:42:35.563Z"
      },
      {
        "duration": 6,
        "start_time": "2023-07-08T17:42:35.568Z"
      },
      {
        "duration": 19,
        "start_time": "2023-07-08T17:42:35.576Z"
      },
      {
        "duration": 19,
        "start_time": "2023-07-08T17:42:35.609Z"
      },
      {
        "duration": 9,
        "start_time": "2023-07-08T17:42:35.630Z"
      },
      {
        "duration": 9,
        "start_time": "2023-07-08T17:42:35.641Z"
      },
      {
        "duration": 18,
        "start_time": "2023-07-08T17:42:35.652Z"
      },
      {
        "duration": 467,
        "start_time": "2023-07-08T17:42:38.921Z"
      },
      {
        "duration": 4,
        "start_time": "2023-07-08T17:43:54.494Z"
      },
      {
        "duration": 58,
        "start_time": "2023-07-08T17:43:54.503Z"
      },
      {
        "duration": 8,
        "start_time": "2023-07-08T17:43:54.563Z"
      },
      {
        "duration": 17,
        "start_time": "2023-07-08T17:43:54.572Z"
      },
      {
        "duration": 28,
        "start_time": "2023-07-08T17:43:54.591Z"
      },
      {
        "duration": 8,
        "start_time": "2023-07-08T17:43:54.620Z"
      },
      {
        "duration": 6,
        "start_time": "2023-07-08T17:43:54.629Z"
      },
      {
        "duration": 12,
        "start_time": "2023-07-08T17:43:54.637Z"
      },
      {
        "duration": 6,
        "start_time": "2023-07-08T17:43:54.650Z"
      },
      {
        "duration": 13,
        "start_time": "2023-07-08T17:43:54.658Z"
      },
      {
        "duration": 35,
        "start_time": "2023-07-08T17:43:54.674Z"
      },
      {
        "duration": 840,
        "start_time": "2023-07-08T17:43:54.711Z"
      },
      {
        "duration": 196,
        "start_time": "2023-07-08T17:43:55.553Z"
      },
      {
        "duration": 194,
        "start_time": "2023-07-08T17:43:55.752Z"
      },
      {
        "duration": 3,
        "start_time": "2023-07-08T17:43:55.948Z"
      },
      {
        "duration": 10,
        "start_time": "2023-07-08T17:43:55.953Z"
      },
      {
        "duration": 23,
        "start_time": "2023-07-08T17:43:55.965Z"
      },
      {
        "duration": 39,
        "start_time": "2023-07-08T17:43:55.990Z"
      },
      {
        "duration": 8,
        "start_time": "2023-07-08T17:43:56.031Z"
      },
      {
        "duration": 13,
        "start_time": "2023-07-08T17:43:56.041Z"
      },
      {
        "duration": 30,
        "start_time": "2023-07-08T17:43:56.057Z"
      },
      {
        "duration": 14072,
        "start_time": "2023-07-08T17:44:03.905Z"
      },
      {
        "duration": 656,
        "start_time": "2023-07-08T17:44:25.721Z"
      },
      {
        "duration": 4402,
        "start_time": "2023-07-08T17:44:53.551Z"
      },
      {
        "duration": 139227,
        "start_time": "2023-07-08T17:45:03.862Z"
      },
      {
        "duration": 985,
        "start_time": "2023-07-08T17:49:09.441Z"
      },
      {
        "duration": 10,
        "start_time": "2023-07-08T17:54:11.611Z"
      },
      {
        "duration": 19,
        "start_time": "2023-07-08T17:54:12.185Z"
      },
      {
        "duration": 5,
        "start_time": "2023-07-08T17:54:36.287Z"
      },
      {
        "duration": 67,
        "start_time": "2023-07-08T17:54:36.294Z"
      },
      {
        "duration": 10,
        "start_time": "2023-07-08T17:54:36.363Z"
      },
      {
        "duration": 24,
        "start_time": "2023-07-08T17:54:36.375Z"
      },
      {
        "duration": 43,
        "start_time": "2023-07-08T17:54:36.402Z"
      },
      {
        "duration": 9,
        "start_time": "2023-07-08T17:54:36.447Z"
      },
      {
        "duration": 12,
        "start_time": "2023-07-08T17:54:36.457Z"
      },
      {
        "duration": 20,
        "start_time": "2023-07-08T17:54:36.471Z"
      },
      {
        "duration": 17,
        "start_time": "2023-07-08T17:54:36.493Z"
      },
      {
        "duration": 13,
        "start_time": "2023-07-08T17:54:36.512Z"
      },
      {
        "duration": 19,
        "start_time": "2023-07-08T17:54:36.527Z"
      },
      {
        "duration": 1015,
        "start_time": "2023-07-08T17:54:36.548Z"
      },
      {
        "duration": 190,
        "start_time": "2023-07-08T17:54:37.565Z"
      },
      {
        "duration": 194,
        "start_time": "2023-07-08T17:54:37.758Z"
      },
      {
        "duration": 305,
        "start_time": "2023-07-08T17:54:37.954Z"
      },
      {
        "duration": 5,
        "start_time": "2023-07-08T17:54:38.260Z"
      },
      {
        "duration": 40,
        "start_time": "2023-07-08T17:54:38.267Z"
      },
      {
        "duration": 22,
        "start_time": "2023-07-08T17:54:38.308Z"
      },
      {
        "duration": 11,
        "start_time": "2023-07-08T17:54:38.332Z"
      },
      {
        "duration": 9,
        "start_time": "2023-07-08T17:54:38.344Z"
      },
      {
        "duration": 11,
        "start_time": "2023-07-08T17:54:38.354Z"
      },
      {
        "duration": 9913,
        "start_time": "2023-07-08T17:54:59.614Z"
      },
      {
        "duration": 163,
        "start_time": "2023-07-08T17:55:22.699Z"
      },
      {
        "duration": 90161,
        "start_time": "2023-07-08T17:55:34.153Z"
      },
      {
        "duration": 842,
        "start_time": "2023-07-08T17:57:28.495Z"
      },
      {
        "duration": 3157187,
        "start_time": "2023-07-08T17:58:05.324Z"
      },
      {
        "duration": 173,
        "start_time": "2023-07-08T19:03:02.643Z"
      },
      {
        "duration": 854,
        "start_time": "2023-07-08T19:03:04.751Z"
      },
      {
        "duration": 89727,
        "start_time": "2023-07-08T19:03:19.185Z"
      },
      {
        "duration": 2627,
        "start_time": "2023-07-08T20:03:40.440Z"
      },
      {
        "duration": 54,
        "start_time": "2023-07-08T20:03:43.070Z"
      },
      {
        "duration": 30,
        "start_time": "2023-07-08T20:03:43.134Z"
      },
      {
        "duration": 29,
        "start_time": "2023-07-08T20:03:43.168Z"
      },
      {
        "duration": 43,
        "start_time": "2023-07-08T20:03:43.202Z"
      },
      {
        "duration": 9,
        "start_time": "2023-07-08T20:03:43.247Z"
      },
      {
        "duration": 23,
        "start_time": "2023-07-08T20:03:43.258Z"
      },
      {
        "duration": 11,
        "start_time": "2023-07-08T20:03:43.287Z"
      },
      {
        "duration": 33,
        "start_time": "2023-07-08T20:03:43.300Z"
      },
      {
        "duration": 21,
        "start_time": "2023-07-08T20:03:43.336Z"
      },
      {
        "duration": 14,
        "start_time": "2023-07-08T20:03:43.360Z"
      },
      {
        "duration": 1161,
        "start_time": "2023-07-08T20:03:43.376Z"
      },
      {
        "duration": 328,
        "start_time": "2023-07-08T20:03:44.539Z"
      },
      {
        "duration": 216,
        "start_time": "2023-07-08T20:03:44.871Z"
      },
      {
        "duration": 373,
        "start_time": "2023-07-08T20:03:45.090Z"
      },
      {
        "duration": 9554,
        "start_time": "2023-07-08T20:03:45.466Z"
      },
      {
        "duration": 441,
        "start_time": "2023-07-08T20:04:25.656Z"
      },
      {
        "duration": 1988,
        "start_time": "2023-07-10T10:49:14.744Z"
      },
      {
        "duration": 303,
        "start_time": "2023-07-10T10:49:16.734Z"
      },
      {
        "duration": 12,
        "start_time": "2023-07-10T10:49:17.039Z"
      },
      {
        "duration": 54,
        "start_time": "2023-07-10T10:49:17.053Z"
      },
      {
        "duration": 44,
        "start_time": "2023-07-10T10:49:17.110Z"
      },
      {
        "duration": 9,
        "start_time": "2023-07-10T10:49:17.156Z"
      },
      {
        "duration": 10,
        "start_time": "2023-07-10T10:49:17.168Z"
      },
      {
        "duration": 19,
        "start_time": "2023-07-10T10:49:17.181Z"
      },
      {
        "duration": 6,
        "start_time": "2023-07-10T10:49:17.202Z"
      },
      {
        "duration": 10,
        "start_time": "2023-07-10T10:49:17.210Z"
      },
      {
        "duration": 9,
        "start_time": "2023-07-10T10:49:17.222Z"
      },
      {
        "duration": 1109,
        "start_time": "2023-07-10T10:49:17.232Z"
      },
      {
        "duration": 181,
        "start_time": "2023-07-10T10:49:18.343Z"
      },
      {
        "duration": 195,
        "start_time": "2023-07-10T10:49:18.526Z"
      },
      {
        "duration": 7,
        "start_time": "2023-07-10T10:50:32.700Z"
      },
      {
        "duration": 7,
        "start_time": "2023-07-10T10:51:30.103Z"
      },
      {
        "duration": 185,
        "start_time": "2023-07-10T10:51:38.450Z"
      },
      {
        "duration": 3,
        "start_time": "2023-07-10T11:01:55.433Z"
      },
      {
        "duration": 3,
        "start_time": "2023-07-10T11:05:29.873Z"
      },
      {
        "duration": 59,
        "start_time": "2023-07-10T11:05:29.879Z"
      },
      {
        "duration": 7,
        "start_time": "2023-07-10T11:05:29.940Z"
      },
      {
        "duration": 20,
        "start_time": "2023-07-10T11:05:29.949Z"
      },
      {
        "duration": 48,
        "start_time": "2023-07-10T11:05:29.971Z"
      },
      {
        "duration": 8,
        "start_time": "2023-07-10T11:05:30.021Z"
      },
      {
        "duration": 39,
        "start_time": "2023-07-10T11:05:30.031Z"
      },
      {
        "duration": 73,
        "start_time": "2023-07-10T11:05:30.072Z"
      },
      {
        "duration": 35,
        "start_time": "2023-07-10T11:05:30.149Z"
      },
      {
        "duration": 37,
        "start_time": "2023-07-10T11:05:30.186Z"
      },
      {
        "duration": 44,
        "start_time": "2023-07-10T11:05:30.225Z"
      },
      {
        "duration": 898,
        "start_time": "2023-07-10T11:05:30.270Z"
      },
      {
        "duration": 210,
        "start_time": "2023-07-10T11:05:31.170Z"
      },
      {
        "duration": 194,
        "start_time": "2023-07-10T11:05:31.382Z"
      },
      {
        "duration": 8,
        "start_time": "2023-07-10T11:05:31.578Z"
      },
      {
        "duration": 47,
        "start_time": "2023-07-10T11:05:31.588Z"
      },
      {
        "duration": 347,
        "start_time": "2023-07-10T11:05:31.637Z"
      },
      {
        "duration": 2,
        "start_time": "2023-07-10T11:05:31.986Z"
      },
      {
        "duration": 1480,
        "start_time": "2023-07-10T11:05:31.990Z"
      },
      {
        "duration": 6,
        "start_time": "2023-07-10T11:13:46.424Z"
      },
      {
        "duration": 8,
        "start_time": "2023-07-10T11:14:02.408Z"
      },
      {
        "duration": 10,
        "start_time": "2023-07-10T11:14:51.086Z"
      },
      {
        "duration": 180,
        "start_time": "2023-07-10T11:22:23.794Z"
      },
      {
        "duration": 19,
        "start_time": "2023-07-10T11:24:45.775Z"
      },
      {
        "duration": 27,
        "start_time": "2023-07-10T11:25:42.437Z"
      },
      {
        "duration": 23,
        "start_time": "2023-07-10T11:25:46.235Z"
      },
      {
        "duration": 28,
        "start_time": "2023-07-10T11:26:47.826Z"
      },
      {
        "duration": 22,
        "start_time": "2023-07-10T11:29:02.983Z"
      },
      {
        "duration": 23,
        "start_time": "2023-07-10T11:29:41.784Z"
      },
      {
        "duration": 25,
        "start_time": "2023-07-10T11:29:49.793Z"
      },
      {
        "duration": 22,
        "start_time": "2023-07-10T11:30:08.912Z"
      },
      {
        "duration": 22,
        "start_time": "2023-07-10T11:35:43.794Z"
      },
      {
        "duration": 23,
        "start_time": "2023-07-10T11:35:55.592Z"
      },
      {
        "duration": 27,
        "start_time": "2023-07-10T11:36:15.782Z"
      },
      {
        "duration": 23,
        "start_time": "2023-07-10T11:38:53.189Z"
      },
      {
        "duration": 33,
        "start_time": "2023-07-10T11:40:13.203Z"
      },
      {
        "duration": 30,
        "start_time": "2023-07-10T11:41:54.781Z"
      },
      {
        "duration": 21,
        "start_time": "2023-07-10T11:42:08.953Z"
      },
      {
        "duration": 360,
        "start_time": "2023-07-10T11:44:15.312Z"
      },
      {
        "duration": 251,
        "start_time": "2023-07-10T11:45:18.351Z"
      },
      {
        "duration": 267,
        "start_time": "2023-07-10T11:45:51.563Z"
      },
      {
        "duration": 45,
        "start_time": "2023-07-10T11:49:12.088Z"
      },
      {
        "duration": 6,
        "start_time": "2023-07-10T11:58:26.613Z"
      },
      {
        "duration": 84,
        "start_time": "2023-07-10T11:58:26.623Z"
      },
      {
        "duration": 22,
        "start_time": "2023-07-10T11:58:26.710Z"
      },
      {
        "duration": 29,
        "start_time": "2023-07-10T11:58:26.738Z"
      },
      {
        "duration": 85,
        "start_time": "2023-07-10T11:58:26.770Z"
      },
      {
        "duration": 19,
        "start_time": "2023-07-10T11:58:26.863Z"
      },
      {
        "duration": 9,
        "start_time": "2023-07-10T11:58:26.885Z"
      },
      {
        "duration": 34,
        "start_time": "2023-07-10T11:58:26.896Z"
      },
      {
        "duration": 14,
        "start_time": "2023-07-10T11:58:26.934Z"
      },
      {
        "duration": 18,
        "start_time": "2023-07-10T11:58:26.953Z"
      },
      {
        "duration": 21,
        "start_time": "2023-07-10T11:58:26.991Z"
      },
      {
        "duration": 1085,
        "start_time": "2023-07-10T11:58:27.023Z"
      },
      {
        "duration": 231,
        "start_time": "2023-07-10T11:58:28.117Z"
      },
      {
        "duration": 259,
        "start_time": "2023-07-10T11:58:28.349Z"
      },
      {
        "duration": 11,
        "start_time": "2023-07-10T11:58:28.611Z"
      },
      {
        "duration": 11,
        "start_time": "2023-07-10T11:58:28.625Z"
      },
      {
        "duration": 248,
        "start_time": "2023-07-10T11:58:28.637Z"
      },
      {
        "duration": 2,
        "start_time": "2023-07-10T11:58:28.887Z"
      },
      {
        "duration": 6331,
        "start_time": "2023-07-10T11:58:28.891Z"
      },
      {
        "duration": 57,
        "start_time": "2023-07-10T11:58:35.230Z"
      },
      {
        "duration": 4,
        "start_time": "2023-07-10T12:27:57.932Z"
      },
      {
        "duration": 70,
        "start_time": "2023-07-10T12:27:57.938Z"
      },
      {
        "duration": 7,
        "start_time": "2023-07-10T12:27:58.010Z"
      },
      {
        "duration": 18,
        "start_time": "2023-07-10T12:27:58.019Z"
      },
      {
        "duration": 25,
        "start_time": "2023-07-10T12:27:58.039Z"
      },
      {
        "duration": 9,
        "start_time": "2023-07-10T12:27:58.072Z"
      },
      {
        "duration": 20,
        "start_time": "2023-07-10T12:27:58.082Z"
      },
      {
        "duration": 19,
        "start_time": "2023-07-10T12:27:58.104Z"
      },
      {
        "duration": 17,
        "start_time": "2023-07-10T12:27:58.125Z"
      },
      {
        "duration": 20,
        "start_time": "2023-07-10T12:27:58.144Z"
      },
      {
        "duration": 17,
        "start_time": "2023-07-10T12:27:58.166Z"
      },
      {
        "duration": 951,
        "start_time": "2023-07-10T12:27:58.184Z"
      },
      {
        "duration": 214,
        "start_time": "2023-07-10T12:27:59.137Z"
      },
      {
        "duration": 211,
        "start_time": "2023-07-10T12:27:59.355Z"
      },
      {
        "duration": 14,
        "start_time": "2023-07-10T12:27:59.568Z"
      },
      {
        "duration": 27,
        "start_time": "2023-07-10T12:27:59.583Z"
      },
      {
        "duration": 197,
        "start_time": "2023-07-10T12:27:59.613Z"
      },
      {
        "duration": 3,
        "start_time": "2023-07-10T12:27:59.812Z"
      },
      {
        "duration": 3765,
        "start_time": "2023-07-10T12:27:59.818Z"
      },
      {
        "duration": 16,
        "start_time": "2023-07-10T12:28:03.597Z"
      },
      {
        "duration": 219,
        "start_time": "2023-07-10T12:28:03.673Z"
      },
      {
        "duration": 31,
        "start_time": "2023-07-10T12:28:10.725Z"
      },
      {
        "duration": 3,
        "start_time": "2023-07-10T12:30:43.837Z"
      },
      {
        "duration": 9,
        "start_time": "2023-07-10T12:30:47.802Z"
      },
      {
        "duration": 13,
        "start_time": "2023-07-10T12:30:55.534Z"
      },
      {
        "duration": 2461,
        "start_time": "2023-07-10T16:14:23.500Z"
      },
      {
        "duration": 396,
        "start_time": "2023-07-10T16:14:25.974Z"
      },
      {
        "duration": 38,
        "start_time": "2023-07-10T16:14:26.375Z"
      },
      {
        "duration": 23,
        "start_time": "2023-07-10T16:14:26.421Z"
      },
      {
        "duration": 67,
        "start_time": "2023-07-10T16:14:26.448Z"
      },
      {
        "duration": 14,
        "start_time": "2023-07-10T16:14:26.520Z"
      },
      {
        "duration": 13,
        "start_time": "2023-07-10T16:14:26.535Z"
      },
      {
        "duration": 38,
        "start_time": "2023-07-10T16:14:26.551Z"
      },
      {
        "duration": 8,
        "start_time": "2023-07-10T16:14:26.591Z"
      },
      {
        "duration": 30,
        "start_time": "2023-07-10T16:14:26.601Z"
      },
      {
        "duration": 9,
        "start_time": "2023-07-10T16:14:26.633Z"
      },
      {
        "duration": 1374,
        "start_time": "2023-07-10T16:14:26.644Z"
      },
      {
        "duration": 246,
        "start_time": "2023-07-10T16:14:28.021Z"
      },
      {
        "duration": 255,
        "start_time": "2023-07-10T16:14:28.270Z"
      },
      {
        "duration": 7,
        "start_time": "2023-07-10T16:14:28.527Z"
      },
      {
        "duration": 34,
        "start_time": "2023-07-10T16:14:28.536Z"
      },
      {
        "duration": 229,
        "start_time": "2023-07-10T16:14:28.577Z"
      },
      {
        "duration": 2,
        "start_time": "2023-07-10T16:14:28.808Z"
      },
      {
        "duration": 11462,
        "start_time": "2023-07-10T16:14:28.812Z"
      },
      {
        "duration": 72,
        "start_time": "2023-07-10T16:14:40.292Z"
      },
      {
        "duration": 156,
        "start_time": "2023-07-10T16:14:40.367Z"
      },
      {
        "duration": 396,
        "start_time": "2023-07-10T16:14:40.525Z"
      },
      {
        "duration": 48,
        "start_time": "2023-07-10T16:14:40.923Z"
      },
      {
        "duration": 13,
        "start_time": "2023-07-10T16:14:40.973Z"
      },
      {
        "duration": 11,
        "start_time": "2023-07-10T16:14:40.996Z"
      },
      {
        "duration": 12,
        "start_time": "2023-07-10T16:14:41.009Z"
      },
      {
        "duration": 209618,
        "start_time": "2023-07-10T16:23:47.091Z"
      },
      {
        "duration": 374802,
        "start_time": "2023-07-10T16:53:38.916Z"
      },
      {
        "duration": 2034,
        "start_time": "2023-07-10T17:03:14.887Z"
      },
      {
        "duration": 49,
        "start_time": "2023-07-10T17:03:16.923Z"
      },
      {
        "duration": 15,
        "start_time": "2023-07-10T17:03:16.974Z"
      },
      {
        "duration": 18,
        "start_time": "2023-07-10T17:03:16.991Z"
      },
      {
        "duration": 26,
        "start_time": "2023-07-10T17:03:17.011Z"
      },
      {
        "duration": 24,
        "start_time": "2023-07-10T17:03:17.039Z"
      },
      {
        "duration": 12,
        "start_time": "2023-07-10T17:03:17.065Z"
      },
      {
        "duration": 32,
        "start_time": "2023-07-10T17:03:17.079Z"
      },
      {
        "duration": 6,
        "start_time": "2023-07-10T17:03:17.113Z"
      },
      {
        "duration": 9,
        "start_time": "2023-07-10T17:03:17.121Z"
      },
      {
        "duration": 7,
        "start_time": "2023-07-10T17:03:17.132Z"
      },
      {
        "duration": 1160,
        "start_time": "2023-07-10T17:03:17.141Z"
      },
      {
        "duration": 326,
        "start_time": "2023-07-10T17:03:18.303Z"
      },
      {
        "duration": 212,
        "start_time": "2023-07-10T17:03:18.632Z"
      },
      {
        "duration": 21,
        "start_time": "2023-07-10T17:03:18.846Z"
      },
      {
        "duration": 15,
        "start_time": "2023-07-10T17:03:18.873Z"
      },
      {
        "duration": 199,
        "start_time": "2023-07-10T17:03:18.890Z"
      },
      {
        "duration": 4,
        "start_time": "2023-07-10T17:03:19.091Z"
      },
      {
        "duration": 11170,
        "start_time": "2023-07-10T17:03:19.097Z"
      },
      {
        "duration": 66,
        "start_time": "2023-07-10T17:03:30.296Z"
      },
      {
        "duration": 152,
        "start_time": "2023-07-10T17:03:30.369Z"
      },
      {
        "duration": 371,
        "start_time": "2023-07-10T17:03:30.523Z"
      },
      {
        "duration": 33,
        "start_time": "2023-07-10T17:03:30.906Z"
      },
      {
        "duration": 37,
        "start_time": "2023-07-10T17:03:30.941Z"
      },
      {
        "duration": 27,
        "start_time": "2023-07-10T17:03:30.980Z"
      },
      {
        "duration": 83,
        "start_time": "2023-07-10T17:03:31.009Z"
      },
      {
        "duration": 199924,
        "start_time": "2023-07-10T17:03:31.095Z"
      },
      {
        "duration": 1590298,
        "start_time": "2023-07-10T17:06:58.888Z"
      },
      {
        "duration": 4000440,
        "start_time": "2023-07-10T17:44:41.129Z"
      },
      {
        "duration": 11407,
        "start_time": "2023-07-10T18:57:56.762Z"
      },
      {
        "duration": 3136,
        "start_time": "2023-07-10T18:58:19.914Z"
      },
      {
        "duration": 210607,
        "start_time": "2023-07-10T18:58:31.855Z"
      },
      {
        "duration": 11,
        "start_time": "2023-07-10T19:02:36.853Z"
      },
      {
        "duration": 3,
        "start_time": "2023-07-10T19:02:46.094Z"
      },
      {
        "duration": 153,
        "start_time": "2023-07-10T19:06:20.575Z"
      },
      {
        "duration": 1921,
        "start_time": "2023-07-11T07:46:17.233Z"
      },
      {
        "duration": 110,
        "start_time": "2023-07-11T07:46:19.156Z"
      },
      {
        "duration": 11,
        "start_time": "2023-07-11T07:46:19.268Z"
      },
      {
        "duration": 20,
        "start_time": "2023-07-11T07:46:19.281Z"
      },
      {
        "duration": 27,
        "start_time": "2023-07-11T07:46:19.303Z"
      },
      {
        "duration": 7,
        "start_time": "2023-07-11T07:46:19.332Z"
      },
      {
        "duration": 16,
        "start_time": "2023-07-11T07:46:19.341Z"
      },
      {
        "duration": 32,
        "start_time": "2023-07-11T07:46:19.359Z"
      },
      {
        "duration": 6,
        "start_time": "2023-07-11T07:46:19.393Z"
      },
      {
        "duration": 11,
        "start_time": "2023-07-11T07:46:19.400Z"
      },
      {
        "duration": 19,
        "start_time": "2023-07-11T07:46:19.413Z"
      },
      {
        "duration": 1050,
        "start_time": "2023-07-11T07:46:19.433Z"
      },
      {
        "duration": 164,
        "start_time": "2023-07-11T07:46:20.485Z"
      },
      {
        "duration": 176,
        "start_time": "2023-07-11T07:46:20.652Z"
      },
      {
        "duration": 7,
        "start_time": "2023-07-11T07:46:20.830Z"
      },
      {
        "duration": 11,
        "start_time": "2023-07-11T07:46:20.851Z"
      },
      {
        "duration": 166,
        "start_time": "2023-07-11T07:46:20.864Z"
      },
      {
        "duration": 3,
        "start_time": "2023-07-11T07:46:21.032Z"
      },
      {
        "duration": 1624,
        "start_time": "2023-07-11T07:46:21.037Z"
      },
      {
        "duration": 5,
        "start_time": "2023-07-11T07:46:22.756Z"
      },
      {
        "duration": 213,
        "start_time": "2023-07-11T07:46:22.763Z"
      },
      {
        "duration": 365,
        "start_time": "2023-07-11T07:46:22.978Z"
      },
      {
        "duration": 36,
        "start_time": "2023-07-11T07:46:23.345Z"
      },
      {
        "duration": 3,
        "start_time": "2023-07-11T07:46:23.382Z"
      },
      {
        "duration": 11,
        "start_time": "2023-07-11T07:46:23.386Z"
      },
      {
        "duration": 10,
        "start_time": "2023-07-11T07:46:23.399Z"
      },
      {
        "duration": 152735,
        "start_time": "2023-07-11T07:46:46.855Z"
      },
      {
        "duration": 1277700,
        "start_time": "2023-07-11T07:56:52.354Z"
      },
      {
        "duration": 3468009,
        "start_time": "2023-07-11T08:20:08.559Z"
      },
      {
        "duration": 3,
        "start_time": "2023-07-11T09:24:55.702Z"
      },
      {
        "duration": 3277,
        "start_time": "2023-07-11T09:25:08.046Z"
      },
      {
        "duration": 39372,
        "start_time": "2023-07-11T09:56:58.452Z"
      },
      {
        "duration": 5,
        "start_time": "2023-07-11T09:57:46.631Z"
      },
      {
        "duration": 93,
        "start_time": "2023-07-11T09:57:46.639Z"
      },
      {
        "duration": 10,
        "start_time": "2023-07-11T09:57:46.735Z"
      },
      {
        "duration": 46,
        "start_time": "2023-07-11T09:57:46.747Z"
      },
      {
        "duration": 38,
        "start_time": "2023-07-11T09:57:46.796Z"
      },
      {
        "duration": 7,
        "start_time": "2023-07-11T09:57:46.836Z"
      },
      {
        "duration": 32,
        "start_time": "2023-07-11T09:57:46.845Z"
      },
      {
        "duration": 18,
        "start_time": "2023-07-11T09:57:46.878Z"
      },
      {
        "duration": 7,
        "start_time": "2023-07-11T09:57:46.897Z"
      },
      {
        "duration": 34,
        "start_time": "2023-07-11T09:57:46.905Z"
      },
      {
        "duration": 150,
        "start_time": "2023-07-11T09:57:46.941Z"
      },
      {
        "duration": 989,
        "start_time": "2023-07-11T09:57:47.093Z"
      },
      {
        "duration": 203,
        "start_time": "2023-07-11T09:57:48.084Z"
      },
      {
        "duration": 340,
        "start_time": "2023-07-11T09:57:48.291Z"
      },
      {
        "duration": 24,
        "start_time": "2023-07-11T09:57:48.634Z"
      },
      {
        "duration": 47,
        "start_time": "2023-07-11T09:57:48.667Z"
      },
      {
        "duration": 367,
        "start_time": "2023-07-11T09:57:48.716Z"
      },
      {
        "duration": 3,
        "start_time": "2023-07-11T09:57:49.087Z"
      },
      {
        "duration": 6186,
        "start_time": "2023-07-11T09:57:49.092Z"
      },
      {
        "duration": 16,
        "start_time": "2023-07-11T09:57:55.356Z"
      },
      {
        "duration": 188,
        "start_time": "2023-07-11T09:57:55.382Z"
      },
      {
        "duration": 370,
        "start_time": "2023-07-11T09:57:55.572Z"
      },
      {
        "duration": 51,
        "start_time": "2023-07-11T09:57:55.953Z"
      },
      {
        "duration": 18,
        "start_time": "2023-07-11T09:57:56.006Z"
      },
      {
        "duration": 20,
        "start_time": "2023-07-11T09:57:56.026Z"
      },
      {
        "duration": 40,
        "start_time": "2023-07-11T09:57:56.048Z"
      },
      {
        "duration": 164006,
        "start_time": "2023-07-11T09:58:08.527Z"
      },
      {
        "duration": 1451571,
        "start_time": "2023-07-11T10:02:01.898Z"
      },
      {
        "duration": 3487341,
        "start_time": "2023-07-11T10:30:36.540Z"
      },
      {
        "duration": 3397,
        "start_time": "2023-07-11T11:30:37.732Z"
      }
    ],
    "kernelspec": {
      "display_name": "Python 3 (ipykernel)",
      "language": "python",
      "name": "python3"
    },
    "language_info": {
      "codemirror_mode": {
        "name": "ipython",
        "version": 3
      },
      "file_extension": ".py",
      "mimetype": "text/x-python",
      "name": "python",
      "nbconvert_exporter": "python",
      "pygments_lexer": "ipython3",
      "version": "3.9.5"
    },
    "toc": {
      "base_numbering": 1,
      "nav_menu": {},
      "number_sections": true,
      "sideBar": true,
      "skip_h1_title": true,
      "title_cell": "Содержание",
      "title_sidebar": "Contents",
      "toc_cell": true,
      "toc_position": {
        "height": "calc(100% - 180px)",
        "left": "10px",
        "top": "150px",
        "width": "220.75px"
      },
      "toc_section_display": true,
      "toc_window_display": false
    },
    "colab": {
      "provenance": []
    }
  },
  "nbformat": 4,
  "nbformat_minor": 0
}