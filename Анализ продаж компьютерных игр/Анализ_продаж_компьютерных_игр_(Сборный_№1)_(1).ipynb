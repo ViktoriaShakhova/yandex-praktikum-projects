{
  "cells": [
    {
      "cell_type": "markdown",
      "metadata": {
        "id": "OE1xpuwzGIAl"
      },
      "source": [
        "# Анализ продаж компьютерных игр"
      ]
    },
    {
      "cell_type": "markdown",
      "metadata": {
        "id": "hqrP-oGRGIAm"
      },
      "source": [
        "Анализ продаж компьтерных игр для интернет-магазина \"Стримчик\".\n",
        "\n",
        "Из открытых источников доступны исторические данные о продажах игр, оценки пользователей и экспертов, жанры и платформы (например, Xbox или PlayStation) с 1980 по 2016 годы.\n",
        "\n",
        "**Цель исследования:** выявить определяющие успешность игры закономерности для того, чтобы сделать ставку на потенциально популярный продукт и спланировать рекламные кампании."
      ]
    },
    {
      "cell_type": "code",
      "execution_count": null,
      "metadata": {
        "id": "eG_XWkMhGIAo"
      },
      "outputs": [],
      "source": [
        "import pandas as pd\n",
        "import matplotlib.pyplot as plt\n",
        "from scipy import stats as st\n",
        "import numpy as np"
      ]
    },
    {
      "cell_type": "code",
      "execution_count": null,
      "metadata": {
        "id": "ixflE8y0GIAr"
      },
      "outputs": [],
      "source": [
        "data = pd.read_csv('/datasets/games.csv')"
      ]
    },
    {
      "cell_type": "code",
      "execution_count": null,
      "metadata": {
        "scrolled": false,
        "id": "1Ob2PhxxGIAr",
        "outputId": "a99af9ee-cae8-4e3c-fd2f-3e42d3e68389"
      },
      "outputs": [
        {
          "data": {
            "text/html": [
              "<div>\n",
              "<style scoped>\n",
              "    .dataframe tbody tr th:only-of-type {\n",
              "        vertical-align: middle;\n",
              "    }\n",
              "\n",
              "    .dataframe tbody tr th {\n",
              "        vertical-align: top;\n",
              "    }\n",
              "\n",
              "    .dataframe thead th {\n",
              "        text-align: right;\n",
              "    }\n",
              "</style>\n",
              "<table border=\"1\" class=\"dataframe\">\n",
              "  <thead>\n",
              "    <tr style=\"text-align: right;\">\n",
              "      <th></th>\n",
              "      <th>Name</th>\n",
              "      <th>Platform</th>\n",
              "      <th>Year_of_Release</th>\n",
              "      <th>Genre</th>\n",
              "      <th>NA_sales</th>\n",
              "      <th>EU_sales</th>\n",
              "      <th>JP_sales</th>\n",
              "      <th>Other_sales</th>\n",
              "      <th>Critic_Score</th>\n",
              "      <th>User_Score</th>\n",
              "      <th>Rating</th>\n",
              "    </tr>\n",
              "  </thead>\n",
              "  <tbody>\n",
              "    <tr>\n",
              "      <th>0</th>\n",
              "      <td>Wii Sports</td>\n",
              "      <td>Wii</td>\n",
              "      <td>2006.0</td>\n",
              "      <td>Sports</td>\n",
              "      <td>41.36</td>\n",
              "      <td>28.96</td>\n",
              "      <td>3.77</td>\n",
              "      <td>8.45</td>\n",
              "      <td>76.0</td>\n",
              "      <td>8</td>\n",
              "      <td>E</td>\n",
              "    </tr>\n",
              "    <tr>\n",
              "      <th>1</th>\n",
              "      <td>Super Mario Bros.</td>\n",
              "      <td>NES</td>\n",
              "      <td>1985.0</td>\n",
              "      <td>Platform</td>\n",
              "      <td>29.08</td>\n",
              "      <td>3.58</td>\n",
              "      <td>6.81</td>\n",
              "      <td>0.77</td>\n",
              "      <td>NaN</td>\n",
              "      <td>NaN</td>\n",
              "      <td>NaN</td>\n",
              "    </tr>\n",
              "    <tr>\n",
              "      <th>2</th>\n",
              "      <td>Mario Kart Wii</td>\n",
              "      <td>Wii</td>\n",
              "      <td>2008.0</td>\n",
              "      <td>Racing</td>\n",
              "      <td>15.68</td>\n",
              "      <td>12.76</td>\n",
              "      <td>3.79</td>\n",
              "      <td>3.29</td>\n",
              "      <td>82.0</td>\n",
              "      <td>8.3</td>\n",
              "      <td>E</td>\n",
              "    </tr>\n",
              "    <tr>\n",
              "      <th>3</th>\n",
              "      <td>Wii Sports Resort</td>\n",
              "      <td>Wii</td>\n",
              "      <td>2009.0</td>\n",
              "      <td>Sports</td>\n",
              "      <td>15.61</td>\n",
              "      <td>10.93</td>\n",
              "      <td>3.28</td>\n",
              "      <td>2.95</td>\n",
              "      <td>80.0</td>\n",
              "      <td>8</td>\n",
              "      <td>E</td>\n",
              "    </tr>\n",
              "    <tr>\n",
              "      <th>4</th>\n",
              "      <td>Pokemon Red/Pokemon Blue</td>\n",
              "      <td>GB</td>\n",
              "      <td>1996.0</td>\n",
              "      <td>Role-Playing</td>\n",
              "      <td>11.27</td>\n",
              "      <td>8.89</td>\n",
              "      <td>10.22</td>\n",
              "      <td>1.00</td>\n",
              "      <td>NaN</td>\n",
              "      <td>NaN</td>\n",
              "      <td>NaN</td>\n",
              "    </tr>\n",
              "    <tr>\n",
              "      <th>5</th>\n",
              "      <td>Tetris</td>\n",
              "      <td>GB</td>\n",
              "      <td>1989.0</td>\n",
              "      <td>Puzzle</td>\n",
              "      <td>23.20</td>\n",
              "      <td>2.26</td>\n",
              "      <td>4.22</td>\n",
              "      <td>0.58</td>\n",
              "      <td>NaN</td>\n",
              "      <td>NaN</td>\n",
              "      <td>NaN</td>\n",
              "    </tr>\n",
              "    <tr>\n",
              "      <th>6</th>\n",
              "      <td>New Super Mario Bros.</td>\n",
              "      <td>DS</td>\n",
              "      <td>2006.0</td>\n",
              "      <td>Platform</td>\n",
              "      <td>11.28</td>\n",
              "      <td>9.14</td>\n",
              "      <td>6.50</td>\n",
              "      <td>2.88</td>\n",
              "      <td>89.0</td>\n",
              "      <td>8.5</td>\n",
              "      <td>E</td>\n",
              "    </tr>\n",
              "    <tr>\n",
              "      <th>7</th>\n",
              "      <td>Wii Play</td>\n",
              "      <td>Wii</td>\n",
              "      <td>2006.0</td>\n",
              "      <td>Misc</td>\n",
              "      <td>13.96</td>\n",
              "      <td>9.18</td>\n",
              "      <td>2.93</td>\n",
              "      <td>2.84</td>\n",
              "      <td>58.0</td>\n",
              "      <td>6.6</td>\n",
              "      <td>E</td>\n",
              "    </tr>\n",
              "    <tr>\n",
              "      <th>8</th>\n",
              "      <td>New Super Mario Bros. Wii</td>\n",
              "      <td>Wii</td>\n",
              "      <td>2009.0</td>\n",
              "      <td>Platform</td>\n",
              "      <td>14.44</td>\n",
              "      <td>6.94</td>\n",
              "      <td>4.70</td>\n",
              "      <td>2.24</td>\n",
              "      <td>87.0</td>\n",
              "      <td>8.4</td>\n",
              "      <td>E</td>\n",
              "    </tr>\n",
              "    <tr>\n",
              "      <th>9</th>\n",
              "      <td>Duck Hunt</td>\n",
              "      <td>NES</td>\n",
              "      <td>1984.0</td>\n",
              "      <td>Shooter</td>\n",
              "      <td>26.93</td>\n",
              "      <td>0.63</td>\n",
              "      <td>0.28</td>\n",
              "      <td>0.47</td>\n",
              "      <td>NaN</td>\n",
              "      <td>NaN</td>\n",
              "      <td>NaN</td>\n",
              "    </tr>\n",
              "  </tbody>\n",
              "</table>\n",
              "</div>"
            ],
            "text/plain": [
              "                        Name Platform  Year_of_Release         Genre  \\\n",
              "0                 Wii Sports      Wii           2006.0        Sports   \n",
              "1          Super Mario Bros.      NES           1985.0      Platform   \n",
              "2             Mario Kart Wii      Wii           2008.0        Racing   \n",
              "3          Wii Sports Resort      Wii           2009.0        Sports   \n",
              "4   Pokemon Red/Pokemon Blue       GB           1996.0  Role-Playing   \n",
              "5                     Tetris       GB           1989.0        Puzzle   \n",
              "6      New Super Mario Bros.       DS           2006.0      Platform   \n",
              "7                   Wii Play      Wii           2006.0          Misc   \n",
              "8  New Super Mario Bros. Wii      Wii           2009.0      Platform   \n",
              "9                  Duck Hunt      NES           1984.0       Shooter   \n",
              "\n",
              "   NA_sales  EU_sales  JP_sales  Other_sales  Critic_Score User_Score Rating  \n",
              "0     41.36     28.96      3.77         8.45          76.0          8      E  \n",
              "1     29.08      3.58      6.81         0.77           NaN        NaN    NaN  \n",
              "2     15.68     12.76      3.79         3.29          82.0        8.3      E  \n",
              "3     15.61     10.93      3.28         2.95          80.0          8      E  \n",
              "4     11.27      8.89     10.22         1.00           NaN        NaN    NaN  \n",
              "5     23.20      2.26      4.22         0.58           NaN        NaN    NaN  \n",
              "6     11.28      9.14      6.50         2.88          89.0        8.5      E  \n",
              "7     13.96      9.18      2.93         2.84          58.0        6.6      E  \n",
              "8     14.44      6.94      4.70         2.24          87.0        8.4      E  \n",
              "9     26.93      0.63      0.28         0.47           NaN        NaN    NaN  "
            ]
          },
          "execution_count": 3,
          "metadata": {},
          "output_type": "execute_result"
        }
      ],
      "source": [
        "data.head(10)"
      ]
    },
    {
      "cell_type": "markdown",
      "metadata": {
        "id": "o5_a2QalGIAt"
      },
      "source": [
        "## Предобработка данных"
      ]
    },
    {
      "cell_type": "markdown",
      "metadata": {
        "id": "qVMFsiQiGIAt"
      },
      "source": [
        "Так как названия столбцов не соответствуют общепринятому формату, приведем их к нижнему регистру:"
      ]
    },
    {
      "cell_type": "code",
      "execution_count": null,
      "metadata": {
        "id": "2Jm5hc1oGIAu"
      },
      "outputs": [],
      "source": [
        "data.columns = data.columns.str.lower()"
      ]
    },
    {
      "cell_type": "markdown",
      "metadata": {
        "id": "Cw4RqgHFGIAv"
      },
      "source": [
        "Далее, преобразуем данные в нужные типы, где это необходимо:"
      ]
    },
    {
      "cell_type": "code",
      "execution_count": null,
      "metadata": {
        "id": "tccl3GJZGIAv",
        "outputId": "f0255221-5371-40ed-c03b-935b5fe4b4f6"
      },
      "outputs": [
        {
          "name": "stdout",
          "output_type": "stream",
          "text": [
            "<class 'pandas.core.frame.DataFrame'>\n",
            "RangeIndex: 16715 entries, 0 to 16714\n",
            "Data columns (total 11 columns):\n",
            " #   Column           Non-Null Count  Dtype  \n",
            "---  ------           --------------  -----  \n",
            " 0   name             16713 non-null  object \n",
            " 1   platform         16715 non-null  object \n",
            " 2   year_of_release  16446 non-null  float64\n",
            " 3   genre            16713 non-null  object \n",
            " 4   na_sales         16715 non-null  float64\n",
            " 5   eu_sales         16715 non-null  float64\n",
            " 6   jp_sales         16715 non-null  float64\n",
            " 7   other_sales      16715 non-null  float64\n",
            " 8   critic_score     8137 non-null   float64\n",
            " 9   user_score       10014 non-null  object \n",
            " 10  rating           9949 non-null   object \n",
            "dtypes: float64(6), object(5)\n",
            "memory usage: 1.4+ MB\n"
          ]
        }
      ],
      "source": [
        "data.info()"
      ]
    },
    {
      "cell_type": "code",
      "execution_count": null,
      "metadata": {
        "id": "EDIifdh-GIAv"
      },
      "outputs": [],
      "source": [
        "#замени столбец с данными о годе выпуска игры на целочисленный\n",
        "data['year_of_release'] = data['year_of_release'].astype('Int64')"
      ]
    },
    {
      "cell_type": "markdown",
      "metadata": {
        "id": "kFSvYatmGIAw"
      },
      "source": [
        "Также стоит заменить тип данных в столбце 'user_score'. Сделаем это после обработки пропусков:"
      ]
    },
    {
      "cell_type": "code",
      "execution_count": null,
      "metadata": {
        "scrolled": false,
        "id": "1xtiyjXKGIAw",
        "outputId": "b1e0f8b4-f2aa-491c-96b4-644bf5d6969c"
      },
      "outputs": [
        {
          "data": {
            "text/plain": [
              "name                  2\n",
              "platform              0\n",
              "year_of_release     269\n",
              "genre                 2\n",
              "na_sales              0\n",
              "eu_sales              0\n",
              "jp_sales              0\n",
              "other_sales           0\n",
              "critic_score       8578\n",
              "user_score         6701\n",
              "rating             6766\n",
              "dtype: int64"
            ]
          },
          "execution_count": 7,
          "metadata": {},
          "output_type": "execute_result"
        }
      ],
      "source": [
        "#количество пропусков в каждом столбце\n",
        "data.isna().sum()"
      ]
    },
    {
      "cell_type": "markdown",
      "metadata": {
        "id": "1NgO4q2GGIAw"
      },
      "source": [
        "Так как в столбцах 'name' и 'year_of_release' незначительное количество пропущенных значений, было принято решение удалить строки, где они присутствуют."
      ]
    },
    {
      "cell_type": "code",
      "execution_count": null,
      "metadata": {
        "id": "6-CXNlkzGIAw"
      },
      "outputs": [],
      "source": [
        "data = data.dropna(subset=['name'])"
      ]
    },
    {
      "cell_type": "code",
      "execution_count": null,
      "metadata": {
        "id": "rVtczzzKGIAw"
      },
      "outputs": [],
      "source": [
        "data = data.dropna(subset=['year_of_release'])"
      ]
    },
    {
      "cell_type": "markdown",
      "metadata": {
        "id": "2D_8HMicGIAx"
      },
      "source": [
        "В столбце 'user_score', описывающем пользовательскую оценку игры, присутствует значение \"tbd\", которое расшифровывается, как To Be Determined, то есть \"Будет определено\" (также употребляется в значение To Be Done или To Be Discussed). Это означает, что оценка пользователей по тем или иным причинам у игры отсутствует, поэтому заменим все значения tbd на NaN, а также изменим тип данных на float:"
      ]
    },
    {
      "cell_type": "code",
      "execution_count": null,
      "metadata": {
        "id": "QIkMqkzPGIAx"
      },
      "outputs": [],
      "source": [
        "data['user_score'] = data['user_score'].replace('tbd', 'nan').astype('float')"
      ]
    },
    {
      "cell_type": "markdown",
      "metadata": {
        "id": "kMICQv6KGIAy"
      },
      "source": [
        "Оставшиеся пропуски в столбцах 'critic_score' и 'user_score' (оценка критиков и пользователей) заполнять не считается корректым, так как ни медианное, ни среднее значение могут не соответствовать реальному мнению критиков и пользователей об игре и это может повлиять на дальнейшее исследование."
      ]
    },
    {
      "cell_type": "code",
      "execution_count": null,
      "metadata": {
        "scrolled": true,
        "id": "RhFUB96RGIAy",
        "outputId": "e8898a63-0dc0-4247-dc3e-535ea6b6be8c"
      },
      "outputs": [
        {
          "data": {
            "text/plain": [
              "name                  0\n",
              "platform              0\n",
              "year_of_release       0\n",
              "genre                 0\n",
              "na_sales              0\n",
              "eu_sales              0\n",
              "jp_sales              0\n",
              "other_sales           0\n",
              "critic_score       8461\n",
              "user_score         8981\n",
              "rating             6676\n",
              "dtype: int64"
            ]
          },
          "execution_count": 11,
          "metadata": {},
          "output_type": "execute_result"
        }
      ],
      "source": [
        "#проверим оставшиеся пропуски\n",
        "data.isna().sum()"
      ]
    },
    {
      "cell_type": "code",
      "execution_count": null,
      "metadata": {
        "id": "Ajk8jYdOGIAz",
        "outputId": "47a55a5e-1ce4-45fa-c259-6d4f048cf166"
      },
      "outputs": [
        {
          "data": {
            "text/plain": [
              "0"
            ]
          },
          "execution_count": 12,
          "metadata": {},
          "output_type": "execute_result"
        }
      ],
      "source": [
        "#проверим на наличие дубликатов\n",
        "data.duplicated().sum()"
      ]
    },
    {
      "cell_type": "code",
      "execution_count": null,
      "metadata": {
        "id": "rX2ubmhzGIAz"
      },
      "outputs": [],
      "source": [
        "#обновим индексы датафрйма\n",
        "data = data.reset_index(drop=True)"
      ]
    },
    {
      "cell_type": "markdown",
      "metadata": {
        "id": "F1g4tsJjGIA0"
      },
      "source": [
        "Создадим столбец с суммариными продажами по всем регионам"
      ]
    },
    {
      "cell_type": "code",
      "execution_count": null,
      "metadata": {
        "id": "wotTdzjmGIA0"
      },
      "outputs": [],
      "source": [
        "data['total_sales'] = data['na_sales'] + data['eu_sales'] + data['jp_sales'] + data['other_sales']"
      ]
    },
    {
      "cell_type": "markdown",
      "metadata": {
        "id": "hOG8I_hdGIA0"
      },
      "source": [
        "\n",
        "Возможными причинами пропусков в данных в столбцах 'name' (название игры) и 'year_of_release' (год выпуска) можно назвать случайные человеческие или технические ошибки, в результате чего в датасет либо просто не внесли необходимы данные, либо они были утерены в результате обработки, выгрузки и тд. Пропуски в столбцах 'critic_score' и 'user_score' (оценки критиков и пользователей соответственно) могли возникнуть также в следствии случайных причин, но и, например, из-за того, что игра слишком новая и еще не имеет оценок на момент выгрузки. В столбце 'rating' (рейтинг ESRB) пропуски могли возникнуть в связи с тем, что данный рейтинг не присваивается в некоторых регионах и не присваивался до 1994 года."
      ]
    },
    {
      "cell_type": "code",
      "execution_count": null,
      "metadata": {
        "scrolled": true,
        "id": "KJ8_6yiVGIA1"
      },
      "outputs": [],
      "source": [
        "#data[data['critic_score'].isna()].head(20)"
      ]
    },
    {
      "cell_type": "code",
      "execution_count": null,
      "metadata": {
        "id": "VFKFCTGKGIA1",
        "outputId": "5cc97279-3720-4f0b-886f-c71a17960950"
      },
      "outputs": [
        {
          "name": "stdout",
          "output_type": "stream",
          "text": [
            "<class 'pandas.core.frame.DataFrame'>\n",
            "RangeIndex: 16444 entries, 0 to 16443\n",
            "Data columns (total 12 columns):\n",
            " #   Column           Non-Null Count  Dtype  \n",
            "---  ------           --------------  -----  \n",
            " 0   name             16444 non-null  object \n",
            " 1   platform         16444 non-null  object \n",
            " 2   year_of_release  16444 non-null  Int64  \n",
            " 3   genre            16444 non-null  object \n",
            " 4   na_sales         16444 non-null  float64\n",
            " 5   eu_sales         16444 non-null  float64\n",
            " 6   jp_sales         16444 non-null  float64\n",
            " 7   other_sales      16444 non-null  float64\n",
            " 8   critic_score     7983 non-null   float64\n",
            " 9   user_score       7463 non-null   float64\n",
            " 10  rating           9768 non-null   object \n",
            " 11  total_sales      16444 non-null  float64\n",
            "dtypes: Int64(1), float64(7), object(4)\n",
            "memory usage: 1.5+ MB\n",
            "None\n",
            "-------------------------\n",
            "name [' Beyblade Burst' ' Fire Emblem Fates' \" Frozen: Olaf's Quest\" ...\n",
            " 'uDraw Studio' 'uDraw Studio: Instant Artist'\n",
            " '¡Shin Chan Flipa en colores!']\n",
            "name : кол-во NaN 0 , процент NaN 0.0 %\n",
            "-------------------------\n",
            "platform ['2600' '3DO' '3DS' 'DC' 'DS' 'GB' 'GBA' 'GC' 'GEN' 'GG' 'N64' 'NES' 'NG'\n",
            " 'PC' 'PCFX' 'PS' 'PS2' 'PS3' 'PS4' 'PSP' 'PSV' 'SAT' 'SCD' 'SNES' 'TG16'\n",
            " 'WS' 'Wii' 'WiiU' 'X360' 'XB' 'XOne']\n",
            "platform : кол-во NaN 0 , процент NaN 0.0 %\n",
            "-------------------------\n",
            "year_of_release <IntegerArray>\n",
            "[1980, 1981, 1982, 1983, 1984, 1985, 1986, 1987, 1988, 1989, 1990, 1991, 1992,\n",
            " 1993, 1994, 1995, 1996, 1997, 1998, 1999, 2000, 2001, 2002, 2003, 2004, 2005,\n",
            " 2006, 2007, 2008, 2009, 2010, 2011, 2012, 2013, 2014, 2015, 2016]\n",
            "Length: 37, dtype: Int64\n",
            "year_of_release : кол-во NaN 0 , процент NaN 0.0 %\n",
            "-------------------------\n",
            "genre ['Action' 'Adventure' 'Fighting' 'Misc' 'Platform' 'Puzzle' 'Racing'\n",
            " 'Role-Playing' 'Shooter' 'Simulation' 'Sports' 'Strategy']\n",
            "genre : кол-во NaN 0 , процент NaN 0.0 %\n",
            "-------------------------\n",
            "critic_score [13. 17. 19. 20. 21. 23. 24. 25. 26. 27. 28. 29. 30. 31. 32. 33. 34. 35.\n",
            " 36. 37. 38. 39. 40. 41. 42. 43. 44. 45. 46. 47. 48. 49. 50. 51. 52. 53.\n",
            " 54. 55. 56. 57. 58. 59. 60. 61. 62. 63. 64. 65. 66. 67. 68. 69. 70. 71.\n",
            " 72. 73. 74. 75. 76. 77. 78. 79. 80. 81. 82. 83. 84. 85. 86. 87. 88. 89.\n",
            " 90. 91. 92. 93. 94. 95. 96. 97. 98. nan]\n",
            "critic_score : кол-во NaN 8461 , процент NaN 51.45 %\n",
            "-------------------------\n",
            "user_score [0.  0.2 0.3 0.5 0.6 0.7 0.9 1.  1.1 1.2 1.3 1.4 1.5 1.6 1.7 1.8 1.9 2.\n",
            " 2.1 2.2 2.3 2.4 2.5 2.6 2.7 2.8 2.9 3.  3.1 3.2 3.3 3.4 3.5 3.6 3.7 3.8\n",
            " 3.9 4.  4.1 4.2 4.3 4.4 4.5 4.6 4.7 4.8 4.9 5.  5.1 5.2 5.3 5.4 5.5 5.6\n",
            " 5.7 5.8 5.9 6.  6.1 6.2 6.3 6.4 6.5 6.6 6.7 6.8 6.9 7.  7.1 7.2 7.3 7.4\n",
            " 7.5 7.6 7.7 7.8 7.9 8.  8.1 8.2 8.3 8.4 8.5 8.6 8.7 8.8 8.9 9.  9.1 9.2\n",
            " 9.3 9.4 9.5 9.6 9.7 nan]\n",
            "user_score : кол-во NaN 8981 , процент NaN 54.62 %\n",
            "-------------------------\n",
            "rating ['AO' 'E' 'E10+' 'EC' 'K-A' 'M' 'RP' 'T' nan]\n",
            "rating : кол-во NaN 6676 , процент NaN 40.6 %\n"
          ]
        }
      ],
      "source": [
        "# Комментарий ревьюера\n",
        "# Посмотрим, что осталось\n",
        "temp = data.copy()\n",
        "list_c = ['name', 'platform', 'year_of_release', 'genre', 'critic_score', 'user_score', 'rating']\n",
        "print(temp.info())\n",
        "for col_l in list_c:\n",
        "  print('-'* 25)\n",
        "  print(col_l, temp[col_l].sort_values().unique())\n",
        "  print(col_l,': кол-во NaN',temp[col_l].isna().sum(),\n",
        "        ', процент NaN', round(temp[col_l].isna().mean()*100,2),'%')"
      ]
    },
    {
      "cell_type": "markdown",
      "metadata": {
        "id": "pEvNB5LDGIA2"
      },
      "source": [
        "\n",
        "\n",
        "Из открытых источников известно, что рейтинг ESRB - негосударственная организация, основное направление деятельности — принятие и определение рейтингов для компьютерных видеоигр и другого развлекательного программного обеспечения в США и Канаде. Также стало известно, что данная организация начала свою деятельность только в 1994 году, а в предоставлекнном датасете данные, начиная с 1980 года. Поэтому пропуски в данном столбце могут быть вызваны тем, что в определенном регионе и для игр страше 1994 года выпуска рейтинг не присваивался.\n",
        "\n",
        "Поставим заглушку на пропуски в столбце с рейтингом ESRB, чтобы не потерять и учесть эти данные при дальнейшем анализе:"
      ]
    },
    {
      "cell_type": "code",
      "execution_count": null,
      "metadata": {
        "id": "1hJhr0u-GIA2"
      },
      "outputs": [],
      "source": [
        "data['rating'] = data['rating'].fillna('no_rating')"
      ]
    },
    {
      "cell_type": "markdown",
      "metadata": {
        "id": "q-CudMtVGIA3"
      },
      "source": [
        "## Исследовательский анализ"
      ]
    },
    {
      "cell_type": "markdown",
      "metadata": {
        "id": "83QnAA5QGIA3"
      },
      "source": [
        "Посмотрим, сколько игр выпускалось в разные годы:"
      ]
    },
    {
      "cell_type": "code",
      "execution_count": null,
      "metadata": {
        "id": "GlAD4ZkRGIA3",
        "outputId": "051c029d-bc51-49fa-8e41-51cad60c04f2"
      },
      "outputs": [
        {
          "data": {
            "text/plain": [
              "year_of_release\n",
              "1980       9\n",
              "1981      46\n",
              "1982      36\n",
              "1983      17\n",
              "1984      14\n",
              "1985      14\n",
              "1986      21\n",
              "1987      16\n",
              "1988      15\n",
              "1989      17\n",
              "1990      16\n",
              "1991      41\n",
              "1992      43\n",
              "1993      60\n",
              "1994     121\n",
              "1995     219\n",
              "1996     263\n",
              "1997     289\n",
              "1998     379\n",
              "1999     338\n",
              "2000     350\n",
              "2001     482\n",
              "2002     829\n",
              "2003     775\n",
              "2004     762\n",
              "2005     939\n",
              "2006    1006\n",
              "2007    1197\n",
              "2008    1427\n",
              "2009    1426\n",
              "2010    1255\n",
              "2011    1136\n",
              "2012     653\n",
              "2013     544\n",
              "2014     581\n",
              "2015     606\n",
              "2016     502\n",
              "Name: name, dtype: int64"
            ]
          },
          "execution_count": 18,
          "metadata": {},
          "output_type": "execute_result"
        }
      ],
      "source": [
        "dt_year = data.groupby('year_of_release')['name'].agg('count')\n",
        "dt_year"
      ]
    },
    {
      "cell_type": "code",
      "execution_count": null,
      "metadata": {
        "id": "p8axClx4GIA4",
        "outputId": "566d15f3-f0ac-4879-ce8f-46381d1c96c5"
      },
      "outputs": [
        {
          "data": {
            "text/plain": [
              "Text(0.5, 1.0, 'Распределение выпущенных игр по годам')"
            ]
          },
          "execution_count": 19,
          "metadata": {},
          "output_type": "execute_result"
        },
        {
          "data": {
            "image/png": "[encoded data removed]",
            "text/plain": [
              "<Figure size 432x288 with 1 Axes>"
            ]
          },
          "metadata": {
            "needs_background": "light"
          },
          "output_type": "display_data"
        }
      ],
      "source": [
        "dt_year.plot(x='year_of_release')\n",
        "plt.xlabel('Год выпуска')\n",
        "plt.ylabel('Количество выпущенных игр')\n",
        "plt.title('Распределение выпущенных игр по годам')"
      ]
    },
    {
      "cell_type": "code",
      "execution_count": null,
      "metadata": {
        "id": "QL-gFgqwGIA5",
        "outputId": "e3a8ca54-40fd-4417-e1dd-9f180c020543"
      },
      "outputs": [
        {
          "data": {
            "text/plain": [
              "<AxesSubplot:>"
            ]
          },
          "execution_count": 20,
          "metadata": {},
          "output_type": "execute_result"
        },
        {
          "data": {
            "image/png": "[encoded data removed]",
            "text/plain": [
              "<Figure size 432x288 with 1 Axes>"
            ]
          },
          "metadata": {
            "needs_background": "light"
          },
          "output_type": "display_data"
        }
      ],
      "source": [
        "data['year_of_release'].hist(bins=37)"
      ]
    },
    {
      "cell_type": "markdown",
      "metadata": {
        "id": "6Valei6_GIA6"
      },
      "source": [
        "Можно заметить, что выпуск игр постепенно увеличивался, пока не достиг своего пика в 2008-2009 годах. После чего, количество выпускаемых игр начало стремительно уменьшатся и сейчас примерно равно уровню 2001 года.\n",
        "\n",
        "Это можно связать с тем, что в последние годы предъявляется гораздо больше требований к качеству новых игр, что требует более длительного и сложного процесса разработки. Поэтому выпускается меньшее количество, но гораздо более масштабных и качественных игр."
      ]
    },
    {
      "cell_type": "markdown",
      "metadata": {
        "id": "PW6OxyGlGIA6"
      },
      "source": [
        "Посмотрим, как менялись продажи по платформам:"
      ]
    },
    {
      "cell_type": "code",
      "execution_count": null,
      "metadata": {
        "id": "TrrG7fxAGIA6",
        "outputId": "41784904-d172-46f4-866a-f55dc489fd7d"
      },
      "outputs": [
        {
          "data": {
            "text/plain": [
              "platform\n",
              "PS2     1233.56\n",
              "X360     961.24\n",
              "PS3      931.34\n",
              "Wii      891.18\n",
              "DS       802.78\n",
              "PS       727.58\n",
              "PS4      314.14\n",
              "GBA      312.88\n",
              "PSP      289.53\n",
              "3DS      257.81\n",
              "Name: total_sales, dtype: float64"
            ]
          },
          "execution_count": 21,
          "metadata": {},
          "output_type": "execute_result"
        }
      ],
      "source": [
        "#10 платформ с наибольшими суммарными продажами\n",
        "dt_pl_top10 = data.groupby('platform')['total_sales'].agg('sum').sort_values(ascending=False).head(10)\n",
        "dt_pl_top10"
      ]
    },
    {
      "cell_type": "code",
      "execution_count": null,
      "metadata": {
        "id": "Qqj3xdKFGIA7"
      },
      "outputs": [],
      "source": [
        "pl_top = pd.Series(['PS2', 'X360', 'PS3', 'Wii', 'DS', 'PS', 'PS4', 'GBA', 'PSP', '3DS'])"
      ]
    },
    {
      "cell_type": "code",
      "execution_count": null,
      "metadata": {
        "id": "jfgC2BgCGIA7",
        "outputId": "21b6ed3e-46aa-42d4-84b9-cae6c8d77149"
      },
      "outputs": [
        {
          "data": {
            "text/plain": [
              "<AxesSubplot:xlabel='year_of_release'>"
            ]
          },
          "execution_count": 23,
          "metadata": {},
          "output_type": "execute_result"
        },
        {
          "data": {
            "image/png": "[encoded data removed]",
            "text/plain": [
              "<Figure size 864x432 with 1 Axes>"
            ]
          },
          "metadata": {
            "needs_background": "light"
          },
          "output_type": "display_data"
        }
      ],
      "source": [
        "#распределение платформ с наибольшими суммарными продажами по годам\n",
        "(data\n",
        "    .query('platform.isin(@pl_top)')\n",
        "    .pivot_table(index='year_of_release', columns='platform', values='total_sales', aggfunc='sum')\n",
        "    .sort_values('year_of_release', ascending=False)\n",
        ").plot(figsize=(12, 6), grid=True)"
      ]
    },
    {
      "cell_type": "markdown",
      "metadata": {
        "id": "-c2nJILnGIA7"
      },
      "source": [
        "Появляются новые и исчезают старые платформы в срок примерно от 7 до 12 лет. При этом до 1994 года не появлялась ни одна из наиболее прибыльных платформ, поэтому рассмотрим более подробно период с 1994 года:"
      ]
    },
    {
      "cell_type": "code",
      "execution_count": null,
      "metadata": {
        "id": "EB0BC0fuGIA8"
      },
      "outputs": [],
      "source": [
        "data2 = data[data['year_of_release'] > 1993]"
      ]
    },
    {
      "cell_type": "code",
      "execution_count": null,
      "metadata": {
        "id": "MStkuJEAGIA8",
        "outputId": "59996a8d-8dab-4c1e-e1b1-e71560c4a642"
      },
      "outputs": [
        {
          "data": {
            "text/plain": [
              "<AxesSubplot:xlabel='year_of_release'>"
            ]
          },
          "execution_count": 25,
          "metadata": {},
          "output_type": "execute_result"
        },
        {
          "data": {
            "image/png": "[encoded data removed]",
            "text/plain": [
              "<Figure size 864x432 with 1 Axes>"
            ]
          },
          "metadata": {
            "needs_background": "light"
          },
          "output_type": "display_data"
        }
      ],
      "source": [
        "(data2\n",
        "    .query('platform.isin(@pl_top)')\n",
        "    .pivot_table(index='year_of_release', columns='platform', values='total_sales', aggfunc='sum')\n",
        "    .sort_values('year_of_release', ascending=False)\n",
        ").plot(figsize=(12, 6), grid=True)"
      ]
    },
    {
      "cell_type": "markdown",
      "metadata": {
        "id": "Yg-IF5a5GIA8"
      },
      "source": [
        "Можно увидеть, что на текущий момент (2016 год) все еще актуальными (из наиболее прибыльных платформ за весь рассматриваемый период) остались такие платформы, как: PS4, 3DS, PS3, X360 и Wii. Однако, многие из них, уже прошли период пика своих продаж , поэтому назвать их перспективными нельзя."
      ]
    },
    {
      "cell_type": "markdown",
      "metadata": {
        "id": "R0xIQmoRGIA8"
      },
      "source": [
        "Посмотрим же, какие платформы лидируют по продажам в настоящее время (возьмем 2015 год, так как за 2016 представлены неполные данные):"
      ]
    },
    {
      "cell_type": "code",
      "execution_count": null,
      "metadata": {
        "id": "e0IaJ6GRGIA9",
        "outputId": "c972a31e-f631-4962-fc05-f9ec60112bc7"
      },
      "outputs": [
        {
          "data": {
            "text/plain": [
              "platform\n",
              "PS4     118.90\n",
              "XOne     60.14\n",
              "3DS      27.78\n",
              "PS3      16.82\n",
              "WiiU     16.35\n",
              "X360     11.96\n",
              "PC        8.52\n",
              "PSV       6.25\n",
              "Wii       1.14\n",
              "PSP       0.12\n",
              "Name: total_sales, dtype: float64"
            ]
          },
          "execution_count": 26,
          "metadata": {},
          "output_type": "execute_result"
        }
      ],
      "source": [
        "dt_pl15 = data[data['year_of_release'] == 2015]\n",
        "dt_pl15.groupby('platform')['total_sales'].agg('sum').sort_values(ascending=False)"
      ]
    },
    {
      "cell_type": "code",
      "execution_count": null,
      "metadata": {
        "id": "gwST4CpEGIA9"
      },
      "outputs": [],
      "source": [
        "persp_platform = pd.Series(['PS4', 'XOne', '3DS', 'PS3', 'WiiU', 'X360', 'PC', 'PSV', 'Wii', 'PSP'])"
      ]
    },
    {
      "cell_type": "code",
      "execution_count": null,
      "metadata": {
        "id": "-usMnag7GIA9",
        "outputId": "0bbb64dd-c846-41aa-edf7-dca95e88eb7c"
      },
      "outputs": [
        {
          "data": {
            "text/plain": [
              "<AxesSubplot:xlabel='year_of_release'>"
            ]
          },
          "execution_count": 28,
          "metadata": {},
          "output_type": "execute_result"
        },
        {
          "data": {
            "image/png": "[encoded data removed]",
            "text/plain": [
              "<Figure size 864x432 with 1 Axes>"
            ]
          },
          "metadata": {
            "needs_background": "light"
          },
          "output_type": "display_data"
        }
      ],
      "source": [
        "(data2\n",
        "    .query('platform.isin(@persp_platform)')\n",
        "    .pivot_table(index='year_of_release', columns='platform', values='total_sales', aggfunc='sum')\n",
        "    .sort_values('year_of_release', ascending=False)\n",
        ").plot(figsize=(12, 6), grid=True)"
      ]
    },
    {
      "cell_type": "markdown",
      "metadata": {
        "id": "VYfS07tcGIA9"
      },
      "source": [
        "Игры, которые находятся в топ по продажам в 2015 году, как в последнем периоде с полными данными, PS4, XOne, 3DS, WiiU, были выпущены не позднее 2011 года и имеют перспективу дальнейшего роста. Поэтому возмьмем за актуальный период данные за послдение  5 лет, с 2011 по 2016 года. Также, стоит добавить в этот список PC (ПК), так как, хоть она и не находится в топе по продажам в настоящий момент, эта платформа очень стаблильна в течение всего рассматриваемого периода, а значит может являться безопасным вложением с минимальными рисками."
      ]
    },
    {
      "cell_type": "code",
      "execution_count": null,
      "metadata": {
        "id": "icl96VKyGIA9"
      },
      "outputs": [],
      "source": [
        "best_plat = pd.Series(['PS4', 'XOne', '3DS', 'WiiU', 'PC'])"
      ]
    },
    {
      "cell_type": "code",
      "execution_count": null,
      "metadata": {
        "scrolled": false,
        "id": "_asmzjuqGIA-",
        "outputId": "aaf2cf87-3afa-497a-dc92-ce728e696600"
      },
      "outputs": [
        {
          "data": {
            "text/html": [
              "<div>\n",
              "<style scoped>\n",
              "    .dataframe tbody tr th:only-of-type {\n",
              "        vertical-align: middle;\n",
              "    }\n",
              "\n",
              "    .dataframe tbody tr th {\n",
              "        vertical-align: top;\n",
              "    }\n",
              "\n",
              "    .dataframe thead th {\n",
              "        text-align: right;\n",
              "    }\n",
              "</style>\n",
              "<table border=\"1\" class=\"dataframe\">\n",
              "  <thead>\n",
              "    <tr style=\"text-align: right;\">\n",
              "      <th></th>\n",
              "      <th>name</th>\n",
              "      <th>platform</th>\n",
              "      <th>year_of_release</th>\n",
              "      <th>genre</th>\n",
              "      <th>na_sales</th>\n",
              "      <th>eu_sales</th>\n",
              "      <th>jp_sales</th>\n",
              "      <th>other_sales</th>\n",
              "      <th>critic_score</th>\n",
              "      <th>user_score</th>\n",
              "      <th>rating</th>\n",
              "      <th>total_sales</th>\n",
              "    </tr>\n",
              "  </thead>\n",
              "  <tbody>\n",
              "    <tr>\n",
              "      <th>16</th>\n",
              "      <td>Grand Theft Auto V</td>\n",
              "      <td>PS3</td>\n",
              "      <td>2013</td>\n",
              "      <td>Action</td>\n",
              "      <td>7.02</td>\n",
              "      <td>9.09</td>\n",
              "      <td>0.98</td>\n",
              "      <td>3.96</td>\n",
              "      <td>97.0</td>\n",
              "      <td>8.2</td>\n",
              "      <td>M</td>\n",
              "      <td>21.05</td>\n",
              "    </tr>\n",
              "    <tr>\n",
              "      <th>23</th>\n",
              "      <td>Grand Theft Auto V</td>\n",
              "      <td>X360</td>\n",
              "      <td>2013</td>\n",
              "      <td>Action</td>\n",
              "      <td>9.66</td>\n",
              "      <td>5.14</td>\n",
              "      <td>0.06</td>\n",
              "      <td>1.41</td>\n",
              "      <td>97.0</td>\n",
              "      <td>8.1</td>\n",
              "      <td>M</td>\n",
              "      <td>16.27</td>\n",
              "    </tr>\n",
              "    <tr>\n",
              "      <th>31</th>\n",
              "      <td>Call of Duty: Black Ops 3</td>\n",
              "      <td>PS4</td>\n",
              "      <td>2015</td>\n",
              "      <td>Shooter</td>\n",
              "      <td>6.03</td>\n",
              "      <td>5.86</td>\n",
              "      <td>0.36</td>\n",
              "      <td>2.38</td>\n",
              "      <td>NaN</td>\n",
              "      <td>NaN</td>\n",
              "      <td>no_rating</td>\n",
              "      <td>14.63</td>\n",
              "    </tr>\n",
              "    <tr>\n",
              "      <th>33</th>\n",
              "      <td>Pokemon X/Pokemon Y</td>\n",
              "      <td>3DS</td>\n",
              "      <td>2013</td>\n",
              "      <td>Role-Playing</td>\n",
              "      <td>5.28</td>\n",
              "      <td>4.19</td>\n",
              "      <td>4.35</td>\n",
              "      <td>0.78</td>\n",
              "      <td>NaN</td>\n",
              "      <td>NaN</td>\n",
              "      <td>no_rating</td>\n",
              "      <td>14.60</td>\n",
              "    </tr>\n",
              "    <tr>\n",
              "      <th>42</th>\n",
              "      <td>Grand Theft Auto V</td>\n",
              "      <td>PS4</td>\n",
              "      <td>2014</td>\n",
              "      <td>Action</td>\n",
              "      <td>3.96</td>\n",
              "      <td>6.31</td>\n",
              "      <td>0.38</td>\n",
              "      <td>1.97</td>\n",
              "      <td>97.0</td>\n",
              "      <td>8.3</td>\n",
              "      <td>M</td>\n",
              "      <td>12.62</td>\n",
              "    </tr>\n",
              "  </tbody>\n",
              "</table>\n",
              "</div>"
            ],
            "text/plain": [
              "                         name platform  year_of_release         genre  \\\n",
              "16         Grand Theft Auto V      PS3             2013        Action   \n",
              "23         Grand Theft Auto V     X360             2013        Action   \n",
              "31  Call of Duty: Black Ops 3      PS4             2015       Shooter   \n",
              "33        Pokemon X/Pokemon Y      3DS             2013  Role-Playing   \n",
              "42         Grand Theft Auto V      PS4             2014        Action   \n",
              "\n",
              "    na_sales  eu_sales  jp_sales  other_sales  critic_score  user_score  \\\n",
              "16      7.02      9.09      0.98         3.96          97.0         8.2   \n",
              "23      9.66      5.14      0.06         1.41          97.0         8.1   \n",
              "31      6.03      5.86      0.36         2.38           NaN         NaN   \n",
              "33      5.28      4.19      4.35         0.78           NaN         NaN   \n",
              "42      3.96      6.31      0.38         1.97          97.0         8.3   \n",
              "\n",
              "       rating  total_sales  \n",
              "16          M        21.05  \n",
              "23          M        16.27  \n",
              "31  no_rating        14.63  \n",
              "33  no_rating        14.60  \n",
              "42          M        12.62  "
            ]
          },
          "execution_count": 30,
          "metadata": {},
          "output_type": "execute_result"
        }
      ],
      "source": [
        "data_new = data[data['year_of_release'] >= 2013]\n",
        "data_new.head()"
      ]
    },
    {
      "cell_type": "markdown",
      "metadata": {
        "id": "3tLFAi2jGIA-"
      },
      "source": [
        "Построим график «ящик с усами» по глобальным продажам игр в разбивке по платформам:"
      ]
    },
    {
      "cell_type": "code",
      "execution_count": null,
      "metadata": {
        "id": "QoRErcm3GIA_"
      },
      "outputs": [],
      "source": [
        "#старый вариант\n",
        "#data_new.query('platform.isin(@best_plat)').boxplot(column='total_sales', by='platform', figsize=(10, 10))\n",
        "#plt.ylim(0, 3)"
      ]
    },
    {
      "cell_type": "code",
      "execution_count": null,
      "metadata": {
        "scrolled": false,
        "id": "hn_cLT8XGIA_",
        "outputId": "0e0439c5-3858-4b3b-f8a1-8d4d903312f7"
      },
      "outputs": [
        {
          "data": {
            "text/plain": [
              "<AxesSubplot:title={'center':'total_sales'}, xlabel='platform'>"
            ]
          },
          "execution_count": 32,
          "metadata": {},
          "output_type": "execute_result"
        },
        {
          "data": {
            "image/png": "[encoded data removed]",
            "text/plain": [
              "<Figure size 720x720 with 1 Axes>"
            ]
          },
          "metadata": {
            "needs_background": "light"
          },
          "output_type": "display_data"
        }
      ],
      "source": [
        "data_new.boxplot(column='total_sales', by='platform', figsize=(10, 10))"
      ]
    },
    {
      "cell_type": "code",
      "execution_count": null,
      "metadata": {
        "id": "8_ce27UBGIA_",
        "outputId": "8695e273-e9b3-4c2a-dc2f-959ada7b756b"
      },
      "outputs": [
        {
          "data": {
            "text/plain": [
              "(0.0, 2.0)"
            ]
          },
          "execution_count": 33,
          "metadata": {},
          "output_type": "execute_result"
        },
        {
          "data": {
            "image/png": "[encoded data removed]",
            "text/plain": [
              "<Figure size 720x720 with 1 Axes>"
            ]
          },
          "metadata": {
            "needs_background": "light"
          },
          "output_type": "display_data"
        }
      ],
      "source": [
        "data_new.boxplot(column='total_sales', by='platform', figsize=(10, 10))\n",
        "plt.ylim(0, 2)"
      ]
    },
    {
      "cell_type": "markdown",
      "metadata": {
        "id": "TR07oyCLGIBA"
      },
      "source": [
        "\n",
        "Максимальную медиану продаж можно наблюдать у платформы X360 (0,26 миллионов), а также один из самых продаваемых \"выбросов\" (около 16-17 миллионов копий). В остальном, медианные продажи не превышают 0,2 млн проданных копий, но платформы получают многомиллионные продажи от \"игр-выбросов\" (т.е. игр-бестселлеров). Наименьшие же мединанные продажи наблюдаются у платформ PSP и PSV."
      ]
    },
    {
      "cell_type": "markdown",
      "metadata": {
        "id": "GsxGV0uCGIBA"
      },
      "source": [
        "Влияние на продажи внутри одной платформы отзывов пользователей и критиков:"
      ]
    },
    {
      "cell_type": "code",
      "execution_count": null,
      "metadata": {
        "id": "zVvZbv_8GIBA",
        "outputId": "7aa7d62d-6cfc-44bf-c955-79d02f4b4d02"
      },
      "outputs": [
        {
          "data": {
            "text/plain": [
              "<AxesSubplot:xlabel='critic_score', ylabel='total_sales'>"
            ]
          },
          "execution_count": 34,
          "metadata": {},
          "output_type": "execute_result"
        },
        {
          "data": {
            "image/png": "[encoded data removed]",
            "text/plain": [
              "<Figure size 432x288 with 1 Axes>"
            ]
          },
          "metadata": {
            "needs_background": "light"
          },
          "output_type": "display_data"
        }
      ],
      "source": [
        "#влияние оценок критиков PS4\n",
        "data_ps4 = data_new[data_new['platform'] == 'PS4']\n",
        "data_ps4.plot(x='critic_score', y='total_sales', kind='scatter')"
      ]
    },
    {
      "cell_type": "code",
      "execution_count": null,
      "metadata": {
        "id": "rIZR3C-1GIBB",
        "outputId": "33f8b949-7979-4785-9746-bdbc842f2be9"
      },
      "outputs": [
        {
          "data": {
            "text/plain": [
              "0.40656790206178095"
            ]
          },
          "execution_count": 35,
          "metadata": {},
          "output_type": "execute_result"
        }
      ],
      "source": [
        "data_ps4['critic_score'].corr(data_ps4['total_sales'])"
      ]
    },
    {
      "cell_type": "code",
      "execution_count": null,
      "metadata": {
        "id": "EC0ktdsKGIBB",
        "outputId": "c983ceb9-7df5-451d-ee19-692c65eb069c"
      },
      "outputs": [
        {
          "data": {
            "text/plain": [
              "<AxesSubplot:xlabel='user_score', ylabel='total_sales'>"
            ]
          },
          "execution_count": 36,
          "metadata": {},
          "output_type": "execute_result"
        },
        {
          "data": {
            "image/png": "[encoded data removed]",
            "text/plain": [
              "<Figure size 432x288 with 1 Axes>"
            ]
          },
          "metadata": {
            "needs_background": "light"
          },
          "output_type": "display_data"
        }
      ],
      "source": [
        "#влияние оценок пользователей PS4\n",
        "data_ps4.plot(x='user_score', y='total_sales', kind='scatter')"
      ]
    },
    {
      "cell_type": "code",
      "execution_count": null,
      "metadata": {
        "id": "Mq6EF7Y_GIBB",
        "outputId": "6096b044-a438-4814-e41d-56c2d2d6c655"
      },
      "outputs": [
        {
          "data": {
            "text/plain": [
              "-0.031957110204556376"
            ]
          },
          "execution_count": 37,
          "metadata": {},
          "output_type": "execute_result"
        }
      ],
      "source": [
        "data_ps4['user_score'].corr(data_ps4['total_sales'])"
      ]
    },
    {
      "cell_type": "code",
      "execution_count": null,
      "metadata": {
        "id": "N9eWYrnMGIBC",
        "outputId": "fbc8e00e-1298-4bce-e6b3-09c2185413cf"
      },
      "outputs": [
        {
          "data": {
            "text/plain": [
              "<AxesSubplot:xlabel='critic_score', ylabel='total_sales'>"
            ]
          },
          "execution_count": 38,
          "metadata": {},
          "output_type": "execute_result"
        },
        {
          "data": {
            "image/png": "[encoded data removed]",
            "text/plain": [
              "<Figure size 432x288 with 1 Axes>"
            ]
          },
          "metadata": {
            "needs_background": "light"
          },
          "output_type": "display_data"
        }
      ],
      "source": [
        "#XOne\n",
        "data_xone = data_new[data_new['platform'] == 'XOne']\n",
        "data_xone.plot(x='critic_score', y='total_sales', kind='scatter')"
      ]
    },
    {
      "cell_type": "code",
      "execution_count": null,
      "metadata": {
        "id": "3_qGZSKzGIBC",
        "outputId": "82e2dce5-3f4a-4907-c259-8b55d3e86c94"
      },
      "outputs": [
        {
          "data": {
            "text/plain": [
              "0.4169983280084017"
            ]
          },
          "execution_count": 39,
          "metadata": {},
          "output_type": "execute_result"
        }
      ],
      "source": [
        "data_xone['critic_score'].corr(data_xone['total_sales'])"
      ]
    },
    {
      "cell_type": "code",
      "execution_count": null,
      "metadata": {
        "id": "W_fnZKqbGIBC",
        "outputId": "447d7221-97ce-4765-be88-47af6eaea0e3"
      },
      "outputs": [
        {
          "data": {
            "text/plain": [
              "<AxesSubplot:xlabel='user_score', ylabel='total_sales'>"
            ]
          },
          "execution_count": 40,
          "metadata": {},
          "output_type": "execute_result"
        },
        {
          "data": {
            "image/png": "[encoded data removed]",
            "text/plain": [
              "<Figure size 432x288 with 1 Axes>"
            ]
          },
          "metadata": {
            "needs_background": "light"
          },
          "output_type": "display_data"
        }
      ],
      "source": [
        "data_xone.plot(x='user_score', y='total_sales', kind='scatter')"
      ]
    },
    {
      "cell_type": "code",
      "execution_count": null,
      "metadata": {
        "id": "96PhnxJaGIBC",
        "outputId": "06c116de-eb95-4017-fc28-cc2ea5e60253"
      },
      "outputs": [
        {
          "data": {
            "text/plain": [
              "-0.06892505328279414"
            ]
          },
          "execution_count": 41,
          "metadata": {},
          "output_type": "execute_result"
        }
      ],
      "source": [
        "data_xone['user_score'].corr(data_xone['total_sales'])"
      ]
    },
    {
      "cell_type": "code",
      "execution_count": null,
      "metadata": {
        "id": "RN6SZ4ffGIBD",
        "outputId": "33096a6e-2665-4de8-8f29-e007fd5cf540"
      },
      "outputs": [
        {
          "data": {
            "text/plain": [
              "<AxesSubplot:xlabel='critic_score', ylabel='total_sales'>"
            ]
          },
          "execution_count": 42,
          "metadata": {},
          "output_type": "execute_result"
        },
        {
          "data": {
            "image/png": "[encoded data removed]",
            "text/plain": [
              "<Figure size 432x288 with 1 Axes>"
            ]
          },
          "metadata": {
            "needs_background": "light"
          },
          "output_type": "display_data"
        }
      ],
      "source": [
        "#3DS\n",
        "data_3ds = data_new[data_new['platform'] == '3DS']\n",
        "data_3ds.plot(x='critic_score', y='total_sales', kind='scatter')"
      ]
    },
    {
      "cell_type": "code",
      "execution_count": null,
      "metadata": {
        "id": "Vfuo1C-KGIBD",
        "outputId": "5aa594da-edeb-494b-9075-fbf281d2d539"
      },
      "outputs": [
        {
          "data": {
            "text/plain": [
              "0.3570566142288103"
            ]
          },
          "execution_count": 43,
          "metadata": {},
          "output_type": "execute_result"
        }
      ],
      "source": [
        "data_3ds['critic_score'].corr(data_3ds['total_sales'])"
      ]
    },
    {
      "cell_type": "code",
      "execution_count": null,
      "metadata": {
        "id": "yyH8Pji2GIBD",
        "outputId": "58e2b63b-3bac-4637-ee52-705985eaa357"
      },
      "outputs": [
        {
          "data": {
            "text/plain": [
              "<AxesSubplot:xlabel='user_score', ylabel='total_sales'>"
            ]
          },
          "execution_count": 44,
          "metadata": {},
          "output_type": "execute_result"
        },
        {
          "data": {
            "image/png": "[encoded data removed]",
            "text/plain": [
              "<Figure size 432x288 with 1 Axes>"
            ]
          },
          "metadata": {
            "needs_background": "light"
          },
          "output_type": "display_data"
        }
      ],
      "source": [
        "data_3ds.plot(x='user_score', y='total_sales', kind='scatter')"
      ]
    },
    {
      "cell_type": "code",
      "execution_count": null,
      "metadata": {
        "id": "ZzgsVeJAGIBD",
        "outputId": "6f38cc56-6469-4c9b-ebf6-e3fb507344fd"
      },
      "outputs": [
        {
          "data": {
            "text/plain": [
              "0.24150411773563016"
            ]
          },
          "execution_count": 45,
          "metadata": {},
          "output_type": "execute_result"
        }
      ],
      "source": [
        "data_3ds['user_score'].corr(data_3ds['total_sales'])"
      ]
    },
    {
      "cell_type": "code",
      "execution_count": null,
      "metadata": {
        "id": "bi6Ip3LJGIBD",
        "outputId": "1eb17de6-0895-429e-9c1d-b709bbdc7740"
      },
      "outputs": [
        {
          "data": {
            "text/plain": [
              "<AxesSubplot:xlabel='critic_score', ylabel='total_sales'>"
            ]
          },
          "execution_count": 46,
          "metadata": {},
          "output_type": "execute_result"
        },
        {
          "data": {
            "image/png": "[encoded data removed]",
            "text/plain": [
              "<Figure size 432x288 with 1 Axes>"
            ]
          },
          "metadata": {
            "needs_background": "light"
          },
          "output_type": "display_data"
        }
      ],
      "source": [
        "#WiiU\n",
        "data_wiiu = data_new[data_new['platform'] == 'WiiU']\n",
        "data_wiiu.plot(x='critic_score', y='total_sales', kind='scatter')"
      ]
    },
    {
      "cell_type": "code",
      "execution_count": null,
      "metadata": {
        "id": "RLLfMHDIGIBE",
        "outputId": "e5be07b1-0a6c-4015-a3ee-f1c11cf5ff74"
      },
      "outputs": [
        {
          "data": {
            "text/plain": [
              "0.3764149065423912"
            ]
          },
          "execution_count": 47,
          "metadata": {},
          "output_type": "execute_result"
        }
      ],
      "source": [
        "data_wiiu['critic_score'].corr(data_wiiu['total_sales'])"
      ]
    },
    {
      "cell_type": "code",
      "execution_count": null,
      "metadata": {
        "id": "TWrwcXStGIBE",
        "outputId": "763468fa-d5b0-437f-b6aa-addaf63aba3d"
      },
      "outputs": [
        {
          "data": {
            "text/plain": [
              "<AxesSubplot:xlabel='user_score', ylabel='total_sales'>"
            ]
          },
          "execution_count": 48,
          "metadata": {},
          "output_type": "execute_result"
        },
        {
          "data": {
            "image/png": "[encoded data removed]",
            "text/plain": [
              "<Figure size 432x288 with 1 Axes>"
            ]
          },
          "metadata": {
            "needs_background": "light"
          },
          "output_type": "display_data"
        }
      ],
      "source": [
        "data_wiiu.plot(x='user_score', y='total_sales', kind='scatter')"
      ]
    },
    {
      "cell_type": "code",
      "execution_count": null,
      "metadata": {
        "id": "IlOc95iWGIBE",
        "outputId": "b01efc33-7042-434f-ec3a-357cb06688f8"
      },
      "outputs": [
        {
          "data": {
            "text/plain": [
              "0.4193304819266187"
            ]
          },
          "execution_count": 49,
          "metadata": {},
          "output_type": "execute_result"
        }
      ],
      "source": [
        "data_wiiu['user_score'].corr(data_wiiu['total_sales'])"
      ]
    },
    {
      "cell_type": "code",
      "execution_count": null,
      "metadata": {
        "id": "qYzddd1tGIBE",
        "outputId": "97b4925e-ff36-49ff-8cff-b0d7b1a26dd7"
      },
      "outputs": [
        {
          "data": {
            "text/plain": [
              "<AxesSubplot:xlabel='critic_score', ylabel='total_sales'>"
            ]
          },
          "execution_count": 50,
          "metadata": {},
          "output_type": "execute_result"
        },
        {
          "data": {
            "image/png": "[encoded data removed]",
            "text/plain": [
              "<Figure size 432x288 with 1 Axes>"
            ]
          },
          "metadata": {
            "needs_background": "light"
          },
          "output_type": "display_data"
        }
      ],
      "source": [
        "#PC\n",
        "data_pc = data_new[data_new['platform'] == 'PC']\n",
        "data_pc.plot(x='critic_score', y='total_sales', kind='scatter')"
      ]
    },
    {
      "cell_type": "code",
      "execution_count": null,
      "metadata": {
        "id": "50lw_qJmGIBF",
        "outputId": "a91e6505-37ef-4dbb-be2f-7b9809b35189"
      },
      "outputs": [
        {
          "data": {
            "text/plain": [
              "0.19603028294369382"
            ]
          },
          "execution_count": 51,
          "metadata": {},
          "output_type": "execute_result"
        }
      ],
      "source": [
        "data_pc['critic_score'].corr(data_pc['total_sales'])"
      ]
    },
    {
      "cell_type": "code",
      "execution_count": null,
      "metadata": {
        "id": "YjZS60wmGIBF",
        "outputId": "03b36e67-6cbf-403b-f4ea-b37f39d70a63"
      },
      "outputs": [
        {
          "data": {
            "text/plain": [
              "<AxesSubplot:xlabel='user_score', ylabel='total_sales'>"
            ]
          },
          "execution_count": 52,
          "metadata": {},
          "output_type": "execute_result"
        },
        {
          "data": {
            "image/png": "[encoded data removed]",
            "text/plain": [
              "<Figure size 432x288 with 1 Axes>"
            ]
          },
          "metadata": {
            "needs_background": "light"
          },
          "output_type": "display_data"
        }
      ],
      "source": [
        "data_pc.plot(x='user_score', y='total_sales', kind='scatter')"
      ]
    },
    {
      "cell_type": "code",
      "execution_count": null,
      "metadata": {
        "id": "U7PZlsQuGIBF",
        "outputId": "4ad3c915-1460-43fd-bdd0-b0da6ef6e5fe"
      },
      "outputs": [
        {
          "data": {
            "text/plain": [
              "-0.0938418695247674"
            ]
          },
          "execution_count": 53,
          "metadata": {},
          "output_type": "execute_result"
        }
      ],
      "source": [
        "data_pc['user_score'].corr(data_pc['total_sales'])"
      ]
    },
    {
      "cell_type": "markdown",
      "metadata": {
        "id": "vf7tUGWxGIBF"
      },
      "source": [
        "В общем, изучив полученные диаграммы и коэффициенты, можно сказать, что оценки пользователей практически не влияют на продажи игр на той или иной платформе. Исключение составляют разве что платформы WiiU и 3DS (коэффициенты 0,4 и 0,2 соответственно), однако связь все равно умеренная и даже довольно слабая. У многих платформ наблюдается даже обратная связь (чем ниже оценка пользователей, тем больше продажи), хотя коэффициент и слишком мал, чтобы говорить о какой либо зависимости.\n",
        "Оценки критиков имеет немного большее влияние на продажи, в среднем коэффициент корреляции равен 0,37 (умеренная связь)"
      ]
    },
    {
      "cell_type": "markdown",
      "metadata": {
        "id": "mv1HE3ilGIBG"
      },
      "source": [
        "Посмотрим на общее распределение игр по жанрам:"
      ]
    },
    {
      "cell_type": "code",
      "execution_count": null,
      "metadata": {
        "id": "VtZ-ZKoTGIBG",
        "outputId": "9e9f8878-400d-496d-fca0-7dc45cba0ce4"
      },
      "outputs": [
        {
          "data": {
            "text/html": [
              "<div>\n",
              "<style scoped>\n",
              "    .dataframe tbody tr th:only-of-type {\n",
              "        vertical-align: middle;\n",
              "    }\n",
              "\n",
              "    .dataframe tbody tr th {\n",
              "        vertical-align: top;\n",
              "    }\n",
              "\n",
              "    .dataframe thead th {\n",
              "        text-align: right;\n",
              "    }\n",
              "</style>\n",
              "<table border=\"1\" class=\"dataframe\">\n",
              "  <thead>\n",
              "    <tr style=\"text-align: right;\">\n",
              "      <th></th>\n",
              "      <th>count</th>\n",
              "      <th>sum</th>\n",
              "    </tr>\n",
              "    <tr>\n",
              "      <th>genre</th>\n",
              "      <th></th>\n",
              "      <th></th>\n",
              "    </tr>\n",
              "  </thead>\n",
              "  <tbody>\n",
              "    <tr>\n",
              "      <th>Action</th>\n",
              "      <td>766</td>\n",
              "      <td>321.87</td>\n",
              "    </tr>\n",
              "    <tr>\n",
              "      <th>Shooter</th>\n",
              "      <td>187</td>\n",
              "      <td>232.98</td>\n",
              "    </tr>\n",
              "    <tr>\n",
              "      <th>Sports</th>\n",
              "      <td>214</td>\n",
              "      <td>150.65</td>\n",
              "    </tr>\n",
              "    <tr>\n",
              "      <th>Role-Playing</th>\n",
              "      <td>292</td>\n",
              "      <td>145.89</td>\n",
              "    </tr>\n",
              "    <tr>\n",
              "      <th>Misc</th>\n",
              "      <td>155</td>\n",
              "      <td>62.82</td>\n",
              "    </tr>\n",
              "    <tr>\n",
              "      <th>Platform</th>\n",
              "      <td>74</td>\n",
              "      <td>42.63</td>\n",
              "    </tr>\n",
              "    <tr>\n",
              "      <th>Racing</th>\n",
              "      <td>85</td>\n",
              "      <td>39.89</td>\n",
              "    </tr>\n",
              "    <tr>\n",
              "      <th>Fighting</th>\n",
              "      <td>80</td>\n",
              "      <td>35.31</td>\n",
              "    </tr>\n",
              "    <tr>\n",
              "      <th>Adventure</th>\n",
              "      <td>245</td>\n",
              "      <td>23.64</td>\n",
              "    </tr>\n",
              "    <tr>\n",
              "      <th>Simulation</th>\n",
              "      <td>62</td>\n",
              "      <td>21.76</td>\n",
              "    </tr>\n",
              "    <tr>\n",
              "      <th>Strategy</th>\n",
              "      <td>56</td>\n",
              "      <td>10.08</td>\n",
              "    </tr>\n",
              "    <tr>\n",
              "      <th>Puzzle</th>\n",
              "      <td>17</td>\n",
              "      <td>3.17</td>\n",
              "    </tr>\n",
              "  </tbody>\n",
              "</table>\n",
              "</div>"
            ],
            "text/plain": [
              "              count     sum\n",
              "genre                      \n",
              "Action          766  321.87\n",
              "Shooter         187  232.98\n",
              "Sports          214  150.65\n",
              "Role-Playing    292  145.89\n",
              "Misc            155   62.82\n",
              "Platform         74   42.63\n",
              "Racing           85   39.89\n",
              "Fighting         80   35.31\n",
              "Adventure       245   23.64\n",
              "Simulation       62   21.76\n",
              "Strategy         56   10.08\n",
              "Puzzle           17    3.17"
            ]
          },
          "execution_count": 54,
          "metadata": {},
          "output_type": "execute_result"
        }
      ],
      "source": [
        "genre_gr = data_new.groupby('genre')['total_sales'].agg(['count', 'sum']).sort_values(by='sum', ascending=False)\n",
        "genre_gr"
      ]
    },
    {
      "cell_type": "code",
      "execution_count": null,
      "metadata": {
        "id": "iVU6C83TGIBG",
        "outputId": "f0e46e90-4c17-4877-ee80-306e70505be1"
      },
      "outputs": [
        {
          "data": {
            "text/plain": [
              "<AxesSubplot:xlabel='genre'>"
            ]
          },
          "execution_count": 55,
          "metadata": {},
          "output_type": "execute_result"
        },
        {
          "data": {
            "image/png": "[encoded data removed]",
            "text/plain": [
              "<Figure size 720x432 with 1 Axes>"
            ]
          },
          "metadata": {
            "needs_background": "light"
          },
          "output_type": "display_data"
        }
      ],
      "source": [
        "genre_gr.plot(kind='bar', grid=True, figsize=(10, 6))"
      ]
    },
    {
      "cell_type": "markdown",
      "metadata": {
        "id": "YQj_JxhGGIBG"
      },
      "source": [
        "Самыми прибыльными в период с 2011 по 2016 годы являются такие жанры, как Action, Shooter, Role-Playing и Sports. Наибольшее же количество игр продается в жанрах Action, Role-Playing и Adventure. Хуже всех продаются игры, относящиеся к жанрам Puzzle и Strategy."
      ]
    },
    {
      "cell_type": "code",
      "execution_count": null,
      "metadata": {
        "id": "BM7vGfuPGIBH",
        "outputId": "2e8ecc0e-ff47-4168-d04a-a28c23ee844b"
      },
      "outputs": [
        {
          "data": {
            "text/plain": [
              "genre\n",
              "Shooter         0.450\n",
              "Sports          0.240\n",
              "Platform        0.225\n",
              "Role-Playing    0.125\n",
              "Fighting        0.125\n",
              "Racing          0.120\n",
              "Action          0.110\n",
              "Simulation      0.100\n",
              "Misc            0.100\n",
              "Strategy        0.080\n",
              "Puzzle          0.060\n",
              "Adventure       0.030\n",
              "Name: total_sales, dtype: float64"
            ]
          },
          "execution_count": 56,
          "metadata": {},
          "output_type": "execute_result"
        }
      ],
      "source": [
        "genre_gr = data_new.groupby('genre')['total_sales'].agg('median').sort_values(ascending=False)\n",
        "genre_gr"
      ]
    },
    {
      "cell_type": "code",
      "execution_count": null,
      "metadata": {
        "id": "WnA-U7_hGIBI",
        "outputId": "98363963-602a-4956-e02f-2c0b95a4a1a1"
      },
      "outputs": [
        {
          "data": {
            "text/plain": [
              "<AxesSubplot:xlabel='genre'>"
            ]
          },
          "execution_count": 57,
          "metadata": {},
          "output_type": "execute_result"
        },
        {
          "data": {
            "image/png": "[encoded data removed]",
            "text/plain": [
              "<Figure size 720x432 with 1 Axes>"
            ]
          },
          "metadata": {
            "needs_background": "light"
          },
          "output_type": "display_data"
        }
      ],
      "source": [
        "genre_gr.plot(kind='bar', grid=True, figsize=(10, 6))"
      ]
    },
    {
      "cell_type": "code",
      "execution_count": null,
      "metadata": {
        "id": "Wt5TqaDeGIBI",
        "outputId": "0f6356de-8b75-486b-b275-98d8ce736312"
      },
      "outputs": [
        {
          "data": {
            "text/plain": [
              "<AxesSubplot:title={'center':'total_sales'}, xlabel='genre'>"
            ]
          },
          "execution_count": 58,
          "metadata": {},
          "output_type": "execute_result"
        },
        {
          "data": {
            "image/png": "[encoded data removed]",
            "text/plain": [
              "<Figure size 864x504 with 1 Axes>"
            ]
          },
          "metadata": {
            "needs_background": "light"
          },
          "output_type": "display_data"
        }
      ],
      "source": [
        "data_new.boxplot(column='total_sales', by='genre', figsize=(12, 7))"
      ]
    },
    {
      "cell_type": "code",
      "execution_count": null,
      "metadata": {
        "id": "SZ32aWWUGIBI",
        "outputId": "8f5d7668-4cdd-4874-9583-3120213fc5bd"
      },
      "outputs": [
        {
          "data": {
            "text/plain": [
              "(0.0, 3.5)"
            ]
          },
          "execution_count": 59,
          "metadata": {},
          "output_type": "execute_result"
        },
        {
          "data": {
            "image/png": "[encoded data removed]",
            "text/plain": [
              "<Figure size 864x504 with 1 Axes>"
            ]
          },
          "metadata": {
            "needs_background": "light"
          },
          "output_type": "display_data"
        }
      ],
      "source": [
        "data_new.boxplot(column='total_sales', by='genre', figsize=(12, 7))\n",
        "plt.ylim(0, 3.5)"
      ]
    },
    {
      "cell_type": "markdown",
      "metadata": {
        "id": "QDmld9yaGIBJ"
      },
      "source": [
        "Наибольшие медианные продажи наблюдаются у таких жанров, как Shooter, Sports и Platform, а значит именно они имеют стабильно высокий спрос. У жанра Shooter, например, 75% всех продаж превышают медианные продажи большинства других жанров. Хуже остальных продаются игры, созданные в жанрах Adventure, Puzzle и Strategy."
      ]
    },
    {
      "cell_type": "markdown",
      "metadata": {
        "id": "oy99i5ScGIBJ"
      },
      "source": [
        "## Портрет пользователя каждого региона"
      ]
    },
    {
      "cell_type": "markdown",
      "metadata": {
        "id": "uyMQzHRqGIBJ"
      },
      "source": [
        "Найдем топ-5 самых популярных платформ для каждого региона:"
      ]
    },
    {
      "cell_type": "code",
      "execution_count": null,
      "metadata": {
        "id": "2UmnT0hyGIBJ",
        "outputId": "2ad9d954-1765-4061-cc11-75abcb6d8e48"
      },
      "outputs": [
        {
          "data": {
            "text/html": [
              "<div>\n",
              "<style scoped>\n",
              "    .dataframe tbody tr th:only-of-type {\n",
              "        vertical-align: middle;\n",
              "    }\n",
              "\n",
              "    .dataframe tbody tr th {\n",
              "        vertical-align: top;\n",
              "    }\n",
              "\n",
              "    .dataframe thead th {\n",
              "        text-align: right;\n",
              "    }\n",
              "</style>\n",
              "<table border=\"1\" class=\"dataframe\">\n",
              "  <thead>\n",
              "    <tr style=\"text-align: right;\">\n",
              "      <th></th>\n",
              "      <th>eu_sales</th>\n",
              "      <th>jp_sales</th>\n",
              "      <th>na_sales</th>\n",
              "    </tr>\n",
              "    <tr>\n",
              "      <th>platform</th>\n",
              "      <th></th>\n",
              "      <th></th>\n",
              "      <th></th>\n",
              "    </tr>\n",
              "  </thead>\n",
              "  <tbody>\n",
              "    <tr>\n",
              "      <th>3DS</th>\n",
              "      <td>30.96</td>\n",
              "      <td>67.81</td>\n",
              "      <td>38.20</td>\n",
              "    </tr>\n",
              "    <tr>\n",
              "      <th>DS</th>\n",
              "      <td>0.85</td>\n",
              "      <td>0.00</td>\n",
              "      <td>0.57</td>\n",
              "    </tr>\n",
              "    <tr>\n",
              "      <th>PC</th>\n",
              "      <td>25.36</td>\n",
              "      <td>0.00</td>\n",
              "      <td>11.11</td>\n",
              "    </tr>\n",
              "    <tr>\n",
              "      <th>PS3</th>\n",
              "      <td>67.81</td>\n",
              "      <td>23.35</td>\n",
              "      <td>63.50</td>\n",
              "    </tr>\n",
              "    <tr>\n",
              "      <th>PS4</th>\n",
              "      <td>141.09</td>\n",
              "      <td>15.96</td>\n",
              "      <td>108.74</td>\n",
              "    </tr>\n",
              "    <tr>\n",
              "      <th>PSP</th>\n",
              "      <td>0.17</td>\n",
              "      <td>3.29</td>\n",
              "      <td>0.00</td>\n",
              "    </tr>\n",
              "    <tr>\n",
              "      <th>PSV</th>\n",
              "      <td>6.10</td>\n",
              "      <td>18.59</td>\n",
              "      <td>5.04</td>\n",
              "    </tr>\n",
              "    <tr>\n",
              "      <th>Wii</th>\n",
              "      <td>5.93</td>\n",
              "      <td>0.05</td>\n",
              "      <td>6.56</td>\n",
              "    </tr>\n",
              "    <tr>\n",
              "      <th>WiiU</th>\n",
              "      <td>19.85</td>\n",
              "      <td>10.88</td>\n",
              "      <td>29.21</td>\n",
              "    </tr>\n",
              "    <tr>\n",
              "      <th>X360</th>\n",
              "      <td>42.52</td>\n",
              "      <td>0.51</td>\n",
              "      <td>81.66</td>\n",
              "    </tr>\n",
              "    <tr>\n",
              "      <th>XOne</th>\n",
              "      <td>51.59</td>\n",
              "      <td>0.34</td>\n",
              "      <td>93.12</td>\n",
              "    </tr>\n",
              "  </tbody>\n",
              "</table>\n",
              "</div>"
            ],
            "text/plain": [
              "          eu_sales  jp_sales  na_sales\n",
              "platform                              \n",
              "3DS          30.96     67.81     38.20\n",
              "DS            0.85      0.00      0.57\n",
              "PC           25.36      0.00     11.11\n",
              "PS3          67.81     23.35     63.50\n",
              "PS4         141.09     15.96    108.74\n",
              "PSP           0.17      3.29      0.00\n",
              "PSV           6.10     18.59      5.04\n",
              "Wii           5.93      0.05      6.56\n",
              "WiiU         19.85     10.88     29.21\n",
              "X360         42.52      0.51     81.66\n",
              "XOne         51.59      0.34     93.12"
            ]
          },
          "execution_count": 60,
          "metadata": {},
          "output_type": "execute_result"
        },
        {
          "data": {
            "image/png": "[encoded data removed]",
            "text/plain": [
              "<Figure size 864x432 with 1 Axes>"
            ]
          },
          "metadata": {
            "needs_background": "light"
          },
          "output_type": "display_data"
        }
      ],
      "source": [
        "#platform\n",
        "region_pl = data_new.pivot_table(index='platform', values=['na_sales', 'eu_sales', 'jp_sales'], aggfunc='sum')\n",
        "region_pl.plot(kind='bar', figsize=(12, 6))\n",
        "region_pl"
      ]
    },
    {
      "cell_type": "code",
      "execution_count": null,
      "metadata": {
        "id": "xqxUwUxqGIBK"
      },
      "outputs": [],
      "source": [
        "region_pl['eu_sales_share'] = region_pl['eu_sales'] / region_pl['eu_sales'].sum() * 100"
      ]
    },
    {
      "cell_type": "code",
      "execution_count": null,
      "metadata": {
        "id": "Rw2ObtMEGIBK"
      },
      "outputs": [],
      "source": [
        "region_pl['jp_sales_share'] = region_pl['jp_sales'] / region_pl['jp_sales'].sum() * 100"
      ]
    },
    {
      "cell_type": "code",
      "execution_count": null,
      "metadata": {
        "id": "rIKeA-FZGIBK"
      },
      "outputs": [],
      "source": [
        "region_pl['na_sales_share'] = region_pl['na_sales'] / region_pl['na_sales'].sum() * 100"
      ]
    },
    {
      "cell_type": "code",
      "execution_count": null,
      "metadata": {
        "id": "inMiDa6GGIBK",
        "outputId": "44898ef9-5820-4838-aea8-2b9cafbe9a48"
      },
      "outputs": [
        {
          "data": {
            "text/html": [
              "<div>\n",
              "<style scoped>\n",
              "    .dataframe tbody tr th:only-of-type {\n",
              "        vertical-align: middle;\n",
              "    }\n",
              "\n",
              "    .dataframe tbody tr th {\n",
              "        vertical-align: top;\n",
              "    }\n",
              "\n",
              "    .dataframe thead th {\n",
              "        text-align: right;\n",
              "    }\n",
              "</style>\n",
              "<table border=\"1\" class=\"dataframe\">\n",
              "  <thead>\n",
              "    <tr style=\"text-align: right;\">\n",
              "      <th></th>\n",
              "      <th>eu_sales_share</th>\n",
              "      <th>jp_sales_share</th>\n",
              "      <th>na_sales_share</th>\n",
              "    </tr>\n",
              "    <tr>\n",
              "      <th>platform</th>\n",
              "      <th></th>\n",
              "      <th></th>\n",
              "      <th></th>\n",
              "    </tr>\n",
              "  </thead>\n",
              "  <tbody>\n",
              "    <tr>\n",
              "      <th>3DS</th>\n",
              "      <td>7.893328</td>\n",
              "      <td>48.167353</td>\n",
              "      <td>8.727239</td>\n",
              "    </tr>\n",
              "    <tr>\n",
              "      <th>DS</th>\n",
              "      <td>0.216710</td>\n",
              "      <td>0.000000</td>\n",
              "      <td>0.130223</td>\n",
              "    </tr>\n",
              "    <tr>\n",
              "      <th>PC</th>\n",
              "      <td>6.465594</td>\n",
              "      <td>0.000000</td>\n",
              "      <td>2.538210</td>\n",
              "    </tr>\n",
              "    <tr>\n",
              "      <th>PS3</th>\n",
              "      <td>17.288326</td>\n",
              "      <td>16.586163</td>\n",
              "      <td>14.507322</td>\n",
              "    </tr>\n",
              "    <tr>\n",
              "      <th>PS4</th>\n",
              "      <td>35.971241</td>\n",
              "      <td>11.336838</td>\n",
              "      <td>24.842933</td>\n",
              "    </tr>\n",
              "    <tr>\n",
              "      <th>PSP</th>\n",
              "      <td>0.043342</td>\n",
              "      <td>2.336980</td>\n",
              "      <td>0.000000</td>\n",
              "    </tr>\n",
              "    <tr>\n",
              "      <th>PSV</th>\n",
              "      <td>1.555210</td>\n",
              "      <td>13.205001</td>\n",
              "      <td>1.151447</td>\n",
              "    </tr>\n",
              "    <tr>\n",
              "      <th>Wii</th>\n",
              "      <td>1.511868</td>\n",
              "      <td>0.035516</td>\n",
              "      <td>1.498709</td>\n",
              "    </tr>\n",
              "    <tr>\n",
              "      <th>WiiU</th>\n",
              "      <td>5.060806</td>\n",
              "      <td>7.728371</td>\n",
              "      <td>6.673368</td>\n",
              "    </tr>\n",
              "    <tr>\n",
              "      <th>X360</th>\n",
              "      <td>10.840578</td>\n",
              "      <td>0.362267</td>\n",
              "      <td>18.656188</td>\n",
              "    </tr>\n",
              "    <tr>\n",
              "      <th>XOne</th>\n",
              "      <td>13.152997</td>\n",
              "      <td>0.241512</td>\n",
              "      <td>21.274360</td>\n",
              "    </tr>\n",
              "  </tbody>\n",
              "</table>\n",
              "</div>"
            ],
            "text/plain": [
              "          eu_sales_share  jp_sales_share  na_sales_share\n",
              "platform                                                \n",
              "3DS             7.893328       48.167353        8.727239\n",
              "DS              0.216710        0.000000        0.130223\n",
              "PC              6.465594        0.000000        2.538210\n",
              "PS3            17.288326       16.586163       14.507322\n",
              "PS4            35.971241       11.336838       24.842933\n",
              "PSP             0.043342        2.336980        0.000000\n",
              "PSV             1.555210       13.205001        1.151447\n",
              "Wii             1.511868        0.035516        1.498709\n",
              "WiiU            5.060806        7.728371        6.673368\n",
              "X360           10.840578        0.362267       18.656188\n",
              "XOne           13.152997        0.241512       21.274360"
            ]
          },
          "execution_count": 64,
          "metadata": {},
          "output_type": "execute_result"
        }
      ],
      "source": [
        "region_pl.drop(columns=['eu_sales', 'jp_sales', 'na_sales'])"
      ]
    },
    {
      "cell_type": "markdown",
      "metadata": {
        "id": "pbPsZWE3GIBK"
      },
      "source": [
        "Самой популярной платформой за последние 5 лет в Европе стала PS3 (24% продавемых игр, выходили на этой платформе), в Японии - 3DS (41%), а в Северной Америке - X360 (27%). В меньшей степени пользуются спросом игры, выпускаемые на PS2 в Европе (0,02%) и Северной Америке (0,02%), а в Японии совершенно не продаются игры на PC."
      ]
    },
    {
      "cell_type": "markdown",
      "metadata": {
        "id": "EJEmnhSeGIBL"
      },
      "source": [
        "Найдем топ-5 самых популярных жанров для каждого региона:"
      ]
    },
    {
      "cell_type": "code",
      "execution_count": null,
      "metadata": {
        "id": "EZBrNOpGGIBL",
        "outputId": "466e5e4a-853a-4beb-99d3-adb3048c327b"
      },
      "outputs": [
        {
          "data": {
            "text/html": [
              "<div>\n",
              "<style scoped>\n",
              "    .dataframe tbody tr th:only-of-type {\n",
              "        vertical-align: middle;\n",
              "    }\n",
              "\n",
              "    .dataframe tbody tr th {\n",
              "        vertical-align: top;\n",
              "    }\n",
              "\n",
              "    .dataframe thead th {\n",
              "        text-align: right;\n",
              "    }\n",
              "</style>\n",
              "<table border=\"1\" class=\"dataframe\">\n",
              "  <thead>\n",
              "    <tr style=\"text-align: right;\">\n",
              "      <th></th>\n",
              "      <th>eu_sales</th>\n",
              "      <th>jp_sales</th>\n",
              "      <th>na_sales</th>\n",
              "    </tr>\n",
              "    <tr>\n",
              "      <th>genre</th>\n",
              "      <th></th>\n",
              "      <th></th>\n",
              "      <th></th>\n",
              "    </tr>\n",
              "  </thead>\n",
              "  <tbody>\n",
              "    <tr>\n",
              "      <th>Action</th>\n",
              "      <td>118.13</td>\n",
              "      <td>40.49</td>\n",
              "      <td>126.05</td>\n",
              "    </tr>\n",
              "    <tr>\n",
              "      <th>Adventure</th>\n",
              "      <td>8.25</td>\n",
              "      <td>5.82</td>\n",
              "      <td>7.14</td>\n",
              "    </tr>\n",
              "    <tr>\n",
              "      <th>Fighting</th>\n",
              "      <td>8.55</td>\n",
              "      <td>7.65</td>\n",
              "      <td>15.55</td>\n",
              "    </tr>\n",
              "    <tr>\n",
              "      <th>Misc</th>\n",
              "      <td>20.04</td>\n",
              "      <td>9.20</td>\n",
              "      <td>27.49</td>\n",
              "    </tr>\n",
              "    <tr>\n",
              "      <th>Platform</th>\n",
              "      <td>15.58</td>\n",
              "      <td>4.79</td>\n",
              "      <td>18.14</td>\n",
              "    </tr>\n",
              "    <tr>\n",
              "      <th>Puzzle</th>\n",
              "      <td>1.00</td>\n",
              "      <td>1.18</td>\n",
              "      <td>0.83</td>\n",
              "    </tr>\n",
              "    <tr>\n",
              "      <th>Racing</th>\n",
              "      <td>20.19</td>\n",
              "      <td>2.30</td>\n",
              "      <td>12.96</td>\n",
              "    </tr>\n",
              "    <tr>\n",
              "      <th>Role-Playing</th>\n",
              "      <td>36.97</td>\n",
              "      <td>51.04</td>\n",
              "      <td>46.40</td>\n",
              "    </tr>\n",
              "    <tr>\n",
              "      <th>Shooter</th>\n",
              "      <td>87.86</td>\n",
              "      <td>6.61</td>\n",
              "      <td>109.74</td>\n",
              "    </tr>\n",
              "    <tr>\n",
              "      <th>Simulation</th>\n",
              "      <td>10.92</td>\n",
              "      <td>4.52</td>\n",
              "      <td>4.86</td>\n",
              "    </tr>\n",
              "    <tr>\n",
              "      <th>Sports</th>\n",
              "      <td>60.52</td>\n",
              "      <td>5.41</td>\n",
              "      <td>65.27</td>\n",
              "    </tr>\n",
              "    <tr>\n",
              "      <th>Strategy</th>\n",
              "      <td>4.22</td>\n",
              "      <td>1.77</td>\n",
              "      <td>3.28</td>\n",
              "    </tr>\n",
              "  </tbody>\n",
              "</table>\n",
              "</div>"
            ],
            "text/plain": [
              "              eu_sales  jp_sales  na_sales\n",
              "genre                                     \n",
              "Action          118.13     40.49    126.05\n",
              "Adventure         8.25      5.82      7.14\n",
              "Fighting          8.55      7.65     15.55\n",
              "Misc             20.04      9.20     27.49\n",
              "Platform         15.58      4.79     18.14\n",
              "Puzzle            1.00      1.18      0.83\n",
              "Racing           20.19      2.30     12.96\n",
              "Role-Playing     36.97     51.04     46.40\n",
              "Shooter          87.86      6.61    109.74\n",
              "Simulation       10.92      4.52      4.86\n",
              "Sports           60.52      5.41     65.27\n",
              "Strategy          4.22      1.77      3.28"
            ]
          },
          "execution_count": 65,
          "metadata": {},
          "output_type": "execute_result"
        },
        {
          "data": {
            "image/png": "[encoded data removed]",
            "text/plain": [
              "<Figure size 864x360 with 1 Axes>"
            ]
          },
          "metadata": {
            "needs_background": "light"
          },
          "output_type": "display_data"
        }
      ],
      "source": [
        "#genre\n",
        "region_genre = data_new.pivot_table(index='genre', values=['na_sales', 'eu_sales', 'jp_sales'], aggfunc='sum')\n",
        "region_genre.plot(kind='bar', figsize=(12, 5))\n",
        "region_genre"
      ]
    },
    {
      "cell_type": "code",
      "execution_count": null,
      "metadata": {
        "id": "xiTVHetGGIBL"
      },
      "outputs": [],
      "source": [
        "region_genre['eu_sales_share'] = region_genre['eu_sales'] / region_genre['eu_sales'].sum() * 100\n",
        "region_genre['jp_sales_share'] = region_genre['jp_sales'] / region_genre['jp_sales'].sum() * 100\n",
        "region_genre['na_sales_share'] = region_genre['na_sales'] / region_genre['na_sales'].sum() * 100"
      ]
    },
    {
      "cell_type": "code",
      "execution_count": null,
      "metadata": {
        "id": "W0UFD4CJGIBM",
        "outputId": "158b4b2e-c47a-4310-aea3-a9142cdef2d1"
      },
      "outputs": [
        {
          "data": {
            "text/html": [
              "<div>\n",
              "<style scoped>\n",
              "    .dataframe tbody tr th:only-of-type {\n",
              "        vertical-align: middle;\n",
              "    }\n",
              "\n",
              "    .dataframe tbody tr th {\n",
              "        vertical-align: top;\n",
              "    }\n",
              "\n",
              "    .dataframe thead th {\n",
              "        text-align: right;\n",
              "    }\n",
              "</style>\n",
              "<table border=\"1\" class=\"dataframe\">\n",
              "  <thead>\n",
              "    <tr style=\"text-align: right;\">\n",
              "      <th></th>\n",
              "      <th>eu_sales_share</th>\n",
              "      <th>jp_sales_share</th>\n",
              "      <th>na_sales_share</th>\n",
              "    </tr>\n",
              "    <tr>\n",
              "      <th>genre</th>\n",
              "      <th></th>\n",
              "      <th></th>\n",
              "      <th></th>\n",
              "    </tr>\n",
              "  </thead>\n",
              "  <tbody>\n",
              "    <tr>\n",
              "      <th>Action</th>\n",
              "      <td>30.117533</td>\n",
              "      <td>28.761188</td>\n",
              "      <td>28.797606</td>\n",
              "    </tr>\n",
              "    <tr>\n",
              "      <th>Adventure</th>\n",
              "      <td>2.103358</td>\n",
              "      <td>4.134110</td>\n",
              "      <td>1.631217</td>\n",
              "    </tr>\n",
              "    <tr>\n",
              "      <th>Fighting</th>\n",
              "      <td>2.179843</td>\n",
              "      <td>5.434011</td>\n",
              "      <td>3.552580</td>\n",
              "    </tr>\n",
              "    <tr>\n",
              "      <th>Misc</th>\n",
              "      <td>5.109247</td>\n",
              "      <td>6.535019</td>\n",
              "      <td>6.280414</td>\n",
              "    </tr>\n",
              "    <tr>\n",
              "      <th>Platform</th>\n",
              "      <td>3.972159</td>\n",
              "      <td>3.402472</td>\n",
              "      <td>4.144296</td>\n",
              "    </tr>\n",
              "    <tr>\n",
              "      <th>Puzzle</th>\n",
              "      <td>0.254952</td>\n",
              "      <td>0.838187</td>\n",
              "      <td>0.189623</td>\n",
              "    </tr>\n",
              "    <tr>\n",
              "      <th>Racing</th>\n",
              "      <td>5.147490</td>\n",
              "      <td>1.633755</td>\n",
              "      <td>2.960864</td>\n",
              "    </tr>\n",
              "    <tr>\n",
              "      <th>Role-Playing</th>\n",
              "      <td>9.425592</td>\n",
              "      <td>36.255150</td>\n",
              "      <td>10.600626</td>\n",
              "    </tr>\n",
              "    <tr>\n",
              "      <th>Shooter</th>\n",
              "      <td>22.400122</td>\n",
              "      <td>4.695269</td>\n",
              "      <td>25.071394</td>\n",
              "    </tr>\n",
              "    <tr>\n",
              "      <th>Simulation</th>\n",
              "      <td>2.784081</td>\n",
              "      <td>3.210683</td>\n",
              "      <td>1.110324</td>\n",
              "    </tr>\n",
              "    <tr>\n",
              "      <th>Sports</th>\n",
              "      <td>15.429722</td>\n",
              "      <td>3.842875</td>\n",
              "      <td>14.911700</td>\n",
              "    </tr>\n",
              "    <tr>\n",
              "      <th>Strategy</th>\n",
              "      <td>1.075899</td>\n",
              "      <td>1.257281</td>\n",
              "      <td>0.749355</td>\n",
              "    </tr>\n",
              "  </tbody>\n",
              "</table>\n",
              "</div>"
            ],
            "text/plain": [
              "              eu_sales_share  jp_sales_share  na_sales_share\n",
              "genre                                                       \n",
              "Action             30.117533       28.761188       28.797606\n",
              "Adventure           2.103358        4.134110        1.631217\n",
              "Fighting            2.179843        5.434011        3.552580\n",
              "Misc                5.109247        6.535019        6.280414\n",
              "Platform            3.972159        3.402472        4.144296\n",
              "Puzzle              0.254952        0.838187        0.189623\n",
              "Racing              5.147490        1.633755        2.960864\n",
              "Role-Playing        9.425592       36.255150       10.600626\n",
              "Shooter            22.400122        4.695269       25.071394\n",
              "Simulation          2.784081        3.210683        1.110324\n",
              "Sports             15.429722        3.842875       14.911700\n",
              "Strategy            1.075899        1.257281        0.749355"
            ]
          },
          "execution_count": 67,
          "metadata": {},
          "output_type": "execute_result"
        }
      ],
      "source": [
        "region_genre.drop(columns=['eu_sales', 'jp_sales', 'na_sales'])"
      ]
    },
    {
      "cell_type": "markdown",
      "metadata": {
        "id": "ObNk5JRqGIBM"
      },
      "source": [
        "Самыми популярными жанрами на представленных рынках стали: Action в Европе (29%) и Северной Америке (27%), Role-Playing в Японии (32%). Наименьшей популярностью пользуется такой жанр, как Puzzle во всех перечисленных регионах (от 0,33% в Северной Америке до 1,18% в Японии)."
      ]
    },
    {
      "cell_type": "markdown",
      "metadata": {
        "id": "AltRV0pRGIBM"
      },
      "source": [
        "Проверим, влияет ли рейтинг ESRB на продажи в отдельном регионе:"
      ]
    },
    {
      "cell_type": "code",
      "execution_count": null,
      "metadata": {
        "id": "som-GIj9GIBM",
        "outputId": "470f298c-fee8-49cc-c2af-f0d9395263cf"
      },
      "outputs": [
        {
          "data": {
            "text/html": [
              "<div>\n",
              "<style scoped>\n",
              "    .dataframe tbody tr th:only-of-type {\n",
              "        vertical-align: middle;\n",
              "    }\n",
              "\n",
              "    .dataframe tbody tr th {\n",
              "        vertical-align: top;\n",
              "    }\n",
              "\n",
              "    .dataframe thead th {\n",
              "        text-align: right;\n",
              "    }\n",
              "</style>\n",
              "<table border=\"1\" class=\"dataframe\">\n",
              "  <thead>\n",
              "    <tr style=\"text-align: right;\">\n",
              "      <th></th>\n",
              "      <th>eu_sales</th>\n",
              "      <th>jp_sales</th>\n",
              "      <th>na_sales</th>\n",
              "    </tr>\n",
              "    <tr>\n",
              "      <th>rating</th>\n",
              "      <th></th>\n",
              "      <th></th>\n",
              "      <th></th>\n",
              "    </tr>\n",
              "  </thead>\n",
              "  <tbody>\n",
              "    <tr>\n",
              "      <th>E</th>\n",
              "      <td>83.36</td>\n",
              "      <td>15.14</td>\n",
              "      <td>79.05</td>\n",
              "    </tr>\n",
              "    <tr>\n",
              "      <th>E10+</th>\n",
              "      <td>42.69</td>\n",
              "      <td>5.89</td>\n",
              "      <td>54.24</td>\n",
              "    </tr>\n",
              "    <tr>\n",
              "      <th>M</th>\n",
              "      <td>145.32</td>\n",
              "      <td>14.11</td>\n",
              "      <td>165.21</td>\n",
              "    </tr>\n",
              "    <tr>\n",
              "      <th>T</th>\n",
              "      <td>41.95</td>\n",
              "      <td>20.59</td>\n",
              "      <td>49.79</td>\n",
              "    </tr>\n",
              "    <tr>\n",
              "      <th>no_rating</th>\n",
              "      <td>78.91</td>\n",
              "      <td>85.05</td>\n",
              "      <td>89.42</td>\n",
              "    </tr>\n",
              "  </tbody>\n",
              "</table>\n",
              "</div>"
            ],
            "text/plain": [
              "           eu_sales  jp_sales  na_sales\n",
              "rating                                 \n",
              "E             83.36     15.14     79.05\n",
              "E10+          42.69      5.89     54.24\n",
              "M            145.32     14.11    165.21\n",
              "T             41.95     20.59     49.79\n",
              "no_rating     78.91     85.05     89.42"
            ]
          },
          "execution_count": 68,
          "metadata": {},
          "output_type": "execute_result"
        },
        {
          "data": {
            "image/png": "[encoded data removed]",
            "text/plain": [
              "<Figure size 720x360 with 1 Axes>"
            ]
          },
          "metadata": {
            "needs_background": "light"
          },
          "output_type": "display_data"
        }
      ],
      "source": [
        "#ESRB\n",
        "region_esrb = data_new.pivot_table(index='rating', values=['na_sales', 'eu_sales', 'jp_sales'], aggfunc='sum')\n",
        "region_esrb.plot(kind='bar', figsize=(10, 5))\n",
        "region_esrb"
      ]
    },
    {
      "cell_type": "code",
      "execution_count": null,
      "metadata": {
        "id": "DRQYqo0KGIBM"
      },
      "outputs": [],
      "source": [
        "region_esrb['eu_sales_share'] = region_esrb['eu_sales'] / region_esrb['eu_sales'].sum() * 100\n",
        "region_esrb['jp_sales_share'] = region_esrb['jp_sales'] / region_esrb['jp_sales'].sum() * 100\n",
        "region_esrb['na_sales_share'] = region_esrb['na_sales'] / region_esrb['na_sales'].sum() * 100"
      ]
    },
    {
      "cell_type": "code",
      "execution_count": null,
      "metadata": {
        "id": "ognhEEhiGIBN",
        "outputId": "a75a9c31-e635-4610-cc0d-5bc834030b9e"
      },
      "outputs": [
        {
          "data": {
            "text/html": [
              "<div>\n",
              "<style scoped>\n",
              "    .dataframe tbody tr th:only-of-type {\n",
              "        vertical-align: middle;\n",
              "    }\n",
              "\n",
              "    .dataframe tbody tr th {\n",
              "        vertical-align: top;\n",
              "    }\n",
              "\n",
              "    .dataframe thead th {\n",
              "        text-align: right;\n",
              "    }\n",
              "</style>\n",
              "<table border=\"1\" class=\"dataframe\">\n",
              "  <thead>\n",
              "    <tr style=\"text-align: right;\">\n",
              "      <th></th>\n",
              "      <th>eu_sales_share</th>\n",
              "      <th>jp_sales_share</th>\n",
              "      <th>na_sales_share</th>\n",
              "    </tr>\n",
              "    <tr>\n",
              "      <th>rating</th>\n",
              "      <th></th>\n",
              "      <th></th>\n",
              "      <th></th>\n",
              "    </tr>\n",
              "  </thead>\n",
              "  <tbody>\n",
              "    <tr>\n",
              "      <th>E</th>\n",
              "      <td>21.252836</td>\n",
              "      <td>10.754369</td>\n",
              "      <td>18.059903</td>\n",
              "    </tr>\n",
              "    <tr>\n",
              "      <th>E10+</th>\n",
              "      <td>10.883920</td>\n",
              "      <td>4.183833</td>\n",
              "      <td>12.391766</td>\n",
              "    </tr>\n",
              "    <tr>\n",
              "      <th>M</th>\n",
              "      <td>37.049690</td>\n",
              "      <td>10.022731</td>\n",
              "      <td>37.744169</td>\n",
              "    </tr>\n",
              "    <tr>\n",
              "      <th>T</th>\n",
              "      <td>10.695255</td>\n",
              "      <td>14.625657</td>\n",
              "      <td>11.375111</td>\n",
              "    </tr>\n",
              "    <tr>\n",
              "      <th>no_rating</th>\n",
              "      <td>20.118298</td>\n",
              "      <td>60.413411</td>\n",
              "      <td>20.429051</td>\n",
              "    </tr>\n",
              "  </tbody>\n",
              "</table>\n",
              "</div>"
            ],
            "text/plain": [
              "           eu_sales_share  jp_sales_share  na_sales_share\n",
              "rating                                                   \n",
              "E               21.252836       10.754369       18.059903\n",
              "E10+            10.883920        4.183833       12.391766\n",
              "M               37.049690       10.022731       37.744169\n",
              "T               10.695255       14.625657       11.375111\n",
              "no_rating       20.118298       60.413411       20.429051"
            ]
          },
          "execution_count": 70,
          "metadata": {},
          "output_type": "execute_result"
        }
      ],
      "source": [
        "region_esrb.drop(columns=['eu_sales', 'jp_sales', 'na_sales'])"
      ]
    },
    {
      "cell_type": "markdown",
      "metadata": {
        "id": "Rk7okk67GIBN"
      },
      "source": [
        "В Европе и Северной Америке самые высокие продажи можно наблюдать у игр с рейтингом М \"Для взрослых\" (по 37%), в Японии же самый популярный рейтинг E \"Для всех возрастов\" (10,7%), а также практически наравне с ним идет рейтинг M (10,02%). Самыми непопулярными можно назвать игры с рейтингом Т \"Подросткам\" в Европе и Северной Америке, и E10+ \"Для всех от 10 лет и старше\" в Японии.\n",
        "\n",
        "Также стоит заметить, что более половины всех игр в Японии (60%) не имеют рейтинга, так как компания Entertainment Software Rating Board (ESRB) определяет рейтинги на игры США и Канады.\n",
        "\n",
        "Исходя из представленного исследования популярности различных игр на дынных рынках, можно сделать вывод, что вкусы Европы и Северной Америки во многом схожи, в то время, как пользователи Японии заметно отличются в своих предпочтениях."
      ]
    },
    {
      "cell_type": "code",
      "execution_count": null,
      "metadata": {
        "id": "h4-0hMxAGIBO",
        "outputId": "fafc5d3f-2efb-4826-b8a0-935c50c9c1db"
      },
      "outputs": [
        {
          "name": "stdout",
          "output_type": "stream",
          "text": [
            "0 0.0\n"
          ]
        },
        {
          "data": {
            "text/plain": [
              "no_rating    977\n",
              "M            369\n",
              "T            333\n",
              "E            302\n",
              "E10+         252\n",
              "Name: rating, dtype: int64"
            ]
          },
          "execution_count": 71,
          "metadata": {},
          "output_type": "execute_result"
        }
      ],
      "source": [
        "temp = data_new.copy()\n",
        "print(temp.rating.isna().sum(), temp.rating.isna().sum()/len(temp))\n",
        "temp.rating.value_counts()"
      ]
    },
    {
      "cell_type": "markdown",
      "metadata": {
        "id": "CAX36R4fGIBO"
      },
      "source": [
        "## Проверка гипотез"
      ]
    },
    {
      "cell_type": "markdown",
      "metadata": {
        "id": "3lKg6FSOGIBO"
      },
      "source": [
        "Проверим две интересующие нас гипотезы: о равенстве среднего пользовательского рейтинга платформ XOne и PC и жанров Action и Sports.\n",
        "\n",
        "Так как все выборки для данных гипотез достаточно большие (более 200 значений) следует взять меньший уровень значимости (0,01).\n",
        "Также, учитывая, что объемы у этих  выборок значительно отличаются друг от друга предполагаем, что дисперсии у генеральных совокупностей не равны и указываем параметр 'equal_var= False'."
      ]
    },
    {
      "cell_type": "markdown",
      "metadata": {
        "id": "Cb4c9OEBGIBW"
      },
      "source": [
        "Так как для проверки следующих гипотез мы будем проверять, равны ли средние двух генеральных совокупностей, мы используем Двухвыборочный t-критерий Стьдента, за который в питоне отвечает метод scipy.stats.ttest_ind()."
      ]
    },
    {
      "cell_type": "code",
      "execution_count": null,
      "metadata": {
        "id": "DeidlrleGIBX",
        "outputId": "8bb069fa-c9f8-47fa-dee7-391384119dda"
      },
      "outputs": [
        {
          "data": {
            "text/plain": [
              "platform\n",
              "3DS     303\n",
              "DS        8\n",
              "PC      189\n",
              "PS3     345\n",
              "PS4     392\n",
              "PSP      67\n",
              "PSV     358\n",
              "Wii      23\n",
              "WiiU    115\n",
              "X360    186\n",
              "XOne    247\n",
              "Name: platform, dtype: int64"
            ]
          },
          "execution_count": 72,
          "metadata": {},
          "output_type": "execute_result"
        }
      ],
      "source": [
        "data_new.groupby('platform')['platform'].agg('count')"
      ]
    },
    {
      "cell_type": "markdown",
      "metadata": {
        "id": "vfA4N__FGIBX"
      },
      "source": [
        "Исходя из задания формулируем нулевую гипотезу так, чтобы использовать знак равенства. В нашем случае это - средний пользовательский рейтинг платформы XOne равен среднему пользовательскому рейтингу PC. Альтернативная гипотеза должна противоречить нулевой так, что нулевая гипотеза либо принимается, либо отвергается и принимается альтернативная. Поэтому, гипотезу H1, как противоположную нулевой, формулируем так: средний пользовательский рейтинг платформы XOne не равен среднему пользовательскому рейтингу PC."
      ]
    },
    {
      "cell_type": "markdown",
      "metadata": {
        "id": "SaAo6qcEGIBX"
      },
      "source": [
        "H0: средний пользовательский рейтинг платформы XOne равен среднему пользовательскому рейтингу PC;\n",
        "\n",
        "H1: средний пользовательский рейтинг платформы XOne не равен среднему пользовательскому рейтингу PC."
      ]
    },
    {
      "cell_type": "code",
      "execution_count": null,
      "metadata": {
        "id": "U8Z0LNyFGIBY",
        "outputId": "23c2a4d7-71a0-44eb-b94f-b7dacb00ab32"
      },
      "outputs": [
        {
          "name": "stdout",
          "output_type": "stream",
          "text": [
            "p-значение: 0.14759594013430463\n",
            "Не получилось отвергнуть нулевую гипотезу\n"
          ]
        }
      ],
      "source": [
        "alpha = 0.01\n",
        "\n",
        "results = st.ttest_ind(data_new.query('platform == \"XOne\"')['user_score'].dropna(), data_new.query('platform == \"PC\"')['user_score'].dropna(), equal_var = False)\n",
        "\n",
        "print('p-значение:', results.pvalue)\n",
        "\n",
        "if results.pvalue < alpha:\n",
        "    print('Отвергаем нулевую гипотезу')\n",
        "else:\n",
        "    print('Не получилось отвергнуть нулевую гипотезу')"
      ]
    },
    {
      "cell_type": "markdown",
      "metadata": {
        "id": "LduC7NFcGIBZ"
      },
      "source": [
        "P-value показывает, что вероятность случайно получить такое или большее различие равна 61% и это слишком большая вероятность, чтобы говорить о значимом различии между средним пользовательским рейтингов у платформ XOne и PC."
      ]
    },
    {
      "cell_type": "code",
      "execution_count": null,
      "metadata": {
        "id": "tiuVS6inGIBZ",
        "outputId": "779538f1-00e5-45b2-cd19-c73230d414ca"
      },
      "outputs": [
        {
          "name": "stdout",
          "output_type": "stream",
          "text": [
            "6.521428571428572\n"
          ]
        },
        {
          "data": {
            "text/plain": [
              "6.269677419354839"
            ]
          },
          "execution_count": 74,
          "metadata": {},
          "output_type": "execute_result"
        }
      ],
      "source": [
        "#средние пользовательские оценки\n",
        "print(data_new[data_new['platform'] == 'XOne']['user_score'].mean())\n",
        "data_new[data_new['platform'] == 'PC']['user_score'].mean()"
      ]
    },
    {
      "cell_type": "markdown",
      "metadata": {
        "id": "nTuzfSoPGIBZ"
      },
      "source": [
        "По такому же принципу формулируем вторые, противоречащие друг другу, гипотезы о равенстве средних пользовательских рейтингов жанра Action и Sports:"
      ]
    },
    {
      "cell_type": "markdown",
      "metadata": {
        "id": "kVFMsIG5GIBZ"
      },
      "source": [
        "H0: средний пользовательский рейтинг жанра Action равен среднему пользовательскому рейтингу жанра Sports;\n",
        "\n",
        "H1: средний пользовательский рейтинг жанра Action не равен среднему пользовательскому рейтингу жанра Sports;"
      ]
    },
    {
      "cell_type": "code",
      "execution_count": null,
      "metadata": {
        "id": "lyBEZfNrGIBa",
        "outputId": "b9c159dd-b744-431c-cf6f-5f17d0c209f8"
      },
      "outputs": [
        {
          "data": {
            "text/plain": [
              "genre\n",
              "Action          766\n",
              "Adventure       245\n",
              "Fighting         80\n",
              "Misc            155\n",
              "Platform         74\n",
              "Puzzle           17\n",
              "Racing           85\n",
              "Role-Playing    292\n",
              "Shooter         187\n",
              "Simulation       62\n",
              "Sports          214\n",
              "Strategy         56\n",
              "Name: genre, dtype: int64"
            ]
          },
          "execution_count": 75,
          "metadata": {},
          "output_type": "execute_result"
        }
      ],
      "source": [
        "data_new.groupby('genre')['genre'].agg('count')"
      ]
    },
    {
      "cell_type": "code",
      "execution_count": null,
      "metadata": {
        "id": "tuuGABgcGIBa",
        "outputId": "d4d6ce70-2ad9-44fd-ab6e-c49d4352b90c"
      },
      "outputs": [
        {
          "name": "stdout",
          "output_type": "stream",
          "text": [
            "p-значение: 1.4460039700704315e-20\n",
            "Отвергаем нулевую гипотезу\n"
          ]
        }
      ],
      "source": [
        "alpha = 0.01\n",
        "\n",
        "results = st.ttest_ind(data_new.query('genre == \"Action\"')['user_score'].dropna(), data_new.query('genre == \"Sports\"')['user_score'].dropna(), equal_var = False)\n",
        "\n",
        "print('p-значение:', results.pvalue)\n",
        "\n",
        "if results.pvalue < alpha:\n",
        "    print('Отвергаем нулевую гипотезу')\n",
        "else:\n",
        "    print('Не получилось отвергнуть нулевую гипотезу')"
      ]
    },
    {
      "cell_type": "markdown",
      "metadata": {
        "id": "tVjRk85xGIBa"
      },
      "source": [
        "Настолько маленькое значение P-value позволяет нам отвергнуть нулевую гипотезу и сказать, что средние пользовательские рейтинги жанров Action и Sports значительно отличаются."
      ]
    },
    {
      "cell_type": "code",
      "execution_count": null,
      "metadata": {
        "id": "EOXMJSxcGIBb",
        "outputId": "30ba3c1c-7e4a-4249-e211-b29766544ff0"
      },
      "outputs": [
        {
          "name": "stdout",
          "output_type": "stream",
          "text": [
            "6.837532133676093\n"
          ]
        },
        {
          "data": {
            "text/plain": [
              "5.238124999999999"
            ]
          },
          "execution_count": 77,
          "metadata": {},
          "output_type": "execute_result"
        }
      ],
      "source": [
        "print(data_new[data_new['genre'] == 'Action']['user_score'].mean())\n",
        "data_new[data_new['genre'] == 'Sports']['user_score'].mean()"
      ]
    },
    {
      "cell_type": "markdown",
      "metadata": {
        "id": "FpfIkpj6GIBc"
      },
      "source": [
        "## Общий вывод"
      ]
    },
    {
      "cell_type": "markdown",
      "metadata": {
        "id": "WTEdUXncGIBc"
      },
      "source": [
        "В данном исследовании мы изучили исторические данные о продажах игр, оценки пользователей и экспертов, жанры и платформы.\n",
        "В результате было выявлено, что самыми перспективными платформами на данный момент являются PS4, XOne, 3DS, WiiU, а также\n",
        "стабильно остается PC. К потенциально прибыльным жанрам можно отнести Action, Shooter, Role-Playing и Sports. Наблюдается, что\n",
        "пользовательские рейтинги не имеют особого влияния на размеры продаж представленных игр, а оценки критиков влияют весьма\n",
        "незначительно. Также, при запуске игры стоит заранее определиться с целевым рынком. Можно одновременно сделать ставку на Европу и Северную Америку, но, например, к Японии нужен совершенно другой подход."
      ]
    }
  ],
  "metadata": {
    "ExecuteTimeLog": [
      {
        "duration": 412,
        "start_time": "2023-03-13T13:20:31.202Z"
      },
      {
        "duration": 593,
        "start_time": "2023-03-13T13:20:43.241Z"
      },
      {
        "duration": 22,
        "start_time": "2023-03-13T13:20:52.098Z"
      },
      {
        "duration": 3,
        "start_time": "2023-03-13T14:02:03.605Z"
      },
      {
        "duration": 12,
        "start_time": "2023-03-13T14:02:13.238Z"
      },
      {
        "duration": 95,
        "start_time": "2023-03-13T14:05:17.426Z"
      },
      {
        "duration": 4,
        "start_time": "2023-03-13T14:06:09.118Z"
      },
      {
        "duration": 18,
        "start_time": "2023-03-13T14:06:17.095Z"
      },
      {
        "duration": 6,
        "start_time": "2023-03-13T14:08:12.779Z"
      },
      {
        "duration": 15,
        "start_time": "2023-03-13T14:08:13.909Z"
      },
      {
        "duration": 16,
        "start_time": "2023-03-13T14:09:12.051Z"
      },
      {
        "duration": 8,
        "start_time": "2023-03-13T14:11:16.015Z"
      },
      {
        "duration": 5,
        "start_time": "2023-03-13T14:11:25.853Z"
      },
      {
        "duration": 13,
        "start_time": "2023-03-13T14:11:26.407Z"
      },
      {
        "duration": 11,
        "start_time": "2023-03-13T14:11:27.484Z"
      },
      {
        "duration": 6,
        "start_time": "2023-03-13T14:12:28.810Z"
      },
      {
        "duration": 15,
        "start_time": "2023-03-13T14:12:29.501Z"
      },
      {
        "duration": 8,
        "start_time": "2023-03-13T14:12:30.403Z"
      },
      {
        "duration": 16,
        "start_time": "2023-03-13T14:14:00.352Z"
      },
      {
        "duration": 14,
        "start_time": "2023-03-13T14:14:28.792Z"
      },
      {
        "duration": 8,
        "start_time": "2023-03-13T14:22:57.571Z"
      },
      {
        "duration": 12,
        "start_time": "2023-03-13T14:22:58.713Z"
      },
      {
        "duration": 6,
        "start_time": "2023-03-13T14:22:59.712Z"
      },
      {
        "duration": 7,
        "start_time": "2023-03-13T14:25:18.083Z"
      },
      {
        "duration": 8,
        "start_time": "2023-03-13T14:25:27.412Z"
      },
      {
        "duration": 8,
        "start_time": "2023-03-13T14:25:35.982Z"
      },
      {
        "duration": 6,
        "start_time": "2023-03-13T14:26:01.578Z"
      },
      {
        "duration": 12,
        "start_time": "2023-03-13T14:26:32.036Z"
      },
      {
        "duration": 4,
        "start_time": "2023-03-13T14:26:39.713Z"
      },
      {
        "duration": 16,
        "start_time": "2023-03-13T14:27:00.493Z"
      },
      {
        "duration": 7,
        "start_time": "2023-03-13T14:27:20.629Z"
      },
      {
        "duration": 10,
        "start_time": "2023-03-13T14:38:59.481Z"
      },
      {
        "duration": 33,
        "start_time": "2023-03-13T14:39:57.853Z"
      },
      {
        "duration": 18,
        "start_time": "2023-03-13T14:40:50.078Z"
      },
      {
        "duration": 27,
        "start_time": "2023-03-13T14:43:52.109Z"
      },
      {
        "duration": 23,
        "start_time": "2023-03-13T14:43:57.926Z"
      },
      {
        "duration": 16,
        "start_time": "2023-03-13T14:48:51.702Z"
      },
      {
        "duration": 24,
        "start_time": "2023-03-13T14:49:04.819Z"
      },
      {
        "duration": 13,
        "start_time": "2023-03-13T14:49:09.324Z"
      },
      {
        "duration": 24,
        "start_time": "2023-03-13T14:49:19.351Z"
      },
      {
        "duration": 18,
        "start_time": "2023-03-13T14:50:13.114Z"
      },
      {
        "duration": 8,
        "start_time": "2023-03-13T14:51:06.316Z"
      },
      {
        "duration": 10,
        "start_time": "2023-03-13T14:51:12.423Z"
      },
      {
        "duration": 8,
        "start_time": "2023-03-13T14:51:42.926Z"
      },
      {
        "duration": 8,
        "start_time": "2023-03-13T14:51:48.627Z"
      },
      {
        "duration": 3,
        "start_time": "2023-03-13T14:52:26.923Z"
      },
      {
        "duration": 94,
        "start_time": "2023-03-13T14:52:26.927Z"
      },
      {
        "duration": 19,
        "start_time": "2023-03-13T14:52:27.023Z"
      },
      {
        "duration": 5,
        "start_time": "2023-03-13T14:52:27.044Z"
      },
      {
        "duration": 40,
        "start_time": "2023-03-13T14:52:27.052Z"
      },
      {
        "duration": 11,
        "start_time": "2023-03-13T14:52:27.095Z"
      },
      {
        "duration": 8,
        "start_time": "2023-03-13T14:52:27.107Z"
      },
      {
        "duration": 9,
        "start_time": "2023-03-13T14:52:27.118Z"
      },
      {
        "duration": 10,
        "start_time": "2023-03-13T14:52:27.129Z"
      },
      {
        "duration": 31,
        "start_time": "2023-03-13T14:52:27.141Z"
      },
      {
        "duration": 27,
        "start_time": "2023-03-13T14:52:27.173Z"
      },
      {
        "duration": 27,
        "start_time": "2023-03-13T14:52:27.202Z"
      },
      {
        "duration": 5,
        "start_time": "2023-03-13T14:53:14.948Z"
      },
      {
        "duration": 9,
        "start_time": "2023-03-13T14:53:33.889Z"
      },
      {
        "duration": 41,
        "start_time": "2023-03-13T14:53:42.980Z"
      },
      {
        "duration": 37,
        "start_time": "2023-03-13T14:59:02.637Z"
      },
      {
        "duration": 16,
        "start_time": "2023-03-13T14:59:34.301Z"
      },
      {
        "duration": 21,
        "start_time": "2023-03-13T15:00:33.189Z"
      },
      {
        "duration": 14,
        "start_time": "2023-03-13T15:00:35.416Z"
      },
      {
        "duration": 9,
        "start_time": "2023-03-13T15:01:25.500Z"
      },
      {
        "duration": 17,
        "start_time": "2023-03-13T15:01:36.585Z"
      },
      {
        "duration": 17,
        "start_time": "2023-03-13T15:02:37.285Z"
      },
      {
        "duration": 41,
        "start_time": "2023-03-13T15:02:44.481Z"
      },
      {
        "duration": 17,
        "start_time": "2023-03-13T15:03:16.334Z"
      },
      {
        "duration": 11,
        "start_time": "2023-03-13T15:07:24.635Z"
      },
      {
        "duration": 11,
        "start_time": "2023-03-13T15:07:35.405Z"
      },
      {
        "duration": 23,
        "start_time": "2023-03-13T15:08:47.387Z"
      },
      {
        "duration": 4,
        "start_time": "2023-03-13T18:07:29.391Z"
      },
      {
        "duration": 54,
        "start_time": "2023-03-13T18:09:41.912Z"
      },
      {
        "duration": 484,
        "start_time": "2023-03-13T18:09:54.039Z"
      },
      {
        "duration": 254,
        "start_time": "2023-03-13T18:09:54.526Z"
      },
      {
        "duration": 29,
        "start_time": "2023-03-13T18:09:54.783Z"
      },
      {
        "duration": 7,
        "start_time": "2023-03-13T18:09:54.814Z"
      },
      {
        "duration": 19,
        "start_time": "2023-03-13T18:09:54.823Z"
      },
      {
        "duration": 4,
        "start_time": "2023-03-13T18:09:54.844Z"
      },
      {
        "duration": 12,
        "start_time": "2023-03-13T18:09:54.850Z"
      },
      {
        "duration": 22,
        "start_time": "2023-03-13T18:09:54.864Z"
      },
      {
        "duration": 24,
        "start_time": "2023-03-13T18:09:54.888Z"
      },
      {
        "duration": 6,
        "start_time": "2023-03-13T18:09:54.914Z"
      },
      {
        "duration": 15,
        "start_time": "2023-03-13T18:09:54.921Z"
      },
      {
        "duration": 25,
        "start_time": "2023-03-13T18:09:54.938Z"
      },
      {
        "duration": 9,
        "start_time": "2023-03-13T18:10:02.087Z"
      },
      {
        "duration": 14,
        "start_time": "2023-03-13T18:10:16.821Z"
      },
      {
        "duration": 7,
        "start_time": "2023-03-13T18:12:52.783Z"
      },
      {
        "duration": 10,
        "start_time": "2023-03-13T18:13:08.798Z"
      },
      {
        "duration": 24,
        "start_time": "2023-03-13T18:13:36.239Z"
      },
      {
        "duration": 9,
        "start_time": "2023-03-13T18:13:54.577Z"
      },
      {
        "duration": 5,
        "start_time": "2023-03-13T18:14:11.983Z"
      },
      {
        "duration": 22,
        "start_time": "2023-03-13T18:14:41.589Z"
      },
      {
        "duration": 21,
        "start_time": "2023-03-13T18:16:14.883Z"
      },
      {
        "duration": 15,
        "start_time": "2023-03-13T18:16:39.205Z"
      },
      {
        "duration": 23,
        "start_time": "2023-03-13T18:16:46.405Z"
      },
      {
        "duration": 4,
        "start_time": "2023-03-13T18:54:26.777Z"
      },
      {
        "duration": 6,
        "start_time": "2023-03-13T18:54:38.580Z"
      },
      {
        "duration": 6,
        "start_time": "2023-03-13T18:55:08.240Z"
      },
      {
        "duration": 6,
        "start_time": "2023-03-13T18:55:09.290Z"
      },
      {
        "duration": 6,
        "start_time": "2023-03-13T18:55:23.477Z"
      },
      {
        "duration": 7,
        "start_time": "2023-03-13T18:55:24.380Z"
      },
      {
        "duration": 7,
        "start_time": "2023-03-13T18:55:42.077Z"
      },
      {
        "duration": 5,
        "start_time": "2023-03-13T18:55:42.775Z"
      },
      {
        "duration": 8,
        "start_time": "2023-03-13T18:55:58.465Z"
      },
      {
        "duration": 7,
        "start_time": "2023-03-13T18:55:59.579Z"
      },
      {
        "duration": 3,
        "start_time": "2023-03-13T18:56:12.176Z"
      },
      {
        "duration": 59,
        "start_time": "2023-03-13T18:56:12.182Z"
      },
      {
        "duration": 19,
        "start_time": "2023-03-13T18:56:12.242Z"
      },
      {
        "duration": 4,
        "start_time": "2023-03-13T18:56:12.263Z"
      },
      {
        "duration": 15,
        "start_time": "2023-03-13T18:56:12.269Z"
      },
      {
        "duration": 4,
        "start_time": "2023-03-13T18:56:12.286Z"
      },
      {
        "duration": 9,
        "start_time": "2023-03-13T18:56:12.292Z"
      },
      {
        "duration": 10,
        "start_time": "2023-03-13T18:56:12.303Z"
      },
      {
        "duration": 12,
        "start_time": "2023-03-13T18:56:12.314Z"
      },
      {
        "duration": 29,
        "start_time": "2023-03-13T18:56:12.327Z"
      },
      {
        "duration": 13,
        "start_time": "2023-03-13T18:56:12.359Z"
      },
      {
        "duration": 16,
        "start_time": "2023-03-13T18:56:12.373Z"
      },
      {
        "duration": 7,
        "start_time": "2023-03-13T18:56:12.391Z"
      },
      {
        "duration": 7,
        "start_time": "2023-03-13T18:56:12.401Z"
      },
      {
        "duration": 61,
        "start_time": "2023-03-13T18:56:12.410Z"
      },
      {
        "duration": 5,
        "start_time": "2023-03-13T18:56:12.473Z"
      },
      {
        "duration": 13,
        "start_time": "2023-03-13T18:56:12.480Z"
      },
      {
        "duration": 12,
        "start_time": "2023-03-13T18:56:55.133Z"
      },
      {
        "duration": 6,
        "start_time": "2023-03-13T18:59:08.196Z"
      },
      {
        "duration": 7,
        "start_time": "2023-03-13T18:59:08.894Z"
      },
      {
        "duration": 4,
        "start_time": "2023-03-13T19:01:18.912Z"
      },
      {
        "duration": 7,
        "start_time": "2023-03-13T19:01:20.299Z"
      },
      {
        "duration": 4,
        "start_time": "2023-03-13T19:02:50.032Z"
      },
      {
        "duration": 6,
        "start_time": "2023-03-13T19:03:05.698Z"
      },
      {
        "duration": 5,
        "start_time": "2023-03-13T19:03:27.101Z"
      },
      {
        "duration": 5,
        "start_time": "2023-03-13T19:03:28.331Z"
      },
      {
        "duration": 5,
        "start_time": "2023-03-13T19:04:06.956Z"
      },
      {
        "duration": 69,
        "start_time": "2023-03-13T19:04:06.962Z"
      },
      {
        "duration": 16,
        "start_time": "2023-03-13T19:04:07.033Z"
      },
      {
        "duration": 13,
        "start_time": "2023-03-13T19:04:07.051Z"
      },
      {
        "duration": 21,
        "start_time": "2023-03-13T19:04:07.068Z"
      },
      {
        "duration": 4,
        "start_time": "2023-03-13T19:04:07.091Z"
      },
      {
        "duration": 8,
        "start_time": "2023-03-13T19:04:07.097Z"
      },
      {
        "duration": 12,
        "start_time": "2023-03-13T19:04:07.106Z"
      },
      {
        "duration": 10,
        "start_time": "2023-03-13T19:04:07.120Z"
      },
      {
        "duration": 11,
        "start_time": "2023-03-13T19:04:07.132Z"
      },
      {
        "duration": 13,
        "start_time": "2023-03-13T19:04:07.146Z"
      },
      {
        "duration": 25,
        "start_time": "2023-03-13T19:04:07.161Z"
      },
      {
        "duration": 6,
        "start_time": "2023-03-13T19:04:07.187Z"
      },
      {
        "duration": 10,
        "start_time": "2023-03-13T19:04:07.195Z"
      },
      {
        "duration": 26,
        "start_time": "2023-03-13T19:04:07.207Z"
      },
      {
        "duration": 86,
        "start_time": "2023-03-13T19:06:55.222Z"
      },
      {
        "duration": 51,
        "start_time": "2023-03-13T19:07:07.423Z"
      },
      {
        "duration": 70,
        "start_time": "2023-03-13T19:09:21.130Z"
      },
      {
        "duration": 49,
        "start_time": "2023-03-13T19:09:43.102Z"
      },
      {
        "duration": 9,
        "start_time": "2023-03-13T19:10:12.496Z"
      },
      {
        "duration": 6,
        "start_time": "2023-03-13T19:10:29.607Z"
      },
      {
        "duration": 29,
        "start_time": "2023-03-13T19:12:20.095Z"
      },
      {
        "duration": 14,
        "start_time": "2023-03-13T19:12:25.942Z"
      },
      {
        "duration": 21,
        "start_time": "2023-03-13T19:12:52.093Z"
      },
      {
        "duration": 7,
        "start_time": "2023-03-13T19:13:30.292Z"
      },
      {
        "duration": 8,
        "start_time": "2023-03-13T19:13:38.303Z"
      },
      {
        "duration": 5,
        "start_time": "2023-03-13T19:13:39.213Z"
      },
      {
        "duration": 6,
        "start_time": "2023-03-13T19:13:47.191Z"
      },
      {
        "duration": 6,
        "start_time": "2023-03-13T19:13:48.710Z"
      },
      {
        "duration": 3,
        "start_time": "2023-03-13T19:14:07.996Z"
      },
      {
        "duration": 64,
        "start_time": "2023-03-13T19:14:08.001Z"
      },
      {
        "duration": 21,
        "start_time": "2023-03-13T19:14:08.067Z"
      },
      {
        "duration": 5,
        "start_time": "2023-03-13T19:14:08.089Z"
      },
      {
        "duration": 23,
        "start_time": "2023-03-13T19:14:08.096Z"
      },
      {
        "duration": 4,
        "start_time": "2023-03-13T19:14:08.120Z"
      },
      {
        "duration": 41,
        "start_time": "2023-03-13T19:14:08.126Z"
      },
      {
        "duration": 14,
        "start_time": "2023-03-13T19:14:08.169Z"
      },
      {
        "duration": 7,
        "start_time": "2023-03-13T19:14:08.185Z"
      },
      {
        "duration": 2,
        "start_time": "2023-03-13T19:14:08.195Z"
      },
      {
        "duration": 10,
        "start_time": "2023-03-13T19:14:08.199Z"
      },
      {
        "duration": 17,
        "start_time": "2023-03-13T19:14:08.210Z"
      },
      {
        "duration": 29,
        "start_time": "2023-03-13T19:14:08.229Z"
      },
      {
        "duration": 10,
        "start_time": "2023-03-13T19:14:08.261Z"
      },
      {
        "duration": 25,
        "start_time": "2023-03-13T19:14:08.273Z"
      },
      {
        "duration": 6,
        "start_time": "2023-03-13T19:15:50.202Z"
      },
      {
        "duration": 6,
        "start_time": "2023-03-13T19:16:00.912Z"
      },
      {
        "duration": 18,
        "start_time": "2023-03-13T19:16:49.710Z"
      },
      {
        "duration": 7,
        "start_time": "2023-03-13T19:17:02.787Z"
      },
      {
        "duration": 13,
        "start_time": "2023-03-13T19:17:18.321Z"
      },
      {
        "duration": 5,
        "start_time": "2023-03-13T19:18:34.582Z"
      },
      {
        "duration": 7,
        "start_time": "2023-03-13T19:18:46.497Z"
      },
      {
        "duration": 8,
        "start_time": "2023-03-13T19:19:48.024Z"
      },
      {
        "duration": 6,
        "start_time": "2023-03-13T19:24:01.597Z"
      },
      {
        "duration": 6,
        "start_time": "2023-03-13T19:25:18.693Z"
      },
      {
        "duration": 5,
        "start_time": "2023-03-13T19:25:19.573Z"
      },
      {
        "duration": 12,
        "start_time": "2023-03-13T19:33:32.699Z"
      },
      {
        "duration": 9,
        "start_time": "2023-03-13T19:33:59.714Z"
      },
      {
        "duration": 786,
        "start_time": "2023-03-13T19:34:34.945Z"
      },
      {
        "duration": 186,
        "start_time": "2023-03-13T19:35:00.212Z"
      },
      {
        "duration": 64,
        "start_time": "2023-03-14T19:00:58.462Z"
      },
      {
        "duration": 389,
        "start_time": "2023-03-14T19:01:05.526Z"
      },
      {
        "duration": 95,
        "start_time": "2023-03-14T19:01:05.917Z"
      },
      {
        "duration": 33,
        "start_time": "2023-03-14T19:01:06.013Z"
      },
      {
        "duration": 4,
        "start_time": "2023-03-14T19:01:06.049Z"
      },
      {
        "duration": 28,
        "start_time": "2023-03-14T19:01:06.055Z"
      },
      {
        "duration": 5,
        "start_time": "2023-03-14T19:01:06.090Z"
      },
      {
        "duration": 15,
        "start_time": "2023-03-14T19:01:06.097Z"
      },
      {
        "duration": 8,
        "start_time": "2023-03-14T19:01:06.114Z"
      },
      {
        "duration": 11,
        "start_time": "2023-03-14T19:01:06.124Z"
      },
      {
        "duration": 7,
        "start_time": "2023-03-14T19:01:06.140Z"
      },
      {
        "duration": 18,
        "start_time": "2023-03-14T19:01:06.149Z"
      },
      {
        "duration": 35,
        "start_time": "2023-03-14T19:01:06.170Z"
      },
      {
        "duration": 8,
        "start_time": "2023-03-14T19:01:06.207Z"
      },
      {
        "duration": 8,
        "start_time": "2023-03-14T19:01:06.217Z"
      },
      {
        "duration": 21,
        "start_time": "2023-03-14T19:01:06.227Z"
      },
      {
        "duration": 7,
        "start_time": "2023-03-14T19:01:06.249Z"
      },
      {
        "duration": 38,
        "start_time": "2023-03-14T19:01:06.258Z"
      },
      {
        "duration": 3,
        "start_time": "2023-03-14T19:01:06.299Z"
      },
      {
        "duration": 9,
        "start_time": "2023-03-14T19:01:06.304Z"
      },
      {
        "duration": 18,
        "start_time": "2023-03-14T19:01:06.315Z"
      },
      {
        "duration": 1689,
        "start_time": "2023-03-14T19:01:06.335Z"
      },
      {
        "duration": 154,
        "start_time": "2023-03-14T19:01:08.026Z"
      },
      {
        "duration": 150,
        "start_time": "2023-03-14T19:01:11.646Z"
      },
      {
        "duration": 5,
        "start_time": "2023-03-14T19:10:07.801Z"
      },
      {
        "duration": 42,
        "start_time": "2023-03-14T19:10:29.523Z"
      },
      {
        "duration": 139,
        "start_time": "2023-03-14T19:10:35.109Z"
      },
      {
        "duration": 206,
        "start_time": "2023-03-14T19:10:53.041Z"
      },
      {
        "duration": 5,
        "start_time": "2023-03-14T19:11:25.202Z"
      },
      {
        "duration": 123,
        "start_time": "2023-03-14T19:11:25.886Z"
      },
      {
        "duration": 5,
        "start_time": "2023-03-14T19:12:04.570Z"
      },
      {
        "duration": 5,
        "start_time": "2023-03-14T19:12:46.619Z"
      },
      {
        "duration": 130,
        "start_time": "2023-03-14T19:12:54.871Z"
      },
      {
        "duration": 10,
        "start_time": "2023-03-14T19:14:09.630Z"
      },
      {
        "duration": 3,
        "start_time": "2023-03-14T19:14:30.309Z"
      },
      {
        "duration": 90,
        "start_time": "2023-03-14T19:14:30.314Z"
      },
      {
        "duration": 24,
        "start_time": "2023-03-14T19:14:30.406Z"
      },
      {
        "duration": 38,
        "start_time": "2023-03-14T19:14:30.431Z"
      },
      {
        "duration": 66,
        "start_time": "2023-03-14T19:14:30.472Z"
      },
      {
        "duration": 14,
        "start_time": "2023-03-14T19:14:30.540Z"
      },
      {
        "duration": 40,
        "start_time": "2023-03-14T19:14:30.556Z"
      },
      {
        "duration": 28,
        "start_time": "2023-03-14T19:14:30.598Z"
      },
      {
        "duration": 42,
        "start_time": "2023-03-14T19:14:30.628Z"
      },
      {
        "duration": 30,
        "start_time": "2023-03-14T19:14:30.672Z"
      },
      {
        "duration": 42,
        "start_time": "2023-03-14T19:14:30.705Z"
      },
      {
        "duration": 56,
        "start_time": "2023-03-14T19:14:30.749Z"
      },
      {
        "duration": 27,
        "start_time": "2023-03-14T19:14:30.807Z"
      },
      {
        "duration": 31,
        "start_time": "2023-03-14T19:14:30.837Z"
      },
      {
        "duration": 51,
        "start_time": "2023-03-14T19:14:30.870Z"
      },
      {
        "duration": 24,
        "start_time": "2023-03-14T19:14:30.923Z"
      },
      {
        "duration": 26,
        "start_time": "2023-03-14T19:14:30.949Z"
      },
      {
        "duration": 41,
        "start_time": "2023-03-14T19:14:30.977Z"
      },
      {
        "duration": 49,
        "start_time": "2023-03-14T19:14:31.020Z"
      },
      {
        "duration": 31,
        "start_time": "2023-03-14T19:14:31.071Z"
      },
      {
        "duration": 163,
        "start_time": "2023-03-14T19:14:31.104Z"
      },
      {
        "duration": 156,
        "start_time": "2023-03-14T19:14:31.269Z"
      },
      {
        "duration": 5,
        "start_time": "2023-03-14T19:14:31.427Z"
      },
      {
        "duration": 136,
        "start_time": "2023-03-14T19:14:31.434Z"
      },
      {
        "duration": 20,
        "start_time": "2023-03-14T19:14:31.571Z"
      },
      {
        "duration": 9,
        "start_time": "2023-03-14T19:15:08.610Z"
      },
      {
        "duration": 13,
        "start_time": "2023-03-14T19:16:30.395Z"
      },
      {
        "duration": 8,
        "start_time": "2023-03-14T19:16:45.050Z"
      },
      {
        "duration": 8,
        "start_time": "2023-03-14T19:16:55.293Z"
      },
      {
        "duration": 6,
        "start_time": "2023-03-14T19:17:14.422Z"
      },
      {
        "duration": 7,
        "start_time": "2023-03-14T19:17:23.399Z"
      },
      {
        "duration": 7,
        "start_time": "2023-03-14T19:17:42.419Z"
      },
      {
        "duration": 8,
        "start_time": "2023-03-14T19:31:47.209Z"
      },
      {
        "duration": 4,
        "start_time": "2023-03-14T19:31:58.106Z"
      },
      {
        "duration": 111,
        "start_time": "2023-03-14T19:31:58.819Z"
      },
      {
        "duration": 7,
        "start_time": "2023-03-14T19:32:36.192Z"
      },
      {
        "duration": 125,
        "start_time": "2023-03-14T19:32:37.788Z"
      },
      {
        "duration": 1057,
        "start_time": "2023-03-14T19:33:22.231Z"
      },
      {
        "duration": 6,
        "start_time": "2023-03-14T19:34:11.667Z"
      },
      {
        "duration": 8,
        "start_time": "2023-03-14T19:35:48.391Z"
      },
      {
        "duration": 61,
        "start_time": "2023-03-14T19:40:28.713Z"
      },
      {
        "duration": 524,
        "start_time": "2023-03-14T19:40:43.094Z"
      },
      {
        "duration": 20,
        "start_time": "2023-03-14T19:41:33.090Z"
      },
      {
        "duration": 13,
        "start_time": "2023-03-14T19:47:17.290Z"
      },
      {
        "duration": 16,
        "start_time": "2023-03-14T19:50:55.030Z"
      },
      {
        "duration": 11,
        "start_time": "2023-03-14T19:51:30.191Z"
      },
      {
        "duration": 120,
        "start_time": "2023-03-14T19:51:46.123Z"
      },
      {
        "duration": 3,
        "start_time": "2023-03-14T19:52:15.419Z"
      },
      {
        "duration": 7,
        "start_time": "2023-03-14T19:52:25.890Z"
      },
      {
        "duration": 8,
        "start_time": "2023-03-14T19:52:57.172Z"
      },
      {
        "duration": 181,
        "start_time": "2023-03-14T19:52:59.581Z"
      },
      {
        "duration": 5,
        "start_time": "2023-03-14T19:53:00.597Z"
      },
      {
        "duration": 2,
        "start_time": "2023-03-14T19:56:51.583Z"
      },
      {
        "duration": 13,
        "start_time": "2023-03-14T19:58:42.239Z"
      },
      {
        "duration": 58,
        "start_time": "2023-03-14T19:58:51.420Z"
      },
      {
        "duration": 5,
        "start_time": "2023-03-14T20:00:32.281Z"
      },
      {
        "duration": 1201,
        "start_time": "2023-03-14T20:02:36.569Z"
      },
      {
        "duration": 2,
        "start_time": "2023-03-14T20:03:05.510Z"
      },
      {
        "duration": 2,
        "start_time": "2023-03-14T20:03:11.680Z"
      },
      {
        "duration": 9,
        "start_time": "2023-03-14T20:08:15.780Z"
      },
      {
        "duration": 119,
        "start_time": "2023-03-14T20:08:21.434Z"
      },
      {
        "duration": 6,
        "start_time": "2023-03-14T20:08:24.788Z"
      },
      {
        "duration": 2,
        "start_time": "2023-03-14T20:12:57.357Z"
      },
      {
        "duration": 57,
        "start_time": "2023-03-14T20:13:11.273Z"
      },
      {
        "duration": 1135,
        "start_time": "2023-03-14T20:13:26.186Z"
      },
      {
        "duration": 10,
        "start_time": "2023-03-14T20:13:45.654Z"
      },
      {
        "duration": 24,
        "start_time": "2023-03-14T20:21:36.000Z"
      },
      {
        "duration": 25,
        "start_time": "2023-03-14T20:23:32.359Z"
      },
      {
        "duration": 141,
        "start_time": "2023-03-14T20:24:20.873Z"
      },
      {
        "duration": 26,
        "start_time": "2023-03-14T21:19:41.782Z"
      },
      {
        "duration": 70,
        "start_time": "2023-03-14T21:20:49.109Z"
      },
      {
        "duration": 69,
        "start_time": "2023-03-14T21:21:05.967Z"
      },
      {
        "duration": 25,
        "start_time": "2023-03-14T21:21:18.278Z"
      },
      {
        "duration": 4,
        "start_time": "2023-03-14T21:21:36.340Z"
      },
      {
        "duration": 28,
        "start_time": "2023-03-14T21:21:46.112Z"
      },
      {
        "duration": 23,
        "start_time": "2023-03-14T21:22:21.532Z"
      },
      {
        "duration": 3,
        "start_time": "2023-03-14T21:23:00.967Z"
      },
      {
        "duration": 23,
        "start_time": "2023-03-14T21:23:05.949Z"
      },
      {
        "duration": 22,
        "start_time": "2023-03-14T21:23:34.399Z"
      },
      {
        "duration": 33,
        "start_time": "2023-03-14T21:23:47.470Z"
      },
      {
        "duration": 225,
        "start_time": "2023-03-14T21:24:05.316Z"
      },
      {
        "duration": 898,
        "start_time": "2023-03-15T18:11:43.433Z"
      },
      {
        "duration": 129,
        "start_time": "2023-03-15T18:11:44.333Z"
      },
      {
        "duration": 35,
        "start_time": "2023-03-15T18:11:44.464Z"
      },
      {
        "duration": 9,
        "start_time": "2023-03-15T18:11:44.502Z"
      },
      {
        "duration": 26,
        "start_time": "2023-03-15T18:11:44.514Z"
      },
      {
        "duration": 4,
        "start_time": "2023-03-15T18:11:44.542Z"
      },
      {
        "duration": 9,
        "start_time": "2023-03-15T18:11:44.549Z"
      },
      {
        "duration": 40,
        "start_time": "2023-03-15T18:11:44.561Z"
      },
      {
        "duration": 17,
        "start_time": "2023-03-15T18:11:44.603Z"
      },
      {
        "duration": 13,
        "start_time": "2023-03-15T18:11:44.623Z"
      },
      {
        "duration": 22,
        "start_time": "2023-03-15T18:11:44.638Z"
      },
      {
        "duration": 35,
        "start_time": "2023-03-15T18:11:44.663Z"
      },
      {
        "duration": 18,
        "start_time": "2023-03-15T18:11:44.700Z"
      },
      {
        "duration": 10,
        "start_time": "2023-03-15T18:11:44.722Z"
      },
      {
        "duration": 56,
        "start_time": "2023-03-15T18:11:44.735Z"
      },
      {
        "duration": 8,
        "start_time": "2023-03-15T18:11:44.795Z"
      },
      {
        "duration": 23,
        "start_time": "2023-03-15T18:11:44.805Z"
      },
      {
        "duration": 14,
        "start_time": "2023-03-15T18:11:44.831Z"
      },
      {
        "duration": 27,
        "start_time": "2023-03-15T18:11:44.847Z"
      },
      {
        "duration": 34,
        "start_time": "2023-03-15T18:11:44.876Z"
      },
      {
        "duration": 192,
        "start_time": "2023-03-15T18:11:44.912Z"
      },
      {
        "duration": 165,
        "start_time": "2023-03-15T18:11:45.105Z"
      },
      {
        "duration": 15,
        "start_time": "2023-03-15T18:11:45.272Z"
      },
      {
        "duration": 79,
        "start_time": "2023-03-15T18:11:45.289Z"
      },
      {
        "duration": 1298,
        "start_time": "2023-03-15T18:11:45.369Z"
      },
      {
        "duration": 0,
        "start_time": "2023-03-15T18:11:46.669Z"
      },
      {
        "duration": 0,
        "start_time": "2023-03-15T18:11:46.670Z"
      },
      {
        "duration": 0,
        "start_time": "2023-03-15T18:11:46.671Z"
      },
      {
        "duration": 0,
        "start_time": "2023-03-15T18:11:46.673Z"
      },
      {
        "duration": 3,
        "start_time": "2023-03-15T18:12:02.847Z"
      },
      {
        "duration": 74,
        "start_time": "2023-03-15T18:12:02.853Z"
      },
      {
        "duration": 18,
        "start_time": "2023-03-15T18:12:02.929Z"
      },
      {
        "duration": 10,
        "start_time": "2023-03-15T18:12:02.948Z"
      },
      {
        "duration": 32,
        "start_time": "2023-03-15T18:12:02.960Z"
      },
      {
        "duration": 5,
        "start_time": "2023-03-15T18:12:02.994Z"
      },
      {
        "duration": 16,
        "start_time": "2023-03-15T18:12:03.000Z"
      },
      {
        "duration": 9,
        "start_time": "2023-03-15T18:12:03.018Z"
      },
      {
        "duration": 9,
        "start_time": "2023-03-15T18:12:03.029Z"
      },
      {
        "duration": 10,
        "start_time": "2023-03-15T18:12:03.040Z"
      },
      {
        "duration": 14,
        "start_time": "2023-03-15T18:12:03.053Z"
      },
      {
        "duration": 41,
        "start_time": "2023-03-15T18:12:03.068Z"
      },
      {
        "duration": 8,
        "start_time": "2023-03-15T18:12:03.111Z"
      },
      {
        "duration": 11,
        "start_time": "2023-03-15T18:12:03.121Z"
      },
      {
        "duration": 37,
        "start_time": "2023-03-15T18:12:03.134Z"
      },
      {
        "duration": 12,
        "start_time": "2023-03-15T18:12:03.173Z"
      },
      {
        "duration": 22,
        "start_time": "2023-03-15T18:12:03.194Z"
      },
      {
        "duration": 17,
        "start_time": "2023-03-15T18:12:03.218Z"
      },
      {
        "duration": 15,
        "start_time": "2023-03-15T18:12:03.236Z"
      },
      {
        "duration": 23,
        "start_time": "2023-03-15T18:12:03.254Z"
      },
      {
        "duration": 194,
        "start_time": "2023-03-15T18:12:03.279Z"
      },
      {
        "duration": 170,
        "start_time": "2023-03-15T18:12:03.475Z"
      },
      {
        "duration": 3,
        "start_time": "2023-03-15T18:12:03.647Z"
      },
      {
        "duration": 75,
        "start_time": "2023-03-15T18:12:03.652Z"
      },
      {
        "duration": 1339,
        "start_time": "2023-03-15T18:12:03.729Z"
      },
      {
        "duration": 0,
        "start_time": "2023-03-15T18:12:05.070Z"
      },
      {
        "duration": 0,
        "start_time": "2023-03-15T18:12:05.072Z"
      },
      {
        "duration": 0,
        "start_time": "2023-03-15T18:12:05.074Z"
      },
      {
        "duration": 0,
        "start_time": "2023-03-15T18:12:05.075Z"
      },
      {
        "duration": 2,
        "start_time": "2023-03-15T18:12:37.335Z"
      },
      {
        "duration": 3,
        "start_time": "2023-03-15T18:12:41.046Z"
      },
      {
        "duration": 68,
        "start_time": "2023-03-15T18:12:41.051Z"
      },
      {
        "duration": 18,
        "start_time": "2023-03-15T18:12:41.121Z"
      },
      {
        "duration": 11,
        "start_time": "2023-03-15T18:12:41.141Z"
      },
      {
        "duration": 20,
        "start_time": "2023-03-15T18:12:41.154Z"
      },
      {
        "duration": 6,
        "start_time": "2023-03-15T18:12:41.176Z"
      },
      {
        "duration": 22,
        "start_time": "2023-03-15T18:12:41.187Z"
      },
      {
        "duration": 7,
        "start_time": "2023-03-15T18:12:41.211Z"
      },
      {
        "duration": 11,
        "start_time": "2023-03-15T18:12:41.220Z"
      },
      {
        "duration": 8,
        "start_time": "2023-03-15T18:12:41.233Z"
      },
      {
        "duration": 16,
        "start_time": "2023-03-15T18:12:41.245Z"
      },
      {
        "duration": 89,
        "start_time": "2023-03-15T18:12:41.263Z"
      },
      {
        "duration": 15,
        "start_time": "2023-03-15T18:12:41.354Z"
      },
      {
        "duration": 30,
        "start_time": "2023-03-15T18:12:41.371Z"
      },
      {
        "duration": 27,
        "start_time": "2023-03-15T18:12:41.403Z"
      },
      {
        "duration": 7,
        "start_time": "2023-03-15T18:12:41.431Z"
      },
      {
        "duration": 23,
        "start_time": "2023-03-15T18:12:41.440Z"
      },
      {
        "duration": 17,
        "start_time": "2023-03-15T18:12:41.465Z"
      },
      {
        "duration": 23,
        "start_time": "2023-03-15T18:12:41.487Z"
      },
      {
        "duration": 14,
        "start_time": "2023-03-15T18:12:41.512Z"
      },
      {
        "duration": 190,
        "start_time": "2023-03-15T18:12:41.528Z"
      },
      {
        "duration": 162,
        "start_time": "2023-03-15T18:12:41.720Z"
      },
      {
        "duration": 6,
        "start_time": "2023-03-15T18:12:41.890Z"
      },
      {
        "duration": 66,
        "start_time": "2023-03-15T18:12:41.897Z"
      },
      {
        "duration": 3,
        "start_time": "2023-03-15T18:12:41.965Z"
      },
      {
        "duration": 18,
        "start_time": "2023-03-15T18:12:41.969Z"
      },
      {
        "duration": 0,
        "start_time": "2023-03-15T18:12:41.988Z"
      },
      {
        "duration": 0,
        "start_time": "2023-03-15T18:12:41.989Z"
      },
      {
        "duration": 0,
        "start_time": "2023-03-15T18:12:41.989Z"
      },
      {
        "duration": 4,
        "start_time": "2023-03-15T18:13:02.142Z"
      },
      {
        "duration": 3,
        "start_time": "2023-03-15T18:13:09.812Z"
      },
      {
        "duration": 58,
        "start_time": "2023-03-15T18:13:09.818Z"
      },
      {
        "duration": 20,
        "start_time": "2023-03-15T18:13:09.884Z"
      },
      {
        "duration": 5,
        "start_time": "2023-03-15T18:13:09.906Z"
      },
      {
        "duration": 34,
        "start_time": "2023-03-15T18:13:09.914Z"
      },
      {
        "duration": 5,
        "start_time": "2023-03-15T18:13:09.950Z"
      },
      {
        "duration": 25,
        "start_time": "2023-03-15T18:13:09.956Z"
      },
      {
        "duration": 14,
        "start_time": "2023-03-15T18:13:09.989Z"
      },
      {
        "duration": 16,
        "start_time": "2023-03-15T18:13:10.006Z"
      },
      {
        "duration": 5,
        "start_time": "2023-03-15T18:13:10.024Z"
      },
      {
        "duration": 24,
        "start_time": "2023-03-15T18:13:10.031Z"
      },
      {
        "duration": 35,
        "start_time": "2023-03-15T18:13:10.057Z"
      },
      {
        "duration": 9,
        "start_time": "2023-03-15T18:13:10.095Z"
      },
      {
        "duration": 12,
        "start_time": "2023-03-15T18:13:10.107Z"
      },
      {
        "duration": 27,
        "start_time": "2023-03-15T18:13:10.121Z"
      },
      {
        "duration": 10,
        "start_time": "2023-03-15T18:13:10.150Z"
      },
      {
        "duration": 18,
        "start_time": "2023-03-15T18:13:10.176Z"
      },
      {
        "duration": 14,
        "start_time": "2023-03-15T18:13:10.196Z"
      },
      {
        "duration": 8,
        "start_time": "2023-03-15T18:13:10.212Z"
      },
      {
        "duration": 16,
        "start_time": "2023-03-15T18:13:10.222Z"
      },
      {
        "duration": 189,
        "start_time": "2023-03-15T18:13:10.242Z"
      },
      {
        "duration": 180,
        "start_time": "2023-03-15T18:13:10.432Z"
      },
      {
        "duration": 2,
        "start_time": "2023-03-15T18:13:10.614Z"
      },
      {
        "duration": 96,
        "start_time": "2023-03-15T18:13:10.618Z"
      },
      {
        "duration": 3,
        "start_time": "2023-03-15T18:13:10.716Z"
      },
      {
        "duration": 19,
        "start_time": "2023-03-15T18:13:10.720Z"
      },
      {
        "duration": 9,
        "start_time": "2023-03-15T18:13:10.741Z"
      },
      {
        "duration": 59,
        "start_time": "2023-03-15T18:13:10.753Z"
      },
      {
        "duration": 0,
        "start_time": "2023-03-15T18:13:10.815Z"
      },
      {
        "duration": 2,
        "start_time": "2023-03-15T18:13:27.308Z"
      },
      {
        "duration": 3,
        "start_time": "2023-03-15T18:13:30.795Z"
      },
      {
        "duration": 114,
        "start_time": "2023-03-15T18:13:30.800Z"
      },
      {
        "duration": 18,
        "start_time": "2023-03-15T18:13:30.916Z"
      },
      {
        "duration": 37,
        "start_time": "2023-03-15T18:13:30.937Z"
      },
      {
        "duration": 64,
        "start_time": "2023-03-15T18:13:30.976Z"
      },
      {
        "duration": 49,
        "start_time": "2023-03-15T18:13:31.042Z"
      },
      {
        "duration": 50,
        "start_time": "2023-03-15T18:13:31.095Z"
      },
      {
        "duration": 27,
        "start_time": "2023-03-15T18:13:31.147Z"
      },
      {
        "duration": 38,
        "start_time": "2023-03-15T18:13:31.177Z"
      },
      {
        "duration": 30,
        "start_time": "2023-03-15T18:13:31.217Z"
      },
      {
        "duration": 113,
        "start_time": "2023-03-15T18:13:31.249Z"
      },
      {
        "duration": 54,
        "start_time": "2023-03-15T18:13:31.364Z"
      },
      {
        "duration": 12,
        "start_time": "2023-03-15T18:13:31.419Z"
      },
      {
        "duration": 40,
        "start_time": "2023-03-15T18:13:31.432Z"
      },
      {
        "duration": 49,
        "start_time": "2023-03-15T18:13:31.474Z"
      },
      {
        "duration": 13,
        "start_time": "2023-03-15T18:13:31.525Z"
      },
      {
        "duration": 23,
        "start_time": "2023-03-15T18:13:31.539Z"
      },
      {
        "duration": 5,
        "start_time": "2023-03-15T18:13:31.564Z"
      },
      {
        "duration": 29,
        "start_time": "2023-03-15T18:13:31.570Z"
      },
      {
        "duration": 19,
        "start_time": "2023-03-15T18:13:31.601Z"
      },
      {
        "duration": 169,
        "start_time": "2023-03-15T18:13:31.622Z"
      },
      {
        "duration": 160,
        "start_time": "2023-03-15T18:13:31.793Z"
      },
      {
        "duration": 2,
        "start_time": "2023-03-15T18:13:31.955Z"
      },
      {
        "duration": 72,
        "start_time": "2023-03-15T18:13:31.960Z"
      },
      {
        "duration": 3,
        "start_time": "2023-03-15T18:13:32.033Z"
      },
      {
        "duration": 20,
        "start_time": "2023-03-15T18:13:32.038Z"
      },
      {
        "duration": 15,
        "start_time": "2023-03-15T18:13:32.059Z"
      },
      {
        "duration": 23,
        "start_time": "2023-03-15T18:13:32.076Z"
      },
      {
        "duration": 281,
        "start_time": "2023-03-15T18:13:32.102Z"
      },
      {
        "duration": 9,
        "start_time": "2023-03-15T18:35:33.907Z"
      },
      {
        "duration": 131,
        "start_time": "2023-03-15T18:35:43.516Z"
      },
      {
        "duration": 6,
        "start_time": "2023-03-15T18:35:52.699Z"
      },
      {
        "duration": 18,
        "start_time": "2023-03-15T18:36:10.915Z"
      },
      {
        "duration": 4,
        "start_time": "2023-03-15T18:36:22.055Z"
      },
      {
        "duration": 270,
        "start_time": "2023-03-15T18:36:57.755Z"
      },
      {
        "duration": 6,
        "start_time": "2023-03-15T18:40:58.565Z"
      },
      {
        "duration": 3,
        "start_time": "2023-03-15T18:41:12.046Z"
      },
      {
        "duration": 196,
        "start_time": "2023-03-15T18:41:16.433Z"
      },
      {
        "duration": 264,
        "start_time": "2023-03-15T18:42:56.016Z"
      },
      {
        "duration": 289,
        "start_time": "2023-03-15T18:43:03.564Z"
      },
      {
        "duration": 234,
        "start_time": "2023-03-15T18:43:48.153Z"
      },
      {
        "duration": 225,
        "start_time": "2023-03-15T18:48:05.025Z"
      },
      {
        "duration": 212,
        "start_time": "2023-03-15T18:48:15.483Z"
      },
      {
        "duration": 7,
        "start_time": "2023-03-15T18:48:32.197Z"
      },
      {
        "duration": 4,
        "start_time": "2023-03-15T18:49:11.304Z"
      },
      {
        "duration": 344,
        "start_time": "2023-03-15T18:49:12.383Z"
      },
      {
        "duration": 19,
        "start_time": "2023-03-15T19:11:14.126Z"
      },
      {
        "duration": 15,
        "start_time": "2023-03-15T19:16:00.885Z"
      },
      {
        "duration": 10,
        "start_time": "2023-03-15T19:16:15.576Z"
      },
      {
        "duration": 9,
        "start_time": "2023-03-15T19:16:24.635Z"
      },
      {
        "duration": 10,
        "start_time": "2023-03-15T19:16:30.405Z"
      },
      {
        "duration": 9,
        "start_time": "2023-03-15T19:24:38.913Z"
      },
      {
        "duration": 10,
        "start_time": "2023-03-15T19:25:06.876Z"
      },
      {
        "duration": 131,
        "start_time": "2023-03-15T19:26:27.024Z"
      },
      {
        "duration": 11,
        "start_time": "2023-03-15T19:26:46.419Z"
      },
      {
        "duration": 125,
        "start_time": "2023-03-15T19:28:15.812Z"
      },
      {
        "duration": 9,
        "start_time": "2023-03-15T19:34:11.026Z"
      },
      {
        "duration": 8,
        "start_time": "2023-03-15T20:03:00.089Z"
      },
      {
        "duration": 11,
        "start_time": "2023-03-15T20:03:17.392Z"
      },
      {
        "duration": 17,
        "start_time": "2023-03-15T20:03:20.474Z"
      },
      {
        "duration": 8,
        "start_time": "2023-03-15T20:03:27.103Z"
      },
      {
        "duration": 277,
        "start_time": "2023-03-15T20:07:00.400Z"
      },
      {
        "duration": 288,
        "start_time": "2023-03-15T20:07:40.126Z"
      },
      {
        "duration": 295,
        "start_time": "2023-03-15T20:07:48.114Z"
      },
      {
        "duration": 285,
        "start_time": "2023-03-15T20:07:59.792Z"
      },
      {
        "duration": 355,
        "start_time": "2023-03-15T20:08:33.122Z"
      },
      {
        "duration": 5,
        "start_time": "2023-03-15T20:11:16.055Z"
      },
      {
        "duration": 10,
        "start_time": "2023-03-15T20:12:00.024Z"
      },
      {
        "duration": 10,
        "start_time": "2023-03-15T20:12:21.442Z"
      },
      {
        "duration": 9,
        "start_time": "2023-03-15T20:13:14.916Z"
      },
      {
        "duration": 3,
        "start_time": "2023-03-15T20:15:04.510Z"
      },
      {
        "duration": 3,
        "start_time": "2023-03-15T20:15:23.394Z"
      },
      {
        "duration": 282,
        "start_time": "2023-03-15T20:15:29.372Z"
      },
      {
        "duration": 481,
        "start_time": "2023-03-15T20:35:47.596Z"
      },
      {
        "duration": 540,
        "start_time": "2023-03-15T20:36:10.122Z"
      },
      {
        "duration": 677,
        "start_time": "2023-03-15T20:36:19.843Z"
      },
      {
        "duration": 524,
        "start_time": "2023-03-15T20:36:26.803Z"
      },
      {
        "duration": 548,
        "start_time": "2023-03-15T20:36:32.205Z"
      },
      {
        "duration": 659,
        "start_time": "2023-03-15T20:36:38.795Z"
      },
      {
        "duration": 582,
        "start_time": "2023-03-15T20:37:03.983Z"
      },
      {
        "duration": 562,
        "start_time": "2023-03-15T20:37:16.675Z"
      },
      {
        "duration": 676,
        "start_time": "2023-03-15T20:37:43.911Z"
      },
      {
        "duration": 18,
        "start_time": "2023-03-15T20:39:06.142Z"
      },
      {
        "duration": 8,
        "start_time": "2023-03-15T20:39:10.332Z"
      },
      {
        "duration": 19,
        "start_time": "2023-03-15T20:39:37.168Z"
      },
      {
        "duration": 8,
        "start_time": "2023-03-15T20:39:50.786Z"
      },
      {
        "duration": 2,
        "start_time": "2023-03-15T20:40:50.614Z"
      },
      {
        "duration": 285,
        "start_time": "2023-03-15T20:41:43.934Z"
      },
      {
        "duration": 303,
        "start_time": "2023-03-15T20:42:20.670Z"
      },
      {
        "duration": 367,
        "start_time": "2023-03-15T20:42:28.735Z"
      },
      {
        "duration": 287,
        "start_time": "2023-03-15T20:42:38.006Z"
      },
      {
        "duration": 4,
        "start_time": "2023-03-15T20:45:15.484Z"
      },
      {
        "duration": 230,
        "start_time": "2023-03-15T20:46:32.513Z"
      },
      {
        "duration": 197,
        "start_time": "2023-03-15T20:53:26.425Z"
      },
      {
        "duration": 27,
        "start_time": "2023-03-15T20:55:02.235Z"
      },
      {
        "duration": 108,
        "start_time": "2023-03-15T20:56:08.762Z"
      },
      {
        "duration": 150,
        "start_time": "2023-03-15T20:56:39.073Z"
      },
      {
        "duration": 232,
        "start_time": "2023-03-15T20:57:45.972Z"
      },
      {
        "duration": 13,
        "start_time": "2023-03-15T20:59:25.052Z"
      },
      {
        "duration": 298,
        "start_time": "2023-03-15T21:00:28.872Z"
      },
      {
        "duration": 3,
        "start_time": "2023-03-15T21:00:34.705Z"
      },
      {
        "duration": 81,
        "start_time": "2023-03-15T21:00:34.709Z"
      },
      {
        "duration": 16,
        "start_time": "2023-03-15T21:00:34.792Z"
      },
      {
        "duration": 26,
        "start_time": "2023-03-15T21:00:34.810Z"
      },
      {
        "duration": 48,
        "start_time": "2023-03-15T21:00:34.838Z"
      },
      {
        "duration": 9,
        "start_time": "2023-03-15T21:00:34.888Z"
      },
      {
        "duration": 26,
        "start_time": "2023-03-15T21:00:34.899Z"
      },
      {
        "duration": 42,
        "start_time": "2023-03-15T21:00:34.926Z"
      },
      {
        "duration": 14,
        "start_time": "2023-03-15T21:00:34.970Z"
      },
      {
        "duration": 12,
        "start_time": "2023-03-15T21:00:34.985Z"
      },
      {
        "duration": 23,
        "start_time": "2023-03-15T21:00:35.000Z"
      },
      {
        "duration": 39,
        "start_time": "2023-03-15T21:00:35.025Z"
      },
      {
        "duration": 18,
        "start_time": "2023-03-15T21:00:35.066Z"
      },
      {
        "duration": 35,
        "start_time": "2023-03-15T21:00:35.086Z"
      },
      {
        "duration": 49,
        "start_time": "2023-03-15T21:00:35.123Z"
      },
      {
        "duration": 12,
        "start_time": "2023-03-15T21:00:35.174Z"
      },
      {
        "duration": 32,
        "start_time": "2023-03-15T21:00:35.188Z"
      },
      {
        "duration": 24,
        "start_time": "2023-03-15T21:00:35.222Z"
      },
      {
        "duration": 34,
        "start_time": "2023-03-15T21:00:35.249Z"
      },
      {
        "duration": 27,
        "start_time": "2023-03-15T21:00:35.285Z"
      },
      {
        "duration": 155,
        "start_time": "2023-03-15T21:00:35.315Z"
      },
      {
        "duration": 151,
        "start_time": "2023-03-15T21:00:35.472Z"
      },
      {
        "duration": 8,
        "start_time": "2023-03-15T21:00:35.625Z"
      },
      {
        "duration": 144,
        "start_time": "2023-03-15T21:00:35.635Z"
      },
      {
        "duration": 6,
        "start_time": "2023-03-15T21:00:35.781Z"
      },
      {
        "duration": 21,
        "start_time": "2023-03-15T21:00:35.788Z"
      },
      {
        "duration": 296,
        "start_time": "2023-03-15T21:00:35.811Z"
      },
      {
        "duration": 453,
        "start_time": "2023-03-15T21:00:36.109Z"
      },
      {
        "duration": 16,
        "start_time": "2023-03-15T21:00:36.564Z"
      },
      {
        "duration": 6,
        "start_time": "2023-03-15T21:00:36.582Z"
      },
      {
        "duration": 324,
        "start_time": "2023-03-15T21:00:36.590Z"
      },
      {
        "duration": 4,
        "start_time": "2023-03-15T21:00:36.916Z"
      },
      {
        "duration": 55,
        "start_time": "2023-03-15T21:00:36.922Z"
      },
      {
        "duration": 4,
        "start_time": "2023-03-15T21:00:36.979Z"
      },
      {
        "duration": 217,
        "start_time": "2023-03-15T21:00:36.985Z"
      },
      {
        "duration": 173,
        "start_time": "2023-03-15T21:00:37.204Z"
      },
      {
        "duration": 13,
        "start_time": "2023-03-15T21:00:37.379Z"
      },
      {
        "duration": 277,
        "start_time": "2023-03-15T21:00:41.035Z"
      },
      {
        "duration": 246,
        "start_time": "2023-03-15T21:03:01.184Z"
      },
      {
        "duration": 288,
        "start_time": "2023-03-15T21:08:52.355Z"
      },
      {
        "duration": 15,
        "start_time": "2023-03-15T21:10:22.412Z"
      },
      {
        "duration": 242,
        "start_time": "2023-03-15T21:10:28.532Z"
      },
      {
        "duration": 4,
        "start_time": "2023-03-15T21:12:15.992Z"
      },
      {
        "duration": 231,
        "start_time": "2023-03-15T21:12:19.146Z"
      },
      {
        "duration": 4,
        "start_time": "2023-03-15T21:13:14.244Z"
      },
      {
        "duration": 5,
        "start_time": "2023-03-15T21:13:31.092Z"
      },
      {
        "duration": 6,
        "start_time": "2023-03-15T21:14:02.033Z"
      },
      {
        "duration": 12,
        "start_time": "2023-03-15T21:14:20.534Z"
      },
      {
        "duration": 260,
        "start_time": "2023-03-15T21:14:26.750Z"
      },
      {
        "duration": 11,
        "start_time": "2023-03-15T21:14:46.272Z"
      },
      {
        "duration": 11,
        "start_time": "2023-03-15T21:14:53.303Z"
      },
      {
        "duration": 3,
        "start_time": "2023-03-15T21:15:01.183Z"
      },
      {
        "duration": 115,
        "start_time": "2023-03-15T21:15:01.192Z"
      },
      {
        "duration": 16,
        "start_time": "2023-03-15T21:15:01.309Z"
      },
      {
        "duration": 47,
        "start_time": "2023-03-15T21:15:01.326Z"
      },
      {
        "duration": 41,
        "start_time": "2023-03-15T21:15:01.375Z"
      },
      {
        "duration": 30,
        "start_time": "2023-03-15T21:15:01.419Z"
      },
      {
        "duration": 64,
        "start_time": "2023-03-15T21:15:01.450Z"
      },
      {
        "duration": 37,
        "start_time": "2023-03-15T21:15:01.516Z"
      },
      {
        "duration": 58,
        "start_time": "2023-03-15T21:15:01.555Z"
      },
      {
        "duration": 39,
        "start_time": "2023-03-15T21:15:01.614Z"
      },
      {
        "duration": 65,
        "start_time": "2023-03-15T21:15:01.655Z"
      },
      {
        "duration": 28,
        "start_time": "2023-03-15T21:15:01.722Z"
      },
      {
        "duration": 7,
        "start_time": "2023-03-15T21:15:01.752Z"
      },
      {
        "duration": 18,
        "start_time": "2023-03-15T21:15:01.761Z"
      },
      {
        "duration": 33,
        "start_time": "2023-03-15T21:15:01.782Z"
      },
      {
        "duration": 7,
        "start_time": "2023-03-15T21:15:01.816Z"
      },
      {
        "duration": 21,
        "start_time": "2023-03-15T21:15:01.824Z"
      },
      {
        "duration": 34,
        "start_time": "2023-03-15T21:15:01.847Z"
      },
      {
        "duration": 37,
        "start_time": "2023-03-15T21:15:01.883Z"
      },
      {
        "duration": 47,
        "start_time": "2023-03-15T21:15:01.922Z"
      },
      {
        "duration": 188,
        "start_time": "2023-03-15T21:15:01.971Z"
      },
      {
        "duration": 152,
        "start_time": "2023-03-15T21:15:02.161Z"
      },
      {
        "duration": 8,
        "start_time": "2023-03-15T21:15:02.315Z"
      },
      {
        "duration": 142,
        "start_time": "2023-03-15T21:15:02.324Z"
      },
      {
        "duration": 13,
        "start_time": "2023-03-15T21:15:02.468Z"
      },
      {
        "duration": 117,
        "start_time": "2023-03-15T21:15:02.483Z"
      },
      {
        "duration": 356,
        "start_time": "2023-03-15T21:15:02.602Z"
      },
      {
        "duration": 262,
        "start_time": "2023-03-15T21:15:02.959Z"
      },
      {
        "duration": 9,
        "start_time": "2023-03-15T21:15:03.223Z"
      },
      {
        "duration": 10,
        "start_time": "2023-03-15T21:15:03.234Z"
      },
      {
        "duration": 326,
        "start_time": "2023-03-15T21:15:03.246Z"
      },
      {
        "duration": 3,
        "start_time": "2023-03-15T21:15:03.574Z"
      },
      {
        "duration": 43,
        "start_time": "2023-03-15T21:15:03.579Z"
      },
      {
        "duration": 9,
        "start_time": "2023-03-15T21:15:03.625Z"
      },
      {
        "duration": 235,
        "start_time": "2023-03-15T21:15:03.635Z"
      },
      {
        "duration": 162,
        "start_time": "2023-03-15T21:15:03.872Z"
      },
      {
        "duration": 14,
        "start_time": "2023-03-15T21:15:04.036Z"
      },
      {
        "duration": 32,
        "start_time": "2023-03-15T21:15:04.052Z"
      },
      {
        "duration": 287,
        "start_time": "2023-03-15T21:15:04.086Z"
      },
      {
        "duration": 3,
        "start_time": "2023-03-15T21:22:36.446Z"
      },
      {
        "duration": 71,
        "start_time": "2023-03-15T21:22:36.451Z"
      },
      {
        "duration": 16,
        "start_time": "2023-03-15T21:22:36.524Z"
      },
      {
        "duration": 15,
        "start_time": "2023-03-15T21:22:36.542Z"
      },
      {
        "duration": 37,
        "start_time": "2023-03-15T21:22:36.559Z"
      },
      {
        "duration": 8,
        "start_time": "2023-03-15T21:22:36.598Z"
      },
      {
        "duration": 13,
        "start_time": "2023-03-15T21:22:36.608Z"
      },
      {
        "duration": 11,
        "start_time": "2023-03-15T21:22:36.623Z"
      },
      {
        "duration": 12,
        "start_time": "2023-03-15T21:22:36.635Z"
      },
      {
        "duration": 11,
        "start_time": "2023-03-15T21:22:36.648Z"
      },
      {
        "duration": 26,
        "start_time": "2023-03-15T21:22:36.661Z"
      },
      {
        "duration": 24,
        "start_time": "2023-03-15T21:22:36.689Z"
      },
      {
        "duration": 9,
        "start_time": "2023-03-15T21:22:36.714Z"
      },
      {
        "duration": 26,
        "start_time": "2023-03-15T21:22:36.726Z"
      },
      {
        "duration": 39,
        "start_time": "2023-03-15T21:22:36.753Z"
      },
      {
        "duration": 8,
        "start_time": "2023-03-15T21:22:36.793Z"
      },
      {
        "duration": 28,
        "start_time": "2023-03-15T21:22:36.803Z"
      },
      {
        "duration": 29,
        "start_time": "2023-03-15T21:22:36.833Z"
      },
      {
        "duration": 18,
        "start_time": "2023-03-15T21:22:36.864Z"
      },
      {
        "duration": 25,
        "start_time": "2023-03-15T21:22:36.884Z"
      },
      {
        "duration": 162,
        "start_time": "2023-03-15T21:22:36.912Z"
      },
      {
        "duration": 169,
        "start_time": "2023-03-15T21:22:37.075Z"
      },
      {
        "duration": 9,
        "start_time": "2023-03-15T21:22:37.246Z"
      },
      {
        "duration": 150,
        "start_time": "2023-03-15T21:22:37.257Z"
      },
      {
        "duration": 6,
        "start_time": "2023-03-15T21:22:37.409Z"
      },
      {
        "duration": 32,
        "start_time": "2023-03-15T21:22:37.417Z"
      },
      {
        "duration": 291,
        "start_time": "2023-03-15T21:22:37.451Z"
      },
      {
        "duration": 275,
        "start_time": "2023-03-15T21:22:37.745Z"
      },
      {
        "duration": 9,
        "start_time": "2023-03-15T21:22:38.022Z"
      },
      {
        "duration": 12,
        "start_time": "2023-03-15T21:22:38.032Z"
      },
      {
        "duration": 306,
        "start_time": "2023-03-15T21:22:38.046Z"
      },
      {
        "duration": 3,
        "start_time": "2023-03-15T21:22:38.354Z"
      },
      {
        "duration": 30,
        "start_time": "2023-03-15T21:22:38.359Z"
      },
      {
        "duration": 27,
        "start_time": "2023-03-15T21:22:38.390Z"
      },
      {
        "duration": 208,
        "start_time": "2023-03-15T21:22:38.419Z"
      },
      {
        "duration": 162,
        "start_time": "2023-03-15T21:22:38.628Z"
      },
      {
        "duration": 12,
        "start_time": "2023-03-15T21:22:38.792Z"
      },
      {
        "duration": 17,
        "start_time": "2023-03-15T21:22:38.805Z"
      },
      {
        "duration": 17,
        "start_time": "2023-03-15T21:22:38.824Z"
      },
      {
        "duration": 4,
        "start_time": "2023-03-15T21:23:13.911Z"
      },
      {
        "duration": 9,
        "start_time": "2023-03-15T21:23:21.371Z"
      },
      {
        "duration": 4,
        "start_time": "2023-03-15T21:23:25.038Z"
      },
      {
        "duration": 59,
        "start_time": "2023-03-15T21:23:25.044Z"
      },
      {
        "duration": 16,
        "start_time": "2023-03-15T21:23:25.104Z"
      },
      {
        "duration": 6,
        "start_time": "2023-03-15T21:23:25.122Z"
      },
      {
        "duration": 18,
        "start_time": "2023-03-15T21:23:25.130Z"
      },
      {
        "duration": 4,
        "start_time": "2023-03-15T21:23:25.149Z"
      },
      {
        "duration": 24,
        "start_time": "2023-03-15T21:23:25.155Z"
      },
      {
        "duration": 6,
        "start_time": "2023-03-15T21:23:25.181Z"
      },
      {
        "duration": 10,
        "start_time": "2023-03-15T21:23:25.188Z"
      },
      {
        "duration": 20,
        "start_time": "2023-03-15T21:23:25.200Z"
      },
      {
        "duration": 0,
        "start_time": "2023-03-15T21:23:25.224Z"
      },
      {
        "duration": 0,
        "start_time": "2023-03-15T21:23:25.225Z"
      },
      {
        "duration": 0,
        "start_time": "2023-03-15T21:23:25.226Z"
      },
      {
        "duration": 0,
        "start_time": "2023-03-15T21:23:25.228Z"
      },
      {
        "duration": 0,
        "start_time": "2023-03-15T21:23:25.229Z"
      },
      {
        "duration": 0,
        "start_time": "2023-03-15T21:23:25.231Z"
      },
      {
        "duration": 0,
        "start_time": "2023-03-15T21:23:25.232Z"
      },
      {
        "duration": 0,
        "start_time": "2023-03-15T21:23:25.234Z"
      },
      {
        "duration": 0,
        "start_time": "2023-03-15T21:23:25.235Z"
      },
      {
        "duration": 0,
        "start_time": "2023-03-15T21:23:25.277Z"
      },
      {
        "duration": 0,
        "start_time": "2023-03-15T21:23:25.279Z"
      },
      {
        "duration": 0,
        "start_time": "2023-03-15T21:23:25.281Z"
      },
      {
        "duration": 0,
        "start_time": "2023-03-15T21:23:25.282Z"
      },
      {
        "duration": 0,
        "start_time": "2023-03-15T21:23:25.283Z"
      },
      {
        "duration": 0,
        "start_time": "2023-03-15T21:23:25.284Z"
      },
      {
        "duration": 0,
        "start_time": "2023-03-15T21:23:25.286Z"
      },
      {
        "duration": 0,
        "start_time": "2023-03-15T21:23:25.287Z"
      },
      {
        "duration": 0,
        "start_time": "2023-03-15T21:23:25.289Z"
      },
      {
        "duration": 0,
        "start_time": "2023-03-15T21:23:25.291Z"
      },
      {
        "duration": 0,
        "start_time": "2023-03-15T21:23:25.292Z"
      },
      {
        "duration": 0,
        "start_time": "2023-03-15T21:23:25.294Z"
      },
      {
        "duration": 0,
        "start_time": "2023-03-15T21:23:25.296Z"
      },
      {
        "duration": 0,
        "start_time": "2023-03-15T21:23:25.297Z"
      },
      {
        "duration": 0,
        "start_time": "2023-03-15T21:23:25.300Z"
      },
      {
        "duration": 0,
        "start_time": "2023-03-15T21:23:25.301Z"
      },
      {
        "duration": 0,
        "start_time": "2023-03-15T21:23:25.302Z"
      },
      {
        "duration": 0,
        "start_time": "2023-03-15T21:23:25.304Z"
      },
      {
        "duration": 0,
        "start_time": "2023-03-15T21:23:25.306Z"
      },
      {
        "duration": 0,
        "start_time": "2023-03-15T21:23:25.307Z"
      },
      {
        "duration": 2,
        "start_time": "2023-03-15T21:23:43.584Z"
      },
      {
        "duration": 58,
        "start_time": "2023-03-15T21:23:43.589Z"
      },
      {
        "duration": 18,
        "start_time": "2023-03-15T21:23:43.648Z"
      },
      {
        "duration": 7,
        "start_time": "2023-03-15T21:23:43.668Z"
      },
      {
        "duration": 20,
        "start_time": "2023-03-15T21:23:43.678Z"
      },
      {
        "duration": 5,
        "start_time": "2023-03-15T21:23:43.700Z"
      },
      {
        "duration": 6,
        "start_time": "2023-03-15T21:23:43.707Z"
      },
      {
        "duration": 10,
        "start_time": "2023-03-15T21:23:43.715Z"
      },
      {
        "duration": 13,
        "start_time": "2023-03-15T21:23:43.727Z"
      },
      {
        "duration": 8,
        "start_time": "2023-03-15T21:23:43.742Z"
      },
      {
        "duration": 15,
        "start_time": "2023-03-15T21:23:43.751Z"
      },
      {
        "duration": 17,
        "start_time": "2023-03-15T21:23:43.778Z"
      },
      {
        "duration": 8,
        "start_time": "2023-03-15T21:23:43.797Z"
      },
      {
        "duration": 8,
        "start_time": "2023-03-15T21:23:43.807Z"
      },
      {
        "duration": 36,
        "start_time": "2023-03-15T21:23:43.817Z"
      },
      {
        "duration": 24,
        "start_time": "2023-03-15T21:23:43.855Z"
      },
      {
        "duration": 13,
        "start_time": "2023-03-15T21:23:43.881Z"
      },
      {
        "duration": 4,
        "start_time": "2023-03-15T21:23:43.896Z"
      },
      {
        "duration": 12,
        "start_time": "2023-03-15T21:23:43.901Z"
      },
      {
        "duration": 7,
        "start_time": "2023-03-15T21:23:43.915Z"
      },
      {
        "duration": 172,
        "start_time": "2023-03-15T21:23:43.924Z"
      },
      {
        "duration": 340,
        "start_time": "2023-03-15T21:23:44.098Z"
      },
      {
        "duration": 9,
        "start_time": "2023-03-15T21:23:44.440Z"
      },
      {
        "duration": 151,
        "start_time": "2023-03-15T21:23:44.451Z"
      },
      {
        "duration": 6,
        "start_time": "2023-03-15T21:23:44.604Z"
      },
      {
        "duration": 11,
        "start_time": "2023-03-15T21:23:44.611Z"
      },
      {
        "duration": 276,
        "start_time": "2023-03-15T21:23:44.624Z"
      },
      {
        "duration": 286,
        "start_time": "2023-03-15T21:23:44.902Z"
      },
      {
        "duration": 10,
        "start_time": "2023-03-15T21:23:45.190Z"
      },
      {
        "duration": 3,
        "start_time": "2023-03-15T21:23:45.202Z"
      },
      {
        "duration": 308,
        "start_time": "2023-03-15T21:23:45.207Z"
      },
      {
        "duration": 3,
        "start_time": "2023-03-15T21:23:45.519Z"
      },
      {
        "duration": 25,
        "start_time": "2023-03-15T21:23:45.524Z"
      },
      {
        "duration": 3,
        "start_time": "2023-03-15T21:23:45.551Z"
      },
      {
        "duration": 225,
        "start_time": "2023-03-15T21:23:45.556Z"
      },
      {
        "duration": 160,
        "start_time": "2023-03-15T21:23:45.782Z"
      },
      {
        "duration": 12,
        "start_time": "2023-03-15T21:23:45.943Z"
      },
      {
        "duration": 29,
        "start_time": "2023-03-15T21:23:45.957Z"
      },
      {
        "duration": 13,
        "start_time": "2023-03-15T21:23:45.988Z"
      },
      {
        "duration": 3,
        "start_time": "2023-03-15T21:24:04.954Z"
      },
      {
        "duration": 3,
        "start_time": "2023-03-15T21:24:14.347Z"
      },
      {
        "duration": 82,
        "start_time": "2023-03-15T21:24:14.351Z"
      },
      {
        "duration": 17,
        "start_time": "2023-03-15T21:24:14.435Z"
      },
      {
        "duration": 8,
        "start_time": "2023-03-15T21:24:14.454Z"
      },
      {
        "duration": 34,
        "start_time": "2023-03-15T21:24:14.467Z"
      },
      {
        "duration": 5,
        "start_time": "2023-03-15T21:24:14.502Z"
      },
      {
        "duration": 8,
        "start_time": "2023-03-15T21:24:14.509Z"
      },
      {
        "duration": 15,
        "start_time": "2023-03-15T21:24:14.518Z"
      },
      {
        "duration": 10,
        "start_time": "2023-03-15T21:24:14.535Z"
      },
      {
        "duration": 14,
        "start_time": "2023-03-15T21:24:14.547Z"
      },
      {
        "duration": 17,
        "start_time": "2023-03-15T21:24:14.564Z"
      },
      {
        "duration": 19,
        "start_time": "2023-03-15T21:24:14.583Z"
      },
      {
        "duration": 8,
        "start_time": "2023-03-15T21:24:14.603Z"
      },
      {
        "duration": 15,
        "start_time": "2023-03-15T21:24:14.613Z"
      },
      {
        "duration": 24,
        "start_time": "2023-03-15T21:24:14.629Z"
      },
      {
        "duration": 27,
        "start_time": "2023-03-15T21:24:14.655Z"
      },
      {
        "duration": 24,
        "start_time": "2023-03-15T21:24:14.684Z"
      },
      {
        "duration": 7,
        "start_time": "2023-03-15T21:24:14.710Z"
      },
      {
        "duration": 11,
        "start_time": "2023-03-15T21:24:14.719Z"
      },
      {
        "duration": 30,
        "start_time": "2023-03-15T21:24:14.732Z"
      },
      {
        "duration": 159,
        "start_time": "2023-03-15T21:24:14.764Z"
      },
      {
        "duration": 158,
        "start_time": "2023-03-15T21:24:14.925Z"
      },
      {
        "duration": 7,
        "start_time": "2023-03-15T21:24:15.085Z"
      },
      {
        "duration": 146,
        "start_time": "2023-03-15T21:24:15.094Z"
      },
      {
        "duration": 6,
        "start_time": "2023-03-15T21:24:15.242Z"
      },
      {
        "duration": 14,
        "start_time": "2023-03-15T21:24:15.250Z"
      },
      {
        "duration": 309,
        "start_time": "2023-03-15T21:24:15.266Z"
      },
      {
        "duration": 272,
        "start_time": "2023-03-15T21:24:15.577Z"
      },
      {
        "duration": 10,
        "start_time": "2023-03-15T21:24:15.853Z"
      },
      {
        "duration": 13,
        "start_time": "2023-03-15T21:24:15.864Z"
      },
      {
        "duration": 334,
        "start_time": "2023-03-15T21:24:15.879Z"
      },
      {
        "duration": 4,
        "start_time": "2023-03-15T21:24:16.215Z"
      },
      {
        "duration": 41,
        "start_time": "2023-03-15T21:24:16.221Z"
      },
      {
        "duration": 3,
        "start_time": "2023-03-15T21:24:16.264Z"
      },
      {
        "duration": 228,
        "start_time": "2023-03-15T21:24:16.269Z"
      },
      {
        "duration": 166,
        "start_time": "2023-03-15T21:24:16.499Z"
      },
      {
        "duration": 17,
        "start_time": "2023-03-15T21:24:16.667Z"
      },
      {
        "duration": 23,
        "start_time": "2023-03-15T21:24:16.685Z"
      },
      {
        "duration": 19,
        "start_time": "2023-03-15T21:24:16.709Z"
      },
      {
        "duration": 6,
        "start_time": "2023-03-15T21:24:45.083Z"
      },
      {
        "duration": 13,
        "start_time": "2023-03-15T21:25:01.795Z"
      },
      {
        "duration": 138,
        "start_time": "2023-03-15T21:25:45.255Z"
      },
      {
        "duration": 6,
        "start_time": "2023-03-15T21:25:57.884Z"
      },
      {
        "duration": 150,
        "start_time": "2023-03-15T21:32:42.754Z"
      },
      {
        "duration": 6,
        "start_time": "2023-03-15T21:32:47.583Z"
      },
      {
        "duration": 149,
        "start_time": "2023-03-15T21:33:05.447Z"
      },
      {
        "duration": 159,
        "start_time": "2023-03-15T21:33:35.179Z"
      },
      {
        "duration": 5,
        "start_time": "2023-03-15T21:34:05.147Z"
      },
      {
        "duration": 6,
        "start_time": "2023-03-15T21:34:15.288Z"
      },
      {
        "duration": 8,
        "start_time": "2023-03-15T21:34:33.822Z"
      },
      {
        "duration": 149,
        "start_time": "2023-03-15T21:34:52.804Z"
      },
      {
        "duration": 5,
        "start_time": "2023-03-15T21:35:07.742Z"
      },
      {
        "duration": 147,
        "start_time": "2023-03-15T21:35:56.620Z"
      },
      {
        "duration": 6,
        "start_time": "2023-03-15T21:36:12.590Z"
      },
      {
        "duration": 144,
        "start_time": "2023-03-15T21:36:24.604Z"
      },
      {
        "duration": 6,
        "start_time": "2023-03-15T21:36:45.987Z"
      },
      {
        "duration": 161,
        "start_time": "2023-03-15T21:37:06.184Z"
      },
      {
        "duration": 6,
        "start_time": "2023-03-15T21:37:07.204Z"
      },
      {
        "duration": 152,
        "start_time": "2023-03-15T21:37:08.656Z"
      },
      {
        "duration": 6,
        "start_time": "2023-03-15T21:37:11.092Z"
      },
      {
        "duration": 161,
        "start_time": "2023-03-15T21:39:19.289Z"
      },
      {
        "duration": 6,
        "start_time": "2023-03-15T21:39:39.902Z"
      },
      {
        "duration": 155,
        "start_time": "2023-03-15T21:39:51.142Z"
      },
      {
        "duration": 5,
        "start_time": "2023-03-15T21:40:06.455Z"
      },
      {
        "duration": 138,
        "start_time": "2023-03-15T21:40:34.254Z"
      },
      {
        "duration": 6,
        "start_time": "2023-03-15T21:40:50.802Z"
      },
      {
        "duration": 137,
        "start_time": "2023-03-15T21:41:08.986Z"
      },
      {
        "duration": 6,
        "start_time": "2023-03-15T21:41:24.394Z"
      },
      {
        "duration": 61,
        "start_time": "2023-03-17T17:28:59.021Z"
      },
      {
        "duration": 900,
        "start_time": "2023-03-17T17:29:05.514Z"
      },
      {
        "duration": 207,
        "start_time": "2023-03-17T17:29:06.416Z"
      },
      {
        "duration": 22,
        "start_time": "2023-03-17T17:29:06.625Z"
      },
      {
        "duration": 3,
        "start_time": "2023-03-17T17:29:06.649Z"
      },
      {
        "duration": 24,
        "start_time": "2023-03-17T17:29:06.655Z"
      },
      {
        "duration": 5,
        "start_time": "2023-03-17T17:29:06.681Z"
      },
      {
        "duration": 24,
        "start_time": "2023-03-17T17:29:06.688Z"
      },
      {
        "duration": 8,
        "start_time": "2023-03-17T17:29:06.714Z"
      },
      {
        "duration": 6,
        "start_time": "2023-03-17T17:29:06.724Z"
      },
      {
        "duration": 6,
        "start_time": "2023-03-17T17:29:06.732Z"
      },
      {
        "duration": 20,
        "start_time": "2023-03-17T17:29:06.740Z"
      },
      {
        "duration": 33,
        "start_time": "2023-03-17T17:29:06.762Z"
      },
      {
        "duration": 15,
        "start_time": "2023-03-17T17:29:06.797Z"
      },
      {
        "duration": 14,
        "start_time": "2023-03-17T17:29:06.815Z"
      },
      {
        "duration": 24,
        "start_time": "2023-03-17T17:29:06.831Z"
      },
      {
        "duration": 6,
        "start_time": "2023-03-17T17:29:06.857Z"
      },
      {
        "duration": 14,
        "start_time": "2023-03-17T17:29:06.865Z"
      },
      {
        "duration": 19,
        "start_time": "2023-03-17T17:29:06.880Z"
      },
      {
        "duration": 10,
        "start_time": "2023-03-17T17:29:06.901Z"
      },
      {
        "duration": 9,
        "start_time": "2023-03-17T17:29:06.913Z"
      },
      {
        "duration": 174,
        "start_time": "2023-03-17T17:29:06.924Z"
      },
      {
        "duration": 132,
        "start_time": "2023-03-17T17:29:07.106Z"
      },
      {
        "duration": 8,
        "start_time": "2023-03-17T17:29:07.240Z"
      },
      {
        "duration": 142,
        "start_time": "2023-03-17T17:29:07.249Z"
      },
      {
        "duration": 16,
        "start_time": "2023-03-17T17:29:07.396Z"
      },
      {
        "duration": 7,
        "start_time": "2023-03-17T17:29:07.414Z"
      },
      {
        "duration": 304,
        "start_time": "2023-03-17T17:29:07.423Z"
      },
      {
        "duration": 48,
        "start_time": "2023-03-17T17:29:07.729Z"
      },
      {
        "duration": 0,
        "start_time": "2023-03-17T17:29:07.778Z"
      },
      {
        "duration": 0,
        "start_time": "2023-03-17T17:29:07.780Z"
      },
      {
        "duration": 0,
        "start_time": "2023-03-17T17:29:07.782Z"
      },
      {
        "duration": 0,
        "start_time": "2023-03-17T17:29:07.784Z"
      },
      {
        "duration": 0,
        "start_time": "2023-03-17T17:29:07.785Z"
      },
      {
        "duration": 0,
        "start_time": "2023-03-17T17:29:07.787Z"
      },
      {
        "duration": 0,
        "start_time": "2023-03-17T17:29:07.788Z"
      },
      {
        "duration": 0,
        "start_time": "2023-03-17T17:29:07.789Z"
      },
      {
        "duration": 0,
        "start_time": "2023-03-17T17:29:07.791Z"
      },
      {
        "duration": 0,
        "start_time": "2023-03-17T17:29:07.792Z"
      },
      {
        "duration": 0,
        "start_time": "2023-03-17T17:29:07.851Z"
      },
      {
        "duration": 0,
        "start_time": "2023-03-17T17:29:07.853Z"
      },
      {
        "duration": 0,
        "start_time": "2023-03-17T17:29:07.854Z"
      },
      {
        "duration": 0,
        "start_time": "2023-03-17T17:29:07.855Z"
      },
      {
        "duration": 0,
        "start_time": "2023-03-17T17:29:07.856Z"
      },
      {
        "duration": 0,
        "start_time": "2023-03-17T17:29:07.857Z"
      },
      {
        "duration": 0,
        "start_time": "2023-03-17T17:29:07.858Z"
      },
      {
        "duration": 0,
        "start_time": "2023-03-17T17:29:07.859Z"
      },
      {
        "duration": 0,
        "start_time": "2023-03-17T17:29:07.860Z"
      },
      {
        "duration": 0,
        "start_time": "2023-03-17T17:29:07.861Z"
      },
      {
        "duration": 0,
        "start_time": "2023-03-17T17:29:07.863Z"
      },
      {
        "duration": 0,
        "start_time": "2023-03-17T17:29:07.863Z"
      },
      {
        "duration": 0,
        "start_time": "2023-03-17T17:29:07.865Z"
      },
      {
        "duration": 0,
        "start_time": "2023-03-17T17:29:07.866Z"
      },
      {
        "duration": 0,
        "start_time": "2023-03-17T17:29:07.897Z"
      },
      {
        "duration": 0,
        "start_time": "2023-03-17T17:29:07.898Z"
      },
      {
        "duration": 0,
        "start_time": "2023-03-17T17:29:07.898Z"
      },
      {
        "duration": 0,
        "start_time": "2023-03-17T17:29:07.899Z"
      },
      {
        "duration": 0,
        "start_time": "2023-03-17T17:29:07.899Z"
      },
      {
        "duration": 4,
        "start_time": "2023-03-17T17:33:12.108Z"
      },
      {
        "duration": 54,
        "start_time": "2023-03-17T17:33:12.114Z"
      },
      {
        "duration": 16,
        "start_time": "2023-03-17T17:33:12.170Z"
      },
      {
        "duration": 27,
        "start_time": "2023-03-17T17:33:12.188Z"
      },
      {
        "duration": 36,
        "start_time": "2023-03-17T17:33:12.217Z"
      },
      {
        "duration": 4,
        "start_time": "2023-03-17T17:33:12.255Z"
      },
      {
        "duration": 5,
        "start_time": "2023-03-17T17:33:12.261Z"
      },
      {
        "duration": 4,
        "start_time": "2023-03-17T17:33:12.267Z"
      },
      {
        "duration": 6,
        "start_time": "2023-03-17T17:33:12.273Z"
      },
      {
        "duration": 10,
        "start_time": "2023-03-17T17:33:12.280Z"
      },
      {
        "duration": 47,
        "start_time": "2023-03-17T17:33:12.293Z"
      },
      {
        "duration": 21,
        "start_time": "2023-03-17T17:33:12.342Z"
      },
      {
        "duration": 9,
        "start_time": "2023-03-17T17:33:12.365Z"
      },
      {
        "duration": 10,
        "start_time": "2023-03-17T17:33:12.376Z"
      },
      {
        "duration": 31,
        "start_time": "2023-03-17T17:33:12.388Z"
      },
      {
        "duration": 8,
        "start_time": "2023-03-17T17:33:12.421Z"
      },
      {
        "duration": 17,
        "start_time": "2023-03-17T17:33:12.431Z"
      },
      {
        "duration": 7,
        "start_time": "2023-03-17T17:33:12.449Z"
      },
      {
        "duration": 9,
        "start_time": "2023-03-17T17:33:12.457Z"
      },
      {
        "duration": 15,
        "start_time": "2023-03-17T17:33:12.467Z"
      },
      {
        "duration": 145,
        "start_time": "2023-03-17T17:33:12.498Z"
      },
      {
        "duration": 143,
        "start_time": "2023-03-17T17:33:12.644Z"
      },
      {
        "duration": 17,
        "start_time": "2023-03-17T17:33:12.795Z"
      },
      {
        "duration": 129,
        "start_time": "2023-03-17T17:33:12.814Z"
      },
      {
        "duration": 6,
        "start_time": "2023-03-17T17:33:12.945Z"
      },
      {
        "duration": 6,
        "start_time": "2023-03-17T17:33:12.953Z"
      },
      {
        "duration": 287,
        "start_time": "2023-03-17T17:33:12.961Z"
      },
      {
        "duration": 8,
        "start_time": "2023-03-17T17:33:13.250Z"
      },
      {
        "duration": 0,
        "start_time": "2023-03-17T17:33:13.261Z"
      },
      {
        "duration": 0,
        "start_time": "2023-03-17T17:33:13.262Z"
      },
      {
        "duration": 0,
        "start_time": "2023-03-17T17:33:13.263Z"
      },
      {
        "duration": 0,
        "start_time": "2023-03-17T17:33:13.265Z"
      },
      {
        "duration": 0,
        "start_time": "2023-03-17T17:33:13.266Z"
      },
      {
        "duration": 0,
        "start_time": "2023-03-17T17:33:13.267Z"
      },
      {
        "duration": 0,
        "start_time": "2023-03-17T17:33:13.268Z"
      },
      {
        "duration": 0,
        "start_time": "2023-03-17T17:33:13.269Z"
      },
      {
        "duration": 0,
        "start_time": "2023-03-17T17:33:13.270Z"
      },
      {
        "duration": 0,
        "start_time": "2023-03-17T17:33:13.297Z"
      },
      {
        "duration": 0,
        "start_time": "2023-03-17T17:33:13.297Z"
      },
      {
        "duration": 0,
        "start_time": "2023-03-17T17:33:13.298Z"
      },
      {
        "duration": 0,
        "start_time": "2023-03-17T17:33:13.299Z"
      },
      {
        "duration": 0,
        "start_time": "2023-03-17T17:33:13.300Z"
      },
      {
        "duration": 0,
        "start_time": "2023-03-17T17:33:13.301Z"
      },
      {
        "duration": 0,
        "start_time": "2023-03-17T17:33:13.301Z"
      },
      {
        "duration": 0,
        "start_time": "2023-03-17T17:33:13.302Z"
      },
      {
        "duration": 0,
        "start_time": "2023-03-17T17:33:13.303Z"
      },
      {
        "duration": 0,
        "start_time": "2023-03-17T17:33:13.303Z"
      },
      {
        "duration": 0,
        "start_time": "2023-03-17T17:33:13.304Z"
      },
      {
        "duration": 0,
        "start_time": "2023-03-17T17:33:13.309Z"
      },
      {
        "duration": 0,
        "start_time": "2023-03-17T17:33:13.313Z"
      },
      {
        "duration": 0,
        "start_time": "2023-03-17T17:33:13.314Z"
      },
      {
        "duration": 0,
        "start_time": "2023-03-17T17:33:13.315Z"
      },
      {
        "duration": 0,
        "start_time": "2023-03-17T17:33:13.316Z"
      },
      {
        "duration": 0,
        "start_time": "2023-03-17T17:33:13.318Z"
      },
      {
        "duration": 0,
        "start_time": "2023-03-17T17:33:13.319Z"
      },
      {
        "duration": 0,
        "start_time": "2023-03-17T17:33:13.319Z"
      },
      {
        "duration": 0,
        "start_time": "2023-03-17T17:33:13.320Z"
      },
      {
        "duration": 6,
        "start_time": "2023-03-17T17:36:55.939Z"
      },
      {
        "duration": 279,
        "start_time": "2023-03-17T17:37:00.894Z"
      },
      {
        "duration": 3,
        "start_time": "2023-03-17T17:37:39.304Z"
      },
      {
        "duration": 83,
        "start_time": "2023-03-17T17:37:39.309Z"
      },
      {
        "duration": 25,
        "start_time": "2023-03-17T17:37:39.394Z"
      },
      {
        "duration": 6,
        "start_time": "2023-03-17T17:37:39.421Z"
      },
      {
        "duration": 18,
        "start_time": "2023-03-17T17:37:39.429Z"
      },
      {
        "duration": 5,
        "start_time": "2023-03-17T17:37:39.449Z"
      },
      {
        "duration": 5,
        "start_time": "2023-03-17T17:37:39.455Z"
      },
      {
        "duration": 15,
        "start_time": "2023-03-17T17:37:39.461Z"
      },
      {
        "duration": 20,
        "start_time": "2023-03-17T17:37:39.478Z"
      },
      {
        "duration": 6,
        "start_time": "2023-03-17T17:37:39.500Z"
      },
      {
        "duration": 16,
        "start_time": "2023-03-17T17:37:39.507Z"
      },
      {
        "duration": 17,
        "start_time": "2023-03-17T17:37:39.525Z"
      },
      {
        "duration": 8,
        "start_time": "2023-03-17T17:37:39.543Z"
      },
      {
        "duration": 6,
        "start_time": "2023-03-17T17:37:39.554Z"
      },
      {
        "duration": 51,
        "start_time": "2023-03-17T17:37:39.562Z"
      },
      {
        "duration": 7,
        "start_time": "2023-03-17T17:37:39.615Z"
      },
      {
        "duration": 34,
        "start_time": "2023-03-17T17:37:39.623Z"
      },
      {
        "duration": 18,
        "start_time": "2023-03-17T17:37:39.659Z"
      },
      {
        "duration": 12,
        "start_time": "2023-03-17T17:37:39.679Z"
      },
      {
        "duration": 11,
        "start_time": "2023-03-17T17:37:39.693Z"
      },
      {
        "duration": 146,
        "start_time": "2023-03-17T17:37:39.706Z"
      },
      {
        "duration": 147,
        "start_time": "2023-03-17T17:37:39.854Z"
      },
      {
        "duration": 12,
        "start_time": "2023-03-17T17:37:40.002Z"
      },
      {
        "duration": 145,
        "start_time": "2023-03-17T17:37:40.016Z"
      },
      {
        "duration": 6,
        "start_time": "2023-03-17T17:37:40.164Z"
      },
      {
        "duration": 8,
        "start_time": "2023-03-17T17:37:40.172Z"
      },
      {
        "duration": 302,
        "start_time": "2023-03-17T17:37:40.182Z"
      },
      {
        "duration": 13,
        "start_time": "2023-03-17T17:37:40.486Z"
      },
      {
        "duration": 280,
        "start_time": "2023-03-17T17:37:40.502Z"
      },
      {
        "duration": 18,
        "start_time": "2023-03-17T17:37:40.784Z"
      },
      {
        "duration": 3,
        "start_time": "2023-03-17T17:37:40.804Z"
      },
      {
        "duration": 15,
        "start_time": "2023-03-17T17:37:40.808Z"
      },
      {
        "duration": 0,
        "start_time": "2023-03-17T17:37:40.826Z"
      },
      {
        "duration": 0,
        "start_time": "2023-03-17T17:37:40.827Z"
      },
      {
        "duration": 0,
        "start_time": "2023-03-17T17:37:40.828Z"
      },
      {
        "duration": 0,
        "start_time": "2023-03-17T17:37:40.829Z"
      },
      {
        "duration": 0,
        "start_time": "2023-03-17T17:37:40.830Z"
      },
      {
        "duration": 0,
        "start_time": "2023-03-17T17:37:40.832Z"
      },
      {
        "duration": 0,
        "start_time": "2023-03-17T17:37:40.833Z"
      },
      {
        "duration": 0,
        "start_time": "2023-03-17T17:37:40.834Z"
      },
      {
        "duration": 0,
        "start_time": "2023-03-17T17:37:40.836Z"
      },
      {
        "duration": 0,
        "start_time": "2023-03-17T17:37:40.836Z"
      },
      {
        "duration": 0,
        "start_time": "2023-03-17T17:37:40.838Z"
      },
      {
        "duration": 0,
        "start_time": "2023-03-17T17:37:40.839Z"
      },
      {
        "duration": 0,
        "start_time": "2023-03-17T17:37:40.840Z"
      },
      {
        "duration": 0,
        "start_time": "2023-03-17T17:37:40.841Z"
      },
      {
        "duration": 0,
        "start_time": "2023-03-17T17:37:40.842Z"
      },
      {
        "duration": 0,
        "start_time": "2023-03-17T17:37:40.843Z"
      },
      {
        "duration": 0,
        "start_time": "2023-03-17T17:37:40.844Z"
      },
      {
        "duration": 0,
        "start_time": "2023-03-17T17:37:40.896Z"
      },
      {
        "duration": 0,
        "start_time": "2023-03-17T17:37:40.897Z"
      },
      {
        "duration": 0,
        "start_time": "2023-03-17T17:37:40.899Z"
      },
      {
        "duration": 0,
        "start_time": "2023-03-17T17:37:40.900Z"
      },
      {
        "duration": 0,
        "start_time": "2023-03-17T17:37:40.901Z"
      },
      {
        "duration": 0,
        "start_time": "2023-03-17T17:37:40.902Z"
      },
      {
        "duration": 0,
        "start_time": "2023-03-17T17:37:40.903Z"
      },
      {
        "duration": 0,
        "start_time": "2023-03-17T17:37:40.905Z"
      },
      {
        "duration": 0,
        "start_time": "2023-03-17T17:37:40.906Z"
      },
      {
        "duration": 316,
        "start_time": "2023-03-17T17:43:17.462Z"
      },
      {
        "duration": 3,
        "start_time": "2023-03-17T17:47:21.760Z"
      },
      {
        "duration": 68,
        "start_time": "2023-03-17T17:47:21.772Z"
      },
      {
        "duration": 22,
        "start_time": "2023-03-17T17:47:21.843Z"
      },
      {
        "duration": 29,
        "start_time": "2023-03-17T17:47:21.867Z"
      },
      {
        "duration": 30,
        "start_time": "2023-03-17T17:47:21.898Z"
      },
      {
        "duration": 10,
        "start_time": "2023-03-17T17:47:21.932Z"
      },
      {
        "duration": 12,
        "start_time": "2023-03-17T17:47:21.944Z"
      },
      {
        "duration": 19,
        "start_time": "2023-03-17T17:47:21.957Z"
      },
      {
        "duration": 17,
        "start_time": "2023-03-17T17:47:21.978Z"
      },
      {
        "duration": 6,
        "start_time": "2023-03-17T17:47:21.998Z"
      },
      {
        "duration": 41,
        "start_time": "2023-03-17T17:47:22.006Z"
      },
      {
        "duration": 19,
        "start_time": "2023-03-17T17:47:22.049Z"
      },
      {
        "duration": 76,
        "start_time": "2023-03-17T17:47:22.070Z"
      },
      {
        "duration": 7,
        "start_time": "2023-03-17T17:47:22.149Z"
      },
      {
        "duration": 42,
        "start_time": "2023-03-17T17:47:22.159Z"
      },
      {
        "duration": 7,
        "start_time": "2023-03-17T17:47:22.203Z"
      },
      {
        "duration": 17,
        "start_time": "2023-03-17T17:47:22.212Z"
      },
      {
        "duration": 15,
        "start_time": "2023-03-17T17:47:22.231Z"
      },
      {
        "duration": 14,
        "start_time": "2023-03-17T17:47:22.248Z"
      },
      {
        "duration": 16,
        "start_time": "2023-03-17T17:47:22.264Z"
      },
      {
        "duration": 214,
        "start_time": "2023-03-17T17:47:22.283Z"
      },
      {
        "duration": 147,
        "start_time": "2023-03-17T17:47:22.498Z"
      },
      {
        "duration": 9,
        "start_time": "2023-03-17T17:47:22.647Z"
      },
      {
        "duration": 142,
        "start_time": "2023-03-17T17:47:22.658Z"
      },
      {
        "duration": 6,
        "start_time": "2023-03-17T17:47:22.802Z"
      },
      {
        "duration": 19,
        "start_time": "2023-03-17T17:47:22.810Z"
      },
      {
        "duration": 287,
        "start_time": "2023-03-17T17:47:22.831Z"
      },
      {
        "duration": 5,
        "start_time": "2023-03-17T17:47:23.120Z"
      },
      {
        "duration": 272,
        "start_time": "2023-03-17T17:47:23.127Z"
      },
      {
        "duration": 10,
        "start_time": "2023-03-17T17:47:23.401Z"
      },
      {
        "duration": 17,
        "start_time": "2023-03-17T17:47:23.412Z"
      },
      {
        "duration": 375,
        "start_time": "2023-03-17T17:47:23.432Z"
      },
      {
        "duration": 4,
        "start_time": "2023-03-17T17:47:23.810Z"
      },
      {
        "duration": 44,
        "start_time": "2023-03-17T17:47:23.816Z"
      },
      {
        "duration": 4,
        "start_time": "2023-03-17T17:47:23.863Z"
      },
      {
        "duration": 305,
        "start_time": "2023-03-17T17:47:23.869Z"
      },
      {
        "duration": 235,
        "start_time": "2023-03-17T17:47:24.176Z"
      },
      {
        "duration": 10,
        "start_time": "2023-03-17T17:47:24.413Z"
      },
      {
        "duration": 171,
        "start_time": "2023-03-17T17:47:24.426Z"
      },
      {
        "duration": 6,
        "start_time": "2023-03-17T17:47:24.599Z"
      },
      {
        "duration": 214,
        "start_time": "2023-03-17T17:47:24.607Z"
      },
      {
        "duration": 6,
        "start_time": "2023-03-17T17:47:24.827Z"
      },
      {
        "duration": 177,
        "start_time": "2023-03-17T17:47:24.835Z"
      },
      {
        "duration": 7,
        "start_time": "2023-03-17T17:47:25.014Z"
      },
      {
        "duration": 248,
        "start_time": "2023-03-17T17:47:25.023Z"
      },
      {
        "duration": 24,
        "start_time": "2023-03-17T17:47:25.273Z"
      },
      {
        "duration": 168,
        "start_time": "2023-03-17T17:47:25.300Z"
      },
      {
        "duration": 7,
        "start_time": "2023-03-17T17:47:25.470Z"
      },
      {
        "duration": 248,
        "start_time": "2023-03-17T17:47:25.479Z"
      },
      {
        "duration": 7,
        "start_time": "2023-03-17T17:47:25.730Z"
      },
      {
        "duration": 196,
        "start_time": "2023-03-17T17:47:25.739Z"
      },
      {
        "duration": 7,
        "start_time": "2023-03-17T17:47:25.937Z"
      },
      {
        "duration": 191,
        "start_time": "2023-03-17T17:47:25.945Z"
      },
      {
        "duration": 7,
        "start_time": "2023-03-17T17:47:26.138Z"
      },
      {
        "duration": 177,
        "start_time": "2023-03-17T17:47:26.147Z"
      },
      {
        "duration": 6,
        "start_time": "2023-03-17T17:47:26.326Z"
      },
      {
        "duration": 20,
        "start_time": "2023-03-17T17:47:26.334Z"
      },
      {
        "duration": 15,
        "start_time": "2023-03-17T17:47:26.356Z"
      },
      {
        "duration": 10,
        "start_time": "2023-03-17T17:48:03.300Z"
      },
      {
        "duration": 3,
        "start_time": "2023-03-17T17:48:20.099Z"
      },
      {
        "duration": 8,
        "start_time": "2023-03-17T17:49:05.219Z"
      },
      {
        "duration": 8,
        "start_time": "2023-03-17T17:49:25.940Z"
      },
      {
        "duration": 5,
        "start_time": "2023-03-17T17:49:57.249Z"
      },
      {
        "duration": 13,
        "start_time": "2023-03-17T17:50:04.773Z"
      },
      {
        "duration": 12,
        "start_time": "2023-03-17T17:50:21.310Z"
      },
      {
        "duration": 9,
        "start_time": "2023-03-17T17:50:33.340Z"
      },
      {
        "duration": 12,
        "start_time": "2023-03-17T17:55:22.637Z"
      },
      {
        "duration": 12,
        "start_time": "2023-03-17T17:55:34.880Z"
      },
      {
        "duration": 12,
        "start_time": "2023-03-17T17:56:13.660Z"
      },
      {
        "duration": 13,
        "start_time": "2023-03-17T17:56:23.760Z"
      },
      {
        "duration": 6,
        "start_time": "2023-03-17T17:57:13.369Z"
      },
      {
        "duration": 12,
        "start_time": "2023-03-17T17:57:18.476Z"
      },
      {
        "duration": 206,
        "start_time": "2023-03-17T17:57:24.140Z"
      },
      {
        "duration": 10,
        "start_time": "2023-03-17T17:57:34.790Z"
      },
      {
        "duration": 206,
        "start_time": "2023-03-17T17:57:47.040Z"
      },
      {
        "duration": 199,
        "start_time": "2023-03-17T17:57:58.810Z"
      },
      {
        "duration": 228,
        "start_time": "2023-03-17T17:58:17.661Z"
      },
      {
        "duration": 248,
        "start_time": "2023-03-17T17:58:24.856Z"
      },
      {
        "duration": 224,
        "start_time": "2023-03-17T17:58:31.658Z"
      },
      {
        "duration": 14,
        "start_time": "2023-03-17T18:09:03.293Z"
      },
      {
        "duration": 10,
        "start_time": "2023-03-17T18:09:34.250Z"
      },
      {
        "duration": 3,
        "start_time": "2023-03-17T18:10:45.898Z"
      },
      {
        "duration": 8,
        "start_time": "2023-03-17T18:12:25.399Z"
      },
      {
        "duration": 8,
        "start_time": "2023-03-17T18:12:40.750Z"
      },
      {
        "duration": 17,
        "start_time": "2023-03-17T18:16:12.478Z"
      },
      {
        "duration": 11,
        "start_time": "2023-03-17T18:18:10.310Z"
      },
      {
        "duration": 17,
        "start_time": "2023-03-17T18:18:15.629Z"
      },
      {
        "duration": 5,
        "start_time": "2023-03-17T19:02:14.864Z"
      },
      {
        "duration": 14,
        "start_time": "2023-03-17T19:02:20.498Z"
      },
      {
        "duration": 4,
        "start_time": "2023-03-17T19:02:27.901Z"
      },
      {
        "duration": 10,
        "start_time": "2023-03-17T19:02:28.574Z"
      },
      {
        "duration": 5,
        "start_time": "2023-03-17T19:04:40.563Z"
      },
      {
        "duration": 16,
        "start_time": "2023-03-17T19:04:44.061Z"
      },
      {
        "duration": 7,
        "start_time": "2023-03-17T19:05:24.576Z"
      },
      {
        "duration": 18,
        "start_time": "2023-03-17T19:05:26.893Z"
      },
      {
        "duration": 4,
        "start_time": "2023-03-17T19:05:49.754Z"
      },
      {
        "duration": 12,
        "start_time": "2023-03-17T19:05:51.902Z"
      },
      {
        "duration": 10,
        "start_time": "2023-03-17T19:06:19.296Z"
      },
      {
        "duration": 4,
        "start_time": "2023-03-17T19:06:34.093Z"
      },
      {
        "duration": 5,
        "start_time": "2023-03-17T19:06:40.024Z"
      },
      {
        "duration": 4,
        "start_time": "2023-03-17T19:06:40.652Z"
      },
      {
        "duration": 4,
        "start_time": "2023-03-17T19:06:41.004Z"
      },
      {
        "duration": 13,
        "start_time": "2023-03-17T19:06:43.214Z"
      },
      {
        "duration": 51,
        "start_time": "2023-03-17T19:06:49.264Z"
      },
      {
        "duration": 3,
        "start_time": "2023-03-17T19:07:03.293Z"
      },
      {
        "duration": 4,
        "start_time": "2023-03-17T19:07:03.867Z"
      },
      {
        "duration": 4,
        "start_time": "2023-03-17T19:07:04.304Z"
      },
      {
        "duration": 10,
        "start_time": "2023-03-17T19:07:05.078Z"
      },
      {
        "duration": 9,
        "start_time": "2023-03-17T19:07:50.657Z"
      },
      {
        "duration": 19,
        "start_time": "2023-03-17T19:07:59.504Z"
      },
      {
        "duration": 4,
        "start_time": "2023-03-17T19:08:00.465Z"
      },
      {
        "duration": 4,
        "start_time": "2023-03-17T19:08:01.066Z"
      },
      {
        "duration": 5,
        "start_time": "2023-03-17T19:08:01.776Z"
      },
      {
        "duration": 8,
        "start_time": "2023-03-17T19:08:02.765Z"
      },
      {
        "duration": 12,
        "start_time": "2023-03-17T19:09:49.078Z"
      },
      {
        "duration": 6,
        "start_time": "2023-03-17T19:10:14.997Z"
      },
      {
        "duration": 12,
        "start_time": "2023-03-17T19:10:19.082Z"
      },
      {
        "duration": 4,
        "start_time": "2023-03-17T19:10:30.509Z"
      },
      {
        "duration": 9,
        "start_time": "2023-03-17T19:10:35.133Z"
      },
      {
        "duration": 7,
        "start_time": "2023-03-17T19:10:35.918Z"
      },
      {
        "duration": 17,
        "start_time": "2023-03-17T19:11:03.858Z"
      },
      {
        "duration": 5,
        "start_time": "2023-03-17T19:11:04.794Z"
      },
      {
        "duration": 4,
        "start_time": "2023-03-17T19:11:06.254Z"
      },
      {
        "duration": 4,
        "start_time": "2023-03-17T19:11:06.793Z"
      },
      {
        "duration": 3,
        "start_time": "2023-03-17T19:11:07.806Z"
      },
      {
        "duration": 8,
        "start_time": "2023-03-17T19:11:08.309Z"
      },
      {
        "duration": 9,
        "start_time": "2023-03-17T19:11:08.969Z"
      },
      {
        "duration": 8,
        "start_time": "2023-03-17T19:11:53.052Z"
      },
      {
        "duration": 19,
        "start_time": "2023-03-17T19:12:12.502Z"
      },
      {
        "duration": 3,
        "start_time": "2023-03-17T19:12:24.301Z"
      },
      {
        "duration": 59,
        "start_time": "2023-03-17T19:12:24.306Z"
      },
      {
        "duration": 18,
        "start_time": "2023-03-17T19:12:24.366Z"
      },
      {
        "duration": 27,
        "start_time": "2023-03-17T19:12:24.386Z"
      },
      {
        "duration": 29,
        "start_time": "2023-03-17T19:12:24.415Z"
      },
      {
        "duration": 11,
        "start_time": "2023-03-17T19:12:24.446Z"
      },
      {
        "duration": 21,
        "start_time": "2023-03-17T19:12:24.459Z"
      },
      {
        "duration": 8,
        "start_time": "2023-03-17T19:12:24.482Z"
      },
      {
        "duration": 13,
        "start_time": "2023-03-17T19:12:24.492Z"
      },
      {
        "duration": 5,
        "start_time": "2023-03-17T19:12:24.507Z"
      },
      {
        "duration": 21,
        "start_time": "2023-03-17T19:12:24.514Z"
      },
      {
        "duration": 20,
        "start_time": "2023-03-17T19:12:24.537Z"
      },
      {
        "duration": 9,
        "start_time": "2023-03-17T19:12:24.558Z"
      },
      {
        "duration": 20,
        "start_time": "2023-03-17T19:12:24.572Z"
      },
      {
        "duration": 139,
        "start_time": "2023-03-17T19:12:24.594Z"
      },
      {
        "duration": 7,
        "start_time": "2023-03-17T19:12:24.735Z"
      },
      {
        "duration": 13,
        "start_time": "2023-03-17T19:12:24.744Z"
      },
      {
        "duration": 4,
        "start_time": "2023-03-17T19:12:24.759Z"
      },
      {
        "duration": 11,
        "start_time": "2023-03-17T19:12:24.765Z"
      },
      {
        "duration": 24,
        "start_time": "2023-03-17T19:12:24.778Z"
      },
      {
        "duration": 166,
        "start_time": "2023-03-17T19:12:24.803Z"
      },
      {
        "duration": 155,
        "start_time": "2023-03-17T19:12:24.971Z"
      },
      {
        "duration": 8,
        "start_time": "2023-03-17T19:12:25.127Z"
      },
      {
        "duration": 137,
        "start_time": "2023-03-17T19:12:25.137Z"
      },
      {
        "duration": 19,
        "start_time": "2023-03-17T19:12:25.276Z"
      },
      {
        "duration": 3,
        "start_time": "2023-03-17T19:12:25.297Z"
      },
      {
        "duration": 272,
        "start_time": "2023-03-17T19:12:25.302Z"
      },
      {
        "duration": 5,
        "start_time": "2023-03-17T19:12:25.576Z"
      },
      {
        "duration": 270,
        "start_time": "2023-03-17T19:12:25.583Z"
      },
      {
        "duration": 9,
        "start_time": "2023-03-17T19:12:25.854Z"
      },
      {
        "duration": 7,
        "start_time": "2023-03-17T19:12:25.864Z"
      },
      {
        "duration": 287,
        "start_time": "2023-03-17T19:12:25.873Z"
      },
      {
        "duration": 3,
        "start_time": "2023-03-17T19:12:26.162Z"
      },
      {
        "duration": 30,
        "start_time": "2023-03-17T19:12:26.166Z"
      },
      {
        "duration": 2,
        "start_time": "2023-03-17T19:12:26.198Z"
      },
      {
        "duration": 227,
        "start_time": "2023-03-17T19:12:26.202Z"
      },
      {
        "duration": 155,
        "start_time": "2023-03-17T19:12:26.431Z"
      },
      {
        "duration": 11,
        "start_time": "2023-03-17T19:12:26.587Z"
      },
      {
        "duration": 145,
        "start_time": "2023-03-17T19:12:26.600Z"
      },
      {
        "duration": 5,
        "start_time": "2023-03-17T19:12:26.747Z"
      },
      {
        "duration": 158,
        "start_time": "2023-03-17T19:12:26.757Z"
      },
      {
        "duration": 6,
        "start_time": "2023-03-17T19:12:26.916Z"
      },
      {
        "duration": 152,
        "start_time": "2023-03-17T19:12:26.923Z"
      },
      {
        "duration": 4,
        "start_time": "2023-03-17T19:12:27.077Z"
      },
      {
        "duration": 156,
        "start_time": "2023-03-17T19:12:27.083Z"
      },
      {
        "duration": 5,
        "start_time": "2023-03-17T19:12:27.240Z"
      },
      {
        "duration": 150,
        "start_time": "2023-03-17T19:12:27.247Z"
      },
      {
        "duration": 5,
        "start_time": "2023-03-17T19:12:27.399Z"
      },
      {
        "duration": 161,
        "start_time": "2023-03-17T19:12:27.405Z"
      },
      {
        "duration": 6,
        "start_time": "2023-03-17T19:12:27.568Z"
      },
      {
        "duration": 176,
        "start_time": "2023-03-17T19:12:27.576Z"
      },
      {
        "duration": 6,
        "start_time": "2023-03-17T19:12:27.755Z"
      },
      {
        "duration": 151,
        "start_time": "2023-03-17T19:12:27.762Z"
      },
      {
        "duration": 5,
        "start_time": "2023-03-17T19:12:27.914Z"
      },
      {
        "duration": 157,
        "start_time": "2023-03-17T19:12:27.921Z"
      },
      {
        "duration": 14,
        "start_time": "2023-03-17T19:12:28.081Z"
      },
      {
        "duration": 14,
        "start_time": "2023-03-17T19:12:28.096Z"
      },
      {
        "duration": 391,
        "start_time": "2023-03-17T19:12:28.111Z"
      },
      {
        "duration": 15,
        "start_time": "2023-03-17T19:12:28.504Z"
      },
      {
        "duration": 25,
        "start_time": "2023-03-17T19:12:28.521Z"
      },
      {
        "duration": 25,
        "start_time": "2023-03-17T19:12:28.548Z"
      },
      {
        "duration": 14,
        "start_time": "2023-03-17T19:12:28.575Z"
      },
      {
        "duration": 11,
        "start_time": "2023-03-17T19:12:28.591Z"
      },
      {
        "duration": 12,
        "start_time": "2023-03-17T19:12:28.604Z"
      },
      {
        "duration": 14,
        "start_time": "2023-03-17T19:12:28.617Z"
      },
      {
        "duration": 5,
        "start_time": "2023-03-17T19:16:35.366Z"
      },
      {
        "duration": 3,
        "start_time": "2023-03-17T19:17:11.373Z"
      },
      {
        "duration": 26,
        "start_time": "2023-03-17T19:17:54.796Z"
      },
      {
        "duration": 17,
        "start_time": "2023-03-17T19:18:18.126Z"
      },
      {
        "duration": 4,
        "start_time": "2023-03-17T19:18:19.373Z"
      },
      {
        "duration": 5,
        "start_time": "2023-03-17T19:18:20.834Z"
      },
      {
        "duration": 6,
        "start_time": "2023-03-17T19:18:21.423Z"
      },
      {
        "duration": 12,
        "start_time": "2023-03-17T19:18:22.505Z"
      },
      {
        "duration": 18,
        "start_time": "2023-03-17T19:18:37.627Z"
      },
      {
        "duration": 18,
        "start_time": "2023-03-17T19:19:05.624Z"
      },
      {
        "duration": 8,
        "start_time": "2023-03-17T19:19:38.154Z"
      },
      {
        "duration": 11,
        "start_time": "2023-03-17T19:19:42.395Z"
      },
      {
        "duration": 6,
        "start_time": "2023-03-17T19:20:04.954Z"
      },
      {
        "duration": 12,
        "start_time": "2023-03-17T19:20:05.593Z"
      },
      {
        "duration": 7,
        "start_time": "2023-03-17T19:20:49.542Z"
      },
      {
        "duration": 13,
        "start_time": "2023-03-17T19:20:50.621Z"
      },
      {
        "duration": 19,
        "start_time": "2023-03-17T19:21:53.814Z"
      },
      {
        "duration": 22,
        "start_time": "2023-03-17T19:22:11.775Z"
      },
      {
        "duration": 9,
        "start_time": "2023-03-17T19:22:53.092Z"
      },
      {
        "duration": 11,
        "start_time": "2023-03-17T19:22:57.116Z"
      },
      {
        "duration": 12,
        "start_time": "2023-03-17T19:30:36.426Z"
      },
      {
        "duration": 10,
        "start_time": "2023-03-17T19:30:56.214Z"
      },
      {
        "duration": 5,
        "start_time": "2023-03-17T19:31:23.615Z"
      },
      {
        "duration": 12,
        "start_time": "2023-03-17T19:31:28.489Z"
      },
      {
        "duration": 175,
        "start_time": "2023-03-17T19:31:43.795Z"
      },
      {
        "duration": 194,
        "start_time": "2023-03-17T19:32:35.746Z"
      },
      {
        "duration": 2,
        "start_time": "2023-03-17T19:32:56.648Z"
      },
      {
        "duration": 55,
        "start_time": "2023-03-17T19:32:56.652Z"
      },
      {
        "duration": 15,
        "start_time": "2023-03-17T19:32:56.709Z"
      },
      {
        "duration": 13,
        "start_time": "2023-03-17T19:32:56.725Z"
      },
      {
        "duration": 25,
        "start_time": "2023-03-17T19:32:56.740Z"
      },
      {
        "duration": 6,
        "start_time": "2023-03-17T19:32:56.768Z"
      },
      {
        "duration": 6,
        "start_time": "2023-03-17T19:32:56.776Z"
      },
      {
        "duration": 6,
        "start_time": "2023-03-17T19:32:56.796Z"
      },
      {
        "duration": 9,
        "start_time": "2023-03-17T19:32:56.804Z"
      },
      {
        "duration": 6,
        "start_time": "2023-03-17T19:32:56.815Z"
      },
      {
        "duration": 23,
        "start_time": "2023-03-17T19:32:56.823Z"
      },
      {
        "duration": 23,
        "start_time": "2023-03-17T19:32:56.848Z"
      },
      {
        "duration": 27,
        "start_time": "2023-03-17T19:32:56.873Z"
      },
      {
        "duration": 15,
        "start_time": "2023-03-17T19:32:56.904Z"
      },
      {
        "duration": 24,
        "start_time": "2023-03-17T19:32:56.921Z"
      },
      {
        "duration": 7,
        "start_time": "2023-03-17T19:32:56.947Z"
      },
      {
        "duration": 12,
        "start_time": "2023-03-17T19:32:56.956Z"
      },
      {
        "duration": 29,
        "start_time": "2023-03-17T19:32:56.970Z"
      },
      {
        "duration": 13,
        "start_time": "2023-03-17T19:32:57.001Z"
      },
      {
        "duration": 10,
        "start_time": "2023-03-17T19:32:57.016Z"
      },
      {
        "duration": 167,
        "start_time": "2023-03-17T19:32:57.028Z"
      },
      {
        "duration": 145,
        "start_time": "2023-03-17T19:32:57.197Z"
      },
      {
        "duration": 10,
        "start_time": "2023-03-17T19:32:57.344Z"
      },
      {
        "duration": 147,
        "start_time": "2023-03-17T19:32:57.357Z"
      },
      {
        "duration": 6,
        "start_time": "2023-03-17T19:32:57.506Z"
      },
      {
        "duration": 6,
        "start_time": "2023-03-17T19:32:57.513Z"
      },
      {
        "duration": 275,
        "start_time": "2023-03-17T19:32:57.520Z"
      },
      {
        "duration": 6,
        "start_time": "2023-03-17T19:32:57.796Z"
      },
      {
        "duration": 274,
        "start_time": "2023-03-17T19:32:57.803Z"
      },
      {
        "duration": 19,
        "start_time": "2023-03-17T19:32:58.079Z"
      },
      {
        "duration": 4,
        "start_time": "2023-03-17T19:32:58.099Z"
      },
      {
        "duration": 263,
        "start_time": "2023-03-17T19:32:58.104Z"
      },
      {
        "duration": 3,
        "start_time": "2023-03-17T19:32:58.369Z"
      },
      {
        "duration": 32,
        "start_time": "2023-03-17T19:32:58.374Z"
      },
      {
        "duration": 2,
        "start_time": "2023-03-17T19:32:58.408Z"
      },
      {
        "duration": 208,
        "start_time": "2023-03-17T19:32:58.411Z"
      },
      {
        "duration": 151,
        "start_time": "2023-03-17T19:32:58.621Z"
      },
      {
        "duration": 5,
        "start_time": "2023-03-17T19:32:58.774Z"
      },
      {
        "duration": 151,
        "start_time": "2023-03-17T19:32:58.780Z"
      },
      {
        "duration": 5,
        "start_time": "2023-03-17T19:32:58.932Z"
      },
      {
        "duration": 167,
        "start_time": "2023-03-17T19:32:58.940Z"
      },
      {
        "duration": 5,
        "start_time": "2023-03-17T19:32:59.109Z"
      },
      {
        "duration": 154,
        "start_time": "2023-03-17T19:32:59.115Z"
      },
      {
        "duration": 5,
        "start_time": "2023-03-17T19:32:59.271Z"
      },
      {
        "duration": 150,
        "start_time": "2023-03-17T19:32:59.277Z"
      },
      {
        "duration": 6,
        "start_time": "2023-03-17T19:32:59.428Z"
      },
      {
        "duration": 146,
        "start_time": "2023-03-17T19:32:59.435Z"
      },
      {
        "duration": 15,
        "start_time": "2023-03-17T19:32:59.583Z"
      },
      {
        "duration": 157,
        "start_time": "2023-03-17T19:32:59.599Z"
      },
      {
        "duration": 5,
        "start_time": "2023-03-17T19:32:59.758Z"
      },
      {
        "duration": 160,
        "start_time": "2023-03-17T19:32:59.764Z"
      },
      {
        "duration": 5,
        "start_time": "2023-03-17T19:32:59.926Z"
      },
      {
        "duration": 175,
        "start_time": "2023-03-17T19:32:59.932Z"
      },
      {
        "duration": 5,
        "start_time": "2023-03-17T19:33:00.109Z"
      },
      {
        "duration": 395,
        "start_time": "2023-03-17T19:33:00.116Z"
      },
      {
        "duration": 6,
        "start_time": "2023-03-17T19:33:00.512Z"
      },
      {
        "duration": 27,
        "start_time": "2023-03-17T19:33:00.520Z"
      },
      {
        "duration": 291,
        "start_time": "2023-03-17T19:33:00.549Z"
      },
      {
        "duration": 17,
        "start_time": "2023-03-17T19:33:00.842Z"
      },
      {
        "duration": 28,
        "start_time": "2023-03-17T19:33:00.861Z"
      },
      {
        "duration": 38,
        "start_time": "2023-03-17T19:33:00.891Z"
      },
      {
        "duration": 32,
        "start_time": "2023-03-17T19:33:00.931Z"
      },
      {
        "duration": 33,
        "start_time": "2023-03-17T19:33:00.965Z"
      },
      {
        "duration": 28,
        "start_time": "2023-03-17T19:33:00.999Z"
      },
      {
        "duration": 40,
        "start_time": "2023-03-17T19:33:01.030Z"
      },
      {
        "duration": 68,
        "start_time": "2023-03-17T19:33:01.072Z"
      },
      {
        "duration": 34,
        "start_time": "2023-03-17T19:33:01.142Z"
      },
      {
        "duration": 42,
        "start_time": "2023-03-17T19:33:01.178Z"
      },
      {
        "duration": 213,
        "start_time": "2023-03-17T19:33:01.223Z"
      },
      {
        "duration": 8,
        "start_time": "2023-03-17T19:33:01.438Z"
      },
      {
        "duration": 27,
        "start_time": "2023-03-17T19:33:01.447Z"
      },
      {
        "duration": 51,
        "start_time": "2023-03-17T19:33:01.476Z"
      },
      {
        "duration": 203,
        "start_time": "2023-03-17T19:33:01.529Z"
      },
      {
        "duration": 173,
        "start_time": "2023-03-17T19:35:02.901Z"
      },
      {
        "duration": 263,
        "start_time": "2023-03-17T19:35:38.155Z"
      },
      {
        "duration": 246,
        "start_time": "2023-03-17T19:36:01.876Z"
      },
      {
        "duration": 248,
        "start_time": "2023-03-17T19:36:07.533Z"
      },
      {
        "duration": 214,
        "start_time": "2023-03-17T19:36:22.884Z"
      },
      {
        "duration": 233,
        "start_time": "2023-03-17T19:36:34.874Z"
      },
      {
        "duration": 273,
        "start_time": "2023-03-17T19:36:42.854Z"
      },
      {
        "duration": 210,
        "start_time": "2023-03-17T19:37:07.090Z"
      },
      {
        "duration": 182,
        "start_time": "2023-03-17T19:37:12.317Z"
      },
      {
        "duration": 9,
        "start_time": "2023-03-17T20:44:48.004Z"
      },
      {
        "duration": 46,
        "start_time": "2023-03-17T21:01:57.660Z"
      },
      {
        "duration": 9,
        "start_time": "2023-03-17T21:03:23.651Z"
      },
      {
        "duration": 400,
        "start_time": "2023-03-17T21:03:52.821Z"
      },
      {
        "duration": 56,
        "start_time": "2023-03-17T21:03:59.599Z"
      },
      {
        "duration": 32,
        "start_time": "2023-03-17T21:04:22.828Z"
      },
      {
        "duration": 3,
        "start_time": "2023-03-17T21:04:33.227Z"
      },
      {
        "duration": 82,
        "start_time": "2023-03-17T21:04:33.232Z"
      },
      {
        "duration": 16,
        "start_time": "2023-03-17T21:04:33.316Z"
      },
      {
        "duration": 14,
        "start_time": "2023-03-17T21:04:33.333Z"
      },
      {
        "duration": 16,
        "start_time": "2023-03-17T21:04:33.349Z"
      },
      {
        "duration": 18,
        "start_time": "2023-03-17T21:04:33.367Z"
      },
      {
        "duration": 4,
        "start_time": "2023-03-17T21:04:33.387Z"
      },
      {
        "duration": 7,
        "start_time": "2023-03-17T21:04:33.392Z"
      },
      {
        "duration": 6,
        "start_time": "2023-03-17T21:04:33.400Z"
      },
      {
        "duration": 4,
        "start_time": "2023-03-17T21:04:33.408Z"
      },
      {
        "duration": 13,
        "start_time": "2023-03-17T21:04:33.414Z"
      },
      {
        "duration": 17,
        "start_time": "2023-03-17T21:04:33.428Z"
      },
      {
        "duration": 7,
        "start_time": "2023-03-17T21:04:33.447Z"
      },
      {
        "duration": 6,
        "start_time": "2023-03-17T21:04:33.457Z"
      },
      {
        "duration": 45,
        "start_time": "2023-03-17T21:04:33.464Z"
      },
      {
        "duration": 8,
        "start_time": "2023-03-17T21:04:33.510Z"
      },
      {
        "duration": 14,
        "start_time": "2023-03-17T21:04:33.520Z"
      },
      {
        "duration": 5,
        "start_time": "2023-03-17T21:04:33.536Z"
      },
      {
        "duration": 6,
        "start_time": "2023-03-17T21:04:33.542Z"
      },
      {
        "duration": 8,
        "start_time": "2023-03-17T21:04:33.550Z"
      },
      {
        "duration": 337,
        "start_time": "2023-03-17T21:04:33.560Z"
      },
      {
        "duration": 191,
        "start_time": "2023-03-17T21:04:33.898Z"
      },
      {
        "duration": 12,
        "start_time": "2023-03-17T21:04:34.091Z"
      },
      {
        "duration": 166,
        "start_time": "2023-03-17T21:04:34.105Z"
      },
      {
        "duration": 7,
        "start_time": "2023-03-17T21:04:34.273Z"
      },
      {
        "duration": 15,
        "start_time": "2023-03-17T21:04:34.282Z"
      },
      {
        "duration": 270,
        "start_time": "2023-03-17T21:04:34.299Z"
      },
      {
        "duration": 7,
        "start_time": "2023-03-17T21:04:34.571Z"
      },
      {
        "duration": 275,
        "start_time": "2023-03-17T21:04:34.580Z"
      },
      {
        "duration": 10,
        "start_time": "2023-03-17T21:04:34.857Z"
      },
      {
        "duration": 4,
        "start_time": "2023-03-17T21:04:34.869Z"
      },
      {
        "duration": 291,
        "start_time": "2023-03-17T21:04:34.875Z"
      },
      {
        "duration": 4,
        "start_time": "2023-03-17T21:04:35.169Z"
      },
      {
        "duration": 32,
        "start_time": "2023-03-17T21:04:35.175Z"
      },
      {
        "duration": 5,
        "start_time": "2023-03-17T21:04:35.209Z"
      },
      {
        "duration": 216,
        "start_time": "2023-03-17T21:04:35.217Z"
      },
      {
        "duration": 152,
        "start_time": "2023-03-17T21:04:35.435Z"
      },
      {
        "duration": 6,
        "start_time": "2023-03-17T21:04:35.594Z"
      },
      {
        "duration": 169,
        "start_time": "2023-03-17T21:04:35.603Z"
      },
      {
        "duration": 5,
        "start_time": "2023-03-17T21:04:35.774Z"
      },
      {
        "duration": 155,
        "start_time": "2023-03-17T21:04:35.794Z"
      },
      {
        "duration": 7,
        "start_time": "2023-03-17T21:04:35.951Z"
      },
      {
        "duration": 208,
        "start_time": "2023-03-17T21:04:35.960Z"
      },
      {
        "duration": 6,
        "start_time": "2023-03-17T21:04:36.169Z"
      },
      {
        "duration": 161,
        "start_time": "2023-03-17T21:04:36.177Z"
      },
      {
        "duration": 5,
        "start_time": "2023-03-17T21:04:36.340Z"
      },
      {
        "duration": 151,
        "start_time": "2023-03-17T21:04:36.347Z"
      },
      {
        "duration": 5,
        "start_time": "2023-03-17T21:04:36.500Z"
      },
      {
        "duration": 151,
        "start_time": "2023-03-17T21:04:36.507Z"
      },
      {
        "duration": 5,
        "start_time": "2023-03-17T21:04:36.659Z"
      },
      {
        "duration": 151,
        "start_time": "2023-03-17T21:04:36.666Z"
      },
      {
        "duration": 6,
        "start_time": "2023-03-17T21:04:36.819Z"
      },
      {
        "duration": 170,
        "start_time": "2023-03-17T21:04:36.827Z"
      },
      {
        "duration": 5,
        "start_time": "2023-03-17T21:04:36.999Z"
      },
      {
        "duration": 155,
        "start_time": "2023-03-17T21:04:37.006Z"
      },
      {
        "duration": 5,
        "start_time": "2023-03-17T21:04:37.163Z"
      },
      {
        "duration": 28,
        "start_time": "2023-03-17T21:04:37.169Z"
      },
      {
        "duration": 238,
        "start_time": "2023-03-17T21:04:37.198Z"
      },
      {
        "duration": 15,
        "start_time": "2023-03-17T21:04:37.437Z"
      },
      {
        "duration": 8,
        "start_time": "2023-03-17T21:04:37.454Z"
      },
      {
        "duration": 248,
        "start_time": "2023-03-17T21:04:37.463Z"
      },
      {
        "duration": 5,
        "start_time": "2023-03-17T21:04:37.712Z"
      },
      {
        "duration": 8,
        "start_time": "2023-03-17T21:04:37.718Z"
      },
      {
        "duration": 8,
        "start_time": "2023-03-17T21:04:37.728Z"
      },
      {
        "duration": 41,
        "start_time": "2023-03-17T21:04:37.738Z"
      },
      {
        "duration": 246,
        "start_time": "2023-03-17T21:04:37.781Z"
      },
      {
        "duration": 8,
        "start_time": "2023-03-17T21:04:38.028Z"
      },
      {
        "duration": 21,
        "start_time": "2023-03-17T21:04:38.037Z"
      },
      {
        "duration": 225,
        "start_time": "2023-03-17T21:04:38.060Z"
      },
      {
        "duration": 12,
        "start_time": "2023-03-17T21:04:38.287Z"
      },
      {
        "duration": 14,
        "start_time": "2023-03-17T21:04:38.301Z"
      },
      {
        "duration": 12,
        "start_time": "2023-03-17T21:04:38.317Z"
      },
      {
        "duration": 9,
        "start_time": "2023-03-17T21:04:38.330Z"
      },
      {
        "duration": 28,
        "start_time": "2023-03-17T21:04:38.340Z"
      },
      {
        "duration": 12,
        "start_time": "2023-03-17T21:05:23.208Z"
      },
      {
        "duration": 11,
        "start_time": "2023-03-17T21:06:09.179Z"
      },
      {
        "duration": 8,
        "start_time": "2023-03-17T21:07:23.678Z"
      },
      {
        "duration": 15,
        "start_time": "2023-03-17T21:08:26.001Z"
      },
      {
        "duration": 8,
        "start_time": "2023-03-17T21:12:16.910Z"
      },
      {
        "duration": 11,
        "start_time": "2023-03-17T21:13:00.303Z"
      },
      {
        "duration": 10,
        "start_time": "2023-03-17T21:13:49.528Z"
      },
      {
        "duration": 12,
        "start_time": "2023-03-17T21:14:05.660Z"
      },
      {
        "duration": 1474,
        "start_time": "2023-03-18T19:19:32.211Z"
      },
      {
        "duration": 194,
        "start_time": "2023-03-18T19:19:33.688Z"
      },
      {
        "duration": 30,
        "start_time": "2023-03-18T19:19:33.889Z"
      },
      {
        "duration": 77,
        "start_time": "2023-03-18T19:19:33.922Z"
      },
      {
        "duration": 146,
        "start_time": "2023-03-18T19:19:34.002Z"
      },
      {
        "duration": 66,
        "start_time": "2023-03-18T19:19:34.151Z"
      },
      {
        "duration": 85,
        "start_time": "2023-03-18T19:19:34.219Z"
      },
      {
        "duration": 7,
        "start_time": "2023-03-18T19:19:34.306Z"
      },
      {
        "duration": 62,
        "start_time": "2023-03-18T19:19:34.315Z"
      },
      {
        "duration": 28,
        "start_time": "2023-03-18T19:19:34.381Z"
      },
      {
        "duration": 47,
        "start_time": "2023-03-18T19:19:34.412Z"
      },
      {
        "duration": 69,
        "start_time": "2023-03-18T19:19:34.462Z"
      },
      {
        "duration": 65,
        "start_time": "2023-03-18T19:19:34.533Z"
      },
      {
        "duration": 74,
        "start_time": "2023-03-18T19:19:34.609Z"
      },
      {
        "duration": 42,
        "start_time": "2023-03-18T19:19:34.685Z"
      },
      {
        "duration": 79,
        "start_time": "2023-03-18T19:19:34.728Z"
      },
      {
        "duration": 33,
        "start_time": "2023-03-18T19:19:34.809Z"
      },
      {
        "duration": 64,
        "start_time": "2023-03-18T19:19:34.844Z"
      },
      {
        "duration": 28,
        "start_time": "2023-03-18T19:19:34.910Z"
      },
      {
        "duration": 81,
        "start_time": "2023-03-18T19:19:34.939Z"
      },
      {
        "duration": 260,
        "start_time": "2023-03-18T19:19:35.023Z"
      },
      {
        "duration": 197,
        "start_time": "2023-03-18T19:19:35.285Z"
      },
      {
        "duration": 17,
        "start_time": "2023-03-18T19:19:35.493Z"
      },
      {
        "duration": 266,
        "start_time": "2023-03-18T19:19:35.514Z"
      },
      {
        "duration": 9,
        "start_time": "2023-03-18T19:19:35.792Z"
      },
      {
        "duration": 70,
        "start_time": "2023-03-18T19:19:35.803Z"
      },
      {
        "duration": 419,
        "start_time": "2023-03-18T19:19:35.886Z"
      },
      {
        "duration": 10,
        "start_time": "2023-03-18T19:19:36.307Z"
      },
      {
        "duration": 439,
        "start_time": "2023-03-18T19:19:36.319Z"
      },
      {
        "duration": 10,
        "start_time": "2023-03-18T19:19:36.760Z"
      },
      {
        "duration": 131,
        "start_time": "2023-03-18T19:19:36.772Z"
      },
      {
        "duration": 364,
        "start_time": "2023-03-18T19:19:36.904Z"
      },
      {
        "duration": 7,
        "start_time": "2023-03-18T19:19:37.270Z"
      },
      {
        "duration": 142,
        "start_time": "2023-03-18T19:19:37.278Z"
      },
      {
        "duration": 50,
        "start_time": "2023-03-18T19:19:37.422Z"
      },
      {
        "duration": 407,
        "start_time": "2023-03-18T19:19:37.475Z"
      },
      {
        "duration": 226,
        "start_time": "2023-03-18T19:19:37.892Z"
      },
      {
        "duration": 15,
        "start_time": "2023-03-18T19:19:38.122Z"
      },
      {
        "duration": 321,
        "start_time": "2023-03-18T19:19:38.146Z"
      },
      {
        "duration": 10,
        "start_time": "2023-03-18T19:19:38.472Z"
      },
      {
        "duration": 269,
        "start_time": "2023-03-18T19:19:38.490Z"
      },
      {
        "duration": 8,
        "start_time": "2023-03-18T19:19:38.763Z"
      },
      {
        "duration": 235,
        "start_time": "2023-03-18T19:19:38.776Z"
      },
      {
        "duration": 6,
        "start_time": "2023-03-18T19:19:39.015Z"
      },
      {
        "duration": 197,
        "start_time": "2023-03-18T19:19:39.023Z"
      },
      {
        "duration": 7,
        "start_time": "2023-03-18T19:19:39.222Z"
      },
      {
        "duration": 224,
        "start_time": "2023-03-18T19:19:39.240Z"
      },
      {
        "duration": 8,
        "start_time": "2023-03-18T19:19:39.468Z"
      },
      {
        "duration": 228,
        "start_time": "2023-03-18T19:19:39.481Z"
      },
      {
        "duration": 6,
        "start_time": "2023-03-18T19:19:39.715Z"
      },
      {
        "duration": 189,
        "start_time": "2023-03-18T19:19:39.723Z"
      },
      {
        "duration": 7,
        "start_time": "2023-03-18T19:19:39.914Z"
      },
      {
        "duration": 240,
        "start_time": "2023-03-18T19:19:39.923Z"
      },
      {
        "duration": 28,
        "start_time": "2023-03-18T19:19:40.171Z"
      },
      {
        "duration": 199,
        "start_time": "2023-03-18T19:19:40.207Z"
      },
      {
        "duration": 6,
        "start_time": "2023-03-18T19:19:40.413Z"
      },
      {
        "duration": 22,
        "start_time": "2023-03-18T19:19:40.421Z"
      },
      {
        "duration": 342,
        "start_time": "2023-03-18T19:19:40.445Z"
      },
      {
        "duration": 29,
        "start_time": "2023-03-18T19:19:40.790Z"
      },
      {
        "duration": 9,
        "start_time": "2023-03-18T19:19:40.821Z"
      },
      {
        "duration": 404,
        "start_time": "2023-03-18T19:19:40.835Z"
      },
      {
        "duration": 4,
        "start_time": "2023-03-18T19:19:41.241Z"
      },
      {
        "duration": 70,
        "start_time": "2023-03-18T19:19:41.247Z"
      },
      {
        "duration": 8,
        "start_time": "2023-03-18T19:19:41.319Z"
      },
      {
        "duration": 86,
        "start_time": "2023-03-18T19:19:41.328Z"
      },
      {
        "duration": 383,
        "start_time": "2023-03-18T19:19:41.417Z"
      },
      {
        "duration": 16,
        "start_time": "2023-03-18T19:19:41.802Z"
      },
      {
        "duration": 95,
        "start_time": "2023-03-18T19:19:41.821Z"
      },
      {
        "duration": 341,
        "start_time": "2023-03-18T19:19:41.919Z"
      },
      {
        "duration": 8,
        "start_time": "2023-03-18T19:19:42.262Z"
      },
      {
        "duration": 66,
        "start_time": "2023-03-18T19:19:42.271Z"
      },
      {
        "duration": 77,
        "start_time": "2023-03-18T19:19:42.339Z"
      },
      {
        "duration": 7,
        "start_time": "2023-03-18T19:19:42.418Z"
      },
      {
        "duration": 81,
        "start_time": "2023-03-18T19:19:42.427Z"
      },
      {
        "duration": 9,
        "start_time": "2023-03-18T19:19:42.510Z"
      },
      {
        "duration": 27,
        "start_time": "2023-03-18T19:19:42.520Z"
      },
      {
        "duration": 6,
        "start_time": "2023-03-18T19:41:34.931Z"
      },
      {
        "duration": 5,
        "start_time": "2023-03-18T19:41:49.058Z"
      },
      {
        "duration": 135,
        "start_time": "2023-03-18T19:41:49.068Z"
      },
      {
        "duration": 28,
        "start_time": "2023-03-18T19:41:49.208Z"
      },
      {
        "duration": 7,
        "start_time": "2023-03-18T19:41:49.238Z"
      },
      {
        "duration": 79,
        "start_time": "2023-03-18T19:41:49.248Z"
      },
      {
        "duration": 24,
        "start_time": "2023-03-18T19:41:49.329Z"
      },
      {
        "duration": 48,
        "start_time": "2023-03-18T19:41:49.359Z"
      },
      {
        "duration": 6,
        "start_time": "2023-03-18T19:41:49.408Z"
      },
      {
        "duration": 4,
        "start_time": "2023-03-18T19:41:49.416Z"
      },
      {
        "duration": 6,
        "start_time": "2023-03-18T19:41:49.422Z"
      },
      {
        "duration": 82,
        "start_time": "2023-03-18T19:41:49.430Z"
      },
      {
        "duration": 33,
        "start_time": "2023-03-18T19:41:49.514Z"
      },
      {
        "duration": 36,
        "start_time": "2023-03-18T19:41:49.549Z"
      },
      {
        "duration": 28,
        "start_time": "2023-03-18T19:41:49.589Z"
      },
      {
        "duration": 53,
        "start_time": "2023-03-18T19:41:49.619Z"
      },
      {
        "duration": 41,
        "start_time": "2023-03-18T19:41:49.673Z"
      },
      {
        "duration": 10,
        "start_time": "2023-03-18T19:41:49.716Z"
      },
      {
        "duration": 15,
        "start_time": "2023-03-18T19:41:49.729Z"
      },
      {
        "duration": 66,
        "start_time": "2023-03-18T19:41:49.751Z"
      },
      {
        "duration": 8,
        "start_time": "2023-03-18T19:41:49.819Z"
      },
      {
        "duration": 231,
        "start_time": "2023-03-18T19:41:49.829Z"
      },
      {
        "duration": 174,
        "start_time": "2023-03-18T19:41:50.066Z"
      },
      {
        "duration": 12,
        "start_time": "2023-03-18T19:41:50.245Z"
      },
      {
        "duration": 178,
        "start_time": "2023-03-18T19:41:50.261Z"
      },
      {
        "duration": 5,
        "start_time": "2023-03-18T19:41:50.441Z"
      },
      {
        "duration": 62,
        "start_time": "2023-03-18T19:41:50.448Z"
      },
      {
        "duration": 342,
        "start_time": "2023-03-18T19:41:50.512Z"
      },
      {
        "duration": 8,
        "start_time": "2023-03-18T19:41:50.856Z"
      },
      {
        "duration": 401,
        "start_time": "2023-03-18T19:41:50.866Z"
      },
      {
        "duration": 12,
        "start_time": "2023-03-18T19:41:51.269Z"
      },
      {
        "duration": 34,
        "start_time": "2023-03-18T19:41:51.283Z"
      },
      {
        "duration": 381,
        "start_time": "2023-03-18T19:41:51.319Z"
      },
      {
        "duration": 3,
        "start_time": "2023-03-18T19:41:51.706Z"
      },
      {
        "duration": 30,
        "start_time": "2023-03-18T19:41:51.716Z"
      },
      {
        "duration": 68,
        "start_time": "2023-03-18T19:41:51.748Z"
      },
      {
        "duration": 280,
        "start_time": "2023-03-18T19:41:51.819Z"
      },
      {
        "duration": 208,
        "start_time": "2023-03-18T19:41:52.101Z"
      },
      {
        "duration": 7,
        "start_time": "2023-03-18T19:41:52.311Z"
      },
      {
        "duration": 256,
        "start_time": "2023-03-18T19:41:52.320Z"
      },
      {
        "duration": 23,
        "start_time": "2023-03-18T19:41:52.586Z"
      },
      {
        "duration": 211,
        "start_time": "2023-03-18T19:41:52.615Z"
      },
      {
        "duration": 11,
        "start_time": "2023-03-18T19:41:52.835Z"
      },
      {
        "duration": 245,
        "start_time": "2023-03-18T19:41:52.848Z"
      },
      {
        "duration": 5,
        "start_time": "2023-03-18T19:41:53.094Z"
      },
      {
        "duration": 186,
        "start_time": "2023-03-18T19:41:53.101Z"
      },
      {
        "duration": 5,
        "start_time": "2023-03-18T19:41:53.289Z"
      },
      {
        "duration": 323,
        "start_time": "2023-03-18T19:41:53.295Z"
      },
      {
        "duration": 7,
        "start_time": "2023-03-18T19:41:53.620Z"
      },
      {
        "duration": 246,
        "start_time": "2023-03-18T19:41:53.629Z"
      },
      {
        "duration": 7,
        "start_time": "2023-03-18T19:41:53.877Z"
      },
      {
        "duration": 231,
        "start_time": "2023-03-18T19:41:53.886Z"
      },
      {
        "duration": 10,
        "start_time": "2023-03-18T19:41:54.120Z"
      },
      {
        "duration": 203,
        "start_time": "2023-03-18T19:41:54.131Z"
      },
      {
        "duration": 11,
        "start_time": "2023-03-18T19:41:54.342Z"
      },
      {
        "duration": 261,
        "start_time": "2023-03-18T19:41:54.355Z"
      },
      {
        "duration": 6,
        "start_time": "2023-03-18T19:41:54.618Z"
      },
      {
        "duration": 18,
        "start_time": "2023-03-18T19:41:54.626Z"
      },
      {
        "duration": 364,
        "start_time": "2023-03-18T19:41:54.645Z"
      },
      {
        "duration": 16,
        "start_time": "2023-03-18T19:41:55.011Z"
      },
      {
        "duration": 84,
        "start_time": "2023-03-18T19:41:55.029Z"
      },
      {
        "duration": 346,
        "start_time": "2023-03-18T19:41:55.115Z"
      },
      {
        "duration": 15,
        "start_time": "2023-03-18T19:41:55.472Z"
      },
      {
        "duration": 35,
        "start_time": "2023-03-18T19:41:55.489Z"
      },
      {
        "duration": 91,
        "start_time": "2023-03-18T19:41:55.527Z"
      },
      {
        "duration": 35,
        "start_time": "2023-03-18T19:41:55.620Z"
      },
      {
        "duration": 441,
        "start_time": "2023-03-18T19:41:55.660Z"
      },
      {
        "duration": 10,
        "start_time": "2023-03-18T19:41:56.115Z"
      },
      {
        "duration": 97,
        "start_time": "2023-03-18T19:41:56.126Z"
      },
      {
        "duration": 288,
        "start_time": "2023-03-18T19:41:56.226Z"
      },
      {
        "duration": 10,
        "start_time": "2023-03-18T19:41:56.515Z"
      },
      {
        "duration": 98,
        "start_time": "2023-03-18T19:41:56.527Z"
      },
      {
        "duration": 96,
        "start_time": "2023-03-18T19:41:56.627Z"
      },
      {
        "duration": 97,
        "start_time": "2023-03-18T19:41:56.725Z"
      },
      {
        "duration": 113,
        "start_time": "2023-03-18T19:41:56.824Z"
      },
      {
        "duration": 89,
        "start_time": "2023-03-18T19:41:56.939Z"
      },
      {
        "duration": 88,
        "start_time": "2023-03-18T19:41:57.030Z"
      },
      {
        "duration": 2352,
        "start_time": "2023-03-18T19:42:28.360Z"
      },
      {
        "duration": 2156,
        "start_time": "2023-03-18T19:42:36.707Z"
      },
      {
        "duration": 16,
        "start_time": "2023-03-18T19:42:42.770Z"
      },
      {
        "duration": 23,
        "start_time": "2023-03-18T19:50:43.724Z"
      },
      {
        "duration": 13,
        "start_time": "2023-03-18T20:13:30.504Z"
      },
      {
        "duration": 21,
        "start_time": "2023-03-18T20:13:39.762Z"
      },
      {
        "duration": 13,
        "start_time": "2023-03-18T20:13:49.682Z"
      },
      {
        "duration": 4,
        "start_time": "2023-03-18T20:13:59.728Z"
      },
      {
        "duration": 143,
        "start_time": "2023-03-18T20:13:59.734Z"
      },
      {
        "duration": 20,
        "start_time": "2023-03-18T20:13:59.882Z"
      },
      {
        "duration": 6,
        "start_time": "2023-03-18T20:13:59.903Z"
      },
      {
        "duration": 20,
        "start_time": "2023-03-18T20:13:59.911Z"
      },
      {
        "duration": 50,
        "start_time": "2023-03-18T20:13:59.938Z"
      },
      {
        "duration": 12,
        "start_time": "2023-03-18T20:13:59.990Z"
      },
      {
        "duration": 65,
        "start_time": "2023-03-18T20:14:00.004Z"
      },
      {
        "duration": 11,
        "start_time": "2023-03-18T20:14:00.089Z"
      },
      {
        "duration": 35,
        "start_time": "2023-03-18T20:14:00.102Z"
      },
      {
        "duration": 69,
        "start_time": "2023-03-18T20:14:00.144Z"
      },
      {
        "duration": 7,
        "start_time": "2023-03-18T20:14:00.215Z"
      },
      {
        "duration": 68,
        "start_time": "2023-03-18T20:14:00.225Z"
      },
      {
        "duration": 15,
        "start_time": "2023-03-18T20:14:00.296Z"
      },
      {
        "duration": 13,
        "start_time": "2023-03-18T20:14:00.313Z"
      },
      {
        "duration": 63,
        "start_time": "2023-03-18T20:14:00.328Z"
      },
      {
        "duration": 227,
        "start_time": "2023-03-18T20:14:00.392Z"
      },
      {
        "duration": 180,
        "start_time": "2023-03-18T20:14:00.620Z"
      },
      {
        "duration": 10,
        "start_time": "2023-03-18T20:14:00.802Z"
      },
      {
        "duration": 225,
        "start_time": "2023-03-18T20:14:00.814Z"
      },
      {
        "duration": 7,
        "start_time": "2023-03-18T20:14:01.041Z"
      },
      {
        "duration": 59,
        "start_time": "2023-03-18T20:14:01.049Z"
      },
      {
        "duration": 338,
        "start_time": "2023-03-18T20:14:01.110Z"
      },
      {
        "duration": 10,
        "start_time": "2023-03-18T20:14:01.450Z"
      },
      {
        "duration": 344,
        "start_time": "2023-03-18T20:14:01.462Z"
      },
      {
        "duration": 11,
        "start_time": "2023-03-18T20:14:01.809Z"
      },
      {
        "duration": 59,
        "start_time": "2023-03-18T20:14:01.838Z"
      },
      {
        "duration": 348,
        "start_time": "2023-03-18T20:14:01.899Z"
      },
      {
        "duration": 4,
        "start_time": "2023-03-18T20:14:02.250Z"
      },
      {
        "duration": 55,
        "start_time": "2023-03-18T20:14:02.255Z"
      },
      {
        "duration": 3,
        "start_time": "2023-03-18T20:14:02.312Z"
      },
      {
        "duration": 406,
        "start_time": "2023-03-18T20:14:02.317Z"
      },
      {
        "duration": 184,
        "start_time": "2023-03-18T20:14:02.724Z"
      },
      {
        "duration": 5,
        "start_time": "2023-03-18T20:14:02.910Z"
      },
      {
        "duration": 198,
        "start_time": "2023-03-18T20:14:02.917Z"
      },
      {
        "duration": 6,
        "start_time": "2023-03-18T20:14:03.116Z"
      },
      {
        "duration": 177,
        "start_time": "2023-03-18T20:14:03.123Z"
      },
      {
        "duration": 6,
        "start_time": "2023-03-18T20:14:03.302Z"
      },
      {
        "duration": 177,
        "start_time": "2023-03-18T20:14:03.310Z"
      },
      {
        "duration": 7,
        "start_time": "2023-03-18T20:14:03.489Z"
      },
      {
        "duration": 193,
        "start_time": "2023-03-18T20:14:03.500Z"
      },
      {
        "duration": 9,
        "start_time": "2023-03-18T20:14:03.694Z"
      },
      {
        "duration": 177,
        "start_time": "2023-03-18T20:14:03.704Z"
      },
      {
        "duration": 5,
        "start_time": "2023-03-18T20:14:03.883Z"
      },
      {
        "duration": 201,
        "start_time": "2023-03-18T20:14:03.890Z"
      },
      {
        "duration": 16,
        "start_time": "2023-03-18T20:14:04.098Z"
      },
      {
        "duration": 198,
        "start_time": "2023-03-18T20:14:04.118Z"
      },
      {
        "duration": 5,
        "start_time": "2023-03-18T20:14:04.318Z"
      },
      {
        "duration": 166,
        "start_time": "2023-03-18T20:14:04.324Z"
      },
      {
        "duration": 5,
        "start_time": "2023-03-18T20:14:04.492Z"
      },
      {
        "duration": 174,
        "start_time": "2023-03-18T20:14:04.499Z"
      },
      {
        "duration": 11,
        "start_time": "2023-03-18T20:14:04.677Z"
      },
      {
        "duration": 24,
        "start_time": "2023-03-18T20:14:04.690Z"
      },
      {
        "duration": 338,
        "start_time": "2023-03-18T20:14:04.715Z"
      },
      {
        "duration": 31,
        "start_time": "2023-03-18T20:14:05.055Z"
      },
      {
        "duration": 24,
        "start_time": "2023-03-18T20:14:05.088Z"
      },
      {
        "duration": 363,
        "start_time": "2023-03-18T20:14:05.114Z"
      },
      {
        "duration": 15,
        "start_time": "2023-03-18T20:14:05.482Z"
      },
      {
        "duration": 38,
        "start_time": "2023-03-18T20:14:05.503Z"
      },
      {
        "duration": 55,
        "start_time": "2023-03-18T20:14:05.545Z"
      },
      {
        "duration": 77,
        "start_time": "2023-03-18T20:14:05.603Z"
      },
      {
        "duration": 320,
        "start_time": "2023-03-18T20:14:05.684Z"
      },
      {
        "duration": 12,
        "start_time": "2023-03-18T20:14:06.006Z"
      },
      {
        "duration": 96,
        "start_time": "2023-03-18T20:14:06.020Z"
      },
      {
        "duration": 294,
        "start_time": "2023-03-18T20:14:06.118Z"
      },
      {
        "duration": 22,
        "start_time": "2023-03-18T20:14:06.415Z"
      },
      {
        "duration": 53,
        "start_time": "2023-03-18T20:14:06.450Z"
      },
      {
        "duration": 61,
        "start_time": "2023-03-18T20:14:06.505Z"
      },
      {
        "duration": 16,
        "start_time": "2023-03-18T20:14:06.578Z"
      },
      {
        "duration": 36,
        "start_time": "2023-03-18T20:14:06.596Z"
      },
      {
        "duration": 64,
        "start_time": "2023-03-18T20:14:06.638Z"
      },
      {
        "duration": 45,
        "start_time": "2023-03-18T20:14:06.704Z"
      },
      {
        "duration": 30,
        "start_time": "2023-03-18T20:22:30.962Z"
      },
      {
        "duration": 9,
        "start_time": "2023-03-18T21:20:35.920Z"
      },
      {
        "duration": 12,
        "start_time": "2023-03-18T21:21:15.412Z"
      },
      {
        "duration": 11,
        "start_time": "2023-03-18T21:40:45.785Z"
      },
      {
        "duration": 15,
        "start_time": "2023-03-18T21:46:26.226Z"
      },
      {
        "duration": 9,
        "start_time": "2023-03-18T21:46:49.985Z"
      },
      {
        "duration": 10,
        "start_time": "2023-03-18T21:52:34.474Z"
      },
      {
        "duration": 1591,
        "start_time": "2023-03-19T19:26:03.594Z"
      },
      {
        "duration": 113,
        "start_time": "2023-03-19T19:26:05.187Z"
      },
      {
        "duration": 24,
        "start_time": "2023-03-19T19:26:05.302Z"
      },
      {
        "duration": 3,
        "start_time": "2023-03-19T19:26:05.328Z"
      },
      {
        "duration": 18,
        "start_time": "2023-03-19T19:26:05.333Z"
      },
      {
        "duration": 4,
        "start_time": "2023-03-19T19:26:05.352Z"
      },
      {
        "duration": 12,
        "start_time": "2023-03-19T19:26:05.357Z"
      },
      {
        "duration": 24,
        "start_time": "2023-03-19T19:26:05.370Z"
      },
      {
        "duration": 50,
        "start_time": "2023-03-19T19:26:05.397Z"
      },
      {
        "duration": 29,
        "start_time": "2023-03-19T19:26:05.448Z"
      },
      {
        "duration": 41,
        "start_time": "2023-03-19T19:26:05.479Z"
      },
      {
        "duration": 24,
        "start_time": "2023-03-19T19:26:05.522Z"
      },
      {
        "duration": 4,
        "start_time": "2023-03-19T19:26:05.548Z"
      },
      {
        "duration": 8,
        "start_time": "2023-03-19T19:26:05.555Z"
      },
      {
        "duration": 53,
        "start_time": "2023-03-19T19:26:05.565Z"
      },
      {
        "duration": 194,
        "start_time": "2023-03-19T19:26:05.620Z"
      },
      {
        "duration": 182,
        "start_time": "2023-03-19T19:26:05.816Z"
      },
      {
        "duration": 10,
        "start_time": "2023-03-19T19:26:06.000Z"
      },
      {
        "duration": 31,
        "start_time": "2023-03-19T19:26:06.011Z"
      },
      {
        "duration": 324,
        "start_time": "2023-03-19T19:26:06.043Z"
      },
      {
        "duration": 6,
        "start_time": "2023-03-19T19:26:06.368Z"
      },
      {
        "duration": 281,
        "start_time": "2023-03-19T19:26:06.376Z"
      },
      {
        "duration": 9,
        "start_time": "2023-03-19T19:26:06.659Z"
      },
      {
        "duration": 5,
        "start_time": "2023-03-19T19:26:06.689Z"
      },
      {
        "duration": 260,
        "start_time": "2023-03-19T19:26:06.695Z"
      },
      {
        "duration": 5,
        "start_time": "2023-03-19T19:26:06.957Z"
      },
      {
        "duration": 35,
        "start_time": "2023-03-19T19:26:06.964Z"
      },
      {
        "duration": 219,
        "start_time": "2023-03-19T19:26:07.001Z"
      },
      {
        "duration": 163,
        "start_time": "2023-03-19T19:26:07.222Z"
      },
      {
        "duration": 10,
        "start_time": "2023-03-19T19:26:07.389Z"
      },
      {
        "duration": 154,
        "start_time": "2023-03-19T19:26:07.401Z"
      },
      {
        "duration": 5,
        "start_time": "2023-03-19T19:26:07.556Z"
      },
      {
        "duration": 184,
        "start_time": "2023-03-19T19:26:07.563Z"
      },
      {
        "duration": 6,
        "start_time": "2023-03-19T19:26:07.749Z"
      },
      {
        "duration": 218,
        "start_time": "2023-03-19T19:26:07.757Z"
      },
      {
        "duration": 8,
        "start_time": "2023-03-19T19:26:07.977Z"
      },
      {
        "duration": 164,
        "start_time": "2023-03-19T19:26:07.986Z"
      },
      {
        "duration": 5,
        "start_time": "2023-03-19T19:26:08.151Z"
      },
      {
        "duration": 155,
        "start_time": "2023-03-19T19:26:08.158Z"
      },
      {
        "duration": 5,
        "start_time": "2023-03-19T19:26:08.315Z"
      },
      {
        "duration": 156,
        "start_time": "2023-03-19T19:26:08.324Z"
      },
      {
        "duration": 14,
        "start_time": "2023-03-19T19:26:08.482Z"
      },
      {
        "duration": 163,
        "start_time": "2023-03-19T19:26:08.498Z"
      },
      {
        "duration": 6,
        "start_time": "2023-03-19T19:26:08.663Z"
      },
      {
        "duration": 152,
        "start_time": "2023-03-19T19:26:08.680Z"
      },
      {
        "duration": 5,
        "start_time": "2023-03-19T19:26:08.834Z"
      },
      {
        "duration": 156,
        "start_time": "2023-03-19T19:26:08.841Z"
      },
      {
        "duration": 6,
        "start_time": "2023-03-19T19:26:08.999Z"
      },
      {
        "duration": 21,
        "start_time": "2023-03-19T19:26:09.007Z"
      },
      {
        "duration": 264,
        "start_time": "2023-03-19T19:26:09.030Z"
      },
      {
        "duration": 245,
        "start_time": "2023-03-19T19:26:09.295Z"
      },
      {
        "duration": 6,
        "start_time": "2023-03-19T19:26:09.542Z"
      },
      {
        "duration": 7,
        "start_time": "2023-03-19T19:26:09.549Z"
      },
      {
        "duration": 13,
        "start_time": "2023-03-19T19:26:09.557Z"
      },
      {
        "duration": 16,
        "start_time": "2023-03-19T19:26:09.586Z"
      },
      {
        "duration": 265,
        "start_time": "2023-03-19T19:26:09.604Z"
      },
      {
        "duration": 22,
        "start_time": "2023-03-19T19:26:09.871Z"
      },
      {
        "duration": 18,
        "start_time": "2023-03-19T19:26:09.896Z"
      },
      {
        "duration": 211,
        "start_time": "2023-03-19T19:26:09.916Z"
      },
      {
        "duration": 7,
        "start_time": "2023-03-19T19:26:10.128Z"
      },
      {
        "duration": 24,
        "start_time": "2023-03-19T19:26:10.137Z"
      },
      {
        "duration": 25,
        "start_time": "2023-03-19T19:26:10.163Z"
      },
      {
        "duration": 18,
        "start_time": "2023-03-19T19:26:10.195Z"
      },
      {
        "duration": 13,
        "start_time": "2023-03-19T19:26:10.215Z"
      },
      {
        "duration": 14,
        "start_time": "2023-03-19T19:26:10.230Z"
      },
      {
        "duration": 13,
        "start_time": "2023-03-19T19:26:10.246Z"
      },
      {
        "duration": 11,
        "start_time": "2023-03-19T19:27:21.725Z"
      },
      {
        "duration": 403,
        "start_time": "2023-03-19T19:28:36.512Z"
      },
      {
        "duration": 270,
        "start_time": "2023-03-19T19:38:54.537Z"
      },
      {
        "duration": 8,
        "start_time": "2023-03-19T19:40:00.460Z"
      },
      {
        "duration": 3,
        "start_time": "2023-03-19T19:40:26.210Z"
      },
      {
        "duration": 86,
        "start_time": "2023-03-19T19:40:26.216Z"
      },
      {
        "duration": 17,
        "start_time": "2023-03-19T19:40:26.306Z"
      },
      {
        "duration": 6,
        "start_time": "2023-03-19T19:40:26.325Z"
      },
      {
        "duration": 21,
        "start_time": "2023-03-19T19:40:26.333Z"
      },
      {
        "duration": 5,
        "start_time": "2023-03-19T19:40:26.356Z"
      },
      {
        "duration": 15,
        "start_time": "2023-03-19T19:40:26.362Z"
      },
      {
        "duration": 19,
        "start_time": "2023-03-19T19:40:26.395Z"
      },
      {
        "duration": 8,
        "start_time": "2023-03-19T19:40:26.416Z"
      },
      {
        "duration": 7,
        "start_time": "2023-03-19T19:40:26.426Z"
      },
      {
        "duration": 14,
        "start_time": "2023-03-19T19:40:26.434Z"
      },
      {
        "duration": 15,
        "start_time": "2023-03-19T19:40:26.449Z"
      },
      {
        "duration": 3,
        "start_time": "2023-03-19T19:40:26.465Z"
      },
      {
        "duration": 18,
        "start_time": "2023-03-19T19:40:26.471Z"
      },
      {
        "duration": 20,
        "start_time": "2023-03-19T19:40:26.496Z"
      },
      {
        "duration": 160,
        "start_time": "2023-03-19T19:40:26.517Z"
      },
      {
        "duration": 177,
        "start_time": "2023-03-19T19:40:26.679Z"
      },
      {
        "duration": 9,
        "start_time": "2023-03-19T19:40:26.857Z"
      },
      {
        "duration": 32,
        "start_time": "2023-03-19T19:40:26.868Z"
      },
      {
        "duration": 326,
        "start_time": "2023-03-19T19:40:26.902Z"
      },
      {
        "duration": 7,
        "start_time": "2023-03-19T19:40:27.230Z"
      },
      {
        "duration": 370,
        "start_time": "2023-03-19T19:40:27.239Z"
      },
      {
        "duration": 10,
        "start_time": "2023-03-19T19:40:27.615Z"
      },
      {
        "duration": 8,
        "start_time": "2023-03-19T19:40:27.627Z"
      },
      {
        "duration": 295,
        "start_time": "2023-03-19T19:40:27.637Z"
      },
      {
        "duration": 4,
        "start_time": "2023-03-19T19:40:27.934Z"
      },
      {
        "duration": 22,
        "start_time": "2023-03-19T19:40:27.939Z"
      },
      {
        "duration": 250,
        "start_time": "2023-03-19T19:40:27.962Z"
      },
      {
        "duration": 175,
        "start_time": "2023-03-19T19:40:28.214Z"
      },
      {
        "duration": 9,
        "start_time": "2023-03-19T19:40:28.397Z"
      },
      {
        "duration": 157,
        "start_time": "2023-03-19T19:40:28.408Z"
      },
      {
        "duration": 6,
        "start_time": "2023-03-19T19:40:28.566Z"
      },
      {
        "duration": 168,
        "start_time": "2023-03-19T19:40:28.574Z"
      },
      {
        "duration": 5,
        "start_time": "2023-03-19T19:40:28.744Z"
      },
      {
        "duration": 170,
        "start_time": "2023-03-19T19:40:28.751Z"
      },
      {
        "duration": 5,
        "start_time": "2023-03-19T19:40:28.922Z"
      },
      {
        "duration": 285,
        "start_time": "2023-03-19T19:40:28.928Z"
      },
      {
        "duration": 6,
        "start_time": "2023-03-19T19:40:29.215Z"
      },
      {
        "duration": 195,
        "start_time": "2023-03-19T19:40:29.223Z"
      },
      {
        "duration": 5,
        "start_time": "2023-03-19T19:40:29.420Z"
      },
      {
        "duration": 175,
        "start_time": "2023-03-19T19:40:29.426Z"
      },
      {
        "duration": 7,
        "start_time": "2023-03-19T19:40:29.604Z"
      },
      {
        "duration": 152,
        "start_time": "2023-03-19T19:40:29.613Z"
      },
      {
        "duration": 5,
        "start_time": "2023-03-19T19:40:29.767Z"
      },
      {
        "duration": 166,
        "start_time": "2023-03-19T19:40:29.774Z"
      },
      {
        "duration": 7,
        "start_time": "2023-03-19T19:40:29.942Z"
      },
      {
        "duration": 195,
        "start_time": "2023-03-19T19:40:29.952Z"
      },
      {
        "duration": 5,
        "start_time": "2023-03-19T19:40:30.148Z"
      },
      {
        "duration": 34,
        "start_time": "2023-03-19T19:40:30.155Z"
      },
      {
        "duration": 265,
        "start_time": "2023-03-19T19:40:30.203Z"
      },
      {
        "duration": 290,
        "start_time": "2023-03-19T19:40:30.470Z"
      },
      {
        "duration": 5,
        "start_time": "2023-03-19T19:40:30.762Z"
      },
      {
        "duration": 56,
        "start_time": "2023-03-19T19:40:30.769Z"
      },
      {
        "duration": 40,
        "start_time": "2023-03-19T19:40:30.827Z"
      },
      {
        "duration": 55,
        "start_time": "2023-03-19T19:40:30.869Z"
      },
      {
        "duration": 331,
        "start_time": "2023-03-19T19:40:30.926Z"
      },
      {
        "duration": 9,
        "start_time": "2023-03-19T19:40:31.258Z"
      },
      {
        "duration": 63,
        "start_time": "2023-03-19T19:40:31.268Z"
      },
      {
        "duration": 27,
        "start_time": "2023-03-19T19:40:31.333Z"
      },
      {
        "duration": 357,
        "start_time": "2023-03-19T19:40:31.363Z"
      },
      {
        "duration": 7,
        "start_time": "2023-03-19T19:40:31.722Z"
      },
      {
        "duration": 33,
        "start_time": "2023-03-19T19:40:31.730Z"
      },
      {
        "duration": 10,
        "start_time": "2023-03-19T19:40:31.765Z"
      },
      {
        "duration": 42,
        "start_time": "2023-03-19T19:40:31.777Z"
      },
      {
        "duration": 14,
        "start_time": "2023-03-19T19:40:31.821Z"
      },
      {
        "duration": 21,
        "start_time": "2023-03-19T19:40:31.836Z"
      },
      {
        "duration": 12,
        "start_time": "2023-03-19T19:40:31.859Z"
      },
      {
        "duration": 92,
        "start_time": "2023-03-19T20:38:19.214Z"
      },
      {
        "duration": 10,
        "start_time": "2023-03-19T20:38:28.151Z"
      },
      {
        "duration": 180,
        "start_time": "2023-03-19T20:38:48.658Z"
      },
      {
        "duration": 89,
        "start_time": "2023-03-19T21:21:06.458Z"
      },
      {
        "duration": 1042,
        "start_time": "2023-03-20T01:57:57.015Z"
      },
      {
        "duration": 54,
        "start_time": "2023-03-20T01:57:58.059Z"
      },
      {
        "duration": 22,
        "start_time": "2023-03-20T01:57:58.115Z"
      },
      {
        "duration": 3,
        "start_time": "2023-03-20T01:57:58.139Z"
      },
      {
        "duration": 15,
        "start_time": "2023-03-20T01:57:58.144Z"
      },
      {
        "duration": 4,
        "start_time": "2023-03-20T01:57:58.161Z"
      },
      {
        "duration": 14,
        "start_time": "2023-03-20T01:57:58.167Z"
      },
      {
        "duration": 8,
        "start_time": "2023-03-20T01:57:58.183Z"
      },
      {
        "duration": 6,
        "start_time": "2023-03-20T01:57:58.193Z"
      },
      {
        "duration": 6,
        "start_time": "2023-03-20T01:57:58.202Z"
      },
      {
        "duration": 10,
        "start_time": "2023-03-20T01:57:58.210Z"
      },
      {
        "duration": 42,
        "start_time": "2023-03-20T01:57:58.221Z"
      },
      {
        "duration": 4,
        "start_time": "2023-03-20T01:57:58.265Z"
      },
      {
        "duration": 13,
        "start_time": "2023-03-20T01:57:58.271Z"
      },
      {
        "duration": 7,
        "start_time": "2023-03-20T01:57:58.286Z"
      },
      {
        "duration": 154,
        "start_time": "2023-03-20T01:57:58.294Z"
      },
      {
        "duration": 138,
        "start_time": "2023-03-20T01:57:58.450Z"
      },
      {
        "duration": 8,
        "start_time": "2023-03-20T01:57:58.589Z"
      },
      {
        "duration": 4,
        "start_time": "2023-03-20T01:57:58.598Z"
      },
      {
        "duration": 274,
        "start_time": "2023-03-20T01:57:58.603Z"
      },
      {
        "duration": 6,
        "start_time": "2023-03-20T01:57:58.878Z"
      },
      {
        "duration": 247,
        "start_time": "2023-03-20T01:57:58.885Z"
      },
      {
        "duration": 9,
        "start_time": "2023-03-20T01:57:59.133Z"
      },
      {
        "duration": 4,
        "start_time": "2023-03-20T01:57:59.143Z"
      },
      {
        "duration": 241,
        "start_time": "2023-03-20T01:57:59.162Z"
      },
      {
        "duration": 3,
        "start_time": "2023-03-20T01:57:59.404Z"
      },
      {
        "duration": 17,
        "start_time": "2023-03-20T01:57:59.409Z"
      },
      {
        "duration": 191,
        "start_time": "2023-03-20T01:57:59.430Z"
      },
      {
        "duration": 150,
        "start_time": "2023-03-20T01:57:59.622Z"
      },
      {
        "duration": 6,
        "start_time": "2023-03-20T01:57:59.773Z"
      },
      {
        "duration": 148,
        "start_time": "2023-03-20T01:57:59.780Z"
      },
      {
        "duration": 5,
        "start_time": "2023-03-20T01:57:59.929Z"
      },
      {
        "duration": 147,
        "start_time": "2023-03-20T01:57:59.936Z"
      },
      {
        "duration": 5,
        "start_time": "2023-03-20T01:58:00.085Z"
      },
      {
        "duration": 230,
        "start_time": "2023-03-20T01:58:00.092Z"
      },
      {
        "duration": 6,
        "start_time": "2023-03-20T01:58:00.324Z"
      },
      {
        "duration": 148,
        "start_time": "2023-03-20T01:58:00.331Z"
      },
      {
        "duration": 5,
        "start_time": "2023-03-20T01:58:00.481Z"
      },
      {
        "duration": 151,
        "start_time": "2023-03-20T01:58:00.488Z"
      },
      {
        "duration": 5,
        "start_time": "2023-03-20T01:58:00.640Z"
      },
      {
        "duration": 155,
        "start_time": "2023-03-20T01:58:00.646Z"
      },
      {
        "duration": 5,
        "start_time": "2023-03-20T01:58:00.802Z"
      },
      {
        "duration": 168,
        "start_time": "2023-03-20T01:58:00.809Z"
      },
      {
        "duration": 5,
        "start_time": "2023-03-20T01:58:00.979Z"
      },
      {
        "duration": 170,
        "start_time": "2023-03-20T01:58:00.985Z"
      },
      {
        "duration": 8,
        "start_time": "2023-03-20T01:58:01.156Z"
      },
      {
        "duration": 150,
        "start_time": "2023-03-20T01:58:01.166Z"
      },
      {
        "duration": 5,
        "start_time": "2023-03-20T01:58:01.317Z"
      },
      {
        "duration": 20,
        "start_time": "2023-03-20T01:58:01.324Z"
      },
      {
        "duration": 232,
        "start_time": "2023-03-20T01:58:01.345Z"
      },
      {
        "duration": 231,
        "start_time": "2023-03-20T01:58:01.578Z"
      },
      {
        "duration": 4,
        "start_time": "2023-03-20T01:58:01.811Z"
      },
      {
        "duration": 24,
        "start_time": "2023-03-20T01:58:01.817Z"
      },
      {
        "duration": 14,
        "start_time": "2023-03-20T01:58:01.843Z"
      },
      {
        "duration": 23,
        "start_time": "2023-03-20T01:58:01.859Z"
      },
      {
        "duration": 230,
        "start_time": "2023-03-20T01:58:01.884Z"
      },
      {
        "duration": 7,
        "start_time": "2023-03-20T01:58:02.116Z"
      },
      {
        "duration": 38,
        "start_time": "2023-03-20T01:58:02.124Z"
      },
      {
        "duration": 178,
        "start_time": "2023-03-20T01:58:02.163Z"
      },
      {
        "duration": 6,
        "start_time": "2023-03-20T01:58:02.343Z"
      },
      {
        "duration": 22,
        "start_time": "2023-03-20T01:58:02.351Z"
      },
      {
        "duration": 11,
        "start_time": "2023-03-20T01:58:02.375Z"
      },
      {
        "duration": 40,
        "start_time": "2023-03-20T01:58:02.387Z"
      },
      {
        "duration": 18,
        "start_time": "2023-03-20T01:58:02.428Z"
      },
      {
        "duration": 29,
        "start_time": "2023-03-20T01:58:02.448Z"
      },
      {
        "duration": 1023,
        "start_time": "2023-03-20T11:23:14.411Z"
      },
      {
        "duration": 47,
        "start_time": "2023-03-20T11:23:15.436Z"
      },
      {
        "duration": 18,
        "start_time": "2023-03-20T11:23:15.484Z"
      },
      {
        "duration": 3,
        "start_time": "2023-03-20T11:23:15.504Z"
      },
      {
        "duration": 14,
        "start_time": "2023-03-20T11:23:15.508Z"
      },
      {
        "duration": 4,
        "start_time": "2023-03-20T11:23:15.523Z"
      },
      {
        "duration": 12,
        "start_time": "2023-03-20T11:23:15.528Z"
      },
      {
        "duration": 8,
        "start_time": "2023-03-20T11:23:15.541Z"
      },
      {
        "duration": 5,
        "start_time": "2023-03-20T11:23:15.550Z"
      },
      {
        "duration": 5,
        "start_time": "2023-03-20T11:23:15.557Z"
      },
      {
        "duration": 10,
        "start_time": "2023-03-20T11:23:15.563Z"
      },
      {
        "duration": 13,
        "start_time": "2023-03-20T11:23:15.574Z"
      },
      {
        "duration": 3,
        "start_time": "2023-03-20T11:23:15.588Z"
      },
      {
        "duration": 4,
        "start_time": "2023-03-20T11:23:15.624Z"
      },
      {
        "duration": 7,
        "start_time": "2023-03-20T11:23:15.629Z"
      },
      {
        "duration": 139,
        "start_time": "2023-03-20T11:23:15.637Z"
      },
      {
        "duration": 119,
        "start_time": "2023-03-20T11:23:15.777Z"
      },
      {
        "duration": 7,
        "start_time": "2023-03-20T11:23:15.897Z"
      },
      {
        "duration": 18,
        "start_time": "2023-03-20T11:23:15.906Z"
      },
      {
        "duration": 246,
        "start_time": "2023-03-20T11:23:15.925Z"
      },
      {
        "duration": 5,
        "start_time": "2023-03-20T11:23:16.172Z"
      },
      {
        "duration": 214,
        "start_time": "2023-03-20T11:23:16.179Z"
      },
      {
        "duration": 10,
        "start_time": "2023-03-20T11:23:16.395Z"
      },
      {
        "duration": 3,
        "start_time": "2023-03-20T11:23:16.407Z"
      },
      {
        "duration": 208,
        "start_time": "2023-03-20T11:23:16.424Z"
      },
      {
        "duration": 3,
        "start_time": "2023-03-20T11:23:16.633Z"
      },
      {
        "duration": 29,
        "start_time": "2023-03-20T11:23:16.638Z"
      },
      {
        "duration": 171,
        "start_time": "2023-03-20T11:23:16.668Z"
      },
      {
        "duration": 129,
        "start_time": "2023-03-20T11:23:16.840Z"
      },
      {
        "duration": 5,
        "start_time": "2023-03-20T11:23:16.970Z"
      },
      {
        "duration": 127,
        "start_time": "2023-03-20T11:23:16.976Z"
      },
      {
        "duration": 4,
        "start_time": "2023-03-20T11:23:17.104Z"
      },
      {
        "duration": 120,
        "start_time": "2023-03-20T11:23:17.123Z"
      },
      {
        "duration": 4,
        "start_time": "2023-03-20T11:23:17.245Z"
      },
      {
        "duration": 175,
        "start_time": "2023-03-20T11:23:17.250Z"
      },
      {
        "duration": 5,
        "start_time": "2023-03-20T11:23:17.426Z"
      },
      {
        "duration": 135,
        "start_time": "2023-03-20T11:23:17.432Z"
      },
      {
        "duration": 4,
        "start_time": "2023-03-20T11:23:17.569Z"
      },
      {
        "duration": 123,
        "start_time": "2023-03-20T11:23:17.574Z"
      },
      {
        "duration": 4,
        "start_time": "2023-03-20T11:23:17.699Z"
      },
      {
        "duration": 134,
        "start_time": "2023-03-20T11:23:17.707Z"
      },
      {
        "duration": 4,
        "start_time": "2023-03-20T11:23:17.843Z"
      },
      {
        "duration": 152,
        "start_time": "2023-03-20T11:23:17.849Z"
      },
      {
        "duration": 4,
        "start_time": "2023-03-20T11:23:18.003Z"
      },
      {
        "duration": 135,
        "start_time": "2023-03-20T11:23:18.008Z"
      },
      {
        "duration": 5,
        "start_time": "2023-03-20T11:23:18.145Z"
      },
      {
        "duration": 142,
        "start_time": "2023-03-20T11:23:18.152Z"
      },
      {
        "duration": 5,
        "start_time": "2023-03-20T11:23:18.295Z"
      },
      {
        "duration": 22,
        "start_time": "2023-03-20T11:23:18.302Z"
      },
      {
        "duration": 192,
        "start_time": "2023-03-20T11:23:18.326Z"
      },
      {
        "duration": 207,
        "start_time": "2023-03-20T11:23:18.520Z"
      },
      {
        "duration": 5,
        "start_time": "2023-03-20T11:23:18.728Z"
      },
      {
        "duration": 12,
        "start_time": "2023-03-20T11:23:18.734Z"
      },
      {
        "duration": 6,
        "start_time": "2023-03-20T11:23:18.748Z"
      },
      {
        "duration": 10,
        "start_time": "2023-03-20T11:23:18.755Z"
      },
      {
        "duration": 212,
        "start_time": "2023-03-20T11:23:18.766Z"
      },
      {
        "duration": 6,
        "start_time": "2023-03-20T11:23:18.979Z"
      },
      {
        "duration": 20,
        "start_time": "2023-03-20T11:23:18.987Z"
      },
      {
        "duration": 169,
        "start_time": "2023-03-20T11:23:19.009Z"
      },
      {
        "duration": 5,
        "start_time": "2023-03-20T11:23:19.180Z"
      },
      {
        "duration": 11,
        "start_time": "2023-03-20T11:23:19.187Z"
      },
      {
        "duration": 5,
        "start_time": "2023-03-20T11:23:19.199Z"
      },
      {
        "duration": 25,
        "start_time": "2023-03-20T11:23:19.206Z"
      },
      {
        "duration": 8,
        "start_time": "2023-03-20T11:23:19.232Z"
      },
      {
        "duration": 26,
        "start_time": "2023-03-20T11:23:19.241Z"
      },
      {
        "duration": 60,
        "start_time": "2023-03-20T12:17:43.958Z"
      },
      {
        "duration": 8,
        "start_time": "2023-03-20T12:26:12.807Z"
      },
      {
        "duration": 50,
        "start_time": "2023-03-20T19:55:44.715Z"
      },
      {
        "duration": 1354,
        "start_time": "2023-03-20T19:55:55.186Z"
      },
      {
        "duration": 110,
        "start_time": "2023-03-20T19:55:56.543Z"
      },
      {
        "duration": 33,
        "start_time": "2023-03-20T19:55:56.655Z"
      },
      {
        "duration": 4,
        "start_time": "2023-03-20T19:55:56.691Z"
      },
      {
        "duration": 24,
        "start_time": "2023-03-20T19:55:56.698Z"
      },
      {
        "duration": 6,
        "start_time": "2023-03-20T19:55:56.723Z"
      },
      {
        "duration": 30,
        "start_time": "2023-03-20T19:55:56.734Z"
      },
      {
        "duration": 16,
        "start_time": "2023-03-20T19:55:56.767Z"
      },
      {
        "duration": 12,
        "start_time": "2023-03-20T19:55:56.786Z"
      },
      {
        "duration": 28,
        "start_time": "2023-03-20T19:55:56.801Z"
      },
      {
        "duration": 53,
        "start_time": "2023-03-20T19:55:56.832Z"
      },
      {
        "duration": 45,
        "start_time": "2023-03-20T19:55:56.887Z"
      },
      {
        "duration": 39,
        "start_time": "2023-03-20T19:55:56.934Z"
      },
      {
        "duration": 26,
        "start_time": "2023-03-20T19:55:56.979Z"
      },
      {
        "duration": 128,
        "start_time": "2023-03-20T19:55:57.008Z"
      },
      {
        "duration": 5,
        "start_time": "2023-03-20T19:55:57.137Z"
      },
      {
        "duration": 20,
        "start_time": "2023-03-20T19:55:57.144Z"
      },
      {
        "duration": 173,
        "start_time": "2023-03-20T19:55:57.166Z"
      },
      {
        "duration": 173,
        "start_time": "2023-03-20T19:55:57.341Z"
      },
      {
        "duration": 8,
        "start_time": "2023-03-20T19:55:57.516Z"
      },
      {
        "duration": 6,
        "start_time": "2023-03-20T19:55:57.526Z"
      },
      {
        "duration": 349,
        "start_time": "2023-03-20T19:55:57.534Z"
      },
      {
        "duration": 6,
        "start_time": "2023-03-20T19:55:57.885Z"
      },
      {
        "duration": 275,
        "start_time": "2023-03-20T19:55:57.893Z"
      },
      {
        "duration": 9,
        "start_time": "2023-03-20T19:55:58.170Z"
      },
      {
        "duration": 4,
        "start_time": "2023-03-20T19:55:58.181Z"
      },
      {
        "duration": 300,
        "start_time": "2023-03-20T19:55:58.187Z"
      },
      {
        "duration": 3,
        "start_time": "2023-03-20T19:55:58.489Z"
      },
      {
        "duration": 19,
        "start_time": "2023-03-20T19:55:58.494Z"
      },
      {
        "duration": 248,
        "start_time": "2023-03-20T19:55:58.515Z"
      },
      {
        "duration": 167,
        "start_time": "2023-03-20T19:55:58.765Z"
      },
      {
        "duration": 5,
        "start_time": "2023-03-20T19:55:58.934Z"
      },
      {
        "duration": 200,
        "start_time": "2023-03-20T19:55:58.940Z"
      },
      {
        "duration": 17,
        "start_time": "2023-03-20T19:55:59.141Z"
      },
      {
        "duration": 235,
        "start_time": "2023-03-20T19:55:59.160Z"
      },
      {
        "duration": 6,
        "start_time": "2023-03-20T19:55:59.397Z"
      },
      {
        "duration": 161,
        "start_time": "2023-03-20T19:55:59.404Z"
      },
      {
        "duration": 5,
        "start_time": "2023-03-20T19:55:59.567Z"
      },
      {
        "duration": 167,
        "start_time": "2023-03-20T19:55:59.574Z"
      },
      {
        "duration": 16,
        "start_time": "2023-03-20T19:55:59.743Z"
      },
      {
        "duration": 174,
        "start_time": "2023-03-20T19:55:59.764Z"
      },
      {
        "duration": 6,
        "start_time": "2023-03-20T19:55:59.939Z"
      },
      {
        "duration": 171,
        "start_time": "2023-03-20T19:55:59.959Z"
      },
      {
        "duration": 6,
        "start_time": "2023-03-20T19:56:00.132Z"
      },
      {
        "duration": 180,
        "start_time": "2023-03-20T19:56:00.140Z"
      },
      {
        "duration": 5,
        "start_time": "2023-03-20T19:56:00.321Z"
      },
      {
        "duration": 158,
        "start_time": "2023-03-20T19:56:00.328Z"
      },
      {
        "duration": 4,
        "start_time": "2023-03-20T19:56:00.488Z"
      },
      {
        "duration": 167,
        "start_time": "2023-03-20T19:56:00.494Z"
      },
      {
        "duration": 5,
        "start_time": "2023-03-20T19:56:00.663Z"
      },
      {
        "duration": 54,
        "start_time": "2023-03-20T19:56:00.670Z"
      },
      {
        "duration": 250,
        "start_time": "2023-03-20T19:56:00.726Z"
      },
      {
        "duration": 266,
        "start_time": "2023-03-20T19:56:00.978Z"
      },
      {
        "duration": 5,
        "start_time": "2023-03-20T19:56:01.246Z"
      },
      {
        "duration": 26,
        "start_time": "2023-03-20T19:56:01.259Z"
      },
      {
        "duration": 34,
        "start_time": "2023-03-20T19:56:01.287Z"
      },
      {
        "duration": 26,
        "start_time": "2023-03-20T19:56:01.323Z"
      },
      {
        "duration": 267,
        "start_time": "2023-03-20T19:56:01.351Z"
      },
      {
        "duration": 7,
        "start_time": "2023-03-20T19:56:01.620Z"
      },
      {
        "duration": 64,
        "start_time": "2023-03-20T19:56:01.629Z"
      },
      {
        "duration": 322,
        "start_time": "2023-03-20T19:56:01.695Z"
      },
      {
        "duration": 8,
        "start_time": "2023-03-20T19:56:02.019Z"
      },
      {
        "duration": 64,
        "start_time": "2023-03-20T19:56:02.028Z"
      },
      {
        "duration": 52,
        "start_time": "2023-03-20T19:56:02.094Z"
      },
      {
        "duration": 29,
        "start_time": "2023-03-20T19:56:02.148Z"
      },
      {
        "duration": 30,
        "start_time": "2023-03-20T19:56:02.180Z"
      },
      {
        "duration": 24,
        "start_time": "2023-03-20T19:56:02.212Z"
      },
      {
        "duration": 32,
        "start_time": "2023-03-20T19:56:02.239Z"
      },
      {
        "duration": 24,
        "start_time": "2023-03-20T20:19:53.175Z"
      },
      {
        "duration": 24,
        "start_time": "2023-03-20T20:20:15.220Z"
      },
      {
        "duration": 3,
        "start_time": "2023-03-20T20:26:37.668Z"
      },
      {
        "duration": 3,
        "start_time": "2023-03-20T20:26:44.344Z"
      },
      {
        "duration": 131,
        "start_time": "2023-03-20T20:26:44.349Z"
      },
      {
        "duration": 17,
        "start_time": "2023-03-20T20:26:44.482Z"
      },
      {
        "duration": 5,
        "start_time": "2023-03-20T20:26:44.502Z"
      },
      {
        "duration": 21,
        "start_time": "2023-03-20T20:26:44.508Z"
      },
      {
        "duration": 4,
        "start_time": "2023-03-20T20:26:44.531Z"
      },
      {
        "duration": 27,
        "start_time": "2023-03-20T20:26:44.536Z"
      },
      {
        "duration": 9,
        "start_time": "2023-03-20T20:26:44.564Z"
      },
      {
        "duration": 7,
        "start_time": "2023-03-20T20:26:44.575Z"
      },
      {
        "duration": 8,
        "start_time": "2023-03-20T20:26:44.584Z"
      },
      {
        "duration": 23,
        "start_time": "2023-03-20T20:26:44.594Z"
      },
      {
        "duration": 16,
        "start_time": "2023-03-20T20:26:44.619Z"
      },
      {
        "duration": 24,
        "start_time": "2023-03-20T20:26:44.637Z"
      },
      {
        "duration": 10,
        "start_time": "2023-03-20T20:26:44.663Z"
      },
      {
        "duration": 17,
        "start_time": "2023-03-20T20:26:44.674Z"
      },
      {
        "duration": 91,
        "start_time": "2023-03-20T20:26:44.693Z"
      },
      {
        "duration": 5,
        "start_time": "2023-03-20T20:26:44.785Z"
      },
      {
        "duration": 32,
        "start_time": "2023-03-20T20:26:44.791Z"
      },
      {
        "duration": 140,
        "start_time": "2023-03-20T20:26:44.824Z"
      },
      {
        "duration": 146,
        "start_time": "2023-03-20T20:26:44.966Z"
      },
      {
        "duration": 9,
        "start_time": "2023-03-20T20:26:45.113Z"
      },
      {
        "duration": 16,
        "start_time": "2023-03-20T20:26:45.123Z"
      },
      {
        "duration": 260,
        "start_time": "2023-03-20T20:26:45.141Z"
      },
      {
        "duration": 6,
        "start_time": "2023-03-20T20:26:45.404Z"
      },
      {
        "duration": 262,
        "start_time": "2023-03-20T20:26:45.411Z"
      },
      {
        "duration": 9,
        "start_time": "2023-03-20T20:26:45.675Z"
      },
      {
        "duration": 3,
        "start_time": "2023-03-20T20:26:45.686Z"
      },
      {
        "duration": 253,
        "start_time": "2023-03-20T20:26:45.690Z"
      },
      {
        "duration": 3,
        "start_time": "2023-03-20T20:26:45.945Z"
      },
      {
        "duration": 16,
        "start_time": "2023-03-20T20:26:45.959Z"
      },
      {
        "duration": 209,
        "start_time": "2023-03-20T20:26:45.977Z"
      },
      {
        "duration": 156,
        "start_time": "2023-03-20T20:26:46.188Z"
      },
      {
        "duration": 13,
        "start_time": "2023-03-20T20:26:46.346Z"
      },
      {
        "duration": 148,
        "start_time": "2023-03-20T20:26:46.361Z"
      },
      {
        "duration": 4,
        "start_time": "2023-03-20T20:26:46.511Z"
      },
      {
        "duration": 161,
        "start_time": "2023-03-20T20:26:46.517Z"
      },
      {
        "duration": 6,
        "start_time": "2023-03-20T20:26:46.680Z"
      },
      {
        "duration": 192,
        "start_time": "2023-03-20T20:26:46.688Z"
      },
      {
        "duration": 6,
        "start_time": "2023-03-20T20:26:46.882Z"
      },
      {
        "duration": 245,
        "start_time": "2023-03-20T20:26:46.890Z"
      },
      {
        "duration": 5,
        "start_time": "2023-03-20T20:26:47.136Z"
      },
      {
        "duration": 147,
        "start_time": "2023-03-20T20:26:47.143Z"
      },
      {
        "duration": 5,
        "start_time": "2023-03-20T20:26:47.292Z"
      },
      {
        "duration": 145,
        "start_time": "2023-03-20T20:26:47.298Z"
      },
      {
        "duration": 5,
        "start_time": "2023-03-20T20:26:47.444Z"
      },
      {
        "duration": 157,
        "start_time": "2023-03-20T20:26:47.459Z"
      },
      {
        "duration": 5,
        "start_time": "2023-03-20T20:26:47.618Z"
      },
      {
        "duration": 149,
        "start_time": "2023-03-20T20:26:47.625Z"
      },
      {
        "duration": 5,
        "start_time": "2023-03-20T20:26:47.776Z"
      },
      {
        "duration": 144,
        "start_time": "2023-03-20T20:26:47.783Z"
      },
      {
        "duration": 6,
        "start_time": "2023-03-20T20:26:47.929Z"
      },
      {
        "duration": 26,
        "start_time": "2023-03-20T20:26:47.937Z"
      },
      {
        "duration": 226,
        "start_time": "2023-03-20T20:26:47.964Z"
      },
      {
        "duration": 247,
        "start_time": "2023-03-20T20:26:48.192Z"
      },
      {
        "duration": 5,
        "start_time": "2023-03-20T20:26:48.441Z"
      },
      {
        "duration": 18,
        "start_time": "2023-03-20T20:26:48.447Z"
      },
      {
        "duration": 8,
        "start_time": "2023-03-20T20:26:48.467Z"
      },
      {
        "duration": 15,
        "start_time": "2023-03-20T20:26:48.477Z"
      },
      {
        "duration": 246,
        "start_time": "2023-03-20T20:26:48.493Z"
      },
      {
        "duration": 20,
        "start_time": "2023-03-20T20:26:48.741Z"
      },
      {
        "duration": 12,
        "start_time": "2023-03-20T20:26:48.763Z"
      },
      {
        "duration": 205,
        "start_time": "2023-03-20T20:26:48.777Z"
      },
      {
        "duration": 12,
        "start_time": "2023-03-20T20:26:48.984Z"
      },
      {
        "duration": 19,
        "start_time": "2023-03-20T20:26:48.998Z"
      },
      {
        "duration": 13,
        "start_time": "2023-03-20T20:26:49.018Z"
      },
      {
        "duration": 7,
        "start_time": "2023-03-20T20:26:49.032Z"
      },
      {
        "duration": 28,
        "start_time": "2023-03-20T20:26:49.040Z"
      },
      {
        "duration": 9,
        "start_time": "2023-03-20T20:26:49.070Z"
      },
      {
        "duration": 11,
        "start_time": "2023-03-20T20:26:49.083Z"
      },
      {
        "duration": 16,
        "start_time": "2023-03-20T20:40:29.750Z"
      },
      {
        "duration": 44,
        "start_time": "2023-03-20T20:40:29.950Z"
      },
      {
        "duration": 38,
        "start_time": "2023-03-20T20:40:30.041Z"
      },
      {
        "duration": 0,
        "start_time": "2023-03-20T20:40:31.654Z"
      },
      {
        "duration": 0,
        "start_time": "2023-03-20T20:40:31.658Z"
      },
      {
        "duration": 0,
        "start_time": "2023-03-20T20:40:31.662Z"
      },
      {
        "duration": 0,
        "start_time": "2023-03-20T20:40:31.666Z"
      },
      {
        "duration": 0,
        "start_time": "2023-03-20T20:40:31.669Z"
      },
      {
        "duration": 0,
        "start_time": "2023-03-20T20:40:31.672Z"
      },
      {
        "duration": 0,
        "start_time": "2023-03-20T20:40:31.677Z"
      },
      {
        "duration": 0,
        "start_time": "2023-03-20T20:40:31.681Z"
      },
      {
        "duration": 0,
        "start_time": "2023-03-20T20:40:31.685Z"
      },
      {
        "duration": 0,
        "start_time": "2023-03-20T20:40:31.687Z"
      },
      {
        "duration": 0,
        "start_time": "2023-03-20T20:40:31.690Z"
      },
      {
        "duration": 0,
        "start_time": "2023-03-20T20:40:31.693Z"
      },
      {
        "duration": 0,
        "start_time": "2023-03-20T20:40:31.697Z"
      },
      {
        "duration": 0,
        "start_time": "2023-03-20T20:40:31.761Z"
      },
      {
        "duration": 0,
        "start_time": "2023-03-20T20:40:31.765Z"
      },
      {
        "duration": 0,
        "start_time": "2023-03-20T20:40:31.768Z"
      },
      {
        "duration": 0,
        "start_time": "2023-03-20T20:40:31.775Z"
      },
      {
        "duration": 0,
        "start_time": "2023-03-20T20:40:31.779Z"
      },
      {
        "duration": 0,
        "start_time": "2023-03-20T20:40:31.782Z"
      },
      {
        "duration": 0,
        "start_time": "2023-03-20T20:40:31.785Z"
      },
      {
        "duration": 0,
        "start_time": "2023-03-20T20:40:31.788Z"
      },
      {
        "duration": 0,
        "start_time": "2023-03-20T20:40:31.791Z"
      },
      {
        "duration": 0,
        "start_time": "2023-03-20T20:40:31.794Z"
      },
      {
        "duration": 0,
        "start_time": "2023-03-20T20:40:31.797Z"
      },
      {
        "duration": 0,
        "start_time": "2023-03-20T20:40:31.799Z"
      },
      {
        "duration": 0,
        "start_time": "2023-03-20T20:40:31.862Z"
      },
      {
        "duration": 0,
        "start_time": "2023-03-20T20:40:31.865Z"
      },
      {
        "duration": 0,
        "start_time": "2023-03-20T20:40:31.867Z"
      },
      {
        "duration": 0,
        "start_time": "2023-03-20T20:40:31.870Z"
      },
      {
        "duration": 0,
        "start_time": "2023-03-20T20:40:31.872Z"
      },
      {
        "duration": 0,
        "start_time": "2023-03-20T20:40:31.879Z"
      },
      {
        "duration": 0,
        "start_time": "2023-03-20T20:40:31.883Z"
      },
      {
        "duration": 0,
        "start_time": "2023-03-20T20:40:31.887Z"
      },
      {
        "duration": 0,
        "start_time": "2023-03-20T20:40:31.891Z"
      },
      {
        "duration": 0,
        "start_time": "2023-03-20T20:40:31.895Z"
      },
      {
        "duration": 0,
        "start_time": "2023-03-20T20:40:31.899Z"
      },
      {
        "duration": 0,
        "start_time": "2023-03-20T20:40:31.963Z"
      },
      {
        "duration": 0,
        "start_time": "2023-03-20T20:40:31.968Z"
      },
      {
        "duration": 0,
        "start_time": "2023-03-20T20:40:31.973Z"
      },
      {
        "duration": 0,
        "start_time": "2023-03-20T20:40:31.978Z"
      },
      {
        "duration": 0,
        "start_time": "2023-03-20T20:40:31.981Z"
      },
      {
        "duration": 0,
        "start_time": "2023-03-20T20:40:31.985Z"
      },
      {
        "duration": 0,
        "start_time": "2023-03-20T20:40:31.988Z"
      },
      {
        "duration": 0,
        "start_time": "2023-03-20T20:40:31.991Z"
      },
      {
        "duration": 0,
        "start_time": "2023-03-20T20:40:31.995Z"
      },
      {
        "duration": 0,
        "start_time": "2023-03-20T20:40:31.998Z"
      },
      {
        "duration": 0,
        "start_time": "2023-03-20T20:40:32.060Z"
      },
      {
        "duration": 0,
        "start_time": "2023-03-20T20:40:32.071Z"
      },
      {
        "duration": 0,
        "start_time": "2023-03-20T20:40:32.076Z"
      },
      {
        "duration": 0,
        "start_time": "2023-03-20T20:40:32.080Z"
      },
      {
        "duration": 0,
        "start_time": "2023-03-20T20:40:32.083Z"
      },
      {
        "duration": 0,
        "start_time": "2023-03-20T20:40:32.087Z"
      },
      {
        "duration": 0,
        "start_time": "2023-03-20T20:40:32.090Z"
      },
      {
        "duration": 0,
        "start_time": "2023-03-20T20:40:32.093Z"
      },
      {
        "duration": 0,
        "start_time": "2023-03-20T20:40:32.096Z"
      },
      {
        "duration": 0,
        "start_time": "2023-03-20T20:40:32.100Z"
      },
      {
        "duration": 0,
        "start_time": "2023-03-20T20:40:32.162Z"
      },
      {
        "duration": 0,
        "start_time": "2023-03-20T20:40:32.168Z"
      },
      {
        "duration": 0,
        "start_time": "2023-03-20T20:40:32.173Z"
      },
      {
        "duration": 0,
        "start_time": "2023-03-20T20:40:32.179Z"
      },
      {
        "duration": 0,
        "start_time": "2023-03-20T20:40:32.182Z"
      },
      {
        "duration": 0,
        "start_time": "2023-03-20T20:40:32.186Z"
      },
      {
        "duration": 0,
        "start_time": "2023-03-20T20:40:32.190Z"
      },
      {
        "duration": 0,
        "start_time": "2023-03-20T20:40:32.194Z"
      },
      {
        "duration": 0,
        "start_time": "2023-03-20T20:40:32.197Z"
      },
      {
        "duration": 0,
        "start_time": "2023-03-20T20:40:32.201Z"
      },
      {
        "duration": 3,
        "start_time": "2023-03-20T20:40:41.267Z"
      },
      {
        "duration": 55,
        "start_time": "2023-03-20T20:40:41.311Z"
      },
      {
        "duration": 17,
        "start_time": "2023-03-20T20:40:41.368Z"
      },
      {
        "duration": 7,
        "start_time": "2023-03-20T20:40:41.387Z"
      },
      {
        "duration": 21,
        "start_time": "2023-03-20T20:40:41.395Z"
      },
      {
        "duration": 4,
        "start_time": "2023-03-20T20:40:41.419Z"
      },
      {
        "duration": 15,
        "start_time": "2023-03-20T20:40:41.424Z"
      },
      {
        "duration": 9,
        "start_time": "2023-03-20T20:40:41.458Z"
      },
      {
        "duration": 13,
        "start_time": "2023-03-20T20:40:41.468Z"
      },
      {
        "duration": 6,
        "start_time": "2023-03-20T20:40:41.483Z"
      },
      {
        "duration": 15,
        "start_time": "2023-03-20T20:40:41.490Z"
      },
      {
        "duration": 21,
        "start_time": "2023-03-20T20:40:41.506Z"
      },
      {
        "duration": 4,
        "start_time": "2023-03-20T20:40:41.529Z"
      },
      {
        "duration": 6,
        "start_time": "2023-03-20T20:40:41.558Z"
      },
      {
        "duration": 2,
        "start_time": "2023-03-20T20:40:41.568Z"
      },
      {
        "duration": 105,
        "start_time": "2023-03-20T20:40:41.572Z"
      },
      {
        "duration": 5,
        "start_time": "2023-03-20T20:40:41.679Z"
      },
      {
        "duration": 11,
        "start_time": "2023-03-20T20:40:41.686Z"
      },
      {
        "duration": 170,
        "start_time": "2023-03-20T20:40:41.699Z"
      },
      {
        "duration": 151,
        "start_time": "2023-03-20T20:40:41.872Z"
      },
      {
        "duration": 9,
        "start_time": "2023-03-20T20:40:42.024Z"
      },
      {
        "duration": 4,
        "start_time": "2023-03-20T20:40:42.036Z"
      },
      {
        "duration": 286,
        "start_time": "2023-03-20T20:40:42.057Z"
      },
      {
        "duration": 15,
        "start_time": "2023-03-20T20:40:42.344Z"
      },
      {
        "duration": 266,
        "start_time": "2023-03-20T20:40:42.360Z"
      },
      {
        "duration": 9,
        "start_time": "2023-03-20T20:40:42.628Z"
      },
      {
        "duration": 21,
        "start_time": "2023-03-20T20:40:42.639Z"
      },
      {
        "duration": 262,
        "start_time": "2023-03-20T20:40:42.662Z"
      },
      {
        "duration": 4,
        "start_time": "2023-03-20T20:40:42.925Z"
      },
      {
        "duration": 34,
        "start_time": "2023-03-20T20:40:42.931Z"
      },
      {
        "duration": 221,
        "start_time": "2023-03-20T20:40:42.967Z"
      },
      {
        "duration": 163,
        "start_time": "2023-03-20T20:40:43.191Z"
      },
      {
        "duration": 5,
        "start_time": "2023-03-20T20:40:43.359Z"
      },
      {
        "duration": 156,
        "start_time": "2023-03-20T20:40:43.366Z"
      },
      {
        "duration": 5,
        "start_time": "2023-03-20T20:40:43.524Z"
      },
      {
        "duration": 158,
        "start_time": "2023-03-20T20:40:43.531Z"
      },
      {
        "duration": 5,
        "start_time": "2023-03-20T20:40:43.690Z"
      },
      {
        "duration": 145,
        "start_time": "2023-03-20T20:40:43.697Z"
      },
      {
        "duration": 5,
        "start_time": "2023-03-20T20:40:43.844Z"
      },
      {
        "duration": 151,
        "start_time": "2023-03-20T20:40:43.858Z"
      },
      {
        "duration": 6,
        "start_time": "2023-03-20T20:40:44.010Z"
      },
      {
        "duration": 156,
        "start_time": "2023-03-20T20:40:44.021Z"
      },
      {
        "duration": 5,
        "start_time": "2023-03-20T20:40:44.179Z"
      },
      {
        "duration": 158,
        "start_time": "2023-03-20T20:40:44.186Z"
      },
      {
        "duration": 5,
        "start_time": "2023-03-20T20:40:44.346Z"
      },
      {
        "duration": 157,
        "start_time": "2023-03-20T20:40:44.352Z"
      },
      {
        "duration": 5,
        "start_time": "2023-03-20T20:40:44.510Z"
      },
      {
        "duration": 147,
        "start_time": "2023-03-20T20:40:44.517Z"
      },
      {
        "duration": 6,
        "start_time": "2023-03-20T20:40:44.666Z"
      },
      {
        "duration": 152,
        "start_time": "2023-03-20T20:40:44.674Z"
      },
      {
        "duration": 5,
        "start_time": "2023-03-20T20:40:44.828Z"
      },
      {
        "duration": 34,
        "start_time": "2023-03-20T20:40:44.835Z"
      },
      {
        "duration": 222,
        "start_time": "2023-03-20T20:40:44.871Z"
      },
      {
        "duration": 243,
        "start_time": "2023-03-20T20:40:45.095Z"
      },
      {
        "duration": 4,
        "start_time": "2023-03-20T20:40:45.340Z"
      },
      {
        "duration": 12,
        "start_time": "2023-03-20T20:40:45.346Z"
      },
      {
        "duration": 4,
        "start_time": "2023-03-20T20:40:45.360Z"
      },
      {
        "duration": 14,
        "start_time": "2023-03-20T20:40:45.366Z"
      },
      {
        "duration": 241,
        "start_time": "2023-03-20T20:40:45.382Z"
      },
      {
        "duration": 7,
        "start_time": "2023-03-20T20:40:45.625Z"
      },
      {
        "duration": 26,
        "start_time": "2023-03-20T20:40:45.633Z"
      },
      {
        "duration": 204,
        "start_time": "2023-03-20T20:40:45.661Z"
      },
      {
        "duration": 7,
        "start_time": "2023-03-20T20:40:45.867Z"
      },
      {
        "duration": 17,
        "start_time": "2023-03-20T20:40:45.876Z"
      },
      {
        "duration": 10,
        "start_time": "2023-03-20T20:40:45.895Z"
      },
      {
        "duration": 5,
        "start_time": "2023-03-20T20:40:45.907Z"
      },
      {
        "duration": 15,
        "start_time": "2023-03-20T20:40:45.914Z"
      },
      {
        "duration": 32,
        "start_time": "2023-03-20T20:40:45.930Z"
      },
      {
        "duration": 11,
        "start_time": "2023-03-20T20:40:45.964Z"
      },
      {
        "duration": 13,
        "start_time": "2023-03-20T20:41:21.026Z"
      },
      {
        "duration": 0,
        "start_time": "2023-03-20T20:43:37.582Z"
      },
      {
        "duration": 0,
        "start_time": "2023-03-20T20:43:37.759Z"
      },
      {
        "duration": 0,
        "start_time": "2023-03-20T20:43:37.760Z"
      },
      {
        "duration": 0,
        "start_time": "2023-03-20T20:43:37.761Z"
      },
      {
        "duration": 0,
        "start_time": "2023-03-20T20:43:37.762Z"
      },
      {
        "duration": 0,
        "start_time": "2023-03-20T20:43:37.763Z"
      },
      {
        "duration": 0,
        "start_time": "2023-03-20T20:43:37.765Z"
      },
      {
        "duration": 0,
        "start_time": "2023-03-20T20:43:37.766Z"
      },
      {
        "duration": 0,
        "start_time": "2023-03-20T20:43:37.767Z"
      },
      {
        "duration": 0,
        "start_time": "2023-03-20T20:43:37.768Z"
      },
      {
        "duration": 0,
        "start_time": "2023-03-20T20:43:37.770Z"
      },
      {
        "duration": 0,
        "start_time": "2023-03-20T20:43:37.771Z"
      },
      {
        "duration": 0,
        "start_time": "2023-03-20T20:43:37.772Z"
      },
      {
        "duration": 0,
        "start_time": "2023-03-20T20:43:37.774Z"
      },
      {
        "duration": 0,
        "start_time": "2023-03-20T20:43:37.775Z"
      },
      {
        "duration": 0,
        "start_time": "2023-03-20T20:43:37.776Z"
      },
      {
        "duration": 0,
        "start_time": "2023-03-20T20:43:37.777Z"
      },
      {
        "duration": 0,
        "start_time": "2023-03-20T20:43:37.778Z"
      },
      {
        "duration": 0,
        "start_time": "2023-03-20T20:43:37.779Z"
      },
      {
        "duration": 0,
        "start_time": "2023-03-20T20:43:37.780Z"
      },
      {
        "duration": 0,
        "start_time": "2023-03-20T20:43:37.781Z"
      },
      {
        "duration": 0,
        "start_time": "2023-03-20T20:43:37.782Z"
      },
      {
        "duration": 0,
        "start_time": "2023-03-20T20:43:37.783Z"
      },
      {
        "duration": 0,
        "start_time": "2023-03-20T20:43:37.784Z"
      },
      {
        "duration": 0,
        "start_time": "2023-03-20T20:43:37.785Z"
      },
      {
        "duration": 0,
        "start_time": "2023-03-20T20:43:37.786Z"
      },
      {
        "duration": 0,
        "start_time": "2023-03-20T20:43:37.787Z"
      },
      {
        "duration": 0,
        "start_time": "2023-03-20T20:43:37.788Z"
      },
      {
        "duration": 0,
        "start_time": "2023-03-20T20:43:37.789Z"
      },
      {
        "duration": 0,
        "start_time": "2023-03-20T20:43:37.790Z"
      },
      {
        "duration": 0,
        "start_time": "2023-03-20T20:43:37.791Z"
      },
      {
        "duration": 0,
        "start_time": "2023-03-20T20:43:37.792Z"
      },
      {
        "duration": 0,
        "start_time": "2023-03-20T20:43:37.794Z"
      },
      {
        "duration": 0,
        "start_time": "2023-03-20T20:43:37.859Z"
      },
      {
        "duration": 0,
        "start_time": "2023-03-20T20:43:37.860Z"
      },
      {
        "duration": 0,
        "start_time": "2023-03-20T20:43:37.861Z"
      },
      {
        "duration": 0,
        "start_time": "2023-03-20T20:43:37.862Z"
      },
      {
        "duration": 0,
        "start_time": "2023-03-20T20:43:37.863Z"
      },
      {
        "duration": 0,
        "start_time": "2023-03-20T20:43:37.864Z"
      },
      {
        "duration": 0,
        "start_time": "2023-03-20T20:43:37.865Z"
      },
      {
        "duration": 0,
        "start_time": "2023-03-20T20:43:37.867Z"
      },
      {
        "duration": 0,
        "start_time": "2023-03-20T20:43:37.867Z"
      },
      {
        "duration": 0,
        "start_time": "2023-03-20T20:43:37.868Z"
      },
      {
        "duration": 0,
        "start_time": "2023-03-20T20:43:37.869Z"
      },
      {
        "duration": 0,
        "start_time": "2023-03-20T20:43:37.870Z"
      },
      {
        "duration": 0,
        "start_time": "2023-03-20T20:43:37.871Z"
      },
      {
        "duration": 0,
        "start_time": "2023-03-20T20:43:37.872Z"
      },
      {
        "duration": 0,
        "start_time": "2023-03-20T20:43:37.873Z"
      },
      {
        "duration": 0,
        "start_time": "2023-03-20T20:43:37.875Z"
      },
      {
        "duration": 0,
        "start_time": "2023-03-20T20:43:37.876Z"
      },
      {
        "duration": 0,
        "start_time": "2023-03-20T20:43:37.877Z"
      },
      {
        "duration": 0,
        "start_time": "2023-03-20T20:43:37.878Z"
      },
      {
        "duration": 0,
        "start_time": "2023-03-20T20:43:37.879Z"
      },
      {
        "duration": 0,
        "start_time": "2023-03-20T20:43:37.880Z"
      },
      {
        "duration": 0,
        "start_time": "2023-03-20T20:43:37.881Z"
      },
      {
        "duration": 0,
        "start_time": "2023-03-20T20:43:37.882Z"
      },
      {
        "duration": 0,
        "start_time": "2023-03-20T20:43:37.883Z"
      },
      {
        "duration": 0,
        "start_time": "2023-03-20T20:43:37.884Z"
      },
      {
        "duration": 0,
        "start_time": "2023-03-20T20:43:37.885Z"
      },
      {
        "duration": 0,
        "start_time": "2023-03-20T20:43:37.886Z"
      },
      {
        "duration": 0,
        "start_time": "2023-03-20T20:43:37.887Z"
      },
      {
        "duration": 0,
        "start_time": "2023-03-20T20:43:37.888Z"
      },
      {
        "duration": 0,
        "start_time": "2023-03-20T20:43:37.889Z"
      },
      {
        "duration": 0,
        "start_time": "2023-03-20T20:43:37.890Z"
      },
      {
        "duration": 0,
        "start_time": "2023-03-20T20:43:37.891Z"
      },
      {
        "duration": 0,
        "start_time": "2023-03-20T20:43:37.892Z"
      },
      {
        "duration": 0,
        "start_time": "2023-03-20T20:43:37.893Z"
      },
      {
        "duration": 0,
        "start_time": "2023-03-20T20:43:37.959Z"
      },
      {
        "duration": 0,
        "start_time": "2023-03-20T20:43:37.960Z"
      },
      {
        "duration": 0,
        "start_time": "2023-03-20T20:43:37.962Z"
      },
      {
        "duration": 3,
        "start_time": "2023-03-20T20:43:43.717Z"
      },
      {
        "duration": 61,
        "start_time": "2023-03-20T20:43:43.722Z"
      },
      {
        "duration": 16,
        "start_time": "2023-03-20T20:43:43.785Z"
      },
      {
        "duration": 8,
        "start_time": "2023-03-20T20:43:43.803Z"
      },
      {
        "duration": 14,
        "start_time": "2023-03-20T20:43:43.832Z"
      },
      {
        "duration": 10,
        "start_time": "2023-03-20T20:43:43.848Z"
      },
      {
        "duration": 11,
        "start_time": "2023-03-20T20:43:43.860Z"
      },
      {
        "duration": 14,
        "start_time": "2023-03-20T20:43:43.872Z"
      },
      {
        "duration": 11,
        "start_time": "2023-03-20T20:43:43.888Z"
      },
      {
        "duration": 9,
        "start_time": "2023-03-20T20:43:43.901Z"
      },
      {
        "duration": 16,
        "start_time": "2023-03-20T20:43:43.912Z"
      },
      {
        "duration": 45,
        "start_time": "2023-03-20T20:43:43.930Z"
      },
      {
        "duration": 3,
        "start_time": "2023-03-20T20:43:43.977Z"
      },
      {
        "duration": 7,
        "start_time": "2023-03-20T20:43:43.982Z"
      },
      {
        "duration": 8,
        "start_time": "2023-03-20T20:43:43.990Z"
      },
      {
        "duration": 104,
        "start_time": "2023-03-20T20:43:44.000Z"
      },
      {
        "duration": 6,
        "start_time": "2023-03-20T20:43:44.105Z"
      },
      {
        "duration": 17,
        "start_time": "2023-03-20T20:43:44.114Z"
      },
      {
        "duration": 192,
        "start_time": "2023-03-20T20:43:44.133Z"
      },
      {
        "duration": 152,
        "start_time": "2023-03-20T20:43:44.327Z"
      },
      {
        "duration": 10,
        "start_time": "2023-03-20T20:43:44.480Z"
      },
      {
        "duration": 12,
        "start_time": "2023-03-20T20:43:44.491Z"
      },
      {
        "duration": 285,
        "start_time": "2023-03-20T20:43:44.505Z"
      },
      {
        "duration": 6,
        "start_time": "2023-03-20T20:43:44.792Z"
      },
      {
        "duration": 311,
        "start_time": "2023-03-20T20:43:44.799Z"
      },
      {
        "duration": 9,
        "start_time": "2023-03-20T20:43:45.112Z"
      },
      {
        "duration": 8,
        "start_time": "2023-03-20T20:43:45.123Z"
      },
      {
        "duration": 268,
        "start_time": "2023-03-20T20:43:45.132Z"
      },
      {
        "duration": 4,
        "start_time": "2023-03-20T20:43:45.403Z"
      },
      {
        "duration": 23,
        "start_time": "2023-03-20T20:43:45.409Z"
      },
      {
        "duration": 214,
        "start_time": "2023-03-20T20:43:45.434Z"
      },
      {
        "duration": 164,
        "start_time": "2023-03-20T20:43:45.649Z"
      },
      {
        "duration": 6,
        "start_time": "2023-03-20T20:43:45.815Z"
      },
      {
        "duration": 167,
        "start_time": "2023-03-20T20:43:45.823Z"
      },
      {
        "duration": 6,
        "start_time": "2023-03-20T20:43:45.991Z"
      },
      {
        "duration": 151,
        "start_time": "2023-03-20T20:43:45.999Z"
      },
      {
        "duration": 10,
        "start_time": "2023-03-20T20:43:46.151Z"
      },
      {
        "duration": 150,
        "start_time": "2023-03-20T20:43:46.162Z"
      },
      {
        "duration": 5,
        "start_time": "2023-03-20T20:43:46.314Z"
      },
      {
        "duration": 149,
        "start_time": "2023-03-20T20:43:46.320Z"
      },
      {
        "duration": 6,
        "start_time": "2023-03-20T20:43:46.471Z"
      },
      {
        "duration": 179,
        "start_time": "2023-03-20T20:43:46.479Z"
      },
      {
        "duration": 7,
        "start_time": "2023-03-20T20:43:46.661Z"
      },
      {
        "duration": 177,
        "start_time": "2023-03-20T20:43:46.673Z"
      },
      {
        "duration": 10,
        "start_time": "2023-03-20T20:43:46.852Z"
      },
      {
        "duration": 161,
        "start_time": "2023-03-20T20:43:46.864Z"
      },
      {
        "duration": 5,
        "start_time": "2023-03-20T20:43:47.027Z"
      },
      {
        "duration": 143,
        "start_time": "2023-03-20T20:43:47.034Z"
      },
      {
        "duration": 5,
        "start_time": "2023-03-20T20:43:47.178Z"
      },
      {
        "duration": 141,
        "start_time": "2023-03-20T20:43:47.185Z"
      },
      {
        "duration": 5,
        "start_time": "2023-03-20T20:43:47.328Z"
      },
      {
        "duration": 25,
        "start_time": "2023-03-20T20:43:47.334Z"
      },
      {
        "duration": 236,
        "start_time": "2023-03-20T20:43:47.360Z"
      },
      {
        "duration": 250,
        "start_time": "2023-03-20T20:43:47.598Z"
      },
      {
        "duration": 4,
        "start_time": "2023-03-20T20:43:47.858Z"
      },
      {
        "duration": 8,
        "start_time": "2023-03-20T20:43:47.865Z"
      },
      {
        "duration": 7,
        "start_time": "2023-03-20T20:43:47.875Z"
      },
      {
        "duration": 14,
        "start_time": "2023-03-20T20:43:47.884Z"
      },
      {
        "duration": 270,
        "start_time": "2023-03-20T20:43:47.900Z"
      },
      {
        "duration": 7,
        "start_time": "2023-03-20T20:43:48.172Z"
      },
      {
        "duration": 51,
        "start_time": "2023-03-20T20:43:48.180Z"
      },
      {
        "duration": 228,
        "start_time": "2023-03-20T20:43:48.233Z"
      },
      {
        "duration": 8,
        "start_time": "2023-03-20T20:43:48.463Z"
      },
      {
        "duration": 17,
        "start_time": "2023-03-20T20:43:48.472Z"
      },
      {
        "duration": 21,
        "start_time": "2023-03-20T20:43:48.491Z"
      },
      {
        "duration": 7,
        "start_time": "2023-03-20T20:43:48.514Z"
      },
      {
        "duration": 15,
        "start_time": "2023-03-20T20:43:48.523Z"
      },
      {
        "duration": 26,
        "start_time": "2023-03-20T20:43:48.540Z"
      },
      {
        "duration": 13,
        "start_time": "2023-03-20T20:43:48.567Z"
      },
      {
        "duration": 177,
        "start_time": "2023-03-20T20:44:26.177Z"
      },
      {
        "duration": 179,
        "start_time": "2023-03-20T20:44:58.424Z"
      },
      {
        "duration": 204,
        "start_time": "2023-03-20T20:45:04.191Z"
      },
      {
        "duration": 18,
        "start_time": "2023-03-20T20:50:08.027Z"
      },
      {
        "duration": 3,
        "start_time": "2023-03-20T20:50:27.186Z"
      },
      {
        "duration": 75,
        "start_time": "2023-03-20T20:50:27.191Z"
      },
      {
        "duration": 17,
        "start_time": "2023-03-20T20:50:27.268Z"
      },
      {
        "duration": 27,
        "start_time": "2023-03-20T20:50:27.287Z"
      },
      {
        "duration": 35,
        "start_time": "2023-03-20T20:50:27.317Z"
      },
      {
        "duration": 22,
        "start_time": "2023-03-20T20:50:27.354Z"
      },
      {
        "duration": 25,
        "start_time": "2023-03-20T20:50:27.378Z"
      },
      {
        "duration": 14,
        "start_time": "2023-03-20T20:50:27.405Z"
      },
      {
        "duration": 27,
        "start_time": "2023-03-20T20:50:27.421Z"
      },
      {
        "duration": 17,
        "start_time": "2023-03-20T20:50:27.450Z"
      },
      {
        "duration": 24,
        "start_time": "2023-03-20T20:50:27.469Z"
      },
      {
        "duration": 21,
        "start_time": "2023-03-20T20:50:27.495Z"
      },
      {
        "duration": 10,
        "start_time": "2023-03-20T20:50:27.520Z"
      },
      {
        "duration": 21,
        "start_time": "2023-03-20T20:50:27.531Z"
      },
      {
        "duration": 14,
        "start_time": "2023-03-20T20:50:27.554Z"
      },
      {
        "duration": 88,
        "start_time": "2023-03-20T20:50:27.570Z"
      },
      {
        "duration": 4,
        "start_time": "2023-03-20T20:50:27.660Z"
      },
      {
        "duration": 24,
        "start_time": "2023-03-20T20:50:27.666Z"
      },
      {
        "duration": 149,
        "start_time": "2023-03-20T20:50:27.692Z"
      },
      {
        "duration": 197,
        "start_time": "2023-03-20T20:50:27.843Z"
      },
      {
        "duration": 8,
        "start_time": "2023-03-20T20:50:28.042Z"
      },
      {
        "duration": 3,
        "start_time": "2023-03-20T20:50:28.059Z"
      },
      {
        "duration": 287,
        "start_time": "2023-03-20T20:50:28.064Z"
      },
      {
        "duration": 9,
        "start_time": "2023-03-20T20:50:28.353Z"
      },
      {
        "duration": 278,
        "start_time": "2023-03-20T20:50:28.364Z"
      },
      {
        "duration": 23,
        "start_time": "2023-03-20T20:50:28.643Z"
      },
      {
        "duration": 3,
        "start_time": "2023-03-20T20:50:28.668Z"
      },
      {
        "duration": 272,
        "start_time": "2023-03-20T20:50:28.672Z"
      },
      {
        "duration": 14,
        "start_time": "2023-03-20T20:50:28.946Z"
      },
      {
        "duration": 34,
        "start_time": "2023-03-20T20:50:28.963Z"
      },
      {
        "duration": 212,
        "start_time": "2023-03-20T20:50:28.999Z"
      },
      {
        "duration": 163,
        "start_time": "2023-03-20T20:50:29.213Z"
      },
      {
        "duration": 6,
        "start_time": "2023-03-20T20:50:29.377Z"
      },
      {
        "duration": 163,
        "start_time": "2023-03-20T20:50:29.384Z"
      },
      {
        "duration": 10,
        "start_time": "2023-03-20T20:50:29.549Z"
      },
      {
        "duration": 153,
        "start_time": "2023-03-20T20:50:29.561Z"
      },
      {
        "duration": 5,
        "start_time": "2023-03-20T20:50:29.718Z"
      },
      {
        "duration": 158,
        "start_time": "2023-03-20T20:50:29.724Z"
      },
      {
        "duration": 5,
        "start_time": "2023-03-20T20:50:29.883Z"
      },
      {
        "duration": 146,
        "start_time": "2023-03-20T20:50:29.890Z"
      },
      {
        "duration": 5,
        "start_time": "2023-03-20T20:50:30.038Z"
      },
      {
        "duration": 143,
        "start_time": "2023-03-20T20:50:30.044Z"
      },
      {
        "duration": 5,
        "start_time": "2023-03-20T20:50:30.188Z"
      },
      {
        "duration": 187,
        "start_time": "2023-03-20T20:50:30.194Z"
      },
      {
        "duration": 5,
        "start_time": "2023-03-20T20:50:30.383Z"
      },
      {
        "duration": 172,
        "start_time": "2023-03-20T20:50:30.390Z"
      },
      {
        "duration": 5,
        "start_time": "2023-03-20T20:50:30.563Z"
      },
      {
        "duration": 219,
        "start_time": "2023-03-20T20:50:30.569Z"
      },
      {
        "duration": 6,
        "start_time": "2023-03-20T20:50:30.790Z"
      },
      {
        "duration": 192,
        "start_time": "2023-03-20T20:50:30.798Z"
      },
      {
        "duration": 6,
        "start_time": "2023-03-20T20:50:30.992Z"
      },
      {
        "duration": 41,
        "start_time": "2023-03-20T20:50:30.999Z"
      },
      {
        "duration": 264,
        "start_time": "2023-03-20T20:50:31.041Z"
      },
      {
        "duration": 251,
        "start_time": "2023-03-20T20:50:31.307Z"
      },
      {
        "duration": 4,
        "start_time": "2023-03-20T20:50:31.560Z"
      },
      {
        "duration": 26,
        "start_time": "2023-03-20T20:50:31.566Z"
      },
      {
        "duration": 26,
        "start_time": "2023-03-20T20:50:31.594Z"
      },
      {
        "duration": 28,
        "start_time": "2023-03-20T20:50:31.622Z"
      },
      {
        "duration": 269,
        "start_time": "2023-03-20T20:50:31.652Z"
      },
      {
        "duration": 7,
        "start_time": "2023-03-20T20:50:31.924Z"
      },
      {
        "duration": 42,
        "start_time": "2023-03-20T20:50:31.933Z"
      },
      {
        "duration": 208,
        "start_time": "2023-03-20T20:50:31.977Z"
      },
      {
        "duration": 8,
        "start_time": "2023-03-20T20:50:32.186Z"
      },
      {
        "duration": 33,
        "start_time": "2023-03-20T20:50:32.195Z"
      },
      {
        "duration": 13,
        "start_time": "2023-03-20T20:50:32.230Z"
      },
      {
        "duration": 14,
        "start_time": "2023-03-20T20:50:32.244Z"
      },
      {
        "duration": 18,
        "start_time": "2023-03-20T20:50:32.260Z"
      },
      {
        "duration": 9,
        "start_time": "2023-03-20T20:50:32.280Z"
      },
      {
        "duration": 23,
        "start_time": "2023-03-20T20:50:32.291Z"
      },
      {
        "duration": 2,
        "start_time": "2023-03-20T20:53:40.527Z"
      },
      {
        "duration": 249,
        "start_time": "2023-03-20T20:54:04.685Z"
      },
      {
        "duration": 258,
        "start_time": "2023-03-20T20:54:55.726Z"
      },
      {
        "duration": 256,
        "start_time": "2023-03-20T20:55:31.428Z"
      },
      {
        "duration": 258,
        "start_time": "2023-03-20T20:55:40.187Z"
      },
      {
        "duration": 82,
        "start_time": "2023-03-20T21:45:00.559Z"
      },
      {
        "duration": 7,
        "start_time": "2023-03-20T21:45:54.998Z"
      },
      {
        "duration": 176,
        "start_time": "2023-03-20T21:47:00.130Z"
      },
      {
        "duration": 27,
        "start_time": "2023-03-20T21:48:01.911Z"
      },
      {
        "duration": 508,
        "start_time": "2023-03-20T21:49:01.097Z"
      },
      {
        "duration": 239,
        "start_time": "2023-03-20T21:49:09.597Z"
      },
      {
        "duration": 295,
        "start_time": "2023-03-20T21:49:26.337Z"
      },
      {
        "duration": 264,
        "start_time": "2023-03-20T21:49:31.196Z"
      },
      {
        "duration": 259,
        "start_time": "2023-03-20T21:49:36.719Z"
      },
      {
        "duration": 282,
        "start_time": "2023-03-20T21:50:07.620Z"
      },
      {
        "duration": 302,
        "start_time": "2023-03-20T21:50:13.134Z"
      },
      {
        "duration": 276,
        "start_time": "2023-03-20T21:50:20.538Z"
      },
      {
        "duration": 311,
        "start_time": "2023-03-20T21:50:26.438Z"
      },
      {
        "duration": 271,
        "start_time": "2023-03-20T21:50:37.149Z"
      },
      {
        "duration": 10,
        "start_time": "2023-03-20T22:19:42.867Z"
      },
      {
        "duration": 631,
        "start_time": "2023-03-20T22:19:51.024Z"
      },
      {
        "duration": 8,
        "start_time": "2023-03-20T22:20:15.576Z"
      },
      {
        "duration": 6,
        "start_time": "2023-03-20T22:20:22.906Z"
      },
      {
        "duration": 8,
        "start_time": "2023-03-20T22:20:46.406Z"
      },
      {
        "duration": 9,
        "start_time": "2023-03-20T22:21:41.088Z"
      },
      {
        "duration": 3,
        "start_time": "2023-03-20T22:51:15.138Z"
      },
      {
        "duration": 60,
        "start_time": "2023-03-20T22:51:15.145Z"
      },
      {
        "duration": 17,
        "start_time": "2023-03-20T22:51:15.207Z"
      },
      {
        "duration": 9,
        "start_time": "2023-03-20T22:51:15.226Z"
      },
      {
        "duration": 20,
        "start_time": "2023-03-20T22:51:15.237Z"
      },
      {
        "duration": 14,
        "start_time": "2023-03-20T22:51:15.259Z"
      },
      {
        "duration": 15,
        "start_time": "2023-03-20T22:51:15.275Z"
      },
      {
        "duration": 10,
        "start_time": "2023-03-20T22:51:15.292Z"
      },
      {
        "duration": 7,
        "start_time": "2023-03-20T22:51:15.303Z"
      },
      {
        "duration": 11,
        "start_time": "2023-03-20T22:51:15.312Z"
      },
      {
        "duration": 15,
        "start_time": "2023-03-20T22:51:15.326Z"
      },
      {
        "duration": 27,
        "start_time": "2023-03-20T22:51:15.342Z"
      },
      {
        "duration": 3,
        "start_time": "2023-03-20T22:51:15.371Z"
      },
      {
        "duration": 12,
        "start_time": "2023-03-20T22:51:15.376Z"
      },
      {
        "duration": 5,
        "start_time": "2023-03-20T22:51:15.390Z"
      },
      {
        "duration": 95,
        "start_time": "2023-03-20T22:51:15.396Z"
      },
      {
        "duration": 5,
        "start_time": "2023-03-20T22:51:15.493Z"
      },
      {
        "duration": 20,
        "start_time": "2023-03-20T22:51:15.500Z"
      },
      {
        "duration": 164,
        "start_time": "2023-03-20T22:51:15.522Z"
      },
      {
        "duration": 192,
        "start_time": "2023-03-20T22:51:15.689Z"
      },
      {
        "duration": 7,
        "start_time": "2023-03-20T22:51:15.883Z"
      },
      {
        "duration": 24,
        "start_time": "2023-03-20T22:51:15.892Z"
      },
      {
        "duration": 254,
        "start_time": "2023-03-20T22:51:15.918Z"
      },
      {
        "duration": 5,
        "start_time": "2023-03-20T22:51:16.174Z"
      },
      {
        "duration": 253,
        "start_time": "2023-03-20T22:51:16.181Z"
      },
      {
        "duration": 23,
        "start_time": "2023-03-20T22:51:16.436Z"
      },
      {
        "duration": 3,
        "start_time": "2023-03-20T22:51:16.461Z"
      },
      {
        "duration": 278,
        "start_time": "2023-03-20T22:51:16.466Z"
      },
      {
        "duration": 4,
        "start_time": "2023-03-20T22:51:16.746Z"
      },
      {
        "duration": 21,
        "start_time": "2023-03-20T22:51:16.759Z"
      },
      {
        "duration": 3,
        "start_time": "2023-03-20T22:51:16.781Z"
      },
      {
        "duration": 262,
        "start_time": "2023-03-20T22:51:16.785Z"
      },
      {
        "duration": 270,
        "start_time": "2023-03-20T22:51:17.048Z"
      },
      {
        "duration": 150,
        "start_time": "2023-03-20T22:51:17.320Z"
      },
      {
        "duration": 6,
        "start_time": "2023-03-20T22:51:17.472Z"
      },
      {
        "duration": 170,
        "start_time": "2023-03-20T22:51:17.480Z"
      },
      {
        "duration": 8,
        "start_time": "2023-03-20T22:51:17.653Z"
      },
      {
        "duration": 157,
        "start_time": "2023-03-20T22:51:17.663Z"
      },
      {
        "duration": 6,
        "start_time": "2023-03-20T22:51:17.823Z"
      },
      {
        "duration": 164,
        "start_time": "2023-03-20T22:51:17.831Z"
      },
      {
        "duration": 5,
        "start_time": "2023-03-20T22:51:17.997Z"
      },
      {
        "duration": 143,
        "start_time": "2023-03-20T22:51:18.004Z"
      },
      {
        "duration": 14,
        "start_time": "2023-03-20T22:51:18.149Z"
      },
      {
        "duration": 144,
        "start_time": "2023-03-20T22:51:18.164Z"
      },
      {
        "duration": 5,
        "start_time": "2023-03-20T22:51:18.314Z"
      },
      {
        "duration": 163,
        "start_time": "2023-03-20T22:51:18.321Z"
      },
      {
        "duration": 6,
        "start_time": "2023-03-20T22:51:18.486Z"
      },
      {
        "duration": 156,
        "start_time": "2023-03-20T22:51:18.493Z"
      },
      {
        "duration": 6,
        "start_time": "2023-03-20T22:51:18.658Z"
      },
      {
        "duration": 153,
        "start_time": "2023-03-20T22:51:18.666Z"
      },
      {
        "duration": 6,
        "start_time": "2023-03-20T22:51:18.821Z"
      },
      {
        "duration": 166,
        "start_time": "2023-03-20T22:51:18.829Z"
      },
      {
        "duration": 6,
        "start_time": "2023-03-20T22:51:18.997Z"
      },
      {
        "duration": 13,
        "start_time": "2023-03-20T22:51:19.005Z"
      },
      {
        "duration": 259,
        "start_time": "2023-03-20T22:51:19.020Z"
      },
      {
        "duration": 9,
        "start_time": "2023-03-20T22:51:19.281Z"
      },
      {
        "duration": 189,
        "start_time": "2023-03-20T22:51:19.292Z"
      },
      {
        "duration": 283,
        "start_time": "2023-03-20T22:51:19.483Z"
      },
      {
        "duration": 295,
        "start_time": "2023-03-20T22:51:19.768Z"
      },
      {
        "duration": 241,
        "start_time": "2023-03-20T22:51:20.065Z"
      },
      {
        "duration": 4,
        "start_time": "2023-03-20T22:51:20.308Z"
      },
      {
        "duration": 15,
        "start_time": "2023-03-20T22:51:20.313Z"
      },
      {
        "duration": 10,
        "start_time": "2023-03-20T22:51:20.330Z"
      },
      {
        "duration": 21,
        "start_time": "2023-03-20T22:51:20.341Z"
      },
      {
        "duration": 248,
        "start_time": "2023-03-20T22:51:20.364Z"
      },
      {
        "duration": 7,
        "start_time": "2023-03-20T22:51:20.614Z"
      },
      {
        "duration": 26,
        "start_time": "2023-03-20T22:51:20.623Z"
      },
      {
        "duration": 193,
        "start_time": "2023-03-20T22:51:20.650Z"
      },
      {
        "duration": 14,
        "start_time": "2023-03-20T22:51:20.845Z"
      },
      {
        "duration": 28,
        "start_time": "2023-03-20T22:51:20.860Z"
      },
      {
        "duration": 24,
        "start_time": "2023-03-20T22:51:20.890Z"
      },
      {
        "duration": 19,
        "start_time": "2023-03-20T22:51:20.916Z"
      },
      {
        "duration": 28,
        "start_time": "2023-03-20T22:51:20.937Z"
      },
      {
        "duration": 12,
        "start_time": "2023-03-20T22:51:20.967Z"
      },
      {
        "duration": 8,
        "start_time": "2023-03-20T22:51:20.981Z"
      },
      {
        "duration": 16,
        "start_time": "2023-03-20T22:51:20.990Z"
      },
      {
        "duration": 9,
        "start_time": "2023-03-20T22:51:21.008Z"
      },
      {
        "duration": 147,
        "start_time": "2023-03-20T22:54:38.914Z"
      },
      {
        "duration": 147,
        "start_time": "2023-03-20T22:56:48.425Z"
      },
      {
        "duration": 1152,
        "start_time": "2023-03-21T18:46:48.625Z"
      },
      {
        "duration": 56,
        "start_time": "2023-03-21T18:46:49.779Z"
      },
      {
        "duration": 22,
        "start_time": "2023-03-21T18:46:49.837Z"
      },
      {
        "duration": 3,
        "start_time": "2023-03-21T18:46:49.861Z"
      },
      {
        "duration": 16,
        "start_time": "2023-03-21T18:46:49.867Z"
      },
      {
        "duration": 4,
        "start_time": "2023-03-21T18:46:49.885Z"
      },
      {
        "duration": 36,
        "start_time": "2023-03-21T18:46:49.891Z"
      },
      {
        "duration": 13,
        "start_time": "2023-03-21T18:46:49.929Z"
      },
      {
        "duration": 8,
        "start_time": "2023-03-21T18:46:49.944Z"
      },
      {
        "duration": 13,
        "start_time": "2023-03-21T18:46:49.954Z"
      },
      {
        "duration": 10,
        "start_time": "2023-03-21T18:46:49.968Z"
      },
      {
        "duration": 15,
        "start_time": "2023-03-21T18:46:49.980Z"
      },
      {
        "duration": 28,
        "start_time": "2023-03-21T18:46:49.997Z"
      },
      {
        "duration": 5,
        "start_time": "2023-03-21T18:46:50.029Z"
      },
      {
        "duration": 8,
        "start_time": "2023-03-21T18:46:50.035Z"
      },
      {
        "duration": 91,
        "start_time": "2023-03-21T18:46:50.045Z"
      },
      {
        "duration": 4,
        "start_time": "2023-03-21T18:46:50.138Z"
      },
      {
        "duration": 9,
        "start_time": "2023-03-21T18:46:50.144Z"
      },
      {
        "duration": 219,
        "start_time": "2023-03-21T18:46:50.155Z"
      },
      {
        "duration": 249,
        "start_time": "2023-03-21T18:46:50.376Z"
      },
      {
        "duration": 7,
        "start_time": "2023-03-21T18:46:50.627Z"
      },
      {
        "duration": 3,
        "start_time": "2023-03-21T18:46:50.636Z"
      },
      {
        "duration": 280,
        "start_time": "2023-03-21T18:46:50.640Z"
      },
      {
        "duration": 6,
        "start_time": "2023-03-21T18:46:50.924Z"
      },
      {
        "duration": 256,
        "start_time": "2023-03-21T18:46:50.931Z"
      },
      {
        "duration": 10,
        "start_time": "2023-03-21T18:46:51.189Z"
      },
      {
        "duration": 4,
        "start_time": "2023-03-21T18:46:51.200Z"
      },
      {
        "duration": 273,
        "start_time": "2023-03-21T18:46:51.205Z"
      },
      {
        "duration": 3,
        "start_time": "2023-03-21T18:46:51.480Z"
      },
      {
        "duration": 17,
        "start_time": "2023-03-21T18:46:51.485Z"
      },
      {
        "duration": 2,
        "start_time": "2023-03-21T18:46:51.504Z"
      },
      {
        "duration": 255,
        "start_time": "2023-03-21T18:46:51.523Z"
      },
      {
        "duration": 299,
        "start_time": "2023-03-21T18:46:51.780Z"
      },
      {
        "duration": 230,
        "start_time": "2023-03-21T18:46:52.081Z"
      },
      {
        "duration": 11,
        "start_time": "2023-03-21T18:46:52.313Z"
      },
      {
        "duration": 152,
        "start_time": "2023-03-21T18:46:52.326Z"
      },
      {
        "duration": 4,
        "start_time": "2023-03-21T18:46:52.480Z"
      },
      {
        "duration": 147,
        "start_time": "2023-03-21T18:46:52.486Z"
      },
      {
        "duration": 6,
        "start_time": "2023-03-21T18:46:52.634Z"
      },
      {
        "duration": 157,
        "start_time": "2023-03-21T18:46:52.641Z"
      },
      {
        "duration": 5,
        "start_time": "2023-03-21T18:46:52.804Z"
      },
      {
        "duration": 151,
        "start_time": "2023-03-21T18:46:52.810Z"
      },
      {
        "duration": 5,
        "start_time": "2023-03-21T18:46:52.963Z"
      },
      {
        "duration": 155,
        "start_time": "2023-03-21T18:46:52.970Z"
      },
      {
        "duration": 5,
        "start_time": "2023-03-21T18:46:53.126Z"
      },
      {
        "duration": 161,
        "start_time": "2023-03-21T18:46:53.133Z"
      },
      {
        "duration": 5,
        "start_time": "2023-03-21T18:46:53.296Z"
      },
      {
        "duration": 150,
        "start_time": "2023-03-21T18:46:53.302Z"
      },
      {
        "duration": 5,
        "start_time": "2023-03-21T18:46:53.454Z"
      },
      {
        "duration": 150,
        "start_time": "2023-03-21T18:46:53.460Z"
      },
      {
        "duration": 5,
        "start_time": "2023-03-21T18:46:53.612Z"
      },
      {
        "duration": 143,
        "start_time": "2023-03-21T18:46:53.623Z"
      },
      {
        "duration": 5,
        "start_time": "2023-03-21T18:46:53.768Z"
      },
      {
        "duration": 15,
        "start_time": "2023-03-21T18:46:53.774Z"
      },
      {
        "duration": 246,
        "start_time": "2023-03-21T18:46:53.790Z"
      },
      {
        "duration": 7,
        "start_time": "2023-03-21T18:46:54.037Z"
      },
      {
        "duration": 182,
        "start_time": "2023-03-21T18:46:54.046Z"
      },
      {
        "duration": 361,
        "start_time": "2023-03-21T18:46:54.230Z"
      },
      {
        "duration": 285,
        "start_time": "2023-03-21T18:46:54.593Z"
      },
      {
        "duration": 249,
        "start_time": "2023-03-21T18:46:54.879Z"
      },
      {
        "duration": 5,
        "start_time": "2023-03-21T18:46:55.130Z"
      },
      {
        "duration": 8,
        "start_time": "2023-03-21T18:46:55.136Z"
      },
      {
        "duration": 5,
        "start_time": "2023-03-21T18:46:55.146Z"
      },
      {
        "duration": 14,
        "start_time": "2023-03-21T18:46:55.152Z"
      },
      {
        "duration": 278,
        "start_time": "2023-03-21T18:46:55.167Z"
      },
      {
        "duration": 7,
        "start_time": "2023-03-21T18:46:55.447Z"
      },
      {
        "duration": 12,
        "start_time": "2023-03-21T18:46:55.456Z"
      },
      {
        "duration": 196,
        "start_time": "2023-03-21T18:46:55.469Z"
      },
      {
        "duration": 7,
        "start_time": "2023-03-21T18:46:55.667Z"
      },
      {
        "duration": 9,
        "start_time": "2023-03-21T18:46:55.676Z"
      },
      {
        "duration": 8,
        "start_time": "2023-03-21T18:46:55.687Z"
      },
      {
        "duration": 31,
        "start_time": "2023-03-21T18:46:55.696Z"
      },
      {
        "duration": 11,
        "start_time": "2023-03-21T18:46:55.728Z"
      },
      {
        "duration": 10,
        "start_time": "2023-03-21T18:46:55.740Z"
      },
      {
        "duration": 5,
        "start_time": "2023-03-21T18:46:55.752Z"
      },
      {
        "duration": 11,
        "start_time": "2023-03-21T18:46:55.759Z"
      },
      {
        "duration": 8,
        "start_time": "2023-03-21T18:46:55.771Z"
      }
    ],
    "kernelspec": {
      "display_name": "Python 3 (ipykernel)",
      "language": "python",
      "name": "python3"
    },
    "language_info": {
      "codemirror_mode": {
        "name": "ipython",
        "version": 3
      },
      "file_extension": ".py",
      "mimetype": "text/x-python",
      "name": "python",
      "nbconvert_exporter": "python",
      "pygments_lexer": "ipython3",
      "version": "3.9.5"
    },
    "toc": {
      "base_numbering": 1,
      "nav_menu": {},
      "number_sections": true,
      "sideBar": true,
      "skip_h1_title": true,
      "title_cell": "Table of Contents",
      "title_sidebar": "Contents",
      "toc_cell": false,
      "toc_position": {
        "height": "calc(100% - 180px)",
        "left": "10px",
        "top": "150px",
        "width": "165px"
      },
      "toc_section_display": true,
      "toc_window_display": true
    },
    "colab": {
      "provenance": []
    }
  },
  "nbformat": 4,
  "nbformat_minor": 0
}