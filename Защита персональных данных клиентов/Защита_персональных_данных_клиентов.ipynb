{
  "cells": [
    {
      "cell_type": "markdown",
      "metadata": {
        "toc": true,
        "id": "-f7b7rcXmMg1"
      },
      "source": [
        "<h1>Содержание<span class=\"tocSkip\"></span></h1>\n",
        "<div class=\"toc\"><ul class=\"toc-item\"><li><span><a href=\"#Загрузка-данных\" data-toc-modified-id=\"Загрузка-данных-1\"><span class=\"toc-item-num\">1&nbsp;&nbsp;</span>Загрузка данных</a></span></li><li><span><a href=\"#Умножение-матриц\" data-toc-modified-id=\"Умножение-матриц-2\"><span class=\"toc-item-num\">2&nbsp;&nbsp;</span>Умножение матриц</a></span></li><li><span><a href=\"#Алгоритм-преобразования\" data-toc-modified-id=\"Алгоритм-преобразования-3\"><span class=\"toc-item-num\">3&nbsp;&nbsp;</span>Алгоритм преобразования</a></span></li><li><span><a href=\"#Проверка-алгоритма\" data-toc-modified-id=\"Проверка-алгоритма-4\"><span class=\"toc-item-num\">4&nbsp;&nbsp;</span>Проверка алгоритма</a></span><ul class=\"toc-item\"><li><span><a href=\"#Линейная-регрессия-до-преобразования-персональных-данных\" data-toc-modified-id=\"Линейная-регрессия-до-преобразования-персональных-данных-4.1\"><span class=\"toc-item-num\">4.1&nbsp;&nbsp;</span>Линейная регрессия до преобразования персональных данных</a></span></li><li><span><a href=\"#Создание-матрицы-и-получение-преобразованных-признаков\" data-toc-modified-id=\"Создание-матрицы-и-получение-преобразованных-признаков-4.2\"><span class=\"toc-item-num\">4.2&nbsp;&nbsp;</span>Создание матрицы и получение преобразованных признаков</a></span></li><li><span><a href=\"#Линейная-регрессия-после-преобразования-персональных-данных\" data-toc-modified-id=\"Линейная-регрессия-после-преобразования-персональных-данных-4.3\"><span class=\"toc-item-num\">4.3&nbsp;&nbsp;</span>Линейная регрессия после преобразования персональных данных</a></span></li><li><span><a href=\"#Вывод\" data-toc-modified-id=\"Вывод-4.4\"><span class=\"toc-item-num\">4.4&nbsp;&nbsp;</span>Вывод</a></span></li></ul></li><li><span><a href=\"#Чек-лист-проверки\" data-toc-modified-id=\"Чек-лист-проверки-5\"><span class=\"toc-item-num\">5&nbsp;&nbsp;</span>Чек-лист проверки</a></span></li></ul></div>"
      ]
    },
    {
      "cell_type": "markdown",
      "metadata": {
        "id": "3B_LriR-mMg2"
      },
      "source": [
        "# Защита персональных данных клиентов"
      ]
    },
    {
      "cell_type": "markdown",
      "metadata": {
        "id": "8TcaiiQhmMg2"
      },
      "source": [
        "Вам нужно защитить данные клиентов страховой компании «Хоть потоп». Разработайте такой метод преобразования данных, чтобы по ним было сложно восстановить персональную информацию. Обоснуйте корректность его работы.\n",
        "\n",
        "Нужно защитить данные, чтобы при преобразовании качество моделей машинного обучения не ухудшилось. Подбирать наилучшую модель не требуется."
      ]
    },
    {
      "cell_type": "markdown",
      "metadata": {
        "id": "KREWP5tAmMg3"
      },
      "source": [
        "## Загрузка данных"
      ]
    },
    {
      "cell_type": "code",
      "execution_count": null,
      "metadata": {
        "id": "IgqZuuQjmMg3"
      },
      "outputs": [],
      "source": [
        "import pandas as pd\n",
        "import numpy as np\n",
        "from sklearn.model_selection import train_test_split\n",
        "from sklearn.linear_model import LinearRegression\n",
        "from sklearn.metrics import r2_score"
      ]
    },
    {
      "cell_type": "markdown",
      "metadata": {
        "id": "A-ybUcx-mMg5"
      },
      "source": [
        "Загрузим и изучим исходные данные:"
      ]
    },
    {
      "cell_type": "code",
      "execution_count": null,
      "metadata": {
        "id": "6_ZioUPomMg5",
        "outputId": "7022a57f-e45b-429b-ce96-c8688a8d12ae"
      },
      "outputs": [
        {
          "data": {
            "text/html": [
              "<div>\n",
              "<style scoped>\n",
              "    .dataframe tbody tr th:only-of-type {\n",
              "        vertical-align: middle;\n",
              "    }\n",
              "\n",
              "    .dataframe tbody tr th {\n",
              "        vertical-align: top;\n",
              "    }\n",
              "\n",
              "    .dataframe thead th {\n",
              "        text-align: right;\n",
              "    }\n",
              "</style>\n",
              "<table border=\"1\" class=\"dataframe\">\n",
              "  <thead>\n",
              "    <tr style=\"text-align: right;\">\n",
              "      <th></th>\n",
              "      <th>Пол</th>\n",
              "      <th>Возраст</th>\n",
              "      <th>Зарплата</th>\n",
              "      <th>Члены семьи</th>\n",
              "      <th>Страховые выплаты</th>\n",
              "    </tr>\n",
              "  </thead>\n",
              "  <tbody>\n",
              "    <tr>\n",
              "      <th>0</th>\n",
              "      <td>1</td>\n",
              "      <td>41.0</td>\n",
              "      <td>49600.0</td>\n",
              "      <td>1</td>\n",
              "      <td>0</td>\n",
              "    </tr>\n",
              "    <tr>\n",
              "      <th>1</th>\n",
              "      <td>0</td>\n",
              "      <td>46.0</td>\n",
              "      <td>38000.0</td>\n",
              "      <td>1</td>\n",
              "      <td>1</td>\n",
              "    </tr>\n",
              "    <tr>\n",
              "      <th>2</th>\n",
              "      <td>0</td>\n",
              "      <td>29.0</td>\n",
              "      <td>21000.0</td>\n",
              "      <td>0</td>\n",
              "      <td>0</td>\n",
              "    </tr>\n",
              "    <tr>\n",
              "      <th>3</th>\n",
              "      <td>0</td>\n",
              "      <td>21.0</td>\n",
              "      <td>41700.0</td>\n",
              "      <td>2</td>\n",
              "      <td>0</td>\n",
              "    </tr>\n",
              "    <tr>\n",
              "      <th>4</th>\n",
              "      <td>1</td>\n",
              "      <td>28.0</td>\n",
              "      <td>26100.0</td>\n",
              "      <td>0</td>\n",
              "      <td>0</td>\n",
              "    </tr>\n",
              "  </tbody>\n",
              "</table>\n",
              "</div>"
            ],
            "text/plain": [
              "   Пол  Возраст  Зарплата  Члены семьи  Страховые выплаты\n",
              "0    1     41.0   49600.0            1                  0\n",
              "1    0     46.0   38000.0            1                  1\n",
              "2    0     29.0   21000.0            0                  0\n",
              "3    0     21.0   41700.0            2                  0\n",
              "4    1     28.0   26100.0            0                  0"
            ]
          },
          "execution_count": 54,
          "metadata": {},
          "output_type": "execute_result"
        }
      ],
      "source": [
        "data = pd.read_csv('/datasets/insurance.csv')\n",
        "data.head()"
      ]
    },
    {
      "cell_type": "code",
      "execution_count": null,
      "metadata": {
        "id": "AVtcsBhKmMg6",
        "outputId": "7b2069cb-bd80-4925-90f1-ad81dd8c5491"
      },
      "outputs": [
        {
          "name": "stdout",
          "output_type": "stream",
          "text": [
            "<class 'pandas.core.frame.DataFrame'>\n",
            "RangeIndex: 5000 entries, 0 to 4999\n",
            "Data columns (total 5 columns):\n",
            " #   Column             Non-Null Count  Dtype  \n",
            "---  ------             --------------  -----  \n",
            " 0   Пол                5000 non-null   int64  \n",
            " 1   Возраст            5000 non-null   float64\n",
            " 2   Зарплата           5000 non-null   float64\n",
            " 3   Члены семьи        5000 non-null   int64  \n",
            " 4   Страховые выплаты  5000 non-null   int64  \n",
            "dtypes: float64(2), int64(3)\n",
            "memory usage: 195.4 KB\n"
          ]
        }
      ],
      "source": [
        "data.info()"
      ]
    },
    {
      "cell_type": "markdown",
      "metadata": {
        "id": "nljnOxG5mMg6"
      },
      "source": [
        "Пропусков ни в одном из столбцов нет, типы данных подходят для задачи линейной регрессии."
      ]
    },
    {
      "cell_type": "markdown",
      "metadata": {
        "id": "Gkv_ekcLmMg6"
      },
      "source": [
        "Проверим данные на наличие дубликатов:"
      ]
    },
    {
      "cell_type": "code",
      "execution_count": null,
      "metadata": {
        "id": "zV0QnbHqmMg6",
        "outputId": "13c4c700-8e51-4d3d-c815-367264d59b77"
      },
      "outputs": [
        {
          "data": {
            "text/plain": [
              "153"
            ]
          },
          "execution_count": 56,
          "metadata": {},
          "output_type": "execute_result"
        }
      ],
      "source": [
        "data.duplicated().sum()"
      ]
    },
    {
      "cell_type": "code",
      "execution_count": null,
      "metadata": {
        "id": "TPPmrmo_mMg7"
      },
      "outputs": [],
      "source": [
        "data = data.drop_duplicates().reset_index(drop=True)"
      ]
    },
    {
      "cell_type": "code",
      "execution_count": null,
      "metadata": {
        "id": "VuOMhLt2mMg7",
        "outputId": "aad4dad4-578a-461f-dda2-f2f58468a6a7"
      },
      "outputs": [
        {
          "data": {
            "text/plain": [
              "0"
            ]
          },
          "execution_count": 58,
          "metadata": {},
          "output_type": "execute_result"
        }
      ],
      "source": [
        "data.duplicated().sum()"
      ]
    },
    {
      "cell_type": "markdown",
      "metadata": {
        "id": "fZ5iGXwYmMg7"
      },
      "source": [
        "Данные готовы для дальнейшей работы"
      ]
    },
    {
      "cell_type": "markdown",
      "metadata": {
        "id": "3uJlILVgmMg7"
      },
      "source": [
        "## Умножение матриц"
      ]
    },
    {
      "cell_type": "markdown",
      "metadata": {
        "id": "e29G0fqfmMg7"
      },
      "source": [
        "В этом задании вы можете записывать формулы в *Jupyter Notebook.*\n",
        "\n",
        "Чтобы записать формулу внутри текста, окружите её символами доллара \\\\$; если снаружи —  двойными символами \\\\$\\\\$. Эти формулы записываются на языке вёрстки *LaTeX.*\n",
        "\n",
        "Для примера мы записали формулы линейной регрессии. Можете их скопировать и отредактировать, чтобы решить задачу.\n",
        "\n",
        "Работать в *LaTeX* необязательно."
      ]
    },
    {
      "cell_type": "markdown",
      "metadata": {
        "id": "7IvD8qtLmMg7"
      },
      "source": [
        "Обозначения:\n",
        "\n",
        "- $X$ — матрица признаков (нулевой столбец состоит из единиц)\n",
        "\n",
        "- $y$ — вектор целевого признака\n",
        "\n",
        "- $P$ — матрица, на которую умножаются признаки\n",
        "\n",
        "- $w$ — вектор весов линейной регрессии (нулевой элемент равен сдвигу)"
      ]
    },
    {
      "cell_type": "markdown",
      "metadata": {
        "id": "uP8IoTiCmMg7"
      },
      "source": [
        "Предсказания:\n",
        "\n",
        "$$\n",
        "a = Xw\n",
        "$$\n",
        "\n",
        "Задача обучения:\n",
        "\n",
        "$$\n",
        "w = \\arg\\min_w MSE(Xw, y)\n",
        "$$\n",
        "\n",
        "Формула обучения:\n",
        "\n",
        "$$\n",
        "w = (X^T X)^{-1} X^T y\n",
        "$$"
      ]
    },
    {
      "cell_type": "code",
      "execution_count": null,
      "metadata": {
        "id": "39xCFz70mMg7"
      },
      "outputs": [],
      "source": []
    },
    {
      "cell_type": "markdown",
      "metadata": {
        "id": "G8DOEeDdmMg8"
      },
      "source": [
        "**Ответ:** Качество линейной регрессии не изменится."
      ]
    },
    {
      "cell_type": "markdown",
      "metadata": {
        "id": "HlVXstPtmMg8"
      },
      "source": [
        "**Обоснование:** Качество линейной регрессии не изменится при умножении признаков на обратимую матрицу, так как в данном случае признаки не исчезают и не пропадают, а просто переходят в новые линейно независимые признаки (происходит преобразование исходных признаков в новые). А предсказания модели не изменятся, в следствие того, что пространство и ранги матрицы признаков также останутся неизменными, просто в новых координатах."
      ]
    },
    {
      "cell_type": "code",
      "execution_count": null,
      "metadata": {
        "id": "LK-BMtnmmMg8"
      },
      "outputs": [],
      "source": []
    },
    {
      "cell_type": "markdown",
      "metadata": {
        "id": "mOlEgkgimMg8"
      },
      "source": [
        "$$\n",
        "a = Xw\n",
        "$$\n",
        "\n",
        "$$\n",
        "a = X(X^T X)^{-1} X^T y = XX^{-1}(X^T)^{-1}X^Ty = y\n",
        "$$\n",
        "\n",
        "$$\n",
        "a_1 = XPw_1\n",
        "$$\n",
        "\n",
        "$$\n",
        "w_1 = ((XP)^T (XP))^{-1} (XP)^T y\n",
        "$$"
      ]
    },
    {
      "cell_type": "markdown",
      "metadata": {
        "id": "OAlmr2z2mMg8"
      },
      "source": [
        "$$\n",
        "a_1 = XP ((XP)^T (XP))^{-1} (XP)^T y\n",
        "$$\n",
        "\n",
        "$$\n",
        "a_1 = XP P^{-1} ((XP)^T X)^{-1} P^T X^T y\n",
        "$$\n",
        "\n",
        "$$\n",
        "a_1 = XP P^{-1} (P^T X^T X)^{-1} P^T X^T y\n",
        "$$\n",
        "\n",
        "$$\n",
        "a_1 = XP P^{-1} (X^T X)^{-1} (P^T)^{-1} P^T X^T y\n",
        "$$\n",
        "\n",
        "$$\n",
        "a_1 = XP P^{-1} (X^T X)^{-1} X^T y\n",
        "$$\n",
        "\n",
        "$$\n",
        "a_1 = XP P^{-1} w = Xw\n",
        "$$\n",
        "\n",
        "$$\n",
        "a_1 = a = Xw\n",
        "$$"
      ]
    },
    {
      "cell_type": "markdown",
      "metadata": {
        "id": "UKga4KTimMg8"
      },
      "source": [
        "Параметры модели будут связаны с параметрами исходной модели линейным преобразованием, которое не изменяет качество модели."
      ]
    },
    {
      "cell_type": "markdown",
      "metadata": {
        "id": "llzW-aWHmMg9"
      },
      "source": [
        "## Алгоритм преобразования"
      ]
    },
    {
      "cell_type": "markdown",
      "metadata": {
        "id": "sqwGmGirmMg9"
      },
      "source": [
        "**Алгоритм**\n",
        "\n",
        "1. Создание случайно сгенерированной квадратной обратимой матрицы Р.\n",
        "2. Проверка матрицы Р на обратимость.\n",
        "3. Умножение матрицы признаков Х на полученную матрицу Р.\n",
        "4. Обучение и сравнение качества модели до и после преобразования."
      ]
    },
    {
      "cell_type": "markdown",
      "metadata": {
        "id": "NQW1rAEEmMg9"
      },
      "source": [
        "**Обоснование**\n",
        "\n",
        "Качество модели линейной регрессии не изменится, поскольку умножение признаков на обратимую матрицу не меняет их линейной зависимости и не приводит к потере информации. Исходные признаки только поменяют свои координаты в пространстве, а их линейные коэффициенты не изменятся и не изменят качество модели."
      ]
    },
    {
      "cell_type": "markdown",
      "metadata": {
        "id": "iOV_6LpbmMg9"
      },
      "source": [
        "## Проверка алгоритма"
      ]
    },
    {
      "cell_type": "markdown",
      "metadata": {
        "id": "-c1D-WHNmMg9"
      },
      "source": [
        "Определим признаки и целевую переменную и проверим их размерность:"
      ]
    },
    {
      "cell_type": "code",
      "execution_count": null,
      "metadata": {
        "id": "bUdlZfDNmMhE"
      },
      "outputs": [],
      "source": [
        "X = data.drop('Страховые выплаты', axis=1)   # матирца признаков (features)\n",
        "y = data['Страховые выплаты']    # целевой признак"
      ]
    },
    {
      "cell_type": "code",
      "execution_count": null,
      "metadata": {
        "id": "P1MKcAC7mMhE",
        "outputId": "e8a0b795-dd31-4566-e9c7-1047fe8f4f79"
      },
      "outputs": [
        {
          "data": {
            "text/plain": [
              "(4847, 4)"
            ]
          },
          "metadata": {},
          "output_type": "display_data"
        },
        {
          "data": {
            "text/plain": [
              "(4847,)"
            ]
          },
          "execution_count": 60,
          "metadata": {},
          "output_type": "execute_result"
        }
      ],
      "source": [
        "display(X.shape)\n",
        "y.shape"
      ]
    },
    {
      "cell_type": "markdown",
      "metadata": {
        "id": "tlsSGpk0mMhE"
      },
      "source": [
        "### Линейная регрессия до преобразования персональных данных"
      ]
    },
    {
      "cell_type": "markdown",
      "metadata": {
        "id": "8XWOMDSSmMhF"
      },
      "source": [
        "Разделим данные на обучающую и тестовую выборки:"
      ]
    },
    {
      "cell_type": "code",
      "execution_count": null,
      "metadata": {
        "id": "zOJuIxdjmMhF"
      },
      "outputs": [],
      "source": [
        "X_train, X_test, y_train, y_test = train_test_split(\n",
        "    X, y, test_size=0.25, random_state=12345)"
      ]
    },
    {
      "cell_type": "code",
      "execution_count": null,
      "metadata": {
        "id": "A7vVBWwfmMhF",
        "outputId": "532ed3d7-4605-4be2-b473-793570cfe3a3"
      },
      "outputs": [
        {
          "data": {
            "text/plain": [
              "(3635, 4)"
            ]
          },
          "metadata": {},
          "output_type": "display_data"
        },
        {
          "data": {
            "text/plain": [
              "(1212, 4)"
            ]
          },
          "metadata": {},
          "output_type": "display_data"
        },
        {
          "data": {
            "text/plain": [
              "(3635,)"
            ]
          },
          "metadata": {},
          "output_type": "display_data"
        },
        {
          "data": {
            "text/plain": [
              "(1212,)"
            ]
          },
          "metadata": {},
          "output_type": "display_data"
        }
      ],
      "source": [
        "display(X_train.shape)\n",
        "display(X_test.shape)\n",
        "display(y_train.shape)\n",
        "display(y_test.shape)"
      ]
    },
    {
      "cell_type": "markdown",
      "metadata": {
        "id": "yssDJ5WCmMhF"
      },
      "source": [
        "Обучим модель и получим ее качество на первоначальных данных:"
      ]
    },
    {
      "cell_type": "code",
      "execution_count": null,
      "metadata": {
        "id": "FB30qYsWmMhF",
        "outputId": "46ad0d3f-dcbd-40fb-e2be-d4df5e31e89d"
      },
      "outputs": [
        {
          "name": "stdout",
          "output_type": "stream",
          "text": [
            "Значения R^2 до преобразований: 0.42307727492147584\n"
          ]
        }
      ],
      "source": [
        "model = LinearRegression()\n",
        "model.fit(X_train, y_train)\n",
        "prediction = model.predict(X_test)\n",
        "r2_before = r2_score(y_test, prediction)\n",
        "print('Значения R^2 до преобразований:', r2_before)"
      ]
    },
    {
      "cell_type": "markdown",
      "metadata": {
        "id": "1F4CimmfmMhF"
      },
      "source": [
        "### Создание матрицы и получение преобразованных признаков"
      ]
    },
    {
      "cell_type": "markdown",
      "metadata": {
        "id": "fvnCOby5mMhG"
      },
      "source": [
        "Получим случайную квадратную матрицу, размер которой соответствует количеству столбцов в исходной матрице признаков:"
      ]
    },
    {
      "cell_type": "code",
      "execution_count": null,
      "metadata": {
        "id": "BpT6LN4amMhG",
        "outputId": "fc29caca-e64a-4500-a2a5-b08251aa717f"
      },
      "outputs": [
        {
          "data": {
            "text/plain": [
              "array([[-43.04432784,  -0.16376806, -65.09721424,  39.04752963],\n",
              "       [-28.66118099, -53.98655194, -23.26209827, -19.25141672],\n",
              "       [ 26.94754362,  14.65956164,  12.34174419,   7.17302319],\n",
              "       [ 38.09358777,  29.95688835,  24.49223473, -29.59752552]])"
            ]
          },
          "execution_count": 65,
          "metadata": {},
          "output_type": "execute_result"
        }
      ],
      "source": [
        "P = np.random.normal(1, 30, (X.shape[1], X.shape[1]))\n",
        "P"
      ]
    },
    {
      "cell_type": "markdown",
      "metadata": {
        "id": "yqYSDT39mMhG"
      },
      "source": [
        "Проверим полученную матрицу на обратимость:"
      ]
    },
    {
      "cell_type": "code",
      "execution_count": null,
      "metadata": {
        "id": "PiKgl4HtmMhG",
        "outputId": "ba8d4ad9-0220-4482-debd-0919239dc2be"
      },
      "outputs": [
        {
          "data": {
            "text/plain": [
              "array([[ 0.00695081,  0.02066058,  0.05677086,  0.00949016],\n",
              "       [ 0.00633976, -0.01893596, -0.02923294,  0.01359598],\n",
              "       [-0.02136196, -0.01818747, -0.02260543, -0.02183109],\n",
              "       [-0.00231443, -0.00762492,  0.02477302, -0.02587665]])"
            ]
          },
          "execution_count": 66,
          "metadata": {},
          "output_type": "execute_result"
        }
      ],
      "source": [
        "P1 = np.linalg.inv(P)\n",
        "P1"
      ]
    },
    {
      "cell_type": "code",
      "execution_count": null,
      "metadata": {
        "id": "NLdRdYLXmMhG",
        "outputId": "728dd96d-cb42-4ecb-949f-d152a083b587"
      },
      "outputs": [
        {
          "data": {
            "text/plain": [
              "array([[ 1.00000000e+00,  1.53261271e-16,  6.00850949e-16,\n",
              "         4.05432646e-17],\n",
              "       [-8.14982969e-17,  1.00000000e+00,  1.80070160e-16,\n",
              "        -1.62020206e-16],\n",
              "       [ 1.23081720e-17,  2.65690305e-17,  1.00000000e+00,\n",
              "        -1.92724682e-17],\n",
              "       [-6.92105627e-17, -1.30196116e-16, -2.25447563e-16,\n",
              "         1.00000000e+00]])"
            ]
          },
          "execution_count": 67,
          "metadata": {},
          "output_type": "execute_result"
        }
      ],
      "source": [
        "np.dot(P, P1)"
      ]
    },
    {
      "cell_type": "markdown",
      "metadata": {
        "id": "hcYuzisZmMhH"
      },
      "source": [
        "Умножим исходные данные на полученную матрицу, чтобы получить новые зашифрованные персональные данные:"
      ]
    },
    {
      "cell_type": "code",
      "execution_count": null,
      "metadata": {
        "id": "peHQKhdomMhH",
        "outputId": "eea985d7-bfdf-4d77-9183-54db00d08798"
      },
      "outputs": [
        {
          "data": {
            "text/plain": [
              "array([[1335418.104405  ,  724930.60191893,  611156.1608208 ,\n",
              "         355002.09207731],\n",
              "       [1022726.33683273,  554609.9178836 ,  467940.71493845,\n",
              "         271659.71847537],\n",
              "       [ 565067.2417771 ,  306285.18446937,  258502.02714246,\n",
              "         150075.1958775 ],\n",
              "       ...,\n",
              "       [ 913024.69228305,  495939.32239144,  417968.87054873,\n",
              "         242721.26271093],\n",
              "       [ 880625.36683668,  478269.66843782,  403071.64834455,\n",
              "         234084.58205518],\n",
              "       [1093262.80717538,  593696.37231888,  500382.87038733,\n",
              "         290695.15179651]])"
            ]
          },
          "execution_count": 68,
          "metadata": {},
          "output_type": "execute_result"
        }
      ],
      "source": [
        "X2 = X.values @ P\n",
        "X2"
      ]
    },
    {
      "cell_type": "markdown",
      "metadata": {
        "id": "LHmcbZKzmMhH"
      },
      "source": [
        "### Линейная регрессия после преобразования персональных данных"
      ]
    },
    {
      "cell_type": "code",
      "execution_count": null,
      "metadata": {
        "id": "Rub35_FFmMhH"
      },
      "outputs": [],
      "source": [
        "X2_train, X2_test, y_train, y_test = train_test_split(\n",
        "    X2, y, test_size=0.25, random_state=12345)"
      ]
    },
    {
      "cell_type": "code",
      "execution_count": null,
      "metadata": {
        "id": "5zeDHNwMmMhH",
        "outputId": "adeae2cc-98e7-4737-fd33-0632f02825a8"
      },
      "outputs": [
        {
          "data": {
            "text/plain": [
              "(3635, 4)"
            ]
          },
          "metadata": {},
          "output_type": "display_data"
        },
        {
          "data": {
            "text/plain": [
              "(1212, 4)"
            ]
          },
          "metadata": {},
          "output_type": "display_data"
        },
        {
          "data": {
            "text/plain": [
              "(3635,)"
            ]
          },
          "metadata": {},
          "output_type": "display_data"
        },
        {
          "data": {
            "text/plain": [
              "(1212,)"
            ]
          },
          "metadata": {},
          "output_type": "display_data"
        }
      ],
      "source": [
        "display(X2_train.shape)\n",
        "display(X2_test.shape)\n",
        "display(y_train.shape)\n",
        "display(y_test.shape)"
      ]
    },
    {
      "cell_type": "code",
      "execution_count": null,
      "metadata": {
        "id": "2VeyTfNGmMhH",
        "outputId": "09fe614b-d28f-4612-c652-7056f92390e1"
      },
      "outputs": [
        {
          "name": "stdout",
          "output_type": "stream",
          "text": [
            "Значения R^2 после преобразований: 0.4230772749215974\n"
          ]
        }
      ],
      "source": [
        "model = LinearRegression()\n",
        "model.fit(X2_train, y_train)\n",
        "prediction = model.predict(X2_test)\n",
        "r2_after = r2_score(y_test, prediction)\n",
        "print('Значения R^2 после преобразований:', r2_after)"
      ]
    },
    {
      "cell_type": "markdown",
      "metadata": {
        "id": "rujMUbgTmMhH"
      },
      "source": [
        "Сравним качество до и после преобразования:"
      ]
    },
    {
      "cell_type": "code",
      "execution_count": null,
      "metadata": {
        "id": "5F6r91yHmMhI",
        "outputId": "27a54a7e-587e-4ed4-8b7b-11b7c953cfad"
      },
      "outputs": [
        {
          "name": "stdout",
          "output_type": "stream",
          "text": [
            "Значения R^2 до преобразований: 0.42307727492147584\n",
            "Значения R^2 после преобразований: 0.4230772749215974\n"
          ]
        }
      ],
      "source": [
        "print('Значения R^2 до преобразований:', r2_before)\n",
        "print('Значения R^2 после преобразований:', r2_after)"
      ]
    },
    {
      "cell_type": "markdown",
      "metadata": {
        "id": "rcL_rCy7mMhI"
      },
      "source": [
        "Качество модели не изменилось."
      ]
    },
    {
      "cell_type": "markdown",
      "metadata": {
        "id": "oav9ORHvmMhI"
      },
      "source": [
        "### Вывод"
      ]
    },
    {
      "cell_type": "markdown",
      "metadata": {
        "id": "c1rj27H9mMhI"
      },
      "source": [
        "В ходе проекта был разработан метод шифрования, при котором сложно восстановить персональную информацию и который не влияет на качество регрессионной модели."
      ]
    },
    {
      "cell_type": "code",
      "execution_count": null,
      "metadata": {
        "id": "rn5akeCFmMhJ"
      },
      "outputs": [],
      "source": []
    }
  ],
  "metadata": {
    "ExecuteTimeLog": [
      {
        "duration": 1172,
        "start_time": "2023-06-07T17:35:15.038Z"
      },
      {
        "duration": 165,
        "start_time": "2023-06-07T17:35:51.650Z"
      },
      {
        "duration": 12,
        "start_time": "2023-06-07T17:50:39.318Z"
      },
      {
        "duration": 5,
        "start_time": "2023-06-07T17:50:58.487Z"
      },
      {
        "duration": 8,
        "start_time": "2023-06-07T17:52:34.291Z"
      },
      {
        "duration": 8,
        "start_time": "2023-06-07T17:52:46.568Z"
      },
      {
        "duration": 7,
        "start_time": "2023-06-07T17:52:51.997Z"
      },
      {
        "duration": 10,
        "start_time": "2023-06-07T17:53:02.527Z"
      },
      {
        "duration": 16,
        "start_time": "2023-06-07T17:53:29.798Z"
      },
      {
        "duration": 6,
        "start_time": "2023-06-07T17:55:06.990Z"
      },
      {
        "duration": 16,
        "start_time": "2023-06-07T17:55:32.480Z"
      },
      {
        "duration": 6,
        "start_time": "2023-06-07T17:55:49.345Z"
      },
      {
        "duration": 6,
        "start_time": "2023-06-07T17:56:00.620Z"
      },
      {
        "duration": 46,
        "start_time": "2023-06-07T19:27:06.397Z"
      },
      {
        "duration": 1928,
        "start_time": "2023-06-08T09:57:12.548Z"
      },
      {
        "duration": 231,
        "start_time": "2023-06-08T09:57:14.479Z"
      },
      {
        "duration": 35,
        "start_time": "2023-06-08T09:57:14.716Z"
      },
      {
        "duration": 12,
        "start_time": "2023-06-08T09:57:14.759Z"
      },
      {
        "duration": 8,
        "start_time": "2023-06-08T09:57:14.773Z"
      },
      {
        "duration": 12,
        "start_time": "2023-06-08T09:57:14.788Z"
      },
      {
        "duration": 9,
        "start_time": "2023-06-08T11:04:16.174Z"
      },
      {
        "duration": 6,
        "start_time": "2023-06-08T11:04:26.991Z"
      },
      {
        "duration": 10,
        "start_time": "2023-06-08T11:04:32.379Z"
      },
      {
        "duration": 10,
        "start_time": "2023-06-08T11:08:46.158Z"
      },
      {
        "duration": 23,
        "start_time": "2023-06-08T11:09:16.207Z"
      },
      {
        "duration": 35,
        "start_time": "2023-06-08T11:16:19.546Z"
      },
      {
        "duration": 223,
        "start_time": "2023-06-08T11:16:49.206Z"
      },
      {
        "duration": 261,
        "start_time": "2023-06-08T11:16:51.467Z"
      },
      {
        "duration": 59,
        "start_time": "2023-06-08T11:17:09.302Z"
      },
      {
        "duration": 9,
        "start_time": "2023-06-08T11:19:19.014Z"
      },
      {
        "duration": 29,
        "start_time": "2023-06-08T11:20:02.692Z"
      },
      {
        "duration": 25,
        "start_time": "2023-06-08T11:30:18.720Z"
      },
      {
        "duration": 15,
        "start_time": "2023-06-08T11:30:24.684Z"
      },
      {
        "duration": 8,
        "start_time": "2023-06-08T11:30:28.947Z"
      },
      {
        "duration": 12,
        "start_time": "2023-06-08T11:30:34.537Z"
      },
      {
        "duration": 1135,
        "start_time": "2023-06-08T11:35:56.186Z"
      },
      {
        "duration": 13,
        "start_time": "2023-06-08T11:36:36.256Z"
      },
      {
        "duration": 6,
        "start_time": "2023-06-08T11:36:44.011Z"
      },
      {
        "duration": 7,
        "start_time": "2023-06-08T11:36:49.588Z"
      },
      {
        "duration": 13,
        "start_time": "2023-06-08T11:36:55.720Z"
      },
      {
        "duration": 6,
        "start_time": "2023-06-08T11:37:05.707Z"
      },
      {
        "duration": 5,
        "start_time": "2023-06-08T11:37:11.675Z"
      },
      {
        "duration": 14,
        "start_time": "2023-06-08T11:37:18.977Z"
      },
      {
        "duration": 17,
        "start_time": "2023-06-08T11:37:40.378Z"
      },
      {
        "duration": 0,
        "start_time": "2023-06-08T11:42:38.410Z"
      },
      {
        "duration": 7,
        "start_time": "2023-06-08T11:42:44.992Z"
      },
      {
        "duration": 1180,
        "start_time": "2023-06-08T11:42:52.110Z"
      },
      {
        "duration": 50,
        "start_time": "2023-06-08T11:42:53.293Z"
      },
      {
        "duration": 15,
        "start_time": "2023-06-08T11:42:53.345Z"
      },
      {
        "duration": 8,
        "start_time": "2023-06-08T11:42:53.364Z"
      },
      {
        "duration": 8,
        "start_time": "2023-06-08T11:42:53.375Z"
      },
      {
        "duration": 17,
        "start_time": "2023-06-08T11:42:53.386Z"
      },
      {
        "duration": 30,
        "start_time": "2023-06-08T11:42:53.404Z"
      },
      {
        "duration": 8,
        "start_time": "2023-06-08T11:42:53.436Z"
      },
      {
        "duration": 10,
        "start_time": "2023-06-08T11:42:53.446Z"
      },
      {
        "duration": 20,
        "start_time": "2023-06-08T11:42:53.458Z"
      },
      {
        "duration": 12,
        "start_time": "2023-06-08T11:42:53.480Z"
      },
      {
        "duration": 12,
        "start_time": "2023-06-08T11:42:53.494Z"
      },
      {
        "duration": 39,
        "start_time": "2023-06-08T11:42:53.508Z"
      },
      {
        "duration": 17,
        "start_time": "2023-06-08T11:43:29.331Z"
      },
      {
        "duration": 6,
        "start_time": "2023-06-08T11:43:38.592Z"
      },
      {
        "duration": 5,
        "start_time": "2023-06-08T11:44:02.345Z"
      },
      {
        "duration": 6,
        "start_time": "2023-06-08T11:44:03.759Z"
      },
      {
        "duration": 6,
        "start_time": "2023-06-08T11:44:05.143Z"
      },
      {
        "duration": 5,
        "start_time": "2023-06-08T11:44:45.119Z"
      },
      {
        "duration": 5,
        "start_time": "2023-06-08T12:19:13.130Z"
      },
      {
        "duration": 7,
        "start_time": "2023-06-08T12:19:17.338Z"
      },
      {
        "duration": 5,
        "start_time": "2023-06-08T12:19:18.299Z"
      },
      {
        "duration": 6,
        "start_time": "2023-06-08T12:19:19.430Z"
      },
      {
        "duration": 4,
        "start_time": "2023-06-08T12:19:30.671Z"
      },
      {
        "duration": 7,
        "start_time": "2023-06-08T12:19:31.590Z"
      },
      {
        "duration": 5,
        "start_time": "2023-06-08T12:19:32.530Z"
      },
      {
        "duration": 5,
        "start_time": "2023-06-08T12:19:33.338Z"
      },
      {
        "duration": 6,
        "start_time": "2023-06-08T12:20:15.570Z"
      },
      {
        "duration": 6,
        "start_time": "2023-06-08T12:21:12.392Z"
      },
      {
        "duration": 9,
        "start_time": "2023-06-08T12:21:20.151Z"
      },
      {
        "duration": 3,
        "start_time": "2023-06-08T12:23:11.067Z"
      },
      {
        "duration": 7,
        "start_time": "2023-06-08T12:23:18.328Z"
      },
      {
        "duration": 6,
        "start_time": "2023-06-08T12:23:19.279Z"
      },
      {
        "duration": 5,
        "start_time": "2023-06-08T12:23:20.328Z"
      },
      {
        "duration": 49,
        "start_time": "2023-06-08T18:55:00.600Z"
      },
      {
        "duration": 1047,
        "start_time": "2023-06-08T18:55:06.103Z"
      },
      {
        "duration": 110,
        "start_time": "2023-06-08T18:55:07.152Z"
      },
      {
        "duration": 13,
        "start_time": "2023-06-08T18:55:07.264Z"
      },
      {
        "duration": 8,
        "start_time": "2023-06-08T18:55:07.279Z"
      },
      {
        "duration": 12,
        "start_time": "2023-06-08T18:55:07.290Z"
      },
      {
        "duration": 10,
        "start_time": "2023-06-08T18:55:07.303Z"
      },
      {
        "duration": 6,
        "start_time": "2023-06-08T18:55:07.315Z"
      },
      {
        "duration": 31,
        "start_time": "2023-06-08T18:55:07.323Z"
      },
      {
        "duration": 9,
        "start_time": "2023-06-08T18:55:07.356Z"
      },
      {
        "duration": 11,
        "start_time": "2023-06-08T18:55:07.367Z"
      },
      {
        "duration": 10,
        "start_time": "2023-06-08T18:55:07.379Z"
      },
      {
        "duration": 2,
        "start_time": "2023-06-08T18:55:07.391Z"
      },
      {
        "duration": 6,
        "start_time": "2023-06-08T18:55:07.394Z"
      },
      {
        "duration": 50,
        "start_time": "2023-06-08T18:55:07.403Z"
      },
      {
        "duration": 7,
        "start_time": "2023-06-08T18:55:07.455Z"
      },
      {
        "duration": 6,
        "start_time": "2023-06-08T18:55:07.464Z"
      },
      {
        "duration": 4,
        "start_time": "2023-06-08T18:56:39.724Z"
      },
      {
        "duration": 19,
        "start_time": "2023-06-08T18:56:43.075Z"
      },
      {
        "duration": 6,
        "start_time": "2023-06-08T18:56:57.850Z"
      },
      {
        "duration": 4,
        "start_time": "2023-06-08T19:02:52.850Z"
      },
      {
        "duration": 8,
        "start_time": "2023-06-08T19:03:11.373Z"
      },
      {
        "duration": 5,
        "start_time": "2023-06-08T19:03:40.812Z"
      },
      {
        "duration": 9,
        "start_time": "2023-06-08T19:04:02.463Z"
      },
      {
        "duration": 59,
        "start_time": "2023-06-08T19:05:13.092Z"
      },
      {
        "duration": 3,
        "start_time": "2023-06-08T19:05:17.573Z"
      },
      {
        "duration": 43,
        "start_time": "2023-06-08T19:05:17.579Z"
      },
      {
        "duration": 10,
        "start_time": "2023-06-08T19:05:17.624Z"
      },
      {
        "duration": 8,
        "start_time": "2023-06-08T19:05:17.635Z"
      },
      {
        "duration": 5,
        "start_time": "2023-06-08T19:05:17.645Z"
      },
      {
        "duration": 8,
        "start_time": "2023-06-08T19:05:17.652Z"
      },
      {
        "duration": 3,
        "start_time": "2023-06-08T19:05:17.662Z"
      },
      {
        "duration": 17,
        "start_time": "2023-06-08T19:05:17.667Z"
      },
      {
        "duration": 11,
        "start_time": "2023-06-08T19:05:17.686Z"
      },
      {
        "duration": 15,
        "start_time": "2023-06-08T19:05:17.700Z"
      },
      {
        "duration": 9,
        "start_time": "2023-06-08T19:05:17.716Z"
      },
      {
        "duration": 3,
        "start_time": "2023-06-08T19:05:17.751Z"
      },
      {
        "duration": 7,
        "start_time": "2023-06-08T19:05:17.756Z"
      },
      {
        "duration": 7,
        "start_time": "2023-06-08T19:05:17.764Z"
      },
      {
        "duration": 6,
        "start_time": "2023-06-08T19:05:17.774Z"
      },
      {
        "duration": 6,
        "start_time": "2023-06-08T19:05:17.852Z"
      },
      {
        "duration": 5,
        "start_time": "2023-06-08T19:05:17.860Z"
      },
      {
        "duration": 89,
        "start_time": "2023-06-08T19:05:17.867Z"
      },
      {
        "duration": 6,
        "start_time": "2023-06-08T19:05:17.958Z"
      },
      {
        "duration": 4,
        "start_time": "2023-06-08T19:05:17.966Z"
      },
      {
        "duration": 3,
        "start_time": "2023-06-08T19:24:58.138Z"
      },
      {
        "duration": 3,
        "start_time": "2023-06-08T19:25:28.991Z"
      },
      {
        "duration": 6,
        "start_time": "2023-06-08T19:25:32.654Z"
      },
      {
        "duration": 5,
        "start_time": "2023-06-08T19:25:48.450Z"
      },
      {
        "duration": 7,
        "start_time": "2023-06-08T19:25:55.412Z"
      },
      {
        "duration": 3,
        "start_time": "2023-06-08T19:26:02.782Z"
      },
      {
        "duration": 5,
        "start_time": "2023-06-08T19:26:03.700Z"
      },
      {
        "duration": 3,
        "start_time": "2023-06-08T19:30:12.785Z"
      },
      {
        "duration": 43,
        "start_time": "2023-06-08T19:30:12.790Z"
      },
      {
        "duration": 12,
        "start_time": "2023-06-08T19:30:12.835Z"
      },
      {
        "duration": 10,
        "start_time": "2023-06-08T19:30:12.849Z"
      },
      {
        "duration": 19,
        "start_time": "2023-06-08T19:30:12.860Z"
      },
      {
        "duration": 7,
        "start_time": "2023-06-08T19:30:12.881Z"
      },
      {
        "duration": 10,
        "start_time": "2023-06-08T19:30:12.889Z"
      },
      {
        "duration": 20,
        "start_time": "2023-06-08T19:30:12.900Z"
      },
      {
        "duration": 23,
        "start_time": "2023-06-08T19:30:12.923Z"
      },
      {
        "duration": 23,
        "start_time": "2023-06-08T19:30:12.947Z"
      },
      {
        "duration": 19,
        "start_time": "2023-06-08T19:30:12.972Z"
      },
      {
        "duration": 21,
        "start_time": "2023-06-08T19:30:12.992Z"
      },
      {
        "duration": 31,
        "start_time": "2023-06-08T19:30:13.015Z"
      },
      {
        "duration": 40,
        "start_time": "2023-06-08T19:30:13.048Z"
      },
      {
        "duration": 60,
        "start_time": "2023-06-08T19:30:13.091Z"
      },
      {
        "duration": 14,
        "start_time": "2023-06-08T19:30:13.154Z"
      },
      {
        "duration": 83,
        "start_time": "2023-06-08T19:30:13.170Z"
      },
      {
        "duration": 40,
        "start_time": "2023-06-08T19:30:13.255Z"
      },
      {
        "duration": 7,
        "start_time": "2023-06-08T19:30:13.296Z"
      },
      {
        "duration": 5,
        "start_time": "2023-06-08T19:30:13.305Z"
      },
      {
        "duration": 95,
        "start_time": "2023-06-11T14:50:00.584Z"
      }
    ],
    "kernelspec": {
      "display_name": "Python 3 (ipykernel)",
      "language": "python",
      "name": "python3"
    },
    "language_info": {
      "codemirror_mode": {
        "name": "ipython",
        "version": 3
      },
      "file_extension": ".py",
      "mimetype": "text/x-python",
      "name": "python",
      "nbconvert_exporter": "python",
      "pygments_lexer": "ipython3",
      "version": "3.9.5"
    },
    "toc": {
      "base_numbering": 1,
      "nav_menu": {},
      "number_sections": true,
      "sideBar": true,
      "skip_h1_title": true,
      "title_cell": "Содержание",
      "title_sidebar": "Contents",
      "toc_cell": true,
      "toc_position": {
        "height": "calc(100% - 180px)",
        "left": "10px",
        "top": "150px",
        "width": "229.403px"
      },
      "toc_section_display": true,
      "toc_window_display": true
    },
    "colab": {
      "provenance": []
    }
  },
  "nbformat": 4,
  "nbformat_minor": 0
}